{
 "cells": [
  {
   "cell_type": "code",
   "execution_count": null,
   "id": "98a1d139",
   "metadata": {},
   "outputs": [],
   "source": [
    "import math\n",
    "import numpy as np\n",
    "import scipy.stats as stats\n",
    "import matplotlib.pyplot as plt\n",
    "from sklearn.decomposition import PCA\n",
    "\n",
    "import collections\n",
    "from scipy.stats.stats import pearsonr\n",
    "import pandas as pd\n",
    "import os\n",
    "from datetime import date\n",
    "\n",
    "import seaborn as sns\n",
    "import re"
   ]
  },
  {
   "cell_type": "code",
   "execution_count": null,
   "id": "a908420f",
   "metadata": {},
   "outputs": [],
   "source": [
    "# load of the data\n",
    "DATASET_DIR = \"dataset\" + os.path.sep\n",
    "df_tennis = pd.read_csv(DATASET_DIR + 'tennis_matches.csv', sep=',', index_col=0) \n",
    "\n",
    "#index_col=False say to not use the first column as ID\n",
    "df_male = pd.read_csv(DATASET_DIR + 'male_players.csv', sep=',', index_col=False)\n",
    "df_female = pd.read_csv(DATASET_DIR + 'female_players.csv', sep=',', index_col=False) "
   ]
  },
  {
   "cell_type": "markdown",
   "id": "625e9d96",
   "metadata": {},
   "source": [
    "# Data understanding"
   ]
  },
  {
   "cell_type": "markdown",
   "id": "80d511ae",
   "metadata": {},
   "source": [
    "## Print some records of the datasets"
   ]
  },
  {
   "cell_type": "code",
   "execution_count": null,
   "id": "7da9b707",
   "metadata": {},
   "outputs": [],
   "source": [
    "df_tennis.head()"
   ]
  },
  {
   "cell_type": "code",
   "execution_count": null,
   "id": "4d7a8ca8",
   "metadata": {},
   "outputs": [],
   "source": [
    "df_male.head()"
   ]
  },
  {
   "cell_type": "code",
   "execution_count": null,
   "id": "11d16092",
   "metadata": {},
   "outputs": [],
   "source": [
    "df_female.head()"
   ]
  },
  {
   "cell_type": "markdown",
   "id": "dfcd2dc7",
   "metadata": {},
   "source": [
    "## Missing values: Null"
   ]
  },
  {
   "cell_type": "code",
   "execution_count": null,
   "id": "33d8eddc",
   "metadata": {},
   "outputs": [],
   "source": [
    "#info about data that we have for male\n",
    "df_male.info()"
   ]
  },
  {
   "cell_type": "code",
   "execution_count": null,
   "id": "9df3aef0",
   "metadata": {},
   "outputs": [],
   "source": [
    "#number of null in the columns\n",
    "df_male.isnull().sum(axis = 0)"
   ]
  },
  {
   "cell_type": "code",
   "execution_count": null,
   "id": "6eb11a73",
   "metadata": {},
   "outputs": [],
   "source": [
    "df_male.isnull().sum(axis = 0).plot(kind='bar', ylabel=\"number of nulls\")"
   ]
  },
  {
   "cell_type": "markdown",
   "id": "c0595058",
   "metadata": {},
   "source": [
    "So, the male dataframe has 2 columns: name and surname. It has 55208 entries and about 200 null values in total."
   ]
  },
  {
   "cell_type": "code",
   "execution_count": null,
   "id": "96baa8e2",
   "metadata": {},
   "outputs": [],
   "source": [
    "#info about data that we have for female\n",
    "df_female.info()"
   ]
  },
  {
   "cell_type": "code",
   "execution_count": null,
   "id": "1b6f320f",
   "metadata": {},
   "outputs": [],
   "source": [
    "#number of null in the columns\n",
    "df_female.isnull().sum(axis = 0)"
   ]
  },
  {
   "cell_type": "code",
   "execution_count": null,
   "id": "f93db8b4",
   "metadata": {},
   "outputs": [],
   "source": [
    "df_female.isnull().sum(axis = 0).plot(kind='bar', ylabel=\"number of nulls\")"
   ]
  },
  {
   "cell_type": "markdown",
   "id": "79296869",
   "metadata": {},
   "source": [
    "So, the female dataframe has 2 columns: name and surname. It has 46172  entries and 1667 null values in the name, but the surname is never null."
   ]
  },
  {
   "cell_type": "code",
   "execution_count": null,
   "id": "da8b2be2",
   "metadata": {},
   "outputs": [],
   "source": [
    "df_tennis.info()"
   ]
  },
  {
   "cell_type": "code",
   "execution_count": null,
   "id": "68eb3dfe",
   "metadata": {
    "scrolled": false
   },
   "outputs": [],
   "source": [
    "#we see if the attributes have some null values\n",
    "df_tennis.isnull().any()"
   ]
  },
  {
   "cell_type": "code",
   "execution_count": null,
   "id": "7baec242",
   "metadata": {},
   "outputs": [],
   "source": [
    "#since all the attributes has missing values, we count them\n",
    "df_tennis.isnull().sum(axis = 0)"
   ]
  },
  {
   "cell_type": "markdown",
   "id": "692a4620",
   "metadata": {},
   "source": [
    "We can notice that some attributes have very few null values, but other attributes has more than 50% of null values"
   ]
  },
  {
   "cell_type": "code",
   "execution_count": null,
   "id": "9f5170cb",
   "metadata": {},
   "outputs": [],
   "source": [
    "df_tennis.isnull().sum(axis = 0).hist(bins=\"sturges\", grid=False)"
   ]
  },
  {
   "cell_type": "markdown",
   "id": "c78ac53b",
   "metadata": {},
   "source": [
    "## Duplicate data"
   ]
  },
  {
   "cell_type": "code",
   "execution_count": null,
   "id": "09f655da",
   "metadata": {},
   "outputs": [],
   "source": [
    "#we see if there are duplicates in the dataset male and female\n",
    "df_male.duplicated(keep='first').sum()"
   ]
  },
  {
   "cell_type": "code",
   "execution_count": null,
   "id": "862d6e9e",
   "metadata": {},
   "outputs": [],
   "source": [
    "df_female.duplicated(keep='first').sum()"
   ]
  },
  {
   "cell_type": "markdown",
   "id": "458ff006",
   "metadata": {},
   "source": [
    "So, both the datasets of male and female has rows with same name and surname. These rows can be duplicates (so they correspond to the same person) or they can be homonyms. In this latter case we cannot distinguish the matches of one player by the ones of the other player."
   ]
  },
  {
   "cell_type": "code",
   "execution_count": null,
   "id": "f8e225b5",
   "metadata": {},
   "outputs": [],
   "source": [
    "#we remove (only) the duplicated rows\n",
    "df_male_no_dup = df_male.drop_duplicates()\n",
    "df_female_no_dup = df_female.drop_duplicates()"
   ]
  },
  {
   "cell_type": "code",
   "execution_count": null,
   "id": "3c22b05c",
   "metadata": {},
   "outputs": [],
   "source": [
    "#see if a name can be both male and female and manage them\n",
    "df_players = pd.concat([df_male_no_dup, df_female_no_dup])\n",
    "df_players[df_players.duplicated(keep='first')==True]"
   ]
  },
  {
   "cell_type": "code",
   "execution_count": null,
   "id": "f38e7275",
   "metadata": {},
   "outputs": [],
   "source": [
    "df_players.duplicated(keep='first').sum()"
   ]
  },
  {
   "cell_type": "markdown",
   "id": "cb6d0dee",
   "metadata": {},
   "source": [
    "So, there are 74 names for both players male and female."
   ]
  },
  {
   "cell_type": "code",
   "execution_count": null,
   "id": "cc6404cd",
   "metadata": {},
   "outputs": [],
   "source": [
    "df_players[df_players.duplicated(subset=['name', 'surname'], keep='first')==True]"
   ]
  },
  {
   "cell_type": "code",
   "execution_count": null,
   "id": "bc83a1c9",
   "metadata": {},
   "outputs": [],
   "source": [
    "#check if there are duplicated rows in the dataset\n",
    "df_tennis.duplicated(keep='first').sum()"
   ]
  },
  {
   "cell_type": "markdown",
   "id": "edc905e9",
   "metadata": {},
   "source": [
    "## Noise, outliers and data quality (data visualization here)"
   ]
  },
  {
   "cell_type": "markdown",
   "id": "29f1f0a3",
   "metadata": {},
   "source": [
    "|  Categorical  |   Ordinal   |      Numerical     | Ratio-Scaled |\n",
    "|:-------------:|:-----------:|:------------------:|:------------:|\n",
    "|   tournay_id  |  match_num  |      draw_size     |   winner_ht  |\n",
    "|  tournay_name | winner_rank |       minutes      |  winner_age  |\n",
    "|    surface    |             |     winner_ace     |              |\n",
    "| tournay_level |             |      winner_df     |              |\n",
    "|   winner_id   |             |     winner_svpt    |              |\n",
    "|   winner_ioc  |             |    winner_1stln    |              |\n",
    "|  winner_hand  |             |    winner_1stwon   |              |\n",
    "|  winner_entry |             |    winner_2stwon   |              |\n",
    "|    best_of    |             |       w_svgms      |              |\n",
    "|               |             | winner_rank_points |              |\n",
    "|               |             |      w_bdsaved     |              |\n",
    "|               |             |      w_bdfaced     |              |"
   ]
  },
  {
   "cell_type": "markdown",
   "id": "b3280ad7",
   "metadata": {},
   "source": [
    "For each winner attribute there is the loser counterpart"
   ]
  },
  {
   "cell_type": "markdown",
   "id": "91e9cf71",
   "metadata": {},
   "source": [
    "### Invalid characters in names and surnames "
   ]
  },
  {
   "cell_type": "code",
   "execution_count": null,
   "id": "1ee71433",
   "metadata": {},
   "outputs": [],
   "source": [
    "#TO DO: Check that the names in female are for female and not male and viceversa"
   ]
  },
  {
   "cell_type": "code",
   "execution_count": null,
   "id": "6a65e8f1",
   "metadata": {},
   "outputs": [],
   "source": [
    "df_tennis.columns"
   ]
  },
  {
   "cell_type": "code",
   "execution_count": null,
   "id": "92e4c215",
   "metadata": {},
   "outputs": [],
   "source": [
    "#see if all the names and surnames are valid (only letters)\n",
    "df_male[df_male['surname'].str.count(\"[a-zA-Z '.-]\")!=df_male['surname'].str.len()]"
   ]
  },
  {
   "cell_type": "code",
   "execution_count": null,
   "id": "9011bf3d",
   "metadata": {},
   "outputs": [],
   "source": [
    "df_male[df_male['name'].str.count(\"[a-zA-Z ',.-]\")!=df_male['name'].str.len()]"
   ]
  },
  {
   "cell_type": "code",
   "execution_count": null,
   "id": "56b6b4a2",
   "metadata": {},
   "outputs": [],
   "source": [
    "df_check_name = df_male[~df_male['name'].isna()]\n",
    "df_check_name[df_check_name['name'].str.contains(',')]"
   ]
  },
  {
   "cell_type": "code",
   "execution_count": null,
   "id": "50ba978d",
   "metadata": {},
   "outputs": [],
   "source": [
    "#unknown names\n",
    "print(\"Unknown name: \", df_male[df_male['name'].str.lower()=='unknown'].shape[0])\n",
    "#unknown surnames\n",
    "print(\"Unknown surname: \", df_male[df_male['surname'].str.lower()=='unknown'].shape[0])"
   ]
  },
  {
   "cell_type": "code",
   "execution_count": null,
   "id": "4719d811",
   "metadata": {},
   "outputs": [],
   "source": [
    "df_female[df_female['surname'].str.count(\"[a-zA-Z '.-]\")!=df_female['surname'].str.len()]"
   ]
  },
  {
   "cell_type": "code",
   "execution_count": null,
   "id": "e0effe77",
   "metadata": {},
   "outputs": [],
   "source": [
    "df_female[df_female['name'].str.count(\"[a-zA-Z ',.-]\")!=df_female['name'].str.len()]"
   ]
  },
  {
   "cell_type": "code",
   "execution_count": null,
   "id": "19aad308",
   "metadata": {},
   "outputs": [],
   "source": [
    "df_check_name = df_female[~df_female['name'].isna()]\n",
    "df_check_name[df_check_name['name'].str.contains(',')]"
   ]
  },
  {
   "cell_type": "code",
   "execution_count": null,
   "id": "3e600847",
   "metadata": {},
   "outputs": [],
   "source": [
    "#unknown names\n",
    "print(\"Unknown name: \", df_female[df_female['name'].str.lower()=='unknown'].shape[0])\n",
    "#unknown surnames\n",
    "print(\"Unknown surname: \", df_female[df_female['surname'].str.lower()=='unknown'].shape[0])"
   ]
  },
  {
   "cell_type": "markdown",
   "id": "6dc21a6c",
   "metadata": {},
   "source": [
    "So, in the male and female datasets we have some invalid names and surnames because of numbers, special characters of null values.\n",
    "\n",
    "NOTE: \"40071 \tJason \"Jj\",Belan \tNaN\" is an error because Belan is the surname but pandas has not divided the name by the surname (male). Correction in the data preparation"
   ]
  },
  {
   "cell_type": "markdown",
   "id": "7d76bc67",
   "metadata": {},
   "source": [
    "### Analysis of tennis dataset"
   ]
  },
  {
   "cell_type": "code",
   "execution_count": null,
   "id": "9aa8967c",
   "metadata": {},
   "outputs": [],
   "source": [
    "df_tennis.dtypes.value_counts()"
   ]
  },
  {
   "cell_type": "code",
   "execution_count": null,
   "id": "6cc06740",
   "metadata": {},
   "outputs": [],
   "source": [
    "#Values in the columns with type object\n",
    "for column in df_tennis.select_dtypes(include=['object']).columns:\n",
    "    print(\"Distinct Values in \"+str(column)+\": \\n\", df_tennis[column].unique(), \"\\n\")"
   ]
  },
  {
   "cell_type": "markdown",
   "id": "f55273fe",
   "metadata": {},
   "source": [
    "#### tourney_id"
   ]
  },
  {
   "cell_type": "code",
   "execution_count": null,
   "id": "7ecaeee8",
   "metadata": {},
   "outputs": [],
   "source": [
    "#check that for non null values, the first 4 char are the year\n",
    "#count rows whose firts 4 char are not numbers\n",
    "df_tennis[df_tennis['tourney_id'].str[:4].str.isnumeric()==False].shape[0] "
   ]
  },
  {
   "cell_type": "code",
   "execution_count": null,
   "id": "07b7cf51",
   "metadata": {},
   "outputs": [],
   "source": [
    "#chech if some years are in the future (so are invalid)(ignore nulls)\n",
    "df_tennis[pd.to_numeric(df_tennis['tourney_id'].str[:4]).fillna(0).astype('int') > date.today().year].shape[0] "
   ]
  },
  {
   "cell_type": "code",
   "execution_count": null,
   "id": "f168ffe5",
   "metadata": {},
   "outputs": [],
   "source": [
    "#chech if there are invalid years because to much in the past (ignore nulls)\n",
    "df_tennis[pd.to_numeric(df_tennis['tourney_id'].str[:4]).fillna(date.today().year).astype('int') < 1874 ].shape[0] "
   ]
  },
  {
   "cell_type": "markdown",
   "id": "9c859371",
   "metadata": {},
   "source": [
    "So, the first 4 numbers in the tourney_id are always valid when the tourney_id id not null"
   ]
  },
  {
   "cell_type": "code",
   "execution_count": null,
   "id": "688e4e36",
   "metadata": {},
   "outputs": [],
   "source": [
    "#chech that for each tourney there is more than one match (every id appears more than once)\n",
    "df_tennis[df_tennis['tourney_id'].duplicated(keep=False)==False].shape[0] "
   ]
  },
  {
   "cell_type": "markdown",
   "id": "666d0995",
   "metadata": {},
   "source": [
    "So, every torney_id appears more than once"
   ]
  },
  {
   "cell_type": "code",
   "execution_count": null,
   "id": "7aadc5f8",
   "metadata": {},
   "outputs": [],
   "source": [
    "#check how many distinct tourney are present\n",
    "df_tennis[\"tourney_id\"].value_counts().count()"
   ]
  },
  {
   "cell_type": "markdown",
   "id": "84a9e81d",
   "metadata": {},
   "source": [
    "#### tourney_name"
   ]
  },
  {
   "cell_type": "code",
   "execution_count": null,
   "id": "05e18cf9",
   "metadata": {},
   "outputs": [],
   "source": [
    "#chech that for the same tourney_id we have always the same name\n",
    "len(df_tennis.groupby(['tourney_id','tourney_name']).size())-len(df_tennis.groupby(['tourney_id']).size())\n",
    "#df_tennis[df_tennis['tourney_id']=='2019-M021'] #this is an example of toruney id with more names"
   ]
  },
  {
   "cell_type": "code",
   "execution_count": null,
   "id": "d02321dc",
   "metadata": {},
   "outputs": [],
   "source": [
    "len(df_tennis.groupby(['tourney_name','tourney_id']).size())-len(df_tennis.groupby(['tourney_name']).size())"
   ]
  },
  {
   "cell_type": "markdown",
   "id": "2d480def",
   "metadata": {},
   "source": [
    "For a certain tourney_id we may have more tourney_names, so we should manage these names for example to remove errors from some rows. For a tourney_name we can have more tourney_ids."
   ]
  },
  {
   "cell_type": "code",
   "execution_count": null,
   "id": "9af839d4",
   "metadata": {},
   "outputs": [],
   "source": [
    "#len(df_tennis[\"tourney_name\"].unique()) #consider also the nan\n",
    "df_tennis[\"tourney_name\"].value_counts().count() #do not consider also the nan"
   ]
  },
  {
   "cell_type": "code",
   "execution_count": null,
   "id": "0fe92f38",
   "metadata": {},
   "outputs": [],
   "source": [
    "dict_tourney_id = df_tennis.groupby('tourney_id')['tourney_name'].unique().apply(list).to_dict()\n",
    "for key, value in dict_tourney_id.items():\n",
    "    if len(value)>1:\n",
    "        print(key, value)"
   ]
  },
  {
   "cell_type": "markdown",
   "id": "f56ad113",
   "metadata": {},
   "source": [
    "**surface**"
   ]
  },
  {
   "cell_type": "code",
   "execution_count": null,
   "id": "4d0b2f0a",
   "metadata": {},
   "outputs": [],
   "source": [
    "df_tennis.groupby('surface')['tourney_id'].nunique()"
   ]
  },
  {
   "cell_type": "markdown",
   "id": "30ca7383",
   "metadata": {},
   "source": [
    "#### tourney_level"
   ]
  },
  {
   "cell_type": "code",
   "execution_count": null,
   "id": "c723dab7",
   "metadata": {},
   "outputs": [],
   "source": [
    "#TODO:tourney_level check that tourney level for male are associated to tourney with male players (same for female).\n",
    "#explain also the meanings of the levels"
   ]
  },
  {
   "cell_type": "code",
   "execution_count": null,
   "id": "955b178d",
   "metadata": {},
   "outputs": [],
   "source": [
    "levels_man = ['G', 'M', 'A', 'C', 'S', 'F', 'D']\n",
    "levels_woman = levels_man + ['P', 'PM', 'I', 'T1', 'W']\n",
    "levels_woman_man = ['E','J','T','O','15', '25', '60', '100', '80', '10', '50', '75'] #not present in the dataset yet (documentation)\n",
    "all_levels = levels_man + levels_woman + levels_woman_man"
   ]
  },
  {
   "cell_type": "code",
   "execution_count": null,
   "id": "db950ce8",
   "metadata": {
    "scrolled": true
   },
   "outputs": [],
   "source": [
    "#check what are other codes that can appear (for women)\n",
    "df_other_levels = df_tennis[~df_tennis['tourney_level'].isin(all_levels)]\n",
    "#get codes about the prize money\n",
    "df_other_levels[df_other_levels['tourney_level'].str.isnumeric()==True]['tourney_level'].unique()"
   ]
  },
  {
   "cell_type": "markdown",
   "id": "2725152b",
   "metadata": {},
   "source": [
    "These are the numeric codes that appear in the dataset"
   ]
  },
  {
   "cell_type": "code",
   "execution_count": null,
   "id": "08488749",
   "metadata": {},
   "outputs": [],
   "source": [
    "#get the other codes not cited in the document and that are not prize\n",
    "df_other_levels[df_other_levels['tourney_level'].str.isnumeric()==False]['tourney_level'].unique()"
   ]
  },
  {
   "cell_type": "markdown",
   "id": "f028ad1b",
   "metadata": {},
   "source": [
    "We have 2 more codes respect the one expressely indicated by the documentation"
   ]
  },
  {
   "cell_type": "code",
   "execution_count": null,
   "id": "989201cc",
   "metadata": {},
   "outputs": [],
   "source": [
    "#check if there are at least one row for each cited code\n",
    "list(set(all_levels) - set(df_tennis[df_tennis['tourney_level'].str.isnumeric()==False]['tourney_level'].unique()))"
   ]
  },
  {
   "cell_type": "markdown",
   "id": "eb1a82f1",
   "metadata": {},
   "source": [
    "For these codes there are no rows in the dataset"
   ]
  },
  {
   "cell_type": "code",
   "execution_count": null,
   "id": "341152f0",
   "metadata": {
    "scrolled": true
   },
   "outputs": [],
   "source": [
    "#get the occurrenes of each level\n",
    "df_tennis[\"tourney_level\"].value_counts()"
   ]
  },
  {
   "cell_type": "code",
   "execution_count": null,
   "id": "d2cbc4af",
   "metadata": {
    "scrolled": true
   },
   "outputs": [],
   "source": [
    "# check sex by names\n",
    "df_male['combined'] = df_male['name'].astype(str) + ' ' + df_male['surname'].astype(str)\n",
    "df_female['combined'] = df_female['name'].astype(str) + ' ' + df_female['surname'].astype(str)\n",
    "\n",
    "# we transform into dictionaries to optimize search performance, putting name and surname as keys\n",
    "dict_male = df_male['combined'].to_dict();\n",
    "dict_male_rev = {value:key for key, value in dict_male.items()}\n",
    "\n",
    "dict_female = df_female['combined'].to_dict();\n",
    "dict_female_rev = {value:key for key, value in dict_female.items()}\n",
    "\n",
    "# check name in male and female dictionaries\n",
    "def CheckSex(name):\n",
    "    if name in dict_male_rev:\n",
    "        return 'm'\n",
    "    elif name in dict_female_rev:\n",
    "        return 'f'\n",
    "    return '-'\n",
    "\n",
    "df_tennis_level_tmp = df_tennis.copy() # avoid overwrite original dataset\n",
    "# apply CheckSex as lambda function to all rows, add new columns with sex\n",
    "df_tennis_level_tmp['w_sex'] = df_tennis_level_tmp['winner_name'].apply(lambda x: CheckSex(x))\n",
    "df_tennis_level_tmp['l_sex'] = df_tennis_level_tmp['loser_name'].apply(lambda x: CheckSex(x))\n",
    "\n",
    "no_error = True\n",
    "for row in df_tennis_level_tmp.itertuples():\n",
    "    level = row.tourney_level\n",
    "    # if there is a nan in level, skip to next...\n",
    "    if str(level)=='nan':\n",
    "        continue\n",
    "    w_sex = row.w_sex\n",
    "    l_sex = row.l_sex \n",
    "    # check sex...\n",
    "    if w_sex == 'm' or l_sex == 'm':\n",
    "        # search for the level in the respective set for man and woman/man\n",
    "        if level not in levels_man and level not in levels_woman_man:  \n",
    "            no_error = False\n",
    "            print('level error: w_sex:' + w_sex + ' - l_sex:' + l_sex + ' - tourney_id:' + str(row.tourney_id) + ' - ' + str(wn) + ' vs ' + str(ln) + ' - level:' + str(level))\n",
    "    elif w_sex == 'f' or l_sex == 'f':\n",
    "        # search for the level in the respective set for man and woman/man\n",
    "        if level not in levels_woman and level not in  levels_woman_man:\n",
    "            no_error = False\n",
    "            print('level error: w_sex:' + w_sex + ' - l_sex:' + l_sex + ' - tourney_id:' + str(row.tourney_id) + ' - ' + str(wn) + ' vs ' + str(ln) + ' - level:' + str(level))\n",
    "            \n",
    "if no_error:\n",
    "    print(\"All levels are correct\")"
   ]
  },
  {
   "cell_type": "code",
   "execution_count": null,
   "id": "3846d82b",
   "metadata": {},
   "outputs": [],
   "source": [
    "df_tennis[\"tourney_level\"].value_counts().plot(kind='bar', ylabel=\"number of nulls\")\n",
    "df_tennis[\"tourney_level\"].unique()"
   ]
  },
  {
   "cell_type": "markdown",
   "id": "6c40a9db",
   "metadata": {},
   "source": [
    "#### winner_name and loser_name"
   ]
  },
  {
   "cell_type": "code",
   "execution_count": null,
   "id": "52b13a8a",
   "metadata": {},
   "outputs": [],
   "source": [
    "#check that names are valid\n",
    "df_tennis[df_tennis['winner_name'].str.count(\"[a-zA-Z ',.-]\")!=df_tennis['winner_name'].str.len()]['winner_name']"
   ]
  },
  {
   "cell_type": "code",
   "execution_count": null,
   "id": "de89588a",
   "metadata": {},
   "outputs": [],
   "source": [
    "df_tennis[df_tennis['loser_name'].str.count(\"[a-zA-Z ',.-]\")!=df_tennis['loser_name'].str.len()]['loser_name']"
   ]
  },
  {
   "cell_type": "markdown",
   "id": "3978dbae",
   "metadata": {},
   "source": [
    "Execute the next three lines to execute the checks on male and female names."
   ]
  },
  {
   "cell_type": "code",
   "execution_count": null,
   "id": "00de331b",
   "metadata": {},
   "outputs": [],
   "source": [
    "df_names = pd.read_csv(DATASET_DIR + 'names.csv', sep=',', index_col=False)\n",
    "df_names.head()"
   ]
  },
  {
   "cell_type": "code",
   "execution_count": null,
   "id": "5f5b788e",
   "metadata": {},
   "outputs": [],
   "source": [
    "male_names = df_names[df_names['Gender'] == 'MALE']['Name']\n",
    "male_names = dict.fromkeys(male_names, None)"
   ]
  },
  {
   "cell_type": "code",
   "execution_count": null,
   "id": "adb93958",
   "metadata": {},
   "outputs": [],
   "source": [
    "female_names = df_names[df_names['Gender'] == 'FEMALE']['Name']\n",
    "female_names = dict.fromkeys(female_names, None)"
   ]
  },
  {
   "cell_type": "markdown",
   "id": "5db584d1",
   "metadata": {},
   "source": [
    "*male name*"
   ]
  },
  {
   "cell_type": "code",
   "execution_count": null,
   "id": "4948e333",
   "metadata": {},
   "outputs": [],
   "source": [
    "invalid_names = []\n",
    "for name in df_male['name'].dropna().tolist():\n",
    "    if (name in female_names):\n",
    "        invalid_names.append(name)\n",
    "print(dict.fromkeys(invalid_names, None).keys())"
   ]
  },
  {
   "cell_type": "markdown",
   "id": "8cb8e0f9",
   "metadata": {},
   "source": [
    "*female names*"
   ]
  },
  {
   "cell_type": "code",
   "execution_count": null,
   "id": "2e3b4492",
   "metadata": {},
   "outputs": [],
   "source": [
    "invalid_names = []\n",
    "for name in df_female['name'].dropna().tolist():\n",
    "    if (name in male_names):\n",
    "        invalid_names.append(name)\n",
    "print(dict.fromkeys(invalid_names, None).keys())"
   ]
  },
  {
   "cell_type": "markdown",
   "id": "fbdb1a2a",
   "metadata": {},
   "source": [
    "There are invalid characters in the names of some winners and some losers"
   ]
  },
  {
   "cell_type": "markdown",
   "id": "1f3581e1",
   "metadata": {},
   "source": [
    "#### winner_id and loser_id"
   ]
  },
  {
   "cell_type": "code",
   "execution_count": null,
   "id": "fc158df7",
   "metadata": {},
   "outputs": [],
   "source": [
    "df_tennis['winner_id'].value_counts()"
   ]
  },
  {
   "cell_type": "code",
   "execution_count": null,
   "id": "6ebf6f95",
   "metadata": {},
   "outputs": [],
   "source": [
    "df_tennis['loser_id'].value_counts()"
   ]
  },
  {
   "cell_type": "code",
   "execution_count": null,
   "id": "017dd46c",
   "metadata": {},
   "outputs": [],
   "source": [
    "#check if there are records in whitch the winner_id e loser_id corresponds\n",
    "def find_match_sameWL():\n",
    "    df_sameWL = df_tennis[df_tennis['winner_id'] == df_tennis['loser_id']][['tourney_id','match_num','winner_id', 'loser_id', 'winner_name', 'loser_name','winner_ioc','loser_ioc']]\n",
    "    print(df_sameWL.shape[0])\n",
    "    return df_sameWL\n",
    "    \n",
    "find_match_sameWL()"
   ]
  },
  {
   "cell_type": "markdown",
   "id": "7f51171a",
   "metadata": {},
   "source": [
    "There are five records in whitch winner and loser are the same. "
   ]
  },
  {
   "cell_type": "code",
   "execution_count": null,
   "id": "a89f5fd3",
   "metadata": {},
   "outputs": [],
   "source": [
    "#check if there are ids binded with more then one name\n",
    "def get_w_id_names():\n",
    "    dup_w_id = df_tennis.groupby(by = 'winner_id')[['winner_name','winner_id']].nunique()\n",
    "    return dup_w_id[dup_w_id['winner_name'] > 1].index.tolist()"
   ]
  },
  {
   "cell_type": "code",
   "execution_count": null,
   "id": "d58d9786",
   "metadata": {},
   "outputs": [],
   "source": [
    "df_mul_names = df_tennis[df_tennis['winner_id'].isin(get_w_id_names())][['winner_name','winner_id']].sort_values(by=['winner_name','winner_id'])\n",
    "df_mul_names = df_mul_names.value_counts().reset_index()\n",
    "df_mul_names.columns = ['winner_name', 'id', 'count']\n",
    "df_mul_names.sort_values(by='id')"
   ]
  },
  {
   "cell_type": "code",
   "execution_count": null,
   "id": "d1999b7e",
   "metadata": {},
   "outputs": [],
   "source": [
    "def get_l_id_names():\n",
    "    dup_l_id = df_tennis.groupby(by = 'loser_id')[['loser_name','loser_id']].nunique()\n",
    "    return dup_l_id[dup_l_id['loser_name'] > 1].index.tolist()"
   ]
  },
  {
   "cell_type": "code",
   "execution_count": null,
   "id": "b8f71e19",
   "metadata": {},
   "outputs": [],
   "source": [
    "df_mul_names = df_tennis[df_tennis['loser_id'].isin(get_l_id_names())][['loser_name','loser_id']].sort_values(by=['loser_name','loser_id'])\n",
    "df_mul_names = df_mul_names.value_counts().reset_index()\n",
    "df_mul_names.columns = ['loser_name', 'id', 'count']\n",
    "df_mul_names.sort_values(by='id')"
   ]
  },
  {
   "cell_type": "code",
   "execution_count": null,
   "id": "09f32fa2",
   "metadata": {},
   "outputs": [],
   "source": [
    "def get_w_name_ids():\n",
    "    dup_w_id = df_tennis.groupby(by = 'winner_name')[['winner_name','winner_id']].nunique()\n",
    "    return dup_w_id[dup_w_id['winner_id'] > 1].index.tolist()"
   ]
  },
  {
   "cell_type": "code",
   "execution_count": null,
   "id": "2bf98c56",
   "metadata": {},
   "outputs": [],
   "source": [
    "df_tennis[df_tennis['winner_name'].isin(get_w_name_ids())][['winner_name','winner_id','winner_ioc','winner_hand']].drop_duplicates().sort_values(by='winner_name')"
   ]
  },
  {
   "cell_type": "code",
   "execution_count": null,
   "id": "dc68a5bb",
   "metadata": {},
   "outputs": [],
   "source": [
    "def get_l_name_ids():\n",
    "    dup_l_id = df_tennis.groupby(by = 'loser_name')[['loser_name','loser_id']].nunique()\n",
    "    return dup_l_id[dup_l_id['loser_id'] > 1].index.tolist()"
   ]
  },
  {
   "cell_type": "code",
   "execution_count": null,
   "id": "9eb7f996",
   "metadata": {
    "scrolled": true
   },
   "outputs": [],
   "source": [
    "df_tennis[df_tennis['loser_name'].isin(get_l_name_ids())][['loser_name','loser_id','loser_ioc','loser_hand']].drop_duplicates().sort_values(by='loser_name')"
   ]
  },
  {
   "cell_type": "markdown",
   "id": "6647df20",
   "metadata": {},
   "source": [
    "there are tennis players that presents more then one id associated, both for winners(9) and losers(19)."
   ]
  },
  {
   "cell_type": "markdown",
   "id": "4e2a6460",
   "metadata": {},
   "source": [
    "#### winner_hand and loser_hand"
   ]
  },
  {
   "cell_type": "code",
   "execution_count": null,
   "id": "deffc354",
   "metadata": {},
   "outputs": [],
   "source": [
    "#check that there are not indicated hand that are invalid (ignore nulls)\n",
    "hand = ['R','L','U']\n",
    "df_tennis[~df_tennis['winner_hand'].fillna('U').str.upper().isin(hand)].shape[0]"
   ]
  },
  {
   "cell_type": "code",
   "execution_count": null,
   "id": "a5410126",
   "metadata": {},
   "outputs": [],
   "source": [
    "df_tennis[~df_tennis['loser_hand'].fillna('U').str.upper().isin(hand)].shape[0]"
   ]
  },
  {
   "cell_type": "code",
   "execution_count": null,
   "id": "2d4d713d",
   "metadata": {},
   "outputs": [],
   "source": [
    "#check based on id and name\n",
    "errors = []\n",
    "players_ids = df_tennis['winner_id'].dropna().unique().tolist() + df_tennis['loser_id'].dropna().unique().tolist()\n",
    "\n",
    "for player_id in players_ids:\n",
    "    name_players = df_tennis[df_tennis['winner_id']==player_id]['winner_name'].dropna().unique().tolist()\n",
    "    name_players = name_players + df_tennis[df_tennis['loser_id']==player_id]['loser_name'].dropna().unique().tolist()\n",
    "    name_players = list(dict.fromkeys(name_players))\n",
    "    for name in name_players:\n",
    "        hands = df_tennis[df_tennis['winner_name']==name]['winner_hand'].dropna().unique().tolist()\n",
    "        hands = hands + df_tennis[df_tennis['loser_name']==name]['loser_hand'].dropna().unique().tolist()\n",
    "        hands = list(dict.fromkeys(hands))\n",
    "        if len(hands)==3:\n",
    "            errors.append(name)\n",
    "        elif len(hands)==2 and 'U' not in hands:\n",
    "            errors.append(name)\n",
    "            \n",
    "print(errors) #result:[]"
   ]
  },
  {
   "cell_type": "markdown",
   "id": "df735159",
   "metadata": {},
   "source": [
    "There are not invalid entries for the hand of winner or loser. Furthermore thare are not different hands for the same player"
   ]
  },
  {
   "cell_type": "code",
   "execution_count": null,
   "id": "74b1dcf8",
   "metadata": {},
   "outputs": [],
   "source": [
    "index = df_tennis[~df_tennis['winner_hand'].isna()]['winner_hand'].unique()\n",
    "pd.DataFrame({'winner': df_tennis['winner_hand'].value_counts(), 'loser': df_tennis['loser_hand'].value_counts()}, index=index).plot.bar(color=[\"#66ff66\",\"#6666ff\"])"
   ]
  },
  {
   "cell_type": "markdown",
   "id": "e6c4a825",
   "metadata": {},
   "source": [
    "#### winner_ioc and loser_ioc, International Olympic Code validity check"
   ]
  },
  {
   "cell_type": "code",
   "execution_count": null,
   "id": "9c1613a3",
   "metadata": {
    "scrolled": true
   },
   "outputs": [],
   "source": [
    "df_countrycode = pd.read_csv(DATASET_DIR + 'country-codes_csv.csv', sep=',', index_col=False) "
   ]
  },
  {
   "cell_type": "markdown",
   "id": "451de6a4",
   "metadata": {},
   "source": [
    "##### Wrong codes winner_ioc"
   ]
  },
  {
   "cell_type": "code",
   "execution_count": null,
   "id": "6f8f4f7b",
   "metadata": {},
   "outputs": [],
   "source": [
    "w_check_cc = pd.Series(~df_tennis.winner_ioc.isin(df_countrycode.IOC).values, df_tennis.winner_ioc.values)\n",
    "w_check = w_check_cc[w_check_cc].index\n",
    "w_check.value_counts()"
   ]
  },
  {
   "cell_type": "markdown",
   "id": "927390b8",
   "metadata": {},
   "source": [
    "##### Wrong codes loser_ioc"
   ]
  },
  {
   "cell_type": "code",
   "execution_count": null,
   "id": "c53dee53",
   "metadata": {
    "scrolled": true
   },
   "outputs": [],
   "source": [
    "l_check_cc = pd.Series(~df_tennis.loser_ioc.isin(df_countrycode.IOC).values, df_tennis.loser_ioc.values)\n",
    "l_check = l_check_cc[l_check_cc].index\n",
    "l_check.value_counts()"
   ]
  },
  {
   "cell_type": "markdown",
   "id": "9baebabd",
   "metadata": {},
   "source": [
    "We can verify that the list of IOC codes that is incorrect is not in ISO format by mistake."
   ]
  },
  {
   "cell_type": "code",
   "execution_count": null,
   "id": "d958d724",
   "metadata": {},
   "outputs": [],
   "source": [
    "i = w_check.unique()\n",
    "type(i)\n",
    "for c in i:\n",
    "    exist =  df_countrycode[\"ISO3166-1-Alpha-3\"].str.contains('MNE').any()\n",
    "    print(c + \" \" + str(exist))"
   ]
  },
  {
   "cell_type": "code",
   "execution_count": null,
   "id": "37c81cd1",
   "metadata": {},
   "outputs": [],
   "source": [
    "i = l_check.unique()\n",
    "type(i)\n",
    "for c in i:\n",
    "    exist =  df_countrycode[\"ISO3166-1-Alpha-3\"].str.contains('MNE').any()\n",
    "    print(c + \" \" + str(exist))"
   ]
  },
  {
   "cell_type": "markdown",
   "id": "647b0138",
   "metadata": {},
   "source": [
    "**round**"
   ]
  },
  {
   "cell_type": "code",
   "execution_count": null,
   "id": "90dbbf10",
   "metadata": {
    "scrolled": true
   },
   "outputs": [],
   "source": [
    "df_tennis.groupby('round')['tourney_id'].nunique()"
   ]
  },
  {
   "cell_type": "markdown",
   "id": "4b9629ab",
   "metadata": {},
   "source": [
    "**best_of**"
   ]
  },
  {
   "cell_type": "code",
   "execution_count": null,
   "id": "90603bc0",
   "metadata": {
    "scrolled": false
   },
   "outputs": [],
   "source": [
    "#check if there are different values form 3 or 5\n",
    "df_tennis['best_of'].value_counts(dropna = False)"
   ]
  },
  {
   "cell_type": "markdown",
   "id": "06fe1c12",
   "metadata": {},
   "source": [
    "There are not different values from 3 and 5, a part for some null values."
   ]
  },
  {
   "cell_type": "code",
   "execution_count": null,
   "id": "5a89bac1",
   "metadata": {},
   "outputs": [],
   "source": [
    "df_tennis['best_of'].value_counts().plot(kind='bar')"
   ]
  },
  {
   "cell_type": "markdown",
   "id": "b984d7ab",
   "metadata": {},
   "source": [
    "#### score\n",
    "https://www.wikihow.it/Tenere-il-Punteggio-a-Tennis"
   ]
  },
  {
   "cell_type": "markdown",
   "id": "0f3a8a17",
   "metadata": {},
   "source": [
    "If the **match** is at best of 3 then a player, to win, must win 2 sets. If instead it's at best of 5 the playes must win 3 sets.\n",
    "\n",
    "Every sets is composed by **games**. The winner is the player that wins 6 games with at least 2 games od advantage (for example 6-4, 6-3, ..., but not 6-5).\n",
    "\n",
    "In the case of 6-5 the first player wins the set is win the following game (7-5).\n",
    "\n",
    "In case pf 6-6 the **Tie-Break** is played. The Tie-Break is won by the player that is the first to do 7 points with an advantage of 2 (so, for example, 7-5, 7-4, ...). If both the players do 6 points then wins the first that have 2 points of advantage on the adversary (for example 8-6, 9-7, 10-8, ...)"
   ]
  },
  {
   "cell_type": "code",
   "execution_count": null,
   "id": "2b675e54",
   "metadata": {},
   "outputs": [],
   "source": [
    "#check that all the scores of the match are valid. (we do not consider nulls)\n",
    "df_tennis_score = df_tennis[~df_tennis['score'].isna()]"
   ]
  },
  {
   "cell_type": "markdown",
   "id": "18c93a45",
   "metadata": {},
   "source": [
    "Walkover (\"WO\" or \"w/o\")- Unopposed victory. A walkover is awarded when the opponent fails to start the match for any reason, such as injury.\n",
    "\n",
    "Retirement (\"ret\") - Player's withdrawal during a match, causing the player to forfeit the tournament. Usually this happens due to injury\n",
    "\n",
    "Default :def - Disqualification of a player in a match by the chair umpire after the player has received four code violation warnings, generally for their conduct on court. A default can occur with less than four code violations warnings if the code violation is judged severe enough to warrant it. A double default occurs when both players are disqualified. Defaults also occur when a player misses a match with no valid excuse. Defaults are considered losses.\n",
    "\n",
    "Bye :bye - Automatic advancement of a player to the next round of a tournament without facing an opponent. Byes are often awarded in the first round to the top-seeded players in a tournament"
   ]
  },
  {
   "cell_type": "code",
   "execution_count": null,
   "id": "90df8ec1",
   "metadata": {},
   "outputs": [],
   "source": [
    "def Retirement(s):\n",
    "    if s.lower() in \"retirement.\" or s.lower()==\"ret.\":\n",
    "        return True\n",
    "    else:\n",
    "        return False\n",
    "    \n",
    "def Walkover(s):\n",
    "    if s.lower()==\"w/o\" or s.lower()==\"wo\" or s.lower() in \"walkover\":\n",
    "        return True\n",
    "    else:\n",
    "        return False\n",
    "    \n",
    "def Default(s):\n",
    "    if s.lower() in \"default.\" or s.lower()==\"def.\":\n",
    "        return True\n",
    "    else:\n",
    "        return False\n",
    "    \n",
    "def Bye(s):\n",
    "    if s.lower() in \"bye.\":\n",
    "        return True\n",
    "    else:\n",
    "        return False"
   ]
  },
  {
   "cell_type": "markdown",
   "id": "8def07e6",
   "metadata": {},
   "source": [
    "Reasons for games not played"
   ]
  },
  {
   "cell_type": "code",
   "execution_count": null,
   "id": "aa643ca5",
   "metadata": {},
   "outputs": [],
   "source": [
    "#error because less of 2 games without valid reasons\n",
    "count_less_2 = 0\n",
    "#error because we have too many games in a match\n",
    "too_many = 0\n",
    "\n",
    "#number of walkover\n",
    "walkover = 0\n",
    "#errors using RET instead of WO\n",
    "wrong_walkover = 0\n",
    "#number of defaults\n",
    "default = 0\n",
    "#number of byes\n",
    "bye = 0\n",
    "\n",
    "for match in df_tennis[~df_tennis['score'].isna()]['score']:\n",
    "    sets = match.split( )\n",
    "    if len(sets)==1 and Walkover(sets[0]):\n",
    "        walkover+=1\n",
    "        continue\n",
    "    if len(sets)==1 and Retirement(sets[0]):\n",
    "        wrong_walkover+=1\n",
    "        continue\n",
    "    if len(sets)==1 and Default(sets[0]):\n",
    "        default+=1\n",
    "        continue\n",
    "    if len(sets)==1 and Bye(sets[0]):\n",
    "        bye+=1\n",
    "        continue\n",
    "    if len(sets)<2:\n",
    "        count_less_2+=1\n",
    "        continue\n",
    "    #maximum number of sets for best of 5 is 6: 5 games + RET or DEF\n",
    "    if len(sets)>6:\n",
    "        too_many+=1\n",
    "        continue"
   ]
  },
  {
   "cell_type": "code",
   "execution_count": null,
   "id": "a5ca929c",
   "metadata": {},
   "outputs": [],
   "source": [
    "print('walkover:', walkover)\n",
    "print('wrong_walkover:', wrong_walkover)\n",
    "print('default:', default)\n",
    "print('bye:', bye)\n",
    "print('errors: less than 2 games:', count_less_2)\n",
    "print('errors: too many games:', too_many)"
   ]
  },
  {
   "cell_type": "code",
   "execution_count": null,
   "id": "14a048e3",
   "metadata": {},
   "outputs": [],
   "source": [
    "index = [\"Walkover\", \"Default\", \"Bye\", \"Ret as wolkover\", \"Erorrs\"]\n",
    "values = [walkover, default, bye, wrong_walkover, count_less_2+too_many]\n",
    "plt.bar(index,values, width=0.5, color=\"#66ff66\")"
   ]
  },
  {
   "cell_type": "markdown",
   "id": "848e7de1",
   "metadata": {},
   "source": [
    "So, these games are not played. There is a wrong use of retirement because a retirement before the game is called walkover. This is used in a wrong way 8 times."
   ]
  },
  {
   "cell_type": "code",
   "execution_count": null,
   "id": "8e828a13",
   "metadata": {},
   "outputs": [],
   "source": [
    "def validity_match(games, best_of):\n",
    "    \n",
    "    if len(games) == 0:\n",
    "        return False\n",
    "    \n",
    "    if len(games)>best_of+1:\n",
    "        return False\n",
    "    \n",
    "    if len(games)<math.trunc(best_of/2)+1 or len(games)>best_of:\n",
    "        if not Retirement(games[len(games)-1]) and not Default(games[len(games)-1]):\n",
    "            return False\n",
    "        elif len(games)==1:\n",
    "             return True\n",
    "    \n",
    "    first_player = 0\n",
    "    second_player = 0\n",
    "    \n",
    "    if Retirement(games[len(games)-1]) or Default(games[len(games)-1]):\n",
    "        #analysis of set with a ret or def\n",
    "        game = games[len(games)-2].replace(\"[\", \"\").replace(\"]\", \"\")\n",
    "        points = game.split(\"-\")\n",
    "        \n",
    "        if \"(\" in game or \")\" in game:\n",
    "            points = game[0:(game.index(\"(\"))].split(\"-\")\n",
    "            if \"6\" not in points or (\"7\" not in points and points.count('6')!=2):\n",
    "                return False\n",
    "        else:\n",
    "            x = int(points[0])\n",
    "            y = int(points[1])\n",
    "\n",
    "            if not ((max(x,y) <= 6 and min(x,y)<=6) or (max(x,y) == 7 and min(x,y)==5)):\n",
    "                return False\n",
    "        \n",
    "        complete_sets = len(games)-2\n",
    "    else:\n",
    "        complete_sets = len(games)\n",
    "    \n",
    "    i = 0\n",
    "    #analysis of complete sets\n",
    "    while i < complete_sets:\n",
    "        \n",
    "        game = games[i].replace(\"[\", \"\").replace(\"]\", \"\")\n",
    "\n",
    "        if \"(\" in game or \")\" in game:\n",
    "            #tie-break\n",
    "            points = game[0:(game.index(\"(\"))].split(\"-\")\n",
    "            if \"6\" not in points or \"7\" not in points:\n",
    "                return False\n",
    "            else:\n",
    "                if points[0] == \"6\":\n",
    "                    second_player+=1\n",
    "                else:\n",
    "                    first_player+=1\n",
    "                i+=1\n",
    "        else:\n",
    "            #no tie-break\n",
    "            game = games[i].replace(\"[\", \"\").replace(\"]\", \"\")\n",
    "            points = game.split(\"-\")\n",
    "\n",
    "            x = int(points[0])\n",
    "            y = int(points[1])\n",
    "\n",
    "            if max(x,y) == 7 and min(x,y)!=5:\n",
    "                return False\n",
    "            elif max(x,y)!= 6 and (max(x,y) != 7 or min(x,y)!=5):\n",
    "                return False\n",
    "            elif max(x,y)==6 and (min(x,y)>4 or min(x,y)<0):\n",
    "                return False\n",
    "            else:\n",
    "                #valid case\n",
    "                if x == min(x,y):\n",
    "                    second_player+=1\n",
    "                else:\n",
    "                    first_player+=1\n",
    "                i+=1\n",
    "\n",
    "    #if the a player wins cannot be other matches\n",
    "    if (first_player==math.trunc(best_of/2)+1 or second_player==math.trunc(best_of/2)+1) and \\\n",
    "        (second_player + first_player)!=len(games):\n",
    "        return False\n",
    "\n",
    "    return True\n",
    "    "
   ]
  },
  {
   "cell_type": "code",
   "execution_count": null,
   "id": "5f105757",
   "metadata": {},
   "outputs": [],
   "source": [
    "def is_best_of_5(games):\n",
    "    #not interesting case\n",
    "    if len(games)!=3 and len(games)!=4:\n",
    "        return False\n",
    "    \n",
    "    if Retirement(games[len(games)-1]) or Default(games[len(games)-1]):\n",
    "        complete_sets = len(games)-2\n",
    "    else:\n",
    "        complete_sets = len(games)\n",
    "    \n",
    "    if complete_sets!=2 and complete_sets!=3:\n",
    "        #not interesting case\n",
    "        return False\n",
    "    \n",
    "    first_player = 0\n",
    "    second_player = 0\n",
    "    \n",
    "    i = 0\n",
    "    #analysis of complete sets\n",
    "    while i < complete_sets:\n",
    "        \n",
    "        game = games[i].replace(\"[\", \"\").replace(\"]\", \"\")\n",
    "\n",
    "        if \"(\" in game or \")\" in game:\n",
    "            #tie-break\n",
    "            points = game[0:(game.index(\"(\"))].split(\"-\")\n",
    "        else:\n",
    "            points = game.split(\"-\")\n",
    "\n",
    "        if int(points[0]) > int(points[1]):\n",
    "            first_player+=1\n",
    "        else:\n",
    "            second_player+=1\n",
    "        i+=1\n",
    "            \n",
    "    if first_player==0 or second_player==0:\n",
    "        return True\n",
    "            \n",
    "    return False\n",
    "    "
   ]
  },
  {
   "cell_type": "code",
   "execution_count": null,
   "id": "88d7e6ee",
   "metadata": {},
   "outputs": [],
   "source": [
    "def is_best_of_3(games):\n",
    "    \n",
    "    #not interesting case\n",
    "    if len(games)!=2 and len(games)!=3:\n",
    "        return False\n",
    "    \n",
    "    if Retirement(games[len(games)-1]) or Default(games[len(games)-1]):\n",
    "        return False\n",
    "    \n",
    "    first_player = 0\n",
    "    second_player = 0\n",
    "    \n",
    "    i = 0\n",
    "    #analysis of complete sets\n",
    "    while i < len(games):\n",
    "        \n",
    "        game = games[i].replace(\"[\", \"\").replace(\"]\", \"\")\n",
    "\n",
    "        if \"(\" in game or \")\" in game:\n",
    "            #tie-break\n",
    "            points = game[0:(game.index(\"(\"))].split(\"-\")\n",
    "        else:\n",
    "            points = game.split(\"-\")\n",
    "\n",
    "        if int(points[0]) > int(points[1]):\n",
    "            first_player+=1\n",
    "        else:\n",
    "            second_player+=1\n",
    "        i+=1\n",
    "            \n",
    "    if len(games)==2 and (first_player==0 or second_player==0):\n",
    "        return True\n",
    "    elif len(games)==3 and first_player!=0 and second_player!=0:\n",
    "        return True\n",
    "            \n",
    "    return False"
   ]
  },
  {
   "cell_type": "code",
   "execution_count": null,
   "id": "1ba42256",
   "metadata": {
    "scrolled": true
   },
   "outputs": [],
   "source": [
    "#best of 5: 3,4 o 5 games, best of 3: 2 or 3 games (with points)\n",
    "best_5 = 0\n",
    "best_3 = 0\n",
    "\n",
    "valid_change_best_of = 0\n",
    "invalid_matches = 0\n",
    "\n",
    "\n",
    "#check of the best of 3\n",
    "for match in df_tennis_score[df_tennis_score['best_of']==3]['score']:\n",
    "    sets = match.split( )\n",
    "    #maximum number of sets for best of 3 is 4: 3 games + RET or DEF\n",
    "    if len(sets)>4 or (len(sets)==4 and not Retirement(sets[3]) and not Default(sets[3])):\n",
    "        best_5+=1\n",
    "        #print(sets)\n",
    "        if validity_match(sets, 5) == True:\n",
    "            valid_change_best_of +=1\n",
    "        else:\n",
    "            invalid_matches+=1\n",
    "    elif len(sets)>=2:\n",
    "        if validity_match(sets, 3) == False:\n",
    "            invalid_matches+=1\n",
    "        \n",
    "        \n",
    "#check of the best of 5\n",
    "for match in df_tennis_score[df_tennis_score['best_of']==5]['score']:\n",
    "    sets = match.split( )\n",
    "    if len(sets)==2 and not Retirement(sets[1]) and not Default(sets[1]):\n",
    "        best_3+=1\n",
    "        if validity_match(sets, 3) == True:\n",
    "            valid_change_best_of +=1\n",
    "        else:\n",
    "            invalid_matches+=1\n",
    "    elif len(sets)>=2:\n",
    "         if validity_match(sets, 5) == False:\n",
    "            invalid_matches+=1\n",
    "\n",
    "    "
   ]
  },
  {
   "cell_type": "code",
   "execution_count": null,
   "id": "32ebeb71",
   "metadata": {},
   "outputs": [],
   "source": [
    "print('errors: best of 5 classyfied as best of 3:', best_5)\n",
    "print('errors: best of 3 classyfied as best of 5:', best_3)\n",
    "print('valid change of best of', valid_change_best_of)\n",
    "print('Invalid matches', invalid_matches)"
   ]
  },
  {
   "cell_type": "code",
   "execution_count": null,
   "id": "19cce264",
   "metadata": {},
   "outputs": [],
   "source": [
    "fig = plt.figure(figsize=(20, 5)) \n",
    "fig_dims = (1, 3)\n",
    "\n",
    "plt.subplot2grid(fig_dims, (0, 0))\n",
    "plt.bar([\"best 5 as 3\", \"best 3 as 5\"], [best_5, best_3], width=0.5, color=\"#66ff66\")\n",
    "\n",
    "plt.subplot2grid(fig_dims, (0, 1))\n",
    "plt.bar([\"Total changes best_of\", \"Valid changes best_of\"], [best_5+best_3, valid_change_best_of], width=0.5, color=\"#6666ff\")\n",
    "\n",
    "plt.subplot2grid(fig_dims, (0, 2))\n",
    "plt.bar([\"invalid for wrong best_of\", \"invalid matches\"], [valid_change_best_of, invalid_matches], width=0.5, color=\"#ff6666\")"
   ]
  },
  {
   "cell_type": "markdown",
   "id": "6684c843",
   "metadata": {},
   "source": [
    "There are some invalid points about some games of some matches. There are some matches classifyed as best of 3 but have more than 3 games and they can be classified as best of 5. The same for the best of 5. There are some matches that are not valid (5122) because the results of the games are inpossible results because the rules of the tennis. \n",
    "\n",
    "We can see in the first bar chart that most of the error of classification are about matches best of 5 classified as best of 3. In the second chart we can notice that we can correct this classification for most of these matches. \n",
    "\n",
    "In the 3rd chart we can see that the error we have notice in the match because of a wrong classification are a very small part of the total errors. So, the most of the errors in the scores are not because the classification is wrong, but because the saved results are invalid."
   ]
  },
  {
   "cell_type": "code",
   "execution_count": null,
   "id": "09860d7b",
   "metadata": {},
   "outputs": [],
   "source": [
    "count_5=0\n",
    "for index, row in  df_tennis_score[df_tennis_score['best_of']==3].iterrows():\n",
    "    sets = row['score'].split( )\n",
    "    if validity_match(sets,5) and is_best_of_5(sets):\n",
    "        count_5+=1"
   ]
  },
  {
   "cell_type": "code",
   "execution_count": null,
   "id": "94d37a7d",
   "metadata": {},
   "outputs": [],
   "source": [
    "count_3=0\n",
    "for index, row in  df_tennis_score[df_tennis_score['best_of']==5].iterrows():\n",
    "    sets = row['score'].split( )\n",
    "    if validity_match(sets,3) and is_best_of_3(sets):\n",
    "        count_3+=1"
   ]
  },
  {
   "cell_type": "code",
   "execution_count": null,
   "id": "a7a71229",
   "metadata": {},
   "outputs": [],
   "source": [
    "print('best of 5 classyfied as best of 3 looking scores:', count_5)\n",
    "print('best of 3 classyfied as best of 5 looking scores:', count_3)"
   ]
  },
  {
   "cell_type": "markdown",
   "id": "45c71960",
   "metadata": {},
   "source": [
    "#### match_num"
   ]
  },
  {
   "cell_type": "code",
   "execution_count": null,
   "id": "500ff112",
   "metadata": {},
   "outputs": [],
   "source": [
    "df_tennis_matchgroups = df_tennis.drop_duplicates().groupby(['tourney_id', 'match_num']).size().reset_index(name='size')\n",
    "print(df_tennis_matchgroups[df_tennis_matchgroups['size']>2])\n",
    "#number of match with more than one winner\n",
    "df_tennis_matchgroups[df_tennis_matchgroups['size']>2].shape[0]"
   ]
  },
  {
   "cell_type": "code",
   "execution_count": null,
   "id": "44b54da8",
   "metadata": {},
   "outputs": [],
   "source": [
    "df_tennis[(df_tennis['tourney_id']=='2016-520') & (df_tennis['match_num']==100)][['tourney_id', 'tourney_name', 'match_num', 'winner_name', 'loser_name','tourney_level']]"
   ]
  },
  {
   "cell_type": "markdown",
   "id": "b5a853ab",
   "metadata": {},
   "source": [
    "#### draw_size"
   ]
  },
  {
   "cell_type": "code",
   "execution_count": null,
   "id": "26802ca3",
   "metadata": {},
   "outputs": [],
   "source": [
    "#count the row with an invalid number (negative or less than 2)\n",
    "df_tennis[df_tennis['draw_size'] < 2].shape[0]"
   ]
  },
  {
   "cell_type": "markdown",
   "id": "48d9a627",
   "metadata": {},
   "source": [
    "All the numbers are valid (we consider only the numbers and not the nulls)"
   ]
  },
  {
   "cell_type": "markdown",
   "id": "13aae818",
   "metadata": {},
   "source": [
    "**tourney_date**"
   ]
  },
  {
   "cell_type": "code",
   "execution_count": null,
   "id": "c3836c1e",
   "metadata": {},
   "outputs": [],
   "source": [
    "#the date are in float so they need to be converted in date object \n",
    "df_tennis['tourney_date'].isnull().sum()"
   ]
  },
  {
   "cell_type": "code",
   "execution_count": null,
   "id": "c05dbf89",
   "metadata": {},
   "outputs": [],
   "source": [
    "#check if there are present data greater then today\n",
    "import datetime\n",
    "df_tennis['tourney_date'] = pd.to_datetime(df_tennis['tourney_date'], format='%Y%m%d')\n",
    "invalid_data = 0\n",
    "today = pd.to_datetime(datetime.date.today())\n",
    "for date in df_tennis['tourney_date']:\n",
    "    if date > today:\n",
    "        invalid_data +=1\n",
    "print(invalid_data)"
   ]
  },
  {
   "cell_type": "markdown",
   "id": "c1657ed6",
   "metadata": {},
   "source": [
    "There aren't invalid dates"
   ]
  },
  {
   "cell_type": "markdown",
   "id": "8b286d81",
   "metadata": {},
   "source": [
    "#### winner_ht and loser_ht"
   ]
  },
  {
   "cell_type": "code",
   "execution_count": null,
   "id": "00bfbd82",
   "metadata": {},
   "outputs": [],
   "source": [
    "df_tennis['winner_ht'].max()"
   ]
  },
  {
   "cell_type": "code",
   "execution_count": null,
   "id": "affabaee",
   "metadata": {},
   "outputs": [],
   "source": [
    "df_tennis['winner_ht'].min()"
   ]
  },
  {
   "cell_type": "code",
   "execution_count": null,
   "id": "cedd6776",
   "metadata": {},
   "outputs": [],
   "source": [
    "# print all possibile winner ht in an asc sort order\n",
    "df_tennis['winner_ht'].value_counts().sort_index()"
   ]
  },
  {
   "cell_type": "code",
   "execution_count": null,
   "id": "8b715319",
   "metadata": {
    "scrolled": true
   },
   "outputs": [],
   "source": [
    "df_tennis['winner_ht'].value_counts().sort_index().plot.bar(\n",
    "    figsize=(10, 4), \n",
    "    title=\"winner_ht distribution\",\n",
    "    xlabel=\"winner_ht\", \n",
    "    ylabel=\"Frequency\")"
   ]
  },
  {
   "cell_type": "code",
   "execution_count": null,
   "id": "a5e40fd5",
   "metadata": {},
   "outputs": [],
   "source": [
    "# let's try to find outliers with boxplot visualization\n",
    "df_tennis.plot.box(y=\"winner_ht\", vert=False, grid=True, figsize=(10, 4));"
   ]
  },
  {
   "cell_type": "code",
   "execution_count": null,
   "id": "e8697137",
   "metadata": {},
   "outputs": [],
   "source": [
    "df_tennis['loser_ht'].max()"
   ]
  },
  {
   "cell_type": "code",
   "execution_count": null,
   "id": "c3be2f7e",
   "metadata": {},
   "outputs": [],
   "source": [
    "df_tennis['loser_ht'].min()"
   ]
  },
  {
   "cell_type": "code",
   "execution_count": null,
   "id": "cc1d5f50",
   "metadata": {},
   "outputs": [],
   "source": [
    "# print all possibile loser ht in an asc sort order\n",
    "df_tennis['winner_ht'].value_counts().sort_index()"
   ]
  },
  {
   "cell_type": "code",
   "execution_count": null,
   "id": "d5d1041e",
   "metadata": {
    "scrolled": true
   },
   "outputs": [],
   "source": [
    "df_tennis['loser_ht'].value_counts().sort_index().plot.bar(\n",
    "    figsize=(10, 4), \n",
    "    title=\"loser_ht distribution\",\n",
    "    xlabel=\"loser_ht\", \n",
    "    ylabel=\"Frequency\")"
   ]
  },
  {
   "cell_type": "code",
   "execution_count": null,
   "id": "da14222c",
   "metadata": {
    "scrolled": false
   },
   "outputs": [],
   "source": [
    "# let's try to find outliers with boxplot visualization\n",
    "df_tennis.plot.box(y=\"loser_ht\", vert=False, grid=True, figsize=(10, 4));"
   ]
  },
  {
   "cell_type": "code",
   "execution_count": null,
   "id": "d9f3b5eb",
   "metadata": {},
   "outputs": [],
   "source": [
    "## Print decimal age in a string years,month,days format\n",
    "def ConvertAge(decimal_years):\n",
    "    decimal_days = decimal_years * 365\n",
    "    year = decimal_days//365\n",
    "    tmp_days = decimal_days - (year*365)\n",
    "    month = tmp_days//31\n",
    "    days = tmp_days - (month * 31)\n",
    "    return str(int(year)) + \" years, \" + str(int(month)) + \" months, \" + str(int(days)) + \" days\""
   ]
  },
  {
   "cell_type": "markdown",
   "id": "7302370c",
   "metadata": {},
   "source": [
    "#### Check if the players have different heights, i.e. if they have grown over time"
   ]
  },
  {
   "cell_type": "code",
   "execution_count": null,
   "id": "cd902eb7",
   "metadata": {
    "scrolled": true
   },
   "outputs": [],
   "source": [
    "# get all players ids from winner and looser, without duplicate\n",
    "players_ids = list(set(df_tennis['winner_id'].dropna().unique().tolist()) | set(df_tennis['loser_id'].dropna().unique().tolist()))\n",
    "\n",
    "count = 0\n",
    "\n",
    "results = []\n",
    "\n",
    "# find players with different ht\n",
    "for player_id in players_ids:\n",
    "    w_ht_players = df_tennis[df_tennis['winner_id']==player_id]['winner_ht'].dropna().unique().tolist()\n",
    "    l_ht_players = df_tennis[df_tennis['loser_id']==player_id]['loser_ht'].dropna().unique().tolist()\n",
    "    ht_players = list(set(w_ht_players) | set(l_ht_players))\n",
    "    diff = len(ht_players)\n",
    "    if diff > 1:\n",
    "        results.append(player_id)\n",
    "        count = count + 1\n",
    "\n",
    "# print results        \n",
    "print(\"find \" + str(count) + \" players with different height, ids: \" + str(results))        \n",
    "print(\"\")\n",
    "for player_id in results:\n",
    "    w_ht_players = df_tennis[df_tennis['winner_id']==player_id]\n",
    "    l_ht_players = df_tennis[df_tennis['loser_id']==player_id]    \n",
    "    result = pd.concat([w_ht_players, l_ht_players])\n",
    "    result.sort_values(by=['tourney_date'], inplace=True)\n",
    "            \n",
    "    printhead = True\n",
    "    last_ht = 0\n",
    "    for index, row in result.iterrows():             \n",
    "        if printhead:\n",
    "            if row[\"winner_id\"] == player_id:\n",
    "                name = row[\"winner_name\"]\n",
    "            else:\n",
    "                name = row[\"loser_name\"]\n",
    "            print(\" --------------- PLAYER \" + str(player_id) + \" \" + name + \" --------------- \")\n",
    "            printhead = False\n",
    "        age = None\n",
    "        match_id = row[\"tourney_id\"]\n",
    "        match_name = row[\"tourney_name\"]\n",
    "        if row[\"winner_id\"] == player_id:\n",
    "            ht = row[\"winner_ht\"]\n",
    "            age = ConvertAge(row['winner_age'])\n",
    "        else:\n",
    "            ht = row[\"loser_ht\"]\n",
    "            age = ConvertAge(row['loser_age'])        \n",
    "        \n",
    "        if last_ht != ht:\n",
    "            print(str(match_id)  + \"\\t-\\t\" + match_name  + \"\\t-\\t\" + str(ht)  + \" - \" + str(row[\"tourney_date\"])  + \" - \" + age)\n",
    "            last_ht = ht        \n",
    "    print(\" -----------------------------------------------------  \")   "
   ]
  },
  {
   "cell_type": "markdown",
   "id": "b563104c",
   "metadata": {},
   "source": [
    "#### winner_age and loser_age\n"
   ]
  },
  {
   "cell_type": "code",
   "execution_count": null,
   "id": "73ede825",
   "metadata": {},
   "outputs": [],
   "source": [
    "print(str(df_tennis['winner_age'].max()) + \" converted-> \" + ConvertAge(df_tennis['winner_age'].max()))"
   ]
  },
  {
   "cell_type": "code",
   "execution_count": null,
   "id": "2b3f8a8a",
   "metadata": {},
   "outputs": [],
   "source": [
    "print(str(df_tennis['winner_age'].min()) + \" converted-> \" + ConvertAge(df_tennis['winner_age'].min()))"
   ]
  },
  {
   "cell_type": "code",
   "execution_count": null,
   "id": "782b1352",
   "metadata": {},
   "outputs": [],
   "source": [
    "# prints a table sorted by winner age, with tournament, winner name and tournament date\n",
    "df_tennis_tmp = df_tennis.copy() # avoid overwrite original dataset\n",
    "df_tennis_tmp['winner_age'] = df_tennis_tmp['winner_age'].dropna().apply(lambda x: ConvertAge(x))\n",
    "df_tennis_tmp['tourney_date'] = pd.to_datetime(df_tennis_tmp['tourney_date'], format='%Y%m%d')\n",
    "df_tennis_tmp[['tourney_name', 'tourney_date', 'winner_name', 'winner_age']].dropna().sort_values(by='winner_age')\n"
   ]
  },
  {
   "cell_type": "code",
   "execution_count": null,
   "id": "0e1223a4",
   "metadata": {},
   "outputs": [],
   "source": [
    "# let's try to find outliers in age with boxplot visualization\n",
    "df_tennis.boxplot(vert=False, column=['winner_age'], return_type='axes',figsize=(10, 4))"
   ]
  },
  {
   "cell_type": "code",
   "execution_count": null,
   "id": "e3bbffac",
   "metadata": {},
   "outputs": [],
   "source": [
    "sns.histplot(data=df_tennis['winner_age'], bins=\"sturges\", binrange=(10,50), color=\"lightgreen\", kde=True, kde_kws={'clip':(10,50)}).lines[0].set_color('blue')"
   ]
  },
  {
   "cell_type": "code",
   "execution_count": null,
   "id": "bba56c61",
   "metadata": {},
   "outputs": [],
   "source": [
    "#loser age"
   ]
  },
  {
   "cell_type": "code",
   "execution_count": null,
   "id": "dcfcb18f",
   "metadata": {},
   "outputs": [],
   "source": [
    "print(str(df_tennis['loser_age'].max()) + \" -> \" + ConvertAge(df_tennis['loser_age'].max()))\n",
    "print(str(df_tennis['loser_age'].min()) + \" -> \" + ConvertAge(df_tennis['loser_age'].min()))"
   ]
  },
  {
   "cell_type": "code",
   "execution_count": null,
   "id": "9bcd5c31",
   "metadata": {},
   "outputs": [],
   "source": [
    "# prints a table sorted by winner age, with tournament, winner name and tournament date\n",
    "df_tennis_tmp = df_tennis.copy() # avoid overwrite original dataset\n",
    "df_tennis_tmp['loser_age'] = df_tennis_tmp['loser_age'].dropna().apply(lambda x: ConvertAge(x))\n",
    "df_tennis_tmp['tourney_date'] = pd.to_datetime(df_tennis_tmp['tourney_date'], format='%Y%m%d')\n",
    "df_tennis_tmp[['tourney_name', 'tourney_date', 'loser_name', 'loser_age']].dropna().sort_values(by='loser_age')"
   ]
  },
  {
   "cell_type": "code",
   "execution_count": null,
   "id": "244dd4c8",
   "metadata": {},
   "outputs": [],
   "source": [
    "df_tennis.boxplot(vert=False, column=['loser_age'], return_type='axes',figsize=(10, 4))"
   ]
  },
  {
   "cell_type": "code",
   "execution_count": null,
   "id": "67b7dac3",
   "metadata": {},
   "outputs": [],
   "source": [
    "#df_tennis['winner_age'].hist(bins=50, grid=False, range=(10, 50))\n",
    "#df_tennis['winner_age'].plot(kind='kde', xlim=[10,50])\n",
    "\n",
    "fig = plt.figure(figsize=(16, 5)) \n",
    "fig_dims = (1, 2)\n",
    "\n",
    "plt.subplot2grid(fig_dims, (0, 0))\n",
    "sns.histplot(data=df_tennis['loser_age'], bins=\"sturges\", binrange=(10,50), color=\"lightgreen\", kde=True, kde_kws={'clip':(10,50)}).lines[0].set_color('blue')\n",
    "\n",
    "plt.subplot2grid(fig_dims, (0, 1))\n",
    "sns.kdeplot(data=df_tennis['loser_age'], color=\"green\", clip=(10,50))\n",
    "sns.kdeplot(data=df_tennis['winner_age'], color=\"blue\", clip=(10,50))"
   ]
  },
  {
   "cell_type": "code",
   "execution_count": null,
   "id": "221869d5",
   "metadata": {},
   "outputs": [],
   "source": [
    "def ConvertTime(time):\n",
    "    hours = int((time // 60))\n",
    "    minutes = int((time % 60))\n",
    "    print(time % 1)\n",
    "    seconds = int((time % 1) * 60)\n",
    "    return (\"%dH:%02dm:%02ds\" % (hours, minutes, seconds))\n",
    "ConvertTime(59.4)"
   ]
  },
  {
   "cell_type": "markdown",
   "id": "479420e1",
   "metadata": {},
   "source": [
    "#### minutes"
   ]
  },
  {
   "cell_type": "code",
   "execution_count": null,
   "id": "fa8fbf53",
   "metadata": {
    "scrolled": true
   },
   "outputs": [],
   "source": [
    "df_tennis.loc[df_tennis['minutes'] < 0, 'minutes'].count()"
   ]
  },
  {
   "cell_type": "code",
   "execution_count": null,
   "id": "87288b27",
   "metadata": {},
   "outputs": [],
   "source": [
    "df_tennis.loc[df_tennis['minutes'] == 0, 'minutes'].count()"
   ]
  },
  {
   "cell_type": "code",
   "execution_count": null,
   "id": "5f7e9a35",
   "metadata": {},
   "outputs": [],
   "source": [
    "df_tennis['minutes'].max()"
   ]
  },
  {
   "cell_type": "code",
   "execution_count": null,
   "id": "78390139",
   "metadata": {},
   "outputs": [],
   "source": [
    "df_tennis[df_tennis['best_of']==3]['minutes'].mean()"
   ]
  },
  {
   "cell_type": "markdown",
   "id": "4330ec59",
   "metadata": {},
   "source": [
    "On average, best-of-3 tennis matches last about 90 minutes, while best-of-5 matches last 2 hours and 45 minutes (=165 minutes)"
   ]
  },
  {
   "cell_type": "code",
   "execution_count": null,
   "id": "b3af85a6",
   "metadata": {},
   "outputs": [],
   "source": [
    "print(str(df_tennis['minutes'].mean()) + \" converted-> \" + ConvertTime(df_tennis['minutes'].mean()))"
   ]
  },
  {
   "cell_type": "code",
   "execution_count": null,
   "id": "56c93b4e",
   "metadata": {},
   "outputs": [],
   "source": [
    "print(str(df_tennis['minutes'].max()) + \" converted-> \" + ConvertTime(df_tennis['minutes'].max()))"
   ]
  },
  {
   "cell_type": "code",
   "execution_count": null,
   "id": "55bd7f46",
   "metadata": {},
   "outputs": [],
   "source": [
    "print(str(df_tennis['minutes'].min()) + \" converted-> \" + ConvertTime(df_tennis['minutes'].min()))"
   ]
  },
  {
   "cell_type": "code",
   "execution_count": null,
   "id": "ddbd35b3",
   "metadata": {},
   "outputs": [],
   "source": [
    "# let's try to find outliers in minutes with scatter visualization\n",
    "df_tennis.boxplot(vert=False, column=['minutes'], return_type='axes',figsize=(10, 4))"
   ]
  },
  {
   "cell_type": "code",
   "execution_count": null,
   "id": "5bc639a7",
   "metadata": {},
   "outputs": [],
   "source": [
    "sns.histplot(data=df_tennis['minutes'], bins=\"doane\", binrange=(0,300), color=\"lightgreen\", kde=True, kde_kws={'clip':(10,300)}).lines[0].set_color('blue')"
   ]
  },
  {
   "cell_type": "code",
   "execution_count": null,
   "id": "3a79c02f",
   "metadata": {},
   "outputs": [],
   "source": [
    "df_tennis[df_tennis['minutes']> 665].shape[0]"
   ]
  },
  {
   "cell_type": "markdown",
   "id": "48cab124",
   "metadata": {},
   "source": [
    "Longest tennis games in history worldwide is 11 hours and 5 minutes (= 665 minutes) for best of 5 and 6 hours and 31 mintes for best of 3"
   ]
  },
  {
   "cell_type": "markdown",
   "id": "1153ce85",
   "metadata": {},
   "source": [
    "There are 128 entry with a match duration equal to 0, a tennis match duration is on average 40 minutes our mean is 97.67."
   ]
  },
  {
   "cell_type": "code",
   "execution_count": null,
   "id": "b6f7611e",
   "metadata": {},
   "outputs": [],
   "source": [
    "# we check that matches with 0 minutes are matches with BYE and WOLKOVER (in this case the match is not played)\n",
    "def IsMatchWithZeroIncorrect(match):\n",
    "    tmp = str(match)\n",
    "    sets = tmp.split()    \n",
    "    if len(sets)==1 and Walkover(sets[0]):\n",
    "        return False\n",
    "    if len(sets)==1 and Bye(sets[0]):\n",
    "        return False\n",
    "    if len(sets)==1 and Retirement(sets[0]):\n",
    "        return False\n",
    "    if len(sets)==1 and Default(sets[0]):\n",
    "        return False\n",
    "    return True\n",
    "\n",
    "df_tennis_min_filtered = df_tennis[df_tennis['minutes']<= 0]\n",
    "df_tennis_min_checked = df_tennis_min_filtered.apply(lambda x: IsMatchWithZeroIncorrect(x['score']), axis=1)\n",
    "df_tennis_min_zero_res = df_tennis_min_filtered[df_tennis_min_checked]\n",
    "df_tennis_min_zero_res[['tourney_id', 'score', 'minutes']]"
   ]
  },
  {
   "cell_type": "markdown",
   "id": "af2bc964",
   "metadata": {},
   "source": [
    "0 could be considered as a default value"
   ]
  },
  {
   "cell_type": "markdown",
   "id": "44dbd6b7",
   "metadata": {},
   "source": [
    "#### w_ace, w_df and w_svpt"
   ]
  },
  {
   "cell_type": "code",
   "execution_count": null,
   "id": "7622aaff",
   "metadata": {
    "scrolled": true
   },
   "outputs": [],
   "source": [
    "negative_w_ace = df_tennis.loc[df_tennis['w_ace'] < 0].shape[0]\n",
    "print(negative_w_ace)"
   ]
  },
  {
   "cell_type": "code",
   "execution_count": null,
   "id": "2ab078a6",
   "metadata": {},
   "outputs": [],
   "source": [
    "#check if there are more ace than service performed\n",
    "df_tennis.loc[df_tennis['w_svpt'] < df_tennis['w_ace']].shape[0]"
   ]
  },
  {
   "cell_type": "code",
   "execution_count": null,
   "id": "c4ff956e",
   "metadata": {},
   "outputs": [],
   "source": [
    "df_tennis.plot.scatter('w_svpt', 'w_ace')\n",
    "plt.show()"
   ]
  },
  {
   "cell_type": "code",
   "execution_count": null,
   "id": "72daef52",
   "metadata": {},
   "outputs": [],
   "source": [
    "#W_df: winner's number of doubles faults\n",
    "negative_w_df = df_tennis.loc[df_tennis['w_df'] < 0].shape[0]\n",
    "print(negative_w_df)"
   ]
  },
  {
   "cell_type": "code",
   "execution_count": null,
   "id": "3d3d1f99",
   "metadata": {},
   "outputs": [],
   "source": [
    "df_tennis.plot.scatter('w_svpt', 'w_df')\n",
    "plt.show()"
   ]
  },
  {
   "cell_type": "code",
   "execution_count": null,
   "id": "6e7b6c3c",
   "metadata": {},
   "outputs": [],
   "source": [
    "#check if there are more double faults than service performed\n",
    "df_tennis.loc[df_tennis['w_svpt'] < df_tennis['w_df']].shape[0]"
   ]
  },
  {
   "cell_type": "code",
   "execution_count": null,
   "id": "fe2dc9dd",
   "metadata": {},
   "outputs": [],
   "source": [
    "#W_svpt: winner's number of serve points\n",
    "negative_w_ace = df_tennis.loc[df_tennis['w_svpt'] < 0].shape[0]\n",
    "print(negative_w_ace)"
   ]
  },
  {
   "cell_type": "code",
   "execution_count": null,
   "id": "42dda50e",
   "metadata": {
    "scrolled": true
   },
   "outputs": [],
   "source": [
    "#check for outliers for w_svpt\n",
    "df_tennis.boxplot(vert=False, column=['w_svpt'], return_type='axes',figsize=(10, 3))\n",
    "plt.show()"
   ]
  },
  {
   "cell_type": "markdown",
   "id": "35363cbe",
   "metadata": {},
   "source": [
    "There are outiliers in the service point, values that goes over twenty-five hundred.\n",
    "*It can be theoretically possible.*"
   ]
  },
  {
   "cell_type": "code",
   "execution_count": null,
   "id": "1fa058a1",
   "metadata": {},
   "outputs": [],
   "source": [
    "df_tennis.loc[df_tennis['w_svpt'] >300][['tourney_id', 'tourney_name', 'best_of', 'score','winner_name','w_svpt','loser_name','l_svpt']]"
   ]
  },
  {
   "cell_type": "markdown",
   "id": "93b3a2bd",
   "metadata": {},
   "source": [
    "#### l_ace, l_df and l_svpt"
   ]
  },
  {
   "cell_type": "code",
   "execution_count": null,
   "id": "802b6680",
   "metadata": {
    "scrolled": true
   },
   "outputs": [],
   "source": [
    "negative_l_ace = df_tennis.loc[df_tennis['l_ace'] < 0].shape[0]\n",
    "print(negative_l_ace)"
   ]
  },
  {
   "cell_type": "code",
   "execution_count": null,
   "id": "1c900436",
   "metadata": {},
   "outputs": [],
   "source": [
    "#check if there are more ace than service performed\n",
    "df_tennis.loc[df_tennis['l_svpt'] < df_tennis['l_ace']].shape[0]"
   ]
  },
  {
   "cell_type": "code",
   "execution_count": null,
   "id": "93ad49d2",
   "metadata": {},
   "outputs": [],
   "source": [
    "df_tennis.plot.scatter('l_svpt', 'l_ace')\n",
    "plt.show()"
   ]
  },
  {
   "cell_type": "code",
   "execution_count": null,
   "id": "e307e070",
   "metadata": {},
   "outputs": [],
   "source": [
    "#W_df: winner's number of doubles faults\n",
    "negative_l_df = df_tennis.loc[df_tennis['l_df'] < 0].shape[0]\n",
    "print(negative_l_df)"
   ]
  },
  {
   "cell_type": "code",
   "execution_count": null,
   "id": "216596d8",
   "metadata": {},
   "outputs": [],
   "source": [
    "df_tennis.plot.scatter('l_svpt', 'l_df')\n",
    "plt.show()"
   ]
  },
  {
   "cell_type": "code",
   "execution_count": null,
   "id": "6e7b6c3b",
   "metadata": {},
   "outputs": [],
   "source": [
    "#check if there are more double faults than service performed\n",
    "df_tennis.loc[df_tennis['l_svpt'] < df_tennis['l_df']].shape[0]"
   ]
  },
  {
   "cell_type": "code",
   "execution_count": null,
   "id": "fe2dc9d2",
   "metadata": {},
   "outputs": [],
   "source": [
    "#W_svpt: winner's number of serve points\n",
    "negative_l_ace = df_tennis.loc[df_tennis['l_svpt'] < 0].shape[0]\n",
    "print(negative_l_ace)"
   ]
  },
  {
   "cell_type": "code",
   "execution_count": null,
   "id": "42dda50f",
   "metadata": {
    "scrolled": true
   },
   "outputs": [],
   "source": [
    "#check for outliers for w_svpt\n",
    "df_tennis.boxplot(vert=False, column=['l_svpt'], return_type='axes',figsize=(10, 3))\n",
    "plt.show()"
   ]
  },
  {
   "cell_type": "markdown",
   "id": "10ad9c5d",
   "metadata": {},
   "source": [
    "#### w_1stIn"
   ]
  },
  {
   "cell_type": "code",
   "execution_count": null,
   "id": "f9a8b021",
   "metadata": {},
   "outputs": [],
   "source": [
    "#check to find negative values\n",
    "df_tennis.loc[df_tennis['w_1stIn'] < 0].shape[0]"
   ]
  },
  {
   "cell_type": "markdown",
   "id": "ab2002a0",
   "metadata": {},
   "source": [
    "#### l_1stIn"
   ]
  },
  {
   "cell_type": "code",
   "execution_count": null,
   "id": "1407c7ef",
   "metadata": {},
   "outputs": [],
   "source": [
    "#check on loser’s number of first serves made to find negative values\n",
    "df_tennis.loc[df_tennis['l_1stIn'] < 0].shape[0]"
   ]
  },
  {
   "cell_type": "markdown",
   "id": "37a3cd9f",
   "metadata": {},
   "source": [
    "#### w_1stWon and w_2ndWon"
   ]
  },
  {
   "cell_type": "code",
   "execution_count": null,
   "id": "f92e20f6",
   "metadata": {},
   "outputs": [],
   "source": [
    "#check to find negative values\n",
    "df_tennis.loc[df_tennis['w_1stWon'] < 0].shape[0]"
   ]
  },
  {
   "cell_type": "code",
   "execution_count": null,
   "id": "a642d938",
   "metadata": {},
   "outputs": [],
   "source": [
    "#check if there are more w_1stWon than fist service performed\n",
    "df_tennis.loc[df_tennis['w_1stIn'] < df_tennis['w_1stWon']].shape[0]"
   ]
  },
  {
   "cell_type": "code",
   "execution_count": null,
   "id": "29dfcaea",
   "metadata": {},
   "outputs": [],
   "source": [
    "#check to find negative values\n",
    "df_tennis.loc[df_tennis['w_2ndWon'] < 0].shape[0]"
   ]
  },
  {
   "cell_type": "code",
   "execution_count": null,
   "id": "ec3eb7c4",
   "metadata": {},
   "outputs": [],
   "source": [
    "#check that the number of serve point is not smaller than the number of first serves \n",
    "df_tennis[df_tennis['w_svpt'] < df_tennis['w_1stIn']].shape[0]"
   ]
  },
  {
   "cell_type": "code",
   "execution_count": null,
   "id": "7be63e7f",
   "metadata": {},
   "outputs": [],
   "source": [
    "#check that the number of serve point is not smaller than won serve points (first and second serve)\n",
    "df_tennis[df_tennis['w_svpt'] < df_tennis['w_1stWon']+df_tennis['w_2ndWon']].shape[0]"
   ]
  },
  {
   "cell_type": "markdown",
   "id": "58262411",
   "metadata": {},
   "source": [
    "#### l_1stWon and l_2ndWon\n"
   ]
  },
  {
   "cell_type": "code",
   "execution_count": null,
   "id": "5dd6fb0b",
   "metadata": {},
   "outputs": [],
   "source": [
    "df_tennis.loc[df_tennis['l_1stWon'] < 0].shape[0]"
   ]
  },
  {
   "cell_type": "code",
   "execution_count": null,
   "id": "dd568bd9",
   "metadata": {},
   "outputs": [],
   "source": [
    "df_tennis.loc[df_tennis['l_1stIn'] < df_tennis['l_1stWon']].shape[0]"
   ]
  },
  {
   "cell_type": "code",
   "execution_count": null,
   "id": "7cdf1a19",
   "metadata": {},
   "outputs": [],
   "source": [
    "df_tennis.loc[df_tennis['l_2ndWon'] < 0].shape[0]"
   ]
  },
  {
   "cell_type": "code",
   "execution_count": null,
   "id": "b26bc43e",
   "metadata": {},
   "outputs": [],
   "source": [
    "df_tennis[df_tennis['l_svpt'] < df_tennis['l_1stIn']].shape[0]"
   ]
  },
  {
   "cell_type": "code",
   "execution_count": null,
   "id": "4d54728e",
   "metadata": {},
   "outputs": [],
   "source": [
    "df_tennis[df_tennis['l_svpt'] < df_tennis['l_1stWon']+df_tennis['l_2ndWon']].shape[0]"
   ]
  },
  {
   "cell_type": "markdown",
   "id": "5b8c66d2",
   "metadata": {},
   "source": [
    "#### w_SvGms,  w_bpSaved and w_bpFaced"
   ]
  },
  {
   "cell_type": "code",
   "execution_count": null,
   "id": "fd1e94b9",
   "metadata": {},
   "outputs": [],
   "source": [
    "#Checks on w_SvGms\n",
    "df_tennis.loc[df_tennis['w_SvGms'] < 0].shape[0]"
   ]
  },
  {
   "cell_type": "code",
   "execution_count": null,
   "id": "784a0033",
   "metadata": {},
   "outputs": [],
   "source": [
    "import re\n",
    "#w_SvGms: winner’s number of serve games\n",
    "re_score1 = \"\\d[\\d-][^()]\"\n",
    "re_score2 = \"\\d\"\n",
    "df_cleaned = df_tennis[~(df_tennis['score'].isnull()) & ~(df_tennis['w_SvGms'].isnull())]\n",
    "scores = df_cleaned['score'].tolist()\n",
    "invalid_SvGms = []\n",
    "for i, score in enumerate(df_tennis['score'].tolist()):\n",
    "    if ((df_tennis.at[i,'score'] == 'nan') | (str(df_tennis.at[i,'w_SvGms']) == 'nan')):\n",
    "        continue\n",
    "#     if (Retirement(score) | Walkover(score) | Default(score) | Bye(score)):\n",
    "#         continue\n",
    "    int_scores = re.findall(re_score1, str(score))\n",
    "    int_scores = re.findall(re_score2, str(int_scores))\n",
    "    if(len(int_scores) > 6):\n",
    "        continue\n",
    "    score_sum = np.sum(list(map(lambda x: int(x), int_scores)))\n",
    "    if (((np.floor(score_sum/2) - 2) <= df_tennis.at[i,'w_SvGms']) or \n",
    "        ((np.ceil(score_sum/2) + 2) >= df_tennis.at[i,'w_SvGms'])):\n",
    "        continue\n",
    "    invalid_SvGms.append(i)\n",
    "#     print('+++ SCORE INVALIDO +++')\n",
    "#     print(\"SCORE -> \" + str(df_tennis.at[i,'score']))\n",
    "#     print(\"GAME SERVITI -> \" + str(df_tennis.at[i,'w_SvGms']))\n",
    "#     print(np.floor(score_sum/2))\n",
    "#     print(np.ceil(score_sum/2))\n",
    "#     print('+++++++')\n",
    "print(invalid_SvGms)"
   ]
  },
  {
   "cell_type": "code",
   "execution_count": null,
   "id": "90bf38ff",
   "metadata": {},
   "outputs": [],
   "source": [
    "df_tennis['w_bpSaved'].min() < 0"
   ]
  },
  {
   "cell_type": "code",
   "execution_count": null,
   "id": "4f03ffd3",
   "metadata": {},
   "outputs": [],
   "source": [
    "df_tennis['w_bpFaced'].min() < 0"
   ]
  },
  {
   "cell_type": "code",
   "execution_count": null,
   "id": "034b8be6",
   "metadata": {
    "scrolled": true
   },
   "outputs": [],
   "source": [
    "#check that number of faces is never bigger than number of saved\n",
    "df_tennis[df_tennis['w_bpSaved']>df_tennis['w_bpFaced']].shape[0]"
   ]
  },
  {
   "cell_type": "code",
   "execution_count": null,
   "id": "26f5236d",
   "metadata": {
    "scrolled": true
   },
   "outputs": [],
   "source": [
    "#check for outliers for w_bpFaced\n",
    "df_tennis.boxplot(vert=False, column=['w_bpFaced'], return_type='axes',figsize=(10, 3))\n",
    "plt.show()"
   ]
  },
  {
   "cell_type": "code",
   "execution_count": null,
   "id": "119c664e",
   "metadata": {},
   "outputs": [],
   "source": [
    "df_tennis[df_tennis['w_bpFaced']>75][['tourney_id', 'tourney_name', 'best_of', 'score','winner_name','w_bpFaced','loser_name','w_bpFaced']]"
   ]
  },
  {
   "cell_type": "code",
   "execution_count": null,
   "id": "0b40b9d8",
   "metadata": {},
   "outputs": [],
   "source": [
    "#check for outliers for w_bpSaved\n",
    "df_tennis.boxplot(vert=False, column=['w_bpSaved'], return_type='axes',figsize=(10, 3))\n",
    "plt.show()"
   ]
  },
  {
   "cell_type": "code",
   "execution_count": null,
   "id": "2deb1d46",
   "metadata": {},
   "outputs": [],
   "source": [
    "df_tennis[df_tennis['w_bpSaved']>75][['tourney_id', 'tourney_name', 'best_of', 'score','winner_name','w_bpFaced','w_bpSaved','loser_name','l_bpFaced','l_bpSaved']]"
   ]
  },
  {
   "cell_type": "markdown",
   "id": "39ac5857",
   "metadata": {},
   "source": [
    "#### l_SvGms,  l_bpSaved and l_bpFaced"
   ]
  },
  {
   "cell_type": "code",
   "execution_count": null,
   "id": "163c86b3",
   "metadata": {},
   "outputs": [],
   "source": [
    "df_tennis.loc[df_tennis['l_SvGms'] < 0].shape[0]"
   ]
  },
  {
   "cell_type": "code",
   "execution_count": null,
   "id": "44fa4525",
   "metadata": {},
   "outputs": [],
   "source": [
    "#l_SvGms: loser’s number of serve games\n",
    "re_score1 = \"\\d[\\d-][^()]\"\n",
    "re_score2 = \"\\d\"\n",
    "df_cleaned = df_tennis[~(df_tennis['score'].isnull()) & ~(df_tennis['l_SvGms'].isnull())]\n",
    "scores = df_cleaned['score'].tolist()\n",
    "invalid_SvGms = []\n",
    "for i, score in enumerate(df_tennis['score'].tolist()):\n",
    "    if ((df_tennis.at[i,'score'] == 'nan') | (str(df_tennis.at[i,'l_SvGms']) == 'nan')):\n",
    "        continue\n",
    "#     if (Retirement(score) | Walkover(score) | Default(score) | Bye(score)):\n",
    "#         continue\n",
    "    int_scores = re.findall(re_score1, str(score))\n",
    "    int_scores = re.findall(re_score2, str(int_scores))\n",
    "    if(len(int_scores) > 6):\n",
    "        continue\n",
    "    score_sum = np.sum(list(map(lambda x: int(x), int_scores)))\n",
    "    if (((np.floor(score_sum/2) - 2) <= df_tennis.at[i,'l_SvGms']) or \n",
    "        ((np.ceil(score_sum/2) + 2) >= df_tennis.at[i,'l_SvGms'])):\n",
    "        continue\n",
    "    invalid_SvGms.append(i)\n",
    "#     print('+++ SCORE INVALIDO +++')\n",
    "#     print(\"SCORE -> \" + str(df_tennis.at[i,'score']))\n",
    "#     print(\"GAME SERVITI -> \" + str(df_tennis.at[i,'w_SvGms']))\n",
    "#     print(np.floor(score_sum/2))\n",
    "#     print(np.ceil(score_sum/2))\n",
    "#     print('+++++++')\n",
    "print(invalid_SvGms)"
   ]
  },
  {
   "cell_type": "code",
   "execution_count": null,
   "id": "c0aceba2",
   "metadata": {},
   "outputs": [],
   "source": [
    "#check for outliers for w_bpFaced\n",
    "df_tennis.boxplot(vert=False, column=['l_bpFaced'], return_type='axes',figsize=(10, 3))\n",
    "plt.show()"
   ]
  },
  {
   "cell_type": "code",
   "execution_count": null,
   "id": "6f27744f",
   "metadata": {},
   "outputs": [],
   "source": [
    "df_tennis[df_tennis['l_bpFaced']>75][['tourney_id', 'tourney_name', 'best_of', 'score','winner_name','w_bpFaced','loser_name','l_bpFaced']]"
   ]
  },
  {
   "cell_type": "code",
   "execution_count": null,
   "id": "b787791c",
   "metadata": {},
   "outputs": [],
   "source": [
    "df_tennis['l_bpSaved'].min() < 0"
   ]
  },
  {
   "cell_type": "code",
   "execution_count": null,
   "id": "4f4ef4b7",
   "metadata": {},
   "outputs": [],
   "source": [
    "df_tennis['l_bpFaced'].min() < 0"
   ]
  },
  {
   "cell_type": "code",
   "execution_count": null,
   "id": "bc41fbd7",
   "metadata": {},
   "outputs": [],
   "source": [
    "#check that number of faces is never bigger than number of saved\n",
    "df_tennis[df_tennis['l_bpSaved']>df_tennis['l_bpFaced']].shape[0]"
   ]
  },
  {
   "cell_type": "code",
   "execution_count": null,
   "id": "c7af01e9",
   "metadata": {
    "scrolled": true
   },
   "outputs": [],
   "source": [
    "#check for outliers for l_bpSaved\n",
    "df_tennis.boxplot(vert=False, column=['l_bpSaved'], return_type='axes',figsize=(10, 3))\n",
    "plt.show()"
   ]
  },
  {
   "cell_type": "code",
   "execution_count": null,
   "id": "06138c6e",
   "metadata": {},
   "outputs": [],
   "source": [
    "df_tennis[df_tennis['l_bpSaved']>75][['tourney_id', 'tourney_name', 'best_of', 'score','winner_name','w_bpFaced','w_bpSaved','loser_name','l_bpFaced','l_bpSaved']]"
   ]
  },
  {
   "cell_type": "markdown",
   "id": "001d960a",
   "metadata": {},
   "source": [
    "#### Winner_rank and loser_rank"
   ]
  },
  {
   "cell_type": "code",
   "execution_count": null,
   "id": "356a8fc9",
   "metadata": {},
   "outputs": [],
   "source": [
    "df_tennis['winner_rank'].max()"
   ]
  },
  {
   "cell_type": "code",
   "execution_count": null,
   "id": "61640cd0",
   "metadata": {},
   "outputs": [],
   "source": [
    "df_tennis['winner_rank'].min() >= 1 #there cannot be rank smaller than 1"
   ]
  },
  {
   "cell_type": "code",
   "execution_count": null,
   "id": "d27aff74",
   "metadata": {},
   "outputs": [],
   "source": [
    "df_tennis['winner_rank'].min()"
   ]
  },
  {
   "cell_type": "code",
   "execution_count": null,
   "id": "e2f9ae7b",
   "metadata": {},
   "outputs": [],
   "source": [
    "df_tennis['loser_rank'].max()"
   ]
  },
  {
   "cell_type": "code",
   "execution_count": null,
   "id": "8bed9405",
   "metadata": {},
   "outputs": [],
   "source": [
    "df_tennis['loser_rank'].min() >= 1 #there cannot be rank smaller than 1"
   ]
  },
  {
   "cell_type": "code",
   "execution_count": null,
   "id": "ccc92698",
   "metadata": {},
   "outputs": [],
   "source": [
    "df_tennis['loser_rank'].min()"
   ]
  },
  {
   "cell_type": "markdown",
   "id": "519c4e47",
   "metadata": {},
   "source": [
    "#### Winner_rank_points and loser_rank_points"
   ]
  },
  {
   "cell_type": "code",
   "execution_count": null,
   "id": "634b07fc",
   "metadata": {},
   "outputs": [],
   "source": [
    "df_tennis['winner_rank_points'].max()<21750 #21750 is the maximum a player can reach"
   ]
  },
  {
   "cell_type": "code",
   "execution_count": null,
   "id": "b99bae3d",
   "metadata": {},
   "outputs": [],
   "source": [
    "df_tennis['winner_rank_points'].max()"
   ]
  },
  {
   "cell_type": "code",
   "execution_count": null,
   "id": "8909c4cc",
   "metadata": {},
   "outputs": [],
   "source": [
    "df_tennis['winner_rank_points'].min()"
   ]
  },
  {
   "cell_type": "code",
   "execution_count": null,
   "id": "8e71920c",
   "metadata": {},
   "outputs": [],
   "source": [
    "df_tennis[df_tennis['winner_rank_points'] == df_tennis['winner_rank_points'].min()].shape[0] "
   ]
  },
  {
   "cell_type": "code",
   "execution_count": null,
   "id": "9bd304f0",
   "metadata": {},
   "outputs": [],
   "source": [
    "df_tennis['loser_rank_points'].max()<21750 #21750 is the maximum a player can reach"
   ]
  },
  {
   "cell_type": "code",
   "execution_count": null,
   "id": "4d94ee20",
   "metadata": {},
   "outputs": [],
   "source": [
    "df_tennis['loser_rank_points'].max()"
   ]
  },
  {
   "cell_type": "code",
   "execution_count": null,
   "id": "aec35776",
   "metadata": {},
   "outputs": [],
   "source": [
    "df_tennis['loser_rank_points'].min()"
   ]
  },
  {
   "cell_type": "code",
   "execution_count": null,
   "id": "50392873",
   "metadata": {},
   "outputs": [],
   "source": [
    "df_tennis[df_tennis['loser_rank_points'] == df_tennis['loser_rank_points'].min()].shape[0] "
   ]
  },
  {
   "cell_type": "markdown",
   "id": "2de9cadc",
   "metadata": {},
   "source": [
    "**tourney_spectators**"
   ]
  },
  {
   "cell_type": "code",
   "execution_count": null,
   "id": "4bf5b2b6",
   "metadata": {
    "scrolled": true
   },
   "outputs": [],
   "source": [
    "df_tennis['tourney_spectators'].min() < 0"
   ]
  },
  {
   "cell_type": "code",
   "execution_count": null,
   "id": "08728688",
   "metadata": {},
   "outputs": [],
   "source": [
    "df_tennis['tourney_spectators'].max()"
   ]
  },
  {
   "cell_type": "code",
   "execution_count": null,
   "id": "4658828f",
   "metadata": {},
   "outputs": [],
   "source": [
    "df_tennis['tourney_spectators'].min()"
   ]
  },
  {
   "cell_type": "markdown",
   "id": "0d2b9925",
   "metadata": {},
   "source": [
    "**tourney_revenue**"
   ]
  },
  {
   "cell_type": "code",
   "execution_count": null,
   "id": "645b2039",
   "metadata": {
    "scrolled": true
   },
   "outputs": [],
   "source": [
    "df_tennis['tourney_revenue'].min() < 0"
   ]
  },
  {
   "cell_type": "code",
   "execution_count": null,
   "id": "fdf9d662",
   "metadata": {},
   "outputs": [],
   "source": [
    "df_tennis['tourney_revenue'].max()"
   ]
  },
  {
   "cell_type": "markdown",
   "id": "82d1584c",
   "metadata": {},
   "source": [
    "## Correlation"
   ]
  },
  {
   "cell_type": "code",
   "execution_count": null,
   "id": "dfed898a",
   "metadata": {},
   "outputs": [],
   "source": [
    "df_numeric = df_tennis[['draw_size','minutes','w_ace','w_df','w_svpt','w_1stIn', 'w_1stWon', 'w_2ndWon', \\\n",
    "                        'w_SvGms', 'winner_rank_points', 'w_bpSaved',  'w_bpFaced','l_ace','l_df','l_svpt',\\\n",
    "                        'l_1stIn', 'l_1stWon', 'l_2ndWon', 'l_SvGms', 'loser_rank_points', 'l_bpSaved',  'l_bpFaced']]\n",
    "df_numeric"
   ]
  },
  {
   "cell_type": "code",
   "execution_count": null,
   "id": "f403a7a2",
   "metadata": {},
   "outputs": [],
   "source": [
    "treshold = 0.8\n",
    "correlation = df_numeric.corr()\n",
    "correlation_filtered = correlation[correlation>treshold]\n",
    "correlation_filtered"
   ]
  },
  {
   "cell_type": "code",
   "execution_count": null,
   "id": "2851cb44",
   "metadata": {},
   "outputs": [],
   "source": [
    "correlation_filtered = correlation[correlation_filtered.sum()>1]\n",
    "correlation_filtered = correlation_filtered[correlation_filtered>treshold]\n",
    "correlation_filtered = correlation_filtered.dropna(axis=1,how='all')\n",
    "correlation_filtered"
   ]
  },
  {
   "cell_type": "markdown",
   "id": "b1fe094d",
   "metadata": {},
   "source": [
    "**w_svpt, w_1stIn, w_1stWon, w_SvGms** are all correlated because more service game (w_SvGms) a player does and, as consequence, more serve points (w_svpt) ze does (because if the player serves in a game, ze serves for all the points in that game, so these number increase together). If a player serves, the number of the first serves (W_1stln) increase. Increasing the number of first serves, the probability of won some of these serves increase so, more first serves we do, more won first serves (W_1stWon) we expect. The same reasoning is done also for the loser. Furhermore, winner and loser serves in an alternate way so, if the number of serves of the winner increase (for example because of more games), then also the number of the loser increase, so these information grown together.\n",
    "\n",
    "**w_bpSaved and w_bpFaced** are correlated because more are the breakpoints faced and more can be the breakpoint saved. "
   ]
  },
  {
   "cell_type": "code",
   "execution_count": null,
   "id": "8c9bbd62",
   "metadata": {},
   "outputs": [],
   "source": [
    "correlation_filtered = correlation[correlation<-treshold]\n",
    "correlation_filtered = correlation_filtered[correlation_filtered<-treshold]\n",
    "correlation_filtered.dropna(axis=1,how='all',inplace=True)\n",
    "correlation_filtered"
   ]
  },
  {
   "cell_type": "markdown",
   "id": "43a457df",
   "metadata": {},
   "source": [
    "there are no negative correlations to consider"
   ]
  },
  {
   "cell_type": "markdown",
   "id": "8b25820c",
   "metadata": {},
   "source": [
    "# Data Preparation"
   ]
  },
  {
   "cell_type": "code",
   "execution_count": null,
   "id": "5adc7803",
   "metadata": {},
   "outputs": [],
   "source": [
    "# load of the data\n",
    "DATASET_DIR = \"dataset\" + os.path.sep\n",
    "df_tennis = pd.read_csv(DATASET_DIR + 'tennis_matches.csv', sep=',', index_col=0) \n",
    "\n",
    "#index_col=False say to not use the first column as ID\n",
    "df_male = pd.read_csv(DATASET_DIR + 'male_players.csv', sep=',', index_col=False)\n",
    "df_female = pd.read_csv(DATASET_DIR + 'female_players.csv', sep=',', index_col=False) "
   ]
  },
  {
   "cell_type": "markdown",
   "id": "91aa6f31",
   "metadata": {},
   "source": [
    "### Remove rows completely null"
   ]
  },
  {
   "cell_type": "code",
   "execution_count": null,
   "id": "a5afd8ef",
   "metadata": {},
   "outputs": [],
   "source": [
    "#remove null rows\n",
    "df_male.dropna(how='all', inplace=True)\n",
    "df_female.dropna(how='all', inplace=True)\n",
    "df_tennis.dropna(how='all', inplace=True)"
   ]
  },
  {
   "cell_type": "markdown",
   "id": "4596cafa",
   "metadata": {},
   "source": [
    "## Male and female datasets"
   ]
  },
  {
   "cell_type": "code",
   "execution_count": null,
   "id": "8037956a",
   "metadata": {},
   "outputs": [],
   "source": [
    "#remove duplicates in the separate datasets\n",
    "df_male.drop_duplicates(keep='first', inplace=True)\n",
    "df_female.drop_duplicates(keep='first', inplace=True)"
   ]
  },
  {
   "cell_type": "markdown",
   "id": "4fd79e78",
   "metadata": {},
   "source": [
    "#### male"
   ]
  },
  {
   "cell_type": "code",
   "execution_count": null,
   "id": "60851766",
   "metadata": {},
   "outputs": [],
   "source": [
    "#rows with nulls in name: replace null with unknown\n",
    "df_male.loc[df_male['name'].isna(), ['name']]='unknown'\n",
    "df_male['name'].isna().sum(axis = 0)"
   ]
  },
  {
   "cell_type": "code",
   "execution_count": null,
   "id": "5152d9a6",
   "metadata": {},
   "outputs": [],
   "source": [
    "#rows with nulls in surname: replace null with unknown\n",
    "df_male.loc[df_male['surname'].isna(), ['surname']]='unknown'\n",
    "df_male['surname'].isna().sum(axis = 0)"
   ]
  },
  {
   "cell_type": "code",
   "execution_count": null,
   "id": "99a77e6f",
   "metadata": {},
   "outputs": [],
   "source": [
    "#errors reading from file: all in name and null surname (replaced with unknown)\n",
    "df_male[df_male['name'].str.contains(\",\")]\n",
    "for index, row in df_male[df_male['name'].str.contains(\",\")].iterrows():\n",
    "    if row['surname']=='unknown':\n",
    "        name = row['name'].split(\",\")\n",
    "        df_male.at[index,'surname']=name[len(name)-1]\n",
    "        df_male.at[index,'name']=' '.join(name[0:len(name)-1])\n",
    "        \n",
    "#print(df_male.loc[40071])"
   ]
  },
  {
   "cell_type": "code",
   "execution_count": null,
   "id": "e8501b6a",
   "metadata": {
    "scrolled": true
   },
   "outputs": [],
   "source": [
    "#names/surnames without any letters are invalid: set to unknown\n",
    "df_male.loc[~df_male['name'].str.contains(\"[a-zA-Z]\"), ['name']]='unknown'\n",
    "df_male.loc[~df_male['surname'].str.contains(\"[a-zA-Z]\"), ['surname']]='unknown'\n",
    "\n",
    "#replace numbers in names\n",
    "df_male[\"name\"] = df_male[\"name\"].str.replace(\"[0-9]\",\"\",regex=True)\n",
    "df_male[\"surname\"] = df_male[\"surname\"].str.replace(\"[0-9]\",\"\",regex=True)\n",
    "\n",
    "#characters not indicated in the expression are considered invalid\n",
    "df_male[\"name\"] = df_male[\"name\"].str.replace(\"[^a-zA-Z ',-_.]\",\"\",regex=True)\n",
    "#for surname remove string between ()\n",
    "for index, row in  df_male[df_male['surname'].str.contains('\\(')].iterrows():\n",
    "    pos = df_male.at[index,'surname'].find(\"(\")\n",
    "    df_male.at[index,'surname']= df_male.at[index,'surname'][0:pos]\n",
    "df_male[\"surname\"] = df_male[\"surname\"].str.replace(\"[^a-zA-Z ',-._]\",\"\",regex=True)\n",
    "\n",
    "#replace allowed \n",
    "df_male[\"name\"] = df_male[\"name\"].str.replace(\"[^a-zA-Z ]\",\" \",regex=True)\n",
    "df_male[\"surname\"] = df_male[\"surname\"].str.replace(\"[^a-zA-Z ]\",\" \",regex=True)\n",
    "\n",
    "#trim apply\n",
    "df_male[\"name\"] = df_male[\"name\"].str.strip()\n",
    "df_male[\"surname\"] = df_male[\"surname\"].str.strip()"
   ]
  },
  {
   "cell_type": "code",
   "execution_count": null,
   "id": "2fcc0ebf",
   "metadata": {},
   "outputs": [],
   "source": [
    "#check if duplicates are been introduced\n",
    "df_male.duplicated(keep='first').sum()"
   ]
  },
  {
   "cell_type": "code",
   "execution_count": null,
   "id": "f8c7c863",
   "metadata": {},
   "outputs": [],
   "source": [
    "#remove duplicates\n",
    "df_male.drop_duplicates(keep='first', inplace=True)"
   ]
  },
  {
   "cell_type": "code",
   "execution_count": null,
   "id": "12a07cb4",
   "metadata": {},
   "outputs": [],
   "source": [
    "#remove (if there is) the row <unknown unknown>\n",
    "row = df_male.index[(df_male['name'].str.lower()=='unknown') & (df_male['surname'].str.lower()=='unknown')].tolist()\n",
    "df_male.drop(row, inplace=True)"
   ]
  },
  {
   "cell_type": "markdown",
   "id": "2623b473",
   "metadata": {},
   "source": [
    "#### female"
   ]
  },
  {
   "cell_type": "code",
   "execution_count": null,
   "id": "b1abafe8",
   "metadata": {},
   "outputs": [],
   "source": [
    "#rows with nulls in name: replace null with unknown\n",
    "df_female.loc[df_female['name'].isna(), ['name']]='unknown'\n",
    "df_female['name'].isna().sum(axis = 0)"
   ]
  },
  {
   "cell_type": "code",
   "execution_count": null,
   "id": "5bb48bfc",
   "metadata": {},
   "outputs": [],
   "source": [
    "#rows with nulls in surname: replace null with unknown\n",
    "df_female.loc[df_female['surname'].isna(), ['surname']]='unknown'\n",
    "df_female['surname'].isna().sum(axis = 0)"
   ]
  },
  {
   "cell_type": "code",
   "execution_count": null,
   "id": "3b4dd085",
   "metadata": {},
   "outputs": [],
   "source": [
    "#errors reading from file: all in name and null surname (replaced with unknown)\n",
    "df_female[df_female['name'].str.contains(\",\")]\n",
    "for index, row in df_female[df_female['name'].str.contains(\",\")].iterrows():\n",
    "    if row['surname']=='unknown':\n",
    "        name = row['name'].split(\",\")\n",
    "        df_female.at[index,'surname']=name[len(name)-1]\n",
    "        df_female.at[index,'name']=' '.join(name[0:len(name)-1])"
   ]
  },
  {
   "cell_type": "code",
   "execution_count": null,
   "id": "35af4fb5",
   "metadata": {},
   "outputs": [],
   "source": [
    "#names/surnames without any letters are invalid: set to unknown\n",
    "df_female.loc[~df_female['name'].str.contains(\"[a-zA-Z]\"), ['name']]='unknown'\n",
    "df_female.loc[~df_female['surname'].str.contains(\"[a-zA-Z]\"), ['surname']]='unknown'\n",
    "\n",
    "#replace numbers in names\n",
    "df_female[\"name\"] = df_female[\"name\"].str.replace(\"[0-9]\",\"\",regex=True)\n",
    "df_female[\"surname\"] = df_female[\"surname\"].str.replace(\"[0-9]\",\"\",regex=True)\n",
    "\n",
    "#characters not indicated in the expression are considered invalid\n",
    "df_female[\"name\"] = df_female[\"name\"].str.replace(\"[^a-zA-Z ',-_.]\",\"\",regex=True)\n",
    "#for surname remove string between ()\n",
    "for index, row in  df_female[df_female['surname'].str.contains('\\(')].iterrows():\n",
    "    pos = df_female.at[index,'surname'].find(\"(\")\n",
    "    df_female.at[index,'surname']= df_female.at[index,'surname'][0:pos]\n",
    "df_female[\"surname\"] = df_female[\"surname\"].str.replace(\"[^a-zA-Z ',-._]\",\"\",regex=True)\n",
    "\n",
    "#replace allowed \n",
    "df_female[\"name\"] = df_female[\"name\"].str.replace(\"[^a-zA-Z ]\",\" \",regex=True)\n",
    "df_female[\"surname\"] = df_female[\"surname\"].str.replace(\"[^a-zA-Z ]\",\" \",regex=True)\n",
    "\n",
    "#trim apply\n",
    "df_female[\"name\"] = df_female[\"name\"].str.strip()\n",
    "df_female[\"surname\"] = df_female[\"surname\"].str.strip()"
   ]
  },
  {
   "cell_type": "code",
   "execution_count": null,
   "id": "37206157",
   "metadata": {},
   "outputs": [],
   "source": [
    "#check if duplicates are been introduced\n",
    "df_female.duplicated(keep='first').sum()"
   ]
  },
  {
   "cell_type": "code",
   "execution_count": null,
   "id": "cd7a5141",
   "metadata": {},
   "outputs": [],
   "source": [
    "#remove duplicates\n",
    "df_female.drop_duplicates(keep='first', inplace=True)"
   ]
  },
  {
   "cell_type": "code",
   "execution_count": null,
   "id": "33627f5d",
   "metadata": {},
   "outputs": [],
   "source": [
    "#remove (if there is) the row <unknown unknown>\n",
    "row = df_female.index[(df_female['name'].str.lower()=='unknown') & (df_female['surname'].str.lower()=='unknown')].tolist()\n",
    "df_female.drop(row, inplace=True)"
   ]
  },
  {
   "cell_type": "markdown",
   "id": "83b261db",
   "metadata": {},
   "source": [
    "#### Player dataset"
   ]
  },
  {
   "cell_type": "code",
   "execution_count": null,
   "id": "c08c7aea",
   "metadata": {},
   "outputs": [],
   "source": [
    "df_male['whole_name'] = df_male['name']+\" \"+df_male['surname']\n",
    "df_male['sex']='M'\n",
    "df_female['whole_name'] = df_female['name']+\" \"+df_female['surname']\n",
    "df_female['sex']='F'"
   ]
  },
  {
   "cell_type": "code",
   "execution_count": null,
   "id": "bc81150d",
   "metadata": {},
   "outputs": [],
   "source": [
    "#creation of the dataset of the player including the information about sex\n",
    "df_players = pd.concat([df_male, df_female])"
   ]
  },
  {
   "cell_type": "code",
   "execution_count": null,
   "id": "a67cb882",
   "metadata": {},
   "outputs": [],
   "source": [
    "#see if a name can be both male and female and manage them\n",
    "df_players.loc[df_players.duplicated(subset=['name','surname'],keep=False)==True, ['sex']]='U'\n",
    "df_players.drop_duplicates(keep='first', inplace=True)\n",
    "df_players"
   ]
  },
  {
   "cell_type": "markdown",
   "id": "65cec1b8",
   "metadata": {},
   "source": [
    "## Tennis dataset"
   ]
  },
  {
   "cell_type": "code",
   "execution_count": null,
   "id": "2ea4c0ee",
   "metadata": {},
   "outputs": [],
   "source": [
    "df_tennis.drop_duplicates(keep='first', inplace=True)"
   ]
  },
  {
   "cell_type": "markdown",
   "id": "1281624f",
   "metadata": {},
   "source": [
    "#### tourney_id"
   ]
  },
  {
   "cell_type": "code",
   "execution_count": null,
   "id": "ccc4c4c4",
   "metadata": {},
   "outputs": [],
   "source": [
    "df_tennis['tourney_id'].isna().sum(axis = 0)\n",
    "df_tennis.loc[df_tennis['tourney_id'].isna(), ['tourney_id']]='unknown'"
   ]
  },
  {
   "cell_type": "markdown",
   "id": "ee37591c",
   "metadata": {},
   "source": [
    "#### winner_name and loser_name"
   ]
  },
  {
   "cell_type": "code",
   "execution_count": null,
   "id": "1bea40f3",
   "metadata": {},
   "outputs": [],
   "source": [
    "#rows with nulls in name: replace null with unknown\n",
    "df_tennis.loc[df_tennis['winner_name'].isna(), ['winner_name']]='unknown unknown'\n",
    "df_tennis['winner_name'].isna().sum(axis = 0)\n",
    "\n",
    "df_tennis.loc[df_tennis['loser_name'].isna(), ['loser_name']]='unknown unknown'\n",
    "df_tennis['loser_name'].isna().sum(axis = 0)"
   ]
  },
  {
   "cell_type": "code",
   "execution_count": null,
   "id": "bf1a2b7e",
   "metadata": {},
   "outputs": [],
   "source": [
    "#nameswithout any letters are invalid: set to unknown\n",
    "df_tennis.loc[~df_tennis['winner_name'].str.contains(\"[a-zA-Z]\"), ['winner_name']]='unknown unknown'\n",
    "df_tennis.loc[~df_tennis['loser_name'].str.contains(\"[a-zA-Z]\"), ['loser_name']]='unknown unknown'\n",
    "\n",
    "#replace numbers in names\n",
    "df_tennis[\"winner_name\"] = df_tennis[\"winner_name\"].str.replace(\"[0-9]\",\"\",regex=True)\n",
    "df_tennis[\"loser_name\"] = df_tennis[\"loser_name\"].str.replace(\"[0-9]\",\"\",regex=True)\n",
    "\n",
    "#remove string between ()\n",
    "for index, row in  df_tennis[df_tennis['winner_name'].str.contains('\\(')].iterrows():\n",
    "    pos = df_tennis.at[index,'winner_name'].find(\"(\")\n",
    "    df_tennis.at[index,'winner_name']= df_tennis.at[index,'winner_name'][0:pos]\n",
    "for index, row in  df_tennis[df_tennis['loser_name'].str.contains('\\(')].iterrows():\n",
    "    pos = df_tennis.at[index,'loser_name'].find(\"(\")\n",
    "    df_tennis.at[index,'loser_name']= df_tennis.at[index,'loser_name'][0:pos]\n",
    "    \n",
    "#characters not indicated in the expression are considered invalid    \n",
    "df_tennis[\"winner_name\"] = df_tennis[\"winner_name\"].str.replace(\"[^a-zA-Z ',-_.]\",\"\",regex=True)    \n",
    "df_tennis[\"loser_name\"] = df_tennis[\"loser_name\"].str.replace(\"[^a-zA-Z ',-._]\",\"\",regex=True)\n",
    "\n",
    "#replace allowed \n",
    "df_tennis[\"winner_name\"] = df_tennis[\"winner_name\"].str.replace(\"[^a-zA-Z ]\",\" \",regex=True)\n",
    "df_tennis[\"loser_name\"] = df_tennis[\"loser_name\"].str.replace(\"[^a-zA-Z ]\",\" \",regex=True)\n",
    "\n",
    "#trim apply\n",
    "df_tennis[\"winner_name\"] = df_tennis[\"winner_name\"].str.strip()\n",
    "df_tennis[\"loser_name\"] = df_tennis[\"loser_name\"].str.strip()\n",
    "#df_tennis[['winner_name','loser_name']]"
   ]
  },
  {
   "cell_type": "code",
   "execution_count": null,
   "id": "24533419",
   "metadata": {},
   "outputs": [],
   "source": [
    "#check if duplicates are been introduced\n",
    "df_tennis.duplicated(keep='first').sum()\n",
    "#df_tennis[df_tennis.duplicated(keep='first')==True]"
   ]
  },
  {
   "cell_type": "code",
   "execution_count": null,
   "id": "74585b53",
   "metadata": {},
   "outputs": [],
   "source": [
    "#remove duplicates\n",
    "df_tennis.drop_duplicates(keep='first', inplace=True)"
   ]
  },
  {
   "cell_type": "code",
   "execution_count": null,
   "id": "cce3e695",
   "metadata": {},
   "outputs": [],
   "source": [
    "#remove (if there is) the row unknown-unknown for winner and (&) loser\n",
    "row = df_tennis.index[(df_tennis['winner_name'].str.lower()=='unknown unknown') \n",
    "                      & (df_tennis['loser_name'].str.lower()=='unknown unknown')\n",
    "                      & (df_tennis['winner_id'].isnull()) \n",
    "                      & (df_tennis['loser_id'].isnull()) \n",
    "                     ].tolist()\n",
    "df_tennis.drop(row, inplace=True)"
   ]
  },
  {
   "cell_type": "code",
   "execution_count": null,
   "id": "69ef7cb0",
   "metadata": {},
   "outputs": [],
   "source": [
    "#remove multiple \" \"\n",
    "df_tennis['winner_name'] = df_tennis['winner_name'].map(lambda x: re.sub(' +', ' ', x))\n",
    "df_tennis['loser_name'] = df_tennis['loser_name'].map(lambda x: re.sub(' +', ' ', x))"
   ]
  },
  {
   "cell_type": "markdown",
   "id": "96a698a9",
   "metadata": {},
   "source": [
    "Fixing names with more the one id binded "
   ]
  },
  {
   "cell_type": "code",
   "execution_count": null,
   "id": "31ad1ec5",
   "metadata": {
    "scrolled": true
   },
   "outputs": [],
   "source": [
    "#Removing the multiple ids for one name WINNER\n",
    "mul_ids = get_w_name_ids()\n",
    "df_mul_ids = df_tennis[df_tennis['winner_name'].isin(mul_ids) & (df_tennis['winner_name'] != 'unknown unknown')][['winner_name','winner_id']].sort_values(by=['winner_name','winner_id'])\n",
    "w_names = df_mul_ids['winner_name'].unique().tolist()\n",
    "w_ids = df_mul_ids['winner_id'].unique().tolist()\n",
    "correct_w_id = {}\n",
    "ids = df_mul_ids.groupby(['winner_name','winner_id'])['winner_id'].count().to_list()\n",
    "i = 0\n",
    "for name in w_names:\n",
    "    if(ids[i] >= ids[i+1]):\n",
    "        correct_w_id[name] = w_ids[i]\n",
    "        df_tennis.loc[df_tennis['winner_name'] == name, 'winner_id'] = w_ids[i]\n",
    "    else:\n",
    "        correct_w_id[name] = w_ids[i+1]\n",
    "        df_tennis.loc[df_tennis['winner_name'] == name, 'winner_id'] = w_ids[i+1]\n",
    "    i+=2"
   ]
  },
  {
   "cell_type": "code",
   "execution_count": null,
   "id": "b5723b45",
   "metadata": {},
   "outputs": [],
   "source": [
    "df_tennis.loc[df_tennis['loser_name'] == 'unknown unknown', 'loser_name'] = None"
   ]
  },
  {
   "cell_type": "code",
   "execution_count": null,
   "id": "dd7d9664",
   "metadata": {},
   "outputs": [],
   "source": [
    "#Removing the multiple ids for one name LOSER\n",
    "mul_ids = get_l_name_ids()\n",
    "df_mul_ids = df_tennis[df_tennis['loser_name'].isin(mul_ids)][['loser_name','loser_id']].sort_values(by=['loser_name','loser_id'])\n",
    "l_names = df_mul_ids['loser_name'].unique().tolist()\n",
    "l_ids = df_mul_ids['loser_id'].unique().tolist()\n",
    "correct_l_id = {}\n",
    "ids = df_mul_ids.groupby(['loser_name','loser_id'])['loser_id'].count().to_list()\n",
    "i = 0\n",
    "for name in l_names:\n",
    "    if(ids[i] >= ids[i+1]):\n",
    "        correct_l_id[name] = l_ids[i]\n",
    "        df_tennis.loc[df_tennis['loser_name'] == name, 'loser_id'] = l_ids[i]\n",
    "    else:\n",
    "        correct_l_id[name] = l_ids[i+1]\n",
    "        df_tennis.loc[df_tennis['loser_name'] == name, 'loser_id'] = l_ids[i+1]\n",
    "    i+=2"
   ]
  },
  {
   "cell_type": "markdown",
   "id": "7053f9be",
   "metadata": {},
   "source": [
    "**Removing id binded with multiple names**"
   ]
  },
  {
   "cell_type": "code",
   "execution_count": null,
   "id": "44aab20c",
   "metadata": {},
   "outputs": [],
   "source": [
    "# df_mul_names = df_tennis[df_tennis['winner_id'].isin(get_w_id_names())][['winner_name','winner_id']].sort_values(by=['winner_name','winner_id'])\n",
    "# df_mul_names = df_mul_names.value_counts().reset_index()\n",
    "# df_mul_names.columns = ['winner_name', 'winner_id', 'count']\n",
    "# df_mul_names.sort_values(by='winner_id')"
   ]
  },
  {
   "cell_type": "code",
   "execution_count": null,
   "id": "86173e6d",
   "metadata": {
    "scrolled": true
   },
   "outputs": [],
   "source": [
    "df_mul_names = df_tennis[df_tennis['winner_id'].isin(get_w_id_names())][['winner_name','winner_id']].sort_values(by=['winner_name','winner_id'])\n",
    "df_mul_names = df_mul_names.value_counts().reset_index()\n",
    "df_mul_names.columns = ['winner_name', 'winner_id', 'count']\n",
    "df_mul_names.sort_values(by='winner_id')\n",
    "id_list =  df_mul_names['winner_id'].unique()\n",
    "for w_id in id_list:\n",
    "    p1 = df_mul_names[df_mul_names['winner_id'] == w_id]['winner_name'].to_list()[0]\n",
    "    c1 = df_mul_names[df_mul_names['winner_id'] == w_id]['count'].to_list()[0]\n",
    "    p2 = df_mul_names[df_mul_names['winner_id'] == w_id]['winner_name'].to_list()[1]\n",
    "    c2 = df_mul_names[df_mul_names['winner_id'] == w_id]['count'].to_list()[1]\n",
    "    new_id = max(df_tennis['winner_id'].max(),df_tennis['loser_id'].max()) + 1\n",
    "    if(c1 >= c2):\n",
    "        df_tennis.loc[df_tennis['winner_name'] == p2, 'winner_id'] = new_id\n",
    "        df_tennis.loc[df_tennis['loser_name'] == p2, 'loser_id'] = new_id\n",
    "    else:\n",
    "        df_tennis.loc[df_tennis['winner_name'] == p1, 'winner_id'] = new_id\n",
    "        df_tennis.loc[df_tennis['loser_name'] == p1, 'loser_id'] = new_id        "
   ]
  },
  {
   "cell_type": "code",
   "execution_count": null,
   "id": "8586ae50",
   "metadata": {},
   "outputs": [],
   "source": [
    "df_mul_names = df_tennis[df_tennis['loser_id'].isin(get_l_id_names()) & (df_tennis['loser_name'] != 'unknown unknown')][['loser_name','loser_id']].sort_values(by=['loser_name','loser_id'])\n",
    "df_mul_names = df_mul_names.value_counts().reset_index()\n",
    "df_mul_names.columns = ['loser_name', 'loser_id', 'count']\n",
    "df_mul_names.sort_values(by='loser_id')\n",
    "id_list =  df_mul_names['loser_id'].unique()\n",
    "for l_id in id_list:\n",
    "    p1 = df_mul_names[df_mul_names['loser_id'] == l_id]['loser_name'].to_list()[0]\n",
    "    c1 = df_mul_names[df_mul_names['loser_id'] == l_id]['count'].to_list()[0]\n",
    "    p2 = df_mul_names[df_mul_names['loser_id'] == l_id]['loser_name'].to_list()[1]\n",
    "    c2 = df_mul_names[df_mul_names['loser_id'] == l_id]['count'].to_list()[1]\n",
    "    new_id = max(df_tennis['winner_id'].max(),df_tennis['loser_id'].max()) + 1\n",
    "    if(c1 >= c2):\n",
    "        df_tennis.loc[df_tennis['winner_name'] == p2, 'winner_id'] = new_id\n",
    "        df_tennis.loc[df_tennis['loser_name'] == p2, 'loser_id'] = new_id\n",
    "    else:\n",
    "        df_tennis.loc[df_tennis['winner_name'] == p1, 'winner_id'] = new_id\n",
    "        df_tennis.loc[df_tennis['loser_name'] == p1, 'loser_id'] = new_id    "
   ]
  },
  {
   "cell_type": "code",
   "execution_count": null,
   "id": "b98a9e56",
   "metadata": {},
   "outputs": [],
   "source": [
    "df_tennis.loc[df_tennis['loser_name'].isna(), 'loser_name'] = 'unknown unknown'"
   ]
  },
  {
   "cell_type": "markdown",
   "id": "161ddfde",
   "metadata": {},
   "source": [
    "#### merge names of datasets"
   ]
  },
  {
   "cell_type": "code",
   "execution_count": null,
   "id": "117308c0",
   "metadata": {},
   "outputs": [],
   "source": [
    "tennis_names = df_tennis['winner_name'].drop_duplicates().tolist()+ \\\n",
    "                df_tennis['loser_name'].drop_duplicates().tolist()\n",
    "tennis_names = list(dict.fromkeys(tennis_names))"
   ]
  },
  {
   "cell_type": "code",
   "execution_count": null,
   "id": "4406016b",
   "metadata": {},
   "outputs": [],
   "source": [
    "df_names = pd.DataFrame(tennis_names, columns=['whole_name'])\n",
    "df_names #10103 rows"
   ]
  },
  {
   "cell_type": "code",
   "execution_count": null,
   "id": "8a692eb4",
   "metadata": {
    "scrolled": false
   },
   "outputs": [],
   "source": [
    "df_players"
   ]
  },
  {
   "cell_type": "code",
   "execution_count": null,
   "id": "7cb77013",
   "metadata": {},
   "outputs": [],
   "source": [
    "df_players = df_names.merge(df_players, how='left', on='whole_name')\n",
    "df_players"
   ]
  },
  {
   "cell_type": "code",
   "execution_count": null,
   "id": "96ba2462",
   "metadata": {},
   "outputs": [],
   "source": [
    "#df_players[df_players['winner_name']=='Carlos  Cuevas']\n",
    "df_players.loc[df_players['sex'].isna(),'sex']='U'"
   ]
  },
  {
   "cell_type": "code",
   "execution_count": null,
   "id": "db764733",
   "metadata": {},
   "outputs": [],
   "source": [
    "#remove unknown - unknown\n",
    "row = df_players.index[df_players['whole_name'].str.lower()=='unknown unknown'].tolist()\n",
    "df_players.drop(row, inplace=True)"
   ]
  },
  {
   "cell_type": "code",
   "execution_count": null,
   "id": "02d63a9b",
   "metadata": {},
   "outputs": [],
   "source": [
    "df_players = df_players.drop(columns=['name', 'surname'])"
   ]
  },
  {
   "cell_type": "code",
   "execution_count": null,
   "id": "94567170",
   "metadata": {
    "scrolled": true
   },
   "outputs": [],
   "source": [
    "df_players"
   ]
  },
  {
   "cell_type": "code",
   "execution_count": null,
   "id": "4f76f06d",
   "metadata": {
    "scrolled": true
   },
   "outputs": [],
   "source": [
    "df_tennis['winner_id'].max()"
   ]
  },
  {
   "cell_type": "markdown",
   "id": "777f2219",
   "metadata": {},
   "source": [
    "**Adding id column to player dataframe**"
   ]
  },
  {
   "cell_type": "code",
   "execution_count": null,
   "id": "69428cbe",
   "metadata": {
    "scrolled": true
   },
   "outputs": [],
   "source": [
    "df_w = df_tennis[['winner_name','winner_id']].drop_duplicates()\n",
    "df_l = df_tennis[['loser_name','loser_id']].drop_duplicates()\n",
    "df_l = df_l.rename(columns={\"loser_name\": \"winner_name\", \"loser_id\": \"winner_id\"})\n",
    "df = df_w.append(df_l)\n",
    "df = df.set_index('winner_name')\n",
    "df = df.dropna()\n",
    "\n",
    "dict_name_id = df.to_dict()\n",
    "dict_name_id = dict_name_id['winner_id']\n",
    "ids = []\n",
    "for name in df_players['whole_name']:\n",
    "    if name in dict_name_id:\n",
    "        ids.append(dict_name_id[name])\n",
    "print(len(ids))\n",
    "df_players['id'] = ids"
   ]
  },
  {
   "cell_type": "code",
   "execution_count": null,
   "id": "15a9fcd6",
   "metadata": {},
   "outputs": [],
   "source": [
    "df_players"
   ]
  },
  {
   "cell_type": "code",
   "execution_count": null,
   "id": "7ac11fd3",
   "metadata": {},
   "outputs": [],
   "source": [
    "df_tmp_names = df_players[['whole_name','id']]\n",
    "df_tmp_names = df_tmp_names.set_index('whole_name')\n",
    "df_tmp_ids = df_players[['whole_name','id']]\n",
    "df_tmp_ids = df_tmp_ids.set_index('id')\n",
    "dict_names_ids = df_tmp_names['id'].to_dict()\n",
    "dict_ids_names = df_tmp_ids['whole_name'].to_dict()"
   ]
  },
  {
   "cell_type": "code",
   "execution_count": null,
   "id": "6c044368",
   "metadata": {},
   "outputs": [],
   "source": [
    "#fill missing winner_id or winner_id values\n",
    "conditions = (df_tennis['winner_id'].isnull() ^ (df_tennis['winner_name'] == 'unknown unknown'))\n",
    "df_tmp = df_tennis[conditions][['winner_name','winner_id']]\n",
    "for index, row in df_tmp.iterrows():\n",
    "    if(row['winner_name'] == 'unknown unknown'):\n",
    "         if(row['winner_id'] in dict_ids_names.keys()):\n",
    "                print(row['winner_name'], row['winner_id'])\n",
    "                df_tennis.loc[df_tennis['winner_id'] == row['winner_id'], 'winner_name'] = dict_ids_names[row['winner_id']]\n",
    "    else:\n",
    "         if(row['winner_name'] in dict_names_ids.keys()):\n",
    "            df_tennis.loc[df_tennis['winner_name'] == row['winner_name'], 'winner_id'] = dict_names_ids[row['winner_name']]"
   ]
  },
  {
   "cell_type": "code",
   "execution_count": null,
   "id": "cd822a5d",
   "metadata": {},
   "outputs": [],
   "source": [
    "#fill missing loser_id or loser_id values\n",
    "conditions = (df_tennis['loser_id'].isnull() ^ (df_tennis['loser_name'] == 'unknown unknown'))\n",
    "df_tmp = df_tennis[conditions][['loser_name','loser_id']]\n",
    "for index, row in df_tmp.iterrows():\n",
    "    if(row['loser_name'] == 'unknown unknown'):\n",
    "         if(row['loser_id'] in dict_ids_names.keys()):\n",
    "                df_tennis.loc[df_tennis['loser_id'] == row['loser_id'], 'loser_name'] = dict_ids_names[row['loser_id']]\n",
    "    else:\n",
    "         if(row['loser_name'] in dict_names_ids.keys()):\n",
    "            df_tennis.loc[df_tennis['loser_name'] == row['loser_name'], 'loser_id'] = dict_names_ids[row['loser_name']]"
   ]
  },
  {
   "cell_type": "markdown",
   "id": "55d811cf",
   "metadata": {},
   "source": [
    "#### establish sex looking matches"
   ]
  },
  {
   "cell_type": "code",
   "execution_count": null,
   "id": "7258a4f3",
   "metadata": {},
   "outputs": [],
   "source": [
    "#establish sex for unknown and correct for known if there are errors"
   ]
  },
  {
   "cell_type": "code",
   "execution_count": null,
   "id": "2377c641",
   "metadata": {},
   "outputs": [],
   "source": [
    "sex_dict = dict(zip(df_players.whole_name, df_players.sex))\n",
    "dict_winner_match = df_tennis.groupby('winner_name')['loser_name'].unique().dropna().apply(list).to_dict()\n",
    "dict_loser_match = df_tennis.groupby('loser_name')['winner_name'].unique().dropna().apply(list).to_dict()"
   ]
  },
  {
   "cell_type": "code",
   "execution_count": null,
   "id": "438f3025",
   "metadata": {},
   "outputs": [],
   "source": [
    "#check if errors with F or M\n",
    "error = 0\n",
    "erorr_rows_indexes = []\n",
    "\n",
    "for index, row in df_players[df_players['sex']!='U'].iterrows():\n",
    "    #consider the players as winner\n",
    "    if row['whole_name'] in dict_winner_match:\n",
    "        losers = dict_winner_match[row['whole_name']]\n",
    "        for loser in losers:\n",
    "            if loser!='unknown unknown' and row['sex']!=sex_dict[loser] and sex_dict[loser]!='U':\n",
    "                error +=1\n",
    "                erorr_rows_indexes.append(row)\n",
    "    \n",
    "    #consider the players as loser\n",
    "    if row['whole_name'] in dict_loser_match:\n",
    "        winners = dict_loser_match[row['whole_name']]\n",
    "        for winner in winners:\n",
    "            if winner!='unknown unknown' and row['sex']!=sex_dict[winner] and sex_dict[winner]!='U':\n",
    "                error +=1\n",
    "                erorr_rows_indexes.append(row)"
   ]
  },
  {
   "cell_type": "code",
   "execution_count": null,
   "id": "4d936e5a",
   "metadata": {},
   "outputs": [],
   "source": [
    "error\n",
    "erorr_rows_indexes"
   ]
  },
  {
   "cell_type": "markdown",
   "id": "12938c74",
   "metadata": {},
   "source": [
    "So, in each match male is against male and female against female (or unknown)"
   ]
  },
  {
   "cell_type": "code",
   "execution_count": null,
   "id": "cce62a5d",
   "metadata": {},
   "outputs": [],
   "source": [
    "#correct unknown sex and check if we introduce errors\n",
    "error = 0\n",
    "erorr_rows_indexes = []\n",
    "\n",
    "for index, row in df_players[df_players['sex']!='U'].iterrows():\n",
    "    #consider the players as winner\n",
    "    if row['whole_name'] in dict_winner_match:\n",
    "        losers = dict_winner_match[row['whole_name']]\n",
    "        for loser in losers:\n",
    "            if loser!='unknown unknown' and row['sex']!=sex_dict[loser]:\n",
    "                if sex_dict[loser]!='U':\n",
    "                    error +=1\n",
    "                    erorr_rows_indexes.append(row)\n",
    "                else:\n",
    "                    #set sex of the loser as row['sex']\n",
    "                    df_players.at[index,'sex']= row['sex']\n",
    "                    sex_dict = dict(zip(df_players.whole_name, df_players.sex))\n",
    "    \n",
    "    #consider the players as loser\n",
    "    if row['whole_name'] in dict_loser_match:\n",
    "        winners = dict_loser_match[row['whole_name']]\n",
    "        for winner in winners:\n",
    "            if winner!='unknown unknown' and row['sex']!=sex_dict[winner]:\n",
    "                if sex_dict[winner]!='U':\n",
    "                    error +=1\n",
    "                    erorr_rows_indexes.append(row)\n",
    "                else:\n",
    "                    #set sex of the loser as row['sex']\n",
    "                    df_players.at[index,'sex']= row['sex']\n",
    "                    sex_dict = dict(zip(df_players.whole_name, df_players.sex))"
   ]
  },
  {
   "cell_type": "code",
   "execution_count": null,
   "id": "6a2fa63e",
   "metadata": {},
   "outputs": [],
   "source": [
    "df_players[df_players['sex']=='U'].shape[0] #35"
   ]
  },
  {
   "cell_type": "markdown",
   "id": "fb708a01",
   "metadata": {},
   "source": [
    "#### tourney_name"
   ]
  },
  {
   "cell_type": "code",
   "execution_count": null,
   "id": "6291f968",
   "metadata": {
    "scrolled": true
   },
   "outputs": [],
   "source": [
    "#rows with nulls in name: replace null with unknown\n",
    "df_tennis.loc[df_tennis['tourney_name'].isna(), ['tourney_name']]='unknown'"
   ]
  },
  {
   "cell_type": "code",
   "execution_count": null,
   "id": "6b574b0d",
   "metadata": {
    "scrolled": true
   },
   "outputs": [],
   "source": [
    "#names without any letters are invalid: set to unknown\n",
    "df_tennis.loc[~df_tennis['tourney_name'].str.contains(\"[a-zA-Z]\"), ['tourney_name']]='unknown'\n",
    "\n",
    "#replace numbers in names\n",
    "df_tennis[\"tourney_name\"] = df_tennis[\"tourney_name\"].str.replace(\"[0-9]\",\"\",regex=True)\n",
    "\n",
    "#remove string between ()\n",
    "for index, row in  df_tennis[df_tennis['tourney_name'].str.contains('\\(')].iterrows():\n",
    "    pos = df_tennis.at[index,'tourney_name'].find(\"(\")\n",
    "    df_tennis.at[index,'tourney_name']= df_tennis.at[index,'tourney_name'][0:pos]\n",
    "    \n",
    "#characters not indicated in the expression are considered invalid    \n",
    "df_tennis[\"tourney_name\"] = df_tennis[\"tourney_name\"].str.replace(\"[^a-zA-Z -_]\",\"\",regex=True)\n",
    "df_tennis[\"tourney_name\"] = df_tennis[\"tourney_name\"].str.replace(\"[^a-zA-Z ]\",\" \",regex=True)\n",
    "\n",
    "#trim apply\n",
    "df_tennis[\"tourney_name\"] = df_tennis[\"tourney_name\"].str.strip()\n",
    "df_tennis"
   ]
  },
  {
   "cell_type": "code",
   "execution_count": null,
   "id": "94661e1b",
   "metadata": {},
   "outputs": [],
   "source": [
    "#check if duplicates are been introduced\n",
    "df_tennis.duplicated(keep='first').sum()"
   ]
  },
  {
   "cell_type": "code",
   "execution_count": null,
   "id": "815a9093",
   "metadata": {},
   "outputs": [],
   "source": [
    "#remove duplicates\n",
    "df_tennis.drop_duplicates(keep='first', inplace=True)\n",
    "#rows with unknown tourney_name: 21. All of these have null tourney_id"
   ]
  },
  {
   "cell_type": "code",
   "execution_count": null,
   "id": "e29ca7ec",
   "metadata": {},
   "outputs": [],
   "source": [
    "#remove multiple \" \"\n",
    "df_tennis['tourney_name'] = df_tennis['tourney_name'].map(lambda x: re.sub(' +', ' ', x))"
   ]
  },
  {
   "cell_type": "code",
   "execution_count": null,
   "id": "b33afb75",
   "metadata": {},
   "outputs": [],
   "source": [
    "#make the name equal for similar names (es: Madrid, Madrid Master associated to same tourney_id)"
   ]
  },
  {
   "cell_type": "code",
   "execution_count": null,
   "id": "f92e4f72",
   "metadata": {},
   "outputs": [],
   "source": [
    "dict_tourney_id = df_tennis.groupby('tourney_id')['tourney_name'].unique().apply(list).to_dict()"
   ]
  },
  {
   "cell_type": "code",
   "execution_count": null,
   "id": "0cbb5c46",
   "metadata": {},
   "outputs": [],
   "source": [
    "#print tourneys with more names\n",
    "keys = []\n",
    "for key, value in dict_tourney_id.items():\n",
    "    if len(value)>1:\n",
    "        print(key, value)\n",
    "        keys.append(keys)"
   ]
  },
  {
   "cell_type": "code",
   "execution_count": null,
   "id": "cbe74c07",
   "metadata": {},
   "outputs": [],
   "source": [
    "for key, value in dict_tourney_id.items():\n",
    "    if len(value)==2:\n",
    "        if value[0].lower() == value[1].lower():\n",
    "            df_tennis.loc[df_tennis['tourney_id']==key, ['tourney_name']]=value[0]\n",
    "        elif value[0]=='unknown':\n",
    "            df_tennis.loc[df_tennis['tourney_id']==key, ['tourney_name']]=value[1]\n",
    "        elif value[1]=='unknown':\n",
    "            df_tennis.loc[df_tennis['tourney_id']==key, ['tourney_name']]=value[0]\n",
    "        elif value[0].lower() in value[1].lower():\n",
    "            df_tennis.loc[df_tennis['tourney_id']==key, ['tourney_name']]=value[1]\n",
    "        elif value[1].lower() in value[0].lower():\n",
    "            df_tennis.loc[df_tennis['tourney_id']==key, ['tourney_name']]=value[0]"
   ]
  },
  {
   "cell_type": "markdown",
   "id": "441d35d7",
   "metadata": {},
   "source": [
    "#### winner_hand and loser_hand"
   ]
  },
  {
   "cell_type": "code",
   "execution_count": null,
   "id": "f3fa5d0d",
   "metadata": {},
   "outputs": [],
   "source": [
    "df_players['hand']='U'"
   ]
  },
  {
   "cell_type": "code",
   "execution_count": null,
   "id": "dce26c1c",
   "metadata": {},
   "outputs": [],
   "source": [
    "#substitute nulls in hand in tennis with 'U'\n",
    "df_tennis.loc[df_tennis['winner_hand'].isna(), ['winner_hand']]='U'\n",
    "df_tennis.loc[df_tennis['loser_hand'].isna(), ['loser_hand']]='U'"
   ]
  },
  {
   "cell_type": "code",
   "execution_count": null,
   "id": "2aaf53a5",
   "metadata": {
    "scrolled": true
   },
   "outputs": [],
   "source": [
    "df_tennis[(df_tennis['winner_hand']=='R') | (df_tennis['winner_hand']=='L')] #136650 rows"
   ]
  },
  {
   "cell_type": "code",
   "execution_count": null,
   "id": "975717e6",
   "metadata": {},
   "outputs": [],
   "source": [
    "#correct hand in df_tennis for future possible analysis\n",
    "for index, row in  df_players.iterrows():\n",
    "    \n",
    "    winner_rows = df_tennis[df_tennis['winner_name']==row['whole_name']]['winner_hand']\n",
    "    loser_rows = df_tennis[df_tennis['loser_name']==row['whole_name']]['loser_hand']\n",
    "    \n",
    "    hands = winner_rows.dropna().unique().tolist() + loser_rows.dropna().unique().tolist()\n",
    "    hands = list(dict.fromkeys(hands))\n",
    "    if len(hands)==2 and 'U' in hands:\n",
    "        if(hands[0]!='U'):\n",
    "            df_players.at[index,'hand']= hands[0]\n",
    "            df_tennis.at[winner_rows.index,'winner_hand']=hands[0]\n",
    "            df_tennis.at[loser_rows.index, 'loser_hand']=hands[0]\n",
    "        else:\n",
    "            df_players.at[index,'hand']= hands[1]\n",
    "            df_tennis.at[winner_rows.index, 'winner_hand']=hands[1]\n",
    "            df_tennis.at[loser_rows.index, 'loser_hand']=hands[1]\n",
    "    elif len(hands)==1 and hands[0]!='U':\n",
    "        df_players.at[index,'hand']= hands[0]\n",
    "        df_tennis.at[winner_rows.index, 'winner_hand']=hands[0]\n",
    "        df_tennis.at[loser_rows.index, 'loser_hand']=hands[0]"
   ]
  },
  {
   "cell_type": "code",
   "execution_count": null,
   "id": "75ad9de2",
   "metadata": {},
   "outputs": [],
   "source": [
    "df_players[df_players['hand']=='U']"
   ]
  },
  {
   "cell_type": "markdown",
   "id": "db80dd89",
   "metadata": {},
   "source": [
    "#### rank and point_rank"
   ]
  },
  {
   "cell_type": "code",
   "execution_count": null,
   "id": "dede2f5d",
   "metadata": {},
   "outputs": [],
   "source": [
    "df_players['best_rank'] = 0 #default value for unknown\n",
    "df_players['best_rank_points'] = 0 #default value for unknown"
   ]
  },
  {
   "cell_type": "code",
   "execution_count": null,
   "id": "77e3aed3",
   "metadata": {},
   "outputs": [],
   "source": [
    "dict_winner_rank = df_tennis[~df_tennis['winner_rank'].isna()].groupby('winner_name', dropna=True)['winner_rank'].unique().apply(list).to_dict()\n",
    "dict_loser_rank = df_tennis[~df_tennis['loser_rank'].isna()].groupby('loser_name', dropna=True)['loser_rank'].unique().apply(list).to_dict()\n",
    "\n",
    "dict_winner_rank_points = df_tennis[~df_tennis['winner_rank_points'].isna()].groupby('winner_name', dropna=True)['winner_rank_points'].unique().apply(list).to_dict()\n",
    "dict_loser_rank_points = df_tennis[~df_tennis['loser_rank_points'].isna()].groupby('loser_name', dropna=True)['loser_rank_points'].unique().apply(list).to_dict()"
   ]
  },
  {
   "cell_type": "code",
   "execution_count": null,
   "id": "6ebd4074",
   "metadata": {},
   "outputs": [],
   "source": [
    "for index, row in  df_players.iterrows():  \n",
    "    \n",
    "    #rank\n",
    "    ranks = []\n",
    "    if row['whole_name'] in dict_winner_rank:\n",
    "        ranks = ranks + dict_winner_rank[row['whole_name']]\n",
    "    if row['whole_name'] in dict_loser_rank:\n",
    "        ranks = ranks + dict_loser_rank[row['whole_name']]\n",
    "     \n",
    "    ranks = list(dict.fromkeys(ranks))\n",
    "    if len(ranks)>0:\n",
    "        df_players.at[index, 'best_rank'] = min(ranks)\n",
    "    \n",
    "    #points\n",
    "    ranks_point = []\n",
    "    if row['whole_name'] in dict_winner_rank_points:\n",
    "        ranks_point = ranks + dict_winner_rank_points[row['whole_name']]\n",
    "    if row['whole_name'] in dict_loser_rank_points:\n",
    "        ranks_point = ranks + dict_loser_rank_points[row['whole_name']]\n",
    "    \n",
    "    ranks_point = list(dict.fromkeys(ranks_point))\n",
    "    if len(ranks_point)>0:\n",
    "        df_players.at[index, 'best_rank_points'] = max(ranks_point)\n",
    "    \n",
    "df_tennis"
   ]
  },
  {
   "cell_type": "code",
   "execution_count": null,
   "id": "bff04afb",
   "metadata": {},
   "outputs": [],
   "source": [
    "#df_players[df_players['best_rank']==1]\n",
    "df_players"
   ]
  },
  {
   "cell_type": "code",
   "execution_count": null,
   "id": "a266e87b",
   "metadata": {},
   "outputs": [],
   "source": [
    "df_tennis.loc[df_tennis['winner_rank'].isna(), 'winner_rank'] = 0\n",
    "df_tennis.loc[df_tennis['winner_rank_points'].isna(), 'winner_rank_points'] = 0\n",
    "\n",
    "df_tennis.loc[df_tennis['loser_rank'].isna(), 'loser_rank'] = 0\n",
    "df_tennis.loc[df_tennis['loser_rank_points'].isna(), 'loser_rank_points'] = 0"
   ]
  },
  {
   "cell_type": "markdown",
   "id": "9c02af7f",
   "metadata": {},
   "source": [
    "#### best of and score"
   ]
  },
  {
   "cell_type": "code",
   "execution_count": null,
   "id": "a49c7aec",
   "metadata": {},
   "outputs": [],
   "source": [
    "#change best of 3 in 5 if matches are valid for best of 5 (best_of not null)\n",
    "for index, row in  df_tennis[df_tennis['best_of']==3].iterrows():\n",
    "    if isinstance(row['score'], str):\n",
    "        sets = row['score'].split( )\n",
    "\n",
    "        if not validity_match(sets, 3) and validity_match(sets, 5):\n",
    "            df_tennis.loc[index, 'best_of'] = 5\n",
    "        elif validity_match(sets, 5) and not is_best_of_3(sets)and is_best_of_5(sets):\n",
    "            df_tennis.loc[index, 'best_of'] = 5\n",
    "        \n",
    "\n",
    "#change best of 5 in 3 if matches are valid for best of 3\n",
    "for index, row in  df_tennis[df_tennis['best_of']==5].iterrows():\n",
    "    if isinstance(row['score'], str):\n",
    "        sets = row['score'].split( )\n",
    "\n",
    "        if not validity_match(sets, 5) and validity_match(sets, 3):\n",
    "            df_tennis.loc[index, 'best_of'] = 3\n",
    "        elif validity_match(sets, 3) and is_best_of_3(sets) and not is_best_of_5(sets):\n",
    "            df_tennis.loc[index, 'best_of'] = 3"
   ]
  },
  {
   "cell_type": "code",
   "execution_count": null,
   "id": "7806340d",
   "metadata": {},
   "outputs": [],
   "source": [
    "df_tennis[df_tennis['best_of'].isna()]['score'].dropna()\n",
    "#df_tennis[df_tennis['best_of'].isna()]['score'].dropna().index.tolist()"
   ]
  },
  {
   "cell_type": "code",
   "execution_count": null,
   "id": "094172e1",
   "metadata": {},
   "outputs": [],
   "source": [
    "for index, row in  df_tennis[df_tennis['best_of'].isna()].iterrows():\n",
    "    if isinstance(row['score'], str):\n",
    "        sets = row['score'].split( )\n",
    "\n",
    "        if validity_match(sets, 3) and not validity_match(sets, 5):\n",
    "            df_tennis.loc[index, 'best_of'] = 3\n",
    "        elif not validity_match(sets, 3) and validity_match(sets, 5):\n",
    "            df_tennis.loc[index, 'best_of'] = 5\n",
    "        elif validity_match(sets, 3) and validity_match(sets, 5):\n",
    "            if is_best_of_3(sets) and not is_best_of_5(sets):\n",
    "                df_tennis.loc[index, 'best_of'] = 3\n",
    "            elif not is_best_of_3(sets) and is_best_of_5(sets):\n",
    "                df_tennis.loc[index, 'best_of'] = 5"
   ]
  },
  {
   "cell_type": "code",
   "execution_count": null,
   "id": "a804756d",
   "metadata": {},
   "outputs": [],
   "source": [
    "for index, row in df_tennis[df_tennis['best_of'].isna()][['tourney_id','tourney_name']].drop_duplicates().iterrows():\n",
    "    best_ofs = df_tennis[(df_tennis['tourney_id']==row['tourney_id']) & (df_tennis['tourney_name']==row['tourney_name'])]['best_of'].dropna().tolist()\n",
    "    values = list(dict.fromkeys(best_ofs))\n",
    "    if len(values) == 1:\n",
    "        df_tennis.loc[(df_tennis['tourney_id']==row['tourney_id']) & (df_tennis['tourney_name']==row['tourney_name']), 'best_of'] = values[0]"
   ]
  },
  {
   "cell_type": "code",
   "execution_count": null,
   "id": "7642018b",
   "metadata": {},
   "outputs": [],
   "source": [
    "df_tennis.loc[df_tennis['score'].isna(), 'score'] = \"\""
   ]
  },
  {
   "cell_type": "markdown",
   "id": "454dc768",
   "metadata": {},
   "source": [
    "#### num of best of 3/5 played and wins (%)"
   ]
  },
  {
   "cell_type": "code",
   "execution_count": null,
   "id": "0c849c76",
   "metadata": {},
   "outputs": [],
   "source": [
    "df_players['best_of_3_match'] = 0\n",
    "df_players['best_of_5_match'] = 0\n",
    "df_players['best_of_3_wins(%)'] = 0\n",
    "df_players['best_of_5_wins(%)'] = 0"
   ]
  },
  {
   "cell_type": "code",
   "execution_count": null,
   "id": "2faf004a",
   "metadata": {},
   "outputs": [],
   "source": [
    "winners_best_3 = df_tennis[(df_tennis['winner_name']!=df_tennis['loser_name']) & (df_tennis['best_of']==3)]['winner_name'].tolist()\n",
    "losers_best_3 = df_tennis[(df_tennis['winner_name']!=df_tennis['loser_name']) & (df_tennis['best_of']==3)]['loser_name'].tolist()"
   ]
  },
  {
   "cell_type": "code",
   "execution_count": null,
   "id": "9ec5f99b",
   "metadata": {},
   "outputs": [],
   "source": [
    "winners_best_5 = df_tennis[(df_tennis['winner_name']!=df_tennis['loser_name']) & (df_tennis['best_of']==5)]['winner_name'].tolist()\n",
    "losers_best_5 = df_tennis[(df_tennis['winner_name']!=df_tennis['loser_name']) & (df_tennis['best_of']==5)]['loser_name'].tolist()"
   ]
  },
  {
   "cell_type": "code",
   "execution_count": null,
   "id": "5b685e16",
   "metadata": {},
   "outputs": [],
   "source": [
    "for index, row in  df_players.iterrows(): \n",
    "    num_w = winners_best_3.count(row['whole_name'])\n",
    "    num_l = losers_best_3.count(row['whole_name'])\n",
    "    \n",
    "    df_players.at[index, 'best_of_3_match'] = num_w + num_l\n",
    "    if num_l!=0 and num_w!=0:\n",
    "        df_players.at[index, 'best_of_3_wins(%)'] = num_w/(num_l+num_w)*100\n",
    "        \n",
    "    num_w = winners_best_5.count(row['whole_name'])\n",
    "    num_l = losers_best_5.count(row['whole_name'])\n",
    "    \n",
    "    df_players.at[index, 'best_of_5_match'] = num_w + num_l\n",
    "    if num_l!=0 and num_w!=0:\n",
    "        df_players.at[index, 'best_of_5_wins(%)'] = num_w/(num_l+num_w)*100"
   ]
  },
  {
   "cell_type": "code",
   "execution_count": null,
   "id": "2641175d",
   "metadata": {},
   "outputs": [],
   "source": [
    "df_players"
   ]
  },
  {
   "cell_type": "markdown",
   "id": "7bc0c394",
   "metadata": {},
   "source": [
    "#### walkover, retirements, bye and defaults"
   ]
  },
  {
   "cell_type": "code",
   "execution_count": null,
   "id": "7e62f5b2",
   "metadata": {},
   "outputs": [],
   "source": [
    "df_players['num_win_bye'] = 0\n",
    "df_players['num_win_wo_ret'] = 0\n",
    "df_players['num_win_def'] = 0\n",
    "df_players['num_wo_ret'] = 0\n",
    "df_players['num_def'] = 0"
   ]
  },
  {
   "cell_type": "code",
   "execution_count": null,
   "id": "a599daee",
   "metadata": {},
   "outputs": [],
   "source": [
    "for index, row in  df_players.iterrows():\n",
    "    #for the winner: vittorie per bye, walkover and default\n",
    "    win_bye = 0\n",
    "    win_wo_ret = 0\n",
    "    win_def = 0\n",
    "    \n",
    "    for index_t, row_t in df_tennis[df_tennis['winner_name']==row['whole_name']].iterrows():\n",
    "        games = row_t['score'].split()\n",
    "        if row_t['winner_name']==row_t['loser_name']:\n",
    "            if len(games)==1 and Bye(games[0]):\n",
    "                win_bye+=1\n",
    "        else:\n",
    "            if (len(games)==1 and (Walkover(games[0]) or Retirement(games[0]))) or \\\n",
    "                (len(games)>1 and Retirement(games[len(games)-1])):\n",
    "                    win_wo_ret +=1\n",
    "            elif len(games)>=1 and Default(games[len(games)-1]):\n",
    "                win_def +=1\n",
    "            elif len(games)==1 and Bye(games[0]):\n",
    "                win_bye +=1\n",
    "            \n",
    "    df_players.at[index, 'num_win_bye'] = win_bye\n",
    "    df_players.at[index, 'num_win_wo_ret'] = win_wo_ret\n",
    "    df_players.at[index, 'num_win_def'] = win_def\n",
    "                \n",
    "    loser_wo_ret = 0\n",
    "    loser_def = 0\n",
    "        \n",
    "    #for the loser: perdite per walkover, retirement and default\n",
    "    for index_t, row_t in df_tennis[df_tennis['loser_name']==row['whole_name']].iterrows():\n",
    "        games = row_t['score'].split()\n",
    "        if row_t['winner_name']!=row_t['loser_name']:\n",
    "            if (len(games)==1 and (Walkover(games[0]) or Retirement(games[0]))) or \\\n",
    "                (len(games)>1 and Retirement(games[len(games)-1])):\n",
    "                    loser_wo_ret +=1\n",
    "            elif len(games)>=1 and Default(games[len(games)-1]):\n",
    "                loser_def +=1\n",
    "                \n",
    "    df_players.at[index, 'num_wo_ret'] = loser_wo_ret\n",
    "    df_players.at[index, 'num_def'] = loser_def"
   ]
  },
  {
   "cell_type": "code",
   "execution_count": null,
   "id": "e490c2ed",
   "metadata": {},
   "outputs": [],
   "source": [
    "df_players"
   ]
  },
  {
   "cell_type": "markdown",
   "id": "b980b9c4",
   "metadata": {},
   "source": [
    "#### IOC"
   ]
  },
  {
   "cell_type": "code",
   "execution_count": null,
   "id": "88e581e5",
   "metadata": {},
   "outputs": [],
   "source": [
    "df_players.insert(2, 'ioc', None)"
   ]
  },
  {
   "cell_type": "code",
   "execution_count": null,
   "id": "8c4ce322",
   "metadata": {
    "scrolled": false
   },
   "outputs": [],
   "source": [
    "for index, row in df_players.iterrows():\n",
    "    ioc = None\n",
    "    if df_tennis[df_tennis['winner_id'] == row['id']][['winner_ioc']].shape[0] > 0:\n",
    "        ioc = df_tennis[df_tennis['winner_id'] == row['id']][['winner_ioc']].iloc[0]\n",
    "    if ioc is None:    \n",
    "        if df_tennis[df_tennis['loser_id'] == row['id']][['loser_ioc']].shape[0] > 0:\n",
    "            ioc = df_tennis[df_tennis['loser_id'] == row['id']][['loser_ioc']].iloc[0]\n",
    "    df_players.loc[df_players['id']==row['id'], 'ioc']=ioc.iloc[0]\n",
    "    # for debug uncomment...\n",
    "    #if index == 100:\n",
    "    #    break\n",
    "df_players[~df_players['ioc'].isnull()]"
   ]
  },
  {
   "cell_type": "markdown",
   "id": "868a03bb",
   "metadata": {},
   "source": [
    "#### age"
   ]
  },
  {
   "cell_type": "code",
   "execution_count": null,
   "id": "ef874d18",
   "metadata": {},
   "outputs": [],
   "source": [
    "df_players.insert(2, 'age', None)"
   ]
  },
  {
   "cell_type": "code",
   "execution_count": null,
   "id": "ac98d2b2",
   "metadata": {},
   "outputs": [],
   "source": [
    "for index, row in df_players.iterrows():\n",
    "    age = None\n",
    "    if df_tennis[df_tennis['winner_id'] == row['id']][['winner_age']].shape[0] > 0:\n",
    "        age = df_tennis[df_tennis['winner_id'] == row['id']][['winner_age']].iloc[0]\n",
    "    if age is None:    \n",
    "        if df_tennis[df_tennis['loser_id'] == row['id']][['loser_ioc']].shape[0] > 0:\n",
    "            age = df_tennis[df_tennis['loser_id'] == row['id']][['loser_age']].iloc[0]\n",
    "    df_players.loc[df_players['id']==row['id'], 'age']=age.iloc[0]\n",
    "    # for debug uncomment...\n",
    "    #if index == 100:\n",
    "    #    break\n",
    "df_players[~df_players['age'].isnull()]"
   ]
  },
  {
   "cell_type": "markdown",
   "id": "3ebc6f36",
   "metadata": {},
   "source": [
    "#### surface"
   ]
  },
  {
   "cell_type": "code",
   "execution_count": null,
   "id": "d2249b41",
   "metadata": {},
   "outputs": [],
   "source": [
    "# prepare a dictionary of tourney_name and surface where there are no null\n",
    "df_surface = df_tennis[['tourney_name','surface']].drop_duplicates().dropna()\n",
    "surface_dict = df_surface.set_index('tourney_name').to_dict()['surface']\n",
    "\n",
    "# set the null value with the value found for the same tournament\n",
    "null_surface = df_tennis.surface.isna()\n",
    "df_tennis.loc[null_surface, 'surface'] = df_tennis.tourney_name.map(surface_dict)\n",
    "\n",
    "\n",
    "# set the remaining surface null to unknown\n",
    "df_tennis.loc[df_tennis['surface'].isna(), ['surface']]='unknown'\n",
    "\n",
    "# print the result\n",
    "df_tennis['surface'].value_counts().sort_index()"
   ]
  },
  {
   "cell_type": "markdown",
   "id": "ca1c162d",
   "metadata": {},
   "source": [
    "#### draw_size"
   ]
  },
  {
   "cell_type": "code",
   "execution_count": null,
   "id": "334e3d72",
   "metadata": {},
   "outputs": [],
   "source": [
    "# prepare a dictionary of tourney_name and draw_size where there are no null\n",
    "df_draw_size = df_tennis[['tourney_name','draw_size']].drop_duplicates().dropna()\n",
    "draw_size_dict = df_draw_size.set_index('tourney_name').to_dict()['draw_size']\n",
    "\n",
    "# set the null value with the value found for the same tournament\n",
    "null_draw_size = df_tennis.draw_size.isna()\n",
    "df_tennis.loc[null_draw_size, 'draw_size'] = df_tennis.tourney_name.map(draw_size_dict)\n",
    "\n",
    "\n",
    "# set the remaining draw_size null to -1\n",
    "df_tennis.loc[df_tennis['draw_size'].isna(), ['draw_size']] = '-1'\n",
    "\n",
    "# print the result\n",
    "df_tennis['draw_size'].value_counts().sort_index()"
   ]
  },
  {
   "cell_type": "markdown",
   "id": "0aa7060e",
   "metadata": {},
   "source": [
    "#### tourney_level"
   ]
  },
  {
   "cell_type": "code",
   "execution_count": null,
   "id": "f0bc3f38",
   "metadata": {},
   "outputs": [],
   "source": [
    "# prepare a dictionary of tourney_name and tourney_level where there are no null\n",
    "df_tourney_level = df_tennis[['tourney_name','tourney_level']].drop_duplicates().dropna()\n",
    "tourney_level_dict = df_tourney_level.set_index('tourney_name').to_dict()['tourney_level']\n",
    "\n",
    "# set the null value with the value found for the same tournament\n",
    "null_tourney_level = df_tennis.tourney_level.isna()\n",
    "df_tennis.loc[null_tourney_level, 'tourney_level'] = df_tennis.tourney_name.map(tourney_level_dict)\n",
    "\n",
    "\n",
    "# set the remaining tourney_level null to unknown\n",
    "df_tennis.loc[df_tennis['tourney_level'].isna(), ['tourney_level']] = 'unknown'\n",
    "\n",
    "# print the result\n",
    "df_tennis['tourney_level'].value_counts().sort_index()"
   ]
  },
  {
   "cell_type": "markdown",
   "id": "9b586d36",
   "metadata": {},
   "source": [
    "#### match_num"
   ]
  },
  {
   "cell_type": "code",
   "execution_count": null,
   "id": "6ec4e075",
   "metadata": {
    "scrolled": false
   },
   "outputs": [],
   "source": [
    "# set the null value to -1\n",
    "df_tennis.loc[df_tennis['match_num'].isna(), 'match_num'] = '-1'\n",
    "df_tennis[df_tennis['match_num'].isnull()]"
   ]
  },
  {
   "cell_type": "code",
   "execution_count": null,
   "id": "124fa731",
   "metadata": {},
   "outputs": [],
   "source": [
    "df_players['m_16'] = -1\n",
    "df_players['w_16'] = -1\n",
    "df_players['m_17'] = -1\n",
    "df_players['w_17'] = -1\n",
    "df_players['m_18'] = -1\n",
    "df_players['w_18'] = -1\n",
    "df_players['m_19'] = -1\n",
    "df_players['w_19'] = -1\n",
    "df_players['m_20'] = -1\n",
    "df_players['w_20'] = -1\n",
    "df_players['m_21'] = -1\n",
    "df_players['w_21'] = -1"
   ]
  },
  {
   "cell_type": "code",
   "execution_count": null,
   "id": "2094fecc",
   "metadata": {
    "scrolled": false
   },
   "outputs": [],
   "source": [
    "years = ['2016', '2017', '2018', '2019', '2020', '2021']\n",
    "df_tmp = df_tennis[['tourney_id', 'winner_id', 'loser_id']]\n",
    "year = df_tmp['tourney_id'].map(lambda x: x[0:4] if x[0:4] in years else x)\n",
    "df_tmp['year'] = year\n",
    "df_tmp.drop(columns = 'tourney_id')\n",
    "\n",
    "w_count = df_tmp.groupby(by = ['winner_id', 'year'])['tourney_id'].count().reset_index(name=\"count\")\n",
    "l_count = df_tmp.groupby(by = ['loser_id', 'year'])['tourney_id'].count().reset_index(name=\"count\")\n",
    "\n",
    "for player in df_players['id']:\n",
    "    for year in years:\n",
    "        col_name_m = 'm_' + year[2:4]\n",
    "        col_name_w = 'w_' + year[2:4]\n",
    "        winned_match = w_count[(w_count['winner_id'] == player) & (w_count['year'] == year)]['count']\n",
    "        losed_match = l_count[(l_count['loser_id'] == player) & (l_count['year'] == year)]['count']\n",
    "        if (len(winned_match)):\n",
    "            winned_match = int(winned_match)\n",
    "            df_players.loc[df_players['id'] == player, col_name_w] = winned_match\n",
    "        else:\n",
    "            winned_match = 0\n",
    "        if (len(losed_match)):\n",
    "            losed_match = int(losed_match)\n",
    "            df_players.loc[df_players['id'] == player, col_name_m] = winned_match + losed_match"
   ]
  },
  {
   "cell_type": "code",
   "execution_count": null,
   "id": "ca9bae2a",
   "metadata": {},
   "outputs": [],
   "source": [
    "df_players"
   ]
  },
  {
   "cell_type": "markdown",
   "id": "3dc1229b",
   "metadata": {},
   "source": [
    "#### tourney_spectators"
   ]
  },
  {
   "cell_type": "code",
   "execution_count": null,
   "id": "fce567db",
   "metadata": {},
   "outputs": [],
   "source": [
    "# prepare a dictionary of tourney_name and tourney_spectators where there are no null\n",
    "df_tourney_spectators = df_tennis[['tourney_name','tourney_spectators']].drop_duplicates().dropna()\n",
    "tourney_spectators_dict = df_tourney_spectators.set_index('tourney_name').to_dict()['tourney_spectators']\n",
    "\n",
    "# set the null value with the value found for the same tournament\n",
    "null_tourney_spectators = df_tennis.tourney_spectators.isna()\n",
    "df_tennis.loc[null_tourney_spectators, 'tourney_spectators'] = df_tennis.tourney_name.map(tourney_spectators_dict)\n",
    "\n",
    "df_tennis.loc[df_tennis['tourney_spectators'].isna(), ['tourney_spectators']] = '-1'\n",
    "\n",
    "\n",
    "df_tennis[df_tennis['tourney_spectators'].isnull()]"
   ]
  },
  {
   "cell_type": "markdown",
   "id": "f8a17fce",
   "metadata": {},
   "source": [
    "#### tourney_date"
   ]
  },
  {
   "cell_type": "code",
   "execution_count": null,
   "id": "817bb18d",
   "metadata": {
    "scrolled": true
   },
   "outputs": [],
   "source": [
    "#The only tournament that has some matches with null date is the last one in Taipei in the dataframe. \n",
    "# Let's put the date 20171113.0 that corresponds to the matches of that tournament\n",
    "df_tennis.loc[(df_tennis['tourney_name'] == 'Taipei') & (df_tennis['tourney_date'].isnull()), 'tourney_date'] = '20171113.0'\n",
    "df_tennis[df_tennis['tourney_date'].isnull()]"
   ]
  },
  {
   "cell_type": "markdown",
   "id": "e0b00142",
   "metadata": {},
   "source": [
    "#### round"
   ]
  },
  {
   "cell_type": "code",
   "execution_count": null,
   "id": "906bba37",
   "metadata": {
    "scrolled": false
   },
   "outputs": [],
   "source": [
    "# set the null value to u (unkown)\n",
    "df_tennis.loc[df_tennis['round'].isna(), 'round'] = 'U'\n",
    "df_tennis[df_tennis['round'].isnull()]"
   ]
  },
  {
   "cell_type": "markdown",
   "id": "937b81a5",
   "metadata": {},
   "source": [
    "#### tourney_revenue"
   ]
  },
  {
   "cell_type": "code",
   "execution_count": null,
   "id": "51c4f8ff",
   "metadata": {},
   "outputs": [],
   "source": [
    "# prepare a dictionary of tourney_name and tourney_revenue where there are no null\n",
    "df_tourney_revenue = df_tennis[['tourney_name','tourney_revenue']].drop_duplicates().dropna()\n",
    "tourney_revenue_dict = df_tourney_revenue.set_index('tourney_name').to_dict()['tourney_revenue']\n",
    "\n",
    "# set the null value with the value found for the same tournament\n",
    "null_tourney_revenue = df_tennis.tourney_revenue.isna()\n",
    "df_tennis.loc[null_tourney_revenue, 'tourney_revenue'] = df_tennis.tourney_name.map(tourney_revenue_dict)\n",
    "\n",
    "\n",
    "df_tennis[df_tennis['tourney_revenue'].isnull()]"
   ]
  },
  {
   "cell_type": "markdown",
   "id": "853b7d9c",
   "metadata": {},
   "source": [
    "#### minutes"
   ]
  },
  {
   "cell_type": "code",
   "execution_count": null,
   "id": "c8fe8c6f",
   "metadata": {},
   "outputs": [],
   "source": [
    "def count_games(match):\n",
    "    sets = match.split( )\n",
    "    \n",
    "    count = 0\n",
    "    \n",
    "    #empty score\n",
    "    if len(sets)==0:\n",
    "        return -1\n",
    "    \n",
    "    if len(sets)==1 and (Retirement(sets[0]) or Default(sets[0]) or Bye(sets[0]) or Walkover(sets[0])):\n",
    "            return 0\n",
    "    \n",
    "    if Retirement(sets[len(sets)-1]) or Default(sets[len(sets)-1]):\n",
    "        check_sets = len(sets)-1\n",
    "    else:\n",
    "        check_sets = len(sets)\n",
    "    \n",
    "    #analysis of complete sets\n",
    "    for i in range(check_sets):\n",
    "        \n",
    "        game = sets[i].replace(\"[\", \"\").replace(\"]\", \"\")\n",
    "\n",
    "        if \"(\" in game or \")\" in game:\n",
    "            #tie-break\n",
    "            index_open = game.index(\"(\")\n",
    "            index_close = game.index(\")\")\n",
    "            \n",
    "            tie_break = game[index_open+1:index_close]\n",
    "            if int(tie_break)<=5:\n",
    "                count += int(tie_break) + 7 \n",
    "            else:\n",
    "                count += int(tie_break) * 2 + 2 \n",
    "            \n",
    "            points = game[0:index_open].split(\"-\")\n",
    "            \n",
    "            #errors in the score\n",
    "            if not points[0].isdigit() or not points[1].isdigit():\n",
    "                return -1\n",
    "            \n",
    "            count += int(points[0]) + int(points[1])\n",
    "            \n",
    "        else:\n",
    "            #no tie-break\n",
    "            points = game.split(\"-\")\n",
    "            \n",
    "            #errors in the score\n",
    "            if not points[0].isdigit() or not points[1].isdigit():\n",
    "                return -1\n",
    "            \n",
    "            count += int(points[0]) + int(points[1])\n",
    "            \n",
    "    return count"
   ]
  },
  {
   "cell_type": "code",
   "execution_count": null,
   "id": "99f49be1",
   "metadata": {},
   "outputs": [],
   "source": [
    "#use of current world records of time\n",
    "df_tennis.loc[(df_tennis['minutes'] > 391) & (df_tennis['best_of']==3), 'minutes'] = np.nan \n",
    "df_tennis.loc[(df_tennis['minutes'] > 665) & (df_tennis['best_of']==5), 'minutes'] = np.nan "
   ]
  },
  {
   "cell_type": "code",
   "execution_count": null,
   "id": "09dd1dcd",
   "metadata": {},
   "outputs": [],
   "source": [
    "avg_time_best_of_3 = df_tennis[df_tennis['best_of']==3]['minutes'].mean() #mean after correction of errors\n",
    "avg_time_best_of_5 = df_tennis[df_tennis['best_of']==5]['minutes'].mean() #mean after correction of errors"
   ]
  },
  {
   "cell_type": "code",
   "execution_count": null,
   "id": "10538664",
   "metadata": {},
   "outputs": [],
   "source": [
    "#calculate the avg time for a game\n",
    "number_games = 0\n",
    "total_minutes = 0\n",
    "\n",
    "for index, row in df_tennis[~df_tennis['minutes'].isna()].iterrows():\n",
    "    if validity_match(row['score'].split(), row['best_of']):\n",
    "        num = count_games(row['score'])\n",
    "        if num >= 0:\n",
    "            number_games += num\n",
    "            total_minutes += row['minutes'] #not null because iterrows"
   ]
  },
  {
   "cell_type": "code",
   "execution_count": null,
   "id": "9e6678d5",
   "metadata": {},
   "outputs": [],
   "source": [
    "minutes_per_game = total_minutes/number_games\n",
    "minutes_per_game"
   ]
  },
  {
   "cell_type": "code",
   "execution_count": null,
   "id": "89baa242",
   "metadata": {},
   "outputs": [],
   "source": [
    "#correction of nulls: looking the profile of the players for best of 3 and 5"
   ]
  },
  {
   "cell_type": "code",
   "execution_count": null,
   "id": "e0226a68",
   "metadata": {},
   "outputs": [],
   "source": [
    "for index, row in df_tennis[df_tennis['minutes'].isna()].iterrows():\n",
    "    sets = row['score'].split()\n",
    "    if len(sets) == 0:\n",
    "        continue\n",
    "    elif len(sets)==1 and Retirement(sets[0]) or Default(sets[0]) or Bye(sets[0]) or Walkover(sets[0]):\n",
    "        df_tennis.loc[index, 'minutes'] = 0\n",
    "    elif len(sets)>=1 and validity_match(row['score'].split(), row['best_of']):\n",
    "        df_tennis.loc[index, 'minutes'] = count_games(row['score']) * minutes_per_game"
   ]
  },
  {
   "cell_type": "code",
   "execution_count": null,
   "id": "3ebba9e6",
   "metadata": {},
   "outputs": [],
   "source": [
    "for index, row in df_tennis[df_tennis['minutes']==0].iterrows():\n",
    "    if IsMatchWithZeroIncorrect(row['score'])==True:\n",
    "        sets = row['score'].split()\n",
    "        if len(sets) == 0:\n",
    "            continue\n",
    "        elif len(sets)==1 and Retirement(sets[0]) or Default(sets[0]) or Bye(sets[0]) or Walkover(sets[0]):\n",
    "            df_tennis.loc[index, 'minutes'] = 0\n",
    "        elif len(sets)>=1 and validity_match(row['score'].split(), row['best_of']):\n",
    "            df_tennis.loc[index, 'minutes'] = count_games(row['score']) * minutes_per_game"
   ]
  },
  {
   "cell_type": "code",
   "execution_count": null,
   "id": "37472ab2",
   "metadata": {},
   "outputs": [],
   "source": [
    "df_tennis.loc[(df_tennis['minutes'].isna()) & (df_tennis['best_of']==3), 'minutes'] = avg_time_best_of_3\n",
    "df_tennis.loc[(df_tennis['minutes'].isna()) & (df_tennis['best_of']==5), 'minutes'] = avg_time_best_of_5"
   ]
  },
  {
   "cell_type": "code",
   "execution_count": null,
   "id": "2f9c4efb",
   "metadata": {},
   "outputs": [],
   "source": [
    "#statistics players: number of minutes xe played in total"
   ]
  },
  {
   "cell_type": "code",
   "execution_count": null,
   "id": "a2ac35b7",
   "metadata": {},
   "outputs": [],
   "source": [
    "df_players['tot_minutes'] = 0"
   ]
  },
  {
   "cell_type": "code",
   "execution_count": null,
   "id": "2b18f265",
   "metadata": {},
   "outputs": [],
   "source": [
    "minutes_dict = df_tennis[df_tennis['minutes']>=0].groupby('winner_name')['minutes'].apply(list).to_dict()\n",
    "for key in minutes_dict.keys():\n",
    "    minutes_dict[key]= sum(minutes_dict[key])"
   ]
  },
  {
   "cell_type": "code",
   "execution_count": null,
   "id": "70b115de",
   "metadata": {},
   "outputs": [],
   "source": [
    "keys = minutes_dict.keys()"
   ]
  },
  {
   "cell_type": "code",
   "execution_count": null,
   "id": "cd9ed87a",
   "metadata": {},
   "outputs": [],
   "source": [
    "loser_dict = df_tennis[df_tennis['minutes']>=0].groupby('loser_name')['minutes'].apply(list).to_dict()\n",
    "for key in loser_dict.keys():\n",
    "    loser_dict[key]= sum(loser_dict[key])\n",
    "    if key in keys:\n",
    "        minutes_dict[key] = minutes_dict[key] + loser_dict[key]\n",
    "    else:\n",
    "        minutes_dict[key] = loser_dict[key]"
   ]
  },
  {
   "cell_type": "code",
   "execution_count": null,
   "id": "d74d746f",
   "metadata": {},
   "outputs": [],
   "source": [
    "for key in minutes_dict.keys():\n",
    "    df_players.loc[df_players['whole_name']==key, 'tot_minutes'] = minutes_dict[key]"
   ]
  },
  {
   "cell_type": "code",
   "execution_count": null,
   "id": "0c9162f8",
   "metadata": {},
   "outputs": [],
   "source": [
    "df_players"
   ]
  },
  {
   "cell_type": "markdown",
   "id": "2e66b3ac",
   "metadata": {},
   "source": [
    "#### winner_id"
   ]
  },
  {
   "cell_type": "code",
   "execution_count": null,
   "id": "dab3efea",
   "metadata": {},
   "outputs": [],
   "source": [
    "df_tennis[df_tennis['winner_id'].isnull()]"
   ]
  },
  {
   "cell_type": "markdown",
   "id": "1c87c645",
   "metadata": {},
   "source": [
    "#### winner_entry"
   ]
  },
  {
   "cell_type": "code",
   "execution_count": null,
   "id": "2871a1cb",
   "metadata": {},
   "outputs": [],
   "source": [
    "df_tennis[df_tennis['winner_entry'].isnull()]"
   ]
  },
  {
   "cell_type": "markdown",
   "id": "1ff3ce64",
   "metadata": {},
   "source": [
    "#### loser_id"
   ]
  },
  {
   "cell_type": "code",
   "execution_count": null,
   "id": "2a56c76d",
   "metadata": {},
   "outputs": [],
   "source": [
    "df_tennis[df_tennis['loser_id'].isnull()][\"loser_name\"]"
   ]
  },
  {
   "cell_type": "markdown",
   "id": "4adccf4d",
   "metadata": {},
   "source": [
    "#### loser_entry"
   ]
  },
  {
   "cell_type": "code",
   "execution_count": null,
   "id": "b3eca3c5",
   "metadata": {},
   "outputs": [],
   "source": [
    "df_tennis[df_tennis['loser_entry'].isnull()]"
   ]
  },
  {
   "cell_type": "markdown",
   "id": "c22736ef",
   "metadata": {},
   "source": [
    "#### winner_ht and loser_ht"
   ]
  },
  {
   "cell_type": "code",
   "execution_count": null,
   "id": "d47301b0",
   "metadata": {},
   "outputs": [],
   "source": [
    "bp = pd.DataFrame.boxplot(df_tennis['winner_ht'], return_type='dict')"
   ]
  },
  {
   "cell_type": "code",
   "execution_count": null,
   "id": "ec4bcdd5",
   "metadata": {},
   "outputs": [],
   "source": [
    "outliers_ht = [flier.get_ydata() for flier in bp[\"fliers\"]][0]\n",
    "outliers_ht = list(dict.fromkeys(outliers_ht))\n",
    "#ht_values = list(set(df_tennis['winner_ht'].dropna().unique().tolist() ) - set(outliers_ht))"
   ]
  },
  {
   "cell_type": "code",
   "execution_count": null,
   "id": "0fef9b2c",
   "metadata": {},
   "outputs": [],
   "source": [
    "w_names = df_tennis[df_tennis['winner_ht'].isin(outliers_ht)]['winner_name'].unique().tolist()"
   ]
  },
  {
   "cell_type": "code",
   "execution_count": null,
   "id": "3ad7f426",
   "metadata": {},
   "outputs": [],
   "source": [
    "l_names = df_tennis[df_tennis['loser_ht'].isin(outliers_ht)]['loser_name'].unique().tolist()"
   ]
  },
  {
   "cell_type": "code",
   "execution_count": null,
   "id": "07e21518",
   "metadata": {},
   "outputs": [],
   "source": [
    "w_names.sort() == l_names.sort() #True"
   ]
  },
  {
   "cell_type": "code",
   "execution_count": null,
   "id": "6d00b6a8",
   "metadata": {},
   "outputs": [],
   "source": [
    "df_tennis.loc[df_tennis['winner_name'].isin(w_names), 'winner_ht'] = np.nan\n",
    "df_tennis.loc[df_tennis['loser_name'].isin(w_names), 'loser_ht'] = np.nan"
   ]
  },
  {
   "cell_type": "code",
   "execution_count": null,
   "id": "5e990786",
   "metadata": {},
   "outputs": [],
   "source": [
    "male_names = df_players[df_players['sex']=='M']['whole_name'].tolist()\n",
    "female_names = df_players[df_players['sex']=='F']['whole_name'].tolist()"
   ]
  },
  {
   "cell_type": "code",
   "execution_count": null,
   "id": "40ddb7d5",
   "metadata": {},
   "outputs": [],
   "source": [
    "#corrections using sex and ioc"
   ]
  },
  {
   "cell_type": "code",
   "execution_count": null,
   "id": "27c6f4d8",
   "metadata": {},
   "outputs": [],
   "source": [
    "df_ht = pd.concat([df_tennis[['winner_name', 'winner_ht', 'winner_ioc']].rename(columns={\"winner_name\": \"name\", \"winner_ht\": \"ht\", \"winner_ioc\": \"ioc\"}), df_tennis[['loser_name', 'loser_ht', 'loser_ioc']].rename(columns={\"loser_name\": \"name\", \"loser_ht\": \"ht\", \"loser_ioc\": \"ioc\"})]).drop_duplicates()"
   ]
  },
  {
   "cell_type": "code",
   "execution_count": null,
   "id": "e5d66da5",
   "metadata": {},
   "outputs": [],
   "source": [
    "df_ht"
   ]
  },
  {
   "cell_type": "code",
   "execution_count": null,
   "id": "26b9c296",
   "metadata": {
    "scrolled": true
   },
   "outputs": [],
   "source": [
    "male_avg_ht = df_ht[(df_ht['name'].isin(male_names))].groupby('ioc').mean().reset_index()"
   ]
  },
  {
   "cell_type": "code",
   "execution_count": null,
   "id": "555136d0",
   "metadata": {},
   "outputs": [],
   "source": [
    "for index, row in male_avg_ht[~male_avg_ht['ht'].isna()].iterrows():\n",
    "    df_tennis.loc[(df_tennis['winner_ht'].isna()) & (df_tennis['winner_name'].isin(male_names)) & (df_tennis['winner_ioc']==row['ioc']), 'winner_ht']=row['ht']\n",
    "    df_tennis.loc[(df_tennis['loser_ht'].isna()) & (df_tennis['loser_name'].isin(male_names)) & (df_tennis['loser_ioc']==row['ioc']), 'loser_ht']=row['ht']"
   ]
  },
  {
   "cell_type": "code",
   "execution_count": null,
   "id": "eaaa5f4a",
   "metadata": {},
   "outputs": [],
   "source": [
    "female_avg_ht = df_ht[(df_ht['name'].isin(female_names))].groupby('ioc').mean().reset_index()"
   ]
  },
  {
   "cell_type": "code",
   "execution_count": null,
   "id": "56462f53",
   "metadata": {},
   "outputs": [],
   "source": [
    "for index, row in female_avg_ht[~female_avg_ht['ht'].isna()].iterrows():\n",
    "    df_tennis.loc[(df_tennis['winner_ht'].isna()) & (df_tennis['winner_name'].isin(female_names)) & (df_tennis['winner_ioc']==row['ioc']), 'winner_ht']=row['ht']\n",
    "    df_tennis.loc[(df_tennis['loser_ht'].isna()) & (df_tennis['loser_name'].isin(female_names)) & (df_tennis['loser_ioc']==row['ioc']), 'loser_ht']=row['ht']"
   ]
  },
  {
   "cell_type": "code",
   "execution_count": null,
   "id": "3aef2132",
   "metadata": {},
   "outputs": [],
   "source": [
    "generic_avg_ht = df_ht[(df_ht['name'].isin(female_names))].groupby('ioc').mean().reset_index()"
   ]
  },
  {
   "cell_type": "code",
   "execution_count": null,
   "id": "ee4d0828",
   "metadata": {},
   "outputs": [],
   "source": [
    "for index, row in generic_avg_ht[~generic_avg_ht['ht'].isna()].iterrows():\n",
    "    df_tennis.loc[(df_tennis['winner_ht'].isna()) & (df_tennis['winner_ioc']==row['ioc']), 'winner_ht']=row['ht']\n",
    "    df_tennis.loc[(df_tennis['loser_ht'].isna()) & (df_tennis['loser_ioc']==row['ioc']), 'loser_ht']=row['ht']"
   ]
  },
  {
   "cell_type": "code",
   "execution_count": null,
   "id": "f23d8100",
   "metadata": {},
   "outputs": [],
   "source": [
    "#correction using sex"
   ]
  },
  {
   "cell_type": "code",
   "execution_count": null,
   "id": "042831f1",
   "metadata": {},
   "outputs": [],
   "source": [
    "male_mean = df_ht[df_ht['name'].isin(male_names)]['ht'].mean()"
   ]
  },
  {
   "cell_type": "code",
   "execution_count": null,
   "id": "3e32355f",
   "metadata": {},
   "outputs": [],
   "source": [
    "female_mean = df_ht[df_ht['name'].isin(female_names)]['ht'].mean()"
   ]
  },
  {
   "cell_type": "code",
   "execution_count": null,
   "id": "e1df9891",
   "metadata": {},
   "outputs": [],
   "source": [
    "df_tennis.loc[(df_tennis['winner_ht'].isna()) & (df_tennis['winner_name'].isin(male_names)), 'winner_ht']=male_mean\n",
    "df_tennis.loc[(df_tennis['loser_ht'].isna()) & (df_tennis['loser_name'].isin(male_names)), 'loser_ht']=male_mean"
   ]
  },
  {
   "cell_type": "code",
   "execution_count": null,
   "id": "b5b4f825",
   "metadata": {},
   "outputs": [],
   "source": [
    "df_tennis.loc[(df_tennis['winner_ht'].isna()) & (df_tennis['winner_name'].isin(female_names)), 'winner_ht']=female_mean\n",
    "df_tennis.loc[(df_tennis['loser_ht'].isna()) & (df_tennis['loser_name'].isin(female_names)), 'loser_ht']=female_mean"
   ]
  },
  {
   "cell_type": "code",
   "execution_count": null,
   "id": "3f9dd879",
   "metadata": {},
   "outputs": [],
   "source": [
    "df_tennis['loser_ht'].fillna(value=df_ht['ht'].mean(), inplace=True) "
   ]
  },
  {
   "cell_type": "code",
   "execution_count": null,
   "id": "19a82ff2",
   "metadata": {},
   "outputs": [],
   "source": [
    "df_tennis['winner_ht'].fillna(value=df_ht['ht'].mean(), inplace=True) "
   ]
  },
  {
   "cell_type": "markdown",
   "id": "74e6258e",
   "metadata": {},
   "source": [
    "#### winner_ioc"
   ]
  },
  {
   "cell_type": "code",
   "execution_count": null,
   "id": "c404e511",
   "metadata": {},
   "outputs": [],
   "source": [
    "df_players\n",
    "# I take the winner_ioc null, of these I take winner_id and winner_name, \n",
    "# and for each one I search in the dataset and I complete\n",
    "df_winner_ioc = df_tennis[\n",
    "    (df_tennis['winner_ioc'].isnull()) & \n",
    "    (\n",
    "        (df_tennis['winner_name']!='unknown unknown') | (df_tennis['winner_id'].notnull())\n",
    "    )\n",
    "][[\"winner_id\", \"winner_name\"]].drop_duplicates()\n",
    "\n",
    "# iterate over winner_ioc\n",
    "for index, row in df_winner_ioc.iterrows():\n",
    "    tmp_w_ioc = None\n",
    "    \n",
    "    if row['winner_id'] is not None:\n",
    "        # if winner_id is not null use it\n",
    "        tmp_w_ioc = df_tennis[(df_tennis['winner_id']==row['winner_id']) & (df_tennis['winner_ioc'].notnull())]['winner_ioc'].iloc[0]\n",
    "        df_tennis.loc[df_tennis['winner_id']==row['winner_id'], ['winner_ioc']] = tmp_w_ioc        \n",
    "    else:\n",
    "        # if winner_id is null use winner_name\n",
    "        tmp_w_ioc = df_tennis[(df_tennis['winner_name']==row['winner_name']) & (df_tennis['winner_ioc'].notnull())]['winner_ioc'].iloc[0]    \n",
    "        df_tennis.loc[df_tennis['winner_name']==row['winner_name'], ['winner_ioc']] = tmp_w_ioc\n",
    "\n",
    "df_tennis.loc[df_tennis['winner_ioc'].isnull(),'winner_ioc']='unknown'    \n",
    "df_winner_ioc = df_tennis[((df_tennis['winner_ioc']=='unknown'))][[\"tourney_id\",\"tourney_name\", \"winner_id\", \"winner_name\", \"winner_ioc\", \"loser_id\", \"loser_name\", \"loser_ioc\"]]\n",
    "df_winner_ioc"
   ]
  },
  {
   "cell_type": "markdown",
   "id": "f1695bb1",
   "metadata": {},
   "source": [
    "#### loser_ioc"
   ]
  },
  {
   "cell_type": "code",
   "execution_count": null,
   "id": "a57e5c9f",
   "metadata": {
    "scrolled": false
   },
   "outputs": [],
   "source": [
    "# I take the loser_ioc null, of these I take loser_id and loser_name, \n",
    "# and for each one I search in the dataset and I complete\n",
    "df_loser_ioc = df_tennis[\n",
    "    (df_tennis['loser_ioc'].isnull()) & \n",
    "    (\n",
    "        (df_tennis['loser_name']!='unknown unknown') | (df_tennis['loser_id'].notnull())\n",
    "    )\n",
    "][[\"loser_id\", \"loser_name\"]].drop_duplicates()\n",
    "\n",
    "# iterate over loser_ioc\n",
    "for index, row in df_loser_ioc.iterrows():\n",
    "    tmp_l_ioc = None\n",
    "    # if loser_id is not null use it\n",
    "    if row['loser_id'] is not None:\n",
    "        tmp_l_ioc = df_tennis[\n",
    "            (df_tennis['loser_id']==row['loser_id']) & \n",
    "           (df_tennis['loser_ioc'].notnull())]['loser_ioc'].iloc[0]\n",
    "        df_tennis.loc[df_tennis['loser_id']==row['loser_id'], ['loser_ioc']] = tmp_l_ioc\n",
    "    # if loser_id is null use loser_name\n",
    "    else:\n",
    "        tmp_l_ioc = df_tennis[\n",
    "                (df_tennis['loser_name']==row['loser_name']) & \n",
    "                (df_tennis['loser_ioc'].notnull())]['loser_ioc'].iloc[0]    \n",
    "        df_tennis.loc[df_tennis['loser_name']==row['loser_name'], ['loser_ioc']] = tmp_l_ioc\n",
    "    #print(tmp_l_ioc)\n",
    "\n",
    "df_tennis.loc[df_tennis['loser_ioc'].isnull(),'loser_ioc']='unknown'    \n",
    "df_loser_ioc = df_tennis[((df_tennis['loser_ioc']=='unknown'))][[\"tourney_id\",\"tourney_name\", \"winner_id\", \"winner_name\", \"winner_ioc\", \"loser_id\", \"loser_name\", \"loser_ioc\"]]\n",
    "df_loser_ioc"
   ]
  },
  {
   "cell_type": "markdown",
   "id": "57f7906c",
   "metadata": {},
   "source": [
    "#### winner_age"
   ]
  },
  {
   "cell_type": "code",
   "execution_count": null,
   "id": "7f5536b8",
   "metadata": {},
   "outputs": [],
   "source": [
    "df_tennis[df_tennis['winner_age'].isnull()]"
   ]
  },
  {
   "cell_type": "markdown",
   "id": "64725ff2",
   "metadata": {},
   "source": [
    "#### loser_age"
   ]
  },
  {
   "cell_type": "code",
   "execution_count": null,
   "id": "c0457551",
   "metadata": {
    "scrolled": false
   },
   "outputs": [],
   "source": [
    "df_tennis[df_tennis['loser_age'].isnull()]"
   ]
  },
  {
   "cell_type": "markdown",
   "id": "8e7b7852",
   "metadata": {},
   "source": [
    "Utility function to compute percentage"
   ]
  },
  {
   "cell_type": "code",
   "execution_count": null,
   "id": "6c01c2ec",
   "metadata": {},
   "outputs": [],
   "source": [
    "def percentage_ratio(total, partial):\n",
    "    if (total <= 0): return -1\n",
    "    return round(((partial*100)/total), 2)"
   ]
  },
  {
   "cell_type": "markdown",
   "id": "9bd59b4d",
   "metadata": {},
   "source": [
    "#### w_svpt, l_svpt, w_1stIn, l_1stIn, w_1stWon, l_1stWon, w_2ndWon, l_2ndWon, w_df, l_df"
   ]
  },
  {
   "cell_type": "code",
   "execution_count": null,
   "id": "1e2231c0",
   "metadata": {},
   "outputs": [],
   "source": [
    "w_1stIn_dict = df_tennis[(~df_tennis['w_1stIn'].isnull()) & (~df_tennis['w_1stWon'].isnull())].groupby('winner_name')['w_1stIn'].apply(list).to_dict()   \n",
    "for key in w_1stIn_dict.keys():\n",
    "    w_1stIn_dict[key]= sum(w_1stIn_dict[key])\n",
    "    \n",
    "l_1stIn_dict = df_tennis[(~df_tennis['l_1stIn'].isnull()) & (~df_tennis['l_1stWon'].isnull())].groupby('loser_name')['l_1stIn'].apply(list).to_dict()   \n",
    "for key in l_1stIn_dict.keys():\n",
    "    l_1stIn_dict[key]= sum(l_1stIn_dict[key])\n",
    "    \n",
    "w_1stwin_dict = df_tennis[(~df_tennis['w_1stIn'].isnull()) & (~df_tennis['w_1stWon'].isnull())].groupby('winner_name')['w_1stWon'].apply(list).to_dict()   \n",
    "for key in w_1stwin_dict.keys():\n",
    "    w_1stwin_dict[key]= sum(w_1stwin_dict[key])\n",
    "    \n",
    "l_1stwin_dict = df_tennis[(~df_tennis['l_1stIn'].isnull()) & (~df_tennis['l_1stWon'].isnull())].groupby('loser_name')['l_1stWon'].apply(list).to_dict()   \n",
    "for key in l_1stwin_dict.keys():\n",
    "    l_1stwin_dict[key]= sum(l_1stwin_dict[key])"
   ]
  },
  {
   "cell_type": "code",
   "execution_count": null,
   "id": "40162369",
   "metadata": {},
   "outputs": [],
   "source": [
    "#considered matches\n",
    "w_match = df_tennis[(~df_tennis['w_1stIn'].isnull()) & (~df_tennis['w_1stWon'].isnull())].groupby('winner_name')['w_1stWon'].agg('count').to_dict()\n",
    "l_match = df_tennis[(~df_tennis['l_1stIn'].isnull()) & (~df_tennis['l_1stWon'].isnull())].groupby('loser_name')['w_1stWon'].agg('count').to_dict()\n",
    "#all matches\n",
    "w_match_tot = df_tennis.fillna(-1).groupby('winner_name')['w_1stWon'].agg('count').to_dict()\n",
    "l_match_tot = df_tennis.fillna(-1).groupby('loser_name')['w_1stWon'].agg('count').to_dict()\n",
    "\n",
    "#df_tennis.groupby('loser_name')['w_1stWon'].agg('count').to_dict()"
   ]
  },
  {
   "cell_type": "code",
   "execution_count": null,
   "id": "e1234f4f",
   "metadata": {},
   "outputs": [],
   "source": [
    "#% of the won first services on the total fisrt services not on the total served points\n",
    "df_players['sv1st_win%'] = -1"
   ]
  },
  {
   "cell_type": "code",
   "execution_count": null,
   "id": "c12c86ca",
   "metadata": {},
   "outputs": [],
   "source": [
    "for index, row in df_players.iterrows():\n",
    "    name = row['whole_name']\n",
    "    \n",
    "    tot_match = 0\n",
    "    matches = 0\n",
    "    total_first = 0\n",
    "    won_first = 0\n",
    "    \n",
    "    if name in w_1stIn_dict.keys():\n",
    "        total_first += w_1stIn_dict[name]\n",
    "        won_first += w_1stwin_dict[name]\n",
    "        matches += w_match[name]\n",
    "    if name in l_1stIn_dict.keys():\n",
    "        total_first += l_1stIn_dict[name]\n",
    "        won_first += l_1stwin_dict[name]\n",
    "        matches += l_match[name]\n",
    "        \n",
    "    if name in w_match_tot.keys():\n",
    "        tot_match += w_match_tot[name]\n",
    "    if name in l_match_tot.keys():\n",
    "        tot_match += l_match_tot[name]\n",
    "        \n",
    "    if tot_match!=0 and total_first!=0:\n",
    "        df_players.loc[index, 'sv1st_win%'] = won_first/total_first*matches/tot_match*100"
   ]
  },
  {
   "cell_type": "code",
   "execution_count": null,
   "id": "9d454777",
   "metadata": {},
   "outputs": [],
   "source": [
    "df_players"
   ]
  },
  {
   "cell_type": "code",
   "execution_count": null,
   "id": "0f905df2",
   "metadata": {},
   "outputs": [],
   "source": [
    "w_df_dict = df_tennis[(~df_tennis['w_df'].isnull()) & (~df_tennis['w_svpt'].isnull())].groupby('winner_name')['w_df'].apply(list).to_dict()   \n",
    "for key in w_df_dict.keys():\n",
    "    w_df_dict[key]= sum(w_df_dict[key])\n",
    "    \n",
    "l_df_dict = df_tennis[(~df_tennis['l_df'].isnull()) & (~df_tennis['l_svpt'].isnull())].groupby('loser_name')['l_df'].apply(list).to_dict()   \n",
    "for key in l_df_dict.keys():\n",
    "    l_df_dict[key]= sum(l_df_dict[key])\n",
    "    \n",
    "w_sv_dict = df_tennis[(~df_tennis['w_df'].isnull()) & (~df_tennis['w_svpt'].isnull())].groupby('winner_name')['w_svpt'].apply(list).to_dict()   \n",
    "for key in w_sv_dict.keys():\n",
    "    w_sv_dict[key]= sum(w_sv_dict[key])\n",
    "    \n",
    "l_sv_dict = df_tennis[(~df_tennis['l_df'].isnull()) & (~df_tennis['l_svpt'].isnull())].groupby('loser_name')['l_svpt'].apply(list).to_dict()   \n",
    "for key in l_sv_dict.keys():\n",
    "    l_sv_dict[key]= sum(l_sv_dict[key])"
   ]
  },
  {
   "cell_type": "code",
   "execution_count": null,
   "id": "65e4ce41",
   "metadata": {},
   "outputs": [],
   "source": [
    "#considered matches\n",
    "w_match = df_tennis[(~df_tennis['w_df'].isnull()) & (~df_tennis['w_svpt'].isnull())].groupby('winner_name')['w_df'].agg('count').to_dict()\n",
    "l_match = df_tennis[(~df_tennis['l_df'].isnull()) & (~df_tennis['l_svpt'].isnull())].groupby('loser_name')['l_df'].agg('count').to_dict()"
   ]
  },
  {
   "cell_type": "code",
   "execution_count": null,
   "id": "2986ff9b",
   "metadata": {},
   "outputs": [],
   "source": [
    "df_players['df%'] = -1"
   ]
  },
  {
   "cell_type": "code",
   "execution_count": null,
   "id": "6658960e",
   "metadata": {},
   "outputs": [],
   "source": [
    "for index, row in df_players.iterrows():\n",
    "    name = row['whole_name']\n",
    "    \n",
    "    tot_match = 0\n",
    "    matches = 0\n",
    "    total_points = 0\n",
    "    df = 0\n",
    "    if name in w_df_dict.keys():\n",
    "        total_points += w_sv_dict[name]\n",
    "        df += w_df_dict[name]\n",
    "        matches += w_match[name]\n",
    "    if name in l_df_dict.keys():\n",
    "        total_points += l_sv_dict[name]\n",
    "        df += l_df_dict[name]\n",
    "        matches += l_match[name]\n",
    "        \n",
    "    if name in w_match_tot.keys():\n",
    "        tot_match += w_match_tot[name]\n",
    "    if name in l_match_tot.keys():\n",
    "        tot_match += l_match_tot[name]\n",
    "        \n",
    "    if tot_match!=0 and total_points!=0:\n",
    "        df_players.loc[index, 'df%'] = df/total_points*matches/tot_match*100"
   ]
  },
  {
   "cell_type": "code",
   "execution_count": null,
   "id": "f43158ac",
   "metadata": {},
   "outputs": [],
   "source": [
    "df_players[['whole_name', 'sv1st_win%', 'df%']]"
   ]
  },
  {
   "cell_type": "code",
   "execution_count": null,
   "id": "a85ef9ed",
   "metadata": {},
   "outputs": [],
   "source": [
    "df_tennis['w_df'].fillna(value=-1, inplace=True) "
   ]
  },
  {
   "cell_type": "code",
   "execution_count": null,
   "id": "d0e40c78",
   "metadata": {},
   "outputs": [],
   "source": [
    "df_tennis['l_df'].fillna(value=-1, inplace=True) "
   ]
  },
  {
   "cell_type": "code",
   "execution_count": null,
   "id": "d81bbc77",
   "metadata": {},
   "outputs": [],
   "source": [
    "df_tennis['w_1stIn'].fillna(value=-1, inplace=True) "
   ]
  },
  {
   "cell_type": "code",
   "execution_count": null,
   "id": "e42a01b1",
   "metadata": {},
   "outputs": [],
   "source": [
    "df_tennis['l_1stIn'].fillna(value=-1, inplace=True) "
   ]
  },
  {
   "cell_type": "code",
   "execution_count": null,
   "id": "5cc71dda",
   "metadata": {},
   "outputs": [],
   "source": [
    "df_tennis['w_1stWon'].fillna(value=-1, inplace=True) "
   ]
  },
  {
   "cell_type": "code",
   "execution_count": null,
   "id": "5a24b35f",
   "metadata": {},
   "outputs": [],
   "source": [
    "df_tennis['l_1stWon'].fillna(value=-1, inplace=True) "
   ]
  },
  {
   "cell_type": "code",
   "execution_count": null,
   "id": "6047df29",
   "metadata": {},
   "outputs": [],
   "source": [
    "df_tennis['w_2ndWon'].fillna(value=-1, inplace=True) "
   ]
  },
  {
   "cell_type": "code",
   "execution_count": null,
   "id": "03ae8ff4",
   "metadata": {},
   "outputs": [],
   "source": [
    "df_tennis['l_2ndWon'].fillna(value=-1, inplace=True) "
   ]
  },
  {
   "cell_type": "markdown",
   "id": "f116ad39",
   "metadata": {},
   "source": [
    "**Service point and ace statistics and cleaning**"
   ]
  },
  {
   "cell_type": "code",
   "execution_count": null,
   "id": "3d5147a7",
   "metadata": {},
   "outputs": [],
   "source": [
    "w_svpt = df_tennis[(~df_tennis['w_svpt'].isnull())].groupby('winner_name')['w_svpt'].agg('sum').to_dict()\n",
    "l_svpt = df_tennis[(~df_tennis['l_svpt'].isnull())].groupby('loser_name')['l_svpt'].agg('sum').to_dict()\n",
    "\n",
    "#merging players svpts\n",
    "for l_key in l_svpt.keys():\n",
    "    if(l_key in w_svpt.keys()):\n",
    "        l_svpt[l_key]+=w_svpt[l_key]\n",
    "for w_key in w_svpt.keys():\n",
    "    if(w_key not in l_svpt.keys()):\n",
    "        l_svpt[w_key]= w_svpt[w_key]\n",
    "\n",
    "merged_svp = l_svpt"
   ]
  },
  {
   "cell_type": "code",
   "execution_count": null,
   "id": "6d8803a9",
   "metadata": {},
   "outputs": [],
   "source": [
    "df_tennis['w_svpt'].fillna(value=-1, inplace=True) "
   ]
  },
  {
   "cell_type": "code",
   "execution_count": null,
   "id": "ed4b2b2c",
   "metadata": {},
   "outputs": [],
   "source": [
    "df_tennis['l_svpt'].fillna(value=-1, inplace=True) "
   ]
  },
  {
   "cell_type": "markdown",
   "id": "190bd648",
   "metadata": {},
   "source": [
    "#### w_ace"
   ]
  },
  {
   "cell_type": "code",
   "execution_count": null,
   "id": "877d9a09",
   "metadata": {},
   "outputs": [],
   "source": [
    "df_players['ace_perc'] = -1\n",
    "w_ace = df_tennis[(~df_tennis['w_ace'].isnull()) & (df_tennis['w_svpt'] != -1)].groupby('winner_name')['w_ace'].agg('sum').to_dict()\n",
    "l_ace = df_tennis[(~df_tennis['l_ace'].isnull()) & (df_tennis['l_svpt'] != -1)].groupby('loser_name')['l_ace'].agg('sum').to_dict()\n",
    "\n",
    "#merging players aces\n",
    "for l_key in l_ace.keys():\n",
    "    if(l_key in w_ace.keys()):\n",
    "        l_ace[l_key]+=w_ace[l_key]\n",
    "for w_key in w_ace.keys():\n",
    "    if(w_key not in l_ace.keys()):\n",
    "        l_ace[w_key]= w_ace[w_key]\n",
    "merged_ace = l_ace\n",
    "        \n",
    "for name in merged_ace.keys():\n",
    "    if (merged_ace[name]):\n",
    "        svpt = merged_svp[name]\n",
    "        ace = merged_ace[name]\n",
    "        df_players.loc[df_players['whole_name'] == name, 'ace_perc'] = percentage_ratio(svpt, ace)"
   ]
  },
  {
   "cell_type": "code",
   "execution_count": null,
   "id": "9b06b7ff",
   "metadata": {
    "scrolled": true
   },
   "outputs": [],
   "source": [
    "df_players[['whole_name', 'ace_perc']]#.sort_values(by='ace_perc',ascending=False)"
   ]
  },
  {
   "cell_type": "code",
   "execution_count": null,
   "id": "7068a550",
   "metadata": {
    "scrolled": true
   },
   "outputs": [],
   "source": [
    "df_tennis['w_ace'].fillna(value=-1, inplace=True)"
   ]
  },
  {
   "cell_type": "code",
   "execution_count": null,
   "id": "440a933a",
   "metadata": {},
   "outputs": [],
   "source": [
    "df_tennis['l_ace'].fillna(value=-1, inplace=True)"
   ]
  },
  {
   "cell_type": "markdown",
   "id": "293d6f7e",
   "metadata": {},
   "source": [
    "#### w_SvGms and l_SvGms"
   ]
  },
  {
   "cell_type": "markdown",
   "id": "417e1c48",
   "metadata": {},
   "source": [
    "Alla fine di un set senza tie-break, per stabilire nel set successivo il giocatore a cui affidare l'esecuzione della battuta (battitore): dividere per 2 la somma di tutti i game disputati nel set. Se il resto è 0 (numero pari di game già disputati), il battitore è lo stesso del primo game del set, altrimenti è l'altro\n",
    "\n",
    "Se il set termina con un tie-break (numero dispari di game già disputati), il battitore del primo game del set successivo NON è lo stesso del primo game del set appena terminato (ossia il primo battitore del tie-break). "
   ]
  },
  {
   "cell_type": "code",
   "execution_count": null,
   "id": "c02790ec",
   "metadata": {},
   "outputs": [],
   "source": [
    "def count_service_games(match):\n",
    "    sets = match.split( )\n",
    "    \n",
    "    player1 = 0\n",
    "    player2 = 0\n",
    "    \n",
    "    first = 0\n",
    "    \n",
    "    #empty score\n",
    "    if len(sets)==0:\n",
    "        return [-1,-1]\n",
    "    \n",
    "    if len(sets)==1 and (Retirement(sets[0]) or Default(sets[0]) or Bye(sets[0]) or Walkover(sets[0])):\n",
    "            return [-1,-1]\n",
    "    \n",
    "    if Retirement(sets[len(sets)-1]) or Default(sets[len(sets)-1]):\n",
    "        check_sets = len(sets)-1\n",
    "    else:\n",
    "        check_sets = len(sets)\n",
    "    \n",
    "    #analysis of complete sets\n",
    "    for i in range(check_sets):\n",
    "        \n",
    "        count = 0\n",
    "        \n",
    "        game = sets[i].replace(\"[\", \"\").replace(\"]\", \"\")\n",
    "\n",
    "        if \"(\" in game or \")\" in game:\n",
    "            #tie-break\n",
    "            index_open = game.index(\"(\")\n",
    "            \n",
    "            points = game[0:index_open].split(\"-\")\n",
    "            \n",
    "            #errors in the score\n",
    "            if not points[0].isdigit() or not points[1].isdigit():\n",
    "                return [-1,-1]\n",
    "            \n",
    "            count = int(points[0]) + int(points[1]) -1\n",
    "            \n",
    "            x = count//2\n",
    "            y = count - x #y>=x\n",
    "\n",
    "            if first == 0:\n",
    "                player1 += y  \n",
    "                player2 += x\n",
    "            else:\n",
    "                player1 += x  \n",
    "                player2 += y\n",
    "                \n",
    "            first = (first+1)%2\n",
    "            \n",
    "        else:\n",
    "            #no tie-break\n",
    "            points = game.split(\"-\")\n",
    "            \n",
    "            #errors in the score\n",
    "            if not points[0].isdigit() or not points[1].isdigit():\n",
    "                return [-1,-1]\n",
    "            \n",
    "            count = int(points[0]) + int(points[1])\n",
    "            \n",
    "            x = count//2\n",
    "            y = count - x #y>=x\n",
    "\n",
    "            if first == 0:\n",
    "                player1 += y  \n",
    "                player2 += x\n",
    "            else:\n",
    "                player1 += x  \n",
    "                player2 += y\n",
    "                \n",
    "            if count%2 != 0:\n",
    "                first = (first+1)%2\n",
    "            \n",
    "        \n",
    "    return [player1, player2]"
   ]
  },
  {
   "cell_type": "code",
   "execution_count": null,
   "id": "74d965da",
   "metadata": {},
   "outputs": [],
   "source": [
    "#correction of errors in case not nulls\n",
    "for index,row in df_tennis[(~df_tennis['l_SvGms'].isnull()) & (~df_tennis['w_SvGms'].isnull()) & (df_tennis['score']!=\"\")].iterrows():\n",
    "    \n",
    "    if len(sets)==1 and (Walkover(sets[0]) or Retirement(sets[0]) or Default(sets[0]) or Bye(sets[0])):\n",
    "        df_tennis.loc[index, 'w_SvGms']=0\n",
    "        df_tennis.loc[index, 'l_SvGms']=0\n",
    "        continue\n",
    "    \n",
    "    if not validity_match(row['score'].split(), row['best_of']):\n",
    "        continue\n",
    "    \n",
    "    result = count_service_games(row['score'])\n",
    "    x = result[0]\n",
    "    y = result[1]\n",
    "    if x == -1:\n",
    "        continue\n",
    "    \n",
    "    if not((row['w_SvGms']==x and row['l_SvGms']==y) or (row['w_SvGms']==y and row['l_SvGms']==x)): \n",
    "        if row['w_SvGms']==x:\n",
    "            df_tennis.loc[index, 'l_SvGms']=y\n",
    "        elif row['w_SvGms']==y:\n",
    "            df_tennis.loc[index, 'l_SvGms']=x\n",
    "        elif row['l_SvGms']==x:\n",
    "            df_tennis.loc[index, 'w_SvGms']=y\n",
    "        elif row['l_SvGms']==y:\n",
    "            df_tennis.loc[index, 'w_SvGms']=x\n",
    "        else:\n",
    "            df_tennis.loc[index, 'w_SvGms']=x\n",
    "            df_tennis.loc[index, 'l_SvGms']=y\n",
    "        "
   ]
  },
  {
   "cell_type": "code",
   "execution_count": null,
   "id": "8f7f6a4c",
   "metadata": {},
   "outputs": [],
   "source": [
    "#correction of errors in case of nulls\n",
    "for index,row in df_tennis[(df_tennis['score']!=\"\") & (df_tennis['l_SvGms'].isnull())].iterrows():\n",
    "    \n",
    "    sets = row['score'].split()\n",
    "    \n",
    "    if len(sets)==1 and (Walkover(sets[0]) or Retirement(sets[0]) or Default(sets[0]) or Bye(sets[0])):\n",
    "        df_tennis.loc[index, 'w_SvGms']=0\n",
    "        df_tennis.loc[index, 'l_SvGms']=0\n",
    "        continue\n",
    "    \n",
    "    if not validity_match(sets, row['best_of']):\n",
    "        continue\n",
    "    \n",
    "    result = count_service_games(row['score'])\n",
    "    x = result[0]\n",
    "    y = result[1]\n",
    "    if x == -1:\n",
    "        continue\n",
    "    \n",
    "    winner = math.isnan(float(row['w_SvGms']))\n",
    "    \n",
    "    if not winner:\n",
    "        if row['w_SvGms']==x:\n",
    "            df_tennis.loc[index, 'l_SvGms']=y\n",
    "        elif row['w_SvGms']==y:\n",
    "            df_tennis.loc[index, 'l_SvGms']=x\n",
    "        else:\n",
    "            df_tennis.loc[index, 'w_SvGms']=x\n",
    "            df_tennis.loc[index, 'l_SvGms']=y\n",
    "    else:\n",
    "        df_tennis.loc[index, 'w_SvGms']=x\n",
    "        df_tennis.loc[index, 'l_SvGms']=y"
   ]
  },
  {
   "cell_type": "code",
   "execution_count": null,
   "id": "e692f499",
   "metadata": {},
   "outputs": [],
   "source": [
    "#correction of errors in case of nulls\n",
    "for index,row in df_tennis[(df_tennis['score']!=\"\") & (df_tennis['w_SvGms'].isnull())].iterrows():\n",
    "    \n",
    "    if len(sets)==1 and (Walkover(sets[0]) or Retirement(sets[0]) or Default(sets[0]) or Bye(sets[0])):\n",
    "        df_tennis.loc[index, 'w_SvGms']=0\n",
    "        df_tennis.loc[index, 'l_SvGms']=0\n",
    "        continue\n",
    "    \n",
    "    if not validity_match(row['score'].split(), row['best_of']):\n",
    "        continue\n",
    "    \n",
    "    result = count_service_games(row['score'])\n",
    "    x = result[0]\n",
    "    y = result[1]\n",
    "    if x == -1:\n",
    "        continue\n",
    "    \n",
    "    loser = math.isnan(float(row['l_SvGms']))\n",
    "    \n",
    "    if not loser:\n",
    "        if row['l_SvGms']==x:\n",
    "            df_tennis.loc[index, 'w_SvGms']=y\n",
    "        elif row['l_SvGms']==y:\n",
    "            df_tennis.loc[index, 'w_SvGms']=x\n",
    "        else:\n",
    "            df_tennis.loc[index, 'w_SvGms']=x\n",
    "            df_tennis.loc[index, 'l_SvGms']=y\n",
    "    else:\n",
    "        df_tennis.loc[index, 'w_SvGms']=x\n",
    "        df_tennis.loc[index, 'l_SvGms']=y"
   ]
  },
  {
   "cell_type": "code",
   "execution_count": null,
   "id": "644e8c91",
   "metadata": {},
   "outputs": [],
   "source": [
    "df_tennis['l_SvGms'].fillna(value=-1, inplace=True)\n",
    "df_tennis['w_SvGms'].fillna(value=-1, inplace=True)"
   ]
  },
  {
   "cell_type": "markdown",
   "id": "9725822c",
   "metadata": {},
   "source": [
    "**Breakpoint statistics and cleaning**"
   ]
  },
  {
   "cell_type": "code",
   "execution_count": null,
   "id": "6b04961b",
   "metadata": {},
   "outputs": [],
   "source": [
    "df_tennis[df_tennis['w_bpFaced'].isnull()]"
   ]
  },
  {
   "cell_type": "code",
   "execution_count": null,
   "id": "0680c902",
   "metadata": {},
   "outputs": [],
   "source": [
    "w_bpF = df_tennis[(~df_tennis['w_bpFaced'].isnull()) & (df_tennis['w_bpFaced'] > 0)].groupby('winner_name')['w_bpFaced'].agg('sum').to_dict()\n",
    "l_bpF = df_tennis[(~df_tennis['l_bpFaced'].isnull()) & (df_tennis['w_bpFaced'] > 0)].groupby('loser_name')['l_bpFaced'].agg('sum').to_dict()\n",
    "\n",
    "#merging players bpFs\n",
    "for l_key in l_bpF.keys():\n",
    "    if(l_key in w_bpF.keys()):\n",
    "        l_bpF[l_key]+=w_bpF[l_key]\n",
    "for w_key in w_bpF.keys():\n",
    "    if(w_key not in l_bpF.keys()):\n",
    "        l_bpF[w_key]= w_bpF[w_key]\n",
    "merged_bpF = l_bpF"
   ]
  },
  {
   "cell_type": "code",
   "execution_count": null,
   "id": "ab8b9d3f",
   "metadata": {},
   "outputs": [],
   "source": [
    "df_tennis['w_bpFaced'].fillna(value=-1, inplace=True) "
   ]
  },
  {
   "cell_type": "code",
   "execution_count": null,
   "id": "2abf9930",
   "metadata": {},
   "outputs": [],
   "source": [
    "df_tennis['l_bpFaced'].fillna(value=-1, inplace=True) "
   ]
  },
  {
   "cell_type": "code",
   "execution_count": null,
   "id": "d8cd7a3e",
   "metadata": {},
   "outputs": [],
   "source": [
    "df_tennis[df_tennis['w_bpSaved'].isnull()]"
   ]
  },
  {
   "cell_type": "code",
   "execution_count": null,
   "id": "83ff8016",
   "metadata": {},
   "outputs": [],
   "source": [
    "df_players['bpS_perc'] = -1\n",
    "w_bpS = df_tennis[(~df_tennis['w_bpSaved'].isnull()) & (df_tennis['w_bpFaced'] != -1)].groupby('winner_name')['w_bpSaved'].agg('sum').to_dict()\n",
    "l_bpS = df_tennis[(~df_tennis['l_bpSaved'].isnull()) & (df_tennis['l_bpFaced'] != -1)].groupby('loser_name')['l_bpSaved'].agg('sum').to_dict()\n",
    "\n",
    "#merging players bpSaveds\n",
    "for l_key in l_bpS.keys():\n",
    "    if(l_key in w_bpS.keys()):\n",
    "        l_bpS[l_key]+=w_bpS[l_key]\n",
    "        \n",
    "for w_key in w_bpS.keys():\n",
    "    if(w_key not in l_bpS.keys()):\n",
    "        l_bpS[w_key]= w_bpS[w_key]\n",
    "merged_bpS = l_bpS\n",
    "              \n",
    "for name in merged_bpS.keys():\n",
    "    if (name in l_bpF.keys()):\n",
    "        bpF = merged_bpF[name]\n",
    "        bpS = merged_bpS[name]\n",
    "        df_players.loc[df_players['whole_name'] == name, 'bpS_perc'] = percentage_ratio(bpF, bpS)"
   ]
  },
  {
   "cell_type": "code",
   "execution_count": null,
   "id": "3c9b13c0",
   "metadata": {},
   "outputs": [],
   "source": [
    "df_tennis['w_bpSaved'].fillna(value=-1, inplace=True) "
   ]
  },
  {
   "cell_type": "code",
   "execution_count": null,
   "id": "752894e9",
   "metadata": {},
   "outputs": [],
   "source": [
    "df_tennis['l_bpSaved'].fillna(value=-1, inplace=True) "
   ]
  },
  {
   "cell_type": "code",
   "execution_count": null,
   "id": "85e3b8ae",
   "metadata": {
    "scrolled": false
   },
   "outputs": [],
   "source": [
    "df_players"
   ]
  },
  {
   "cell_type": "code",
   "execution_count": null,
   "id": "a649ccd1",
   "metadata": {},
   "outputs": [],
   "source": []
  },
  {
   "cell_type": "code",
   "execution_count": null,
   "id": "956c4f32",
   "metadata": {},
   "outputs": [],
   "source": []
  },
  {
   "cell_type": "code",
   "execution_count": null,
   "id": "f6f43535",
   "metadata": {},
   "outputs": [],
   "source": []
  }
 ],
 "metadata": {
  "kernelspec": {
   "display_name": "Python 3 (ipykernel)",
   "language": "python",
   "name": "python3"
  },
  "language_info": {
   "codemirror_mode": {
    "name": "ipython",
    "version": 3
   },
   "file_extension": ".py",
   "mimetype": "text/x-python",
   "name": "python",
   "nbconvert_exporter": "python",
   "pygments_lexer": "ipython3",
   "version": "3.9.5"
  }
 },
 "nbformat": 4,
 "nbformat_minor": 5
}
