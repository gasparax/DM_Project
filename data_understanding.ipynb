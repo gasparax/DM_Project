{
 "cells": [
  {
   "cell_type": "code",
   "execution_count": 7,
   "id": "98a1d139",
   "metadata": {},
   "outputs": [],
   "source": [
    "import math\n",
    "import numpy as np\n",
    "import scipy.stats as stats\n",
    "import matplotlib.pyplot as plt\n",
    "from sklearn.decomposition import PCA\n",
    "\n",
    "import collections\n",
    "from scipy.stats.stats import pearsonr\n",
    "import pandas as pd\n",
    "import os\n",
    "from datetime import date"
   ]
  },
  {
   "cell_type": "code",
   "execution_count": 8,
   "id": "a908420f",
   "metadata": {},
   "outputs": [],
   "source": [
    "# load of the data\n",
    "DATASET_DIR = \"dataset\" + os.path.sep\n",
    "df_tennis = pd.read_csv(DATASET_DIR + 'tennis_matches.csv', sep=',', index_col=0) \n",
    "\n",
    "#index_col=False say to not use the first column as ID\n",
    "df_male = pd.read_csv(DATASET_DIR + 'male_players.csv', sep=',', index_col=False)\n",
    "df_female = pd.read_csv(DATASET_DIR + 'female_players.csv', sep=',', index_col=False) "
   ]
  },
  {
   "cell_type": "markdown",
   "id": "80d511ae",
   "metadata": {},
   "source": [
    "## Print some records of the datasets"
   ]
  },
  {
   "cell_type": "code",
   "execution_count": null,
   "id": "7da9b707",
   "metadata": {},
   "outputs": [],
   "source": [
    "df_tennis.head()"
   ]
  },
  {
   "cell_type": "code",
   "execution_count": null,
   "id": "4d7a8ca8",
   "metadata": {},
   "outputs": [],
   "source": [
    "df_male.head()"
   ]
  },
  {
   "cell_type": "code",
   "execution_count": null,
   "id": "11d16092",
   "metadata": {},
   "outputs": [],
   "source": [
    "df_female.head()"
   ]
  },
  {
   "cell_type": "markdown",
   "id": "dfcd2dc7",
   "metadata": {},
   "source": [
    "## Missing values: Null"
   ]
  },
  {
   "cell_type": "code",
   "execution_count": null,
   "id": "33d8eddc",
   "metadata": {},
   "outputs": [],
   "source": [
    "#info about data that we have for male\n",
    "df_male.info()"
   ]
  },
  {
   "cell_type": "code",
   "execution_count": null,
   "id": "9df3aef0",
   "metadata": {},
   "outputs": [],
   "source": [
    "#number of null in the columns\n",
    "df_male.isnull().sum(axis = 0)"
   ]
  },
  {
   "cell_type": "markdown",
   "id": "c0595058",
   "metadata": {},
   "source": [
    "So, the male dataframe has 2 columns: name and surname. It has 55208 entries and about 200 null values in total."
   ]
  },
  {
   "cell_type": "code",
   "execution_count": null,
   "id": "96baa8e2",
   "metadata": {},
   "outputs": [],
   "source": [
    "#info about data that we have for female\n",
    "df_female.info()"
   ]
  },
  {
   "cell_type": "code",
   "execution_count": null,
   "id": "1b6f320f",
   "metadata": {},
   "outputs": [],
   "source": [
    "#number of null in the columns\n",
    "df_female.isnull().sum(axis = 0)"
   ]
  },
  {
   "cell_type": "markdown",
   "id": "79296869",
   "metadata": {},
   "source": [
    "So, the female dataframe has 2 columns: name and surname. It has 46172  entries and 1667 null values in the name, but the surname is never null."
   ]
  },
  {
   "cell_type": "code",
   "execution_count": null,
   "id": "da8b2be2",
   "metadata": {},
   "outputs": [],
   "source": [
    "df_tennis.info()"
   ]
  },
  {
   "cell_type": "code",
   "execution_count": null,
   "id": "68eb3dfe",
   "metadata": {
    "scrolled": false
   },
   "outputs": [],
   "source": [
    "#we see if the attributes have some null values\n",
    "df_tennis.isnull().any()"
   ]
  },
  {
   "cell_type": "code",
   "execution_count": null,
   "id": "7baec242",
   "metadata": {},
   "outputs": [],
   "source": [
    "#since all the attributes has missing values, we count them\n",
    "df_tennis.isnull().sum(axis = 0)"
   ]
  },
  {
   "cell_type": "markdown",
   "id": "692a4620",
   "metadata": {},
   "source": [
    "We can notice that some attributes have very few null values, but other attributes has more than 50% of null values"
   ]
  },
  {
   "cell_type": "markdown",
   "id": "c78ac53b",
   "metadata": {},
   "source": [
    "## Duplicate data"
   ]
  },
  {
   "cell_type": "code",
   "execution_count": 15,
   "id": "09f655da",
   "metadata": {},
   "outputs": [
    {
     "data": {
      "text/plain": [
       "524"
      ]
     },
     "execution_count": 15,
     "metadata": {},
     "output_type": "execute_result"
    }
   ],
   "source": [
    "#we see if there are duplicates in the dataset male and female\n",
    "df_male.duplicated(keep='first').sum()"
   ]
  },
  {
   "cell_type": "code",
   "execution_count": 16,
   "id": "862d6e9e",
   "metadata": {},
   "outputs": [
    {
     "data": {
      "text/plain": [
       "511"
      ]
     },
     "execution_count": 16,
     "metadata": {},
     "output_type": "execute_result"
    }
   ],
   "source": [
    "df_female.duplicated(keep='first').sum()"
   ]
  },
  {
   "cell_type": "markdown",
   "id": "458ff006",
   "metadata": {},
   "source": [
    "So, both the datasets of male and female has rows with same name and surname. These rows can be duplicates (so they correspond to the same person) or they can be homonyms. In this latter case we cannot distinguish the matches of one player by the ones of the other player."
   ]
  },
  {
   "cell_type": "code",
   "execution_count": 17,
   "id": "f8e225b5",
   "metadata": {},
   "outputs": [],
   "source": [
    "#we remove (only) the duplicated rows\n",
    "df_male = df_male.drop_duplicates()\n",
    "df_female = df_female.drop_duplicates()"
   ]
  },
  {
   "cell_type": "code",
   "execution_count": 18,
   "id": "3c22b05c",
   "metadata": {},
   "outputs": [
    {
     "data": {
      "text/html": [
       "<div>\n",
       "<style scoped>\n",
       "    .dataframe tbody tr th:only-of-type {\n",
       "        vertical-align: middle;\n",
       "    }\n",
       "\n",
       "    .dataframe tbody tr th {\n",
       "        vertical-align: top;\n",
       "    }\n",
       "\n",
       "    .dataframe thead th {\n",
       "        text-align: right;\n",
       "    }\n",
       "</style>\n",
       "<table border=\"1\" class=\"dataframe\">\n",
       "  <thead>\n",
       "    <tr style=\"text-align: right;\">\n",
       "      <th></th>\n",
       "      <th>name</th>\n",
       "      <th>surname</th>\n",
       "    </tr>\n",
       "  </thead>\n",
       "  <tbody>\n",
       "    <tr>\n",
       "      <th>0</th>\n",
       "      <td>Bobby</td>\n",
       "      <td>Riggs</td>\n",
       "    </tr>\n",
       "    <tr>\n",
       "      <th>417</th>\n",
       "      <td>Robin</td>\n",
       "      <td>White</td>\n",
       "    </tr>\n",
       "    <tr>\n",
       "      <th>2687</th>\n",
       "      <td>Di</td>\n",
       "      <td>Zhao</td>\n",
       "    </tr>\n",
       "    <tr>\n",
       "      <th>3660</th>\n",
       "      <td>J</td>\n",
       "      <td>Tobin</td>\n",
       "    </tr>\n",
       "    <tr>\n",
       "      <th>3918</th>\n",
       "      <td>Yi</td>\n",
       "      <td>Liu</td>\n",
       "    </tr>\n",
       "    <tr>\n",
       "      <th>...</th>\n",
       "      <td>...</td>\n",
       "      <td>...</td>\n",
       "    </tr>\n",
       "    <tr>\n",
       "      <th>44222</th>\n",
       "      <td>NaN</td>\n",
       "      <td>Beckert</td>\n",
       "    </tr>\n",
       "    <tr>\n",
       "      <th>45538</th>\n",
       "      <td>J</td>\n",
       "      <td>Lambert</td>\n",
       "    </tr>\n",
       "    <tr>\n",
       "      <th>45597</th>\n",
       "      <td>J</td>\n",
       "      <td>Young</td>\n",
       "    </tr>\n",
       "    <tr>\n",
       "      <th>45658</th>\n",
       "      <td>M</td>\n",
       "      <td>Noble</td>\n",
       "    </tr>\n",
       "    <tr>\n",
       "      <th>45679</th>\n",
       "      <td>M</td>\n",
       "      <td>Hamilton</td>\n",
       "    </tr>\n",
       "  </tbody>\n",
       "</table>\n",
       "<p>74 rows × 2 columns</p>\n",
       "</div>"
      ],
      "text/plain": [
       "        name   surname\n",
       "0      Bobby     Riggs\n",
       "417    Robin     White\n",
       "2687      Di      Zhao\n",
       "3660       J     Tobin\n",
       "3918      Yi       Liu\n",
       "...      ...       ...\n",
       "44222    NaN   Beckert\n",
       "45538      J   Lambert\n",
       "45597      J     Young\n",
       "45658      M     Noble\n",
       "45679      M  Hamilton\n",
       "\n",
       "[74 rows x 2 columns]"
      ]
     },
     "execution_count": 18,
     "metadata": {},
     "output_type": "execute_result"
    }
   ],
   "source": [
    "#see if a name can be both male and female and manage them\n",
    "df_players = pd.concat([df_male, df_female])\n",
    "df_players[df_players.duplicated(keep='first')==True]"
   ]
  },
  {
   "cell_type": "code",
   "execution_count": 19,
   "id": "f38e7275",
   "metadata": {},
   "outputs": [
    {
     "data": {
      "text/plain": [
       "74"
      ]
     },
     "execution_count": 19,
     "metadata": {},
     "output_type": "execute_result"
    }
   ],
   "source": [
    "df_players.duplicated(keep='first').sum()"
   ]
  },
  {
   "cell_type": "markdown",
   "id": "cb6d0dee",
   "metadata": {},
   "source": [
    "So, there are 74 names for both players male and female."
   ]
  },
  {
   "cell_type": "code",
   "execution_count": 20,
   "id": "cc6404cd",
   "metadata": {},
   "outputs": [
    {
     "data": {
      "text/html": [
       "<div>\n",
       "<style scoped>\n",
       "    .dataframe tbody tr th:only-of-type {\n",
       "        vertical-align: middle;\n",
       "    }\n",
       "\n",
       "    .dataframe tbody tr th {\n",
       "        vertical-align: top;\n",
       "    }\n",
       "\n",
       "    .dataframe thead th {\n",
       "        text-align: right;\n",
       "    }\n",
       "</style>\n",
       "<table border=\"1\" class=\"dataframe\">\n",
       "  <thead>\n",
       "    <tr style=\"text-align: right;\">\n",
       "      <th></th>\n",
       "      <th>name</th>\n",
       "      <th>surname</th>\n",
       "    </tr>\n",
       "  </thead>\n",
       "  <tbody>\n",
       "    <tr>\n",
       "      <th>0</th>\n",
       "      <td>Bobby</td>\n",
       "      <td>Riggs</td>\n",
       "    </tr>\n",
       "    <tr>\n",
       "      <th>417</th>\n",
       "      <td>Robin</td>\n",
       "      <td>White</td>\n",
       "    </tr>\n",
       "    <tr>\n",
       "      <th>2687</th>\n",
       "      <td>Di</td>\n",
       "      <td>Zhao</td>\n",
       "    </tr>\n",
       "    <tr>\n",
       "      <th>3660</th>\n",
       "      <td>J</td>\n",
       "      <td>Tobin</td>\n",
       "    </tr>\n",
       "    <tr>\n",
       "      <th>3918</th>\n",
       "      <td>Yi</td>\n",
       "      <td>Liu</td>\n",
       "    </tr>\n",
       "    <tr>\n",
       "      <th>...</th>\n",
       "      <td>...</td>\n",
       "      <td>...</td>\n",
       "    </tr>\n",
       "    <tr>\n",
       "      <th>44222</th>\n",
       "      <td>NaN</td>\n",
       "      <td>Beckert</td>\n",
       "    </tr>\n",
       "    <tr>\n",
       "      <th>45538</th>\n",
       "      <td>J</td>\n",
       "      <td>Lambert</td>\n",
       "    </tr>\n",
       "    <tr>\n",
       "      <th>45597</th>\n",
       "      <td>J</td>\n",
       "      <td>Young</td>\n",
       "    </tr>\n",
       "    <tr>\n",
       "      <th>45658</th>\n",
       "      <td>M</td>\n",
       "      <td>Noble</td>\n",
       "    </tr>\n",
       "    <tr>\n",
       "      <th>45679</th>\n",
       "      <td>M</td>\n",
       "      <td>Hamilton</td>\n",
       "    </tr>\n",
       "  </tbody>\n",
       "</table>\n",
       "<p>74 rows × 2 columns</p>\n",
       "</div>"
      ],
      "text/plain": [
       "        name   surname\n",
       "0      Bobby     Riggs\n",
       "417    Robin     White\n",
       "2687      Di      Zhao\n",
       "3660       J     Tobin\n",
       "3918      Yi       Liu\n",
       "...      ...       ...\n",
       "44222    NaN   Beckert\n",
       "45538      J   Lambert\n",
       "45597      J     Young\n",
       "45658      M     Noble\n",
       "45679      M  Hamilton\n",
       "\n",
       "[74 rows x 2 columns]"
      ]
     },
     "execution_count": 20,
     "metadata": {},
     "output_type": "execute_result"
    }
   ],
   "source": [
    "df_players[df_players.duplicated(subset=['name', 'surname'], keep='first')==True]"
   ]
  },
  {
   "cell_type": "code",
   "execution_count": 21,
   "id": "bc83a1c9",
   "metadata": {},
   "outputs": [
    {
     "data": {
      "text/plain": [
       "309"
      ]
     },
     "execution_count": 21,
     "metadata": {},
     "output_type": "execute_result"
    }
   ],
   "source": [
    "#check if there are duplicated rows in the dataset\n",
    "df_tennis.duplicated(keep='first').sum()"
   ]
  },
  {
   "cell_type": "code",
   "execution_count": 24,
   "id": "6e284c55",
   "metadata": {},
   "outputs": [],
   "source": [
    "#we remove these duplicates because they contain the same information\n",
    "df_tennis = df_tennis.drop_duplicates()"
   ]
  },
  {
   "cell_type": "markdown",
   "id": "edc905e9",
   "metadata": {},
   "source": [
    "## Noise, outliers and data quality (data visualization here)"
   ]
  },
  {
   "cell_type": "code",
   "execution_count": null,
   "id": "1922f655",
   "metadata": {},
   "outputs": [],
   "source": []
  },
  {
   "cell_type": "markdown",
   "id": "91e9cf71",
   "metadata": {},
   "source": [
    "### Invalid characters in names and surnames "
   ]
  },
  {
   "cell_type": "code",
   "execution_count": null,
   "id": "92e4c215",
   "metadata": {},
   "outputs": [],
   "source": [
    "#see if all the names and surnames are valid (only letters)\n",
    "df_male[df_male['surname'].str.count('[a-zA-Z ]')!=df_male['surname'].str.len()]"
   ]
  },
  {
   "cell_type": "code",
   "execution_count": null,
   "id": "9011bf3d",
   "metadata": {},
   "outputs": [],
   "source": [
    "df_male[df_male['name'].str.count('[a-zA-Z ]')!=df_male['name'].str.len()]"
   ]
  },
  {
   "cell_type": "code",
   "execution_count": null,
   "id": "4719d811",
   "metadata": {},
   "outputs": [],
   "source": [
    "df_female[df_female['surname'].str.count('[a-zA-Z ]')!=df_female['surname'].str.len()]"
   ]
  },
  {
   "cell_type": "code",
   "execution_count": null,
   "id": "e0effe77",
   "metadata": {},
   "outputs": [],
   "source": [
    "df_female[df_female['name'].str.count('[a-zA-Z ]')!=df_female['name'].str.len()]"
   ]
  },
  {
   "cell_type": "markdown",
   "id": "6dc21a6c",
   "metadata": {},
   "source": [
    "So, in the male and female datasets we have some invalid names and surnames because of numbers, special characters of null values.\n",
    "\n",
    "NOTE: \"40071 \tJason \"Jj\",Belan \tNaN\" is an error because Belan is the surname but pandas has not divided the name by the surname."
   ]
  },
  {
   "cell_type": "markdown",
   "id": "7d76bc67",
   "metadata": {},
   "source": [
    "### Categorical data in tennis dataset"
   ]
  },
  {
   "cell_type": "code",
   "execution_count": 25,
   "id": "9aa8967c",
   "metadata": {},
   "outputs": [
    {
     "data": {
      "text/plain": [
       "float64    35\n",
       "object     14\n",
       "dtype: int64"
      ]
     },
     "execution_count": 25,
     "metadata": {},
     "output_type": "execute_result"
    }
   ],
   "source": [
    "df_tennis.dtypes.value_counts()"
   ]
  },
  {
   "cell_type": "code",
   "execution_count": 14,
   "id": "6cc06740",
   "metadata": {},
   "outputs": [
    {
     "name": "stdout",
     "output_type": "stream",
     "text": [
      "Distinct Values in tourney_id: \n",
      " ['2019-M020' '2019-0451' '2019-0891' ... '2020-W-ITF-USA-47A-2020'\n",
      " '2020-W-ITF-USA-48A-2020' nan] \n",
      "\n",
      "Distinct Values in tourney_name: \n",
      " ['Brisbane' 'Doha' 'Pune' ... 'W100 Nicholasville KY' 'W25 Las Vegas NV'\n",
      " nan] \n",
      "\n",
      "Distinct Values in surface: \n",
      " ['Hard' 'Clay' 'Grass' 'Carpet' nan] \n",
      "\n",
      "Distinct Values in tourney_level: \n",
      " ['A' 'P' 'G' 'I' 'M' 'PM' 'F' 'D' 'C' '15' '25' '60' '100' '80' '10' '50'\n",
      " '75' 'O' 'W' nan] \n",
      "\n",
      "Distinct Values in winner_entry: \n",
      " [nan 'PR' 'Q' 'WC' 'Alt' 'LL' 'SE' 'ALT' 'SR' 'JE' 'A' 'ITF' 'P' 'I' 'IR'\n",
      " 'JR'] \n",
      "\n",
      "Distinct Values in winner_name: \n",
      " ['Kei Nishikori' 'Daniil Medvedev' 'Jo-Wilfried Tsonga' ... 'Sultan Gonen'\n",
      " 'Viktoria Veleva' nan] \n",
      "\n",
      "Distinct Values in winner_hand: \n",
      " ['R' 'L' 'U' nan] \n",
      "\n",
      "Distinct Values in winner_ioc: \n",
      " ['JPN' 'RUS' 'FRA' 'AUS' 'CAN' 'BUL' 'GBR' 'SRB' 'USA' 'LAT' 'CZE' 'EST'\n",
      " 'UKR' 'NED' 'CRO' 'BLR' 'CHI' 'SUI' 'POL' 'GER' 'LUX' 'ESP' 'ITA' 'GEO'\n",
      " 'HUN' 'LTU' 'ARG' 'CYP' 'BIH' 'RSA' 'BEL' 'TUN' 'IND' 'BRA' 'AUT' 'POR'\n",
      " 'NZL' 'URU' 'GRE' 'SVK' 'TPE' 'KAZ' 'PUR' 'KOR' 'ROU' 'MDA' 'SLO' 'CHN'\n",
      " 'SWE' 'DEN' 'TUR' 'ESA' 'BAR' 'UZB' 'MNE' 'BOL' 'NOR' 'ECU' 'MEX' 'COL'\n",
      " 'LIE' 'ISR' 'PAR' 'DOM' 'FIN' 'GUA' 'PER' 'INA' 'THA' 'PHI' 'EGY' 'ALG'\n",
      " 'ZIM' 'PAK' 'MAR' 'HKG' 'IRL' 'LIB' 'SRI' 'VEN' 'MKD' 'PNG' 'SIN' 'GRN'\n",
      " 'BAH' 'CUB' 'TRI' 'OMA' 'MLT' 'KGZ' 'MAS' 'BDI' 'MRI' 'SAM' 'KEN' 'ARM'\n",
      " 'NAM' 'REU' 'UNK' 'MON' 'HAI' 'VIE' 'HON' 'PAN' 'CRC' 'SGP' 'TJK' 'POC'\n",
      " 'IRI' 'PHL' 'MGL' 'GUM' 'GAB' 'NGR' 'GUD' 'CAM' 'CMR' 'KUW' 'MAD' 'DEU'\n",
      " 'AND' 'NLD' 'NGA' 'GRC' nan] \n",
      "\n",
      "Distinct Values in loser_entry: \n",
      " [nan 'PR' 'Q' 'LL' 'WC' 'Alt' 'A' 'SE' 'ALT' 'SR' 'JE' '3' '4' '6' 'ITF'\n",
      " 'I' 'P' 'J' 'IR' 'JR'] \n",
      "\n",
      "Distinct Values in loser_name: \n",
      " ['Daniil Medvedev' 'Jo-Wilfried Tsonga' 'Jeremy Chardy' ... 'Amy Huang'\n",
      " 'Chloe Henderson' nan] \n",
      "\n",
      "Distinct Values in loser_hand: \n",
      " ['R' 'L' 'U' nan] \n",
      "\n",
      "Distinct Values in loser_ioc: \n",
      " ['RUS' 'FRA' 'AUS' 'CAN' 'JPN' 'BUL' 'GBR' 'SRB' 'USA' 'ARG' 'SLO' 'GER'\n",
      " 'ESP' 'ROU' 'KAZ' 'CZE' 'BEL' 'SVK' 'NED' 'UKR' 'LAT' 'EST' 'BLR' 'CRO'\n",
      " 'CHI' 'SUI' 'POL' 'LUX' 'ITA' 'GEO' 'HUN' 'LTU' 'BIH' 'QAT' 'TUR' 'AUT'\n",
      " 'CYP' 'TUN' 'IND' 'KOR' 'UZB' 'MDA' 'BRA' 'POR' 'TPE' 'ESA' 'NZL' 'URU'\n",
      " 'GRE' 'PUR' 'RSA' 'CHN' 'THA' 'SWE' 'DEN' 'COL' 'DOM' 'NOR' 'EGY' 'BAR'\n",
      " 'LIE' 'PAR' 'MNE' 'BOL' 'ECU' 'MEX' 'IRL' 'ISR' 'ALG' 'MON' 'FIN' 'VEN'\n",
      " 'LIB' 'GUA' 'PER' 'INA' 'PHI' 'HKG' 'MAR' 'ZIM' 'IRI' 'SRI' 'PAK' 'MKD'\n",
      " 'KGZ' 'ARM' 'PNG' 'SIN' 'BAH' 'TTO' 'GRN' 'TRI' 'CRC' 'CUB' 'OMA' 'MAS'\n",
      " 'PAN' 'CMR' 'MLT' 'LBN' 'BDI' 'NGR' 'MRI' 'GAB' 'AZE' 'BRN' 'SAM' 'JAM'\n",
      " 'KEN' 'GHA' 'MGL' 'JOR' 'GUD' 'REU' 'MAD' 'NAM' 'MRN' 'VIE' 'SYR' 'UNK'\n",
      " 'SGP' 'UAE' 'AHO' 'BEN' 'HAI' 'ERI' 'ITF' 'COD' 'LBA' 'HON' 'TKM' 'TJK'\n",
      " 'POC' 'BER' 'AND' 'SMR' 'PHL' 'ANT' 'TOG' 'GUM' 'VIN' 'BOT' 'CAM' 'ZAM'\n",
      " 'KUW' 'DEU' 'SAU' 'NGA' 'BGR' 'NLD' 'LVA' 'GRC' 'CRI' 'BAN' nan] \n",
      "\n",
      "Distinct Values in score: \n",
      " ['6-4 3-6 6-2' '7-6(6) 6-2' '6-2 6-2' ... '7-6(6) 5-7 10-6'\n",
      " '6-2 6-7(4) 10-8' '7-6(4) 2-6 10-5'] \n",
      "\n",
      "Distinct Values in round: \n",
      " ['F' 'SF' 'QF' 'R16' 'R32' 'Q1' 'Q2' 'Q3' 'R64' 'R128' 'RR' 'BR' nan] \n",
      "\n"
     ]
    }
   ],
   "source": [
    "#Values in the columns with type object\n",
    "for column in df_tennis.select_dtypes(include=['object']).columns:\n",
    "    print(\"Distinct Values in \"+str(column)+\": \\n\", df_tennis[column].unique(), \"\\n\")"
   ]
  },
  {
   "cell_type": "markdown",
   "id": "f55273fe",
   "metadata": {},
   "source": [
    "#### tourney_id"
   ]
  },
  {
   "cell_type": "code",
   "execution_count": 9,
   "id": "7ecaeee8",
   "metadata": {},
   "outputs": [
    {
     "data": {
      "text/plain": [
       "0"
      ]
     },
     "execution_count": 9,
     "metadata": {},
     "output_type": "execute_result"
    }
   ],
   "source": [
    "#check that for non null values, the first 4 char are the year\n",
    "#count rows whose firts 4 char are not numbers\n",
    "df_tennis[df_tennis['tourney_id'].str[:4].str.isnumeric()==False].shape[0] "
   ]
  },
  {
   "cell_type": "code",
   "execution_count": 10,
   "id": "07b7cf51",
   "metadata": {},
   "outputs": [
    {
     "data": {
      "text/plain": [
       "0"
      ]
     },
     "execution_count": 10,
     "metadata": {},
     "output_type": "execute_result"
    }
   ],
   "source": [
    "#chech if some years are in the future (so are invalid)(ignore nulls)\n",
    "df_tennis[pd.to_numeric(df_tennis['tourney_id'].str[:4]).fillna(0).astype('int') > date.today().year].shape[0] "
   ]
  },
  {
   "cell_type": "code",
   "execution_count": 11,
   "id": "f168ffe5",
   "metadata": {},
   "outputs": [
    {
     "data": {
      "text/plain": [
       "0"
      ]
     },
     "execution_count": 11,
     "metadata": {},
     "output_type": "execute_result"
    }
   ],
   "source": [
    "#chech if there are invalid years because to much in the past (ignore nulls)\n",
    "df_tennis[pd.to_numeric(df_tennis['tourney_id'].str[:4]).fillna(date.today().year).astype('int') < 1874 ].shape[0] "
   ]
  },
  {
   "cell_type": "markdown",
   "id": "9c859371",
   "metadata": {},
   "source": [
    "So, the first 4 numbers in the tourney_id are always valid when the tourney_id id not null"
   ]
  },
  {
   "cell_type": "code",
   "execution_count": 12,
   "id": "688e4e36",
   "metadata": {},
   "outputs": [
    {
     "data": {
      "text/plain": [
       "0"
      ]
     },
     "execution_count": 12,
     "metadata": {},
     "output_type": "execute_result"
    }
   ],
   "source": [
    "#chech that for each tourney there is more than one match (every id appears more than once)\n",
    "df_tennis[df_tennis['tourney_id'].duplicated(keep=False)==False].shape[0] "
   ]
  },
  {
   "cell_type": "code",
   "execution_count": 13,
   "id": "7aadc5f8",
   "metadata": {},
   "outputs": [
    {
     "data": {
      "text/plain": [
       "4853"
      ]
     },
     "execution_count": 13,
     "metadata": {},
     "output_type": "execute_result"
    }
   ],
   "source": [
    "#check how many distinct tourney are present\n",
    "df_tennis[\"tourney_id\"].value_counts().count()"
   ]
  },
  {
   "cell_type": "code",
   "execution_count": 26,
   "id": "2ab4dd0d",
   "metadata": {},
   "outputs": [
    {
     "data": {
      "text/plain": [
       "tourney_id\n",
       "2016-0083                  54\n",
       "2016-0091                  59\n",
       "2016-0213                  59\n",
       "2016-0221                  47\n",
       "2016-0228                  57\n",
       "                           ..\n",
       "2021-W-ITF-USA-12A-2021    71\n",
       "2021-W-ITF-USA-13A-2021    46\n",
       "2021-W-ITF-USA-14A-2021    55\n",
       "2021-W-ITF-USA-15A-2021    54\n",
       "2021-W-ITF-USA-16A-2021    55\n",
       "Name: match_num, Length: 4853, dtype: int64"
      ]
     },
     "execution_count": 26,
     "metadata": {},
     "output_type": "execute_result"
    }
   ],
   "source": [
    "#count how many match are played for each tournamnet\n",
    "#df_tennis.groupby(['tourney_id'])[\"match_num\"].count()"
   ]
  },
  {
   "cell_type": "markdown",
   "id": "666d0995",
   "metadata": {},
   "source": [
    "So, every torney_id appears more than once"
   ]
  },
  {
   "cell_type": "markdown",
   "id": "84a9e81d",
   "metadata": {},
   "source": [
    "#### tourney_name"
   ]
  },
  {
   "cell_type": "code",
   "execution_count": null,
   "id": "05e18cf9",
   "metadata": {},
   "outputs": [],
   "source": [
    "#chech that for the same tourney_id we have always the same name: USEFUL?\n",
    "#len(df_tennis.groupby(['tourney_id','tourney_name']).size())-len(df_tennis.groupby(['tourney_id']).size())"
   ]
  },
  {
   "cell_type": "markdown",
   "id": "30ca7383",
   "metadata": {},
   "source": [
    "#### tourney_level"
   ]
  },
  {
   "cell_type": "code",
   "execution_count": null,
   "id": "ceb77107",
   "metadata": {},
   "outputs": [],
   "source": [
    "#there are no records for S and T1, and for E, J, T (but for these 3 they will appear (see pdf))\n",
    "#there are, in the data, O and W that are not in the pdf\n",
    "\n",
    "#eccetto questo al massimo farei un controllo come quello fatto per l'hand"
   ]
  },
  {
   "cell_type": "code",
   "execution_count": null,
   "id": "1e0a778b",
   "metadata": {},
   "outputs": [],
   "source": []
  },
  {
   "cell_type": "markdown",
   "id": "b199b54e",
   "metadata": {},
   "source": [
    "**tourney_date**"
   ]
  },
  {
   "cell_type": "code",
   "execution_count": null,
   "id": "c3836c1e",
   "metadata": {},
   "outputs": [],
   "source": [
    "#the date are in float so they need to be converted in date object \n",
    "df_tennis['tourney_date'].isnull().sum()"
   ]
  },
  {
   "cell_type": "code",
   "execution_count": 28,
   "id": "c05dbf89",
   "metadata": {},
   "outputs": [
    {
     "name": "stdout",
     "output_type": "stream",
     "text": [
      "0\n"
     ]
    }
   ],
   "source": [
    "#check if there are present data greater then today\n",
    "import datetime\n",
    "df_tennis['tourney_date'] = pd.to_datetime(df_tennis['tourney_date'], format='%Y%m%d')\n",
    "invalid_data = 0\n",
    "today = pd.to_datetime(datetime.date.today())\n",
    "for date in df_tennis['tourney_date']:\n",
    "    if date > today:\n",
    "        invalid_data +=1\n",
    "print(invalid_data)"
   ]
  },
  {
   "cell_type": "markdown",
   "id": "c1977cc1",
   "metadata": {},
   "source": [
    "There aren't invalid dates"
   ]
  },
  {
   "cell_type": "markdown",
   "id": "6c40a9db",
   "metadata": {},
   "source": [
    "#### winner_name and loser_name"
   ]
  },
  {
   "cell_type": "code",
   "execution_count": null,
   "id": "eb3ce475",
   "metadata": {},
   "outputs": [],
   "source": [
    "    # in the ranges we should consider also [-.']???"
   ]
  },
  {
   "cell_type": "code",
   "execution_count": 36,
   "id": "52b13a8a",
   "metadata": {},
   "outputs": [
    {
     "data": {
      "text/plain": [
       "70116     Alejandro Gomez Gb42\n",
       "74122     Alejandro Gomez Gb42\n",
       "74136     Alejandro Gomez Gb42\n",
       "74160     Alejandro Gomez Gb42\n",
       "74169     Alejandro Gomez Gb42\n",
       "                  ...         \n",
       "186117                     NaN\n",
       "186118                     NaN\n",
       "186120                     NaN\n",
       "186121                     NaN\n",
       "186123                     NaN\n",
       "Name: winner_name, Length: 105, dtype: object"
      ]
     },
     "execution_count": 36,
     "metadata": {},
     "output_type": "execute_result"
    }
   ],
   "source": [
    "#check that names are valid\n",
    "df_tennis[df_tennis['winner_name'].str.count(\"[a-zA-Z ',.-]\")!=df_tennis['winner_name'].str.len()]['winner_name']"
   ]
  },
  {
   "cell_type": "code",
   "execution_count": 30,
   "id": "de89588a",
   "metadata": {},
   "outputs": [
    {
     "data": {
      "text/plain": [
       "1            Jo-Wilfried Tsonga\n",
       "59        Christopher O'Connell\n",
       "277       Christopher O'Connell\n",
       "350          Jo-Wilfried Tsonga\n",
       "982          Jo-Wilfried Tsonga\n",
       "                  ...          \n",
       "186119                      NaN\n",
       "186123                      NaN\n",
       "186125                      NaN\n",
       "186126                      NaN\n",
       "186127                      NaN\n",
       "Name: loser_name, Length: 306, dtype: object"
      ]
     },
     "execution_count": 30,
     "metadata": {},
     "output_type": "execute_result"
    }
   ],
   "source": [
    "df_tennis[df_tennis['loser_name'].str.count(\"[a-zA-Z ',.-]\")!=df_tennis['loser_name'].str.len()]['loser_name']"
   ]
  },
  {
   "cell_type": "markdown",
   "id": "fbdb1a2a",
   "metadata": {},
   "source": [
    "There are invalid characters in the names of some winners and some losers"
   ]
  },
  {
   "cell_type": "markdown",
   "id": "4e2a6460",
   "metadata": {},
   "source": [
    "#### winner_hand and loser_hand"
   ]
  },
  {
   "cell_type": "code",
   "execution_count": null,
   "id": "deffc354",
   "metadata": {},
   "outputs": [],
   "source": [
    "#check that there are not indicated hand that are invalid (ignore nulls)\n",
    "hand = ['R','L','U']\n",
    "df_tennis[~df_tennis['winner_hand'].fillna('U').str.upper().isin(hand)].shape[0]"
   ]
  },
  {
   "cell_type": "code",
   "execution_count": null,
   "id": "a5410126",
   "metadata": {},
   "outputs": [],
   "source": [
    "df_tennis[~df_tennis['loser_hand'].fillna('U').str.upper().isin(hand)].shape[0]"
   ]
  },
  {
   "cell_type": "markdown",
   "id": "df735159",
   "metadata": {},
   "source": [
    "There are not invalid entries for the hand of winner or loser"
   ]
  },
  {
   "cell_type": "markdown",
   "id": "e6c4a825",
   "metadata": {},
   "source": [
    "#### winner_ioc and loser_ioc"
   ]
  },
  {
   "cell_type": "code",
   "execution_count": null,
   "id": "9c1613a3",
   "metadata": {},
   "outputs": [],
   "source": [
    "df_countrycode = pd.read_csv(DATASET_DIR + 'country-codes_csv.csv', sep=',', index_col=False) \n",
    "df_countrycode.head()"
   ]
  },
  {
   "cell_type": "code",
   "execution_count": null,
   "id": "6f8f4f7b",
   "metadata": {},
   "outputs": [],
   "source": [
    "check_cc = pd.Series(~df_tennis.winner_ioc.isin(df_countrycode.IOC).values, df_tennis.winner_ioc.values)\n",
    "type(check_cc[check_cc].index)\n",
    "check_cc[check_cc].index.value_counts()"
   ]
  },
  {
   "cell_type": "code",
   "execution_count": null,
   "id": "49451439",
   "metadata": {},
   "outputs": [],
   "source": [
    "#aggiungerei anche il controllo usando l'altro codice che avevi visto @reny così da farci un'idea di quanti di\n",
    "#questi siano proprio sbagliati o solo nel formato sbaglito"
   ]
  },
  {
   "cell_type": "code",
   "execution_count": null,
   "id": "d958d724",
   "metadata": {},
   "outputs": [],
   "source": []
  },
  {
   "cell_type": "markdown",
   "id": "b984d7ab",
   "metadata": {},
   "source": [
    "#### score\n",
    "https://www.wikihow.it/Tenere-il-Punteggio-a-Tennis"
   ]
  },
  {
   "cell_type": "code",
   "execution_count": null,
   "id": "f65ab164",
   "metadata": {},
   "outputs": [],
   "source": [
    "#What are the numbers between the brackets ()???"
   ]
  },
  {
   "cell_type": "code",
   "execution_count": null,
   "id": "d1ad8b6e",
   "metadata": {},
   "outputs": [],
   "source": [
    "#una partita di tennis deve finire con almeno 2 punti di vantaggio (es 7-5, 6-4). al massimo si può controllare questo\n",
    "#ma so se sia utile come info. nel caso si può anche evitare.\n",
    "#sembra che quelli con le () non rispettano sta cosa. "
   ]
  },
  {
   "cell_type": "markdown",
   "id": "c9c84ce9",
   "metadata": {},
   "source": [
    "**best_of**"
   ]
  },
  {
   "cell_type": "code",
   "execution_count": 27,
   "id": "90603bc0",
   "metadata": {
    "scrolled": false
   },
   "outputs": [
    {
     "data": {
      "text/plain": [
       "3.0    182617\n",
       "5.0      3173\n",
       "NaN        29\n",
       "Name: best_of, dtype: int64"
      ]
     },
     "execution_count": 27,
     "metadata": {},
     "output_type": "execute_result"
    }
   ],
   "source": [
    "#check if there are different values form 3 or 5\n",
    "df_tennis['best_of'].value_counts(dropna = False)"
   ]
  },
  {
   "cell_type": "markdown",
   "id": "06fe1c12",
   "metadata": {},
   "source": [
    "There are not different values from 3 and 5, a part for some null values."
   ]
  },
  {
   "cell_type": "markdown",
   "id": "885bb68e",
   "metadata": {},
   "source": [
    "### Numeric data"
   ]
  },
  {
   "cell_type": "code",
   "execution_count": null,
   "id": "149eb182",
   "metadata": {
    "scrolled": true
   },
   "outputs": [],
   "source": [
    "df_tennis.select_dtypes(include=['float64']).columns\n",
    "for column in df_tennis.select_dtypes(include=['float64']).columns:\n",
    "    print(\"Distinct Values in \"+str(column)+\": \\n\", df_tennis[column].unique(), \"\\n\")"
   ]
  },
  {
   "cell_type": "code",
   "execution_count": null,
   "id": "5df0d72e",
   "metadata": {},
   "outputs": [],
   "source": [
    "df_te"
   ]
  },
  {
   "cell_type": "markdown",
   "id": "e89eee1f",
   "metadata": {},
   "source": [
    "## Missing values: default value"
   ]
  },
  {
   "cell_type": "code",
   "execution_count": null,
   "id": "48f8a6ae",
   "metadata": {},
   "outputs": [],
   "source": []
  },
  {
   "cell_type": "code",
   "execution_count": null,
   "id": "23d47a84",
   "metadata": {},
   "outputs": [],
   "source": []
  },
  {
   "cell_type": "markdown",
   "id": "82d1584c",
   "metadata": {},
   "source": [
    "## Correlation"
   ]
  },
  {
   "cell_type": "code",
   "execution_count": null,
   "id": "be9c2987",
   "metadata": {},
   "outputs": [],
   "source": [
    "df_numeric = df_tennis[df_tennis.select_dtypes(include=['float64']).columns]"
   ]
  },
  {
   "cell_type": "code",
   "execution_count": null,
   "id": "f403a7a2",
   "metadata": {},
   "outputs": [],
   "source": [
    "df_numeric.corr()"
   ]
  },
  {
   "cell_type": "markdown",
   "id": "2eda568f",
   "metadata": {},
   "source": [
    "inserire ragionamento sulla correlation"
   ]
  },
  {
   "cell_type": "markdown",
   "id": "cfcb97d6",
   "metadata": {},
   "source": [
    "## Statistics/distributions"
   ]
  },
  {
   "cell_type": "code",
   "execution_count": null,
   "id": "16e2ed55",
   "metadata": {},
   "outputs": [],
   "source": []
  },
  {
   "cell_type": "code",
   "execution_count": null,
   "id": "e3191859",
   "metadata": {},
   "outputs": [],
   "source": [
    "#some statistics\n",
    "#df_tennis.describe()all"
   ]
  },
  {
   "cell_type": "code",
   "execution_count": null,
   "id": "3c7fc152",
   "metadata": {},
   "outputs": [],
   "source": []
  },
  {
   "cell_type": "code",
   "execution_count": null,
   "id": "e9521796",
   "metadata": {},
   "outputs": [],
   "source": []
  }
 ],
 "metadata": {
  "kernelspec": {
   "display_name": "Python 3 (ipykernel)",
   "language": "python",
   "name": "python3"
  },
  "language_info": {
   "codemirror_mode": {
    "name": "ipython",
    "version": 3
   },
   "file_extension": ".py",
   "mimetype": "text/x-python",
   "name": "python",
   "nbconvert_exporter": "python",
   "pygments_lexer": "ipython3",
   "version": "3.9.5"
  }
 },
 "nbformat": 4,
 "nbformat_minor": 5
}
