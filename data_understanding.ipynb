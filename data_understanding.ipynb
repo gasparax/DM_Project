{
 "cells": [
  {
   "cell_type": "code",
   "execution_count": null,
   "id": "98a1d139",
   "metadata": {},
   "outputs": [],
   "source": [
    "import math\n",
    "import numpy as np\n",
    "import scipy.stats as stats\n",
    "import matplotlib.pyplot as plt\n",
    "from sklearn.decomposition import PCA\n",
    "\n",
    "import collections\n",
    "from scipy.stats.stats import pearsonr\n",
    "import pandas as pd\n",
    "import os\n",
    "from datetime import date"
   ]
  },
  {
   "cell_type": "code",
   "execution_count": null,
   "id": "a908420f",
   "metadata": {},
   "outputs": [],
   "source": [
    "# load of the data\n",
    "DATASET_DIR = \"dataset\" + os.path.sep\n",
    "df_tennis = pd.read_csv(DATASET_DIR + 'tennis_matches.csv', sep=',', index_col=0) \n",
    "\n",
    "#index_col=False say to not use the first column as ID\n",
    "df_male = pd.read_csv(DATASET_DIR + 'male_players.csv', sep=',', index_col=False)\n",
    "df_female = pd.read_csv(DATASET_DIR + 'female_players.csv', sep=',', index_col=False) "
   ]
  },
  {
   "cell_type": "markdown",
   "id": "80d511ae",
   "metadata": {},
   "source": [
    "## Print some records of the datasets"
   ]
  },
  {
   "cell_type": "code",
   "execution_count": null,
   "id": "7da9b707",
   "metadata": {},
   "outputs": [],
   "source": [
    "df_tennis.head()"
   ]
  },
  {
   "cell_type": "code",
   "execution_count": null,
   "id": "4d7a8ca8",
   "metadata": {},
   "outputs": [],
   "source": [
    "df_male.head()"
   ]
  },
  {
   "cell_type": "code",
   "execution_count": null,
   "id": "11d16092",
   "metadata": {},
   "outputs": [],
   "source": [
    "df_female.head()"
   ]
  },
  {
   "cell_type": "markdown",
   "id": "dfcd2dc7",
   "metadata": {},
   "source": [
    "## Missing values: Null"
   ]
  },
  {
   "cell_type": "code",
   "execution_count": null,
   "id": "33d8eddc",
   "metadata": {},
   "outputs": [],
   "source": [
    "#info about data that we have for male\n",
    "df_male.info()"
   ]
  },
  {
   "cell_type": "code",
   "execution_count": null,
   "id": "9df3aef0",
   "metadata": {},
   "outputs": [],
   "source": [
    "#number of null in the columns\n",
    "df_male.isnull().sum(axis = 0)"
   ]
  },
  {
   "cell_type": "markdown",
   "id": "c0595058",
   "metadata": {},
   "source": [
    "So, the male dataframe has 2 columns: name and surname. It has 55208 entries and about 200 null values in total."
   ]
  },
  {
   "cell_type": "code",
   "execution_count": null,
   "id": "96baa8e2",
   "metadata": {},
   "outputs": [],
   "source": [
    "#info about data that we have for female\n",
    "df_female.info()"
   ]
  },
  {
   "cell_type": "code",
   "execution_count": null,
   "id": "1b6f320f",
   "metadata": {},
   "outputs": [],
   "source": [
    "#number of null in the columns\n",
    "df_female.isnull().sum(axis = 0)"
   ]
  },
  {
   "cell_type": "markdown",
   "id": "79296869",
   "metadata": {},
   "source": [
    "So, the female dataframe has 2 columns: name and surname. It has 46172  entries and 1667 null values in the name, but the surname is never null."
   ]
  },
  {
   "cell_type": "code",
   "execution_count": null,
   "id": "da8b2be2",
   "metadata": {},
   "outputs": [],
   "source": [
    "df_tennis.info()"
   ]
  },
  {
   "cell_type": "code",
   "execution_count": null,
   "id": "68eb3dfe",
   "metadata": {
    "scrolled": false
   },
   "outputs": [],
   "source": [
    "#we see if the attributes have some null values\n",
    "df_tennis.isnull().any()"
   ]
  },
  {
   "cell_type": "code",
   "execution_count": null,
   "id": "7baec242",
   "metadata": {},
   "outputs": [],
   "source": [
    "#since all the attributes has missing values, we count them\n",
    "df_tennis.isnull().sum(axis = 0)"
   ]
  },
  {
   "cell_type": "markdown",
   "id": "692a4620",
   "metadata": {},
   "source": [
    "We can notice that some attributes have very few null values, but other attributes has more than 50% of null values"
   ]
  },
  {
   "cell_type": "markdown",
   "id": "c78ac53b",
   "metadata": {},
   "source": [
    "## Duplicate data"
   ]
  },
  {
   "cell_type": "code",
   "execution_count": null,
   "id": "09f655da",
   "metadata": {},
   "outputs": [],
   "source": [
    "#we see if there are duplicates in the dataset male and female\n",
    "df_male.duplicated(keep='first').sum()"
   ]
  },
  {
   "cell_type": "code",
   "execution_count": null,
   "id": "862d6e9e",
   "metadata": {},
   "outputs": [],
   "source": [
    "df_female.duplicated(keep='first').sum()"
   ]
  },
  {
   "cell_type": "markdown",
   "id": "458ff006",
   "metadata": {},
   "source": [
    "So, both the datasets of male and female has rows with same name and surname. These rows can be duplicates (so they correspond to the same person) or they can be homonyms. In this latter case we cannot distinguish the matches of one player by the ones of the other player."
   ]
  },
  {
   "cell_type": "code",
   "execution_count": null,
   "id": "f8e225b5",
   "metadata": {},
   "outputs": [],
   "source": [
    "#we remove (only) the duplicated rows\n",
    "df_male_no_dup = df_male.drop_duplicates()\n",
    "df_female_no_dup = df_female.drop_duplicates()"
   ]
  },
  {
   "cell_type": "code",
   "execution_count": null,
   "id": "3c22b05c",
   "metadata": {},
   "outputs": [],
   "source": [
    "#see if a name can be both male and female and manage them\n",
    "df_players = pd.concat([df_male_no_dup, df_female_no_dup])\n",
    "df_players[df_players.duplicated(keep='first')==True]"
   ]
  },
  {
   "cell_type": "code",
   "execution_count": null,
   "id": "f38e7275",
   "metadata": {},
   "outputs": [],
   "source": [
    "df_players.duplicated(keep='first').sum()"
   ]
  },
  {
   "cell_type": "markdown",
   "id": "cb6d0dee",
   "metadata": {},
   "source": [
    "So, there are 74 names for both players male and female."
   ]
  },
  {
   "cell_type": "code",
   "execution_count": null,
   "id": "cc6404cd",
   "metadata": {},
   "outputs": [],
   "source": [
    "df_players[df_players.duplicated(subset=['name', 'surname'], keep='first')==True]"
   ]
  },
  {
   "cell_type": "code",
   "execution_count": null,
   "id": "bc83a1c9",
   "metadata": {},
   "outputs": [],
   "source": [
    "#check if there are duplicated rows in the dataset\n",
    "df_tennis.duplicated(keep='first').sum()"
   ]
  },
  {
   "cell_type": "markdown",
   "id": "edc905e9",
   "metadata": {},
   "source": [
    "## Noise, outliers and data quality (data visualization here)"
   ]
  },
  {
   "cell_type": "markdown",
   "id": "29f1f0a3",
   "metadata": {},
   "source": [
    "|  Categorical  |   Ordinal   |      Numerical     | Ratio-Scaled |\n",
    "|:-------------:|:-----------:|:------------------:|:------------:|\n",
    "|   tournay_id  |  match_num  |      draw_size     |   winner_ht  |\n",
    "|  tournay_name | winner_rank |       minutes      |  winner_age  |\n",
    "|    surface    |             |     winner_ace     |              |\n",
    "| tournay_level |             |      winner_df     |              |\n",
    "|   winner_id   |             |     winner_svpt    |              |\n",
    "|   winner_ioc  |             |    winner_1stln    |              |\n",
    "|  winner_hand  |             |    winner_1stwon   |              |\n",
    "|  winner_entry |             |    winner_2stwon   |              |\n",
    "|    best_of    |             |       w_svgms      |              |\n",
    "|               |             | winner_rank_points |              |\n",
    "|               |             |      w_bdsaved     |              |\n",
    "|               |             |      w_bdfaced     |              |"
   ]
  },
  {
   "cell_type": "markdown",
   "id": "b3280ad7",
   "metadata": {},
   "source": [
    "For each winner attribute there is the loser counterpart"
   ]
  },
  {
   "cell_type": "markdown",
   "id": "91e9cf71",
   "metadata": {},
   "source": [
    "### Invalid characters in names and surnames "
   ]
  },
  {
   "cell_type": "code",
   "execution_count": null,
   "id": "92e4c215",
   "metadata": {},
   "outputs": [],
   "source": [
    "#see if all the names and surnames are valid (only letters)\n",
    "df_male[df_male['surname'].str.count(\"[a-zA-Z '.-]\")!=df_male['surname'].str.len()]"
   ]
  },
  {
   "cell_type": "code",
   "execution_count": null,
   "id": "9011bf3d",
   "metadata": {},
   "outputs": [],
   "source": [
    "df_male[df_male['name'].str.count(\"[a-zA-Z ',.-]\")!=df_male['name'].str.len()]"
   ]
  },
  {
   "cell_type": "code",
   "execution_count": null,
   "id": "4719d811",
   "metadata": {},
   "outputs": [],
   "source": [
    "df_female[df_female['surname'].str.count(\"[a-zA-Z '.-]\")!=df_female['surname'].str.len()]"
   ]
  },
  {
   "cell_type": "code",
   "execution_count": null,
   "id": "e0effe77",
   "metadata": {},
   "outputs": [],
   "source": [
    "df_female[df_female['name'].str.count(\"[a-zA-Z ',.-]\")!=df_female['name'].str.len()]"
   ]
  },
  {
   "cell_type": "markdown",
   "id": "6dc21a6c",
   "metadata": {},
   "source": [
    "So, in the male and female datasets we have some invalid names and surnames because of numbers, special characters of null values.\n",
    "\n",
    "NOTE: \"40071 \tJason \"Jj\",Belan \tNaN\" is an error because Belan is the surname but pandas has not divided the name by the surname."
   ]
  },
  {
   "cell_type": "markdown",
   "id": "7d76bc67",
   "metadata": {},
   "source": [
    "### Analysis of tennis dataset"
   ]
  },
  {
   "cell_type": "code",
   "execution_count": null,
   "id": "9aa8967c",
   "metadata": {},
   "outputs": [],
   "source": [
    "df_tennis.dtypes.value_counts()"
   ]
  },
  {
   "cell_type": "code",
   "execution_count": null,
   "id": "6cc06740",
   "metadata": {},
   "outputs": [],
   "source": [
    "#Values in the columns with type object\n",
    "for column in df_tennis.select_dtypes(include=['object']).columns:\n",
    "    print(\"Distinct Values in \"+str(column)+\": \\n\", df_tennis[column].unique(), \"\\n\")"
   ]
  },
  {
   "cell_type": "markdown",
   "id": "f55273fe",
   "metadata": {},
   "source": [
    "#### tourney_id"
   ]
  },
  {
   "cell_type": "code",
   "execution_count": null,
   "id": "7ecaeee8",
   "metadata": {},
   "outputs": [],
   "source": [
    "#check that for non null values, the first 4 char are the year\n",
    "#count rows whose firts 4 char are not numbers\n",
    "df_tennis[df_tennis['tourney_id'].str[:4].str.isnumeric()==False].shape[0] "
   ]
  },
  {
   "cell_type": "code",
   "execution_count": null,
   "id": "07b7cf51",
   "metadata": {},
   "outputs": [],
   "source": [
    "#chech if some years are in the future (so are invalid)(ignore nulls)\n",
    "df_tennis[pd.to_numeric(df_tennis['tourney_id'].str[:4]).fillna(0).astype('int') > date.today().year].shape[0] "
   ]
  },
  {
   "cell_type": "code",
   "execution_count": null,
   "id": "f168ffe5",
   "metadata": {},
   "outputs": [],
   "source": [
    "#chech if there are invalid years because to much in the past (ignore nulls)\n",
    "df_tennis[pd.to_numeric(df_tennis['tourney_id'].str[:4]).fillna(date.today().year).astype('int') < 1874 ].shape[0] "
   ]
  },
  {
   "cell_type": "markdown",
   "id": "9c859371",
   "metadata": {},
   "source": [
    "So, the first 4 numbers in the tourney_id are always valid when the tourney_id id not null"
   ]
  },
  {
   "cell_type": "code",
   "execution_count": null,
   "id": "688e4e36",
   "metadata": {},
   "outputs": [],
   "source": [
    "#chech that for each tourney there is more than one match (every id appears more than once)\n",
    "df_tennis[df_tennis['tourney_id'].duplicated(keep=False)==False].shape[0] "
   ]
  },
  {
   "cell_type": "markdown",
   "id": "666d0995",
   "metadata": {},
   "source": [
    "So, every torney_id appears more than once"
   ]
  },
  {
   "cell_type": "code",
   "execution_count": null,
   "id": "7aadc5f8",
   "metadata": {},
   "outputs": [],
   "source": [
    "#check how many distinct tourney are present\n",
    "df_tennis[\"tourney_id\"].value_counts().count()"
   ]
  },
  {
   "cell_type": "code",
   "execution_count": null,
   "id": "2ab4dd0d",
   "metadata": {},
   "outputs": [],
   "source": [
    "#count how many match are played for each tournamnet\n",
    "#df_tennis.groupby(['tourney_id'])[\"match_num\"].count()"
   ]
  },
  {
   "cell_type": "markdown",
   "id": "84a9e81d",
   "metadata": {},
   "source": [
    "#### tourney_name"
   ]
  },
  {
   "cell_type": "code",
   "execution_count": null,
   "id": "05e18cf9",
   "metadata": {},
   "outputs": [],
   "source": [
    "#chech that for the same tourney_id we have always the same name\n",
    "len(df_tennis.groupby(['tourney_id','tourney_name']).size())-len(df_tennis.groupby(['tourney_id']).size())"
   ]
  },
  {
   "cell_type": "code",
   "execution_count": null,
   "id": "0df4ed26",
   "metadata": {},
   "outputs": [],
   "source": [
    "df_tennis.groupby(['tourney_id','tourney_name']).apply(print)"
   ]
  },
  {
   "cell_type": "code",
   "execution_count": null,
   "id": "d02321dc",
   "metadata": {},
   "outputs": [],
   "source": [
    "len(df_tennis.groupby(['tourney_name','tourney_id']).size())-len(df_tennis.groupby(['tourney_name']).size())"
   ]
  },
  {
   "cell_type": "markdown",
   "id": "2d480def",
   "metadata": {},
   "source": [
    "For a certain tourney_id we may have more tourney_names and for a tourney_name we can have more tourney_ids"
   ]
  },
  {
   "cell_type": "code",
   "execution_count": null,
   "id": "9af839d4",
   "metadata": {},
   "outputs": [],
   "source": [
    "#len(df_tennis[\"tourney_name\"].unique()) #consider also the nan\n",
    "df_tennis[\"tourney_name\"].value_counts().count() #do not consider also the nan"
   ]
  },
  {
   "cell_type": "markdown",
   "id": "30ca7383",
   "metadata": {},
   "source": [
    "#### tourney_level"
   ]
  },
  {
   "cell_type": "code",
   "execution_count": null,
   "id": "1e0a778b",
   "metadata": {},
   "outputs": [],
   "source": [
    "levels_man = ['G', 'M', 'A', 'C', 'S', 'F', 'D']"
   ]
  },
  {
   "cell_type": "code",
   "execution_count": null,
   "id": "955b178d",
   "metadata": {},
   "outputs": [],
   "source": [
    "levels_woman = levels_man + ['P', 'PM', 'I', 'T1']\n",
    "levels_woman_man = ['E','J','T'] #not present in the dataset yet (documentation)\n",
    "all_levels = levels_man + levels_woman + levels_woman_man"
   ]
  },
  {
   "cell_type": "code",
   "execution_count": null,
   "id": "db950ce8",
   "metadata": {},
   "outputs": [],
   "source": [
    "#check what are other codes that can appear (for women)\n",
    "df_other_levels = df_tennis[~df_tennis['tourney_level'].isin(all_levels)]\n",
    "#get codes about the prize money\n",
    "df_other_levels[df_other_levels['tourney_level'].str.isnumeric()==True]['tourney_level'].unique()"
   ]
  },
  {
   "cell_type": "markdown",
   "id": "2725152b",
   "metadata": {},
   "source": [
    "These are the numeric codes that appear in the dataset"
   ]
  },
  {
   "cell_type": "code",
   "execution_count": null,
   "id": "08488749",
   "metadata": {},
   "outputs": [],
   "source": [
    "#get the other codes not cited in the document and that are not prize\n",
    "df_other_levels[df_other_levels['tourney_level'].str.isnumeric()==False]['tourney_level'].unique()"
   ]
  },
  {
   "cell_type": "markdown",
   "id": "f028ad1b",
   "metadata": {},
   "source": [
    "We have 2 more codes respect the one expressely indicated by the documentation"
   ]
  },
  {
   "cell_type": "code",
   "execution_count": null,
   "id": "989201cc",
   "metadata": {},
   "outputs": [],
   "source": [
    "#check if there are at least one row for each cited code\n",
    "list(set(all_levels) - set(df_tennis[df_tennis['tourney_level'].str.isnumeric()==False]['tourney_level'].unique()))"
   ]
  },
  {
   "cell_type": "markdown",
   "id": "eb1a82f1",
   "metadata": {},
   "source": [
    "For these codes there are no rows in the dataset"
   ]
  },
  {
   "cell_type": "code",
   "execution_count": null,
   "id": "341152f0",
   "metadata": {},
   "outputs": [],
   "source": [
    "#get the occurrenes of each level\n",
    "df_tennis[\"tourney_level\"].value_counts()"
   ]
  },
  {
   "cell_type": "markdown",
   "id": "6c40a9db",
   "metadata": {},
   "source": [
    "#### winner_name and loser_name"
   ]
  },
  {
   "cell_type": "code",
   "execution_count": null,
   "id": "52b13a8a",
   "metadata": {},
   "outputs": [],
   "source": [
    "#check that names are valid\n",
    "df_tennis[df_tennis['winner_name'].str.count(\"[a-zA-Z ',.-]\")!=df_tennis['winner_name'].str.len()]['winner_name']"
   ]
  },
  {
   "cell_type": "code",
   "execution_count": null,
   "id": "de89588a",
   "metadata": {},
   "outputs": [],
   "source": [
    "df_tennis[df_tennis['loser_name'].str.count(\"[a-zA-Z ',.-]\")!=df_tennis['loser_name'].str.len()]['loser_name']"
   ]
  },
  {
   "cell_type": "markdown",
   "id": "fbdb1a2a",
   "metadata": {},
   "source": [
    "There are invalid characters in the names of some winners and some losers"
   ]
  },
  {
   "cell_type": "markdown",
   "id": "4e2a6460",
   "metadata": {},
   "source": [
    "#### winner_hand and loser_hand"
   ]
  },
  {
   "cell_type": "code",
   "execution_count": null,
   "id": "deffc354",
   "metadata": {},
   "outputs": [],
   "source": [
    "#check that there are not indicated hand that are invalid (ignore nulls)\n",
    "hand = ['R','L','U']\n",
    "df_tennis[~df_tennis['winner_hand'].fillna('U').str.upper().isin(hand)].shape[0]"
   ]
  },
  {
   "cell_type": "code",
   "execution_count": null,
   "id": "a5410126",
   "metadata": {},
   "outputs": [],
   "source": [
    "df_tennis[~df_tennis['loser_hand'].fillna('U').str.upper().isin(hand)].shape[0]"
   ]
  },
  {
   "cell_type": "markdown",
   "id": "df735159",
   "metadata": {},
   "source": [
    "There are not invalid entries for the hand of winner or loser"
   ]
  },
  {
   "cell_type": "markdown",
   "id": "e6c4a825",
   "metadata": {},
   "source": [
    "#### winner_ioc and loser_ioc, International Olympic Code validity check"
   ]
  },
  {
   "cell_type": "code",
   "execution_count": null,
   "id": "9c1613a3",
   "metadata": {
    "scrolled": true
   },
   "outputs": [],
   "source": [
    "df_countrycode = pd.read_csv(DATASET_DIR + 'country-codes_csv.csv', sep=',', index_col=False) "
   ]
  },
  {
   "cell_type": "markdown",
   "id": "451de6a4",
   "metadata": {},
   "source": [
    "##### Wrong codes winner_ioc"
   ]
  },
  {
   "cell_type": "code",
   "execution_count": null,
   "id": "6f8f4f7b",
   "metadata": {},
   "outputs": [],
   "source": [
    "w_check_cc = pd.Series(~df_tennis.winner_ioc.isin(df_countrycode.IOC).values, df_tennis.winner_ioc.values)\n",
    "w_check = w_check_cc[w_check_cc].index\n",
    "w_check.value_counts()"
   ]
  },
  {
   "cell_type": "markdown",
   "id": "927390b8",
   "metadata": {},
   "source": [
    "##### Wrong codes loser_ioc"
   ]
  },
  {
   "cell_type": "code",
   "execution_count": null,
   "id": "c53dee53",
   "metadata": {
    "scrolled": true
   },
   "outputs": [],
   "source": [
    "l_check_cc = pd.Series(~df_tennis.loser_ioc.isin(df_countrycode.IOC).values, df_tennis.loser_ioc.values)\n",
    "l_check = l_check_cc[l_check_cc].index\n",
    "l_check.value_counts()"
   ]
  },
  {
   "cell_type": "markdown",
   "id": "9baebabd",
   "metadata": {},
   "source": [
    "We can verify that the list of IOC codes that is incorrect is not in ISO format by mistake."
   ]
  },
  {
   "cell_type": "code",
   "execution_count": null,
   "id": "d958d724",
   "metadata": {},
   "outputs": [],
   "source": [
    "i = w_check.unique()\n",
    "type(i)\n",
    "for c in i:\n",
    "    exist =  df_countrycode[\"ISO3166-1-Alpha-3\"].str.contains('MNE').any()\n",
    "    print(c + \" \" + str(exist))"
   ]
  },
  {
   "cell_type": "code",
   "execution_count": null,
   "id": "37c81cd1",
   "metadata": {},
   "outputs": [],
   "source": [
    "i = l_check.unique()\n",
    "type(i)\n",
    "for c in i:\n",
    "    exist =  df_countrycode[\"ISO3166-1-Alpha-3\"].str.contains('MNE').any()\n",
    "    print(c + \" \" + str(exist))"
   ]
  },
  {
   "cell_type": "markdown",
   "id": "4b9629ab",
   "metadata": {},
   "source": [
    "**best_of**"
   ]
  },
  {
   "cell_type": "code",
   "execution_count": null,
   "id": "90603bc0",
   "metadata": {
    "scrolled": false
   },
   "outputs": [],
   "source": [
    "#check if there are different values form 3 or 5\n",
    "df_tennis['best_of'].value_counts(dropna = False)"
   ]
  },
  {
   "cell_type": "markdown",
   "id": "06fe1c12",
   "metadata": {},
   "source": [
    "There are not different values from 3 and 5, a part for some null values."
   ]
  },
  {
   "cell_type": "markdown",
   "id": "b984d7ab",
   "metadata": {},
   "source": [
    "#### score\n",
    "https://www.wikihow.it/Tenere-il-Punteggio-a-Tennis"
   ]
  },
  {
   "cell_type": "markdown",
   "id": "0f3a8a17",
   "metadata": {},
   "source": [
    "If the **match** is at best of 3 then a player, to win, must win 2 sets. If instead it's at best of 5 the playes must win 3 sets.\n",
    "\n",
    "Every sets is composed by **games**. The winner is the player that wins 6 games with at least 2 games od advantage (for example 6-4, 6-3, ..., but not 6-5).\n",
    "\n",
    "In the case of 6-5 the first player wins the set is win the following game (7-5).\n",
    "\n",
    "In case pf 6-6 the **Tie-Break** is played. The Tie-Break is won by the player that is the first to do 7 points with an advantage of 2 (so, for example, 7-5, 7-4, ...). If both the players do 6 points then wins the first that have 2 points of advantage on the adversary (for example 8-6, 9-7, 10-8, ...)"
   ]
  },
  {
   "cell_type": "code",
   "execution_count": null,
   "id": "2b675e54",
   "metadata": {},
   "outputs": [],
   "source": [
    "#check that all the scores of the match are valid. (we do not consider nulls)\n",
    "df_tennis_score = df_tennis[~df_tennis['score'].isna()]"
   ]
  },
  {
   "cell_type": "markdown",
   "id": "18c93a45",
   "metadata": {},
   "source": [
    "Walkover (\"WO\" or \"w/o\")- Unopposed victory. A walkover is awarded when the opponent fails to start the match for any reason, such as injury.\n",
    "\n",
    "Retirement (\"ret\") - Player's withdrawal during a match, causing the player to forfeit the tournament. Usually this happens due to injury\n",
    "\n",
    "Default :def - Disqualification of a player in a match by the chair umpire after the player has received four code violation warnings, generally for their conduct on court. A default can occur with less than four code violations warnings if the code violation is judged severe enough to warrant it. A double default occurs when both players are disqualified. Defaults also occur when a player misses a match with no valid excuse. Defaults are considered losses.\n",
    "\n",
    "Bye :bye - Automatic advancement of a player to the next round of a tournament without facing an opponent. Byes are often awarded in the first round to the top-seeded players in a tournament"
   ]
  },
  {
   "cell_type": "code",
   "execution_count": null,
   "id": "90df8ec1",
   "metadata": {},
   "outputs": [],
   "source": [
    "def Retirement(s):\n",
    "    if s.lower() in \"retirement.\" or s.lower()==\"ret.\":\n",
    "        return True\n",
    "    else:\n",
    "        return False\n",
    "    \n",
    "def Walkover(s):\n",
    "    if s.lower()==\"w/o\" or s.lower()==\"wo\" or s.lower() in \"walkover\":\n",
    "        return True\n",
    "    else:\n",
    "        return False\n",
    "    \n",
    "def Default(s):\n",
    "    if s.lower() in \"default.\" or s.lower()==\"def.\":\n",
    "        return True\n",
    "    else:\n",
    "        return False\n",
    "    \n",
    "def Bye(s):\n",
    "    if s.lower() in \"bye.\":\n",
    "        return True\n",
    "    else:\n",
    "        return False"
   ]
  },
  {
   "cell_type": "markdown",
   "id": "ebc44697",
   "metadata": {},
   "source": [
    "Checking on best_of = 3"
   ]
  },
  {
   "cell_type": "code",
   "execution_count": null,
   "id": "1ba42256",
   "metadata": {},
   "outputs": [],
   "source": [
    "#analysis on the best of 3\n",
    "\n",
    "#count errors with more than 3 games\n",
    "best_5 = 0\n",
    "#error because less of 2 games without valid reasons\n",
    "count_less_2 = 0\n",
    "\n",
    "#number of walkover\n",
    "walkover = 0\n",
    "#errors using RET instead of WO\n",
    "wrong_walkover = 0\n",
    "#number of defaults\n",
    "default = 0\n",
    "#number of byes\n",
    "bye = 0\n",
    "\n",
    "#to count the invalid results of the sets\n",
    "invalid_set = 0\n",
    "\n",
    "for match in df_tennis_score[df_tennis_score['best_of'] == 3]['score']:\n",
    "    sets = match.split( )\n",
    "    if len(sets)==1 and Walkover(sets[0]):\n",
    "        walkover+=1\n",
    "        continue\n",
    "    if len(sets)==1 and Retirement(sets[0]):\n",
    "        wrong_walkover+=1\n",
    "        continue\n",
    "    if len(sets)==1 and Default(sets[0]):\n",
    "        default+=1\n",
    "        continue\n",
    "    if len(sets)==1 and Bye(sets[0]):\n",
    "        bye+=1\n",
    "        continue\n",
    "    if len(sets)<2:\n",
    "        count_less_2+=1\n",
    "        continue\n",
    "    #we cannot have more than 3 sets unless having a \"ret\" or \"def\" at the end\n",
    "    #probably these are best of 5 and not best of 3\n",
    "    if (len(sets)==4 and not Retirement(sets[3]) and not Default(sets[3])) or \\\n",
    "        (len(sets)==5 and not Retirement(sets[3]) and not Retirement(sets[4]) and \\\n",
    "        not Default(sets[3]) and not Default(sets[4])) or len(sets)>5:\n",
    "        best_5+=1\n",
    "        continue\n",
    "    \n",
    "    #here we have best of 3 (we can have lenght>3 because of ret and def)\n",
    "    #we are sure that if len > 3 then we have \"rer of \"def so we can ignore them to check scores\n",
    "    \n",
    "    #for each set x-y we can have 6-7 or |x-y|>=2 with max(y,x) = 6\n",
    "    for (i,set) in enumerate(sets):\n",
    "        if not Retirement(set) and not Default(set):\n",
    "            if \"[\" in set or \"]\" in set:\n",
    "                set = set.replace(\"[\", \"\")\n",
    "                set = set.replace(\"]\", \"\")\n",
    "            if \"(\" in set or \")\" in set:\n",
    "                points = set[0:set.index(\"(\")].split(\"-\")\n",
    "                if \"6\" not in points or \"7\" not in points:\n",
    "                    print(sets)\n",
    "                    invalid_set+=1\n",
    "            else:\n",
    "                if set.strip()==\"6-6\":\n",
    "                    invalid_set+=1\n",
    "                else: \n",
    "                    points = set.split(\"-\")\n",
    "                    #print(sets)\n",
    "                    x = int(points[0])\n",
    "                    y = int(points[1])\n",
    "                    if max(x,y) == 7:\n",
    "                        if min(x,y)!=5:\n",
    "                            invalid_set+=1\n",
    "                    elif max(x,y)!= 6:\n",
    "                        invalid_set+=1\n",
    "                    elif max(x,y)==6:\n",
    "                        if min(x,y)>4:\n",
    "                            invalid_set+=1\n",
    "            \n",
    "            \n",
    "    \n",
    "    #if len == 2 allora il confronto x-y x>y deve dare sempre true o sempre false inoltre |x-y|>2 tranne per 6-7\n",
    "    \n",
    "    \n",
    "    #if len == 3 (o più) allora il confronto x-y x>y deve dare 2 volte true e 1 false (o viceversa)\n",
    "    #inoltre |x-y|>2 tranne per 6-7\n",
    "    \n",
    "    "
   ]
  },
  {
   "cell_type": "markdown",
   "id": "f1fb54bc",
   "metadata": {},
   "source": [
    "Checking on best_of = 5"
   ]
  },
  {
   "cell_type": "code",
   "execution_count": null,
   "id": "32ebeb71",
   "metadata": {},
   "outputs": [],
   "source": []
  },
  {
   "cell_type": "code",
   "execution_count": null,
   "id": "a5ca929c",
   "metadata": {},
   "outputs": [],
   "source": [
    "print('walkover', walkover)\n",
    "print('wrong_walkover', wrong_walkover)\n",
    "print('default', default)\n",
    "print('bye', bye)\n",
    "print('more than 3 matches: probably best of 5:', best_5)\n",
    "print('errors: less than 2 matches', count_less_2)"
   ]
  },
  {
   "cell_type": "code",
   "execution_count": null,
   "id": "14be657b",
   "metadata": {},
   "outputs": [],
   "source": [
    "print('Invalid results for set', invalid_set)"
   ]
  },
  {
   "cell_type": "markdown",
   "id": "45c71960",
   "metadata": {},
   "source": [
    "#### match_num"
   ]
  },
  {
   "cell_type": "code",
   "execution_count": null,
   "id": "5ad339cf",
   "metadata": {},
   "outputs": [],
   "source": [
    "df_tennis['match_num'].isnull().sum()"
   ]
  },
  {
   "cell_type": "markdown",
   "id": "cc048023",
   "metadata": {},
   "source": [
    "#### winner_id and loser_id"
   ]
  },
  {
   "cell_type": "markdown",
   "id": "885bb68e",
   "metadata": {},
   "source": [
    "### Numeric data in tennis dataset"
   ]
  },
  {
   "cell_type": "code",
   "execution_count": null,
   "id": "149eb182",
   "metadata": {
    "scrolled": true
   },
   "outputs": [],
   "source": [
    "df_tennis.select_dtypes(include=['float64']).columns\n",
    "for column in df_tennis.select_dtypes(include=['float64']).columns:\n",
    "    print(\"Distinct Values in \"+str(column)+\": \\n\", df_tennis[column].unique(), \"\\n\")"
   ]
  },
  {
   "cell_type": "markdown",
   "id": "b5a853ab",
   "metadata": {},
   "source": [
    "#### draw_size"
   ]
  },
  {
   "cell_type": "code",
   "execution_count": null,
   "id": "26802ca3",
   "metadata": {},
   "outputs": [],
   "source": [
    "#count the row with an invalid number (negative or less than 2)\n",
    "df_tennis[df_tennis['draw_size'] < 2].shape[0]"
   ]
  },
  {
   "cell_type": "markdown",
   "id": "48d9a627",
   "metadata": {},
   "source": [
    "All the numbers are valid (we consider only the numbers and not the nulls)"
   ]
  },
  {
   "cell_type": "markdown",
   "id": "13aae818",
   "metadata": {},
   "source": [
    "**tourney_date**"
   ]
  },
  {
   "cell_type": "code",
   "execution_count": null,
   "id": "c3836c1e",
   "metadata": {},
   "outputs": [],
   "source": [
    "#the date are in float so they need to be converted in date object \n",
    "df_tennis['tourney_date'].isnull().sum()"
   ]
  },
  {
   "cell_type": "code",
   "execution_count": null,
   "id": "c05dbf89",
   "metadata": {},
   "outputs": [],
   "source": [
    "#check if there are present data greater then today\n",
    "import datetime\n",
    "df_tennis['tourney_date'] = pd.to_datetime(df_tennis['tourney_date'], format='%Y%m%d')\n",
    "invalid_data = 0\n",
    "today = pd.to_datetime(datetime.date.today())\n",
    "for date in df_tennis['tourney_date']:\n",
    "    if date > today:\n",
    "        invalid_data +=1\n",
    "print(invalid_data)"
   ]
  },
  {
   "cell_type": "markdown",
   "id": "c1657ed6",
   "metadata": {},
   "source": [
    "There aren't invalid dates"
   ]
  },
  {
   "cell_type": "markdown",
   "id": "8b286d81",
   "metadata": {},
   "source": [
    "#### winner_ht and loser_ht"
   ]
  },
  {
   "cell_type": "markdown",
   "id": "b563104c",
   "metadata": {},
   "source": [
    "#### winner_age and loser_age"
   ]
  },
  {
   "cell_type": "markdown",
   "id": "dbaf177f",
   "metadata": {},
   "source": [
    "#### w_df"
   ]
  },
  {
   "cell_type": "code",
   "execution_count": null,
   "id": "73ede825",
   "metadata": {},
   "outputs": [],
   "source": []
  },
  {
   "cell_type": "code",
   "execution_count": null,
   "id": "2b3f8a8a",
   "metadata": {},
   "outputs": [],
   "source": []
  },
  {
   "cell_type": "markdown",
   "id": "479420e1",
   "metadata": {},
   "source": [
    "#### minutes"
   ]
  },
  {
   "cell_type": "code",
   "execution_count": null,
   "id": "fa8fbf53",
   "metadata": {
    "scrolled": true
   },
   "outputs": [],
   "source": [
    "df_tennis.loc[df_tennis['minutes'] <= 0, 'minutes'].count()"
   ]
  },
  {
   "cell_type": "code",
   "execution_count": null,
   "id": "b3af85a6",
   "metadata": {},
   "outputs": [],
   "source": [
    "df_tennis['minutes'].mean()"
   ]
  },
  {
   "cell_type": "markdown",
   "id": "1153ce85",
   "metadata": {},
   "source": [
    "There are 128 entry with a match duration equal to 0, a tannis match duration is on average 40 minutes our mean is 97.67."
   ]
  },
  {
   "cell_type": "code",
   "execution_count": null,
   "id": "b6f7611e",
   "metadata": {},
   "outputs": [],
   "source": [
    "#TO DO:\n",
    "#controllare che i match con minuti 0 siano match con BYE e WOLKOVER (in questo caso la partita non viene giocata)"
   ]
  },
  {
   "cell_type": "markdown",
   "id": "44dbd6b7",
   "metadata": {},
   "source": [
    "#### w_ace, w_df and w_svpt"
   ]
  },
  {
   "cell_type": "code",
   "execution_count": null,
   "id": "7622aaff",
   "metadata": {},
   "outputs": [],
   "source": []
  },
  {
   "cell_type": "markdown",
   "id": "10ad9c5d",
   "metadata": {},
   "source": [
    "#### w_1stIn"
   ]
  },
  {
   "cell_type": "code",
   "execution_count": null,
   "id": "f9a8b021",
   "metadata": {},
   "outputs": [],
   "source": []
  },
  {
   "cell_type": "markdown",
   "id": "37a3cd9f",
   "metadata": {},
   "source": [
    "#### w_1stWon and w_2ndWon"
   ]
  },
  {
   "cell_type": "code",
   "execution_count": null,
   "id": "def2ea86",
   "metadata": {},
   "outputs": [],
   "source": []
  },
  {
   "cell_type": "markdown",
   "id": "5b8c66d2",
   "metadata": {},
   "source": [
    "#### w_SvGms,  w_bpSaved and w_bpFaced"
   ]
  },
  {
   "cell_type": "code",
   "execution_count": null,
   "id": "d5e026de",
   "metadata": {},
   "outputs": [],
   "source": []
  },
  {
   "cell_type": "markdown",
   "id": "93b3a2bd",
   "metadata": {},
   "source": [
    "#### l_ace, l_df and l_svpt"
   ]
  },
  {
   "cell_type": "code",
   "execution_count": null,
   "id": "4eb2fbf5",
   "metadata": {},
   "outputs": [],
   "source": []
  },
  {
   "cell_type": "markdown",
   "id": "ab2002a0",
   "metadata": {},
   "source": [
    "#### l_1stIn"
   ]
  },
  {
   "cell_type": "code",
   "execution_count": null,
   "id": "1407c7ef",
   "metadata": {},
   "outputs": [],
   "source": []
  },
  {
   "cell_type": "markdown",
   "id": "e89eee1f",
   "metadata": {},
   "source": [
    "## Missing values: default value"
   ]
  },
  {
   "cell_type": "code",
   "execution_count": null,
   "id": "48f8a6ae",
   "metadata": {},
   "outputs": [],
   "source": []
  },
  {
   "cell_type": "code",
   "execution_count": null,
   "id": "23d47a84",
   "metadata": {},
   "outputs": [],
   "source": []
  },
  {
   "cell_type": "markdown",
   "id": "82d1584c",
   "metadata": {},
   "source": [
    "## Correlation"
   ]
  },
  {
   "cell_type": "code",
   "execution_count": null,
   "id": "be9c2987",
   "metadata": {},
   "outputs": [],
   "source": [
    "df_numeric = df_tennis[df_tennis.select_dtypes(include=['float64']).columns]"
   ]
  },
  {
   "cell_type": "code",
   "execution_count": null,
   "id": "67034be7",
   "metadata": {},
   "outputs": [],
   "source": [
    "#start with a filter on the correlation of |0.90|"
   ]
  },
  {
   "cell_type": "code",
   "execution_count": null,
   "id": "f403a7a2",
   "metadata": {},
   "outputs": [],
   "source": [
    "df_numeric.corr()"
   ]
  },
  {
   "cell_type": "markdown",
   "id": "2eda568f",
   "metadata": {},
   "source": [
    "inserire ragionamento sulla correlation"
   ]
  },
  {
   "cell_type": "markdown",
   "id": "cfcb97d6",
   "metadata": {},
   "source": [
    "## Statistics/distributions"
   ]
  },
  {
   "cell_type": "code",
   "execution_count": null,
   "id": "16e2ed55",
   "metadata": {},
   "outputs": [],
   "source": []
  },
  {
   "cell_type": "code",
   "execution_count": null,
   "id": "e3191859",
   "metadata": {},
   "outputs": [],
   "source": [
    "#some statistics\n",
    "#df_tennis.describe()"
   ]
  },
  {
   "cell_type": "code",
   "execution_count": null,
   "id": "3c7fc152",
   "metadata": {},
   "outputs": [],
   "source": []
  },
  {
   "cell_type": "code",
   "execution_count": null,
   "id": "e9521796",
   "metadata": {},
   "outputs": [],
   "source": []
  },
  {
   "cell_type": "code",
   "execution_count": null,
   "id": "cc96e5a0",
   "metadata": {},
   "outputs": [],
   "source": []
  },
  {
   "cell_type": "code",
   "execution_count": null,
   "id": "f890e77a",
   "metadata": {},
   "outputs": [],
   "source": []
  }
 ],
 "metadata": {
  "kernelspec": {
   "display_name": "Python 3 (ipykernel)",
   "language": "python",
   "name": "python3"
  },
  "language_info": {
   "codemirror_mode": {
    "name": "ipython",
    "version": 3
   },
   "file_extension": ".py",
   "mimetype": "text/x-python",
   "name": "python",
   "nbconvert_exporter": "python",
   "pygments_lexer": "ipython3",
   "version": "3.9.5"
  }
 },
 "nbformat": 4,
 "nbformat_minor": 5
}
