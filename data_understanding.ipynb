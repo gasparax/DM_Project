{
 "cells": [
  {
   "cell_type": "code",
   "execution_count": 5,
   "id": "98a1d139",
   "metadata": {},
   "outputs": [],
   "source": [
    "import math\n",
    "import numpy as np\n",
    "import scipy.stats as stats\n",
    "import matplotlib.pyplot as plt\n",
    "from sklearn.decomposition import PCA\n",
    "\n",
    "from collections import defaultdict\n",
    "from scipy.stats.stats import pearsonr\n",
    "import pandas as pd\n",
    "import os"
   ]
  },
  {
   "cell_type": "code",
   "execution_count": 11,
   "id": "a908420f",
   "metadata": {},
   "outputs": [],
   "source": [
    "# load of the data\n",
    "DATASET_DIR = \"dataset\" + os.path.sep\n",
    "df_tennis = pd.read_csv(DATASET_DIR + 'tennis_matches.csv', sep=',', index_col=0) \n",
    "\n",
    "#index_col=False say to not use the first column as ID\n",
    "df_male = pd.read_csv(DATASET_DIR + 'male_players.csv', sep=',', index_col=False)\n",
    "df_female = pd.read_csv(DATASET_DIR + 'female_players.csv', sep=',', index_col=False) "
   ]
  },
  {
   "cell_type": "markdown",
   "id": "80d511ae",
   "metadata": {},
   "source": [
    "## Print some records of the datasets"
   ]
  },
  {
   "cell_type": "code",
   "execution_count": 14,
   "id": "7da9b707",
   "metadata": {},
   "outputs": [
    {
     "data": {
      "text/html": [
       "<div>\n",
       "<style scoped>\n",
       "    .dataframe tbody tr th:only-of-type {\n",
       "        vertical-align: middle;\n",
       "    }\n",
       "\n",
       "    .dataframe tbody tr th {\n",
       "        vertical-align: top;\n",
       "    }\n",
       "\n",
       "    .dataframe thead th {\n",
       "        text-align: right;\n",
       "    }\n",
       "</style>\n",
       "<table border=\"1\" class=\"dataframe\">\n",
       "  <thead>\n",
       "    <tr style=\"text-align: right;\">\n",
       "      <th></th>\n",
       "      <th>tourney_id</th>\n",
       "      <th>tourney_name</th>\n",
       "      <th>surface</th>\n",
       "      <th>draw_size</th>\n",
       "      <th>tourney_level</th>\n",
       "      <th>tourney_date</th>\n",
       "      <th>match_num</th>\n",
       "      <th>winner_id</th>\n",
       "      <th>winner_entry</th>\n",
       "      <th>winner_name</th>\n",
       "      <th>...</th>\n",
       "      <th>l_2ndWon</th>\n",
       "      <th>l_SvGms</th>\n",
       "      <th>l_bpSaved</th>\n",
       "      <th>l_bpFaced</th>\n",
       "      <th>winner_rank</th>\n",
       "      <th>winner_rank_points</th>\n",
       "      <th>loser_rank</th>\n",
       "      <th>loser_rank_points</th>\n",
       "      <th>tourney_spectators</th>\n",
       "      <th>tourney_revenue</th>\n",
       "    </tr>\n",
       "  </thead>\n",
       "  <tbody>\n",
       "    <tr>\n",
       "      <th>0</th>\n",
       "      <td>2019-M020</td>\n",
       "      <td>Brisbane</td>\n",
       "      <td>Hard</td>\n",
       "      <td>32.0</td>\n",
       "      <td>A</td>\n",
       "      <td>20181231.0</td>\n",
       "      <td>300.0</td>\n",
       "      <td>105453.0</td>\n",
       "      <td>NaN</td>\n",
       "      <td>Kei Nishikori</td>\n",
       "      <td>...</td>\n",
       "      <td>20.0</td>\n",
       "      <td>14.0</td>\n",
       "      <td>10.0</td>\n",
       "      <td>15.0</td>\n",
       "      <td>9.0</td>\n",
       "      <td>3590.0</td>\n",
       "      <td>16.0</td>\n",
       "      <td>1977.0</td>\n",
       "      <td>3928.0</td>\n",
       "      <td>742618.69</td>\n",
       "    </tr>\n",
       "    <tr>\n",
       "      <th>1</th>\n",
       "      <td>2019-M020</td>\n",
       "      <td>Brisbane</td>\n",
       "      <td>Hard</td>\n",
       "      <td>32.0</td>\n",
       "      <td>A</td>\n",
       "      <td>20181231.0</td>\n",
       "      <td>299.0</td>\n",
       "      <td>106421.0</td>\n",
       "      <td>NaN</td>\n",
       "      <td>Daniil Medvedev</td>\n",
       "      <td>...</td>\n",
       "      <td>7.0</td>\n",
       "      <td>10.0</td>\n",
       "      <td>10.0</td>\n",
       "      <td>13.0</td>\n",
       "      <td>16.0</td>\n",
       "      <td>1977.0</td>\n",
       "      <td>239.0</td>\n",
       "      <td>200.0</td>\n",
       "      <td>3928.0</td>\n",
       "      <td>742618.69</td>\n",
       "    </tr>\n",
       "    <tr>\n",
       "      <th>2</th>\n",
       "      <td>2019-M020</td>\n",
       "      <td>Brisbane</td>\n",
       "      <td>Hard</td>\n",
       "      <td>32.0</td>\n",
       "      <td>A</td>\n",
       "      <td>20181231.0</td>\n",
       "      <td>298.0</td>\n",
       "      <td>105453.0</td>\n",
       "      <td>NaN</td>\n",
       "      <td>Kei Nishikori</td>\n",
       "      <td>...</td>\n",
       "      <td>6.0</td>\n",
       "      <td>8.0</td>\n",
       "      <td>1.0</td>\n",
       "      <td>5.0</td>\n",
       "      <td>9.0</td>\n",
       "      <td>3590.0</td>\n",
       "      <td>40.0</td>\n",
       "      <td>1050.0</td>\n",
       "      <td>3928.0</td>\n",
       "      <td>742618.69</td>\n",
       "    </tr>\n",
       "    <tr>\n",
       "      <th>3</th>\n",
       "      <td>2019-M020</td>\n",
       "      <td>Brisbane</td>\n",
       "      <td>Hard</td>\n",
       "      <td>32.0</td>\n",
       "      <td>A</td>\n",
       "      <td>20181231.0</td>\n",
       "      <td>297.0</td>\n",
       "      <td>104542.0</td>\n",
       "      <td>PR</td>\n",
       "      <td>Jo-Wilfried Tsonga</td>\n",
       "      <td>...</td>\n",
       "      <td>9.0</td>\n",
       "      <td>11.0</td>\n",
       "      <td>4.0</td>\n",
       "      <td>6.0</td>\n",
       "      <td>239.0</td>\n",
       "      <td>200.0</td>\n",
       "      <td>31.0</td>\n",
       "      <td>1298.0</td>\n",
       "      <td>3928.0</td>\n",
       "      <td>742618.69</td>\n",
       "    </tr>\n",
       "    <tr>\n",
       "      <th>4</th>\n",
       "      <td>2019-M020</td>\n",
       "      <td>Brisbane</td>\n",
       "      <td>Hard</td>\n",
       "      <td>32.0</td>\n",
       "      <td>A</td>\n",
       "      <td>20181231.0</td>\n",
       "      <td>296.0</td>\n",
       "      <td>106421.0</td>\n",
       "      <td>NaN</td>\n",
       "      <td>Daniil Medvedev</td>\n",
       "      <td>...</td>\n",
       "      <td>19.0</td>\n",
       "      <td>15.0</td>\n",
       "      <td>2.0</td>\n",
       "      <td>4.0</td>\n",
       "      <td>16.0</td>\n",
       "      <td>1977.0</td>\n",
       "      <td>18.0</td>\n",
       "      <td>1855.0</td>\n",
       "      <td>3928.0</td>\n",
       "      <td>742618.69</td>\n",
       "    </tr>\n",
       "  </tbody>\n",
       "</table>\n",
       "<p>5 rows × 49 columns</p>\n",
       "</div>"
      ],
      "text/plain": [
       "  tourney_id tourney_name surface  draw_size tourney_level  tourney_date  \\\n",
       "0  2019-M020     Brisbane    Hard       32.0             A    20181231.0   \n",
       "1  2019-M020     Brisbane    Hard       32.0             A    20181231.0   \n",
       "2  2019-M020     Brisbane    Hard       32.0             A    20181231.0   \n",
       "3  2019-M020     Brisbane    Hard       32.0             A    20181231.0   \n",
       "4  2019-M020     Brisbane    Hard       32.0             A    20181231.0   \n",
       "\n",
       "   match_num  winner_id winner_entry         winner_name  ... l_2ndWon  \\\n",
       "0      300.0   105453.0          NaN       Kei Nishikori  ...     20.0   \n",
       "1      299.0   106421.0          NaN     Daniil Medvedev  ...      7.0   \n",
       "2      298.0   105453.0          NaN       Kei Nishikori  ...      6.0   \n",
       "3      297.0   104542.0           PR  Jo-Wilfried Tsonga  ...      9.0   \n",
       "4      296.0   106421.0          NaN     Daniil Medvedev  ...     19.0   \n",
       "\n",
       "   l_SvGms l_bpSaved  l_bpFaced  winner_rank winner_rank_points loser_rank  \\\n",
       "0     14.0      10.0       15.0          9.0             3590.0       16.0   \n",
       "1     10.0      10.0       13.0         16.0             1977.0      239.0   \n",
       "2      8.0       1.0        5.0          9.0             3590.0       40.0   \n",
       "3     11.0       4.0        6.0        239.0              200.0       31.0   \n",
       "4     15.0       2.0        4.0         16.0             1977.0       18.0   \n",
       "\n",
       "  loser_rank_points  tourney_spectators tourney_revenue  \n",
       "0            1977.0              3928.0       742618.69  \n",
       "1             200.0              3928.0       742618.69  \n",
       "2            1050.0              3928.0       742618.69  \n",
       "3            1298.0              3928.0       742618.69  \n",
       "4            1855.0              3928.0       742618.69  \n",
       "\n",
       "[5 rows x 49 columns]"
      ]
     },
     "execution_count": 14,
     "metadata": {},
     "output_type": "execute_result"
    }
   ],
   "source": [
    "df_tennis.head()"
   ]
  },
  {
   "cell_type": "code",
   "execution_count": 15,
   "id": "4d7a8ca8",
   "metadata": {},
   "outputs": [
    {
     "data": {
      "text/html": [
       "<div>\n",
       "<style scoped>\n",
       "    .dataframe tbody tr th:only-of-type {\n",
       "        vertical-align: middle;\n",
       "    }\n",
       "\n",
       "    .dataframe tbody tr th {\n",
       "        vertical-align: top;\n",
       "    }\n",
       "\n",
       "    .dataframe thead th {\n",
       "        text-align: right;\n",
       "    }\n",
       "</style>\n",
       "<table border=\"1\" class=\"dataframe\">\n",
       "  <thead>\n",
       "    <tr style=\"text-align: right;\">\n",
       "      <th></th>\n",
       "      <th>name</th>\n",
       "      <th>surname</th>\n",
       "    </tr>\n",
       "  </thead>\n",
       "  <tbody>\n",
       "    <tr>\n",
       "      <th>0</th>\n",
       "      <td>Gardnar</td>\n",
       "      <td>Mulloy</td>\n",
       "    </tr>\n",
       "    <tr>\n",
       "      <th>1</th>\n",
       "      <td>Pancho</td>\n",
       "      <td>Segura</td>\n",
       "    </tr>\n",
       "    <tr>\n",
       "      <th>2</th>\n",
       "      <td>Frank</td>\n",
       "      <td>Sedgman</td>\n",
       "    </tr>\n",
       "    <tr>\n",
       "      <th>3</th>\n",
       "      <td>Giuseppe</td>\n",
       "      <td>Merlo</td>\n",
       "    </tr>\n",
       "    <tr>\n",
       "      <th>4</th>\n",
       "      <td>Richard Pancho</td>\n",
       "      <td>Gonzales</td>\n",
       "    </tr>\n",
       "  </tbody>\n",
       "</table>\n",
       "</div>"
      ],
      "text/plain": [
       "             name   surname\n",
       "0         Gardnar    Mulloy\n",
       "1          Pancho    Segura\n",
       "2           Frank   Sedgman\n",
       "3        Giuseppe     Merlo\n",
       "4  Richard Pancho  Gonzales"
      ]
     },
     "execution_count": 15,
     "metadata": {},
     "output_type": "execute_result"
    }
   ],
   "source": [
    "df_male.head()"
   ]
  },
  {
   "cell_type": "code",
   "execution_count": 16,
   "id": "11d16092",
   "metadata": {},
   "outputs": [
    {
     "data": {
      "text/html": [
       "<div>\n",
       "<style scoped>\n",
       "    .dataframe tbody tr th:only-of-type {\n",
       "        vertical-align: middle;\n",
       "    }\n",
       "\n",
       "    .dataframe tbody tr th {\n",
       "        vertical-align: top;\n",
       "    }\n",
       "\n",
       "    .dataframe thead th {\n",
       "        text-align: right;\n",
       "    }\n",
       "</style>\n",
       "<table border=\"1\" class=\"dataframe\">\n",
       "  <thead>\n",
       "    <tr style=\"text-align: right;\">\n",
       "      <th></th>\n",
       "      <th>name</th>\n",
       "      <th>surname</th>\n",
       "    </tr>\n",
       "  </thead>\n",
       "  <tbody>\n",
       "    <tr>\n",
       "      <th>0</th>\n",
       "      <td>Bobby</td>\n",
       "      <td>Riggs</td>\n",
       "    </tr>\n",
       "    <tr>\n",
       "      <th>1</th>\n",
       "      <td>X</td>\n",
       "      <td>X</td>\n",
       "    </tr>\n",
       "    <tr>\n",
       "      <th>2</th>\n",
       "      <td>Martina</td>\n",
       "      <td>Hingis</td>\n",
       "    </tr>\n",
       "    <tr>\n",
       "      <th>3</th>\n",
       "      <td>Mirjana</td>\n",
       "      <td>Lucic</td>\n",
       "    </tr>\n",
       "    <tr>\n",
       "      <th>4</th>\n",
       "      <td>Justine</td>\n",
       "      <td>Henin</td>\n",
       "    </tr>\n",
       "  </tbody>\n",
       "</table>\n",
       "</div>"
      ],
      "text/plain": [
       "      name surname\n",
       "0    Bobby   Riggs\n",
       "1        X       X\n",
       "2  Martina  Hingis\n",
       "3  Mirjana   Lucic\n",
       "4  Justine   Henin"
      ]
     },
     "execution_count": 16,
     "metadata": {},
     "output_type": "execute_result"
    }
   ],
   "source": [
    "df_female.head()"
   ]
  },
  {
   "cell_type": "markdown",
   "id": "dfcd2dc7",
   "metadata": {},
   "source": [
    "## Missing values: Null"
   ]
  },
  {
   "cell_type": "code",
   "execution_count": 18,
   "id": "33d8eddc",
   "metadata": {},
   "outputs": [
    {
     "name": "stdout",
     "output_type": "stream",
     "text": [
      "<class 'pandas.core.frame.DataFrame'>\n",
      "RangeIndex: 55208 entries, 0 to 55207\n",
      "Data columns (total 2 columns):\n",
      " #   Column   Non-Null Count  Dtype \n",
      "---  ------   --------------  ----- \n",
      " 0   name     55031 non-null  object\n",
      " 1   surname  55165 non-null  object\n",
      "dtypes: object(2)\n",
      "memory usage: 862.8+ KB\n"
     ]
    }
   ],
   "source": [
    "#info about data that we have for male\n",
    "df_male.info()"
   ]
  },
  {
   "cell_type": "code",
   "execution_count": 7,
   "id": "9df3aef0",
   "metadata": {},
   "outputs": [
    {
     "data": {
      "text/plain": [
       "name       177\n",
       "surname     43\n",
       "dtype: int64"
      ]
     },
     "execution_count": 7,
     "metadata": {},
     "output_type": "execute_result"
    }
   ],
   "source": [
    "#number of null in the columns\n",
    "df_male.isnull().sum(axis = 0)"
   ]
  },
  {
   "cell_type": "markdown",
   "id": "c0595058",
   "metadata": {},
   "source": [
    "So, the male dataframe has 2 columns: name and surname. It has 55208 entries and about 200 null values in total."
   ]
  },
  {
   "cell_type": "code",
   "execution_count": 8,
   "id": "96baa8e2",
   "metadata": {},
   "outputs": [
    {
     "name": "stdout",
     "output_type": "stream",
     "text": [
      "<class 'pandas.core.frame.DataFrame'>\n",
      "RangeIndex: 46172 entries, 0 to 46171\n",
      "Data columns (total 2 columns):\n",
      " #   Column   Non-Null Count  Dtype \n",
      "---  ------   --------------  ----- \n",
      " 0   name     44505 non-null  object\n",
      " 1   surname  46172 non-null  object\n",
      "dtypes: object(2)\n",
      "memory usage: 721.6+ KB\n"
     ]
    }
   ],
   "source": [
    "#info about data that we have for female\n",
    "df_female.info()"
   ]
  },
  {
   "cell_type": "code",
   "execution_count": 9,
   "id": "1b6f320f",
   "metadata": {},
   "outputs": [
    {
     "data": {
      "text/plain": [
       "name       1667\n",
       "surname       0\n",
       "dtype: int64"
      ]
     },
     "execution_count": 9,
     "metadata": {},
     "output_type": "execute_result"
    }
   ],
   "source": [
    "#number of null in the columns\n",
    "df_female.isnull().sum(axis = 0)"
   ]
  },
  {
   "cell_type": "markdown",
   "id": "79296869",
   "metadata": {},
   "source": [
    "So, the female dataframe has 2 columns: name and surname. It has 46172  entries and 1667 null values in the name, but the surname is never null."
   ]
  },
  {
   "cell_type": "code",
   "execution_count": 10,
   "id": "da8b2be2",
   "metadata": {},
   "outputs": [
    {
     "name": "stdout",
     "output_type": "stream",
     "text": [
      "<class 'pandas.core.frame.DataFrame'>\n",
      "Int64Index: 186128 entries, 0 to 186127\n",
      "Data columns (total 49 columns):\n",
      " #   Column              Non-Null Count   Dtype  \n",
      "---  ------              --------------   -----  \n",
      " 0   tourney_id          186073 non-null  object \n",
      " 1   tourney_name        186103 non-null  object \n",
      " 2   surface             185940 non-null  object \n",
      " 3   draw_size           186099 non-null  float64\n",
      " 4   tourney_level       186099 non-null  object \n",
      " 5   tourney_date        186100 non-null  float64\n",
      " 6   match_num           186101 non-null  float64\n",
      " 7   winner_id           186073 non-null  float64\n",
      " 8   winner_entry        25827 non-null   object \n",
      " 9   winner_name         186101 non-null  object \n",
      " 10  winner_hand         186082 non-null  object \n",
      " 11  winner_ht           49341 non-null   float64\n",
      " 12  winner_ioc          186099 non-null  object \n",
      " 13  winner_age          183275 non-null  float64\n",
      " 14  loser_id            186100 non-null  float64\n",
      " 15  loser_entry         44154 non-null   object \n",
      " 16  loser_name          186097 non-null  object \n",
      " 17  loser_hand          186030 non-null  object \n",
      " 18  loser_ht            38348 non-null   float64\n",
      " 19  loser_ioc           186102 non-null  object \n",
      " 20  loser_age           179590 non-null  float64\n",
      " 21  score               185929 non-null  object \n",
      " 22  best_of             186099 non-null  float64\n",
      " 23  round               186098 non-null  object \n",
      " 24  minutes             81660 non-null   float64\n",
      " 25  w_ace               82310 non-null   float64\n",
      " 26  w_df                82312 non-null   float64\n",
      " 27  w_svpt              82310 non-null   float64\n",
      " 28  w_1stIn             82310 non-null   float64\n",
      " 29  w_1stWon            82312 non-null   float64\n",
      " 30  w_2ndWon            82309 non-null   float64\n",
      " 31  w_SvGms             82311 non-null   float64\n",
      " 32  w_bpSaved           82315 non-null   float64\n",
      " 33  w_bpFaced           82312 non-null   float64\n",
      " 34  l_ace               82313 non-null   float64\n",
      " 35  l_df                82319 non-null   float64\n",
      " 36  l_svpt              82315 non-null   float64\n",
      " 37  l_1stIn             82304 non-null   float64\n",
      " 38  l_1stWon            82311 non-null   float64\n",
      " 39  l_2ndWon            82312 non-null   float64\n",
      " 40  l_SvGms             82318 non-null   float64\n",
      " 41  l_bpSaved           82311 non-null   float64\n",
      " 42  l_bpFaced           82306 non-null   float64\n",
      " 43  winner_rank         166719 non-null  float64\n",
      " 44  winner_rank_points  166701 non-null  float64\n",
      " 45  loser_rank          150845 non-null  float64\n",
      " 46  loser_rank_points   150828 non-null  float64\n",
      " 47  tourney_spectators  186101 non-null  float64\n",
      " 48  tourney_revenue     186102 non-null  float64\n",
      "dtypes: float64(35), object(14)\n",
      "memory usage: 71.0+ MB\n"
     ]
    }
   ],
   "source": [
    "df_tennis.info()"
   ]
  },
  {
   "cell_type": "code",
   "execution_count": 11,
   "id": "68eb3dfe",
   "metadata": {
    "scrolled": false
   },
   "outputs": [
    {
     "data": {
      "text/plain": [
       "tourney_id            True\n",
       "tourney_name          True\n",
       "surface               True\n",
       "draw_size             True\n",
       "tourney_level         True\n",
       "tourney_date          True\n",
       "match_num             True\n",
       "winner_id             True\n",
       "winner_entry          True\n",
       "winner_name           True\n",
       "winner_hand           True\n",
       "winner_ht             True\n",
       "winner_ioc            True\n",
       "winner_age            True\n",
       "loser_id              True\n",
       "loser_entry           True\n",
       "loser_name            True\n",
       "loser_hand            True\n",
       "loser_ht              True\n",
       "loser_ioc             True\n",
       "loser_age             True\n",
       "score                 True\n",
       "best_of               True\n",
       "round                 True\n",
       "minutes               True\n",
       "w_ace                 True\n",
       "w_df                  True\n",
       "w_svpt                True\n",
       "w_1stIn               True\n",
       "w_1stWon              True\n",
       "w_2ndWon              True\n",
       "w_SvGms               True\n",
       "w_bpSaved             True\n",
       "w_bpFaced             True\n",
       "l_ace                 True\n",
       "l_df                  True\n",
       "l_svpt                True\n",
       "l_1stIn               True\n",
       "l_1stWon              True\n",
       "l_2ndWon              True\n",
       "l_SvGms               True\n",
       "l_bpSaved             True\n",
       "l_bpFaced             True\n",
       "winner_rank           True\n",
       "winner_rank_points    True\n",
       "loser_rank            True\n",
       "loser_rank_points     True\n",
       "tourney_spectators    True\n",
       "tourney_revenue       True\n",
       "dtype: bool"
      ]
     },
     "execution_count": 11,
     "metadata": {},
     "output_type": "execute_result"
    }
   ],
   "source": [
    "#we see if the attributes have some null values\n",
    "df_tennis.isnull().any()"
   ]
  },
  {
   "cell_type": "code",
   "execution_count": 12,
   "id": "7baec242",
   "metadata": {},
   "outputs": [
    {
     "data": {
      "text/plain": [
       "tourney_id                55\n",
       "tourney_name              25\n",
       "surface                  188\n",
       "draw_size                 29\n",
       "tourney_level             29\n",
       "tourney_date              28\n",
       "match_num                 27\n",
       "winner_id                 55\n",
       "winner_entry          160301\n",
       "winner_name               27\n",
       "winner_hand               46\n",
       "winner_ht             136787\n",
       "winner_ioc                29\n",
       "winner_age              2853\n",
       "loser_id                  28\n",
       "loser_entry           141974\n",
       "loser_name                31\n",
       "loser_hand                98\n",
       "loser_ht              147780\n",
       "loser_ioc                 26\n",
       "loser_age               6538\n",
       "score                    199\n",
       "best_of                   29\n",
       "round                     30\n",
       "minutes               104468\n",
       "w_ace                 103818\n",
       "w_df                  103816\n",
       "w_svpt                103818\n",
       "w_1stIn               103818\n",
       "w_1stWon              103816\n",
       "w_2ndWon              103819\n",
       "w_SvGms               103817\n",
       "w_bpSaved             103813\n",
       "w_bpFaced             103816\n",
       "l_ace                 103815\n",
       "l_df                  103809\n",
       "l_svpt                103813\n",
       "l_1stIn               103824\n",
       "l_1stWon              103817\n",
       "l_2ndWon              103816\n",
       "l_SvGms               103810\n",
       "l_bpSaved             103817\n",
       "l_bpFaced             103822\n",
       "winner_rank            19409\n",
       "winner_rank_points     19427\n",
       "loser_rank             35283\n",
       "loser_rank_points      35300\n",
       "tourney_spectators        27\n",
       "tourney_revenue           26\n",
       "dtype: int64"
      ]
     },
     "execution_count": 12,
     "metadata": {},
     "output_type": "execute_result"
    }
   ],
   "source": [
    "#since all the attributes has missing values, we count them\n",
    "df_tennis.isnull().sum(axis = 0)"
   ]
  },
  {
   "cell_type": "markdown",
   "id": "692a4620",
   "metadata": {},
   "source": [
    "We can notice that some attributes have very few null values, but other attributes has more than 50% of null values"
   ]
  },
  {
   "cell_type": "markdown",
   "id": "c78ac53b",
   "metadata": {},
   "source": [
    "## Duplicate data"
   ]
  },
  {
   "cell_type": "code",
   "execution_count": 13,
   "id": "09f655da",
   "metadata": {},
   "outputs": [
    {
     "data": {
      "text/plain": [
       "524"
      ]
     },
     "execution_count": 13,
     "metadata": {},
     "output_type": "execute_result"
    }
   ],
   "source": [
    "#we see if there are duplicates in the dataset male and female\n",
    "df_male.duplicated(keep='first').sum()"
   ]
  },
  {
   "cell_type": "code",
   "execution_count": 14,
   "id": "862d6e9e",
   "metadata": {},
   "outputs": [
    {
     "data": {
      "text/plain": [
       "511"
      ]
     },
     "execution_count": 14,
     "metadata": {},
     "output_type": "execute_result"
    }
   ],
   "source": [
    "df_female.duplicated(keep='first').sum()"
   ]
  },
  {
   "cell_type": "markdown",
   "id": "458ff006",
   "metadata": {},
   "source": [
    "So, both the datasets of male and female has rows with same name and surname. These rows can be duplicates (so they correspond to the same person) or they can be homonyms. In this latter case we cannot distinguish the matches of one player by the ones of the other player."
   ]
  },
  {
   "cell_type": "code",
   "execution_count": 15,
   "id": "f8e225b5",
   "metadata": {},
   "outputs": [],
   "source": [
    "#we remove (only) the duplicated rows\n",
    "df_male = df_male.drop_duplicates()\n",
    "df_female = df_female.drop_duplicates()"
   ]
  },
  {
   "cell_type": "code",
   "execution_count": 16,
   "id": "3c22b05c",
   "metadata": {},
   "outputs": [
    {
     "data": {
      "text/html": [
       "<div>\n",
       "<style scoped>\n",
       "    .dataframe tbody tr th:only-of-type {\n",
       "        vertical-align: middle;\n",
       "    }\n",
       "\n",
       "    .dataframe tbody tr th {\n",
       "        vertical-align: top;\n",
       "    }\n",
       "\n",
       "    .dataframe thead th {\n",
       "        text-align: right;\n",
       "    }\n",
       "</style>\n",
       "<table border=\"1\" class=\"dataframe\">\n",
       "  <thead>\n",
       "    <tr style=\"text-align: right;\">\n",
       "      <th></th>\n",
       "      <th>name</th>\n",
       "      <th>surname</th>\n",
       "    </tr>\n",
       "  </thead>\n",
       "  <tbody>\n",
       "    <tr>\n",
       "      <th>0</th>\n",
       "      <td>Bobby</td>\n",
       "      <td>Riggs</td>\n",
       "    </tr>\n",
       "    <tr>\n",
       "      <th>417</th>\n",
       "      <td>Robin</td>\n",
       "      <td>White</td>\n",
       "    </tr>\n",
       "    <tr>\n",
       "      <th>2687</th>\n",
       "      <td>Di</td>\n",
       "      <td>Zhao</td>\n",
       "    </tr>\n",
       "    <tr>\n",
       "      <th>3660</th>\n",
       "      <td>J</td>\n",
       "      <td>Tobin</td>\n",
       "    </tr>\n",
       "    <tr>\n",
       "      <th>3918</th>\n",
       "      <td>Yi</td>\n",
       "      <td>Liu</td>\n",
       "    </tr>\n",
       "    <tr>\n",
       "      <th>...</th>\n",
       "      <td>...</td>\n",
       "      <td>...</td>\n",
       "    </tr>\n",
       "    <tr>\n",
       "      <th>44222</th>\n",
       "      <td>NaN</td>\n",
       "      <td>Beckert</td>\n",
       "    </tr>\n",
       "    <tr>\n",
       "      <th>45538</th>\n",
       "      <td>J</td>\n",
       "      <td>Lambert</td>\n",
       "    </tr>\n",
       "    <tr>\n",
       "      <th>45597</th>\n",
       "      <td>J</td>\n",
       "      <td>Young</td>\n",
       "    </tr>\n",
       "    <tr>\n",
       "      <th>45658</th>\n",
       "      <td>M</td>\n",
       "      <td>Noble</td>\n",
       "    </tr>\n",
       "    <tr>\n",
       "      <th>45679</th>\n",
       "      <td>M</td>\n",
       "      <td>Hamilton</td>\n",
       "    </tr>\n",
       "  </tbody>\n",
       "</table>\n",
       "<p>74 rows × 2 columns</p>\n",
       "</div>"
      ],
      "text/plain": [
       "        name   surname\n",
       "0      Bobby     Riggs\n",
       "417    Robin     White\n",
       "2687      Di      Zhao\n",
       "3660       J     Tobin\n",
       "3918      Yi       Liu\n",
       "...      ...       ...\n",
       "44222    NaN   Beckert\n",
       "45538      J   Lambert\n",
       "45597      J     Young\n",
       "45658      M     Noble\n",
       "45679      M  Hamilton\n",
       "\n",
       "[74 rows x 2 columns]"
      ]
     },
     "execution_count": 16,
     "metadata": {},
     "output_type": "execute_result"
    }
   ],
   "source": [
    "#see if a name can be both male and female and manage them\n",
    "df_players = pd.concat([df_male, df_female])\n",
    "df_players[df_players.duplicated(keep='first')==True]"
   ]
  },
  {
   "cell_type": "code",
   "execution_count": 17,
   "id": "f38e7275",
   "metadata": {},
   "outputs": [
    {
     "data": {
      "text/plain": [
       "74"
      ]
     },
     "execution_count": 17,
     "metadata": {},
     "output_type": "execute_result"
    }
   ],
   "source": [
    "df_players.duplicated(keep='first').sum()"
   ]
  },
  {
   "cell_type": "markdown",
   "id": "cb6d0dee",
   "metadata": {},
   "source": [
    "So, there are 74 names for both players male and female."
   ]
  },
  {
   "cell_type": "code",
   "execution_count": 18,
   "id": "cc6404cd",
   "metadata": {},
   "outputs": [
    {
     "data": {
      "text/html": [
       "<div>\n",
       "<style scoped>\n",
       "    .dataframe tbody tr th:only-of-type {\n",
       "        vertical-align: middle;\n",
       "    }\n",
       "\n",
       "    .dataframe tbody tr th {\n",
       "        vertical-align: top;\n",
       "    }\n",
       "\n",
       "    .dataframe thead th {\n",
       "        text-align: right;\n",
       "    }\n",
       "</style>\n",
       "<table border=\"1\" class=\"dataframe\">\n",
       "  <thead>\n",
       "    <tr style=\"text-align: right;\">\n",
       "      <th></th>\n",
       "      <th>name</th>\n",
       "      <th>surname</th>\n",
       "    </tr>\n",
       "  </thead>\n",
       "  <tbody>\n",
       "    <tr>\n",
       "      <th>0</th>\n",
       "      <td>Bobby</td>\n",
       "      <td>Riggs</td>\n",
       "    </tr>\n",
       "    <tr>\n",
       "      <th>417</th>\n",
       "      <td>Robin</td>\n",
       "      <td>White</td>\n",
       "    </tr>\n",
       "    <tr>\n",
       "      <th>2687</th>\n",
       "      <td>Di</td>\n",
       "      <td>Zhao</td>\n",
       "    </tr>\n",
       "    <tr>\n",
       "      <th>3660</th>\n",
       "      <td>J</td>\n",
       "      <td>Tobin</td>\n",
       "    </tr>\n",
       "    <tr>\n",
       "      <th>3918</th>\n",
       "      <td>Yi</td>\n",
       "      <td>Liu</td>\n",
       "    </tr>\n",
       "    <tr>\n",
       "      <th>...</th>\n",
       "      <td>...</td>\n",
       "      <td>...</td>\n",
       "    </tr>\n",
       "    <tr>\n",
       "      <th>44222</th>\n",
       "      <td>NaN</td>\n",
       "      <td>Beckert</td>\n",
       "    </tr>\n",
       "    <tr>\n",
       "      <th>45538</th>\n",
       "      <td>J</td>\n",
       "      <td>Lambert</td>\n",
       "    </tr>\n",
       "    <tr>\n",
       "      <th>45597</th>\n",
       "      <td>J</td>\n",
       "      <td>Young</td>\n",
       "    </tr>\n",
       "    <tr>\n",
       "      <th>45658</th>\n",
       "      <td>M</td>\n",
       "      <td>Noble</td>\n",
       "    </tr>\n",
       "    <tr>\n",
       "      <th>45679</th>\n",
       "      <td>M</td>\n",
       "      <td>Hamilton</td>\n",
       "    </tr>\n",
       "  </tbody>\n",
       "</table>\n",
       "<p>74 rows × 2 columns</p>\n",
       "</div>"
      ],
      "text/plain": [
       "        name   surname\n",
       "0      Bobby     Riggs\n",
       "417    Robin     White\n",
       "2687      Di      Zhao\n",
       "3660       J     Tobin\n",
       "3918      Yi       Liu\n",
       "...      ...       ...\n",
       "44222    NaN   Beckert\n",
       "45538      J   Lambert\n",
       "45597      J     Young\n",
       "45658      M     Noble\n",
       "45679      M  Hamilton\n",
       "\n",
       "[74 rows x 2 columns]"
      ]
     },
     "execution_count": 18,
     "metadata": {},
     "output_type": "execute_result"
    }
   ],
   "source": [
    "df_players[df_players.duplicated(subset=['name', 'surname'], keep='first')==True]"
   ]
  },
  {
   "cell_type": "code",
   "execution_count": 19,
   "id": "bc83a1c9",
   "metadata": {},
   "outputs": [
    {
     "data": {
      "text/plain": [
       "309"
      ]
     },
     "execution_count": 19,
     "metadata": {},
     "output_type": "execute_result"
    }
   ],
   "source": [
    "#check if there are duplicated rows in the dataset\n",
    "df_tennis.duplicated(keep='first').sum()"
   ]
  },
  {
   "cell_type": "code",
   "execution_count": 20,
   "id": "6e284c55",
   "metadata": {},
   "outputs": [],
   "source": [
    "#we remove these duplicates because they contain the same information\n",
    "df_tennis = df_tennis.drop_duplicates()"
   ]
  },
  {
   "cell_type": "markdown",
   "id": "edc905e9",
   "metadata": {},
   "source": [
    "## Noise, outliers and data quality (data visualization here)"
   ]
  },
  {
   "cell_type": "markdown",
   "id": "51f806ee",
   "metadata": {},
   "source": [
    "### Categorical data"
   ]
  },
  {
   "cell_type": "code",
   "execution_count": 21,
   "id": "6cc06740",
   "metadata": {},
   "outputs": [
    {
     "name": "stdout",
     "output_type": "stream",
     "text": [
      "Distinct Values in tourney_id: \n",
      " ['2019-M020' '2019-0451' '2019-0891' ... '2020-W-ITF-USA-47A-2020'\n",
      " '2020-W-ITF-USA-48A-2020' nan] \n",
      "\n",
      "Distinct Values in tourney_name: \n",
      " ['Brisbane' 'Doha' 'Pune' ... 'W100 Nicholasville KY' 'W25 Las Vegas NV'\n",
      " nan] \n",
      "\n",
      "Distinct Values in surface: \n",
      " ['Hard' 'Clay' 'Grass' 'Carpet' nan] \n",
      "\n",
      "Distinct Values in tourney_level: \n",
      " ['A' 'P' 'G' 'I' 'M' 'PM' 'F' 'D' 'C' '15' '25' '60' '100' '80' '10' '50'\n",
      " '75' 'O' 'W' nan] \n",
      "\n",
      "Distinct Values in winner_entry: \n",
      " [nan 'PR' 'Q' 'WC' 'Alt' 'LL' 'SE' 'ALT' 'SR' 'JE' 'A' 'ITF' 'P' 'I' 'IR'\n",
      " 'JR'] \n",
      "\n",
      "Distinct Values in winner_name: \n",
      " ['Kei Nishikori' 'Daniil Medvedev' 'Jo-Wilfried Tsonga' ... 'Sultan Gonen'\n",
      " 'Viktoria Veleva' nan] \n",
      "\n",
      "Distinct Values in winner_hand: \n",
      " ['R' 'L' 'U' nan] \n",
      "\n",
      "Distinct Values in winner_ioc: \n",
      " ['JPN' 'RUS' 'FRA' 'AUS' 'CAN' 'BUL' 'GBR' 'SRB' 'USA' 'LAT' 'CZE' 'EST'\n",
      " 'UKR' 'NED' 'CRO' 'BLR' 'CHI' 'SUI' 'POL' 'GER' 'LUX' 'ESP' 'ITA' 'GEO'\n",
      " 'HUN' 'LTU' 'ARG' 'CYP' 'BIH' 'RSA' 'BEL' 'TUN' 'IND' 'BRA' 'AUT' 'POR'\n",
      " 'NZL' 'URU' 'GRE' 'SVK' 'TPE' 'KAZ' 'PUR' 'KOR' 'ROU' 'MDA' 'SLO' 'CHN'\n",
      " 'SWE' 'DEN' 'TUR' 'ESA' 'BAR' 'UZB' 'MNE' 'BOL' 'NOR' 'ECU' 'MEX' 'COL'\n",
      " 'LIE' 'ISR' 'PAR' 'DOM' 'FIN' 'GUA' 'PER' 'INA' 'THA' 'PHI' 'EGY' 'ALG'\n",
      " 'ZIM' 'PAK' 'MAR' 'HKG' 'IRL' 'LIB' 'SRI' 'VEN' 'MKD' 'PNG' 'SIN' 'GRN'\n",
      " 'BAH' 'CUB' 'TRI' 'OMA' 'MLT' 'KGZ' 'MAS' 'BDI' 'MRI' 'SAM' 'KEN' 'ARM'\n",
      " 'NAM' 'REU' 'UNK' 'MON' 'HAI' 'VIE' 'HON' 'PAN' 'CRC' 'SGP' 'TJK' 'POC'\n",
      " 'IRI' 'PHL' 'MGL' 'GUM' 'GAB' 'NGR' 'GUD' 'CAM' 'CMR' 'KUW' 'MAD' 'DEU'\n",
      " 'AND' 'NLD' 'NGA' 'GRC' nan] \n",
      "\n",
      "Distinct Values in loser_entry: \n",
      " [nan 'PR' 'Q' 'LL' 'WC' 'Alt' 'A' 'SE' 'ALT' 'SR' 'JE' '3' '4' '6' 'ITF'\n",
      " 'I' 'P' 'J' 'IR' 'JR'] \n",
      "\n",
      "Distinct Values in loser_name: \n",
      " ['Daniil Medvedev' 'Jo-Wilfried Tsonga' 'Jeremy Chardy' ... 'Amy Huang'\n",
      " 'Chloe Henderson' nan] \n",
      "\n",
      "Distinct Values in loser_hand: \n",
      " ['R' 'L' 'U' nan] \n",
      "\n",
      "Distinct Values in loser_ioc: \n",
      " ['RUS' 'FRA' 'AUS' 'CAN' 'JPN' 'BUL' 'GBR' 'SRB' 'USA' 'ARG' 'SLO' 'GER'\n",
      " 'ESP' 'ROU' 'KAZ' 'CZE' 'BEL' 'SVK' 'NED' 'UKR' 'LAT' 'EST' 'BLR' 'CRO'\n",
      " 'CHI' 'SUI' 'POL' 'LUX' 'ITA' 'GEO' 'HUN' 'LTU' 'BIH' 'QAT' 'TUR' 'AUT'\n",
      " 'CYP' 'TUN' 'IND' 'KOR' 'UZB' 'MDA' 'BRA' 'POR' 'TPE' 'ESA' 'NZL' 'URU'\n",
      " 'GRE' 'PUR' 'RSA' 'CHN' 'THA' 'SWE' 'DEN' 'COL' 'DOM' 'NOR' 'EGY' 'BAR'\n",
      " 'LIE' 'PAR' 'MNE' 'BOL' 'ECU' 'MEX' 'IRL' 'ISR' 'ALG' 'MON' 'FIN' 'VEN'\n",
      " 'LIB' 'GUA' 'PER' 'INA' 'PHI' 'HKG' 'MAR' 'ZIM' 'IRI' 'SRI' 'PAK' 'MKD'\n",
      " 'KGZ' 'ARM' 'PNG' 'SIN' 'BAH' 'TTO' 'GRN' 'TRI' 'CRC' 'CUB' 'OMA' 'MAS'\n",
      " 'PAN' 'CMR' 'MLT' 'LBN' 'BDI' 'NGR' 'MRI' 'GAB' 'AZE' 'BRN' 'SAM' 'JAM'\n",
      " 'KEN' 'GHA' 'MGL' 'JOR' 'GUD' 'REU' 'MAD' 'NAM' 'MRN' 'VIE' 'SYR' 'UNK'\n",
      " 'SGP' 'UAE' 'AHO' 'BEN' 'HAI' 'ERI' 'ITF' 'COD' 'LBA' 'HON' 'TKM' 'TJK'\n",
      " 'POC' 'BER' 'AND' 'SMR' 'PHL' 'ANT' 'TOG' 'GUM' 'VIN' 'BOT' 'CAM' 'ZAM'\n",
      " 'KUW' 'DEU' 'SAU' 'NGA' 'BGR' 'NLD' 'LVA' 'GRC' 'CRI' 'BAN' nan] \n",
      "\n",
      "Distinct Values in score: \n",
      " ['6-4 3-6 6-2' '7-6(6) 6-2' '6-2 6-2' ... '7-6(6) 5-7 10-6'\n",
      " '6-2 6-7(4) 10-8' '7-6(4) 2-6 10-5'] \n",
      "\n",
      "Distinct Values in round: \n",
      " ['F' 'SF' 'QF' 'R16' 'R32' 'Q1' 'Q2' 'Q3' 'R64' 'R128' 'RR' 'BR' nan] \n",
      "\n"
     ]
    }
   ],
   "source": [
    "#Values in the columns with type object\n",
    "for column in df_tennis.columns:\n",
    "    if df_tennis[column].dtypes == \"object\":\n",
    "        print(\"Distinct Values in \"+str(column)+\": \\n\", df_tennis[column].unique(), \"\\n\")"
   ]
  },
  {
   "cell_type": "code",
   "execution_count": null,
   "id": "aab22816",
   "metadata": {},
   "outputs": [],
   "source": []
  },
  {
   "cell_type": "code",
   "execution_count": null,
   "id": "00abc9cb",
   "metadata": {},
   "outputs": [],
   "source": []
  },
  {
   "cell_type": "markdown",
   "id": "1295cd75",
   "metadata": {},
   "source": [
    "### Numeric data"
   ]
  },
  {
   "cell_type": "code",
   "execution_count": null,
   "id": "149eb182",
   "metadata": {},
   "outputs": [],
   "source": []
  },
  {
   "cell_type": "code",
   "execution_count": null,
   "id": "5df0d72e",
   "metadata": {},
   "outputs": [],
   "source": []
  },
  {
   "cell_type": "markdown",
   "id": "e89eee1f",
   "metadata": {},
   "source": [
    "## Missing values: default value"
   ]
  },
  {
   "cell_type": "code",
   "execution_count": null,
   "id": "48f8a6ae",
   "metadata": {},
   "outputs": [],
   "source": []
  },
  {
   "cell_type": "code",
   "execution_count": null,
   "id": "23d47a84",
   "metadata": {},
   "outputs": [],
   "source": []
  },
  {
   "cell_type": "markdown",
   "id": "82d1584c",
   "metadata": {},
   "source": [
    "## Correlation"
   ]
  },
  {
   "cell_type": "code",
   "execution_count": null,
   "id": "be9c2987",
   "metadata": {},
   "outputs": [],
   "source": []
  },
  {
   "cell_type": "code",
   "execution_count": null,
   "id": "f403a7a2",
   "metadata": {},
   "outputs": [],
   "source": []
  },
  {
   "cell_type": "markdown",
   "id": "cfcb97d6",
   "metadata": {},
   "source": [
    "## Statistics/distributions"
   ]
  },
  {
   "cell_type": "code",
   "execution_count": null,
   "id": "16e2ed55",
   "metadata": {},
   "outputs": [],
   "source": []
  },
  {
   "cell_type": "code",
   "execution_count": 22,
   "id": "e3191859",
   "metadata": {},
   "outputs": [],
   "source": [
    "#some statistics\n",
    "#df_tennis.describe()"
   ]
  }
 ],
 "metadata": {
  "kernelspec": {
   "display_name": "Python 3 (ipykernel)",
   "language": "python",
   "name": "python3"
  },
  "language_info": {
   "codemirror_mode": {
    "name": "ipython",
    "version": 3
   },
   "file_extension": ".py",
   "mimetype": "text/x-python",
   "name": "python",
   "nbconvert_exporter": "python",
   "pygments_lexer": "ipython3",
   "version": "3.9.5"
  }
 },
 "nbformat": 4,
 "nbformat_minor": 5
}
