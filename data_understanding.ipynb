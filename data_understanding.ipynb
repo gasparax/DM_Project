{
 "cells": [
  {
   "cell_type": "code",
   "execution_count": 1,
   "id": "98a1d139",
   "metadata": {},
   "outputs": [],
   "source": [
    "import math\n",
    "import numpy as np\n",
    "import scipy.stats as stats\n",
    "import matplotlib.pyplot as plt\n",
    "from sklearn.decomposition import PCA\n",
    "\n",
    "import collections\n",
    "from scipy.stats.stats import pearsonr\n",
    "import pandas as pd\n",
    "import os\n",
    "from datetime import date\n",
    "\n",
    "import seaborn as sns"
   ]
  },
  {
   "cell_type": "code",
   "execution_count": 2,
   "id": "a908420f",
   "metadata": {},
   "outputs": [],
   "source": [
    "# load of the data\n",
    "DATASET_DIR = \"dataset\" + os.path.sep\n",
    "df_tennis = pd.read_csv(DATASET_DIR + 'tennis_matches.csv', sep=',', index_col=0) \n",
    "\n",
    "#index_col=False say to not use the first column as ID\n",
    "df_male = pd.read_csv(DATASET_DIR + 'male_players.csv', sep=',', index_col=False)\n",
    "df_female = pd.read_csv(DATASET_DIR + 'female_players.csv', sep=',', index_col=False) "
   ]
  },
  {
   "cell_type": "markdown",
   "id": "625e9d96",
   "metadata": {},
   "source": [
    "# Data understanding"
   ]
  },
  {
   "cell_type": "markdown",
   "id": "80d511ae",
   "metadata": {},
   "source": [
    "## Print some records of the datasets"
   ]
  },
  {
   "cell_type": "code",
   "execution_count": null,
   "id": "7da9b707",
   "metadata": {},
   "outputs": [],
   "source": [
    "df_tennis.head()"
   ]
  },
  {
   "cell_type": "code",
   "execution_count": null,
   "id": "4d7a8ca8",
   "metadata": {},
   "outputs": [],
   "source": [
    "df_male.head()"
   ]
  },
  {
   "cell_type": "code",
   "execution_count": null,
   "id": "11d16092",
   "metadata": {},
   "outputs": [],
   "source": [
    "df_female.head()"
   ]
  },
  {
   "cell_type": "markdown",
   "id": "dfcd2dc7",
   "metadata": {},
   "source": [
    "## Missing values: Null"
   ]
  },
  {
   "cell_type": "code",
   "execution_count": null,
   "id": "33d8eddc",
   "metadata": {},
   "outputs": [],
   "source": [
    "#info about data that we have for male\n",
    "df_male.info()"
   ]
  },
  {
   "cell_type": "code",
   "execution_count": null,
   "id": "9df3aef0",
   "metadata": {},
   "outputs": [],
   "source": [
    "#number of null in the columns\n",
    "df_male.isnull().sum(axis = 0)"
   ]
  },
  {
   "cell_type": "code",
   "execution_count": null,
   "id": "6eb11a73",
   "metadata": {},
   "outputs": [],
   "source": [
    "df_male.isnull().sum(axis = 0).plot(kind='bar', ylabel=\"number of nulls\")"
   ]
  },
  {
   "cell_type": "markdown",
   "id": "c0595058",
   "metadata": {},
   "source": [
    "So, the male dataframe has 2 columns: name and surname. It has 55208 entries and about 200 null values in total."
   ]
  },
  {
   "cell_type": "code",
   "execution_count": null,
   "id": "96baa8e2",
   "metadata": {},
   "outputs": [],
   "source": [
    "#info about data that we have for female\n",
    "df_female.info()"
   ]
  },
  {
   "cell_type": "code",
   "execution_count": null,
   "id": "1b6f320f",
   "metadata": {},
   "outputs": [],
   "source": [
    "#number of null in the columns\n",
    "df_female.isnull().sum(axis = 0)"
   ]
  },
  {
   "cell_type": "code",
   "execution_count": null,
   "id": "f93db8b4",
   "metadata": {},
   "outputs": [],
   "source": [
    "df_female.isnull().sum(axis = 0).plot(kind='bar', ylabel=\"number of nulls\")"
   ]
  },
  {
   "cell_type": "markdown",
   "id": "79296869",
   "metadata": {},
   "source": [
    "So, the female dataframe has 2 columns: name and surname. It has 46172  entries and 1667 null values in the name, but the surname is never null."
   ]
  },
  {
   "cell_type": "code",
   "execution_count": null,
   "id": "da8b2be2",
   "metadata": {},
   "outputs": [],
   "source": [
    "df_tennis.info()"
   ]
  },
  {
   "cell_type": "code",
   "execution_count": null,
   "id": "68eb3dfe",
   "metadata": {
    "scrolled": false
   },
   "outputs": [],
   "source": [
    "#we see if the attributes have some null values\n",
    "df_tennis.isnull().any()"
   ]
  },
  {
   "cell_type": "code",
   "execution_count": null,
   "id": "7baec242",
   "metadata": {},
   "outputs": [],
   "source": [
    "#since all the attributes has missing values, we count them\n",
    "df_tennis.isnull().sum(axis = 0)"
   ]
  },
  {
   "cell_type": "markdown",
   "id": "692a4620",
   "metadata": {},
   "source": [
    "We can notice that some attributes have very few null values, but other attributes has more than 50% of null values"
   ]
  },
  {
   "cell_type": "code",
   "execution_count": null,
   "id": "9f5170cb",
   "metadata": {},
   "outputs": [],
   "source": [
    "df_tennis.isnull().sum(axis = 0).hist(bins=8, grid=False)"
   ]
  },
  {
   "cell_type": "markdown",
   "id": "c78ac53b",
   "metadata": {},
   "source": [
    "## Duplicate data"
   ]
  },
  {
   "cell_type": "code",
   "execution_count": null,
   "id": "09f655da",
   "metadata": {},
   "outputs": [],
   "source": [
    "#we see if there are duplicates in the dataset male and female\n",
    "df_male.duplicated(keep='first').sum()"
   ]
  },
  {
   "cell_type": "code",
   "execution_count": null,
   "id": "862d6e9e",
   "metadata": {},
   "outputs": [],
   "source": [
    "df_female.duplicated(keep='first').sum()"
   ]
  },
  {
   "cell_type": "markdown",
   "id": "458ff006",
   "metadata": {},
   "source": [
    "So, both the datasets of male and female has rows with same name and surname. These rows can be duplicates (so they correspond to the same person) or they can be homonyms. In this latter case we cannot distinguish the matches of one player by the ones of the other player."
   ]
  },
  {
   "cell_type": "code",
   "execution_count": null,
   "id": "f8e225b5",
   "metadata": {},
   "outputs": [],
   "source": [
    "#we remove (only) the duplicated rows\n",
    "df_male_no_dup = df_male.drop_duplicates()\n",
    "df_female_no_dup = df_female.drop_duplicates()"
   ]
  },
  {
   "cell_type": "code",
   "execution_count": null,
   "id": "3c22b05c",
   "metadata": {},
   "outputs": [],
   "source": [
    "#see if a name can be both male and female and manage them\n",
    "df_players = pd.concat([df_male_no_dup, df_female_no_dup])\n",
    "df_players[df_players.duplicated(keep='first')==True]"
   ]
  },
  {
   "cell_type": "code",
   "execution_count": null,
   "id": "f38e7275",
   "metadata": {},
   "outputs": [],
   "source": [
    "df_players.duplicated(keep='first').sum()"
   ]
  },
  {
   "cell_type": "markdown",
   "id": "cb6d0dee",
   "metadata": {},
   "source": [
    "So, there are 74 names for both players male and female."
   ]
  },
  {
   "cell_type": "code",
   "execution_count": null,
   "id": "cc6404cd",
   "metadata": {},
   "outputs": [],
   "source": [
    "df_players[df_players.duplicated(subset=['name', 'surname'], keep='first')==True]"
   ]
  },
  {
   "cell_type": "code",
   "execution_count": null,
   "id": "bc83a1c9",
   "metadata": {},
   "outputs": [],
   "source": [
    "#check if there are duplicated rows in the dataset\n",
    "df_tennis.duplicated(keep='first').sum()"
   ]
  },
  {
   "cell_type": "markdown",
   "id": "edc905e9",
   "metadata": {},
   "source": [
    "## Noise, outliers and data quality (data visualization here)"
   ]
  },
  {
   "cell_type": "markdown",
   "id": "29f1f0a3",
   "metadata": {},
   "source": [
    "|  Categorical  |   Ordinal   |      Numerical     | Ratio-Scaled |\n",
    "|:-------------:|:-----------:|:------------------:|:------------:|\n",
    "|   tournay_id  |  match_num  |      draw_size     |   winner_ht  |\n",
    "|  tournay_name | winner_rank |       minutes      |  winner_age  |\n",
    "|    surface    |             |     winner_ace     |              |\n",
    "| tournay_level |             |      winner_df     |              |\n",
    "|   winner_id   |             |     winner_svpt    |              |\n",
    "|   winner_ioc  |             |    winner_1stln    |              |\n",
    "|  winner_hand  |             |    winner_1stwon   |              |\n",
    "|  winner_entry |             |    winner_2stwon   |              |\n",
    "|    best_of    |             |       w_svgms      |              |\n",
    "|               |             | winner_rank_points |              |\n",
    "|               |             |      w_bdsaved     |              |\n",
    "|               |             |      w_bdfaced     |              |"
   ]
  },
  {
   "cell_type": "markdown",
   "id": "b3280ad7",
   "metadata": {},
   "source": [
    "For each winner attribute there is the loser counterpart"
   ]
  },
  {
   "cell_type": "markdown",
   "id": "91e9cf71",
   "metadata": {},
   "source": [
    "### Invalid characters in names and surnames "
   ]
  },
  {
   "cell_type": "code",
   "execution_count": null,
   "id": "1ee71433",
   "metadata": {},
   "outputs": [],
   "source": [
    "#TO DO: Check that the names in female are for female and not male and viceversa"
   ]
  },
  {
   "cell_type": "code",
   "execution_count": null,
   "id": "6a65e8f1",
   "metadata": {},
   "outputs": [],
   "source": []
  },
  {
   "cell_type": "code",
   "execution_count": null,
   "id": "92e4c215",
   "metadata": {},
   "outputs": [],
   "source": [
    "#see if all the names and surnames are valid (only letters)\n",
    "df_male[df_male['surname'].str.count(\"[a-zA-Z '.-]\")!=df_male['surname'].str.len()]"
   ]
  },
  {
   "cell_type": "code",
   "execution_count": null,
   "id": "9011bf3d",
   "metadata": {},
   "outputs": [],
   "source": [
    "df_male[df_male['name'].str.count(\"[a-zA-Z ',.-]\")!=df_male['name'].str.len()]"
   ]
  },
  {
   "cell_type": "code",
   "execution_count": null,
   "id": "56b6b4a2",
   "metadata": {},
   "outputs": [],
   "source": [
    "df_check_name = df_male[~df_male['name'].isna()]\n",
    "df_check_name[df_check_name['name'].str.contains(',')]"
   ]
  },
  {
   "cell_type": "code",
   "execution_count": null,
   "id": "4719d811",
   "metadata": {},
   "outputs": [],
   "source": [
    "df_female[df_female['surname'].str.count(\"[a-zA-Z '.-]\")!=df_female['surname'].str.len()]"
   ]
  },
  {
   "cell_type": "code",
   "execution_count": null,
   "id": "e0effe77",
   "metadata": {},
   "outputs": [],
   "source": [
    "df_female[df_female['name'].str.count(\"[a-zA-Z ',.-]\")!=df_female['name'].str.len()]"
   ]
  },
  {
   "cell_type": "code",
   "execution_count": null,
   "id": "19aad308",
   "metadata": {},
   "outputs": [],
   "source": [
    "df_check_name = df_female[~df_female['name'].isna()]\n",
    "df_check_name[df_check_name['name'].str.contains(',')]"
   ]
  },
  {
   "cell_type": "markdown",
   "id": "6dc21a6c",
   "metadata": {},
   "source": [
    "So, in the male and female datasets we have some invalid names and surnames because of numbers, special characters of null values.\n",
    "\n",
    "NOTE: \"40071 \tJason \"Jj\",Belan \tNaN\" is an error because Belan is the surname but pandas has not divided the name by the surname (male). Correction in the data preparation"
   ]
  },
  {
   "cell_type": "markdown",
   "id": "7d76bc67",
   "metadata": {},
   "source": [
    "### Analysis of tennis dataset"
   ]
  },
  {
   "cell_type": "code",
   "execution_count": null,
   "id": "9aa8967c",
   "metadata": {},
   "outputs": [],
   "source": [
    "df_tennis.dtypes.value_counts()"
   ]
  },
  {
   "cell_type": "code",
   "execution_count": null,
   "id": "6cc06740",
   "metadata": {},
   "outputs": [],
   "source": [
    "#Values in the columns with type object\n",
    "for column in df_tennis.select_dtypes(include=['object']).columns:\n",
    "    print(\"Distinct Values in \"+str(column)+\": \\n\", df_tennis[column].unique(), \"\\n\")"
   ]
  },
  {
   "cell_type": "markdown",
   "id": "f55273fe",
   "metadata": {},
   "source": [
    "#### tourney_id"
   ]
  },
  {
   "cell_type": "code",
   "execution_count": null,
   "id": "7ecaeee8",
   "metadata": {},
   "outputs": [],
   "source": [
    "#check that for non null values, the first 4 char are the year\n",
    "#count rows whose firts 4 char are not numbers\n",
    "df_tennis[df_tennis['tourney_id'].str[:4].str.isnumeric()==False].shape[0] "
   ]
  },
  {
   "cell_type": "code",
   "execution_count": null,
   "id": "07b7cf51",
   "metadata": {},
   "outputs": [],
   "source": [
    "#chech if some years are in the future (so are invalid)(ignore nulls)\n",
    "df_tennis[pd.to_numeric(df_tennis['tourney_id'].str[:4]).fillna(0).astype('int') > date.today().year].shape[0] "
   ]
  },
  {
   "cell_type": "code",
   "execution_count": null,
   "id": "f168ffe5",
   "metadata": {},
   "outputs": [],
   "source": [
    "#chech if there are invalid years because to much in the past (ignore nulls)\n",
    "df_tennis[pd.to_numeric(df_tennis['tourney_id'].str[:4]).fillna(date.today().year).astype('int') < 1874 ].shape[0] "
   ]
  },
  {
   "cell_type": "markdown",
   "id": "9c859371",
   "metadata": {},
   "source": [
    "So, the first 4 numbers in the tourney_id are always valid when the tourney_id id not null"
   ]
  },
  {
   "cell_type": "code",
   "execution_count": null,
   "id": "688e4e36",
   "metadata": {},
   "outputs": [],
   "source": [
    "#chech that for each tourney there is more than one match (every id appears more than once)\n",
    "df_tennis[df_tennis['tourney_id'].duplicated(keep=False)==False].shape[0] "
   ]
  },
  {
   "cell_type": "markdown",
   "id": "666d0995",
   "metadata": {},
   "source": [
    "So, every torney_id appears more than once"
   ]
  },
  {
   "cell_type": "code",
   "execution_count": null,
   "id": "7aadc5f8",
   "metadata": {},
   "outputs": [],
   "source": [
    "#check how many distinct tourney are present\n",
    "df_tennis[\"tourney_id\"].value_counts().count()"
   ]
  },
  {
   "cell_type": "markdown",
   "id": "84a9e81d",
   "metadata": {},
   "source": [
    "#### tourney_name"
   ]
  },
  {
   "cell_type": "code",
   "execution_count": null,
   "id": "05e18cf9",
   "metadata": {},
   "outputs": [],
   "source": [
    "#chech that for the same tourney_id we have always the same name\n",
    "len(df_tennis.groupby(['tourney_id','tourney_name']).size())-len(df_tennis.groupby(['tourney_id']).size())"
   ]
  },
  {
   "cell_type": "code",
   "execution_count": null,
   "id": "d02321dc",
   "metadata": {},
   "outputs": [],
   "source": [
    "len(df_tennis.groupby(['tourney_name','tourney_id']).size())-len(df_tennis.groupby(['tourney_name']).size())"
   ]
  },
  {
   "cell_type": "markdown",
   "id": "2d480def",
   "metadata": {},
   "source": [
    "For a certain tourney_id we may have more tourney_names, so we should manage these names for example to remove errors from some rows. For a tourney_name we can have more tourney_ids."
   ]
  },
  {
   "cell_type": "code",
   "execution_count": null,
   "id": "9af839d4",
   "metadata": {},
   "outputs": [],
   "source": [
    "#len(df_tennis[\"tourney_name\"].unique()) #consider also the nan\n",
    "df_tennis[\"tourney_name\"].value_counts().count() #do not consider also the nan"
   ]
  },
  {
   "cell_type": "markdown",
   "id": "30ca7383",
   "metadata": {},
   "source": [
    "#### tourney_level"
   ]
  },
  {
   "cell_type": "code",
   "execution_count": null,
   "id": "c723dab7",
   "metadata": {},
   "outputs": [],
   "source": [
    "#TO DO: check that tourney level for male are associated to tourney with male players (same for female).\n",
    "#explain also the meanings of the levels"
   ]
  },
  {
   "cell_type": "code",
   "execution_count": null,
   "id": "4b3f56ad",
   "metadata": {},
   "outputs": [],
   "source": []
  },
  {
   "cell_type": "code",
   "execution_count": null,
   "id": "1e0a778b",
   "metadata": {},
   "outputs": [],
   "source": [
    "levels_man = ['G', 'M', 'A', 'C', 'S', 'F', 'D']"
   ]
  },
  {
   "cell_type": "code",
   "execution_count": null,
   "id": "955b178d",
   "metadata": {},
   "outputs": [],
   "source": [
    "levels_woman = levels_man + ['P', 'PM', 'I', 'T1']\n",
    "levels_woman_man = ['E','J','T'] #not present in the dataset yet (documentation)\n",
    "all_levels = levels_man + levels_woman + levels_woman_man"
   ]
  },
  {
   "cell_type": "code",
   "execution_count": null,
   "id": "db950ce8",
   "metadata": {},
   "outputs": [],
   "source": [
    "#check what are other codes that can appear (for women)\n",
    "df_other_levels = df_tennis[~df_tennis['tourney_level'].isin(all_levels)]\n",
    "#get codes about the prize money\n",
    "df_other_levels[df_other_levels['tourney_level'].str.isnumeric()==True]['tourney_level'].unique()"
   ]
  },
  {
   "cell_type": "markdown",
   "id": "2725152b",
   "metadata": {},
   "source": [
    "These are the numeric codes that appear in the dataset"
   ]
  },
  {
   "cell_type": "code",
   "execution_count": null,
   "id": "08488749",
   "metadata": {},
   "outputs": [],
   "source": [
    "#get the other codes not cited in the document and that are not prize\n",
    "df_other_levels[df_other_levels['tourney_level'].str.isnumeric()==False]['tourney_level'].unique()"
   ]
  },
  {
   "cell_type": "markdown",
   "id": "f028ad1b",
   "metadata": {},
   "source": [
    "We have 2 more codes respect the one expressely indicated by the documentation"
   ]
  },
  {
   "cell_type": "code",
   "execution_count": null,
   "id": "989201cc",
   "metadata": {},
   "outputs": [],
   "source": [
    "#check if there are at least one row for each cited code\n",
    "list(set(all_levels) - set(df_tennis[df_tennis['tourney_level'].str.isnumeric()==False]['tourney_level'].unique()))"
   ]
  },
  {
   "cell_type": "markdown",
   "id": "eb1a82f1",
   "metadata": {},
   "source": [
    "For these codes there are no rows in the dataset"
   ]
  },
  {
   "cell_type": "code",
   "execution_count": null,
   "id": "341152f0",
   "metadata": {},
   "outputs": [],
   "source": [
    "#get the occurrenes of each level\n",
    "df_tennis[\"tourney_level\"].value_counts()"
   ]
  },
  {
   "cell_type": "code",
   "execution_count": null,
   "id": "3846d82b",
   "metadata": {},
   "outputs": [],
   "source": [
    "df_tennis[\"tourney_level\"].value_counts().plot(kind='bar', ylabel=\"number of nulls\")"
   ]
  },
  {
   "cell_type": "markdown",
   "id": "6c40a9db",
   "metadata": {},
   "source": [
    "#### winner_name and loser_name"
   ]
  },
  {
   "cell_type": "code",
   "execution_count": null,
   "id": "52b13a8a",
   "metadata": {},
   "outputs": [],
   "source": [
    "#check that names are valid\n",
    "df_tennis[df_tennis['winner_name'].str.count(\"[a-zA-Z ',.-]\")!=df_tennis['winner_name'].str.len()]['winner_name']"
   ]
  },
  {
   "cell_type": "code",
   "execution_count": null,
   "id": "de89588a",
   "metadata": {},
   "outputs": [],
   "source": [
    "df_tennis[df_tennis['loser_name'].str.count(\"[a-zA-Z ',.-]\")!=df_tennis['loser_name'].str.len()]['loser_name']"
   ]
  },
  {
   "cell_type": "markdown",
   "id": "fbdb1a2a",
   "metadata": {},
   "source": [
    "There are invalid characters in the names of some winners and some losers"
   ]
  },
  {
   "cell_type": "markdown",
   "id": "1f3581e1",
   "metadata": {},
   "source": [
    "#### winner_id and loser_id"
   ]
  },
  {
   "cell_type": "code",
   "execution_count": null,
   "id": "d9cc7c4f",
   "metadata": {},
   "outputs": [],
   "source": [
    "#TO DO: SEE ID A WINER ID IS ASSOCIATED TO MORE WINNER NAMES OR ALWAYS TO THE SAME ONE. SAME FOR LOSER\n",
    "#TO DO: CONTROLLARE CHE GLI ID PER LO STESSO GIOCATORE SIA WINNER E LOSER SONO UGUALI\n",
    "#to do: vedere se gli id vincitore-perdente è uguale"
   ]
  },
  {
   "cell_type": "code",
   "execution_count": null,
   "id": "017dd46c",
   "metadata": {},
   "outputs": [],
   "source": [
    "#check if there are records in whitch the winner_id e loser_id corrispondono\n",
    "def find_match_sameWL():\n",
    "    df_sameWL = df_tennis[df_tennis['winner_id'] == df_tennis['loser_id']][['tourney_id','match_num','winner_id', 'loser_id', 'winner_name', 'loser_name']]\n",
    "    print(df_sameWL.shape[0])\n",
    "    return df_sameWL\n",
    "    \n",
    "find_match_sameWL()"
   ]
  },
  {
   "cell_type": "markdown",
   "id": "7f51171a",
   "metadata": {},
   "source": [
    "There are five records in whitch winner and loser are the same. "
   ]
  },
  {
   "cell_type": "code",
   "execution_count": null,
   "id": "dcbb98a8",
   "metadata": {},
   "outputs": [],
   "source": [
    "#check for duplicate id on winner name\n",
    "w_ids = dict.fromkeys(df_tennis['winner_id'].unique().tolist(), None)\n",
    "duplicate_w_id = {}\n",
    "for w_id in w_ids.keys():\n",
    "    w_names = df_tennis[df_tennis['winner_id'] == w_id]['winner_name'].unique().tolist()\n",
    "    if len(w_names) > 1:\n",
    "        tourney1 = set(df_tennis.loc[(df_tennis['winner_id'] == w_id) &\n",
    "                                (df_tennis['winner_name'] == w_names[0]) ]['tourney_id'].unique())\n",
    "        tourney2 = set(df_tennis.loc[(df_tennis['winner_id'] == w_id) &\n",
    "                                 (df_tennis['winner_name'] == w_names[1])]['tourney_id'].unique())\n",
    "        if len(tourney1.intersection(tourney2)) > 0:\n",
    "            duplicate_w_id[w_id] = w_names\n",
    "duplicate_w_id"
   ]
  },
  {
   "cell_type": "code",
   "execution_count": null,
   "id": "58a06722",
   "metadata": {},
   "outputs": [],
   "source": [
    "#check for duplicate id on loser name\n",
    "l_ids = dict.fromkeys(df_tennis['loser_id'].unique().tolist(), None)\n",
    "duplicate_l_id = {}\n",
    "for l_id in l_ids.keys():\n",
    "    l_names = df_tennis[df_tennis['loser_id'] == w_id]['loser_name'].unique().tolist()\n",
    "    if len(l_names) > 1:\n",
    "        tourney1 = set(df_tennis.loc[(df_tennis['loser_id'] == w_id) &\n",
    "                                (df_tennis['loser_name'] == l_names[0]) ]['tourney_id'].unique())\n",
    "        tourney2 = set(df_tennis.loc[(df_tennis['loser_id'] == w_id) &\n",
    "                                 (df_tennis['loser_name'] == l_names[1])]['tourney_id'].unique())\n",
    "        if len(tourney1.intersection(tourney2)):\n",
    "            duplicate_l_id[l_id] = l_names\n",
    "duplicate_l_id"
   ]
  },
  {
   "cell_type": "code",
   "execution_count": null,
   "id": "fc158df7",
   "metadata": {},
   "outputs": [],
   "source": [
    "df_tennis['winner_id'].value_counts()"
   ]
  },
  {
   "cell_type": "code",
   "execution_count": null,
   "id": "6ebf6f95",
   "metadata": {},
   "outputs": [],
   "source": [
    "df_tennis['loser_id'].value_counts()"
   ]
  },
  {
   "cell_type": "markdown",
   "id": "4e2a6460",
   "metadata": {},
   "source": [
    "#### winner_hand and loser_hand"
   ]
  },
  {
   "cell_type": "code",
   "execution_count": null,
   "id": "deffc354",
   "metadata": {},
   "outputs": [],
   "source": [
    "#check that there are not indicated hand that are invalid (ignore nulls)\n",
    "hand = ['R','L','U']\n",
    "df_tennis[~df_tennis['winner_hand'].fillna('U').str.upper().isin(hand)].shape[0]"
   ]
  },
  {
   "cell_type": "code",
   "execution_count": null,
   "id": "a5410126",
   "metadata": {},
   "outputs": [],
   "source": [
    "df_tennis[~df_tennis['loser_hand'].fillna('U').str.upper().isin(hand)].shape[0]"
   ]
  },
  {
   "cell_type": "code",
   "execution_count": 7,
   "id": "2d4d713d",
   "metadata": {},
   "outputs": [
    {
     "name": "stdout",
     "output_type": "stream",
     "text": [
      "[]\n"
     ]
    }
   ],
   "source": [
    "#check based on id and name\n",
    "errors = []\n",
    "players_ids = df_tennis['winner_id'].dropna().unique().tolist() + df_tennis['loser_id'].dropna().unique().tolist()\n",
    "\n",
    "for player_id in players_ids:\n",
    "    name_players = df_tennis[df_tennis['winner_id']==player_id]['winner_name'].dropna().unique().tolist()\n",
    "    name_players = name_players + df_tennis[df_tennis['loser_id']==player_id]['loser_name'].dropna().unique().tolist()\n",
    "    name_players = list(dict.fromkeys(name_players))\n",
    "    for name in name_players:\n",
    "        hands = df_tennis[df_tennis['winner_name']==name]['winner_hand'].dropna().unique().tolist()\n",
    "        hands = hands + df_tennis[df_tennis['loser_name']==name]['loser_hand'].dropna().unique().tolist()\n",
    "        hands = list(dict.fromkeys(hands))\n",
    "        if len(hands)==3:\n",
    "            errors.append(name)\n",
    "        elif len(hands)==2 and 'U' not in hands:\n",
    "            errors.append(name)\n",
    "            \n",
    "print(errors) #result:[]"
   ]
  },
  {
   "cell_type": "markdown",
   "id": "df735159",
   "metadata": {},
   "source": [
    "There are not invalid entries for the hand of winner or loser. Furthermore thare are not different hands for the same player"
   ]
  },
  {
   "cell_type": "code",
   "execution_count": null,
   "id": "74b1dcf8",
   "metadata": {},
   "outputs": [],
   "source": [
    "index = df_tennis[~df_tennis['winner_hand'].isna()]['winner_hand'].unique()\n",
    "pd.DataFrame({'winner': df_tennis['winner_hand'].value_counts(), 'loser': df_tennis['loser_hand'].value_counts()}, index=index).plot.bar(color=[\"#66ff66\",\"#6666ff\"])"
   ]
  },
  {
   "cell_type": "markdown",
   "id": "e6c4a825",
   "metadata": {},
   "source": [
    "#### winner_ioc and loser_ioc, International Olympic Code validity check"
   ]
  },
  {
   "cell_type": "code",
   "execution_count": null,
   "id": "9c1613a3",
   "metadata": {
    "scrolled": true
   },
   "outputs": [],
   "source": [
    "df_countrycode = pd.read_csv(DATASET_DIR + 'country-codes_csv.csv', sep=',', index_col=False) "
   ]
  },
  {
   "cell_type": "markdown",
   "id": "451de6a4",
   "metadata": {},
   "source": [
    "##### Wrong codes winner_ioc"
   ]
  },
  {
   "cell_type": "code",
   "execution_count": null,
   "id": "6f8f4f7b",
   "metadata": {},
   "outputs": [],
   "source": [
    "w_check_cc = pd.Series(~df_tennis.winner_ioc.isin(df_countrycode.IOC).values, df_tennis.winner_ioc.values)\n",
    "w_check = w_check_cc[w_check_cc].index\n",
    "w_check.value_counts()"
   ]
  },
  {
   "cell_type": "markdown",
   "id": "927390b8",
   "metadata": {},
   "source": [
    "##### Wrong codes loser_ioc"
   ]
  },
  {
   "cell_type": "code",
   "execution_count": null,
   "id": "c53dee53",
   "metadata": {
    "scrolled": true
   },
   "outputs": [],
   "source": [
    "l_check_cc = pd.Series(~df_tennis.loser_ioc.isin(df_countrycode.IOC).values, df_tennis.loser_ioc.values)\n",
    "l_check = l_check_cc[l_check_cc].index\n",
    "l_check.value_counts()"
   ]
  },
  {
   "cell_type": "markdown",
   "id": "9baebabd",
   "metadata": {},
   "source": [
    "We can verify that the list of IOC codes that is incorrect is not in ISO format by mistake."
   ]
  },
  {
   "cell_type": "code",
   "execution_count": null,
   "id": "d958d724",
   "metadata": {},
   "outputs": [],
   "source": [
    "i = w_check.unique()\n",
    "type(i)\n",
    "for c in i:\n",
    "    exist =  df_countrycode[\"ISO3166-1-Alpha-3\"].str.contains('MNE').any()\n",
    "    print(c + \" \" + str(exist))"
   ]
  },
  {
   "cell_type": "code",
   "execution_count": null,
   "id": "37c81cd1",
   "metadata": {},
   "outputs": [],
   "source": [
    "i = l_check.unique()\n",
    "type(i)\n",
    "for c in i:\n",
    "    exist =  df_countrycode[\"ISO3166-1-Alpha-3\"].str.contains('MNE').any()\n",
    "    print(c + \" \" + str(exist))"
   ]
  },
  {
   "cell_type": "markdown",
   "id": "4b9629ab",
   "metadata": {},
   "source": [
    "**best_of**"
   ]
  },
  {
   "cell_type": "code",
   "execution_count": null,
   "id": "90603bc0",
   "metadata": {
    "scrolled": false
   },
   "outputs": [],
   "source": [
    "#check if there are different values form 3 or 5\n",
    "df_tennis['best_of'].value_counts(dropna = False)"
   ]
  },
  {
   "cell_type": "markdown",
   "id": "06fe1c12",
   "metadata": {},
   "source": [
    "There are not different values from 3 and 5, a part for some null values."
   ]
  },
  {
   "cell_type": "code",
   "execution_count": null,
   "id": "5a89bac1",
   "metadata": {},
   "outputs": [],
   "source": [
    "df_tennis['best_of'].value_counts().plot(kind='bar')"
   ]
  },
  {
   "cell_type": "markdown",
   "id": "b984d7ab",
   "metadata": {},
   "source": [
    "#### score\n",
    "https://www.wikihow.it/Tenere-il-Punteggio-a-Tennis"
   ]
  },
  {
   "cell_type": "markdown",
   "id": "0f3a8a17",
   "metadata": {},
   "source": [
    "If the **match** is at best of 3 then a player, to win, must win 2 sets. If instead it's at best of 5 the playes must win 3 sets.\n",
    "\n",
    "Every sets is composed by **games**. The winner is the player that wins 6 games with at least 2 games od advantage (for example 6-4, 6-3, ..., but not 6-5).\n",
    "\n",
    "In the case of 6-5 the first player wins the set is win the following game (7-5).\n",
    "\n",
    "In case pf 6-6 the **Tie-Break** is played. The Tie-Break is won by the player that is the first to do 7 points with an advantage of 2 (so, for example, 7-5, 7-4, ...). If both the players do 6 points then wins the first that have 2 points of advantage on the adversary (for example 8-6, 9-7, 10-8, ...)"
   ]
  },
  {
   "cell_type": "code",
   "execution_count": null,
   "id": "2b675e54",
   "metadata": {},
   "outputs": [],
   "source": [
    "#check that all the scores of the match are valid. (we do not consider nulls)\n",
    "df_tennis_score = df_tennis[~df_tennis['score'].isna()]"
   ]
  },
  {
   "cell_type": "markdown",
   "id": "18c93a45",
   "metadata": {},
   "source": [
    "Walkover (\"WO\" or \"w/o\")- Unopposed victory. A walkover is awarded when the opponent fails to start the match for any reason, such as injury.\n",
    "\n",
    "Retirement (\"ret\") - Player's withdrawal during a match, causing the player to forfeit the tournament. Usually this happens due to injury\n",
    "\n",
    "Default :def - Disqualification of a player in a match by the chair umpire after the player has received four code violation warnings, generally for their conduct on court. A default can occur with less than four code violations warnings if the code violation is judged severe enough to warrant it. A double default occurs when both players are disqualified. Defaults also occur when a player misses a match with no valid excuse. Defaults are considered losses.\n",
    "\n",
    "Bye :bye - Automatic advancement of a player to the next round of a tournament without facing an opponent. Byes are often awarded in the first round to the top-seeded players in a tournament"
   ]
  },
  {
   "cell_type": "code",
   "execution_count": null,
   "id": "90df8ec1",
   "metadata": {},
   "outputs": [],
   "source": [
    "def Retirement(s):\n",
    "    if s.lower() in \"retirement.\" or s.lower()==\"ret.\":\n",
    "        return True\n",
    "    else:\n",
    "        return False\n",
    "    \n",
    "def Walkover(s):\n",
    "    if s.lower()==\"w/o\" or s.lower()==\"wo\" or s.lower() in \"walkover\":\n",
    "        return True\n",
    "    else:\n",
    "        return False\n",
    "    \n",
    "def Default(s):\n",
    "    if s.lower() in \"default.\" or s.lower()==\"def.\":\n",
    "        return True\n",
    "    else:\n",
    "        return False\n",
    "    \n",
    "def Bye(s):\n",
    "    if s.lower() in \"bye.\":\n",
    "        return True\n",
    "    else:\n",
    "        return False"
   ]
  },
  {
   "cell_type": "markdown",
   "id": "8def07e6",
   "metadata": {},
   "source": [
    "Reasons for games not played"
   ]
  },
  {
   "cell_type": "code",
   "execution_count": null,
   "id": "aa643ca5",
   "metadata": {},
   "outputs": [],
   "source": [
    "#error because less of 2 games without valid reasons\n",
    "count_less_2 = 0\n",
    "#error because we have too many games in a match\n",
    "too_many = 0\n",
    "\n",
    "#number of walkover\n",
    "walkover = 0\n",
    "#errors using RET instead of WO\n",
    "wrong_walkover = 0\n",
    "#number of defaults\n",
    "default = 0\n",
    "#number of byes\n",
    "bye = 0\n",
    "\n",
    "for match in df_tennis[~df_tennis['score'].isna()]['score']:\n",
    "    sets = match.split( )\n",
    "    if len(sets)==1 and Walkover(sets[0]):\n",
    "        walkover+=1\n",
    "        continue\n",
    "    if len(sets)==1 and Retirement(sets[0]):\n",
    "        wrong_walkover+=1\n",
    "        continue\n",
    "    if len(sets)==1 and Default(sets[0]):\n",
    "        default+=1\n",
    "        continue\n",
    "    if len(sets)==1 and Bye(sets[0]):\n",
    "        bye+=1\n",
    "        continue\n",
    "    if len(sets)<2:\n",
    "        count_less_2+=1\n",
    "        continue\n",
    "    #maximum number of sets for best of 5 is 6: 5 games + RET or DEF\n",
    "    if len(sets)>6:\n",
    "        too_many+=1\n",
    "        continue"
   ]
  },
  {
   "cell_type": "code",
   "execution_count": null,
   "id": "a5ca929c",
   "metadata": {},
   "outputs": [],
   "source": [
    "print('walkover:', walkover)\n",
    "print('wrong_walkover:', wrong_walkover)\n",
    "print('default:', default)\n",
    "print('bye:', bye)\n",
    "print('errors: less than 2 games:', count_less_2)\n",
    "print('errors: too many games:', too_many)"
   ]
  },
  {
   "cell_type": "code",
   "execution_count": null,
   "id": "14a048e3",
   "metadata": {},
   "outputs": [],
   "source": [
    "index = [\"Walkover\", \"Default\", \"Bye\", \"Ret as wolkover\", \"Erorrs\"]\n",
    "values = [walkover, default, bye, wrong_walkover, count_less_2+too_many]\n",
    "plt.bar(index,values, width=0.5, color=\"#66ff66\")"
   ]
  },
  {
   "cell_type": "markdown",
   "id": "848e7de1",
   "metadata": {},
   "source": [
    "So, these games are not played. There is a wrong use of retirement because a retirement before the game is called walkover. This is used in a wrong way 8 times."
   ]
  },
  {
   "cell_type": "code",
   "execution_count": null,
   "id": "8e828a13",
   "metadata": {},
   "outputs": [],
   "source": [
    "def validity_match(games, best_of):\n",
    "    if len(games)<math.trunc(best_of/2)+1 or len(games)>best_of+1:\n",
    "        if not Retirement(games[len(games)-1]) and not Default(games[len(games)-1]):\n",
    "            return False\n",
    "    \n",
    "    first_player = 0\n",
    "    second_player = 0\n",
    "    \n",
    "    if Retirement(games[len(games)-1]) or Default(games[len(games)-1]):\n",
    "        #analysis of set with a ret or def\n",
    "        game = games[len(games)-2].replace(\"[\", \"\").replace(\"]\", \"\")\n",
    "        points = game.split(\"-\")\n",
    "        \n",
    "        if \"(\" in game or \")\" in game:\n",
    "            points = game[0:(game.index(\"(\"))].split(\"-\")\n",
    "            if \"6\" not in points or (\"7\" not in points and points.count('6')!=2):\n",
    "                return False\n",
    "        else:\n",
    "            x = int(points[0])\n",
    "            y = int(points[1])\n",
    "\n",
    "            if not ((max(x,y) <= 6 and min(x,y)<=6) or (max(x,y) == 7 and min(x,y)==5)):\n",
    "                return False\n",
    "        \n",
    "        complete_sets = len(games)-2\n",
    "    else:\n",
    "        complete_sets = len(games)\n",
    "    \n",
    "    i = 0\n",
    "    #analysis of complete sets\n",
    "    while i < complete_sets:\n",
    "        \n",
    "            game = games[i].replace(\"[\", \"\").replace(\"]\", \"\")\n",
    "            \n",
    "            if \"(\" in game or \")\" in game:\n",
    "                #tie-break\n",
    "                points = game[0:(game.index(\"(\"))].split(\"-\")\n",
    "                if \"6\" not in points or \"7\" not in points:\n",
    "                    return False\n",
    "                else:\n",
    "                    if points[0] == \"6\":\n",
    "                        second_player+=1\n",
    "                    else:\n",
    "                        first_player+=1\n",
    "                    i+=1\n",
    "            else:\n",
    "                #no tie-break\n",
    "                game = games[i].replace(\"[\", \"\").replace(\"]\", \"\")\n",
    "                points = game.split(\"-\")\n",
    "    \n",
    "                x = int(points[0])\n",
    "                y = int(points[1])\n",
    "                \n",
    "                if max(x,y) == 7 and min(x,y)!=5:\n",
    "                    return False\n",
    "                elif max(x,y)!= 6 and (max(x,y) != 7 or min(x,y)!=5):\n",
    "                    return False\n",
    "                elif max(x,y)==6 and (min(x,y)>4 or min(x,y)<0):\n",
    "                    return False\n",
    "                else:\n",
    "                    #valid case\n",
    "                    if x == min(x,y):\n",
    "                        second_player+=1\n",
    "                    else:\n",
    "                        first_player+=1\n",
    "                    i+=1\n",
    "                \n",
    "            if (first_player==math.trunc(best_of/2)+1 or second_player==math.trunc(best_of/2)+1) and \\\n",
    "                (second_player + first_player)!=len(games):\n",
    "                return False\n",
    "            \n",
    "    return True\n",
    "    "
   ]
  },
  {
   "cell_type": "code",
   "execution_count": null,
   "id": "1ba42256",
   "metadata": {
    "scrolled": true
   },
   "outputs": [],
   "source": [
    "#best of 5: 3,4 o 5 games, best of 3: 2 or 3 games (with points)\n",
    "best_5 = 0\n",
    "best_3 = 0\n",
    "\n",
    "valid_change_best_of = 0\n",
    "invalid_matches = 0\n",
    "\n",
    "\n",
    "#check of the best of 3\n",
    "for match in df_tennis_score[df_tennis_score['best_of']==3]['score']:\n",
    "    sets = match.split( )\n",
    "    #maximum number of sets for best of 3 is 4: 3 games + RET or DEF\n",
    "    if len(sets)>4 or (len(sets)==4 and not Retirement(sets[3]) and not Default(sets[3])):\n",
    "        best_5+=1\n",
    "        #print(sets)\n",
    "        if validity_match(sets, 5) == True:\n",
    "            valid_change_best_of +=1\n",
    "        else:\n",
    "            invalid_matches+=1\n",
    "    elif len(sets)>=2:\n",
    "        if validity_match(sets, 3) == False:\n",
    "            invalid_matches+=1\n",
    "        \n",
    "        \n",
    "#check of the best of 5\n",
    "for match in df_tennis_score[df_tennis_score['best_of']==5]['score']:\n",
    "    sets = match.split( )\n",
    "    if len(sets)==2 and not Retirement(sets[1]) and not Default(sets[1]):\n",
    "        best_3+=1\n",
    "        if validity_match(sets, 3) == True:\n",
    "            valid_change_best_of +=1\n",
    "        else:\n",
    "            invalid_matches+=1\n",
    "    elif len(sets)>=2:\n",
    "         if validity_match(sets, 5) == False:\n",
    "            invalid_matches+=1\n",
    "\n",
    "    "
   ]
  },
  {
   "cell_type": "code",
   "execution_count": null,
   "id": "32ebeb71",
   "metadata": {},
   "outputs": [],
   "source": [
    "print('errors: best of 5 classyfied as best of 3:', best_5)\n",
    "print('errors: best of 3 classyfied as best of 5:', best_3)\n",
    "print('valid change of best of', valid_change_best_of)\n",
    "print('Invalid matches', invalid_matches)"
   ]
  },
  {
   "cell_type": "code",
   "execution_count": null,
   "id": "19cce264",
   "metadata": {},
   "outputs": [],
   "source": [
    "fig = plt.figure(figsize=(20, 5)) \n",
    "fig_dims = (1, 3)\n",
    "\n",
    "plt.subplot2grid(fig_dims, (0, 0))\n",
    "plt.bar([\"best 5 as 3\", \"best 3 as 5\"], [best_5, best_3], width=0.5, color=\"#66ff66\")\n",
    "\n",
    "plt.subplot2grid(fig_dims, (0, 1))\n",
    "plt.bar([\"Total changes best_of\", \"Valid changes best_of\"], [best_5+best_3, valid_change_best_of], width=0.5, color=\"#6666ff\")\n",
    "\n",
    "plt.subplot2grid(fig_dims, (0, 2))\n",
    "plt.bar([\"invalid for wrong best_of\", \"invalid matches\"], [valid_change_best_of, invalid_matches], width=0.5, color=\"#ff6666\")"
   ]
  },
  {
   "cell_type": "markdown",
   "id": "6684c843",
   "metadata": {},
   "source": [
    "There are some invalid points about some games of some matches. There are some matches classifyed as best of 3 but have more than 3 games and they can be classified as best of 5. The same for the best of 5. These are 45. There are some matches that are not valid (5217) because the results of the games are inpossible results because the rules of the tennis. \n",
    "\n",
    "We can see in the first bar chart that most of the error of classification are about matches best of 5 classified as best of 3. In the second chart we can notice that we can correct this classification for most of these matches. \n",
    "\n",
    "In the 3rd chart we can see that the error we have notice in the match because of a wrong classification are a very small part of the total errors. So, the most of the errors in the scores are not because the classification is wrong, but because the saved results are invalid."
   ]
  },
  {
   "cell_type": "markdown",
   "id": "45c71960",
   "metadata": {},
   "source": [
    "#### match_num"
   ]
  },
  {
   "cell_type": "code",
   "execution_count": null,
   "id": "500ff112",
   "metadata": {},
   "outputs": [],
   "source": [
    "df_tennis_matchgroups = df_tennis.drop_duplicates().groupby(['tourney_id', 'match_num']).size().reset_index(name='size')\n",
    "print(df_tennis_matchgroups[df_tennis_matchgroups['size']>2])\n",
    "#number of match with more than one winner\n",
    "df_tennis_matchgroups[df_tennis_matchgroups['size']>2].shape[0]"
   ]
  },
  {
   "cell_type": "code",
   "execution_count": null,
   "id": "44b54da8",
   "metadata": {},
   "outputs": [],
   "source": [
    "prova = df_tennis[df_tennis['tourney_id']=='2016-520']\n",
    "prova[prova['match_num']==100][['tourney_id', 'tourney_name', 'match_num', 'winner_name', 'loser_name']]"
   ]
  },
  {
   "cell_type": "markdown",
   "id": "b5a853ab",
   "metadata": {},
   "source": [
    "#### draw_size"
   ]
  },
  {
   "cell_type": "code",
   "execution_count": null,
   "id": "26802ca3",
   "metadata": {},
   "outputs": [],
   "source": [
    "#count the row with an invalid number (negative or less than 2)\n",
    "df_tennis[df_tennis['draw_size'] < 2].shape[0]"
   ]
  },
  {
   "cell_type": "markdown",
   "id": "48d9a627",
   "metadata": {},
   "source": [
    "All the numbers are valid (we consider only the numbers and not the nulls)"
   ]
  },
  {
   "cell_type": "markdown",
   "id": "13aae818",
   "metadata": {},
   "source": [
    "**tourney_date**"
   ]
  },
  {
   "cell_type": "code",
   "execution_count": null,
   "id": "c3836c1e",
   "metadata": {},
   "outputs": [],
   "source": [
    "#the date are in float so they need to be converted in date object \n",
    "df_tennis['tourney_date'].isnull().sum()"
   ]
  },
  {
   "cell_type": "code",
   "execution_count": null,
   "id": "c05dbf89",
   "metadata": {},
   "outputs": [],
   "source": [
    "#check if there are present data greater then today\n",
    "import datetime\n",
    "df_tennis['tourney_date'] = pd.to_datetime(df_tennis['tourney_date'], format='%Y%m%d')\n",
    "invalid_data = 0\n",
    "today = pd.to_datetime(datetime.date.today())\n",
    "for date in df_tennis['tourney_date']:\n",
    "    if date > today:\n",
    "        invalid_data +=1\n",
    "print(invalid_data)"
   ]
  },
  {
   "cell_type": "markdown",
   "id": "c1657ed6",
   "metadata": {},
   "source": [
    "There aren't invalid dates"
   ]
  },
  {
   "cell_type": "markdown",
   "id": "8b286d81",
   "metadata": {},
   "source": [
    "#### winner_ht and loser_ht"
   ]
  },
  {
   "cell_type": "code",
   "execution_count": null,
   "id": "00bfbd82",
   "metadata": {},
   "outputs": [],
   "source": [
    "df_tennis['winner_ht'].max()"
   ]
  },
  {
   "cell_type": "code",
   "execution_count": null,
   "id": "affabaee",
   "metadata": {},
   "outputs": [],
   "source": [
    "df_tennis['winner_ht'].min()"
   ]
  },
  {
   "cell_type": "code",
   "execution_count": null,
   "id": "cedd6776",
   "metadata": {},
   "outputs": [],
   "source": [
    "# print all possibile winner ht in an asc sort order\n",
    "df_tennis['winner_ht'].value_counts().sort_index()"
   ]
  },
  {
   "cell_type": "code",
   "execution_count": null,
   "id": "8b715319",
   "metadata": {
    "scrolled": true
   },
   "outputs": [],
   "source": [
    "df_tennis['winner_ht'].value_counts().sort_index().plot.bar(\n",
    "    figsize=(10, 4), \n",
    "    title=\"winner_ht distribution\",\n",
    "    xlabel=\"winner_ht\", \n",
    "    ylabel=\"Frequency\")"
   ]
  },
  {
   "cell_type": "code",
   "execution_count": null,
   "id": "a5e40fd5",
   "metadata": {},
   "outputs": [],
   "source": [
    "# let's try to find outliers with boxplot visualization\n",
    "df_tennis.plot.box(y=\"winner_ht\", vert=False, grid=True, figsize=(10, 4));"
   ]
  },
  {
   "cell_type": "code",
   "execution_count": null,
   "id": "e8697137",
   "metadata": {},
   "outputs": [],
   "source": [
    "df_tennis['loser_ht'].max()"
   ]
  },
  {
   "cell_type": "code",
   "execution_count": null,
   "id": "c3be2f7e",
   "metadata": {},
   "outputs": [],
   "source": [
    "df_tennis['loser_ht'].min()"
   ]
  },
  {
   "cell_type": "code",
   "execution_count": null,
   "id": "cc1d5f50",
   "metadata": {},
   "outputs": [],
   "source": [
    "# print all possibile loser ht in an asc sort order\n",
    "df_tennis['winner_ht'].value_counts().sort_index()"
   ]
  },
  {
   "cell_type": "code",
   "execution_count": null,
   "id": "d5d1041e",
   "metadata": {
    "scrolled": true
   },
   "outputs": [],
   "source": [
    "df_tennis['loser_ht'].value_counts().sort_index().plot.bar(\n",
    "    figsize=(10, 4), \n",
    "    title=\"loser_ht distribution\",\n",
    "    xlabel=\"loser_ht\", \n",
    "    ylabel=\"Frequency\")"
   ]
  },
  {
   "cell_type": "code",
   "execution_count": null,
   "id": "da14222c",
   "metadata": {
    "scrolled": false
   },
   "outputs": [],
   "source": [
    "# let's try to find outliers with boxplot visualization\n",
    "df_tennis.plot.box(y=\"loser_ht\", vert=False, grid=True, figsize=(10, 4));"
   ]
  },
  {
   "cell_type": "code",
   "execution_count": 8,
   "id": "8fae9a90",
   "metadata": {},
   "outputs": [],
   "source": [
    "#TO DO: verificare le altezze considerando i singoli giocatori (se le altezze sono uguali)"
   ]
  },
  {
   "cell_type": "markdown",
   "id": "b563104c",
   "metadata": {},
   "source": [
    "#### winner_age and loser_age\n"
   ]
  },
  {
   "cell_type": "code",
   "execution_count": 10,
   "id": "0a3c92e9",
   "metadata": {},
   "outputs": [],
   "source": [
    "## Print decimal age in a string years,month,days format\n",
    "def ConvertAge(decimal_years):\n",
    "    decimal_days = decimal_years * 365\n",
    "    year = decimal_days//365\n",
    "    tmp_days = decimal_days - (year*365)\n",
    "    month = tmp_days//31\n",
    "    days = tmp_days - (month * 31)\n",
    "    return str(int(year)) + \" years, \" + str(int(month)) + \" months, \" + str(int(days)) + \" days\""
   ]
  },
  {
   "cell_type": "code",
   "execution_count": 11,
   "id": "73ede825",
   "metadata": {},
   "outputs": [
    {
     "name": "stdout",
     "output_type": "stream",
     "text": [
      "95.0 -> 95 years, 0 months, 0 days\n"
     ]
    }
   ],
   "source": [
    "print(str(df_tennis['winner_age'].max()) + \" -> \" + ConvertAge(df_tennis['winner_age'].max()))"
   ]
  },
  {
   "cell_type": "code",
   "execution_count": 12,
   "id": "2b3f8a8a",
   "metadata": {},
   "outputs": [
    {
     "name": "stdout",
     "output_type": "stream",
     "text": [
      "14.0424366872 -> 14 years, 0 months, 15 days\n"
     ]
    }
   ],
   "source": [
    "print(str(df_tennis['winner_age'].min()) + \" -> \" + ConvertAge(df_tennis['winner_age'].min()))"
   ]
  },
  {
   "cell_type": "code",
   "execution_count": 13,
   "id": "782b1352",
   "metadata": {},
   "outputs": [
    {
     "data": {
      "text/html": [
       "<div>\n",
       "<style scoped>\n",
       "    .dataframe tbody tr th:only-of-type {\n",
       "        vertical-align: middle;\n",
       "    }\n",
       "\n",
       "    .dataframe tbody tr th {\n",
       "        vertical-align: top;\n",
       "    }\n",
       "\n",
       "    .dataframe thead th {\n",
       "        text-align: right;\n",
       "    }\n",
       "</style>\n",
       "<table border=\"1\" class=\"dataframe\">\n",
       "  <thead>\n",
       "    <tr style=\"text-align: right;\">\n",
       "      <th></th>\n",
       "      <th>tourney_name</th>\n",
       "      <th>tourney_date</th>\n",
       "      <th>winner_name</th>\n",
       "      <th>winner_age</th>\n",
       "    </tr>\n",
       "  </thead>\n",
       "  <tbody>\n",
       "    <tr>\n",
       "      <th>150350</th>\n",
       "      <td>W15 Cancun</td>\n",
       "      <td>2019-04-15</td>\n",
       "      <td>Isabella Kruger</td>\n",
       "      <td>14 years, 0 months, 15 days</td>\n",
       "    </tr>\n",
       "    <tr>\n",
       "      <th>150405</th>\n",
       "      <td>W15 Cancun</td>\n",
       "      <td>2019-04-22</td>\n",
       "      <td>Isabella Kruger</td>\n",
       "      <td>14 years, 0 months, 22 days</td>\n",
       "    </tr>\n",
       "    <tr>\n",
       "      <th>86552</th>\n",
       "      <td>Fed Cup G1 RR: PAR vs COL</td>\n",
       "      <td>2016-02-05</td>\n",
       "      <td>Maria Camila Osorio Serrano</td>\n",
       "      <td>14 years, 1 months, 13 days</td>\n",
       "    </tr>\n",
       "    <tr>\n",
       "      <th>86574</th>\n",
       "      <td>Fed Cup G1 REL: COL vs ECU</td>\n",
       "      <td>2016-02-06</td>\n",
       "      <td>Maria Camila Osorio Serrano</td>\n",
       "      <td>14 years, 1 months, 14 days</td>\n",
       "    </tr>\n",
       "    <tr>\n",
       "      <th>46910</th>\n",
       "      <td>Bethany Beach DE $10K</td>\n",
       "      <td>2016-06-06</td>\n",
       "      <td>Whitney Osuigwe</td>\n",
       "      <td>14 years, 1 months, 19 days</td>\n",
       "    </tr>\n",
       "    <tr>\n",
       "      <th>...</th>\n",
       "      <td>...</td>\n",
       "      <td>...</td>\n",
       "      <td>...</td>\n",
       "      <td>...</td>\n",
       "    </tr>\n",
       "    <tr>\n",
       "      <th>16899</th>\n",
       "      <td>Parnu $15K</td>\n",
       "      <td>2017-07-24</td>\n",
       "      <td>Pam Casale</td>\n",
       "      <td>53 years, 6 months, 30 days</td>\n",
       "    </tr>\n",
       "    <tr>\n",
       "      <th>150390</th>\n",
       "      <td>W15 Cancun</td>\n",
       "      <td>2019-04-22</td>\n",
       "      <td>Sylvia Schenck</td>\n",
       "      <td>55 years, 2 months, 23 days</td>\n",
       "    </tr>\n",
       "    <tr>\n",
       "      <th>162466</th>\n",
       "      <td>W15 Guatemala</td>\n",
       "      <td>2019-11-04</td>\n",
       "      <td>Sylvia Schenck</td>\n",
       "      <td>55 years, 9 months, 2 days</td>\n",
       "    </tr>\n",
       "    <tr>\n",
       "      <th>322</th>\n",
       "      <td>Australian Open</td>\n",
       "      <td>2019-01-14</td>\n",
       "      <td>Daniil Medvedev</td>\n",
       "      <td>95 years, 0 months, 0 days</td>\n",
       "    </tr>\n",
       "    <tr>\n",
       "      <th>0</th>\n",
       "      <td>Brisbane</td>\n",
       "      <td>2018-12-31</td>\n",
       "      <td>Kei Nishikori</td>\n",
       "      <td>95 years, 0 months, 0 days</td>\n",
       "    </tr>\n",
       "  </tbody>\n",
       "</table>\n",
       "<p>183249 rows × 4 columns</p>\n",
       "</div>"
      ],
      "text/plain": [
       "                      tourney_name tourney_date                  winner_name  \\\n",
       "150350                  W15 Cancun   2019-04-15              Isabella Kruger   \n",
       "150405                  W15 Cancun   2019-04-22              Isabella Kruger   \n",
       "86552    Fed Cup G1 RR: PAR vs COL   2016-02-05  Maria Camila Osorio Serrano   \n",
       "86574   Fed Cup G1 REL: COL vs ECU   2016-02-06  Maria Camila Osorio Serrano   \n",
       "46910        Bethany Beach DE $10K   2016-06-06              Whitney Osuigwe   \n",
       "...                            ...          ...                          ...   \n",
       "16899                   Parnu $15K   2017-07-24                   Pam Casale   \n",
       "150390                  W15 Cancun   2019-04-22               Sylvia Schenck   \n",
       "162466               W15 Guatemala   2019-11-04               Sylvia Schenck   \n",
       "322                Australian Open   2019-01-14              Daniil Medvedev   \n",
       "0                         Brisbane   2018-12-31                Kei Nishikori   \n",
       "\n",
       "                         winner_age  \n",
       "150350  14 years, 0 months, 15 days  \n",
       "150405  14 years, 0 months, 22 days  \n",
       "86552   14 years, 1 months, 13 days  \n",
       "86574   14 years, 1 months, 14 days  \n",
       "46910   14 years, 1 months, 19 days  \n",
       "...                             ...  \n",
       "16899   53 years, 6 months, 30 days  \n",
       "150390  55 years, 2 months, 23 days  \n",
       "162466   55 years, 9 months, 2 days  \n",
       "322      95 years, 0 months, 0 days  \n",
       "0        95 years, 0 months, 0 days  \n",
       "\n",
       "[183249 rows x 4 columns]"
      ]
     },
     "execution_count": 13,
     "metadata": {},
     "output_type": "execute_result"
    }
   ],
   "source": [
    "# prints a table sorted by winner age, with tournament, winner name and tournament date\n",
    "df_tennis_tmp = df_tennis.copy() # avoid overwrite original dataset\n",
    "df_tennis_tmp['winner_age'] = df_tennis_tmp['winner_age'].dropna().apply(lambda x: ConvertAge(x))\n",
    "df_tennis_tmp['tourney_date'] = pd.to_datetime(df_tennis_tmp['tourney_date'], format='%Y%m%d')\n",
    "df_tennis_tmp[['tourney_name', 'tourney_date', 'winner_name', 'winner_age']].dropna().sort_values(by='winner_age')\n"
   ]
  },
  {
   "cell_type": "code",
   "execution_count": 14,
   "id": "0e1223a4",
   "metadata": {},
   "outputs": [
    {
     "data": {
      "text/plain": [
       "<AxesSubplot:>"
      ]
     },
     "execution_count": 14,
     "metadata": {},
     "output_type": "execute_result"
    },
    {
     "data": {
      "image/png": "[encoded data removed]",
      "text/plain": [
       "<Figure size 720x288 with 1 Axes>"
      ]
     },
     "metadata": {
      "needs_background": "light"
     },
     "output_type": "display_data"
    }
   ],
   "source": [
    "# let's try to find outliers in age with boxplot visualization\n",
    "df_tennis.boxplot(vert=False, column=['winner_age'], return_type='axes',figsize=(10, 4))"
   ]
  },
  {
   "cell_type": "code",
   "execution_count": 17,
   "id": "42969607",
   "metadata": {},
   "outputs": [
    {
     "data": {
      "image/png": "[encoded data removed]",
      "text/plain": [
       "<Figure size 432x288 with 1 Axes>"
      ]
     },
     "metadata": {
      "needs_background": "light"
     },
     "output_type": "display_data"
    }
   ],
   "source": [
    "sns.histplot(data=df_tennis['winner_age'], bins=\"sturges\", binrange=(10,50), color=\"lightgreen\", kde=True, kde_kws={'clip':(10,50)}).lines[0].set_color('blue')"
   ]
  },
  {
   "cell_type": "code",
   "execution_count": null,
   "id": "e69e9f93",
   "metadata": {},
   "outputs": [],
   "source": [
    "#loser age"
   ]
  },
  {
   "cell_type": "code",
   "execution_count": 18,
   "id": "7771049f",
   "metadata": {},
   "outputs": [
    {
     "name": "stdout",
     "output_type": "stream",
     "text": [
      "74.4859685147 -> 74 years, 5 months, 22 days\n",
      "14.006844627 -> 14 years, 0 months, 2 days\n"
     ]
    }
   ],
   "source": [
    "print(str(df_tennis['loser_age'].max()) + \" -> \" + ConvertAge(df_tennis['loser_age'].max()))\n",
    "print(str(df_tennis['loser_age'].min()) + \" -> \" + ConvertAge(df_tennis['loser_age'].min()))"
   ]
  },
  {
   "cell_type": "code",
   "execution_count": 19,
   "id": "8e18a27d",
   "metadata": {},
   "outputs": [
    {
     "data": {
      "text/html": [
       "<div>\n",
       "<style scoped>\n",
       "    .dataframe tbody tr th:only-of-type {\n",
       "        vertical-align: middle;\n",
       "    }\n",
       "\n",
       "    .dataframe tbody tr th {\n",
       "        vertical-align: top;\n",
       "    }\n",
       "\n",
       "    .dataframe thead th {\n",
       "        text-align: right;\n",
       "    }\n",
       "</style>\n",
       "<table border=\"1\" class=\"dataframe\">\n",
       "  <thead>\n",
       "    <tr style=\"text-align: right;\">\n",
       "      <th></th>\n",
       "      <th>tourney_name</th>\n",
       "      <th>tourney_date</th>\n",
       "      <th>loser_name</th>\n",
       "      <th>loser_age</th>\n",
       "    </tr>\n",
       "  </thead>\n",
       "  <tbody>\n",
       "    <tr>\n",
       "      <th>128331</th>\n",
       "      <td>Sandelfjord $15K</td>\n",
       "      <td>2018-07-23</td>\n",
       "      <td>Katja Wiersholm</td>\n",
       "      <td>14 years, 0 months, 14 days</td>\n",
       "    </tr>\n",
       "    <tr>\n",
       "      <th>150371</th>\n",
       "      <td>W15 Cancun</td>\n",
       "      <td>2019-04-15</td>\n",
       "      <td>Isabella Kruger</td>\n",
       "      <td>14 years, 0 months, 15 days</td>\n",
       "    </tr>\n",
       "    <tr>\n",
       "      <th>122036</th>\n",
       "      <td>Manacor Mallorca $15K</td>\n",
       "      <td>2018-02-05</td>\n",
       "      <td>Gloria Alogo Piqueras</td>\n",
       "      <td>14 years, 0 months, 16 days</td>\n",
       "    </tr>\n",
       "    <tr>\n",
       "      <th>39655</th>\n",
       "      <td>Tampere $10K</td>\n",
       "      <td>2016-07-18</td>\n",
       "      <td>Emilia Salo</td>\n",
       "      <td>14 years, 0 months, 2 days</td>\n",
       "    </tr>\n",
       "    <tr>\n",
       "      <th>18856</th>\n",
       "      <td>Heraklion $15K</td>\n",
       "      <td>2017-04-03</td>\n",
       "      <td>Sapfo Sakellaridi</td>\n",
       "      <td>14 years, 0 months, 2 days</td>\n",
       "    </tr>\n",
       "    <tr>\n",
       "      <th>...</th>\n",
       "      <td>...</td>\n",
       "      <td>...</td>\n",
       "      <td>...</td>\n",
       "      <td>...</td>\n",
       "    </tr>\n",
       "    <tr>\n",
       "      <th>137039</th>\n",
       "      <td>W60 Saguenay</td>\n",
       "      <td>2019-10-21</td>\n",
       "      <td>Sylvia Schenck</td>\n",
       "      <td>55 years, 8 months, 19 days</td>\n",
       "    </tr>\n",
       "    <tr>\n",
       "      <th>162479</th>\n",
       "      <td>W15 Guatemala</td>\n",
       "      <td>2019-11-04</td>\n",
       "      <td>Sylvia Schenck</td>\n",
       "      <td>55 years, 9 months, 2 days</td>\n",
       "    </tr>\n",
       "    <tr>\n",
       "      <th>176953</th>\n",
       "      <td>W25 Evansville IN</td>\n",
       "      <td>2021-07-12</td>\n",
       "      <td>Sylvia Schenck</td>\n",
       "      <td>57 years, 5 months, 11 days</td>\n",
       "    </tr>\n",
       "    <tr>\n",
       "      <th>176662</th>\n",
       "      <td>W25 Naples FL</td>\n",
       "      <td>2021-05-03</td>\n",
       "      <td>Gail Falkenberg</td>\n",
       "      <td>74 years, 3 months, 14 days</td>\n",
       "    </tr>\n",
       "    <tr>\n",
       "      <th>176943</th>\n",
       "      <td>W25 Evansville IN</td>\n",
       "      <td>2021-07-12</td>\n",
       "      <td>Gail Falkenberg</td>\n",
       "      <td>74 years, 5 months, 22 days</td>\n",
       "    </tr>\n",
       "  </tbody>\n",
       "</table>\n",
       "<p>179573 rows × 4 columns</p>\n",
       "</div>"
      ],
      "text/plain": [
       "                 tourney_name tourney_date             loser_name  \\\n",
       "128331       Sandelfjord $15K   2018-07-23        Katja Wiersholm   \n",
       "150371             W15 Cancun   2019-04-15        Isabella Kruger   \n",
       "122036  Manacor Mallorca $15K   2018-02-05  Gloria Alogo Piqueras   \n",
       "39655            Tampere $10K   2016-07-18            Emilia Salo   \n",
       "18856          Heraklion $15K   2017-04-03      Sapfo Sakellaridi   \n",
       "...                       ...          ...                    ...   \n",
       "137039           W60 Saguenay   2019-10-21         Sylvia Schenck   \n",
       "162479          W15 Guatemala   2019-11-04         Sylvia Schenck   \n",
       "176953      W25 Evansville IN   2021-07-12         Sylvia Schenck   \n",
       "176662          W25 Naples FL   2021-05-03        Gail Falkenberg   \n",
       "176943      W25 Evansville IN   2021-07-12        Gail Falkenberg   \n",
       "\n",
       "                          loser_age  \n",
       "128331  14 years, 0 months, 14 days  \n",
       "150371  14 years, 0 months, 15 days  \n",
       "122036  14 years, 0 months, 16 days  \n",
       "39655    14 years, 0 months, 2 days  \n",
       "18856    14 years, 0 months, 2 days  \n",
       "...                             ...  \n",
       "137039  55 years, 8 months, 19 days  \n",
       "162479   55 years, 9 months, 2 days  \n",
       "176953  57 years, 5 months, 11 days  \n",
       "176662  74 years, 3 months, 14 days  \n",
       "176943  74 years, 5 months, 22 days  \n",
       "\n",
       "[179573 rows x 4 columns]"
      ]
     },
     "execution_count": 19,
     "metadata": {},
     "output_type": "execute_result"
    }
   ],
   "source": [
    "# prints a table sorted by winner age, with tournament, winner name and tournament date\n",
    "df_tennis_tmp = df_tennis.copy() # avoid overwrite original dataset\n",
    "df_tennis_tmp['loser_age'] = df_tennis_tmp['loser_age'].dropna().apply(lambda x: ConvertAge(x))\n",
    "df_tennis_tmp['tourney_date'] = pd.to_datetime(df_tennis_tmp['tourney_date'], format='%Y%m%d')\n",
    "df_tennis_tmp[['tourney_name', 'tourney_date', 'loser_name', 'loser_age']].dropna().sort_values(by='loser_age')"
   ]
  },
  {
   "cell_type": "code",
   "execution_count": 20,
   "id": "4cdb6d77",
   "metadata": {},
   "outputs": [
    {
     "data": {
      "text/plain": [
       "<AxesSubplot:>"
      ]
     },
     "execution_count": 20,
     "metadata": {},
     "output_type": "execute_result"
    },
    {
     "data": {
      "image/png": "[encoded data removed]",
      "text/plain": [
       "<Figure size 720x288 with 1 Axes>"
      ]
     },
     "metadata": {
      "needs_background": "light"
     },
     "output_type": "display_data"
    }
   ],
   "source": [
    "df_tennis.boxplot(vert=False, column=['loser_age'], return_type='axes',figsize=(10, 4))"
   ]
  },
  {
   "cell_type": "code",
   "execution_count": 41,
   "id": "67b7dac3",
   "metadata": {},
   "outputs": [
    {
     "data": {
      "text/plain": [
       "<AxesSubplot:xlabel='loser_age', ylabel='Density'>"
      ]
     },
     "execution_count": 41,
     "metadata": {},
     "output_type": "execute_result"
    },
    {
     "data": {
      "image/png": "[encoded data removed]",
      "text/plain": [
       "<Figure size 1152x360 with 2 Axes>"
      ]
     },
     "metadata": {
      "needs_background": "light"
     },
     "output_type": "display_data"
    }
   ],
   "source": [
    "#df_tennis['winner_age'].hist(bins=50, grid=False, range=(10, 50))\n",
    "#df_tennis['winner_age'].plot(kind='kde', xlim=[10,50])\n",
    "\n",
    "fig = plt.figure(figsize=(16, 5)) \n",
    "fig_dims = (1, 2)\n",
    "\n",
    "plt.subplot2grid(fig_dims, (0, 0))\n",
    "sns.histplot(data=df_tennis['loser_age'], bins=\"sturges\", binrange=(10,50), color=\"lightgreen\", kde=True, kde_kws={'clip':(10,50)}).lines[0].set_color('blue')\n",
    "\n",
    "plt.subplot2grid(fig_dims, (0, 1))\n",
    "sns.kdeplot(data=df_tennis['loser_age'], color=\"green\", clip=(10,50))\n",
    "sns.kdeplot(data=df_tennis['winner_age'], color=\"blue\", clip=(10,50))"
   ]
  },
  {
   "cell_type": "markdown",
   "id": "2837b18c",
   "metadata": {},
   "source": [
    "#### w_df"
   ]
  },
  {
   "cell_type": "code",
   "execution_count": null,
   "id": "221869d5",
   "metadata": {},
   "outputs": [],
   "source": [
    "def ConvertTime(time):\n",
    "    hours = int(time)\n",
    "    minutes = (time*60) % 60\n",
    "    seconds = (time*3600) % 60\n",
    "    return (\"%dH:%02dm:%02ds\" % (hours, minutes, seconds))"
   ]
  },
  {
   "cell_type": "markdown",
   "id": "479420e1",
   "metadata": {},
   "source": [
    "#### minutes"
   ]
  },
  {
   "cell_type": "code",
   "execution_count": null,
   "id": "fa8fbf53",
   "metadata": {
    "scrolled": true
   },
   "outputs": [],
   "source": [
    "df_tennis.loc[df_tennis['minutes'] <= 0, 'minutes'].count()"
   ]
  },
  {
   "cell_type": "code",
   "execution_count": null,
   "id": "b3af85a6",
   "metadata": {},
   "outputs": [],
   "source": [
    "print(str(df_tennis['minutes'].mean()) + \" converted-> \" + ConvertTime(df_tennis['minutes'].mean()))"
   ]
  },
  {
   "cell_type": "code",
   "execution_count": null,
   "id": "56c93b4e",
   "metadata": {},
   "outputs": [],
   "source": [
    "print(str(df_tennis['minutes'].max()) + \" converted-> \" + ConvertTime(df_tennis['minutes'].max()))"
   ]
  },
  {
   "cell_type": "code",
   "execution_count": null,
   "id": "55bd7f46",
   "metadata": {},
   "outputs": [],
   "source": [
    "print(str(df_tennis['minutes'].min()) + \" converted-> \" + ConvertTime(df_tennis['minutes'].min()))"
   ]
  },
  {
   "cell_type": "code",
   "execution_count": null,
   "id": "ddbd35b3",
   "metadata": {},
   "outputs": [],
   "source": [
    "# let's try to find outliers in minutes with scatter visualization\n",
    "df_tennis.boxplot(vert=False, column=['minutes'], return_type='axes',figsize=(10, 4))"
   ]
  },
  {
   "cell_type": "code",
   "execution_count": null,
   "id": "5bc639a7",
   "metadata": {},
   "outputs": [],
   "source": [
    "sns.histplot(data=df_tennis['minutes'], bins=\"doane\", binrange=(0,300), color=\"lightgreen\", kde=True, kde_kws={'clip':(10,300)}).lines[0].set_color('blue')"
   ]
  },
  {
   "cell_type": "markdown",
   "id": "1153ce85",
   "metadata": {},
   "source": [
    "There are 128 entry with a match duration equal to 0, a tennis match duration is on average 40 minutes our mean is 97.67."
   ]
  },
  {
   "cell_type": "code",
   "execution_count": null,
   "id": "b6f7611e",
   "metadata": {},
   "outputs": [],
   "source": [
    "# we check that matches with 0 minutes are matches with BYE and WOLKOVER (in this case the match is not played)\n",
    "def IsMatchWithZeroIncorrect(match):\n",
    "    tmp = str(match)\n",
    "    sets = tmp.split()    \n",
    "    if len(sets)==1 and Walkover(sets[0]):\n",
    "        return False\n",
    "    if len(sets)==1 and Bye(sets[0]):\n",
    "        return False\n",
    "    return True\n",
    "\n",
    "df_tennis_min_filtered = df_tennis[df_tennis['minutes']<= 0]\n",
    "df_tennis_min_checked = df_tennis_min_filtered.apply(lambda x: IsMatchWithZeroIncorrect(x['score']), axis=1)\n",
    "df_tennis_min_zero_res = df_tennis_min_filtered[df_tennis_min_checked]\n",
    "df_tennis_min_zero_res[['tourney_id', 'score', 'minutes']]"
   ]
  },
  {
   "cell_type": "markdown",
   "id": "af2bc964",
   "metadata": {},
   "source": [
    "0 could be considered as a default value"
   ]
  },
  {
   "cell_type": "markdown",
   "id": "44dbd6b7",
   "metadata": {},
   "source": [
    "#### w_ace, w_df and w_svpt"
   ]
  },
  {
   "cell_type": "code",
   "execution_count": null,
   "id": "7622aaff",
   "metadata": {
    "scrolled": true
   },
   "outputs": [],
   "source": [
    "# TODO: W_ace: winner's number of aces; W_df: winner's number of doubles faults; W_svpt: winner's number of serve points\n",
    "negative_w_ace = df_tennis.loc[df_tennis['w_ace'] < 0].shape[0]\n",
    "print(negative_w_ace)"
   ]
  },
  {
   "cell_type": "code",
   "execution_count": null,
   "id": "2ab078a6",
   "metadata": {},
   "outputs": [],
   "source": [
    "#check if there are more ace than service performed\n",
    "df_tennis.loc[df_tennis['w_svpt'] < df_tennis['w_ace']].shape[0]"
   ]
  },
  {
   "cell_type": "code",
   "execution_count": null,
   "id": "c4ff956e",
   "metadata": {},
   "outputs": [],
   "source": [
    "df_tennis.plot.scatter('w_svpt', 'w_ace')\n",
    "plt.show()"
   ]
  },
  {
   "cell_type": "code",
   "execution_count": null,
   "id": "72daef51",
   "metadata": {},
   "outputs": [],
   "source": [
    "#W_df: winner's number of doubles faults\n",
    "negative_w_df = df_tennis.loc[df_tennis['w_df'] < 0].shape[0]\n",
    "print(negative_w_df)"
   ]
  },
  {
   "cell_type": "code",
   "execution_count": null,
   "id": "3d3d1f99",
   "metadata": {},
   "outputs": [],
   "source": [
    "df_tennis.plot.scatter('w_svpt', 'w_df')\n",
    "plt.show()"
   ]
  },
  {
   "cell_type": "code",
   "execution_count": null,
   "id": "6e7b6c3b",
   "metadata": {},
   "outputs": [],
   "source": [
    "#check if there are more double faults than service performed\n",
    "df_tennis.loc[df_tennis['w_svpt'] < df_tennis['w_df']].shape[0]"
   ]
  },
  {
   "cell_type": "code",
   "execution_count": null,
   "id": "fe2dc9d2",
   "metadata": {},
   "outputs": [],
   "source": [
    "#W_svpt: winner's number of serve points\n",
    "negative_w_ace = df_tennis.loc[df_tennis['w_svpt'] < 0].shape[0]\n",
    "print(negative_w_ace)"
   ]
  },
  {
   "cell_type": "code",
   "execution_count": null,
   "id": "42dda50e",
   "metadata": {
    "scrolled": true
   },
   "outputs": [],
   "source": [
    "#check for outliers for w_svpt\n",
    "df_tennis.boxplot(vert=False, column=['w_svpt'], return_type='axes',figsize=(10, 3))\n",
    "plt.show()"
   ]
  },
  {
   "cell_type": "markdown",
   "id": "35363cbe",
   "metadata": {},
   "source": [
    "There are outiliers in the service point, values that goes over twenty-five hundred.\n",
    "*It can be theoretically possible.*"
   ]
  },
  {
   "cell_type": "code",
   "execution_count": null,
   "id": "1fa058a1",
   "metadata": {},
   "outputs": [],
   "source": [
    "df_tennis.loc[df_tennis['w_svpt'] >250].shape[0]"
   ]
  },
  {
   "cell_type": "markdown",
   "id": "93b3a2bd",
   "metadata": {},
   "source": [
    "#### l_ace, l_df and l_svpt"
   ]
  },
  {
   "cell_type": "code",
   "execution_count": null,
   "id": "4eb2fbf5",
   "metadata": {},
   "outputs": [],
   "source": [
    "# TODO: l_ace: loser's number of aces; l_df: loser's number of doubles faults; l_svpt: loser's number of serve points"
   ]
  },
  {
   "cell_type": "markdown",
   "id": "10ad9c5d",
   "metadata": {},
   "source": [
    "#### w_1stIn"
   ]
  },
  {
   "cell_type": "code",
   "execution_count": null,
   "id": "f9a8b021",
   "metadata": {},
   "outputs": [],
   "source": [
    "# TODO: W_1stln: winner’s number of first serves made\n",
    "#check to find negative values\n",
    "df_tennis.loc[df_tennis['w_1stIn'] < 0].shape[0]"
   ]
  },
  {
   "cell_type": "markdown",
   "id": "ab2002a0",
   "metadata": {},
   "source": [
    "#### l_1stIn"
   ]
  },
  {
   "cell_type": "code",
   "execution_count": null,
   "id": "1407c7ef",
   "metadata": {},
   "outputs": [],
   "source": [
    "# TODO: loser’s number of first serves made"
   ]
  },
  {
   "cell_type": "markdown",
   "id": "37a3cd9f",
   "metadata": {},
   "source": [
    "#### w_1stWon and w_2ndWon"
   ]
  },
  {
   "cell_type": "code",
   "execution_count": null,
   "id": "f92e20f6",
   "metadata": {},
   "outputs": [],
   "source": [
    "#check to find negative values\n",
    "df_tennis.loc[df_tennis['w_1stWon'] < 0].shape[0]"
   ]
  },
  {
   "cell_type": "code",
   "execution_count": null,
   "id": "a642d938",
   "metadata": {},
   "outputs": [],
   "source": [
    "#check if there are more w_1stWon than fist service performed\n",
    "df_tennis.loc[df_tennis['w_1stIn'] < df_tennis['w_1stWon']].shape[0]"
   ]
  },
  {
   "cell_type": "code",
   "execution_count": null,
   "id": "29dfcaea",
   "metadata": {},
   "outputs": [],
   "source": [
    "#check to find negative values\n",
    "df_tennis.loc[df_tennis['w_2ndWon'] < 0].shape[0]"
   ]
  },
  {
   "cell_type": "markdown",
   "id": "58262411",
   "metadata": {},
   "source": [
    "#### l_1stWon and l_2ndWon\n"
   ]
  },
  {
   "cell_type": "code",
   "execution_count": null,
   "id": "86c1a88e",
   "metadata": {},
   "outputs": [],
   "source": [
    "# TODO: l_1stWon: loser’s number of first-serve points won; l_2stwon: loser’s number of second-serve points won"
   ]
  },
  {
   "cell_type": "markdown",
   "id": "5b8c66d2",
   "metadata": {},
   "source": [
    "#### w_SvGms,  w_bpSaved and w_bpFaced\n",
    "service game means the games that the player wins without the oppent scoring "
   ]
  },
  {
   "cell_type": "code",
   "execution_count": null,
   "id": "d5e026de",
   "metadata": {},
   "outputs": [],
   "source": [
    "# TODO: W_SvGms: winner’s number of serve games; W_bdSaved: winner's number of breakpoints saved; W_bdFaced: winner's number of breakpoints faced"
   ]
  },
  {
   "cell_type": "markdown",
   "id": "39ac5857",
   "metadata": {},
   "source": [
    "#### l_SvGms,  l_bpSaved and l_bpFaced"
   ]
  },
  {
   "cell_type": "code",
   "execution_count": null,
   "id": "25d7fcd6",
   "metadata": {},
   "outputs": [],
   "source": [
    "# TODO: l_SvGms: loser’s number of serve games; l_bdSaved: loser's number of breakpoints saved; l_bdFaced: winner's number of breakpoints faced"
   ]
  },
  {
   "cell_type": "markdown",
   "id": "001d960a",
   "metadata": {},
   "source": [
    "#### Winner_rank"
   ]
  },
  {
   "cell_type": "code",
   "execution_count": null,
   "id": "393aea10",
   "metadata": {},
   "outputs": [],
   "source": [
    "#TO DO: fare una stima del massimo per maschi e femmine per capire all'incirca quanti sono i giocatori maschili/femminili professionisti"
   ]
  },
  {
   "cell_type": "code",
   "execution_count": 108,
   "id": "1c459bea",
   "metadata": {},
   "outputs": [
    {
     "data": {
      "text/plain": [
       "0           9.0\n",
       "1          16.0\n",
       "2           9.0\n",
       "3         239.0\n",
       "4          16.0\n",
       "          ...  \n",
       "186123      NaN\n",
       "186124    255.0\n",
       "186125      NaN\n",
       "186126    176.0\n",
       "186127      NaN\n",
       "Name: winner_rank, Length: 186128, dtype: float64"
      ]
     },
     "execution_count": 108,
     "metadata": {},
     "output_type": "execute_result"
    }
   ],
   "source": [
    "df_tennis['winner_rank']"
   ]
  },
  {
   "cell_type": "code",
   "execution_count": 96,
   "id": "9123f809",
   "metadata": {},
   "outputs": [
    {
     "data": {
      "text/plain": [
       "2220.0"
      ]
     },
     "execution_count": 96,
     "metadata": {},
     "output_type": "execute_result"
    }
   ],
   "source": [
    "df_tennis['winner_rank'].max()"
   ]
  },
  {
   "cell_type": "code",
   "execution_count": 100,
   "id": "08d55248",
   "metadata": {},
   "outputs": [
    {
     "data": {
      "text/plain": [
       "True"
      ]
     },
     "execution_count": 100,
     "metadata": {},
     "output_type": "execute_result"
    }
   ],
   "source": [
    " df_tennis['winner_rank'].min() >= 1 #there cannot be rank smaller than 1"
   ]
  },
  {
   "cell_type": "code",
   "execution_count": 102,
   "id": "dfcf21c1",
   "metadata": {},
   "outputs": [
    {
     "data": {
      "text/plain": [
       "1.0"
      ]
     },
     "execution_count": 102,
     "metadata": {},
     "output_type": "execute_result"
    }
   ],
   "source": [
    " df_tennis['winner_rank'].min()"
   ]
  },
  {
   "cell_type": "markdown",
   "id": "519c4e47",
   "metadata": {},
   "source": [
    "#### Winner_rank_points"
   ]
  },
  {
   "cell_type": "code",
   "execution_count": 89,
   "id": "b9679e32",
   "metadata": {},
   "outputs": [],
   "source": [
    "#TO DO: GRAFICI SEPARATI IN BASE ALLE CLASSIFICHE MASCHILI E FEMMINILI SEPARATE"
   ]
  },
  {
   "cell_type": "code",
   "execution_count": 34,
   "id": "d63df439",
   "metadata": {},
   "outputs": [
    {
     "data": {
      "text/plain": [
       "True"
      ]
     },
     "execution_count": 34,
     "metadata": {},
     "output_type": "execute_result"
    }
   ],
   "source": [
    "df_tennis['winner_rank_points'].max()<21750 #21750 is the maximum a player can reach"
   ]
  },
  {
   "cell_type": "code",
   "execution_count": 30,
   "id": "3fa7501e",
   "metadata": {},
   "outputs": [
    {
     "data": {
      "text/plain": [
       "16950.0"
      ]
     },
     "execution_count": 30,
     "metadata": {},
     "output_type": "execute_result"
    }
   ],
   "source": [
    "df_tennis['winner_rank_points'].max()"
   ]
  },
  {
   "cell_type": "code",
   "execution_count": 32,
   "id": "648aedd5",
   "metadata": {},
   "outputs": [
    {
     "data": {
      "text/plain": [
       "1.0"
      ]
     },
     "execution_count": 32,
     "metadata": {},
     "output_type": "execute_result"
    }
   ],
   "source": [
    "df_tennis['winner_rank_points'].min()"
   ]
  },
  {
   "cell_type": "code",
   "execution_count": 93,
   "id": "c3cf0d6a",
   "metadata": {},
   "outputs": [
    {
     "data": {
      "text/plain": [
       "209"
      ]
     },
     "execution_count": 93,
     "metadata": {},
     "output_type": "execute_result"
    }
   ],
   "source": [
    "df_tennis[df_tennis['winner_rank_points'] == df_tennis['winner_rank_points'].min()].shape[0] "
   ]
  },
  {
   "cell_type": "code",
   "execution_count": 65,
   "id": "e113ea6c",
   "metadata": {},
   "outputs": [
    {
     "data": {
      "text/plain": [
       "<AxesSubplot:xlabel='winner_rank_points', ylabel='Count'>"
      ]
     },
     "execution_count": 65,
     "metadata": {},
     "output_type": "execute_result"
    },
    {
     "data": {
      "image/png": "[encoded data removed]",
      "text/plain": [
       "<Figure size 1152x360 with 2 Axes>"
      ]
     },
     "metadata": {
      "needs_background": "light"
     },
     "output_type": "display_data"
    }
   ],
   "source": [
    "fig = plt.figure(figsize=(16, 5)) \n",
    "fig_dims = (1, 2)\n",
    "\n",
    "plt.subplot2grid(fig_dims, (0, 0))\n",
    "sns.histplot(data=df_tennis['winner_rank_points'], bins=\"doane\", binrange=(0,21750), color=\"lightgreen\")\n",
    "\n",
    "plt.subplot2grid(fig_dims, (0, 1))\n",
    "sns.histplot(data=df_tennis['winner_rank_points'], bins=\"doane\", binrange=(0,2000), color=\"lightgreen\")"
   ]
  },
  {
   "cell_type": "markdown",
   "id": "e89eee1f",
   "metadata": {},
   "source": [
    "## Missing values: default value"
   ]
  },
  {
   "cell_type": "code",
   "execution_count": null,
   "id": "23d47a84",
   "metadata": {},
   "outputs": [],
   "source": [
    "# TODO:"
   ]
  },
  {
   "cell_type": "markdown",
   "id": "82d1584c",
   "metadata": {},
   "source": [
    "## Correlation"
   ]
  },
  {
   "cell_type": "code",
   "execution_count": null,
   "id": "be9c2987",
   "metadata": {},
   "outputs": [],
   "source": [
    "df_numeric = df_tennis[df_tennis.select_dtypes(include=['float64']).columns]"
   ]
  },
  {
   "cell_type": "code",
   "execution_count": null,
   "id": "67034be7",
   "metadata": {},
   "outputs": [],
   "source": [
    "#start with a filter on the correlation of |0.90|"
   ]
  },
  {
   "cell_type": "code",
   "execution_count": null,
   "id": "f403a7a2",
   "metadata": {},
   "outputs": [],
   "source": [
    "df_numeric.corr()"
   ]
  },
  {
   "cell_type": "markdown",
   "id": "2eda568f",
   "metadata": {},
   "source": [
    "inserire ragionamento sulla correlation"
   ]
  },
  {
   "cell_type": "markdown",
   "id": "cfcb97d6",
   "metadata": {},
   "source": [
    "## Statistics/distributions"
   ]
  },
  {
   "cell_type": "code",
   "execution_count": null,
   "id": "e3191859",
   "metadata": {},
   "outputs": [],
   "source": [
    "#some statistics\n",
    "#df_tennis.describe()"
   ]
  },
  {
   "cell_type": "markdown",
   "id": "8b25820c",
   "metadata": {},
   "source": [
    "# Idee Data Preparation"
   ]
  },
  {
   "cell_type": "code",
   "execution_count": null,
   "id": "a0b50e3d",
   "metadata": {},
   "outputs": [],
   "source": [
    "#TO DO: MODIFICARE \"A MANO\" TUTTI QUELLI SENZA COGNOME MA CON LA VIRGOLA NEL NOME"
   ]
  },
  {
   "cell_type": "code",
   "execution_count": null,
   "id": "57f596fa",
   "metadata": {},
   "outputs": [],
   "source": [
    "#TO DO: hands- sostituire gli unknown con le hands usate dallo stesso giocatore per altri match"
   ]
  },
  {
   "cell_type": "code",
   "execution_count": null,
   "id": "5eac428b",
   "metadata": {},
   "outputs": [],
   "source": [
    "#TO DO? UN'ANALISI CHE POTREMMO FARE è DI VEDERE LA PERCENTUALE DI MATCH DOVE IL GIOCATORE SI è RITIRATO O è STATO \n",
    "#SQUALIFICATO RISPETTO AL NUMERO DI PARTITE SOSTENUTE TOTALI"
   ]
  },
  {
   "cell_type": "code",
   "execution_count": null,
   "id": "dd521db5",
   "metadata": {},
   "outputs": [],
   "source": []
  },
  {
   "cell_type": "code",
   "execution_count": null,
   "id": "a266e87b",
   "metadata": {},
   "outputs": [],
   "source": []
  }
 ],
 "metadata": {
  "kernelspec": {
   "display_name": "Python 3 (ipykernel)",
   "language": "python",
   "name": "python3"
  },
  "language_info": {
   "codemirror_mode": {
    "name": "ipython",
    "version": 3
   },
   "file_extension": ".py",
   "mimetype": "text/x-python",
   "name": "python",
   "nbconvert_exporter": "python",
   "pygments_lexer": "ipython3",
   "version": "3.9.5"
  }
 },
 "nbformat": 4,
 "nbformat_minor": 5
}
