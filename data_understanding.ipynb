{
 "cells": [
  {
   "cell_type": "markdown",
   "id": "03227825",
   "metadata": {},
   "source": [
    "<b>Data mining Project - 2021/22</b><br/>\n",
    "<span>\n",
    "<b>Authors:</b> Mariagiovanna Rotundo (560765), Nunzio Lopardo (600005)</a> and Renato Eschini (203021)<br/>\n",
    "<b>Group:</b>3<br/>\n",
    "<b>Release date:</b> 26/12/2021\n",
    "</span>"
   ]
  },
  {
   "cell_type": "markdown",
   "id": "625e9d96",
   "metadata": {},
   "source": [
    "# Data understanding"
   ]
  },
  {
   "cell_type": "markdown",
   "id": "01e8df96",
   "metadata": {},
   "source": [
    "In this notebook, we tried to understand what are the meaning of data and what are the domains of the attributes in the dataset. We also analyzed if there are errors of any kind seen in the theoretical part of the course."
   ]
  },
  {
   "cell_type": "markdown",
   "id": "f84f0b63",
   "metadata": {},
   "source": [
    "**Importing libraries**"
   ]
  },
  {
   "cell_type": "code",
   "execution_count": null,
   "id": "98a1d139",
   "metadata": {},
   "outputs": [],
   "source": [
    "import math\n",
    "import numpy as np\n",
    "import scipy.stats as stats\n",
    "import matplotlib.pyplot as plt\n",
    "from sklearn.decomposition import PCA\n",
    "\n",
    "import collections\n",
    "from scipy.stats.stats import pearsonr\n",
    "import pandas as pd\n",
    "import os\n",
    "from datetime import date\n",
    "import datetime\n",
    "\n",
    "import seaborn as sns\n",
    "import re"
   ]
  },
  {
   "cell_type": "code",
   "execution_count": null,
   "id": "9226d130",
   "metadata": {},
   "outputs": [],
   "source": [
    "from ipynb.fs.full.functions_understanding import *"
   ]
  },
  {
   "cell_type": "markdown",
   "id": "1f7e996b",
   "metadata": {},
   "source": [
    "**Loading the datasets**"
   ]
  },
  {
   "cell_type": "code",
   "execution_count": null,
   "id": "a908420f",
   "metadata": {},
   "outputs": [],
   "source": [
    "# load of the data\n",
    "DATASET_DIR = \"dataset\" + os.path.sep\n",
    "df_tennis = pd.read_csv(DATASET_DIR + 'tennis_matches.csv', sep=',', index_col=0) \n",
    "\n",
    "#index_col=False say to not use the first column as ID\n",
    "df_male = pd.read_csv(DATASET_DIR + 'male_players.csv', sep=',', index_col=False)\n",
    "df_female = pd.read_csv(DATASET_DIR + 'female_players.csv', sep=',', index_col=False) "
   ]
  },
  {
   "cell_type": "markdown",
   "id": "80d511ae",
   "metadata": {},
   "source": [
    "**Print some records of the datasets**"
   ]
  },
  {
   "cell_type": "markdown",
   "id": "89fad6cc",
   "metadata": {},
   "source": [
    "A first print to look to the structure and data of the three datasets"
   ]
  },
  {
   "cell_type": "code",
   "execution_count": null,
   "id": "7da9b707",
   "metadata": {},
   "outputs": [],
   "source": [
    "df_tennis.head()"
   ]
  },
  {
   "cell_type": "code",
   "execution_count": null,
   "id": "4d7a8ca8",
   "metadata": {},
   "outputs": [],
   "source": [
    "df_male.head()"
   ]
  },
  {
   "cell_type": "code",
   "execution_count": null,
   "id": "11d16092",
   "metadata": {},
   "outputs": [],
   "source": [
    "df_female.head()"
   ]
  },
  {
   "cell_type": "markdown",
   "id": "dd69d871",
   "metadata": {},
   "source": [
    "**Table obtained from the following analysis about columns of tennis dataset**"
   ]
  },
  {
   "cell_type": "markdown",
   "id": "e8d357a4",
   "metadata": {},
   "source": [
    "A table that summarize the type of attribute in the tennis dataset. For each winner attribute there is the loser counterpart that is not in not reported in the table"
   ]
  },
  {
   "cell_type": "markdown",
   "id": "29f1f0a3",
   "metadata": {},
   "source": [
    "|  Categorical  |   Ordinal   |      Numerical     | Ratio-Scaled |\n",
    "|:-------------:|:-----------:|:------------------:|:------------:|\n",
    "|   tournay_id  |  match_num  |      draw_size     |   winner_ht  |\n",
    "|  tournay_name | winner_rank |       minutes      |  winner_age  |\n",
    "|    surface    |             |     winner_ace     |              |\n",
    "| tournay_level |             |      winner_df     |              |\n",
    "|   winner_id   |             |     winner_svpt    |              |\n",
    "|   winner_ioc  |             |    winner_1stln    |              |\n",
    "|  winner_hand  |             |    winner_1stwon   |              |\n",
    "|  winner_entry |             |    winner_2stwon   |              |\n",
    "|    best_of    |             |       w_svgms      |              |\n",
    "|               |             | winner_rank_points |              |\n",
    "|               |             |      w_bdsaved     |              |\n",
    "|               |             |      w_bdfaced     |              |"
   ]
  },
  {
   "cell_type": "markdown",
   "id": "dfcd2dc7",
   "metadata": {},
   "source": [
    "## 1. Missing values: Null"
   ]
  },
  {
   "cell_type": "markdown",
   "id": "fdece7da",
   "metadata": {},
   "source": [
    "A first check on the datsets is about the analysis of the missing values (not marked with default values such us \"unknown\" or similar). This check is done for all the three datsets and it is analyzed attribute by attribute also looking at quantity of missing values "
   ]
  },
  {
   "cell_type": "markdown",
   "id": "d65ed744",
   "metadata": {},
   "source": [
    "**male dataset**"
   ]
  },
  {
   "cell_type": "code",
   "execution_count": null,
   "id": "33d8eddc",
   "metadata": {},
   "outputs": [],
   "source": [
    "#info about data that we have for male\n",
    "df_male.info()"
   ]
  },
  {
   "cell_type": "code",
   "execution_count": null,
   "id": "9df3aef0",
   "metadata": {},
   "outputs": [],
   "source": [
    "#number of null in the columns\n",
    "df_male.isnull().sum(axis = 0)"
   ]
  },
  {
   "cell_type": "code",
   "execution_count": null,
   "id": "6eb11a73",
   "metadata": {},
   "outputs": [],
   "source": [
    "df_male.isnull().sum(axis = 0).plot(kind='bar', ylabel=\"number of nulls\")"
   ]
  },
  {
   "cell_type": "markdown",
   "id": "c0595058",
   "metadata": {},
   "source": [
    "The male dataframe is composed by 2 columns: name and surname. It has 55208 entries and in the name column there are 177 nulls, while in surname there are 43 nulls."
   ]
  },
  {
   "cell_type": "markdown",
   "id": "6ad7a517",
   "metadata": {},
   "source": [
    "**female dataset**"
   ]
  },
  {
   "cell_type": "code",
   "execution_count": null,
   "id": "96baa8e2",
   "metadata": {},
   "outputs": [],
   "source": [
    "#info about data that we have for female\n",
    "df_female.info()"
   ]
  },
  {
   "cell_type": "code",
   "execution_count": null,
   "id": "1b6f320f",
   "metadata": {},
   "outputs": [],
   "source": [
    "#number of null in the columns\n",
    "df_female.isnull().sum(axis = 0)"
   ]
  },
  {
   "cell_type": "code",
   "execution_count": null,
   "id": "f93db8b4",
   "metadata": {},
   "outputs": [],
   "source": [
    "df_female.isnull().sum(axis = 0).plot(kind='bar', ylabel=\"number of nulls\")"
   ]
  },
  {
   "cell_type": "markdown",
   "id": "79296869",
   "metadata": {},
   "source": [
    "Also the female dataframe is composed by 2 columns: name and surname. It has 46172 entries and there are 1667 null values in the name, but in the surname column there are no null."
   ]
  },
  {
   "cell_type": "markdown",
   "id": "1e80fc94",
   "metadata": {},
   "source": [
    "**tennis dataset**"
   ]
  },
  {
   "cell_type": "code",
   "execution_count": null,
   "id": "da8b2be2",
   "metadata": {},
   "outputs": [],
   "source": [
    "df_tennis.info()"
   ]
  },
  {
   "cell_type": "code",
   "execution_count": null,
   "id": "68eb3dfe",
   "metadata": {
    "scrolled": false
   },
   "outputs": [],
   "source": [
    "#we see if the attributes have some null values\n",
    "df_tennis.isnull().any()"
   ]
  },
  {
   "cell_type": "code",
   "execution_count": null,
   "id": "7baec242",
   "metadata": {},
   "outputs": [],
   "source": [
    "#since all the attributes has missing values, we count them\n",
    "df_tennis.isnull().sum(axis = 0)"
   ]
  },
  {
   "cell_type": "markdown",
   "id": "692a4620",
   "metadata": {},
   "source": [
    "Tennis dataframe is composed by 49 columns and 186128 rows.\n",
    "Here, some attributes have very few null values (such as 26 or 27), but other attributes has more than 50% of null values (such us 103818 or 160301 null values on 186128)"
   ]
  },
  {
   "cell_type": "code",
   "execution_count": null,
   "id": "9f5170cb",
   "metadata": {},
   "outputs": [],
   "source": [
    "df_tennis.isnull().sum(axis = 0).hist(bins=\"sturges\", grid=False)"
   ]
  },
  {
   "cell_type": "markdown",
   "id": "c78ac53b",
   "metadata": {},
   "source": [
    "## 2. Duplicate data"
   ]
  },
  {
   "cell_type": "markdown",
   "id": "0237884b",
   "metadata": {},
   "source": [
    "A second check that was done is about duplicate data: a first check is about duplicate rows. Also a check to see if the same person (same name and surname) is in both male and female dataframes is done. "
   ]
  },
  {
   "cell_type": "markdown",
   "id": "d2f737de",
   "metadata": {},
   "source": [
    "**male and female dataset**"
   ]
  },
  {
   "cell_type": "code",
   "execution_count": null,
   "id": "09f655da",
   "metadata": {},
   "outputs": [],
   "source": [
    "#we see if there are duplicates in the dataset male and female\n",
    "df_male.duplicated(keep='first').sum()"
   ]
  },
  {
   "cell_type": "code",
   "execution_count": null,
   "id": "862d6e9e",
   "metadata": {},
   "outputs": [],
   "source": [
    "df_female.duplicated(keep='first').sum()"
   ]
  },
  {
   "cell_type": "markdown",
   "id": "458ff006",
   "metadata": {},
   "source": [
    "Both the datasets of male and female has rows with same name and surname. These rows can be duplicates (so they correspond to the same person) or they can be homonyms. In this latter case we cannot distinguish the matches of one player by the ones of the other player. In the next steps, looking data of tennis datafrane, we will consider them as the same duplicates and not homonyms."
   ]
  },
  {
   "cell_type": "code",
   "execution_count": null,
   "id": "f8e225b5",
   "metadata": {},
   "outputs": [],
   "source": [
    "#we remove (only) the duplicated rows\n",
    "df_male_no_dup = df_male.drop_duplicates()\n",
    "df_female_no_dup = df_female.drop_duplicates()"
   ]
  },
  {
   "cell_type": "markdown",
   "id": "157d8e4b",
   "metadata": {},
   "source": [
    "**Looking for people in both the datsets**"
   ]
  },
  {
   "cell_type": "code",
   "execution_count": null,
   "id": "3c22b05c",
   "metadata": {},
   "outputs": [],
   "source": [
    "#see if a name can be both male and female and manage them\n",
    "df_players = pd.concat([df_male_no_dup, df_female_no_dup])\n",
    "df_players[df_players.duplicated(keep='first')==True]"
   ]
  },
  {
   "cell_type": "code",
   "execution_count": null,
   "id": "f38e7275",
   "metadata": {},
   "outputs": [],
   "source": [
    "df_players.duplicated(keep='first').sum()"
   ]
  },
  {
   "cell_type": "markdown",
   "id": "cb6d0dee",
   "metadata": {},
   "source": [
    "There are 74 rows for both players male and female."
   ]
  },
  {
   "cell_type": "code",
   "execution_count": null,
   "id": "cc6404cd",
   "metadata": {},
   "outputs": [],
   "source": [
    "df_players[df_players.duplicated(subset=['name', 'surname'], keep='first')==True]"
   ]
  },
  {
   "cell_type": "markdown",
   "id": "748ced1b",
   "metadata": {},
   "source": [
    "**tennis dataset**"
   ]
  },
  {
   "cell_type": "code",
   "execution_count": null,
   "id": "bc83a1c9",
   "metadata": {},
   "outputs": [],
   "source": [
    "#check if there are duplicated rows in the dataset\n",
    "df_tennis.duplicated(keep='first').sum()"
   ]
  },
  {
   "cell_type": "markdown",
   "id": "4d44ff50",
   "metadata": {},
   "source": [
    "In the tennis dataframe there are 309 duplicate rows."
   ]
  },
  {
   "cell_type": "markdown",
   "id": "cd007cd3",
   "metadata": {},
   "source": [
    "So, in all the three dataframes there are duplicates"
   ]
  },
  {
   "cell_type": "markdown",
   "id": "91e9cf71",
   "metadata": {},
   "source": [
    "## 3. Errors in male and female"
   ]
  },
  {
   "cell_type": "markdown",
   "id": "2b8384a4",
   "metadata": {},
   "source": [
    "Names and surnames are analyzed to find characters that can't be in there (such as \"?\" or numbers) and missing values (also ones characterized by default values are search for).<br>\n",
    "Are considered as valid characters only letters and the simbols \"'\", \".\", \"-\" for names like \"O'Connors\", \"Jr.\" or similar with same pattern.<br>\n",
    "It is done a check to see if pandas library correctly splits values in the colums instead of read values of 2 columns as a single value of only one column"
   ]
  },
  {
   "cell_type": "markdown",
   "id": "f5c9ccbc",
   "metadata": {},
   "source": [
    "**male dataset**"
   ]
  },
  {
   "cell_type": "code",
   "execution_count": null,
   "id": "92e4c215",
   "metadata": {},
   "outputs": [],
   "source": [
    "#see if all the names and surnames are valid\n",
    "df_male[df_male['surname'].str.count(\"[a-zA-Z '.-]\")!=df_male['surname'].str.len()]"
   ]
  },
  {
   "cell_type": "code",
   "execution_count": null,
   "id": "9011bf3d",
   "metadata": {},
   "outputs": [],
   "source": [
    "df_male[df_male['name'].str.count(\"[a-zA-Z ',.-]\")!=df_male['name'].str.len()]"
   ]
  },
  {
   "cell_type": "code",
   "execution_count": null,
   "id": "56b6b4a2",
   "metadata": {},
   "outputs": [],
   "source": [
    "df_check_name = df_male[~df_male['name'].isna()]\n",
    "df_check_name[df_check_name['name'].str.contains(',')]"
   ]
  },
  {
   "cell_type": "code",
   "execution_count": null,
   "id": "8e13553c",
   "metadata": {},
   "outputs": [],
   "source": [
    "df_check_surname = df_male[~df_male['surname'].isna()]\n",
    "df_check_surname[df_check_surname['surname'].str.contains(',')]"
   ]
  },
  {
   "cell_type": "code",
   "execution_count": null,
   "id": "50ba978d",
   "metadata": {},
   "outputs": [],
   "source": [
    "#unknown names\n",
    "print(\"Unknown name: \", df_male[df_male['name'].str.lower()=='unknown'].shape[0])\n",
    "#unknown surnames\n",
    "print(\"Unknown surname: \", df_male[df_male['surname'].str.lower()=='unknown'].shape[0])"
   ]
  },
  {
   "cell_type": "markdown",
   "id": "419945b7",
   "metadata": {},
   "source": [
    "In the male dataset, in the surname column there are 99 invalid values, while in the name there are 179 (also nulls are counted). Furtermore, there are 50 missing values specified by the \"unknown\" values in the name column and 6 in the surname columns. There is also a row split in a wrong way by pandas library where name and surname are all in name columns and surname is Nan (the row 40071)"
   ]
  },
  {
   "cell_type": "markdown",
   "id": "3403f3b7",
   "metadata": {},
   "source": [
    "**female**"
   ]
  },
  {
   "cell_type": "code",
   "execution_count": null,
   "id": "4719d811",
   "metadata": {},
   "outputs": [],
   "source": [
    "df_female[df_female['surname'].str.count(\"[a-zA-Z '.-]\")!=df_female['surname'].str.len()]"
   ]
  },
  {
   "cell_type": "code",
   "execution_count": null,
   "id": "e0effe77",
   "metadata": {},
   "outputs": [],
   "source": [
    "df_female[df_female['name'].str.count(\"[a-zA-Z ',.-]\")!=df_female['name'].str.len()]"
   ]
  },
  {
   "cell_type": "code",
   "execution_count": null,
   "id": "19aad308",
   "metadata": {},
   "outputs": [],
   "source": [
    "df_check_name = df_female[~df_female['name'].isna()]\n",
    "df_check_name[df_check_name['name'].str.contains(',')]"
   ]
  },
  {
   "cell_type": "code",
   "execution_count": null,
   "id": "2b2cbf58",
   "metadata": {},
   "outputs": [],
   "source": [
    "df_check_surname = df_female[~df_female['surname'].isna()]\n",
    "df_check_surname[df_check_surname['surname'].str.contains(',')]"
   ]
  },
  {
   "cell_type": "code",
   "execution_count": null,
   "id": "3e600847",
   "metadata": {},
   "outputs": [],
   "source": [
    "#unknown names\n",
    "print(\"Unknown name: \", df_female[df_female['name'].str.lower()=='unknown'].shape[0])\n",
    "#unknown surnames\n",
    "print(\"Unknown surname: \", df_female[df_female['surname'].str.lower()=='unknown'].shape[0])"
   ]
  },
  {
   "cell_type": "markdown",
   "id": "457be46e",
   "metadata": {},
   "source": [
    "In the female dataset, in the surname column there are 2 invalid values, while in the name there are 1667 (also nulls are counted). There are no missing values specified by the \"unknown\" values and no rows split in a wrong way by pandas."
   ]
  },
  {
   "cell_type": "markdown",
   "id": "7d76bc67",
   "metadata": {},
   "source": [
    "## 4. Analysis of tennis dataset"
   ]
  },
  {
   "cell_type": "markdown",
   "id": "71ccc521",
   "metadata": {},
   "source": [
    "**print of name of columns of tennis dataset**"
   ]
  },
  {
   "cell_type": "code",
   "execution_count": null,
   "id": "6a65e8f1",
   "metadata": {},
   "outputs": [],
   "source": [
    "df_tennis.columns"
   ]
  },
  {
   "cell_type": "markdown",
   "id": "03b65188",
   "metadata": {},
   "source": [
    "**print of types of the columns**"
   ]
  },
  {
   "cell_type": "code",
   "execution_count": null,
   "id": "9aa8967c",
   "metadata": {},
   "outputs": [],
   "source": [
    "df_tennis.dtypes.value_counts()"
   ]
  },
  {
   "cell_type": "code",
   "execution_count": null,
   "id": "6cc06740",
   "metadata": {
    "scrolled": false
   },
   "outputs": [],
   "source": [
    "#Values in the columns with type object\n",
    "for column in df_tennis.select_dtypes(include=['object']).columns:\n",
    "    print(\"Distinct Values in \"+str(column)+\": \\n\", df_tennis[column].unique(), \"\\n\")"
   ]
  },
  {
   "cell_type": "markdown",
   "id": "f55273fe",
   "metadata": {},
   "source": [
    "#### tourney_id"
   ]
  },
  {
   "cell_type": "markdown",
   "id": "b5de63bd",
   "metadata": {},
   "source": [
    "For this attribute it is checked that the first 4 characters is a valid year (a year not in the future and not before the 1874, year in which tennis was invented) for the tourney as specified in the documentation. It is also checked that a tourney id is associated to more matches and it is counted the number of different toruney ids."
   ]
  },
  {
   "cell_type": "code",
   "execution_count": null,
   "id": "7ecaeee8",
   "metadata": {},
   "outputs": [],
   "source": [
    "#check that for non null values, the first 4 char are the year\n",
    "#count rows whose firts 4 char are not numbers\n",
    "df_tennis[df_tennis['tourney_id'].str[:4].str.isnumeric()==False].shape[0] "
   ]
  },
  {
   "cell_type": "code",
   "execution_count": null,
   "id": "07b7cf51",
   "metadata": {},
   "outputs": [],
   "source": [
    "#chech if some years are in the future (so are invalid)(ignore nulls)\n",
    "df_tennis[pd.to_numeric(df_tennis['tourney_id'].str[:4]).fillna(0).astype('int') > date.today().year].shape[0] "
   ]
  },
  {
   "cell_type": "code",
   "execution_count": null,
   "id": "f168ffe5",
   "metadata": {},
   "outputs": [],
   "source": [
    "#chech if there are invalid years because to much in the past (ignore nulls)\n",
    "df_tennis[pd.to_numeric(df_tennis['tourney_id'].str[:4]).fillna(date.today().year).astype('int') < 1874 ].shape[0] "
   ]
  },
  {
   "cell_type": "markdown",
   "id": "9c859371",
   "metadata": {},
   "source": [
    "The first 4 numbers in the tourney_id are always valid when the tourney_id id not null"
   ]
  },
  {
   "cell_type": "code",
   "execution_count": null,
   "id": "688e4e36",
   "metadata": {},
   "outputs": [],
   "source": [
    "#chech that for each tourney there is more than one match (every id appears more than once)\n",
    "df_tennis[df_tennis['tourney_id'].duplicated(keep=False)==False].shape[0] "
   ]
  },
  {
   "cell_type": "markdown",
   "id": "666d0995",
   "metadata": {},
   "source": [
    "Every torney_id appears more than once"
   ]
  },
  {
   "cell_type": "code",
   "execution_count": null,
   "id": "7aadc5f8",
   "metadata": {},
   "outputs": [],
   "source": [
    "#check how many distinct tourney are present\n",
    "df_tennis[\"tourney_id\"].value_counts().count()"
   ]
  },
  {
   "cell_type": "markdown",
   "id": "027698a5",
   "metadata": {},
   "source": [
    "There are 4853 distinc tourney in the dataset"
   ]
  },
  {
   "cell_type": "markdown",
   "id": "84a9e81d",
   "metadata": {},
   "source": [
    "#### tourney_name"
   ]
  },
  {
   "cell_type": "code",
   "execution_count": null,
   "id": "05e18cf9",
   "metadata": {},
   "outputs": [],
   "source": [
    "#chech that for the same tourney_id we have always the same name\n",
    "len(df_tennis.groupby(['tourney_id','tourney_name']).size())-len(df_tennis.groupby(['tourney_id']).size())\n",
    "#df_tennis[df_tennis['tourney_id']=='2019-M021'] #this is an example of toruney id with more names"
   ]
  },
  {
   "cell_type": "code",
   "execution_count": null,
   "id": "d02321dc",
   "metadata": {},
   "outputs": [],
   "source": [
    "len(df_tennis.groupby(['tourney_name','tourney_id']).size())-len(df_tennis.groupby(['tourney_name']).size())"
   ]
  },
  {
   "cell_type": "markdown",
   "id": "2d480def",
   "metadata": {},
   "source": [
    "For a certain tourney_id we may have more tourney_names, so we should manage these names for example to remove errors from some rows. For a tourney_name we can have more tourney_ids."
   ]
  },
  {
   "cell_type": "code",
   "execution_count": null,
   "id": "9af839d4",
   "metadata": {},
   "outputs": [],
   "source": [
    "df_tennis[\"tourney_name\"].value_counts().count() #do not consider also the nan"
   ]
  },
  {
   "cell_type": "code",
   "execution_count": null,
   "id": "0fe92f38",
   "metadata": {},
   "outputs": [],
   "source": [
    "dict_tourney_id = df_tennis.groupby('tourney_id')['tourney_name'].unique().apply(list).to_dict()\n",
    "for key, value in dict_tourney_id.items():\n",
    "    if len(value)>1:\n",
    "        print(key, value)"
   ]
  },
  {
   "cell_type": "markdown",
   "id": "7d0dc10f",
   "metadata": {},
   "source": [
    "It is possible to notice that the names associated to the same tourney id are very similar. For example: 'US Open' and 'Us Open' or 'Rome Masters' and 'Rome'"
   ]
  },
  {
   "cell_type": "markdown",
   "id": "f56ad113",
   "metadata": {},
   "source": [
    "**surface**"
   ]
  },
  {
   "cell_type": "code",
   "execution_count": null,
   "id": "4d0b2f0a",
   "metadata": {},
   "outputs": [],
   "source": [
    "df_tennis.groupby('surface')['tourney_id'].nunique()"
   ]
  },
  {
   "cell_type": "markdown",
   "id": "1b474c5e",
   "metadata": {},
   "source": [
    "The domains is composed by 4 different values and some of them appear more frequently than others."
   ]
  },
  {
   "cell_type": "markdown",
   "id": "30ca7383",
   "metadata": {},
   "source": [
    "#### tourney_level"
   ]
  },
  {
   "cell_type": "markdown",
   "id": "4d8bb23f",
   "metadata": {},
   "source": [
    "Levels for male tourney and female tourney are specified and analyzed. It is analyzed also the domain to see if there are some more codes than the ones in the documentation"
   ]
  },
  {
   "cell_type": "code",
   "execution_count": null,
   "id": "170f2691",
   "metadata": {},
   "outputs": [],
   "source": [
    "#codes from documentation\n",
    "levels_man = ['G', 'M', 'A', 'C', 'S', 'F', 'D']\n",
    "levels_woman = levels_man + ['P', 'PM', 'I', 'T1']\n",
    "levels_woman_man = ['E','J','T']\n",
    "all_levels = levels_man + levels_woman + levels_woman_man"
   ]
  },
  {
   "cell_type": "code",
   "execution_count": null,
   "id": "55385e78",
   "metadata": {},
   "outputs": [],
   "source": [
    "codes = df_tennis[(~df_tennis['tourney_level'].isin(all_levels)) & (~df_tennis['tourney_level'].isna())]['tourney_level'].unique()\n",
    "codes"
   ]
  },
  {
   "cell_type": "markdown",
   "id": "f028ad1b",
   "metadata": {},
   "source": [
    "There are 2 more codes respect the one expressely indicated by the documentation: 'O', that is the code for Olympic Games (male and female) and 'W', that is a code associated to women's tourneys. The numeric codes are associated to both male and female tourneys."
   ]
  },
  {
   "cell_type": "code",
   "execution_count": null,
   "id": "80247176",
   "metadata": {},
   "outputs": [],
   "source": [
    "#list updated with new values\n",
    "levels_woman = levels_woman + ['W']\n",
    "male_female_codes = codes.tolist()\n",
    "male_female_codes.remove('W')\n",
    "levels_woman_man = levels_woman_man + male_female_codes\n",
    "all_levels = levels_man + levels_woman + levels_woman_man"
   ]
  },
  {
   "cell_type": "code",
   "execution_count": null,
   "id": "db950ce8",
   "metadata": {
    "scrolled": true
   },
   "outputs": [],
   "source": [
    "#check what are other codes that can appear (for women)\n",
    "df_other_levels = df_tennis[~df_tennis['tourney_level'].isin(all_levels)]\n",
    "#get codes about the prize money\n",
    "df_other_levels[df_other_levels['tourney_level'].str.isnumeric()==True]['tourney_level'].unique()"
   ]
  },
  {
   "cell_type": "code",
   "execution_count": null,
   "id": "08488749",
   "metadata": {},
   "outputs": [],
   "source": [
    "#get the other codes not cited in the document and that are not prize\n",
    "df_other_levels[df_other_levels['tourney_level'].str.isnumeric()==False]['tourney_level'].unique()"
   ]
  },
  {
   "cell_type": "code",
   "execution_count": null,
   "id": "c360549a",
   "metadata": {},
   "outputs": [],
   "source": [
    "#check if there are at least one row for each cited code\n",
    "list(set(all_levels) - set(df_tennis['tourney_level'].unique()))"
   ]
  },
  {
   "cell_type": "markdown",
   "id": "eb1a82f1",
   "metadata": {},
   "source": [
    "For these codes there are no rows in the dataset"
   ]
  },
  {
   "cell_type": "code",
   "execution_count": null,
   "id": "341152f0",
   "metadata": {
    "scrolled": true
   },
   "outputs": [],
   "source": [
    "#get the occurrenes of each level\n",
    "df_tennis[\"tourney_level\"].value_counts()"
   ]
  },
  {
   "cell_type": "markdown",
   "id": "a7f28a54",
   "metadata": {},
   "source": [
    "Check between sex of the player and code of the tourney where xe plays"
   ]
  },
  {
   "cell_type": "code",
   "execution_count": null,
   "id": "d2cbc4af",
   "metadata": {
    "scrolled": true
   },
   "outputs": [],
   "source": [
    "# check sex by names\n",
    "df_male['combined'] = df_male['name'].astype(str) + ' ' + df_male['surname'].astype(str)\n",
    "df_female['combined'] = df_female['name'].astype(str) + ' ' + df_female['surname'].astype(str)\n",
    "\n",
    "# we transform into dictionaries to optimize search performance, putting name and surname as keys\n",
    "dict_male = df_male['combined'].to_dict();\n",
    "dict_male_rev = {value:key for key, value in dict_male.items()}\n",
    "\n",
    "dict_female = df_female['combined'].to_dict();\n",
    "dict_female_rev = {value:key for key, value in dict_female.items()}\n",
    "\n",
    "df_tennis_level_tmp = df_tennis.copy() # avoid overwrite original dataset\n",
    "# apply CheckSex as lambda function to all rows, add new columns with sex\n",
    "df_tennis_level_tmp['w_sex'] = df_tennis_level_tmp['winner_name'].apply(lambda x: CheckSex(x, dict_male_rev, dict_female_rev))\n",
    "df_tennis_level_tmp['l_sex'] = df_tennis_level_tmp['loser_name'].apply(lambda x: CheckSex(x, dict_male_rev, dict_female_rev))\n",
    "\n",
    "no_error = True\n",
    "for row in df_tennis_level_tmp.itertuples():\n",
    "    level = row.tourney_level\n",
    "    # if there is a nan in level, skip to next...\n",
    "    if str(level)=='nan':\n",
    "        continue\n",
    "    w_sex = row.w_sex\n",
    "    l_sex = row.l_sex \n",
    "    # check sex...\n",
    "    if w_sex == 'm' or l_sex == 'm':\n",
    "        # search for the level in the respective set for man and woman/man\n",
    "        if level not in levels_man and level not in levels_woman_man:  \n",
    "            no_error = False\n",
    "            print('level error: w_sex:' + w_sex + ' - l_sex:' + l_sex + ' - tourney_id:' + str(row.tourney_id) + ' - ' + str(wn) + ' vs ' + str(ln) + ' - level:' + str(level))\n",
    "    elif w_sex == 'f' or l_sex == 'f':\n",
    "        # search for the level in the respective set for man and woman/man\n",
    "        if level not in levels_woman and level not in  levels_woman_man:\n",
    "            no_error = False\n",
    "            print('level error: w_sex:' + w_sex + ' - l_sex:' + l_sex + ' - tourney_id:' + str(row.tourney_id) + ' - ' + str(wn) + ' vs ' + str(ln) + ' - level:' + str(level))\n",
    "            \n",
    "if no_error:\n",
    "    print(\"All levels are correct\")"
   ]
  },
  {
   "cell_type": "code",
   "execution_count": null,
   "id": "3846d82b",
   "metadata": {},
   "outputs": [],
   "source": [
    "df_tennis[\"tourney_level\"].value_counts().plot(kind='bar', ylabel=\"number of nulls\")\n",
    "df_tennis[\"tourney_level\"].unique()"
   ]
  },
  {
   "cell_type": "markdown",
   "id": "f25bfade",
   "metadata": {},
   "source": [
    "Graphic to show that occurrences of values in the tourney level are unbalanced"
   ]
  },
  {
   "cell_type": "markdown",
   "id": "6c40a9db",
   "metadata": {},
   "source": [
    "#### winner_name and loser_name"
   ]
  },
  {
   "cell_type": "markdown",
   "id": "48c4662f",
   "metadata": {},
   "source": [
    "Check if there are invalid characters in the names of winner and loser as done for male and female dataset, using also an external source to compare names"
   ]
  },
  {
   "cell_type": "code",
   "execution_count": null,
   "id": "52b13a8a",
   "metadata": {},
   "outputs": [],
   "source": [
    "#check that names are valid\n",
    "df_tennis[df_tennis['winner_name'].str.count(\"[a-zA-Z ',.-]\")!=df_tennis['winner_name'].str.len()]['winner_name']"
   ]
  },
  {
   "cell_type": "code",
   "execution_count": null,
   "id": "de89588a",
   "metadata": {},
   "outputs": [],
   "source": [
    "df_tennis[df_tennis['loser_name'].str.count(\"[a-zA-Z ',.-]\")!=df_tennis['loser_name'].str.len()]['loser_name']"
   ]
  },
  {
   "cell_type": "markdown",
   "id": "3978dbae",
   "metadata": {},
   "source": [
    "Execute the next three lines to execute the checks on male and female names."
   ]
  },
  {
   "cell_type": "code",
   "execution_count": null,
   "id": "00de331b",
   "metadata": {},
   "outputs": [],
   "source": [
    "df_names = pd.read_csv(DATASET_DIR + 'names.csv', sep=',', index_col=False)\n",
    "df_names.head()"
   ]
  },
  {
   "cell_type": "code",
   "execution_count": null,
   "id": "5f5b788e",
   "metadata": {},
   "outputs": [],
   "source": [
    "male_names = df_names[df_names['Gender'] == 'MALE']['Name']\n",
    "male_names = dict.fromkeys(male_names, None)"
   ]
  },
  {
   "cell_type": "code",
   "execution_count": null,
   "id": "adb93958",
   "metadata": {},
   "outputs": [],
   "source": [
    "female_names = df_names[df_names['Gender'] == 'FEMALE']['Name']\n",
    "female_names = dict.fromkeys(female_names, None)"
   ]
  },
  {
   "cell_type": "markdown",
   "id": "5db584d1",
   "metadata": {},
   "source": [
    "*male name*"
   ]
  },
  {
   "cell_type": "code",
   "execution_count": null,
   "id": "4948e333",
   "metadata": {},
   "outputs": [],
   "source": [
    "invalid_names = []\n",
    "for name in df_male['name'].dropna().tolist():\n",
    "    if (name in female_names):\n",
    "        invalid_names.append(name)\n",
    "print(dict.fromkeys(invalid_names, None).keys())"
   ]
  },
  {
   "cell_type": "markdown",
   "id": "8cb8e0f9",
   "metadata": {},
   "source": [
    "*female names*"
   ]
  },
  {
   "cell_type": "code",
   "execution_count": null,
   "id": "2e3b4492",
   "metadata": {},
   "outputs": [],
   "source": [
    "invalid_names = []\n",
    "for name in df_female['name'].dropna().tolist():\n",
    "    if (name in male_names):\n",
    "        invalid_names.append(name)\n",
    "print(dict.fromkeys(invalid_names, None).keys())"
   ]
  },
  {
   "cell_type": "markdown",
   "id": "fbdb1a2a",
   "metadata": {},
   "source": [
    "There are invalid characters in the names of some winners and some losers"
   ]
  },
  {
   "cell_type": "markdown",
   "id": "1f3581e1",
   "metadata": {},
   "source": [
    "#### winner_id and loser_id"
   ]
  },
  {
   "cell_type": "markdown",
   "id": "2795dd5e",
   "metadata": {},
   "source": [
    "Check if the same id is associated to only one player and that a player has only one id"
   ]
  },
  {
   "cell_type": "code",
   "execution_count": null,
   "id": "fc158df7",
   "metadata": {},
   "outputs": [],
   "source": [
    "df_tennis['winner_id'].value_counts()"
   ]
  },
  {
   "cell_type": "code",
   "execution_count": null,
   "id": "6ebf6f95",
   "metadata": {},
   "outputs": [],
   "source": [
    "df_tennis['loser_id'].value_counts()"
   ]
  },
  {
   "cell_type": "code",
   "execution_count": null,
   "id": "017dd46c",
   "metadata": {},
   "outputs": [],
   "source": [
    "find_match_sameWL(df_tennis)"
   ]
  },
  {
   "cell_type": "markdown",
   "id": "7f51171a",
   "metadata": {},
   "source": [
    "There are five records in which winner and loser are the same player so they have the same ids (and same information about the player). "
   ]
  },
  {
   "cell_type": "code",
   "execution_count": null,
   "id": "d58d9786",
   "metadata": {},
   "outputs": [],
   "source": [
    "df_mul_names = df_tennis[df_tennis['winner_id'].isin(get_w_id_names(df_tennis))][['winner_name','winner_id']].sort_values(by=['winner_name','winner_id'])\n",
    "df_mul_names = df_mul_names.value_counts().reset_index()\n",
    "df_mul_names.columns = ['winner_name', 'id', 'count']\n",
    "df_mul_names.sort_values(by='id')"
   ]
  },
  {
   "cell_type": "code",
   "execution_count": null,
   "id": "b8f71e19",
   "metadata": {},
   "outputs": [],
   "source": [
    "df_mul_names = df_tennis[df_tennis['loser_id'].isin(get_l_id_names(df_tennis))][['loser_name','loser_id']].sort_values(by=['loser_name','loser_id'])\n",
    "df_mul_names = df_mul_names.value_counts().reset_index()\n",
    "df_mul_names.columns = ['loser_name', 'id', 'count']\n",
    "df_mul_names.sort_values(by='id')"
   ]
  },
  {
   "cell_type": "code",
   "execution_count": null,
   "id": "2bf98c56",
   "metadata": {},
   "outputs": [],
   "source": [
    "df_tennis[df_tennis['winner_name'].isin(get_w_name_ids(df_tennis))][['winner_name','winner_id','winner_ioc','winner_hand']].drop_duplicates().sort_values(by='winner_name')"
   ]
  },
  {
   "cell_type": "code",
   "execution_count": null,
   "id": "9eb7f996",
   "metadata": {
    "scrolled": true
   },
   "outputs": [],
   "source": [
    "df_tennis[df_tennis['loser_name'].isin(get_l_name_ids(df_tennis))][['loser_name','loser_id','loser_ioc','loser_hand']].drop_duplicates().sort_values(by='loser_name')"
   ]
  },
  {
   "cell_type": "markdown",
   "id": "6647df20",
   "metadata": {},
   "source": [
    "There are tennis players that presents more then one id associated, both for winners(9) and losers(19) and there are ids associated to more than one players."
   ]
  },
  {
   "cell_type": "markdown",
   "id": "4e2a6460",
   "metadata": {},
   "source": [
    "#### winner_hand and loser_hand"
   ]
  },
  {
   "cell_type": "markdown",
   "id": "c4106e9f",
   "metadata": {},
   "source": [
    "Check if all players have only one between L and R and that values different from \"U\", \"L\", and \"R\" do not appear"
   ]
  },
  {
   "cell_type": "code",
   "execution_count": null,
   "id": "deffc354",
   "metadata": {},
   "outputs": [],
   "source": [
    "#check that there are not indicated hand that are invalid (ignore nulls)\n",
    "hand = ['R','L','U']\n",
    "df_tennis[~df_tennis['winner_hand'].fillna('U').str.upper().isin(hand)].shape[0]"
   ]
  },
  {
   "cell_type": "code",
   "execution_count": null,
   "id": "a5410126",
   "metadata": {},
   "outputs": [],
   "source": [
    "df_tennis[~df_tennis['loser_hand'].fillna('U').str.upper().isin(hand)].shape[0]"
   ]
  },
  {
   "cell_type": "code",
   "execution_count": null,
   "id": "5cc0f2ab",
   "metadata": {},
   "outputs": [],
   "source": [
    "winner_hand_dict = df_tennis.groupby(['winner_id','winner_name'])['winner_hand'].unique().apply(list).to_dict()\n",
    "loser_hand_dict = df_tennis.groupby(['loser_id','loser_name'])['loser_hand'].unique().apply(list).to_dict()"
   ]
  },
  {
   "cell_type": "code",
   "execution_count": null,
   "id": "159d26f7",
   "metadata": {},
   "outputs": [],
   "source": [
    "for key, value in winner_hand_dict.items():\n",
    "    if key in loser_hand_dict.keys() and value[0] not in loser_hand_dict[key]:\n",
    "        loser_hand_dict[key].append(value[0])"
   ]
  },
  {
   "cell_type": "code",
   "execution_count": null,
   "id": "be3c81e4",
   "metadata": {},
   "outputs": [],
   "source": [
    "loser_hand_dict"
   ]
  },
  {
   "cell_type": "code",
   "execution_count": null,
   "id": "cd2cbd54",
   "metadata": {},
   "outputs": [],
   "source": [
    "for key, value in loser_hand_dict.items():\n",
    "    if len(loser_hand_dict[key])>1 and ('U' not in loser_hand_dict[key] and np.nan not in loser_hand_dict[key]):\n",
    "        print(key)\n",
    "        print(loser_hand_dict[key])"
   ]
  },
  {
   "cell_type": "markdown",
   "id": "df735159",
   "metadata": {},
   "source": [
    "There are not invalid entries for the hand of winner or loser. Furthermore thare are not different hands (both L and R) for the same player"
   ]
  },
  {
   "cell_type": "code",
   "execution_count": null,
   "id": "74b1dcf8",
   "metadata": {},
   "outputs": [],
   "source": [
    "index = df_tennis[~df_tennis['winner_hand'].isna()]['winner_hand'].unique()\n",
    "pd.DataFrame({'winner': df_tennis['winner_hand'].value_counts(), 'loser': df_tennis['loser_hand'].value_counts()}, index=index).plot.bar(color=[\"#66ff66\",\"#6666ff\"])"
   ]
  },
  {
   "cell_type": "markdown",
   "id": "e6c4a825",
   "metadata": {},
   "source": [
    "#### winner_ioc and loser_ioc, International Olympic Code validity check"
   ]
  },
  {
   "cell_type": "markdown",
   "id": "c4975d73",
   "metadata": {},
   "source": [
    "An external source is used to check if all the IOC codes in the dataset are valid"
   ]
  },
  {
   "cell_type": "code",
   "execution_count": null,
   "id": "9c1613a3",
   "metadata": {
    "scrolled": true
   },
   "outputs": [],
   "source": [
    "df_countrycode = pd.read_csv(DATASET_DIR + 'country-codes_csv.csv', sep=',', index_col=False) "
   ]
  },
  {
   "cell_type": "markdown",
   "id": "451de6a4",
   "metadata": {},
   "source": [
    "##### Wrong codes winner_ioc"
   ]
  },
  {
   "cell_type": "code",
   "execution_count": null,
   "id": "6f8f4f7b",
   "metadata": {},
   "outputs": [],
   "source": [
    "w_check_cc = pd.Series(~df_tennis.winner_ioc.isin(df_countrycode.IOC).values, df_tennis.winner_ioc.values)\n",
    "w_check = w_check_cc[w_check_cc].index\n",
    "w_check.value_counts()"
   ]
  },
  {
   "cell_type": "markdown",
   "id": "927390b8",
   "metadata": {},
   "source": [
    "##### Wrong codes loser_ioc"
   ]
  },
  {
   "cell_type": "code",
   "execution_count": null,
   "id": "c53dee53",
   "metadata": {
    "scrolled": true
   },
   "outputs": [],
   "source": [
    "l_check_cc = pd.Series(~df_tennis.loser_ioc.isin(df_countrycode.IOC).values, df_tennis.loser_ioc.values)\n",
    "l_check = l_check_cc[l_check_cc].index\n",
    "l_check.value_counts()"
   ]
  },
  {
   "cell_type": "markdown",
   "id": "9baebabd",
   "metadata": {},
   "source": [
    "These codes are not IOC codes. We can verify that the list of IOC codes that is incorrect is not in ISO format by mistake."
   ]
  },
  {
   "cell_type": "code",
   "execution_count": null,
   "id": "d958d724",
   "metadata": {},
   "outputs": [],
   "source": [
    "i = w_check.unique()\n",
    "type(i)\n",
    "for c in i:\n",
    "    exist =  df_countrycode[\"ISO3166-1-Alpha-3\"].str.contains('MNE').any()\n",
    "    print(c + \" \" + str(exist))"
   ]
  },
  {
   "cell_type": "code",
   "execution_count": null,
   "id": "37c81cd1",
   "metadata": {},
   "outputs": [],
   "source": [
    "i = l_check.unique()\n",
    "type(i)\n",
    "for c in i:\n",
    "    exist =  df_countrycode[\"ISO3166-1-Alpha-3\"].str.contains('MNE').any()\n",
    "    print(c + \" \" + str(exist))"
   ]
  },
  {
   "cell_type": "markdown",
   "id": "647b0138",
   "metadata": {},
   "source": [
    "**round**"
   ]
  },
  {
   "cell_type": "markdown",
   "id": "4adf410b",
   "metadata": {},
   "source": [
    "We see that all the not null values in this column are correct values looking at the meaning of the codes that appear."
   ]
  },
  {
   "cell_type": "code",
   "execution_count": null,
   "id": "90dbbf10",
   "metadata": {
    "scrolled": true
   },
   "outputs": [],
   "source": [
    "df_tennis.groupby('round')['tourney_id'].nunique()"
   ]
  },
  {
   "cell_type": "markdown",
   "id": "4b9629ab",
   "metadata": {},
   "source": [
    "**best_of**"
   ]
  },
  {
   "cell_type": "markdown",
   "id": "8d8ffea4",
   "metadata": {},
   "source": [
    "It is checked that values in best of column are 3, 5 or null. Then, since there is a relationship between this column and the column of the score these are analized together to see if there are wrong best of values looking the score or viceversa."
   ]
  },
  {
   "cell_type": "code",
   "execution_count": null,
   "id": "90603bc0",
   "metadata": {
    "scrolled": false
   },
   "outputs": [],
   "source": [
    "#check if there are different values form 3 or 5\n",
    "df_tennis['best_of'].value_counts(dropna = False)"
   ]
  },
  {
   "cell_type": "markdown",
   "id": "06fe1c12",
   "metadata": {},
   "source": [
    "There are not different values from 3 and 5, a part for some null values."
   ]
  },
  {
   "cell_type": "code",
   "execution_count": null,
   "id": "5a89bac1",
   "metadata": {},
   "outputs": [],
   "source": [
    "df_tennis['best_of'].value_counts().plot(kind='bar')"
   ]
  },
  {
   "cell_type": "markdown",
   "id": "b3d21803",
   "metadata": {},
   "source": [
    "The values of this columns are imbalanced: there are many rows with best of equal to 3 and few rows with best of equal to 5."
   ]
  },
  {
   "cell_type": "markdown",
   "id": "b984d7ab",
   "metadata": {},
   "source": [
    "#### score\n",
    "\n",
    "It is checked that scores are valid according to the tennis rules (also enunciated below): https://www.wikihow.it/Tenere-il-Punteggio-a-Tennis"
   ]
  },
  {
   "cell_type": "markdown",
   "id": "0f3a8a17",
   "metadata": {},
   "source": [
    "If the **match** is at best of 3 then a player, to win, must win 2 sets. If instead it's at best of 5 the playes must win 3 sets.<br>\n",
    "Every sets is composed by **games**. The winner is the player that wins 6 games with at least 2 games od advantage (for example 6-4, 6-3, ..., but not 6-5).<br>\n",
    "In the case of 6-5 the first player wins the set is win the following game (7-5).<br>\n",
    "In case pf 6-6 the **Tie-Break** is played. The Tie-Break is won by the player that is the first to do 7 points with an advantage of 2 (so, for example, 7-5, 7-4, ...). If both the players do 6 points then wins the first that have 2 points of advantage on the adversary (for example 8-6, 9-7, 10-8, ...)"
   ]
  },
  {
   "cell_type": "markdown",
   "id": "1371fe4f",
   "metadata": {},
   "source": [
    "Best of 3 means that there are at most 3 games in a match, while best of 5 means that can be at most 5 sets."
   ]
  },
  {
   "cell_type": "code",
   "execution_count": null,
   "id": "2b675e54",
   "metadata": {},
   "outputs": [],
   "source": [
    "#check that all the scores of the match are valid. (we do not consider nulls)\n",
    "df_tennis_score = df_tennis[~df_tennis['score'].isna()]"
   ]
  },
  {
   "cell_type": "markdown",
   "id": "18c93a45",
   "metadata": {},
   "source": [
    "**Walkover** (\"WO\" or \"w/o\")- Unopposed victory. A walkover is awarded when the opponent fails to start the match for any reason, such as injury.<br>\n",
    "**Retirement** (\"ret\") - Player's withdrawal during a match, causing the player to forfeit the tournament. Usually this happens due to injury<br>\n",
    "**Default** :def - Disqualification of a player in a match by the chair umpire after the player has received four code violation warnings, generally for their conduct on court. A default can occur with less than four code violations warnings if the code violation is judged severe enough to warrant it. A double default occurs when both players are disqualified. Defaults also occur when a player misses a match with no valid excuse. Defaults are considered losses.<br>\n",
    "**Bye** :bye - Automatic advancement of a player to the next round of a tournament without facing an opponent. Byes are often awarded in the first round to the top-seeded players in a tournament<br>\n",
    "\n",
    "These are reasons for games not played or interrupted"
   ]
  },
  {
   "cell_type": "code",
   "execution_count": null,
   "id": "aa643ca5",
   "metadata": {},
   "outputs": [],
   "source": [
    "#error because less of 2 games without valid reasons\n",
    "count_less_2 = 0\n",
    "#error because we have too many games in a match\n",
    "too_many = 0\n",
    "\n",
    "#number of walkover\n",
    "walkover = 0\n",
    "#errors using RET instead of WO\n",
    "wrong_walkover = 0\n",
    "#number of defaults\n",
    "default = 0\n",
    "#number of byes\n",
    "bye = 0\n",
    "\n",
    "for match in df_tennis[~df_tennis['score'].isna()]['score']:\n",
    "    sets = match.split( )\n",
    "    if len(sets)==1 and Walkover(sets[0]):\n",
    "        walkover+=1\n",
    "        continue\n",
    "    if len(sets)==1 and Retirement(sets[0]):\n",
    "        wrong_walkover+=1\n",
    "        continue\n",
    "    if len(sets)==1 and Default(sets[0]):\n",
    "        default+=1\n",
    "        continue\n",
    "    if len(sets)==1 and Bye(sets[0]):\n",
    "        bye+=1\n",
    "        continue\n",
    "    if len(sets)<2:\n",
    "        count_less_2+=1\n",
    "        continue\n",
    "    #maximum number of sets for best of 5 is 6: 5 games + RET or DEF\n",
    "    if len(sets)>6:\n",
    "        too_many+=1\n",
    "        continue"
   ]
  },
  {
   "cell_type": "code",
   "execution_count": null,
   "id": "a5ca929c",
   "metadata": {},
   "outputs": [],
   "source": [
    "print('walkover:', walkover)\n",
    "print('wrong_walkover:', wrong_walkover)\n",
    "print('default:', default)\n",
    "print('bye:', bye)\n",
    "print('errors: less than 2 games:', count_less_2)\n",
    "print('errors: too many games:', too_many)"
   ]
  },
  {
   "cell_type": "code",
   "execution_count": null,
   "id": "14a048e3",
   "metadata": {},
   "outputs": [],
   "source": [
    "index = [\"Walkover\", \"Default\", \"Bye\", \"Ret as wolkover\", \"Erorrs\"]\n",
    "values = [walkover, default, bye, wrong_walkover, count_less_2+too_many]\n",
    "plt.bar(index,values, width=0.5, color=\"#66ff66\")"
   ]
  },
  {
   "cell_type": "markdown",
   "id": "848e7de1",
   "metadata": {},
   "source": [
    "There are games are not played or interrupted because walkover, default, bye or retirements. Sometimes there is a wrong use of retirement at start of the match, because a retirement before the game is called walkover. This is used in a wrong way 8 times. There are also invalid matches because there are too few sets with no interruption of the match."
   ]
  },
  {
   "cell_type": "code",
   "execution_count": null,
   "id": "1ba42256",
   "metadata": {
    "scrolled": true
   },
   "outputs": [],
   "source": [
    "#best of 5: 3,4 o 5 games, best of 3: 2 or 3 games (with points)\n",
    "best_5 = 0\n",
    "best_3 = 0\n",
    "\n",
    "valid_change_best_of = 0\n",
    "invalid_matches = 0\n",
    "\n",
    "\n",
    "#check of the best of 3\n",
    "for match in df_tennis_score[df_tennis_score['best_of']==3]['score']:\n",
    "    sets = match.split( )\n",
    "    #maximum number of sets for best of 3 is 4: 3 games + RET or DEF\n",
    "    if len(sets)>4 or (len(sets)==4 and not Retirement(sets[3]) and not Default(sets[3])):\n",
    "        best_5+=1\n",
    "        #print(sets)\n",
    "        if validity_match(sets, 5) == True:\n",
    "            valid_change_best_of +=1\n",
    "        else:\n",
    "            invalid_matches+=1\n",
    "    elif len(sets)>=2:\n",
    "        if validity_match(sets, 3) == False:\n",
    "            invalid_matches+=1\n",
    "        \n",
    "        \n",
    "#check of the best of 5\n",
    "for match in df_tennis_score[df_tennis_score['best_of']==5]['score']:\n",
    "    sets = match.split( )\n",
    "    if len(sets)==2 and not Retirement(sets[1]) and not Default(sets[1]):\n",
    "        best_3+=1\n",
    "        if validity_match(sets, 3) == True:\n",
    "            valid_change_best_of +=1\n",
    "        else:\n",
    "            invalid_matches+=1\n",
    "    elif len(sets)>=2:\n",
    "         if validity_match(sets, 5) == False:\n",
    "            invalid_matches+=1\n",
    "\n",
    "    "
   ]
  },
  {
   "cell_type": "code",
   "execution_count": null,
   "id": "32ebeb71",
   "metadata": {},
   "outputs": [],
   "source": [
    "print('errors: best of 5 classyfied as best of 3:', best_5)\n",
    "print('errors: best of 3 classyfied as best of 5:', best_3)\n",
    "print('valid change of best of', valid_change_best_of)\n",
    "print('Invalid matches', invalid_matches)"
   ]
  },
  {
   "cell_type": "code",
   "execution_count": null,
   "id": "19cce264",
   "metadata": {},
   "outputs": [],
   "source": [
    "fig = plt.figure(figsize=(20, 5)) \n",
    "fig_dims = (1, 3)\n",
    "\n",
    "plt.subplot2grid(fig_dims, (0, 0))\n",
    "plt.bar([\"best 5 as 3\", \"best 3 as 5\"], [best_5, best_3], width=0.5, color=\"#66ff66\")\n",
    "\n",
    "plt.subplot2grid(fig_dims, (0, 1))\n",
    "plt.bar([\"Total changes best_of\", \"Valid changes best_of\"], [best_5+best_3, valid_change_best_of], width=0.5, color=\"#6666ff\")\n",
    "\n",
    "plt.subplot2grid(fig_dims, (0, 2))\n",
    "plt.bar([\"invalid for wrong best_of\", \"invalid matches\"], [valid_change_best_of, invalid_matches], width=0.5, color=\"#ff6666\")"
   ]
  },
  {
   "cell_type": "markdown",
   "id": "6684c843",
   "metadata": {},
   "source": [
    "There are some invalid points about some games of some matches. There are some matches classifyed as best of 3 but have more than 3 games and they can be classified as best of 5. The same for the best of 5. There are some matches that are not valid (5122) because the results of the games are inpossible results because the rules of the tennis. \n",
    "\n",
    "We can see in the first bar chart that most of the error of classification are about matches best of 5 classified as best of 3. In the second chart we can notice that we can correct this classification for most of these matches. \n",
    "\n",
    "In the 3rd chart we can see that the error we have notice in the match because of a wrong classification are a very small part of the total errors. So, the most of the errors in the scores are not because the classification is wrong, but because the saved results are invalid."
   ]
  },
  {
   "cell_type": "code",
   "execution_count": null,
   "id": "09860d7b",
   "metadata": {},
   "outputs": [],
   "source": [
    "count_5=0\n",
    "for index, row in  df_tennis_score[df_tennis_score['best_of']==3].iterrows():\n",
    "    sets = row['score'].split( )\n",
    "    if validity_match(sets,5) and is_best_of_5(sets):\n",
    "        count_5+=1"
   ]
  },
  {
   "cell_type": "code",
   "execution_count": null,
   "id": "94d37a7d",
   "metadata": {},
   "outputs": [],
   "source": [
    "count_3=0\n",
    "for index, row in  df_tennis_score[df_tennis_score['best_of']==5].iterrows():\n",
    "    sets = row['score'].split( )\n",
    "    if validity_match(sets,3) and is_best_of_3(sets):\n",
    "        count_3+=1"
   ]
  },
  {
   "cell_type": "code",
   "execution_count": null,
   "id": "a7a71229",
   "metadata": {},
   "outputs": [],
   "source": [
    "print('best of 5 classyfied as best of 3 looking scores:', count_5)\n",
    "print('best of 3 classyfied as best of 5 looking scores:', count_3)"
   ]
  },
  {
   "cell_type": "markdown",
   "id": "e8a0dfb5",
   "metadata": {},
   "source": [
    "Looking at scores, some best of 3 values can be classified as best of 5 (1) and viceversa (97)."
   ]
  },
  {
   "cell_type": "markdown",
   "id": "45c71960",
   "metadata": {},
   "source": [
    "#### match_num"
   ]
  },
  {
   "cell_type": "markdown",
   "id": "f8ae151b",
   "metadata": {},
   "source": [
    "Check if the same match_num appears more than once in the same tourney and in this case how many times it appears. "
   ]
  },
  {
   "cell_type": "code",
   "execution_count": null,
   "id": "500ff112",
   "metadata": {},
   "outputs": [],
   "source": [
    "df_tennis_matchgroups = df_tennis.drop_duplicates().groupby(['tourney_id', 'match_num']).size().reset_index(name='size')\n",
    "print(df_tennis_matchgroups[df_tennis_matchgroups['size']>2])\n",
    "#number of match with more than one winner\n",
    "df_tennis_matchgroups[df_tennis_matchgroups['size']>2].shape[0]"
   ]
  },
  {
   "cell_type": "markdown",
   "id": "afa0ca2f",
   "metadata": {},
   "source": [
    "We can see that a match can appear more than once, and in particular also 3 or 4 times in the same tourney. Below there is a print of an example where a match num appears 3 times in the same tourney."
   ]
  },
  {
   "cell_type": "code",
   "execution_count": null,
   "id": "44b54da8",
   "metadata": {},
   "outputs": [],
   "source": [
    "df_tennis[(df_tennis['tourney_id']=='2016-520') & (df_tennis['match_num']==100)][['tourney_id', 'tourney_name', 'match_num', 'winner_name', 'loser_name','tourney_level']]"
   ]
  },
  {
   "cell_type": "markdown",
   "id": "b5a853ab",
   "metadata": {},
   "source": [
    "#### draw_size"
   ]
  },
  {
   "cell_type": "code",
   "execution_count": null,
   "id": "26802ca3",
   "metadata": {},
   "outputs": [],
   "source": [
    "#count the row with an invalid number (negative or less than 2)\n",
    "df_tennis[df_tennis['draw_size'] < 2].shape[0]"
   ]
  },
  {
   "cell_type": "markdown",
   "id": "48d9a627",
   "metadata": {},
   "source": [
    "All the numbers of players of a tourney are valid because more than 1 player is present in every tourney (we consider only the numbers and not the nulls)"
   ]
  },
  {
   "cell_type": "markdown",
   "id": "13aae818",
   "metadata": {},
   "source": [
    "**tourney_date**"
   ]
  },
  {
   "cell_type": "code",
   "execution_count": null,
   "id": "c3836c1e",
   "metadata": {},
   "outputs": [],
   "source": [
    "#the date are in float so they need to be converted in date object \n",
    "df_tennis['tourney_date'].isnull().sum()"
   ]
  },
  {
   "cell_type": "code",
   "execution_count": null,
   "id": "c05dbf89",
   "metadata": {},
   "outputs": [],
   "source": [
    "#check if there are present data greater then today\n",
    "df_tennis['tourney_date'] = pd.to_datetime(df_tennis['tourney_date'], format='%Y%m%d')\n",
    "invalid_data = 0\n",
    "today = pd.to_datetime(datetime.date.today())\n",
    "for date in df_tennis['tourney_date']:\n",
    "    if date > today:\n",
    "        invalid_data +=1\n",
    "print(invalid_data)"
   ]
  },
  {
   "cell_type": "markdown",
   "id": "c1657ed6",
   "metadata": {},
   "source": [
    "There aren't invalid dates associated to the tourneys"
   ]
  },
  {
   "cell_type": "markdown",
   "id": "8b286d81",
   "metadata": {},
   "source": [
    "#### winner_ht and loser_ht"
   ]
  },
  {
   "cell_type": "markdown",
   "id": "ee737139",
   "metadata": {},
   "source": [
    "Check that all the heights of players (winner and loser) are valid (for example an height of 2 cm is not valid)"
   ]
  },
  {
   "cell_type": "code",
   "execution_count": null,
   "id": "00bfbd82",
   "metadata": {},
   "outputs": [],
   "source": [
    "df_tennis['winner_ht'].max()"
   ]
  },
  {
   "cell_type": "code",
   "execution_count": null,
   "id": "affabaee",
   "metadata": {},
   "outputs": [],
   "source": [
    "df_tennis['winner_ht'].min()"
   ]
  },
  {
   "cell_type": "markdown",
   "id": "462ea588",
   "metadata": {},
   "source": [
    "There are invalid height as the one of 2 cm"
   ]
  },
  {
   "cell_type": "code",
   "execution_count": null,
   "id": "cedd6776",
   "metadata": {},
   "outputs": [],
   "source": [
    "# print all possibile winner ht in an asc sort order\n",
    "df_tennis['winner_ht'].value_counts().sort_index()"
   ]
  },
  {
   "cell_type": "code",
   "execution_count": null,
   "id": "8b715319",
   "metadata": {
    "scrolled": true
   },
   "outputs": [],
   "source": [
    "df_tennis['winner_ht'].value_counts().sort_index().plot.bar(\n",
    "    figsize=(10, 4), \n",
    "    title=\"winner_ht distribution\",\n",
    "    xlabel=\"winner_ht\", \n",
    "    ylabel=\"Frequency\")"
   ]
  },
  {
   "cell_type": "markdown",
   "id": "fe47840f",
   "metadata": {},
   "source": [
    "Plot on all the height in the dataset"
   ]
  },
  {
   "cell_type": "code",
   "execution_count": null,
   "id": "a5e40fd5",
   "metadata": {},
   "outputs": [],
   "source": [
    "# let's try to find outliers with boxplot visualization\n",
    "df_tennis.plot.box(y=\"winner_ht\", vert=False, grid=True, figsize=(10, 4));"
   ]
  },
  {
   "cell_type": "markdown",
   "id": "f831d777",
   "metadata": {},
   "source": [
    "Search of outliers. We can notice that the ouliers are few values."
   ]
  },
  {
   "cell_type": "markdown",
   "id": "9c16bb60",
   "metadata": {},
   "source": [
    "Same reasonings for the winner player are done also for the loser"
   ]
  },
  {
   "cell_type": "code",
   "execution_count": null,
   "id": "e8697137",
   "metadata": {},
   "outputs": [],
   "source": [
    "df_tennis['loser_ht'].max()"
   ]
  },
  {
   "cell_type": "code",
   "execution_count": null,
   "id": "c3be2f7e",
   "metadata": {},
   "outputs": [],
   "source": [
    "df_tennis['loser_ht'].min()"
   ]
  },
  {
   "cell_type": "code",
   "execution_count": null,
   "id": "cc1d5f50",
   "metadata": {},
   "outputs": [],
   "source": [
    "# print all possibile loser ht in an asc sort order\n",
    "df_tennis['winner_ht'].value_counts().sort_index()"
   ]
  },
  {
   "cell_type": "code",
   "execution_count": null,
   "id": "d5d1041e",
   "metadata": {
    "scrolled": true
   },
   "outputs": [],
   "source": [
    "df_tennis['loser_ht'].value_counts().sort_index().plot.bar(\n",
    "    figsize=(10, 4), \n",
    "    title=\"loser_ht distribution\",\n",
    "    xlabel=\"loser_ht\", \n",
    "    ylabel=\"Frequency\")"
   ]
  },
  {
   "cell_type": "code",
   "execution_count": null,
   "id": "da14222c",
   "metadata": {
    "scrolled": false
   },
   "outputs": [],
   "source": [
    "# let's try to find outliers with boxplot visualization\n",
    "df_tennis.plot.box(y=\"loser_ht\", vert=False, grid=True, figsize=(10, 4));"
   ]
  },
  {
   "cell_type": "markdown",
   "id": "7302370c",
   "metadata": {},
   "source": [
    "Check if the players have different heights, i.e. if they have grown over time"
   ]
  },
  {
   "cell_type": "code",
   "execution_count": null,
   "id": "cd902eb7",
   "metadata": {
    "scrolled": true
   },
   "outputs": [],
   "source": [
    "# get all players ids from winner and looser, without duplicate\n",
    "players_ids = list(set(df_tennis['winner_id'].dropna().unique().tolist()) | set(df_tennis['loser_id'].dropna().unique().tolist()))\n",
    "\n",
    "count = 0\n",
    "\n",
    "results = []\n",
    "\n",
    "# find players with different ht\n",
    "for player_id in players_ids:\n",
    "    w_ht_players = df_tennis[df_tennis['winner_id']==player_id]['winner_ht'].dropna().unique().tolist()\n",
    "    l_ht_players = df_tennis[df_tennis['loser_id']==player_id]['loser_ht'].dropna().unique().tolist()\n",
    "    ht_players = list(set(w_ht_players) | set(l_ht_players))\n",
    "    diff = len(ht_players)\n",
    "    if diff > 1:\n",
    "        results.append(player_id)\n",
    "        count = count + 1\n",
    "\n",
    "# print results        \n",
    "print(\"find \" + str(count) + \" players with different height, ids: \" + str(results))        \n",
    "print(\"\")\n",
    "for player_id in results:\n",
    "    w_ht_players = df_tennis[df_tennis['winner_id']==player_id]\n",
    "    l_ht_players = df_tennis[df_tennis['loser_id']==player_id]    \n",
    "    result = pd.concat([w_ht_players, l_ht_players])\n",
    "    result.sort_values(by=['tourney_date'], inplace=True)\n",
    "            \n",
    "    printhead = True\n",
    "    last_ht = 0\n",
    "    for index, row in result.iterrows():             \n",
    "        if printhead:\n",
    "            if row[\"winner_id\"] == player_id:\n",
    "                name = row[\"winner_name\"]\n",
    "            else:\n",
    "                name = row[\"loser_name\"]\n",
    "            print(\" --------------- PLAYER \" + str(player_id) + \" \" + name + \" --------------- \")\n",
    "            printhead = False\n",
    "        age = None\n",
    "        match_id = row[\"tourney_id\"]\n",
    "        match_name = row[\"tourney_name\"]\n",
    "        if row[\"winner_id\"] == player_id:\n",
    "            ht = row[\"winner_ht\"]\n",
    "            age = ConvertAge(row['winner_age'])\n",
    "        else:\n",
    "            ht = row[\"loser_ht\"]\n",
    "            age = ConvertAge(row['loser_age'])        \n",
    "        \n",
    "        if last_ht != ht:\n",
    "            print(str(match_id)  + \"\\t-\\t\" + match_name  + \"\\t-\\t\" + str(ht)  + \" - \" + str(row[\"tourney_date\"])  + \" - \" + age)\n",
    "            last_ht = ht        \n",
    "    print(\" -----------------------------------------------------  \")   "
   ]
  },
  {
   "cell_type": "markdown",
   "id": "5dfe5aef",
   "metadata": {},
   "source": [
    "There is only one player that grown in time (David Goffin)"
   ]
  },
  {
   "cell_type": "markdown",
   "id": "b563104c",
   "metadata": {},
   "source": [
    "#### winner_age and loser_age\n"
   ]
  },
  {
   "cell_type": "code",
   "execution_count": null,
   "id": "73ede825",
   "metadata": {},
   "outputs": [],
   "source": [
    "print(str(df_tennis['winner_age'].max()) + \" converted-> \" + ConvertAge(df_tennis['winner_age'].max()))"
   ]
  },
  {
   "cell_type": "code",
   "execution_count": null,
   "id": "2b3f8a8a",
   "metadata": {},
   "outputs": [],
   "source": [
    "print(str(df_tennis['winner_age'].min()) + \" converted-> \" + ConvertAge(df_tennis['winner_age'].min()))"
   ]
  },
  {
   "cell_type": "code",
   "execution_count": null,
   "id": "0e1223a4",
   "metadata": {},
   "outputs": [],
   "source": [
    "# let's try to find outliers in age with boxplot visualization\n",
    "df_tennis.boxplot(vert=False, column=['winner_age'], return_type='axes',figsize=(10, 4))"
   ]
  },
  {
   "cell_type": "code",
   "execution_count": null,
   "id": "e3bbffac",
   "metadata": {},
   "outputs": [],
   "source": [
    "sns.histplot(data=df_tennis['winner_age'], bins=\"sturges\", binrange=(10,50), color=\"lightgreen\", kde=True, kde_kws={'clip':(10,50)}).lines[0].set_color('blue')"
   ]
  },
  {
   "cell_type": "code",
   "execution_count": null,
   "id": "bba56c61",
   "metadata": {},
   "outputs": [],
   "source": [
    "#loser age"
   ]
  },
  {
   "cell_type": "code",
   "execution_count": null,
   "id": "dcfcb18f",
   "metadata": {},
   "outputs": [],
   "source": [
    "print(str(df_tennis['loser_age'].max()) + \" -> \" + ConvertAge(df_tennis['loser_age'].max()))\n",
    "print(str(df_tennis['loser_age'].min()) + \" -> \" + ConvertAge(df_tennis['loser_age'].min()))"
   ]
  },
  {
   "cell_type": "code",
   "execution_count": null,
   "id": "9bcd5c31",
   "metadata": {},
   "outputs": [],
   "source": [
    "# prints a table sorted by winner age, with tournament, winner name and tournament date\n",
    "df_tennis_tmp = df_tennis.copy() # avoid overwrite original dataset\n",
    "df_tennis_tmp['loser_age'] = df_tennis_tmp['loser_age'].dropna().apply(lambda x: ConvertAge(x))\n",
    "df_tennis_tmp['tourney_date'] = pd.to_datetime(df_tennis_tmp['tourney_date'], format='%Y%m%d')\n",
    "df_tennis_tmp[['tourney_name', 'tourney_date', 'loser_name', 'loser_age']].dropna().sort_values(by='loser_age')"
   ]
  },
  {
   "cell_type": "code",
   "execution_count": null,
   "id": "244dd4c8",
   "metadata": {},
   "outputs": [],
   "source": [
    "df_tennis.boxplot(vert=False, column=['loser_age'], return_type='axes',figsize=(10, 4))"
   ]
  },
  {
   "cell_type": "code",
   "execution_count": null,
   "id": "67b7dac3",
   "metadata": {},
   "outputs": [],
   "source": [
    "#df_tennis['winner_age'].hist(bins=50, grid=False, range=(10, 50))\n",
    "#df_tennis['winner_age'].plot(kind='kde', xlim=[10,50])\n",
    "\n",
    "fig = plt.figure(figsize=(16, 5)) \n",
    "fig_dims = (1, 2)\n",
    "\n",
    "plt.subplot2grid(fig_dims, (0, 0))\n",
    "sns.histplot(data=df_tennis['loser_age'], bins=\"sturges\", binrange=(10,50), color=\"lightgreen\", kde=True, kde_kws={'clip':(10,50)}).lines[0].set_color('blue')\n",
    "\n",
    "plt.subplot2grid(fig_dims, (0, 1))\n",
    "sns.kdeplot(data=df_tennis['loser_age'], color=\"green\", clip=(10,50))\n",
    "sns.kdeplot(data=df_tennis['winner_age'], color=\"blue\", clip=(10,50))"
   ]
  },
  {
   "cell_type": "code",
   "execution_count": null,
   "id": "02f8b20c",
   "metadata": {},
   "outputs": [],
   "source": [
    "ConvertTime(59.4)"
   ]
  },
  {
   "cell_type": "markdown",
   "id": "479420e1",
   "metadata": {},
   "source": [
    "#### minutes"
   ]
  },
  {
   "cell_type": "code",
   "execution_count": null,
   "id": "fa8fbf53",
   "metadata": {
    "scrolled": true
   },
   "outputs": [],
   "source": [
    "df_tennis.loc[df_tennis['minutes'] < 0, 'minutes'].count()"
   ]
  },
  {
   "cell_type": "code",
   "execution_count": null,
   "id": "87288b27",
   "metadata": {},
   "outputs": [],
   "source": [
    "df_tennis.loc[df_tennis['minutes'] == 0, 'minutes'].count()"
   ]
  },
  {
   "cell_type": "code",
   "execution_count": null,
   "id": "5f7e9a35",
   "metadata": {},
   "outputs": [],
   "source": [
    "df_tennis['minutes'].max()"
   ]
  },
  {
   "cell_type": "code",
   "execution_count": null,
   "id": "78390139",
   "metadata": {},
   "outputs": [],
   "source": [
    "df_tennis[df_tennis['best_of']==3]['minutes'].mean()"
   ]
  },
  {
   "cell_type": "markdown",
   "id": "4330ec59",
   "metadata": {},
   "source": [
    "On average, best-of-3 tennis matches last about 90 minutes, while best-of-5 matches last 2 hours and 45 minutes (=165 minutes)"
   ]
  },
  {
   "cell_type": "code",
   "execution_count": null,
   "id": "b3af85a6",
   "metadata": {},
   "outputs": [],
   "source": [
    "print(str(df_tennis['minutes'].mean()) + \" converted-> \" + ConvertTime(df_tennis['minutes'].mean()))"
   ]
  },
  {
   "cell_type": "code",
   "execution_count": null,
   "id": "56c93b4e",
   "metadata": {},
   "outputs": [],
   "source": [
    "print(str(df_tennis['minutes'].max()) + \" converted-> \" + ConvertTime(df_tennis['minutes'].max()))"
   ]
  },
  {
   "cell_type": "code",
   "execution_count": null,
   "id": "55bd7f46",
   "metadata": {},
   "outputs": [],
   "source": [
    "print(str(df_tennis['minutes'].min()) + \" converted-> \" + ConvertTime(df_tennis['minutes'].min()))"
   ]
  },
  {
   "cell_type": "code",
   "execution_count": null,
   "id": "ddbd35b3",
   "metadata": {},
   "outputs": [],
   "source": [
    "# let's try to find outliers in minutes with scatter visualization\n",
    "df_tennis.boxplot(vert=False, column=['minutes'], return_type='axes',figsize=(10, 4))"
   ]
  },
  {
   "cell_type": "code",
   "execution_count": null,
   "id": "5bc639a7",
   "metadata": {},
   "outputs": [],
   "source": [
    "sns.histplot(data=df_tennis['minutes'], bins=\"doane\", binrange=(0,300), color=\"lightgreen\", kde=True, kde_kws={'clip':(10,300)}).lines[0].set_color('blue')"
   ]
  },
  {
   "cell_type": "code",
   "execution_count": null,
   "id": "3a79c02f",
   "metadata": {},
   "outputs": [],
   "source": [
    "df_tennis[df_tennis['minutes']> 665].shape[0]"
   ]
  },
  {
   "cell_type": "markdown",
   "id": "48cab124",
   "metadata": {},
   "source": [
    "Longest tennis games in history worldwide is 11 hours and 5 minutes (= 665 minutes) for best of 5 and 6 hours and 31 mintes for best of 3"
   ]
  },
  {
   "cell_type": "markdown",
   "id": "1153ce85",
   "metadata": {},
   "source": [
    "There are 128 entry with a match duration equal to 0, a tennis match duration is on average 40 minutes our mean is 97.67."
   ]
  },
  {
   "cell_type": "code",
   "execution_count": null,
   "id": "b6f7611e",
   "metadata": {},
   "outputs": [],
   "source": [
    "df_tennis_min_filtered = df_tennis[df_tennis['minutes']<= 0]\n",
    "df_tennis_min_checked = df_tennis_min_filtered.apply(lambda x: IsMatchWithZeroIncorrect(x['score']), axis=1)\n",
    "df_tennis_min_zero_res = df_tennis_min_filtered[df_tennis_min_checked]\n",
    "df_tennis_min_zero_res[['tourney_id', 'score', 'minutes']]"
   ]
  },
  {
   "cell_type": "markdown",
   "id": "af2bc964",
   "metadata": {},
   "source": [
    "0 could be considered as a default value"
   ]
  },
  {
   "cell_type": "markdown",
   "id": "44dbd6b7",
   "metadata": {},
   "source": [
    "#### w_ace, w_df and w_svpt"
   ]
  },
  {
   "cell_type": "code",
   "execution_count": null,
   "id": "7622aaff",
   "metadata": {
    "scrolled": true
   },
   "outputs": [],
   "source": [
    "negative_w_ace = df_tennis.loc[df_tennis['w_ace'] < 0].shape[0]\n",
    "print(negative_w_ace)"
   ]
  },
  {
   "cell_type": "code",
   "execution_count": null,
   "id": "2ab078a6",
   "metadata": {},
   "outputs": [],
   "source": [
    "#check if there are more ace than service performed\n",
    "df_tennis.loc[df_tennis['w_svpt'] < df_tennis['w_ace']].shape[0]"
   ]
  },
  {
   "cell_type": "code",
   "execution_count": null,
   "id": "c4ff956e",
   "metadata": {},
   "outputs": [],
   "source": [
    "df_tennis.plot.scatter('w_svpt', 'w_ace')\n",
    "plt.show()"
   ]
  },
  {
   "cell_type": "code",
   "execution_count": null,
   "id": "72daef52",
   "metadata": {},
   "outputs": [],
   "source": [
    "#W_df: winner's number of doubles faults\n",
    "negative_w_df = df_tennis.loc[df_tennis['w_df'] < 0].shape[0]\n",
    "print(negative_w_df)"
   ]
  },
  {
   "cell_type": "code",
   "execution_count": null,
   "id": "3d3d1f99",
   "metadata": {},
   "outputs": [],
   "source": [
    "df_tennis.plot.scatter('w_svpt', 'w_df')\n",
    "plt.show()"
   ]
  },
  {
   "cell_type": "code",
   "execution_count": null,
   "id": "6e7b6c3c",
   "metadata": {},
   "outputs": [],
   "source": [
    "#check if there are more double faults than service performed\n",
    "df_tennis.loc[df_tennis['w_svpt'] < df_tennis['w_df']].shape[0]"
   ]
  },
  {
   "cell_type": "code",
   "execution_count": null,
   "id": "fe2dc9dd",
   "metadata": {},
   "outputs": [],
   "source": [
    "#W_svpt: winner's number of serve points\n",
    "negative_w_ace = df_tennis.loc[df_tennis['w_svpt'] < 0].shape[0]\n",
    "print(negative_w_ace)"
   ]
  },
  {
   "cell_type": "code",
   "execution_count": null,
   "id": "42dda50e",
   "metadata": {
    "scrolled": true
   },
   "outputs": [],
   "source": [
    "#check for outliers for w_svpt\n",
    "df_tennis.boxplot(vert=False, column=['w_svpt'], return_type='axes',figsize=(10, 3))\n",
    "plt.show()"
   ]
  },
  {
   "cell_type": "markdown",
   "id": "35363cbe",
   "metadata": {},
   "source": [
    "There are outiliers in the service point, values that goes over twenty-five hundred.\n",
    "*It can be theoretically possible.*"
   ]
  },
  {
   "cell_type": "code",
   "execution_count": null,
   "id": "1fa058a1",
   "metadata": {},
   "outputs": [],
   "source": [
    "df_tennis.loc[df_tennis['w_svpt'] >300][['tourney_id', 'tourney_name', 'best_of', 'score','winner_name','w_svpt','w_ace','loser_name','l_svpt', 'l_ace']]"
   ]
  },
  {
   "cell_type": "markdown",
   "id": "93b3a2bd",
   "metadata": {},
   "source": [
    "#### l_ace, l_df and l_svpt"
   ]
  },
  {
   "cell_type": "code",
   "execution_count": null,
   "id": "802b6680",
   "metadata": {
    "scrolled": true
   },
   "outputs": [],
   "source": [
    "negative_l_ace = df_tennis.loc[df_tennis['l_ace'] < 0].shape[0]\n",
    "print(negative_l_ace)"
   ]
  },
  {
   "cell_type": "code",
   "execution_count": null,
   "id": "1c900436",
   "metadata": {},
   "outputs": [],
   "source": [
    "#check if there are more ace than service performed\n",
    "df_tennis.loc[df_tennis['l_svpt'] < df_tennis['l_ace']].shape[0]"
   ]
  },
  {
   "cell_type": "code",
   "execution_count": null,
   "id": "93ad49d2",
   "metadata": {},
   "outputs": [],
   "source": [
    "df_tennis.plot.scatter('l_svpt', 'l_ace')\n",
    "plt.show()"
   ]
  },
  {
   "cell_type": "code",
   "execution_count": null,
   "id": "e307e070",
   "metadata": {},
   "outputs": [],
   "source": [
    "#W_df: winner's number of doubles faults\n",
    "negative_l_df = df_tennis.loc[df_tennis['l_df'] < 0].shape[0]\n",
    "print(negative_l_df)"
   ]
  },
  {
   "cell_type": "code",
   "execution_count": null,
   "id": "216596d8",
   "metadata": {},
   "outputs": [],
   "source": [
    "df_tennis.plot.scatter('l_svpt', 'l_df')\n",
    "plt.show()"
   ]
  },
  {
   "cell_type": "code",
   "execution_count": null,
   "id": "6e7b6c3b",
   "metadata": {},
   "outputs": [],
   "source": [
    "#check if there are more double faults than service performed\n",
    "df_tennis.loc[df_tennis['l_svpt'] < df_tennis['l_df']].shape[0]"
   ]
  },
  {
   "cell_type": "code",
   "execution_count": null,
   "id": "fe2dc9d2",
   "metadata": {},
   "outputs": [],
   "source": [
    "#W_svpt: winner's number of serve points\n",
    "negative_l_ace = df_tennis.loc[df_tennis['l_svpt'] < 0].shape[0]\n",
    "print(negative_l_ace)"
   ]
  },
  {
   "cell_type": "code",
   "execution_count": null,
   "id": "42dda50f",
   "metadata": {
    "scrolled": true
   },
   "outputs": [],
   "source": [
    "#check for outliers for w_svpt\n",
    "df_tennis.boxplot(vert=False, column=['l_svpt'], return_type='axes',figsize=(10, 3))\n",
    "plt.show()"
   ]
  },
  {
   "cell_type": "markdown",
   "id": "10ad9c5d",
   "metadata": {},
   "source": [
    "#### w_1stIn"
   ]
  },
  {
   "cell_type": "code",
   "execution_count": null,
   "id": "f9a8b021",
   "metadata": {},
   "outputs": [],
   "source": [
    "#check to find negative values\n",
    "df_tennis.loc[df_tennis['w_1stIn'] < 0].shape[0]"
   ]
  },
  {
   "cell_type": "markdown",
   "id": "ab2002a0",
   "metadata": {},
   "source": [
    "#### l_1stIn"
   ]
  },
  {
   "cell_type": "code",
   "execution_count": null,
   "id": "1407c7ef",
   "metadata": {},
   "outputs": [],
   "source": [
    "#check on loser’s number of first serves made to find negative values\n",
    "df_tennis.loc[df_tennis['l_1stIn'] < 0].shape[0]"
   ]
  },
  {
   "cell_type": "markdown",
   "id": "37a3cd9f",
   "metadata": {},
   "source": [
    "#### w_1stWon and w_2ndWon"
   ]
  },
  {
   "cell_type": "code",
   "execution_count": null,
   "id": "f92e20f6",
   "metadata": {},
   "outputs": [],
   "source": [
    "#check to find negative values\n",
    "df_tennis.loc[df_tennis['w_1stWon'] < 0].shape[0]"
   ]
  },
  {
   "cell_type": "code",
   "execution_count": null,
   "id": "a642d938",
   "metadata": {},
   "outputs": [],
   "source": [
    "#check if there are more w_1stWon than fist service performed\n",
    "df_tennis.loc[df_tennis['w_1stIn'] < df_tennis['w_1stWon']].shape[0]"
   ]
  },
  {
   "cell_type": "code",
   "execution_count": null,
   "id": "29dfcaea",
   "metadata": {},
   "outputs": [],
   "source": [
    "#check to find negative values\n",
    "df_tennis.loc[df_tennis['w_2ndWon'] < 0].shape[0]"
   ]
  },
  {
   "cell_type": "code",
   "execution_count": null,
   "id": "ec3eb7c4",
   "metadata": {},
   "outputs": [],
   "source": [
    "#check that the number of serve point is not smaller than the number of first serves \n",
    "df_tennis[df_tennis['w_svpt'] < df_tennis['w_1stIn']].shape[0]"
   ]
  },
  {
   "cell_type": "code",
   "execution_count": null,
   "id": "7be63e7f",
   "metadata": {},
   "outputs": [],
   "source": [
    "#check that the number of serve point is not smaller than won serve points (first and second serve)\n",
    "df_tennis[df_tennis['w_svpt'] < df_tennis['w_1stWon']+df_tennis['w_2ndWon']].shape[0]"
   ]
  },
  {
   "cell_type": "markdown",
   "id": "58262411",
   "metadata": {},
   "source": [
    "#### l_1stWon and l_2ndWon\n"
   ]
  },
  {
   "cell_type": "code",
   "execution_count": null,
   "id": "5dd6fb0b",
   "metadata": {},
   "outputs": [],
   "source": [
    "df_tennis.loc[df_tennis['l_1stWon'] < 0].shape[0]"
   ]
  },
  {
   "cell_type": "code",
   "execution_count": null,
   "id": "dd568bd9",
   "metadata": {},
   "outputs": [],
   "source": [
    "df_tennis.loc[df_tennis['l_1stIn'] < df_tennis['l_1stWon']].shape[0]"
   ]
  },
  {
   "cell_type": "code",
   "execution_count": null,
   "id": "7cdf1a19",
   "metadata": {},
   "outputs": [],
   "source": [
    "df_tennis.loc[df_tennis['l_2ndWon'] < 0].shape[0]"
   ]
  },
  {
   "cell_type": "code",
   "execution_count": null,
   "id": "b26bc43e",
   "metadata": {},
   "outputs": [],
   "source": [
    "df_tennis[df_tennis['l_svpt'] < df_tennis['l_1stIn']].shape[0]"
   ]
  },
  {
   "cell_type": "code",
   "execution_count": null,
   "id": "4d54728e",
   "metadata": {},
   "outputs": [],
   "source": [
    "df_tennis[df_tennis['l_svpt'] < df_tennis['l_1stWon']+df_tennis['l_2ndWon']].shape[0]"
   ]
  },
  {
   "cell_type": "markdown",
   "id": "5b8c66d2",
   "metadata": {},
   "source": [
    "#### w_SvGms,  w_bpSaved and w_bpFaced"
   ]
  },
  {
   "cell_type": "code",
   "execution_count": null,
   "id": "fd1e94b9",
   "metadata": {},
   "outputs": [],
   "source": [
    "#Checks on w_SvGms\n",
    "df_tennis.loc[df_tennis['w_SvGms'] < 0].shape[0]"
   ]
  },
  {
   "cell_type": "code",
   "execution_count": null,
   "id": "784a0033",
   "metadata": {},
   "outputs": [],
   "source": [
    "import re\n",
    "#w_SvGms: winner’s number of serve games\n",
    "re_score1 = \"\\d[\\d-][^()]\"\n",
    "re_score2 = \"\\d\"\n",
    "df_cleaned = df_tennis[~(df_tennis['score'].isnull()) & ~(df_tennis['w_SvGms'].isnull())]\n",
    "scores = df_cleaned['score'].tolist()\n",
    "invalid_SvGms = []\n",
    "for i, score in enumerate(df_tennis['score'].tolist()):\n",
    "    if ((df_tennis.at[i,'score'] == 'nan') | (str(df_tennis.at[i,'w_SvGms']) == 'nan')):\n",
    "        continue\n",
    "#     if (Retirement(score) | Walkover(score) | Default(score) | Bye(score)):\n",
    "#         continue\n",
    "    int_scores = re.findall(re_score1, str(score))\n",
    "    int_scores = re.findall(re_score2, str(int_scores))\n",
    "    if(len(int_scores) > 6):\n",
    "        continue\n",
    "    score_sum = np.sum(list(map(lambda x: int(x), int_scores)))\n",
    "    if (((np.floor(score_sum/2) - 2) <= df_tennis.at[i,'w_SvGms']) or \n",
    "        ((np.ceil(score_sum/2) + 2) >= df_tennis.at[i,'w_SvGms'])):\n",
    "        continue\n",
    "    invalid_SvGms.append(i)\n",
    "#     print('+++ SCORE INVALIDO +++')\n",
    "#     print(\"SCORE -> \" + str(df_tennis.at[i,'score']))\n",
    "#     print(\"GAME SERVITI -> \" + str(df_tennis.at[i,'w_SvGms']))\n",
    "#     print(np.floor(score_sum/2))\n",
    "#     print(np.ceil(score_sum/2))\n",
    "#     print('+++++++')\n",
    "print(invalid_SvGms)"
   ]
  },
  {
   "cell_type": "code",
   "execution_count": null,
   "id": "90bf38ff",
   "metadata": {},
   "outputs": [],
   "source": [
    "df_tennis['w_bpSaved'].min() < 0"
   ]
  },
  {
   "cell_type": "code",
   "execution_count": null,
   "id": "4f03ffd3",
   "metadata": {},
   "outputs": [],
   "source": [
    "df_tennis['w_bpFaced'].min() < 0"
   ]
  },
  {
   "cell_type": "code",
   "execution_count": null,
   "id": "034b8be6",
   "metadata": {
    "scrolled": true
   },
   "outputs": [],
   "source": [
    "#check that number of faces is never bigger than number of saved\n",
    "df_tennis[df_tennis['w_bpSaved']>df_tennis['w_bpFaced']].shape[0]"
   ]
  },
  {
   "cell_type": "code",
   "execution_count": null,
   "id": "26f5236d",
   "metadata": {
    "scrolled": true
   },
   "outputs": [],
   "source": [
    "#check for outliers for w_bpFaced\n",
    "df_tennis.boxplot(vert=False, column=['w_bpFaced'], return_type='axes',figsize=(10, 3))\n",
    "plt.show()"
   ]
  },
  {
   "cell_type": "code",
   "execution_count": null,
   "id": "119c664e",
   "metadata": {},
   "outputs": [],
   "source": [
    "df_tennis[df_tennis['w_bpFaced']>75][['tourney_id', 'tourney_name', 'best_of', 'score','winner_name','w_bpFaced','loser_name','w_bpFaced']]"
   ]
  },
  {
   "cell_type": "code",
   "execution_count": null,
   "id": "0b40b9d8",
   "metadata": {},
   "outputs": [],
   "source": [
    "#check for outliers for w_bpSaved\n",
    "df_tennis.boxplot(vert=False, column=['w_bpSaved'], return_type='axes',figsize=(10, 3))\n",
    "plt.show()"
   ]
  },
  {
   "cell_type": "code",
   "execution_count": null,
   "id": "2deb1d46",
   "metadata": {},
   "outputs": [],
   "source": [
    "df_tennis[df_tennis['w_bpSaved']>75][['tourney_id', 'tourney_name', 'best_of', 'score','winner_name','w_bpFaced','w_bpSaved','loser_name','l_bpFaced','l_bpSaved']]"
   ]
  },
  {
   "cell_type": "markdown",
   "id": "39ac5857",
   "metadata": {},
   "source": [
    "#### l_SvGms,  l_bpSaved and l_bpFaced"
   ]
  },
  {
   "cell_type": "code",
   "execution_count": null,
   "id": "163c86b3",
   "metadata": {},
   "outputs": [],
   "source": [
    "df_tennis.loc[df_tennis['l_SvGms'] < 0].shape[0]"
   ]
  },
  {
   "cell_type": "code",
   "execution_count": null,
   "id": "44fa4525",
   "metadata": {},
   "outputs": [],
   "source": [
    "#l_SvGms: loser’s number of serve games\n",
    "re_score1 = \"\\d[\\d-][^()]\"\n",
    "re_score2 = \"\\d\"\n",
    "df_cleaned = df_tennis[~(df_tennis['score'].isnull()) & ~(df_tennis['l_SvGms'].isnull())]\n",
    "scores = df_cleaned['score'].tolist()\n",
    "invalid_SvGms = []\n",
    "for i, score in enumerate(df_tennis['score'].tolist()):\n",
    "    if ((df_tennis.at[i,'score'] == 'nan') | (str(df_tennis.at[i,'l_SvGms']) == 'nan')):\n",
    "        continue\n",
    "#     if (Retirement(score) | Walkover(score) | Default(score) | Bye(score)):\n",
    "#         continue\n",
    "    int_scores = re.findall(re_score1, str(score))\n",
    "    int_scores = re.findall(re_score2, str(int_scores))\n",
    "    if(len(int_scores) > 6):\n",
    "        continue\n",
    "    score_sum = np.sum(list(map(lambda x: int(x), int_scores)))\n",
    "    if (((np.floor(score_sum/2) - 2) <= df_tennis.at[i,'l_SvGms']) or \n",
    "        ((np.ceil(score_sum/2) + 2) >= df_tennis.at[i,'l_SvGms'])):\n",
    "        continue\n",
    "    invalid_SvGms.append(i)\n",
    "#     print('+++ SCORE INVALIDO +++')\n",
    "#     print(\"SCORE -> \" + str(df_tennis.at[i,'score']))\n",
    "#     print(\"GAME SERVITI -> \" + str(df_tennis.at[i,'w_SvGms']))\n",
    "#     print(np.floor(score_sum/2))\n",
    "#     print(np.ceil(score_sum/2))\n",
    "#     print('+++++++')\n",
    "print(invalid_SvGms)"
   ]
  },
  {
   "cell_type": "code",
   "execution_count": null,
   "id": "c0aceba2",
   "metadata": {},
   "outputs": [],
   "source": [
    "#check for outliers for w_bpFaced\n",
    "df_tennis.boxplot(vert=False, column=['l_bpFaced'], return_type='axes',figsize=(10, 3))\n",
    "plt.show()"
   ]
  },
  {
   "cell_type": "code",
   "execution_count": null,
   "id": "6f27744f",
   "metadata": {},
   "outputs": [],
   "source": [
    "df_tennis[df_tennis['l_bpFaced']>75][['tourney_id', 'tourney_name', 'best_of', 'score','winner_name','w_bpFaced','loser_name','l_bpFaced']]"
   ]
  },
  {
   "cell_type": "code",
   "execution_count": null,
   "id": "b787791c",
   "metadata": {},
   "outputs": [],
   "source": [
    "df_tennis['l_bpSaved'].min() < 0"
   ]
  },
  {
   "cell_type": "code",
   "execution_count": null,
   "id": "4f4ef4b7",
   "metadata": {},
   "outputs": [],
   "source": [
    "df_tennis['l_bpFaced'].min() < 0"
   ]
  },
  {
   "cell_type": "code",
   "execution_count": null,
   "id": "bc41fbd7",
   "metadata": {},
   "outputs": [],
   "source": [
    "#check that number of faces is never bigger than number of saved\n",
    "df_tennis[df_tennis['l_bpSaved']>df_tennis['l_bpFaced']].shape[0]"
   ]
  },
  {
   "cell_type": "code",
   "execution_count": null,
   "id": "c7af01e9",
   "metadata": {
    "scrolled": true
   },
   "outputs": [],
   "source": [
    "#check for outliers for l_bpSaved\n",
    "df_tennis.boxplot(vert=False, column=['l_bpSaved'], return_type='axes',figsize=(10, 3))\n",
    "plt.show()"
   ]
  },
  {
   "cell_type": "code",
   "execution_count": null,
   "id": "06138c6e",
   "metadata": {},
   "outputs": [],
   "source": [
    "df_tennis[df_tennis['l_bpSaved']>75][['tourney_id', 'tourney_name', 'best_of', 'score','winner_name','w_bpFaced','w_bpSaved','loser_name','l_bpFaced','l_bpSaved']]"
   ]
  },
  {
   "cell_type": "markdown",
   "id": "001d960a",
   "metadata": {},
   "source": [
    "#### Winner_rank and loser_rank"
   ]
  },
  {
   "cell_type": "code",
   "execution_count": null,
   "id": "356a8fc9",
   "metadata": {},
   "outputs": [],
   "source": [
    "df_tennis['winner_rank'].max()"
   ]
  },
  {
   "cell_type": "code",
   "execution_count": null,
   "id": "61640cd0",
   "metadata": {},
   "outputs": [],
   "source": [
    "df_tennis['winner_rank'].min() >= 1 #there cannot be rank smaller than 1"
   ]
  },
  {
   "cell_type": "code",
   "execution_count": null,
   "id": "d27aff74",
   "metadata": {},
   "outputs": [],
   "source": [
    "df_tennis['winner_rank'].min()"
   ]
  },
  {
   "cell_type": "code",
   "execution_count": null,
   "id": "fe143704",
   "metadata": {
    "scrolled": true
   },
   "outputs": [],
   "source": [
    "df_tennis.boxplot(vert=False, column=['winner_rank'], return_type='axes',figsize=(10, 4))"
   ]
  },
  {
   "cell_type": "code",
   "execution_count": null,
   "id": "e2f9ae7b",
   "metadata": {},
   "outputs": [],
   "source": [
    "df_tennis['loser_rank'].max()"
   ]
  },
  {
   "cell_type": "code",
   "execution_count": null,
   "id": "8bed9405",
   "metadata": {},
   "outputs": [],
   "source": [
    "df_tennis['loser_rank'].min() >= 1 #there cannot be rank smaller than 1"
   ]
  },
  {
   "cell_type": "code",
   "execution_count": null,
   "id": "ccc92698",
   "metadata": {},
   "outputs": [],
   "source": [
    "df_tennis['loser_rank'].min()"
   ]
  },
  {
   "cell_type": "code",
   "execution_count": null,
   "id": "63406a55",
   "metadata": {},
   "outputs": [],
   "source": [
    "df_tennis.boxplot(vert=False, column=['loser_rank'], return_type='axes',figsize=(10, 4))"
   ]
  },
  {
   "cell_type": "markdown",
   "id": "519c4e47",
   "metadata": {},
   "source": [
    "#### Winner_rank_points and loser_rank_points"
   ]
  },
  {
   "cell_type": "code",
   "execution_count": null,
   "id": "634b07fc",
   "metadata": {},
   "outputs": [],
   "source": [
    "df_tennis['winner_rank_points'].max()<21750 #21750 is the maximum a player can reach"
   ]
  },
  {
   "cell_type": "code",
   "execution_count": null,
   "id": "b99bae3d",
   "metadata": {},
   "outputs": [],
   "source": [
    "df_tennis['winner_rank_points'].max()"
   ]
  },
  {
   "cell_type": "code",
   "execution_count": null,
   "id": "8909c4cc",
   "metadata": {},
   "outputs": [],
   "source": [
    "df_tennis['winner_rank_points'].min()"
   ]
  },
  {
   "cell_type": "code",
   "execution_count": null,
   "id": "8e71920c",
   "metadata": {},
   "outputs": [],
   "source": [
    "df_tennis[df_tennis['winner_rank_points'] == df_tennis['winner_rank_points'].min()].shape[0] "
   ]
  },
  {
   "cell_type": "code",
   "execution_count": null,
   "id": "df0f260e",
   "metadata": {},
   "outputs": [],
   "source": [
    "df_tennis.boxplot(vert=False, column=['winner_rank_points'], return_type='axes',figsize=(10, 4))"
   ]
  },
  {
   "cell_type": "code",
   "execution_count": null,
   "id": "d2dd602d",
   "metadata": {},
   "outputs": [],
   "source": [
    "df_tennis.plot.scatter('winner_rank', 'winner_rank_points')\n",
    "plt.show()"
   ]
  },
  {
   "cell_type": "code",
   "execution_count": null,
   "id": "9bd304f0",
   "metadata": {},
   "outputs": [],
   "source": [
    "df_tennis['loser_rank_points'].max()<21750 #21750 is the maximum a player can reach"
   ]
  },
  {
   "cell_type": "code",
   "execution_count": null,
   "id": "4d94ee20",
   "metadata": {},
   "outputs": [],
   "source": [
    "df_tennis['loser_rank_points'].max()"
   ]
  },
  {
   "cell_type": "code",
   "execution_count": null,
   "id": "aec35776",
   "metadata": {},
   "outputs": [],
   "source": [
    "df_tennis['loser_rank_points'].min()"
   ]
  },
  {
   "cell_type": "code",
   "execution_count": null,
   "id": "50392873",
   "metadata": {},
   "outputs": [],
   "source": [
    "df_tennis[df_tennis['loser_rank_points'] == df_tennis['loser_rank_points'].min()].shape[0] "
   ]
  },
  {
   "cell_type": "code",
   "execution_count": null,
   "id": "19bee2b6",
   "metadata": {},
   "outputs": [],
   "source": [
    "df_tennis.boxplot(vert=False, column=['loser_rank_points'], return_type='axes',figsize=(10, 4))"
   ]
  },
  {
   "cell_type": "code",
   "execution_count": null,
   "id": "f23b1e21",
   "metadata": {},
   "outputs": [],
   "source": [
    "df_tennis.plot.scatter('loser_rank', 'loser_rank_points')\n",
    "plt.show()"
   ]
  },
  {
   "cell_type": "markdown",
   "id": "2de9cadc",
   "metadata": {},
   "source": [
    "**tourney_spectators**"
   ]
  },
  {
   "cell_type": "code",
   "execution_count": null,
   "id": "4bf5b2b6",
   "metadata": {
    "scrolled": true
   },
   "outputs": [],
   "source": [
    "df_tennis['tourney_spectators'].min() < 0"
   ]
  },
  {
   "cell_type": "code",
   "execution_count": null,
   "id": "08728688",
   "metadata": {},
   "outputs": [],
   "source": [
    "df_tennis['tourney_spectators'].max()"
   ]
  },
  {
   "cell_type": "code",
   "execution_count": null,
   "id": "4658828f",
   "metadata": {},
   "outputs": [],
   "source": [
    "df_tennis['tourney_spectators'].min()"
   ]
  },
  {
   "cell_type": "markdown",
   "id": "0d2b9925",
   "metadata": {},
   "source": [
    "**tourney_revenue**"
   ]
  },
  {
   "cell_type": "code",
   "execution_count": null,
   "id": "645b2039",
   "metadata": {
    "scrolled": true
   },
   "outputs": [],
   "source": [
    "df_tennis['tourney_revenue'].min() < 0"
   ]
  },
  {
   "cell_type": "code",
   "execution_count": null,
   "id": "fdf9d662",
   "metadata": {},
   "outputs": [],
   "source": [
    "df_tennis['tourney_revenue'].max()"
   ]
  },
  {
   "cell_type": "markdown",
   "id": "82d1584c",
   "metadata": {},
   "source": [
    "## Correlation"
   ]
  },
  {
   "cell_type": "code",
   "execution_count": null,
   "id": "dfed898a",
   "metadata": {},
   "outputs": [],
   "source": [
    "df_numeric = df_tennis[['draw_size', 'minutes','w_ace','w_df','w_svpt','w_1stIn', 'w_1stWon', 'w_2ndWon', \n",
    "                        'w_SvGms', 'winner_rank', 'winner_rank_points', 'w_bpSaved',  'w_bpFaced','l_ace',\n",
    "                        'l_df','l_svpt','l_1stIn', 'l_1stWon', 'l_2ndWon', 'l_SvGms', 'loser_rank', \n",
    "                        'loser_rank_points', 'l_bpSaved',  'l_bpFaced', 'tourney_spectators', 'tourney_revenue',\n",
    "                       'winner_ht','winner_age','loser_ht','loser_age']]\n",
    "df_numeric"
   ]
  },
  {
   "cell_type": "code",
   "execution_count": null,
   "id": "7aa6b746",
   "metadata": {},
   "outputs": [],
   "source": [
    "plt.figure(figsize = (30,20))\n",
    "sns.heatmap(df_numeric.corr(), annot=True)"
   ]
  },
  {
   "cell_type": "code",
   "execution_count": null,
   "id": "f403a7a2",
   "metadata": {},
   "outputs": [],
   "source": [
    "treshold = 0.8\n",
    "correlation = df_numeric.corr()\n",
    "correlation_filtered = correlation[correlation>treshold]\n",
    "correlation_filtered"
   ]
  },
  {
   "cell_type": "code",
   "execution_count": null,
   "id": "2851cb44",
   "metadata": {},
   "outputs": [],
   "source": [
    "correlation_filtered = correlation[correlation_filtered.sum()>1]\n",
    "correlation_filtered = correlation_filtered[correlation_filtered>treshold]\n",
    "correlation_filtered = correlation_filtered.dropna(axis=1,how='all')\n",
    "correlation_filtered"
   ]
  },
  {
   "cell_type": "markdown",
   "id": "b1fe094d",
   "metadata": {},
   "source": [
    "**w_svpt, w_1stIn, w_1stWon, w_SvGms** are all correlated because more service game (w_SvGms) a player does and, as consequence, more serve points (w_svpt) ze does (because if the player serves in a game, ze serves for all the points in that game, so these number increase together). If a player serves, the number of the first serves (W_1stln) increase. Increasing the number of first serves, the probability of won some of these serves increase so, more first serves we do, more won first serves (W_1stWon) we expect. The same reasoning is done also for the loser. Furhermore, winner and loser serves in an alternate way so, if the number of serves of the winner increase (for example because of more games), then also the number of the loser increase, so these information grown together.\n",
    "\n",
    "**w_bpSaved and w_bpFaced** are correlated because more are the breakpoints faced and more can be the breakpoint saved. "
   ]
  },
  {
   "cell_type": "code",
   "execution_count": null,
   "id": "8c9bbd62",
   "metadata": {},
   "outputs": [],
   "source": [
    "correlation_filtered = correlation[correlation<-treshold]\n",
    "correlation_filtered = correlation_filtered[correlation_filtered<-treshold]\n",
    "correlation_filtered.dropna(axis=1,how='all',inplace=True)\n",
    "correlation_filtered"
   ]
  },
  {
   "cell_type": "markdown",
   "id": "43a457df",
   "metadata": {},
   "source": [
    "there are no negative correlations to consider"
   ]
  }
 ],
 "metadata": {
  "kernelspec": {
   "display_name": "Python 3 (ipykernel)",
   "language": "python",
   "name": "python3"
  },
  "language_info": {
   "codemirror_mode": {
    "name": "ipython",
    "version": 3
   },
   "file_extension": ".py",
   "mimetype": "text/x-python",
   "name": "python",
   "nbconvert_exporter": "python",
   "pygments_lexer": "ipython3",
   "version": "3.9.5"
  }
 },
 "nbformat": 4,
 "nbformat_minor": 5
}
