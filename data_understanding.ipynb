{
 "cells": [
  {
   "cell_type": "code",
   "execution_count": null,
   "id": "98a1d139",
   "metadata": {},
   "outputs": [],
   "source": [
    "import math\n",
    "import numpy as np\n",
    "import scipy.stats as stats\n",
    "import matplotlib.pyplot as plt\n",
    "from sklearn.decomposition import PCA\n",
    "\n",
    "import collections\n",
    "from scipy.stats.stats import pearsonr\n",
    "import pandas as pd\n",
    "import os\n",
    "from datetime import date"
   ]
  },
  {
   "cell_type": "code",
   "execution_count": null,
   "id": "a908420f",
   "metadata": {},
   "outputs": [],
   "source": [
    "# load of the data\n",
    "DATASET_DIR = \"dataset\" + os.path.sep\n",
    "df_tennis = pd.read_csv(DATASET_DIR + 'tennis_matches.csv', sep=',', index_col=0) \n",
    "\n",
    "#index_col=False say to not use the first column as ID\n",
    "df_male = pd.read_csv(DATASET_DIR + 'male_players.csv', sep=',', index_col=False)\n",
    "df_female = pd.read_csv(DATASET_DIR + 'female_players.csv', sep=',', index_col=False) "
   ]
  },
  {
   "cell_type": "markdown",
   "id": "80d511ae",
   "metadata": {},
   "source": [
    "## Print some records of the datasets"
   ]
  },
  {
   "cell_type": "code",
   "execution_count": null,
   "id": "7da9b707",
   "metadata": {},
   "outputs": [],
   "source": [
    "df_tennis.head()"
   ]
  },
  {
   "cell_type": "code",
   "execution_count": null,
   "id": "4d7a8ca8",
   "metadata": {},
   "outputs": [],
   "source": [
    "df_male.head()"
   ]
  },
  {
   "cell_type": "code",
   "execution_count": null,
   "id": "11d16092",
   "metadata": {},
   "outputs": [],
   "source": [
    "df_female.head()"
   ]
  },
  {
   "cell_type": "markdown",
   "id": "dfcd2dc7",
   "metadata": {},
   "source": [
    "## Missing values: Null"
   ]
  },
  {
   "cell_type": "code",
   "execution_count": null,
   "id": "33d8eddc",
   "metadata": {},
   "outputs": [],
   "source": [
    "#info about data that we have for male\n",
    "df_male.info()"
   ]
  },
  {
   "cell_type": "code",
   "execution_count": null,
   "id": "9df3aef0",
   "metadata": {},
   "outputs": [],
   "source": [
    "#number of null in the columns\n",
    "df_male.isnull().sum(axis = 0)"
   ]
  },
  {
   "cell_type": "markdown",
   "id": "c0595058",
   "metadata": {},
   "source": [
    "So, the male dataframe has 2 columns: name and surname. It has 55208 entries and about 200 null values in total."
   ]
  },
  {
   "cell_type": "code",
   "execution_count": null,
   "id": "96baa8e2",
   "metadata": {},
   "outputs": [],
   "source": [
    "#info about data that we have for female\n",
    "df_female.info()"
   ]
  },
  {
   "cell_type": "code",
   "execution_count": null,
   "id": "1b6f320f",
   "metadata": {},
   "outputs": [],
   "source": [
    "#number of null in the columns\n",
    "df_female.isnull().sum(axis = 0)"
   ]
  },
  {
   "cell_type": "markdown",
   "id": "79296869",
   "metadata": {},
   "source": [
    "So, the female dataframe has 2 columns: name and surname. It has 46172  entries and 1667 null values in the name, but the surname is never null."
   ]
  },
  {
   "cell_type": "code",
   "execution_count": null,
   "id": "da8b2be2",
   "metadata": {},
   "outputs": [],
   "source": [
    "df_tennis.info()"
   ]
  },
  {
   "cell_type": "code",
   "execution_count": null,
   "id": "68eb3dfe",
   "metadata": {
    "scrolled": false
   },
   "outputs": [],
   "source": [
    "#we see if the attributes have some null values\n",
    "df_tennis.isnull().any()"
   ]
  },
  {
   "cell_type": "code",
   "execution_count": null,
   "id": "7baec242",
   "metadata": {},
   "outputs": [],
   "source": [
    "#since all the attributes has missing values, we count them\n",
    "df_tennis.isnull().sum(axis = 0)"
   ]
  },
  {
   "cell_type": "markdown",
   "id": "692a4620",
   "metadata": {},
   "source": [
    "We can notice that some attributes have very few null values, but other attributes has more than 50% of null values"
   ]
  },
  {
   "cell_type": "markdown",
   "id": "c78ac53b",
   "metadata": {},
   "source": [
    "## Duplicate data"
   ]
  },
  {
   "cell_type": "code",
   "execution_count": null,
   "id": "09f655da",
   "metadata": {},
   "outputs": [],
   "source": [
    "#we see if there are duplicates in the dataset male and female\n",
    "df_male.duplicated(keep='first').sum()"
   ]
  },
  {
   "cell_type": "code",
   "execution_count": null,
   "id": "862d6e9e",
   "metadata": {},
   "outputs": [],
   "source": [
    "df_female.duplicated(keep='first').sum()"
   ]
  },
  {
   "cell_type": "markdown",
   "id": "458ff006",
   "metadata": {},
   "source": [
    "So, both the datasets of male and female has rows with same name and surname. These rows can be duplicates (so they correspond to the same person) or they can be homonyms. In this latter case we cannot distinguish the matches of one player by the ones of the other player."
   ]
  },
  {
   "cell_type": "code",
   "execution_count": null,
   "id": "f8e225b5",
   "metadata": {},
   "outputs": [],
   "source": [
    "#we remove (only) the duplicated rows\n",
    "df_male = df_male.drop_duplicates()\n",
    "df_female = df_female.drop_duplicates()"
   ]
  },
  {
   "cell_type": "code",
   "execution_count": null,
   "id": "3c22b05c",
   "metadata": {},
   "outputs": [],
   "source": [
    "#see if a name can be both male and female and manage them\n",
    "df_players = pd.concat([df_male, df_female])\n",
    "df_players[df_players.duplicated(keep='first')==True]"
   ]
  },
  {
   "cell_type": "code",
   "execution_count": null,
   "id": "f38e7275",
   "metadata": {},
   "outputs": [],
   "source": [
    "df_players.duplicated(keep='first').sum()"
   ]
  },
  {
   "cell_type": "markdown",
   "id": "cb6d0dee",
   "metadata": {},
   "source": [
    "So, there are 74 names for both players male and female."
   ]
  },
  {
   "cell_type": "code",
   "execution_count": null,
   "id": "cc6404cd",
   "metadata": {},
   "outputs": [],
   "source": [
    "df_players[df_players.duplicated(subset=['name', 'surname'], keep='first')==True]"
   ]
  },
  {
   "cell_type": "code",
   "execution_count": null,
   "id": "bc83a1c9",
   "metadata": {},
   "outputs": [],
   "source": [
    "#check if there are duplicated rows in the dataset\n",
    "df_tennis.duplicated(keep='first').sum()"
   ]
  },
  {
   "cell_type": "code",
   "execution_count": null,
   "id": "6e284c55",
   "metadata": {},
   "outputs": [],
   "source": [
    "#we remove these duplicates because they contain the same information\n",
    "df_tennis = df_tennis.drop_duplicates()"
   ]
  },
  {
   "cell_type": "markdown",
   "id": "edc905e9",
   "metadata": {},
   "source": [
    "## Noise, outliers and data quality (data visualization here)"
   ]
  },
  {
   "cell_type": "markdown",
   "id": "91e9cf71",
   "metadata": {},
   "source": [
    "### Invalid characters in names and surnames "
   ]
  },
  {
   "cell_type": "code",
   "execution_count": null,
   "id": "92e4c215",
   "metadata": {},
   "outputs": [],
   "source": [
    "#see if all the names and surnames are valid (only letters)\n",
    "df_male[df_male['surname'].str.count('[a-zA-Z ]')!=df_male['surname'].str.len()]"
   ]
  },
  {
   "cell_type": "code",
   "execution_count": null,
   "id": "9011bf3d",
   "metadata": {},
   "outputs": [],
   "source": [
    "df_male[df_male['name'].str.count('[a-zA-Z ]')!=df_male['name'].str.len()]"
   ]
  },
  {
   "cell_type": "code",
   "execution_count": null,
   "id": "4719d811",
   "metadata": {},
   "outputs": [],
   "source": [
    "df_female[df_female['surname'].str.count('[a-zA-Z ]')!=df_female['surname'].str.len()]"
   ]
  },
  {
   "cell_type": "code",
   "execution_count": null,
   "id": "e0effe77",
   "metadata": {},
   "outputs": [],
   "source": [
    "df_female[df_female['name'].str.count('[a-zA-Z ]')!=df_female['name'].str.len()]"
   ]
  },
  {
   "cell_type": "markdown",
   "id": "6dc21a6c",
   "metadata": {},
   "source": [
    "So, in the male and female datasets we have some invalid names and surnames because of numbers, special characters of null values.\n",
    "\n",
    "NOTE: \"40071 \tJason \"Jj\",Belan \tNaN\" is an error because Belan is the surname but pandas has not divided the name by the surname."
   ]
  },
  {
   "cell_type": "markdown",
   "id": "7d76bc67",
   "metadata": {},
   "source": [
    "### Categorical data in tennis dataset"
   ]
  },
  {
   "cell_type": "code",
   "execution_count": null,
   "id": "9aa8967c",
   "metadata": {},
   "outputs": [],
   "source": [
    "df_tennis.dtypes.value_counts()"
   ]
  },
  {
   "cell_type": "code",
   "execution_count": null,
   "id": "6cc06740",
   "metadata": {},
   "outputs": [],
   "source": [
    "#Values in the columns with type object\n",
    "for column in df_tennis.select_dtypes(include=['object']).columns:\n",
    "    print(\"Distinct Values in \"+str(column)+\": \\n\", df_tennis[column].unique(), \"\\n\")"
   ]
  },
  {
   "cell_type": "markdown",
   "id": "f55273fe",
   "metadata": {},
   "source": [
    "#### tourney_id"
   ]
  },
  {
   "cell_type": "code",
   "execution_count": null,
   "id": "7ecaeee8",
   "metadata": {},
   "outputs": [],
   "source": [
    "#check that for non null values, the first 4 char are the year\n",
    "#count rows whose firts 4 char are not numbers\n",
    "df_tennis[df_tennis['tourney_id'].str[:4].str.isnumeric()==False].shape[0] "
   ]
  },
  {
   "cell_type": "code",
   "execution_count": null,
   "id": "07b7cf51",
   "metadata": {},
   "outputs": [],
   "source": [
    "#chech if some years are in the future (so are invalid)(ignore nulls)\n",
    "df_tennis[pd.to_numeric(df_tennis['tourney_id'].str[:4]).fillna(0).astype('int') > date.today().year].shape[0] "
   ]
  },
  {
   "cell_type": "code",
   "execution_count": null,
   "id": "f168ffe5",
   "metadata": {},
   "outputs": [],
   "source": [
    "#chech if there are invalid years because to much in the past (ignore nulls)\n",
    "df_tennis[pd.to_numeric(df_tennis['tourney_id'].str[:4]).fillna(date.today().year).astype('int') < 1874 ].shape[0] "
   ]
  },
  {
   "cell_type": "markdown",
   "id": "9c859371",
   "metadata": {},
   "source": [
    "So, the first 4 numbers in the tourney_id are always valid when the tourney_id id not null"
   ]
  },
  {
   "cell_type": "code",
   "execution_count": null,
   "id": "688e4e36",
   "metadata": {},
   "outputs": [],
   "source": [
    "#chech that for each tourney there is more than one match (every id appears more than once)\n",
    "df_tennis[df_tennis['tourney_id'].duplicated(keep=False)==False].shape[0] "
   ]
  },
  {
   "cell_type": "markdown",
   "id": "666d0995",
   "metadata": {},
   "source": [
    "So, every torney_id appears more than once"
   ]
  },
  {
   "cell_type": "markdown",
   "id": "84a9e81d",
   "metadata": {},
   "source": [
    "#### tourney_name"
   ]
  },
  {
   "cell_type": "code",
   "execution_count": null,
   "id": "05e18cf9",
   "metadata": {},
   "outputs": [],
   "source": [
    "#chech that for the same tourney_id we have always the same name: USEFUL?\n",
    "#len(df_tennis.groupby(['tourney_id','tourney_name']).size())-len(df_tennis.groupby(['tourney_id']).size())"
   ]
  },
  {
   "cell_type": "markdown",
   "id": "30ca7383",
   "metadata": {},
   "source": [
    "#### tourney_level"
   ]
  },
  {
   "cell_type": "code",
   "execution_count": null,
   "id": "ceb77107",
   "metadata": {},
   "outputs": [],
   "source": [
    "#there are no records for S and T1, and for E, J, T (but for these 3 they will appear (see pdf))\n",
    "#there are, in the data, O and W that are not in the pdf\n",
    "\n",
    "#eccetto questo al massimo farei un controllo come quello fatto per l'hand"
   ]
  },
  {
   "cell_type": "markdown",
   "id": "6c40a9db",
   "metadata": {},
   "source": [
    "#### winner_name and loser_name"
   ]
  },
  {
   "cell_type": "code",
   "execution_count": null,
   "id": "eb3ce475",
   "metadata": {},
   "outputs": [],
   "source": [
    "# in the ranges we should consider also [-.']???"
   ]
  },
  {
   "cell_type": "code",
   "execution_count": null,
   "id": "52b13a8a",
   "metadata": {},
   "outputs": [],
   "source": [
    "#check that names are valid\n",
    "df_tennis[df_tennis['winner_name'].str.count('[a-zA-Z ]')!=df_tennis['winner_name'].str.len()]['winner_name']"
   ]
  },
  {
   "cell_type": "code",
   "execution_count": null,
   "id": "de89588a",
   "metadata": {},
   "outputs": [],
   "source": [
    "df_tennis[df_tennis['loser_name'].str.count(\"[a-zA-Z ]\")!=df_tennis['loser_name'].str.len()]['loser_name']"
   ]
  },
  {
   "cell_type": "markdown",
   "id": "fbdb1a2a",
   "metadata": {},
   "source": [
    "There are invalid characters in the names of some winners and some losers"
   ]
  },
  {
   "cell_type": "markdown",
   "id": "4e2a6460",
   "metadata": {},
   "source": [
    "#### winner_hand and loser_hand"
   ]
  },
  {
   "cell_type": "code",
   "execution_count": null,
   "id": "deffc354",
   "metadata": {},
   "outputs": [],
   "source": [
    "#check that there are not indicated hand that are invalid (ignore nulls)\n",
    "hand = ['R','L','U']\n",
    "df_tennis[~df_tennis['winner_hand'].fillna('U').str.upper().isin(hand)].shape[0]"
   ]
  },
  {
   "cell_type": "code",
   "execution_count": null,
   "id": "a5410126",
   "metadata": {},
   "outputs": [],
   "source": [
    "df_tennis[~df_tennis['loser_hand'].fillna('U').str.upper().isin(hand)].shape[0]"
   ]
  },
  {
   "cell_type": "markdown",
   "id": "df735159",
   "metadata": {},
   "source": [
    "There are not invalid entries for the hand of winner or loser"
   ]
  },
  {
   "cell_type": "markdown",
   "id": "e6c4a825",
   "metadata": {},
   "source": [
    "#### winner_ioc and loser_ioc"
   ]
  },
  {
   "cell_type": "code",
   "execution_count": null,
   "id": "9c1613a3",
   "metadata": {},
   "outputs": [],
   "source": [
    "df_countrycode = pd.read_csv(DATASET_DIR + 'country-codes_csv.csv', sep=',', index_col=False) \n",
    "df_countrycode.head()"
   ]
  },
  {
   "cell_type": "code",
   "execution_count": null,
   "id": "6f8f4f7b",
   "metadata": {},
   "outputs": [],
   "source": [
    "check_cc = pd.Series(~df_tennis.winner_ioc.isin(df_countrycode.IOC).values, df_tennis.winner_ioc.values)\n",
    "type(check_cc[check_cc].index)\n",
    "check_cc[check_cc].index.value_counts()"
   ]
  },
  {
   "cell_type": "code",
   "execution_count": null,
   "id": "49451439",
   "metadata": {},
   "outputs": [],
   "source": [
    "#aggiungerei anche il controllo usando l'altro codice che avevi visto @reny così da farci un'idea di quanti di\n",
    "#questi siano proprio sbagliati o solo nel formato sbaglito"
   ]
  },
  {
   "cell_type": "code",
   "execution_count": null,
   "id": "d958d724",
   "metadata": {},
   "outputs": [],
   "source": []
  },
  {
   "cell_type": "markdown",
   "id": "b984d7ab",
   "metadata": {},
   "source": [
    "#### score"
   ]
  },
  {
   "cell_type": "code",
   "execution_count": null,
   "id": "f65ab164",
   "metadata": {},
   "outputs": [],
   "source": [
    "#What are the numbers between the brackets ()???"
   ]
  },
  {
   "cell_type": "code",
   "execution_count": null,
   "id": "d1ad8b6e",
   "metadata": {},
   "outputs": [],
   "source": [
    "#una partita di tennis deve finire con almeno 2 punti di vantaggio (es 7-5, 6-4). al massimo si può controllare questo\n",
    "#ma so se sia utile come info. nel caso si può anche evitare.\n",
    "#sembra che quelli con le () non rispettano sta cosa. "
   ]
  },
  {
   "cell_type": "markdown",
   "id": "885bb68e",
   "metadata": {},
   "source": [
    "### Numeric data"
   ]
  },
  {
   "cell_type": "code",
   "execution_count": null,
   "id": "149eb182",
   "metadata": {
    "scrolled": true
   },
   "outputs": [],
   "source": [
    "df_tennis.select_dtypes(include=['float64']).columns\n",
    "for column in df_tennis.select_dtypes(include=['float64']).columns:\n",
    "    print(\"Distinct Values in \"+str(column)+\": \\n\", df_tennis[column].unique(), \"\\n\")"
   ]
  },
  {
   "cell_type": "code",
   "execution_count": null,
   "id": "5df0d72e",
   "metadata": {},
   "outputs": [],
   "source": []
  },
  {
   "cell_type": "markdown",
   "id": "e89eee1f",
   "metadata": {},
   "source": [
    "## Missing values: default value"
   ]
  },
  {
   "cell_type": "code",
   "execution_count": null,
   "id": "48f8a6ae",
   "metadata": {},
   "outputs": [],
   "source": []
  },
  {
   "cell_type": "code",
   "execution_count": null,
   "id": "23d47a84",
   "metadata": {},
   "outputs": [],
   "source": []
  },
  {
   "cell_type": "markdown",
   "id": "82d1584c",
   "metadata": {},
   "source": [
    "## Correlation"
   ]
  },
  {
   "cell_type": "code",
   "execution_count": null,
   "id": "be9c2987",
   "metadata": {},
   "outputs": [],
   "source": [
    "df_numeric = df_tennis[df_tennis.select_dtypes(include=['float64']).columns]"
   ]
  },
  {
   "cell_type": "code",
   "execution_count": null,
   "id": "f403a7a2",
   "metadata": {},
   "outputs": [],
   "source": [
    "df_numeric.corr()"
   ]
  },
  {
   "cell_type": "markdown",
   "id": "2eda568f",
   "metadata": {},
   "source": [
    "inserire ragionamento sulla correlation"
   ]
  },
  {
   "cell_type": "markdown",
   "id": "cfcb97d6",
   "metadata": {},
   "source": [
    "## Statistics/distributions"
   ]
  },
  {
   "cell_type": "code",
   "execution_count": null,
   "id": "16e2ed55",
   "metadata": {},
   "outputs": [],
   "source": []
  },
  {
   "cell_type": "code",
   "execution_count": null,
   "id": "e3191859",
   "metadata": {},
   "outputs": [],
   "source": [
    "#some statistics\n",
    "#df_tennis.describe()all"
   ]
  },
  {
   "cell_type": "code",
   "execution_count": null,
   "id": "3c7fc152",
   "metadata": {},
   "outputs": [],
   "source": []
  },
  {
   "cell_type": "code",
   "execution_count": null,
   "id": "e9521796",
   "metadata": {},
   "outputs": [],
   "source": []
  }
 ],
 "metadata": {
  "kernelspec": {
   "display_name": "Python 3 (ipykernel)",
   "language": "python",
   "name": "python3"
  },
  "language_info": {
   "codemirror_mode": {
    "name": "ipython",
    "version": 3
   },
   "file_extension": ".py",
   "mimetype": "text/x-python",
   "name": "python",
   "nbconvert_exporter": "python",
   "pygments_lexer": "ipython3",
   "version": "3.9.5"
  }
 },
 "nbformat": 4,
 "nbformat_minor": 5
}
