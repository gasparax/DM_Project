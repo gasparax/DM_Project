{
 "cells": [
  {
   "cell_type": "code",
   "execution_count": 1,
   "id": "98a1d139",
   "metadata": {},
   "outputs": [],
   "source": [
    "import math\n",
    "import numpy as np\n",
    "import scipy.stats as stats\n",
    "import matplotlib.pyplot as plt\n",
    "from sklearn.decomposition import PCA\n",
    "\n",
    "import collections\n",
    "from scipy.stats.stats import pearsonr\n",
    "import pandas as pd\n",
    "import os\n",
    "from datetime import date"
   ]
  },
  {
   "cell_type": "code",
   "execution_count": 2,
   "id": "a908420f",
   "metadata": {},
   "outputs": [],
   "source": [
    "# load of the data\n",
    "DATASET_DIR = \"dataset\" + os.path.sep\n",
    "df_tennis = pd.read_csv(DATASET_DIR + 'tennis_matches.csv', sep=',', index_col=0) \n",
    "\n",
    "#index_col=False say to not use the first column as ID\n",
    "df_male = pd.read_csv(DATASET_DIR + 'male_players.csv', sep=',', index_col=False)\n",
    "df_female = pd.read_csv(DATASET_DIR + 'female_players.csv', sep=',', index_col=False) "
   ]
  },
  {
   "cell_type": "markdown",
   "id": "80d511ae",
   "metadata": {},
   "source": [
    "## Print some records of the datasets"
   ]
  },
  {
   "cell_type": "code",
   "execution_count": null,
   "id": "7da9b707",
   "metadata": {},
   "outputs": [],
   "source": [
    "df_tennis.head()"
   ]
  },
  {
   "cell_type": "code",
   "execution_count": null,
   "id": "4d7a8ca8",
   "metadata": {},
   "outputs": [],
   "source": [
    "df_male.head()"
   ]
  },
  {
   "cell_type": "code",
   "execution_count": null,
   "id": "11d16092",
   "metadata": {},
   "outputs": [],
   "source": [
    "df_female.head()"
   ]
  },
  {
   "cell_type": "markdown",
   "id": "dfcd2dc7",
   "metadata": {},
   "source": [
    "## Missing values: Null"
   ]
  },
  {
   "cell_type": "code",
   "execution_count": null,
   "id": "33d8eddc",
   "metadata": {},
   "outputs": [],
   "source": [
    "#info about data that we have for male\n",
    "df_male.info()"
   ]
  },
  {
   "cell_type": "code",
   "execution_count": null,
   "id": "9df3aef0",
   "metadata": {},
   "outputs": [],
   "source": [
    "#number of null in the columns\n",
    "df_male.isnull().sum(axis = 0)"
   ]
  },
  {
   "cell_type": "markdown",
   "id": "c0595058",
   "metadata": {},
   "source": [
    "So, the male dataframe has 2 columns: name and surname. It has 55208 entries and about 200 null values in total."
   ]
  },
  {
   "cell_type": "code",
   "execution_count": null,
   "id": "96baa8e2",
   "metadata": {},
   "outputs": [],
   "source": [
    "#info about data that we have for female\n",
    "df_female.info()"
   ]
  },
  {
   "cell_type": "code",
   "execution_count": null,
   "id": "1b6f320f",
   "metadata": {},
   "outputs": [],
   "source": [
    "#number of null in the columns\n",
    "df_female.isnull().sum(axis = 0)"
   ]
  },
  {
   "cell_type": "markdown",
   "id": "79296869",
   "metadata": {},
   "source": [
    "So, the female dataframe has 2 columns: name and surname. It has 46172  entries and 1667 null values in the name, but the surname is never null."
   ]
  },
  {
   "cell_type": "code",
   "execution_count": null,
   "id": "da8b2be2",
   "metadata": {},
   "outputs": [],
   "source": [
    "df_tennis.info()"
   ]
  },
  {
   "cell_type": "code",
   "execution_count": null,
   "id": "68eb3dfe",
   "metadata": {
    "scrolled": false
   },
   "outputs": [],
   "source": [
    "#we see if the attributes have some null values\n",
    "df_tennis.isnull().any()"
   ]
  },
  {
   "cell_type": "code",
   "execution_count": null,
   "id": "7baec242",
   "metadata": {},
   "outputs": [],
   "source": [
    "#since all the attributes has missing values, we count them\n",
    "df_tennis.isnull().sum(axis = 0)"
   ]
  },
  {
   "cell_type": "markdown",
   "id": "692a4620",
   "metadata": {},
   "source": [
    "We can notice that some attributes have very few null values, but other attributes has more than 50% of null values"
   ]
  },
  {
   "cell_type": "markdown",
   "id": "c78ac53b",
   "metadata": {},
   "source": [
    "## Duplicate data"
   ]
  },
  {
   "cell_type": "code",
   "execution_count": null,
   "id": "09f655da",
   "metadata": {},
   "outputs": [],
   "source": [
    "#we see if there are duplicates in the dataset male and female\n",
    "df_male.duplicated(keep='first').sum()"
   ]
  },
  {
   "cell_type": "code",
   "execution_count": null,
   "id": "862d6e9e",
   "metadata": {},
   "outputs": [],
   "source": [
    "df_female.duplicated(keep='first').sum()"
   ]
  },
  {
   "cell_type": "markdown",
   "id": "458ff006",
   "metadata": {},
   "source": [
    "So, both the datasets of male and female has rows with same name and surname. These rows can be duplicates (so they correspond to the same person) or they can be homonyms. In this latter case we cannot distinguish the matches of one player by the ones of the other player."
   ]
  },
  {
   "cell_type": "code",
   "execution_count": null,
   "id": "f8e225b5",
   "metadata": {},
   "outputs": [],
   "source": [
    "#we remove (only) the duplicated rows\n",
    "df_male_no_dup = df_male.drop_duplicates()\n",
    "df_female_no_dup = df_female.drop_duplicates()"
   ]
  },
  {
   "cell_type": "code",
   "execution_count": null,
   "id": "3c22b05c",
   "metadata": {},
   "outputs": [],
   "source": [
    "#see if a name can be both male and female and manage them\n",
    "df_players = pd.concat([df_male_no_dup, df_female_no_dup])\n",
    "df_players[df_players.duplicated(keep='first')==True]"
   ]
  },
  {
   "cell_type": "code",
   "execution_count": null,
   "id": "f38e7275",
   "metadata": {},
   "outputs": [],
   "source": [
    "df_players.duplicated(keep='first').sum()"
   ]
  },
  {
   "cell_type": "markdown",
   "id": "cb6d0dee",
   "metadata": {},
   "source": [
    "So, there are 74 names for both players male and female."
   ]
  },
  {
   "cell_type": "code",
   "execution_count": null,
   "id": "cc6404cd",
   "metadata": {},
   "outputs": [],
   "source": [
    "df_players[df_players.duplicated(subset=['name', 'surname'], keep='first')==True]"
   ]
  },
  {
   "cell_type": "code",
   "execution_count": null,
   "id": "bc83a1c9",
   "metadata": {},
   "outputs": [],
   "source": [
    "#check if there are duplicated rows in the dataset\n",
    "df_tennis.duplicated(keep='first').sum()"
   ]
  },
  {
   "cell_type": "markdown",
   "id": "edc905e9",
   "metadata": {},
   "source": [
    "## Noise, outliers and data quality (data visualization here)"
   ]
  },
  {
   "cell_type": "markdown",
   "id": "91e9cf71",
   "metadata": {},
   "source": [
    "### Invalid characters in names and surnames "
   ]
  },
  {
   "cell_type": "code",
   "execution_count": null,
   "id": "92e4c215",
   "metadata": {},
   "outputs": [],
   "source": [
    "#see if all the names and surnames are valid (only letters)\n",
    "df_male[df_male['surname'].str.count(\"[a-zA-Z '.-]\")!=df_male['surname'].str.len()]"
   ]
  },
  {
   "cell_type": "code",
   "execution_count": null,
   "id": "9011bf3d",
   "metadata": {},
   "outputs": [],
   "source": [
    "df_male[df_male['name'].str.count(\"[a-zA-Z ',.-]\")!=df_male['name'].str.len()]"
   ]
  },
  {
   "cell_type": "code",
   "execution_count": null,
   "id": "4719d811",
   "metadata": {},
   "outputs": [],
   "source": [
    "df_female[df_female['surname'].str.count(\"[a-zA-Z '.-]\")!=df_female['surname'].str.len()]"
   ]
  },
  {
   "cell_type": "code",
   "execution_count": null,
   "id": "e0effe77",
   "metadata": {},
   "outputs": [],
   "source": [
    "df_female[df_female['name'].str.count(\"[a-zA-Z ',.-]\")!=df_female['name'].str.len()]"
   ]
  },
  {
   "cell_type": "markdown",
   "id": "6dc21a6c",
   "metadata": {},
   "source": [
    "So, in the male and female datasets we have some invalid names and surnames because of numbers, special characters of null values.\n",
    "\n",
    "NOTE: \"40071 \tJason \"Jj\",Belan \tNaN\" is an error because Belan is the surname but pandas has not divided the name by the surname."
   ]
  },
  {
   "cell_type": "markdown",
   "id": "7d76bc67",
   "metadata": {},
   "source": [
    "### Categorical data in tennis dataset"
   ]
  },
  {
   "cell_type": "code",
   "execution_count": 3,
   "id": "9aa8967c",
   "metadata": {},
   "outputs": [
    {
     "data": {
      "text/plain": [
       "float64    35\n",
       "object     14\n",
       "dtype: int64"
      ]
     },
     "execution_count": 3,
     "metadata": {},
     "output_type": "execute_result"
    }
   ],
   "source": [
    "df_tennis.dtypes.value_counts()"
   ]
  },
  {
   "cell_type": "code",
   "execution_count": 4,
   "id": "6cc06740",
   "metadata": {},
   "outputs": [
    {
     "name": "stdout",
     "output_type": "stream",
     "text": [
      "Distinct Values in tourney_id: \n",
      " ['2019-M020' '2019-0451' '2019-0891' ... '2020-W-ITF-USA-47A-2020'\n",
      " '2020-W-ITF-USA-48A-2020' nan] \n",
      "\n",
      "Distinct Values in tourney_name: \n",
      " ['Brisbane' 'Doha' 'Pune' ... 'W100 Nicholasville KY' 'W25 Las Vegas NV'\n",
      " nan] \n",
      "\n",
      "Distinct Values in surface: \n",
      " ['Hard' 'Clay' 'Grass' 'Carpet' nan] \n",
      "\n",
      "Distinct Values in tourney_level: \n",
      " ['A' 'P' 'G' 'I' 'M' 'PM' 'F' 'D' 'C' '15' '25' '60' '100' '80' '10' '50'\n",
      " '75' 'O' 'W' nan] \n",
      "\n",
      "Distinct Values in winner_entry: \n",
      " [nan 'PR' 'Q' 'WC' 'Alt' 'LL' 'SE' 'ALT' 'SR' 'JE' 'A' 'ITF' 'P' 'I' 'IR'\n",
      " 'JR'] \n",
      "\n",
      "Distinct Values in winner_name: \n",
      " ['Kei Nishikori' 'Daniil Medvedev' 'Jo-Wilfried Tsonga' ... 'Sultan Gonen'\n",
      " 'Viktoria Veleva' nan] \n",
      "\n",
      "Distinct Values in winner_hand: \n",
      " ['R' 'L' 'U' nan] \n",
      "\n",
      "Distinct Values in winner_ioc: \n",
      " ['JPN' 'RUS' 'FRA' 'AUS' 'CAN' 'BUL' 'GBR' 'SRB' 'USA' 'LAT' 'CZE' 'EST'\n",
      " 'UKR' 'NED' 'CRO' 'BLR' 'CHI' 'SUI' 'POL' 'GER' 'LUX' 'ESP' 'ITA' 'GEO'\n",
      " 'HUN' 'LTU' 'ARG' 'CYP' 'BIH' 'RSA' 'BEL' 'TUN' 'IND' 'BRA' 'AUT' 'POR'\n",
      " 'NZL' 'URU' 'GRE' 'SVK' 'TPE' 'KAZ' 'PUR' 'KOR' 'ROU' 'MDA' 'SLO' 'CHN'\n",
      " 'SWE' 'DEN' 'TUR' 'ESA' 'BAR' 'UZB' 'MNE' 'BOL' 'NOR' 'ECU' 'MEX' 'COL'\n",
      " 'LIE' 'ISR' 'PAR' 'DOM' 'FIN' 'GUA' 'PER' 'INA' 'THA' 'PHI' 'EGY' 'ALG'\n",
      " 'ZIM' 'PAK' 'MAR' 'HKG' 'IRL' 'LIB' 'SRI' 'VEN' 'MKD' 'PNG' 'SIN' 'GRN'\n",
      " 'BAH' 'CUB' 'TRI' 'OMA' 'MLT' 'KGZ' 'MAS' 'BDI' 'MRI' 'SAM' 'KEN' 'ARM'\n",
      " 'NAM' 'REU' 'UNK' 'MON' 'HAI' 'VIE' 'HON' 'PAN' 'CRC' 'SGP' 'TJK' 'POC'\n",
      " 'IRI' 'PHL' 'MGL' 'GUM' 'GAB' 'NGR' 'GUD' 'CAM' 'CMR' 'KUW' 'MAD' 'DEU'\n",
      " 'AND' 'NLD' 'NGA' 'GRC' nan] \n",
      "\n",
      "Distinct Values in loser_entry: \n",
      " [nan 'PR' 'Q' 'LL' 'WC' 'Alt' 'A' 'SE' 'ALT' 'SR' 'JE' '3' '4' '6' 'ITF'\n",
      " 'I' 'P' 'J' 'IR' 'JR'] \n",
      "\n",
      "Distinct Values in loser_name: \n",
      " ['Daniil Medvedev' 'Jo-Wilfried Tsonga' 'Jeremy Chardy' ... 'Amy Huang'\n",
      " 'Chloe Henderson' nan] \n",
      "\n",
      "Distinct Values in loser_hand: \n",
      " ['R' 'L' 'U' nan] \n",
      "\n",
      "Distinct Values in loser_ioc: \n",
      " ['RUS' 'FRA' 'AUS' 'CAN' 'JPN' 'BUL' 'GBR' 'SRB' 'USA' 'ARG' 'SLO' 'GER'\n",
      " 'ESP' 'ROU' 'KAZ' 'CZE' 'BEL' 'SVK' 'NED' 'UKR' 'LAT' 'EST' 'BLR' 'CRO'\n",
      " 'CHI' 'SUI' 'POL' 'LUX' 'ITA' 'GEO' 'HUN' 'LTU' 'BIH' 'QAT' 'TUR' 'AUT'\n",
      " 'CYP' 'TUN' 'IND' 'KOR' 'UZB' 'MDA' 'BRA' 'POR' 'TPE' 'ESA' 'NZL' 'URU'\n",
      " 'GRE' 'PUR' 'RSA' 'CHN' 'THA' 'SWE' 'DEN' 'COL' 'DOM' 'NOR' 'EGY' 'BAR'\n",
      " 'LIE' 'PAR' 'MNE' 'BOL' 'ECU' 'MEX' 'IRL' 'ISR' 'ALG' 'MON' 'FIN' 'VEN'\n",
      " 'LIB' 'GUA' 'PER' 'INA' 'PHI' 'HKG' 'MAR' 'ZIM' 'IRI' 'SRI' 'PAK' 'MKD'\n",
      " 'KGZ' 'ARM' 'PNG' 'SIN' 'BAH' 'TTO' 'GRN' 'TRI' 'CRC' 'CUB' 'OMA' 'MAS'\n",
      " 'PAN' 'CMR' 'MLT' 'LBN' 'BDI' 'NGR' 'MRI' 'GAB' 'AZE' 'BRN' 'SAM' 'JAM'\n",
      " 'KEN' 'GHA' 'MGL' 'JOR' 'GUD' 'REU' 'MAD' 'NAM' 'MRN' 'VIE' 'SYR' 'UNK'\n",
      " 'SGP' 'UAE' 'AHO' 'BEN' 'HAI' 'ERI' 'ITF' 'COD' 'LBA' 'HON' 'TKM' 'TJK'\n",
      " 'POC' 'BER' 'AND' 'SMR' 'PHL' 'ANT' 'TOG' 'GUM' 'VIN' 'BOT' 'CAM' 'ZAM'\n",
      " 'KUW' 'DEU' 'SAU' 'NGA' 'BGR' 'NLD' 'LVA' 'GRC' 'CRI' 'BAN' nan] \n",
      "\n",
      "Distinct Values in score: \n",
      " ['6-4 3-6 6-2' '7-6(6) 6-2' '6-2 6-2' ... '7-6(6) 5-7 10-6'\n",
      " '6-2 6-7(4) 10-8' '7-6(4) 2-6 10-5'] \n",
      "\n",
      "Distinct Values in round: \n",
      " ['F' 'SF' 'QF' 'R16' 'R32' 'Q1' 'Q2' 'Q3' 'R64' 'R128' 'RR' 'BR' nan] \n",
      "\n"
     ]
    }
   ],
   "source": [
    "#Values in the columns with type object\n",
    "for column in df_tennis.select_dtypes(include=['object']).columns:\n",
    "    print(\"Distinct Values in \"+str(column)+\": \\n\", df_tennis[column].unique(), \"\\n\")"
   ]
  },
  {
   "cell_type": "markdown",
   "id": "f55273fe",
   "metadata": {},
   "source": [
    "#### tourney_id"
   ]
  },
  {
   "cell_type": "code",
   "execution_count": null,
   "id": "7ecaeee8",
   "metadata": {},
   "outputs": [],
   "source": [
    "#check that for non null values, the first 4 char are the year\n",
    "#count rows whose firts 4 char are not numbers\n",
    "df_tennis[df_tennis['tourney_id'].str[:4].str.isnumeric()==False].shape[0] "
   ]
  },
  {
   "cell_type": "code",
   "execution_count": null,
   "id": "07b7cf51",
   "metadata": {},
   "outputs": [],
   "source": [
    "#chech if some years are in the future (so are invalid)(ignore nulls)\n",
    "df_tennis[pd.to_numeric(df_tennis['tourney_id'].str[:4]).fillna(0).astype('int') > date.today().year].shape[0] "
   ]
  },
  {
   "cell_type": "code",
   "execution_count": null,
   "id": "f168ffe5",
   "metadata": {},
   "outputs": [],
   "source": [
    "#chech if there are invalid years because to much in the past (ignore nulls)\n",
    "df_tennis[pd.to_numeric(df_tennis['tourney_id'].str[:4]).fillna(date.today().year).astype('int') < 1874 ].shape[0] "
   ]
  },
  {
   "cell_type": "markdown",
   "id": "9c859371",
   "metadata": {},
   "source": [
    "So, the first 4 numbers in the tourney_id are always valid when the tourney_id id not null"
   ]
  },
  {
   "cell_type": "code",
   "execution_count": null,
   "id": "688e4e36",
   "metadata": {},
   "outputs": [],
   "source": [
    "#chech that for each tourney there is more than one match (every id appears more than once)\n",
    "df_tennis[df_tennis['tourney_id'].duplicated(keep=False)==False].shape[0] "
   ]
  },
  {
   "cell_type": "markdown",
   "id": "666d0995",
   "metadata": {},
   "source": [
    "So, every torney_id appears more than once"
   ]
  },
  {
   "cell_type": "code",
   "execution_count": null,
   "id": "7aadc5f8",
   "metadata": {},
   "outputs": [],
   "source": [
    "#check how many distinct tourney are present\n",
    "df_tennis[\"tourney_id\"].value_counts().count()"
   ]
  },
  {
   "cell_type": "code",
   "execution_count": null,
   "id": "2ab4dd0d",
   "metadata": {},
   "outputs": [],
   "source": [
    "#count how many match are played for each tournamnet\n",
    "#df_tennis.groupby(['tourney_id'])[\"match_num\"].count()"
   ]
  },
  {
   "cell_type": "markdown",
   "id": "84a9e81d",
   "metadata": {},
   "source": [
    "#### tourney_name"
   ]
  },
  {
   "cell_type": "code",
   "execution_count": null,
   "id": "05e18cf9",
   "metadata": {},
   "outputs": [],
   "source": [
    "#chech that for the same tourney_id we have always the same name: USEFUL?\n",
    "#len(df_tennis.groupby(['tourney_id','tourney_name']).size())-len(df_tennis.groupby(['tourney_id']).size())"
   ]
  },
  {
   "cell_type": "markdown",
   "id": "30ca7383",
   "metadata": {},
   "source": [
    "#### tourney_level"
   ]
  },
  {
   "cell_type": "code",
   "execution_count": null,
   "id": "ceb77107",
   "metadata": {},
   "outputs": [],
   "source": [
    "#there are no records for S and T1, and for E, J, T (but for these 3 they will appear (see pdf))\n",
    "#there are, in the data, O and W that are not in the pdf\n",
    "\n",
    "#eccetto questo al massimo farei un controllo come quello fatto per l'hand"
   ]
  },
  {
   "cell_type": "code",
   "execution_count": null,
   "id": "1e0a778b",
   "metadata": {},
   "outputs": [],
   "source": []
  },
  {
   "cell_type": "markdown",
   "id": "c1977cc1",
   "metadata": {},
   "source": []
  },
  {
   "cell_type": "markdown",
   "id": "6c40a9db",
   "metadata": {},
   "source": [
    "#### winner_name and loser_name"
   ]
  },
  {
   "cell_type": "code",
   "execution_count": null,
   "id": "52b13a8a",
   "metadata": {},
   "outputs": [],
   "source": [
    "#check that names are valid\n",
    "df_tennis[df_tennis['winner_name'].str.count(\"[a-zA-Z ',.-]\")!=df_tennis['winner_name'].str.len()]['winner_name']"
   ]
  },
  {
   "cell_type": "code",
   "execution_count": null,
   "id": "de89588a",
   "metadata": {},
   "outputs": [],
   "source": [
    "df_tennis[df_tennis['loser_name'].str.count(\"[a-zA-Z ',.-]\")!=df_tennis['loser_name'].str.len()]['loser_name']"
   ]
  },
  {
   "cell_type": "markdown",
   "id": "fbdb1a2a",
   "metadata": {},
   "source": [
    "There are invalid characters in the names of some winners and some losers"
   ]
  },
  {
   "cell_type": "markdown",
   "id": "4e2a6460",
   "metadata": {},
   "source": [
    "#### winner_hand and loser_hand"
   ]
  },
  {
   "cell_type": "code",
   "execution_count": null,
   "id": "deffc354",
   "metadata": {},
   "outputs": [],
   "source": [
    "#check that there are not indicated hand that are invalid (ignore nulls)\n",
    "hand = ['R','L','U']\n",
    "df_tennis[~df_tennis['winner_hand'].fillna('U').str.upper().isin(hand)].shape[0]"
   ]
  },
  {
   "cell_type": "code",
   "execution_count": null,
   "id": "a5410126",
   "metadata": {},
   "outputs": [],
   "source": [
    "df_tennis[~df_tennis['loser_hand'].fillna('U').str.upper().isin(hand)].shape[0]"
   ]
  },
  {
   "cell_type": "markdown",
   "id": "df735159",
   "metadata": {},
   "source": [
    "There are not invalid entries for the hand of winner or loser"
   ]
  },
  {
   "cell_type": "markdown",
   "id": "e6c4a825",
   "metadata": {},
   "source": [
    "#### winner_ioc and loser_ioc"
   ]
  },
  {
   "cell_type": "code",
   "execution_count": null,
   "id": "9c1613a3",
   "metadata": {},
   "outputs": [],
   "source": [
    "df_countrycode = pd.read_csv(DATASET_DIR + 'country-codes_csv.csv', sep=',', index_col=False) \n",
    "df_countrycode.head()"
   ]
  },
  {
   "cell_type": "code",
   "execution_count": null,
   "id": "6f8f4f7b",
   "metadata": {},
   "outputs": [],
   "source": [
    "check_cc = pd.Series(~df_tennis.winner_ioc.isin(df_countrycode.IOC).values, df_tennis.winner_ioc.values)\n",
    "type(check_cc[check_cc].index)\n",
    "check_cc[check_cc].index.value_counts()"
   ]
  },
  {
   "cell_type": "code",
   "execution_count": null,
   "id": "49451439",
   "metadata": {},
   "outputs": [],
   "source": [
    "#aggiungerei anche il controllo usando l'altro codice che avevi visto @reny così da farci un'idea di quanti di\n",
    "#questi siano proprio sbagliati o solo nel formato sbaglito"
   ]
  },
  {
   "cell_type": "code",
   "execution_count": null,
   "id": "d958d724",
   "metadata": {},
   "outputs": [],
   "source": []
  },
  {
   "cell_type": "markdown",
   "id": "b984d7ab",
   "metadata": {},
   "source": [
    "#### score\n",
    "https://www.wikihow.it/Tenere-il-Punteggio-a-Tennis"
   ]
  },
  {
   "cell_type": "code",
   "execution_count": null,
   "id": "f65ab164",
   "metadata": {},
   "outputs": [],
   "source": [
    "#What are the numbers between the brackets ()???"
   ]
  },
  {
   "cell_type": "code",
   "execution_count": null,
   "id": "d1ad8b6e",
   "metadata": {},
   "outputs": [],
   "source": [
    "#una partita di tennis deve finire con almeno 2 punti di vantaggio (es 7-5, 6-4). al massimo si può controllare questo\n",
    "#ma so se sia utile come info. nel caso si può anche evitare.\n",
    "#sembra che quelli con le () non rispettano sta cosa. "
   ]
  },
  {
   "cell_type": "markdown",
   "id": "885bb68e",
   "metadata": {},
   "source": [
    "### Numeric data in tennis dataset"
   ]
  },
  {
   "cell_type": "code",
   "execution_count": 5,
   "id": "149eb182",
   "metadata": {
    "scrolled": true
   },
   "outputs": [
    {
     "name": "stdout",
     "output_type": "stream",
     "text": [
      "Distinct Values in draw_size: \n",
      " [ 32. 128.  64.   8.   4.  29.  16.  30.  31.  20.  28.  23.  25.  27.\n",
      "  26.  19.  10.  15.  24.  18.  12.   2.  54.  48.  nan] \n",
      "\n",
      "Distinct Values in tourney_date: \n",
      " [20181231. 20190107. 20190114. 20190204. 20190211. 20190218. 20190225.\n",
      " 20190304. 20190318. 20190408. 20190415. 20190422. 20190429. 20190506.\n",
      " 20190513. 20190520. 20190527. 20190610. 20190617. 20190624. 20190701.\n",
      " 20190715. 20190722. 20190729. 20190805. 20190812. 20190819. 20190826.\n",
      " 20190916. 20190923. 20190930. 20191007. 20191014. 20191021. 20191028.\n",
      " 20191111. 20191119. 20191121. 20191120. 20191118. 20191122. 20191124.\n",
      " 20191123. 20190913. 20190914. 20190405. 20190201. 20180101. 20180108.\n",
      " 20180115. 20180202. 20180203. 20180205. 20180212. 20180219. 20180226.\n",
      " 20180305. 20180319. 20180406. 20180407. 20180409. 20180416. 20180423.\n",
      " 20180430. 20180507. 20180514. 20180521. 20180528. 20180611. 20180618.\n",
      " 20180625. 20180702. 20180716. 20180723. 20180730. 20180806. 20180813.\n",
      " 20180820. 20180827. 20180914. 20180915. 20180917. 20180924. 20181001.\n",
      " 20181008. 20181015. 20181022. 20181029. 20181105. 20181112. 20181123.\n",
      " 20171113. 20171106. 20170904. 20171120. 20170522. 20170529. 20170911.\n",
      " 20171002. 20171009. 20170213. 20170130. 20170220. 20170206. 20170227.\n",
      " 20170306. 20170320. 20170327. 20171030. 20170918. 20170925. 20170807.\n",
      " 20170814. 20170717. 20170710. 20170626. 20170821. 20170828. 20170605.\n",
      " 20170612. 20170403. 20170724. 20171127. 20170619. 20171023. 20171204.\n",
      " 20170313. 20170424. 20170410. 20170508. 20170515. 20170703. 20171016.\n",
      " 20170116. 20170123. 20170417. 20170501. 20170731. 20170109. 20170102.\n",
      " 20171211. 20171225. 20171218. 20161114. 20160905. 20161121. 20160502.\n",
      " 20161017. 20160530. 20160704. 20160912. 20161024. 20161107. 20160919.\n",
      " 20160509. 20161212. 20160201. 20160425. 20160606. 20160718. 20160801.\n",
      " 20160815. 20160822. 20160829. 20160620. 20160711. 20160725. 20161205.\n",
      " 20160321. 20160328. 20160404. 20160411. 20160418. 20160926. 20161003.\n",
      " 20160613. 20160229. 20160307. 20160314. 20161031. 20160516. 20161010.\n",
      " 20160111. 20160118. 20160125. 20160208. 20160215. 20160222. 20160627.\n",
      " 20160808. 20161128. 20160523. 20161219. 20160104. 20200106. 20200113.\n",
      " 20200120. 20200203. 20200210. 20200217. 20200224. 20200824. 20200831.\n",
      " 20200907. 20200914. 20200921. 20200928. 20201012. 20201019. 20201026.\n",
      " 20201102. 20201109. 20201116. 20200306. 20210104. 20210105. 20210201.\n",
      " 20210202. 20210208. 20210222. 20210301. 20210308. 20210315. 20210322.\n",
      " 20210405. 20210412. 20210419. 20210426. 20210503. 20210510. 20210517.\n",
      " 20210524. 20210531. 20210607. 20210614. 20210621. 20210628. 20210712.\n",
      " 20210719. 20210726. 20210724. 20210802. 20210809. 20210816. 20210823.\n",
      " 20171031. 20170209. 20170210. 20170211. 20170720. 20170721. 20170719.\n",
      " 20170722. 20170421. 20170422. 20171111. 20160203. 20160204. 20160205.\n",
      " 20160206. 20160202. 20160412. 20160415. 20160413. 20160414. 20160416.\n",
      " 20161112. 20180910. 20180402. 20180129. 20180209. 20180208. 20180207.\n",
      " 20180210. 20180620. 20180621. 20180622. 20180623. 20180719. 20180720.\n",
      " 20180718. 20180721. 20180206. 20180418. 20180420. 20180419. 20180421.\n",
      " 20181110. 20200127. 20200302. 20200309. 20200817. 20201005. 20201123.\n",
      " 20201130. 20210110. 20210117. 20210124. 20210131. 20210207. 20210214.\n",
      " 20210329. 20210705. 20190909. 20190401. 20191216. 20191022. 20190128.\n",
      " 20190603. 20190121. 20190208. 20190206. 20190207. 20190209. 20190418.\n",
      " 20190419. 20190417. 20190420. 20190416. 20191109. 20210106. 20210203.\n",
      " 20210213. 20210307. 20210429. 20210417. 20190708. 20191104. 20190902.\n",
      " 20190325. 20190311. 20180326. 20180709. 20180604. 20180903. 20180122.\n",
      " 20180312. 20181119. 20200803. 20200810. 20200205. 20200207. 20200206.\n",
      " 20200208. 20200304. 20200303. 20200307. 20200305. 20200204. 20180605.\n",
      " 20181203. 20181126. 20181210. 20181217. 20191125. 20191202. 20191209.\n",
      " 20191230. 20160304. 20160715. 20160916. 20161125. 20170203. 20170217.\n",
      " 20170407. 20170915. 20171124. 20210111. 20210118. 20210125. 20210215.\n",
      " 20201207. 20201214. 20201221. 20201228.       nan] \n",
      "\n",
      "Distinct Values in match_num: \n",
      " [3.000e+02 2.990e+02 2.980e+02 2.970e+02 2.960e+02 2.950e+02 2.940e+02\n",
      " 2.930e+02 2.920e+02 2.910e+02 2.900e+02 2.890e+02 2.880e+02 2.870e+02\n",
      " 2.860e+02 2.840e+02 2.830e+02 2.820e+02 2.800e+02 2.790e+02 2.780e+02\n",
      " 2.770e+02 2.760e+02 2.750e+02 2.730e+02 2.720e+02 2.710e+02 2.740e+02\n",
      " 2.810e+02 2.430e+02 2.440e+02 2.450e+02 2.460e+02 2.470e+02 2.480e+02\n",
      " 2.490e+02 2.500e+02 2.510e+02 2.520e+02 2.530e+02 2.540e+02 2.270e+02\n",
      " 2.280e+02 2.290e+02 2.300e+02 2.310e+02 2.320e+02 2.330e+02 2.340e+02\n",
      " 2.350e+02 2.360e+02 2.370e+02 2.380e+02 2.390e+02 2.400e+02 2.410e+02\n",
      " 2.420e+02 2.850e+02 2.700e+02 2.260e+02 2.170e+02 2.140e+02 1.880e+02\n",
      " 2.160e+02 1.790e+02 2.200e+02 1.550e+02 2.050e+02 2.150e+02 1.980e+02\n",
      " 1.560e+02 2.250e+02 2.120e+02 2.210e+02 1.270e+02 2.100e+02 2.060e+02\n",
      " 2.180e+02 1.970e+02 2.220e+02 2.130e+02 1.740e+02 1.960e+02 2.040e+02\n",
      " 2.110e+02 2.240e+02 1.730e+02 1.860e+02 1.510e+02 1.700e+02 1.000e+02\n",
      " 1.870e+02 1.150e+02 1.840e+02 1.070e+02 1.590e+02 1.430e+02 1.850e+02\n",
      " 1.110e+02 1.350e+02 1.940e+02 1.190e+02 1.460e+02 1.020e+02 1.290e+02\n",
      " 1.490e+02 1.640e+02 1.630e+02 2.000e+02 2.030e+02 1.120e+02 1.180e+02\n",
      " 1.540e+02 1.580e+02 1.950e+02 2.190e+02 2.230e+02 1.470e+02 2.070e+02\n",
      " 1.160e+02 1.720e+02 1.480e+02 1.320e+02 1.800e+02 1.310e+02 1.710e+02\n",
      " 1.990e+02 1.390e+02 1.830e+02 1.240e+02 1.760e+02 2.020e+02 1.080e+02\n",
      " 1.680e+02 1.400e+02 1.670e+02 1.230e+02 1.750e+02 2.010e+02 1.930e+02\n",
      " 1.520e+02 1.900e+02 2.090e+02 1.040e+02 1.660e+02 1.360e+02 1.820e+02\n",
      " 1.690e+02 1.200e+02 1.030e+02 1.650e+02 1.810e+02 1.600e+02 1.280e+02\n",
      " 1.780e+02 1.440e+02 1.410e+02 1.420e+02 1.610e+02 1.010e+02 1.300e+02\n",
      " 1.050e+02 1.060e+02 1.090e+02 1.100e+02 1.130e+02 1.140e+02 1.170e+02\n",
      " 1.210e+02 1.220e+02 1.250e+02 1.260e+02 1.330e+02 1.340e+02 1.370e+02\n",
      " 1.380e+02 1.450e+02 1.500e+02 1.530e+02 1.570e+02 1.620e+02 1.770e+02\n",
      " 1.890e+02 1.910e+02 1.920e+02 2.080e+02 2.690e+02 2.680e+02 2.670e+02\n",
      " 2.660e+02 2.650e+02 2.640e+02 2.630e+02 2.620e+02 2.610e+02 2.600e+02\n",
      " 2.590e+02 2.580e+02 2.570e+02 2.560e+02 2.550e+02 1.101e+03 1.102e+03\n",
      " 1.103e+03 1.104e+03 1.105e+03 1.106e+03 1.107e+03 1.108e+03 1.109e+03\n",
      " 1.110e+03 1.111e+03 1.112e+03 1.113e+03 1.114e+03 1.115e+03 1.116e+03\n",
      " 1.117e+03 1.118e+03 1.119e+03 1.120e+03 1.121e+03 1.122e+03 1.123e+03\n",
      " 1.124e+03 1.125e+03 1.126e+03 1.127e+03 1.128e+03 1.129e+03 1.130e+03\n",
      " 1.131e+03 1.132e+03 1.133e+03 1.134e+03 1.135e+03 1.136e+03 1.137e+03\n",
      " 1.138e+03 1.139e+03 1.140e+03 1.141e+03 1.142e+03 1.143e+03 1.144e+03\n",
      " 1.145e+03 1.146e+03 1.147e+03 1.148e+03 1.149e+03 1.150e+03 1.151e+03\n",
      " 1.152e+03 1.153e+03 1.154e+03 1.155e+03 1.156e+03 1.157e+03 1.158e+03\n",
      " 1.159e+03 1.160e+03 1.161e+03 1.162e+03 1.163e+03 1.164e+03 1.201e+03\n",
      " 1.202e+03 1.203e+03 1.204e+03 1.205e+03 1.206e+03 1.207e+03 1.208e+03\n",
      " 1.209e+03 1.210e+03 1.211e+03 1.212e+03 1.213e+03 1.214e+03 1.215e+03\n",
      " 1.216e+03 1.217e+03 1.218e+03 1.219e+03 1.220e+03 1.221e+03 1.222e+03\n",
      " 1.223e+03 1.224e+03 1.225e+03 1.226e+03 1.227e+03 1.228e+03 1.229e+03\n",
      " 1.230e+03 1.231e+03 1.232e+03 1.301e+03 1.302e+03 1.303e+03 1.304e+03\n",
      " 1.305e+03 1.306e+03 1.307e+03 1.308e+03 1.309e+03 1.310e+03 1.311e+03\n",
      " 1.312e+03 1.313e+03 1.314e+03 1.315e+03 1.316e+03 1.401e+03 1.402e+03\n",
      " 1.403e+03 1.404e+03 1.405e+03 1.406e+03 1.407e+03 1.408e+03 1.501e+03\n",
      " 1.502e+03 1.503e+03 1.504e+03 1.601e+03 1.602e+03 1.701e+03 2.101e+03\n",
      " 2.102e+03 2.103e+03 2.104e+03 2.105e+03 2.106e+03 2.107e+03 2.108e+03\n",
      " 2.109e+03 2.110e+03 2.111e+03 2.112e+03 2.113e+03 2.114e+03 2.115e+03\n",
      " 2.116e+03 2.117e+03 2.118e+03 2.119e+03 2.120e+03 2.121e+03 2.122e+03\n",
      " 2.123e+03 2.124e+03 2.125e+03 2.126e+03 2.127e+03 2.128e+03 2.129e+03\n",
      " 2.130e+03 2.131e+03 2.132e+03 2.133e+03 2.134e+03 2.135e+03 2.136e+03\n",
      " 2.137e+03 2.138e+03 2.139e+03 2.140e+03 2.141e+03 2.142e+03 2.143e+03\n",
      " 2.144e+03 2.145e+03 2.146e+03 2.147e+03 2.148e+03 2.149e+03 2.150e+03\n",
      " 2.151e+03 2.152e+03 2.153e+03 2.154e+03 2.155e+03 2.156e+03 2.157e+03\n",
      " 2.158e+03 2.159e+03 2.160e+03 2.161e+03 2.162e+03 2.163e+03 2.164e+03\n",
      " 2.201e+03 2.202e+03 2.203e+03 2.204e+03 2.205e+03 2.206e+03 2.207e+03\n",
      " 2.208e+03 2.209e+03 2.210e+03 2.211e+03 2.212e+03 2.213e+03 2.214e+03\n",
      " 2.215e+03 2.216e+03 2.217e+03 2.218e+03 2.219e+03 2.220e+03 2.221e+03\n",
      " 2.222e+03 2.223e+03 2.224e+03 2.225e+03 2.226e+03 2.227e+03 2.228e+03\n",
      " 2.229e+03 2.230e+03 2.231e+03 2.232e+03 2.301e+03 2.302e+03 2.303e+03\n",
      " 2.304e+03 2.305e+03 2.306e+03 2.307e+03 2.308e+03 2.309e+03 2.310e+03\n",
      " 2.311e+03 2.312e+03 2.313e+03 2.314e+03 2.315e+03 2.316e+03 2.401e+03\n",
      " 2.402e+03 2.403e+03 2.404e+03 2.405e+03 2.406e+03 2.407e+03 2.408e+03\n",
      " 2.501e+03 2.502e+03 2.503e+03 2.504e+03 2.601e+03 2.602e+03 2.701e+03\n",
      " 7.101e+03 7.102e+03 7.103e+03 7.104e+03 7.105e+03 7.106e+03 7.107e+03\n",
      " 7.108e+03 7.109e+03 7.110e+03 7.111e+03 7.112e+03 7.113e+03 7.114e+03\n",
      " 7.115e+03 7.116e+03 7.117e+03 7.118e+03 7.119e+03 7.120e+03 7.121e+03\n",
      " 7.122e+03 7.123e+03 7.124e+03 7.125e+03 7.126e+03 7.127e+03 7.128e+03\n",
      " 7.129e+03 7.130e+03 7.131e+03 7.132e+03 7.133e+03 7.134e+03 7.135e+03\n",
      " 7.136e+03 7.137e+03 7.138e+03 7.139e+03 7.140e+03 7.141e+03 7.142e+03\n",
      " 7.143e+03 7.144e+03 7.145e+03 7.146e+03 7.147e+03 7.148e+03 7.149e+03\n",
      " 7.150e+03 7.151e+03 7.152e+03 7.153e+03 7.154e+03 7.155e+03 7.156e+03\n",
      " 7.157e+03 7.158e+03 7.159e+03 7.160e+03 7.161e+03 7.162e+03 7.163e+03\n",
      " 7.164e+03 7.201e+03 7.202e+03 7.203e+03 7.204e+03 7.205e+03 7.206e+03\n",
      " 7.207e+03 7.208e+03 7.209e+03 7.210e+03 7.211e+03 7.212e+03 7.213e+03\n",
      " 7.214e+03 7.215e+03 7.216e+03 7.217e+03 7.218e+03 7.219e+03 7.220e+03\n",
      " 7.221e+03 7.222e+03 7.223e+03 7.224e+03 7.225e+03 7.226e+03 7.227e+03\n",
      " 7.228e+03 7.229e+03 7.230e+03 7.231e+03 7.232e+03 7.301e+03 7.302e+03\n",
      " 7.303e+03 7.304e+03 7.305e+03 7.306e+03 7.307e+03 7.308e+03 7.309e+03\n",
      " 7.310e+03 7.311e+03 7.312e+03 7.313e+03 7.314e+03 7.315e+03 7.316e+03\n",
      " 8.101e+03 8.102e+03 8.103e+03 8.104e+03 8.105e+03 8.106e+03 8.107e+03\n",
      " 8.108e+03 8.109e+03 8.110e+03 8.111e+03 8.112e+03 8.113e+03 8.114e+03\n",
      " 8.115e+03 8.116e+03 8.117e+03 8.118e+03 8.119e+03 8.120e+03 8.121e+03\n",
      " 8.122e+03 8.123e+03 8.124e+03 8.125e+03 8.126e+03 8.127e+03 8.128e+03\n",
      " 8.129e+03 8.130e+03 8.131e+03 8.132e+03 8.133e+03 8.134e+03 8.135e+03\n",
      " 8.136e+03 8.137e+03 8.138e+03 8.139e+03 8.140e+03 8.141e+03 8.142e+03\n",
      " 8.143e+03 8.144e+03 8.145e+03 8.146e+03 8.147e+03 8.148e+03 8.201e+03\n",
      " 8.202e+03 8.203e+03 8.204e+03 8.205e+03 8.206e+03 8.207e+03 8.208e+03\n",
      " 8.209e+03 8.210e+03 8.211e+03 8.212e+03 8.213e+03 8.214e+03 8.215e+03\n",
      " 8.216e+03 8.217e+03 8.218e+03 8.219e+03 8.220e+03 8.221e+03 8.222e+03\n",
      " 8.223e+03 8.224e+03 8.301e+03 8.302e+03 8.303e+03 8.304e+03 8.305e+03\n",
      " 8.306e+03 8.307e+03 8.308e+03 8.309e+03 8.310e+03 8.311e+03 8.312e+03\n",
      " 1.000e+00 2.000e+00 4.000e+00 5.000e+00 3.010e+02 3.020e+02 3.030e+02\n",
      " 3.040e+02 3.050e+02 3.060e+02 3.070e+02 3.080e+02 3.090e+02 3.100e+02\n",
      " 3.110e+02 3.120e+02 3.130e+02 3.140e+02 3.150e+02 3.160e+02 4.010e+02\n",
      " 4.020e+02 4.030e+02 4.040e+02 4.050e+02 4.060e+02 4.070e+02 4.080e+02\n",
      " 5.010e+02 5.020e+02 5.030e+02 5.040e+02 6.010e+02 6.020e+02 7.010e+02\n",
      " 7.310e+02 7.320e+02 7.330e+02 7.340e+02 7.350e+02 7.360e+02 7.370e+02\n",
      " 7.380e+02 7.390e+02 7.400e+02 7.410e+02 7.420e+02 7.430e+02 7.440e+02\n",
      " 7.450e+02 7.460e+02 7.470e+02 7.480e+02 7.490e+02 7.500e+02 7.510e+02\n",
      " 7.520e+02 7.530e+02 7.540e+02 7.550e+02 7.560e+02 7.570e+02 7.580e+02\n",
      " 7.590e+02 7.600e+02 7.610e+02 7.620e+02 7.630e+02 7.640e+02 7.650e+02\n",
      " 7.660e+02 7.670e+02 7.680e+02 7.690e+02 7.700e+02 7.710e+02 7.720e+02\n",
      " 7.730e+02 7.740e+02 7.750e+02 7.760e+02 7.770e+02 7.780e+02 7.790e+02\n",
      " 7.800e+02 7.810e+02 7.820e+02 7.830e+02 7.840e+02 7.850e+02 7.860e+02\n",
      " 7.870e+02 7.880e+02 7.890e+02 7.900e+02 7.910e+02 7.920e+02 7.930e+02\n",
      " 7.940e+02 8.310e+02 8.320e+02 8.330e+02 8.340e+02 8.350e+02 8.360e+02\n",
      " 8.370e+02 8.380e+02 8.390e+02 8.400e+02 8.410e+02 8.420e+02 8.430e+02\n",
      " 8.440e+02 8.450e+02 8.460e+02 8.470e+02 8.480e+02 8.490e+02 8.500e+02\n",
      " 8.510e+02 8.520e+02 8.530e+02 8.540e+02 8.550e+02 8.560e+02 8.570e+02\n",
      " 8.580e+02 8.590e+02 8.600e+02 8.610e+02 8.620e+02 9.310e+02 9.320e+02\n",
      " 9.330e+02 9.340e+02 9.350e+02 9.360e+02 9.370e+02 9.380e+02 9.390e+02\n",
      " 9.400e+02 9.410e+02 9.420e+02 9.430e+02 9.440e+02 9.450e+02 9.460e+02\n",
      " 8.000e+02 8.010e+02 8.020e+02 8.030e+02 8.040e+02 8.050e+02 8.060e+02\n",
      " 8.070e+02 8.080e+02 8.090e+02 8.100e+02 8.110e+02 8.120e+02 8.130e+02\n",
      " 8.140e+02 8.150e+02 8.160e+02 8.170e+02 8.180e+02 8.190e+02 8.200e+02\n",
      " 8.210e+02 8.220e+02 8.230e+02 8.240e+02 8.250e+02 8.260e+02 8.270e+02\n",
      " 8.280e+02 8.290e+02 8.300e+02 8.630e+02 8.640e+02 8.650e+02 8.660e+02\n",
      " 8.670e+02 8.680e+02 8.690e+02 8.700e+02 8.710e+02 8.720e+02 8.730e+02\n",
      " 8.740e+02 8.750e+02 8.760e+02 8.770e+02 8.780e+02 8.790e+02 8.800e+02\n",
      " 8.810e+02 8.820e+02 8.830e+02 8.840e+02 8.850e+02 8.860e+02 8.870e+02\n",
      " 8.880e+02 8.890e+02 8.900e+02 8.910e+02 8.920e+02 8.930e+02 8.940e+02\n",
      " 8.950e+02 8.960e+02 8.970e+02 8.980e+02 8.990e+02 9.000e+02 9.010e+02\n",
      " 9.020e+02 9.030e+02 9.040e+02 9.050e+02 9.060e+02 9.070e+02 9.080e+02\n",
      " 9.090e+02 9.100e+02 9.110e+02 3.000e+00 6.000e+00 7.000e+00 8.000e+00\n",
      " 9.000e+00 1.000e+01 1.100e+01 1.200e+01 1.300e+01 1.400e+01 1.500e+01\n",
      " 1.600e+01 1.700e+01 1.800e+01 1.900e+01 2.000e+01 2.100e+01 2.200e+01\n",
      " 2.300e+01 2.400e+01 2.500e+01 2.600e+01 2.700e+01 2.800e+01 2.900e+01\n",
      " 3.000e+01 3.100e+01 3.170e+02 3.180e+02 3.190e+02 3.200e+01 3.300e+01\n",
      " 3.400e+01 3.500e+01 3.600e+01 3.700e+01 3.800e+01 3.900e+01 4.000e+01\n",
      " 4.100e+01 4.200e+01 6.200e+01 5.400e+01 5.800e+01 5.700e+01 6.100e+01\n",
      " 5.300e+01 5.000e+01 4.600e+01 4.500e+01 4.900e+01       nan] \n",
      "\n",
      "Distinct Values in winner_id: \n",
      " [105453. 106421. 104542. ... 203535. 225861.     nan] \n",
      "\n",
      "Distinct Values in winner_ht: \n",
      " [178. 198. 188. 183. 196.  nan 190. 193. 180. 174. 184. 182. 185. 177.\n",
      " 175. 170. 203. 208. 211. 168. 169. 172. 163. 179. 166. 173. 162. 176.\n",
      " 181. 191. 159. 155. 206. 164. 157. 171. 165. 167. 161. 189. 194.   2.\n",
      " 160. 145.] \n",
      "\n",
      "Distinct Values in winner_age: \n",
      " [95.         22.88569473 29.00479124 ... 15.29089665 15.4880219\n",
      " 33.51403149] \n",
      "\n",
      "Distinct Values in loser_id: \n",
      " [106421. 104542. 104871. ... 223217. 223451.     nan] \n",
      "\n",
      "Distinct Values in loser_ht: \n",
      " [198. 188. 183. 196.  nan 190. 193. 180. 181. 170. 184. 166. 178. 162.\n",
      " 163. 172. 174. 179. 182. 211. 185. 155. 165. 177. 175. 208. 206. 161.\n",
      " 168. 169. 173. 171. 164. 203. 176. 159. 167. 191. 189. 157.   2. 194.\n",
      " 160. 145.] \n",
      "\n",
      "Distinct Values in loser_age: \n",
      " [22.88569473 33.70568104 31.88227242 ... 41.46201232 46.85284052\n",
      " 14.14921287] \n",
      "\n",
      "Distinct Values in best_of: \n",
      " [ 3.  5. nan] \n",
      "\n",
      "Distinct Values in minutes: \n",
      " [1.240e+02 8.200e+01 6.600e+01 1.060e+02 1.290e+02 1.270e+02 1.000e+02\n",
      " 8.000e+01 8.100e+01 9.900e+01 9.300e+01 8.800e+01 7.900e+01 1.020e+02\n",
      " 7.700e+01 6.000e+01 6.100e+01 4.700e+01 1.280e+02 9.000e+01 1.530e+02\n",
      " 1.440e+02 1.080e+02 1.200e+02 8.300e+01 1.810e+02 5.200e+01 5.700e+01\n",
      " 1.860e+02 1.370e+02 1.320e+02 1.120e+02 1.490e+02 9.400e+01 6.800e+01\n",
      " 5.600e+01 9.800e+01 8.600e+01 1.050e+02 1.420e+02 1.070e+02 9.100e+01\n",
      " 6.500e+01 1.570e+02 5.500e+01 1.190e+02 1.090e+02 6.300e+01 7.400e+01\n",
      "       nan 6.400e+01 1.460e+02 4.200e+01 1.110e+02 8.500e+01 1.140e+02\n",
      " 1.150e+02 1.550e+02 8.900e+01 1.160e+02 7.300e+01 7.100e+01 7.000e+01\n",
      " 1.310e+02 1.330e+02 7.200e+01 7.500e+01 1.580e+02 6.900e+01 1.380e+02\n",
      " 9.500e+01 9.200e+01 4.100e+01 1.640e+02 1.390e+02 7.600e+01 1.510e+02\n",
      " 1.890e+02 1.660e+02 1.030e+02 8.700e+01 1.170e+02 1.500e+02 1.340e+02\n",
      " 1.100e+02 1.010e+02 5.400e+01 1.210e+02 7.800e+01 1.790e+02 1.900e+01\n",
      " 1.400e+02 6.200e+01 4.900e+01 1.130e+02 1.250e+02 1.620e+02 1.610e+02\n",
      " 1.590e+02 5.100e+01 1.690e+02 0.000e+00 1.230e+02 9.600e+01 1.180e+02\n",
      " 1.670e+02 1.600e+02 1.900e+02 6.700e+01 1.360e+02 1.800e+01 4.500e+01\n",
      " 2.250e+02 2.380e+02 1.040e+02 1.780e+02 1.950e+02 1.820e+02 1.800e+02\n",
      " 1.740e+02 2.190e+02 3.050e+02 2.580e+02 2.440e+02 2.040e+02 1.410e+02\n",
      " 1.680e+02 2.270e+02 2.320e+02 1.350e+02 2.230e+02 1.840e+02 1.830e+02\n",
      " 2.260e+02 1.730e+02 2.170e+02 2.220e+02 2.280e+02 1.260e+02 1.220e+02\n",
      " 1.630e+02 1.430e+02 1.770e+02 2.410e+02 2.300e+02 2.490e+02 1.480e+02\n",
      " 2.020e+02 1.540e+02 1.920e+02 1.930e+02 1.750e+02 1.720e+02 2.120e+02\n",
      " 1.970e+02 8.400e+01 5.900e+01 1.300e+02 1.710e+02 5.300e+01 5.800e+01\n",
      " 1.450e+02 1.650e+02 1.520e+02 1.470e+02 4.800e+01 1.560e+02 9.700e+01\n",
      " 1.910e+02 1.940e+02 4.600e+01 1.990e+02 1.850e+02 2.900e+01 3.000e+01\n",
      " 3.100e+01 1.880e+02 2.700e+01 3.700e+01 2.080e+02 5.100e+02 1.760e+02\n",
      " 1.700e+02 4.400e+01 5.000e+01 1.960e+02 3.400e+01 2.030e+02 3.900e+01\n",
      " 2.480e+02 2.420e+02 2.050e+02 2.240e+02 1.980e+02 2.210e+02 2.340e+02\n",
      " 2.470e+02 2.550e+02 2.630e+02 1.870e+02 2.730e+02 2.620e+02 2.140e+02\n",
      " 2.070e+02 2.660e+02 3.090e+02 2.350e+02 2.150e+02 2.530e+02 2.100e+01\n",
      " 3.500e+01 4.300e+01 4.000e+01 2.000e+02 2.600e+01 2.360e+02 2.060e+02\n",
      " 2.180e+02 2.010e+02 2.110e+02 2.590e+02 2.970e+02 2.160e+02 3.600e+01\n",
      " 9.000e+00 2.600e+02 2.560e+02 2.200e+02 2.130e+02 2.610e+02 2.310e+02\n",
      " 2.880e+02 2.430e+02 2.370e+02 2.900e+02 1.600e+01 3.300e+01 1.100e+01\n",
      " 2.000e+01 2.300e+01 3.200e+01 2.390e+02 2.090e+02 1.500e+01 3.560e+02\n",
      " 2.910e+02 3.800e+01 2.800e+01 2.100e+02 2.640e+02 2.540e+02 3.960e+02\n",
      " 3.150e+02 1.700e+01 2.200e+01 2.400e+02 2.890e+02 2.510e+02 2.460e+02\n",
      " 2.500e+01 1.400e+01 1.200e+01 2.400e+01 2.750e+02 1.300e+01 5.000e+00\n",
      " 1.211e+03 2.670e+02 2.330e+02 2.570e+02 2.740e+02 2.950e+02 2.500e+02\n",
      " 3.140e+02 2.450e+02 2.960e+02 1.094e+03 8.140e+02 2.720e+02 2.710e+02\n",
      " 2.870e+02 2.940e+02 2.810e+02 2.830e+02 1.146e+03 1.531e+03 6.000e+00\n",
      " 8.000e+00 2.290e+02 2.790e+02 2.760e+02 3.650e+02 3.000e+02 3.080e+02\n",
      " 7.000e+00 2.520e+02 7.400e+02 1.000e+01 1.266e+03 2.680e+02 3.020e+02\n",
      " 4.000e+00 1.237e+03 3.060e+02 3.010e+02 1.392e+03 9.870e+02 4.160e+02\n",
      " 3.370e+02 2.980e+02 5.630e+02 1.507e+03 2.475e+03 3.610e+02 3.890e+02\n",
      " 1.000e+00 1.241e+03 4.756e+03 2.000e+00 3.000e+00 3.440e+02 3.070e+02\n",
      " 2.930e+02 2.700e+02] \n",
      "\n",
      "Distinct Values in w_ace: \n",
      " [ 3. 10.  2. 12.  5. 11.  1. 16. 21. 17. 15.  6.  7. 18. 44.  9.  8.  4.\n",
      "  0. 14. 13. nan 33. 25. 20. 22. 26. 40. 19. 28. 29. 24. 30. 39. 23. 43.\n",
      " 27. 32. 38. 35. 31. 48. 53. 36. 42. 34. 64. 37. 49. 45. 75. 41. 51. 61.\n",
      " 46. 72. 52.] \n",
      "\n",
      "Distinct Values in w_df: \n",
      " [  3.   1.   2.   8.   5.   0.   4.   6.   7.   9.  nan  10.  14.  12.\n",
      "  11.  13.  18.  19.  15.  26.  17.  25.  16.  20.  21.  22.  23.  24.\n",
      " 114.  72.  28.  45.] \n",
      "\n",
      "Distinct Values in w_svpt: \n",
      " [7.700e+01 5.200e+01 4.700e+01 6.800e+01 1.050e+02 9.400e+01 5.900e+01\n",
      " 6.400e+01 4.900e+01 5.400e+01 6.200e+01 8.400e+01 7.500e+01 6.300e+01\n",
      " 5.600e+01 7.600e+01 4.200e+01 4.300e+01 6.600e+01 4.500e+01 3.800e+01\n",
      " 1.190e+02 8.700e+01 5.800e+01 9.800e+01 1.170e+02 9.300e+01 8.600e+01\n",
      " 4.800e+01 4.000e+01 1.140e+02 9.100e+01 7.400e+01 9.700e+01 7.900e+01\n",
      " 6.500e+01 7.200e+01 6.900e+01 7.800e+01 7.300e+01 6.100e+01 8.900e+01\n",
      " 1.100e+02 5.300e+01 1.020e+02 9.500e+01 4.100e+01 1.090e+02 4.400e+01\n",
      " 8.200e+01 9.900e+01 9.600e+01 6.700e+01 1.120e+02 3.300e+01 9.000e+01\n",
      " 3.200e+01 1.340e+02 8.500e+01 8.800e+01 7.000e+01 6.000e+01 1.000e+02\n",
      "       nan 1.240e+02 5.100e+01 1.040e+02 8.000e+01 9.200e+01 1.030e+02\n",
      " 8.300e+01 8.100e+01 1.070e+02 1.310e+02 1.430e+02 5.500e+01 7.100e+01\n",
      " 3.900e+01 1.330e+02 1.250e+02 8.000e+00 1.260e+02 5.700e+01 1.110e+02\n",
      " 2.600e+01 1.060e+02 1.010e+02 1.390e+02 1.800e+01 1.880e+02 1.540e+02\n",
      " 2.900e+01 1.510e+02 1.350e+02 1.220e+02 1.300e+02 1.900e+02 1.290e+02\n",
      " 2.070e+02 1.530e+02 1.520e+02 1.770e+02 1.080e+02 1.810e+02 1.450e+02\n",
      " 1.370e+02 1.560e+02 1.720e+02 1.710e+02 1.420e+02 1.670e+02 1.790e+02\n",
      " 1.580e+02 1.280e+02 1.760e+02 1.470e+02 1.480e+02 1.410e+02 1.270e+02\n",
      " 1.160e+02 1.360e+02 1.870e+02 1.150e+02 1.660e+02 1.380e+02 4.600e+01\n",
      " 1.180e+02 5.000e+01 3.600e+01 3.500e+01 3.700e+01 1.130e+02 1.200e+02\n",
      " 3.400e+01 1.500e+01 2.000e+01 2.400e+01 2.300e+01 3.000e+01 2.500e+01\n",
      " 1.230e+02 1.210e+02 1.320e+02 1.400e+01 0.000e+00 2.800e+01 1.650e+02\n",
      " 1.700e+02 1.630e+02 1.590e+02 1.550e+02 1.830e+02 1.970e+02 2.010e+02\n",
      " 2.060e+02 1.820e+02 1.490e+02 1.200e+01 1.740e+02 1.460e+02 1.600e+02\n",
      " 1.620e+02 1.690e+02 1.570e+02 1.750e+02 1.400e+02 1.680e+02 2.190e+02\n",
      " 1.500e+02 1.730e+02 1.610e+02 3.100e+01 5.000e+00 1.900e+01 1.640e+02\n",
      " 1.850e+02 2.000e+02 2.020e+02 1.960e+02 4.000e+00 1.100e+01 1.440e+02\n",
      " 1.700e+01 1.600e+01 2.200e+01 1.890e+02 2.250e+02 1.860e+02 2.700e+01\n",
      " 9.000e+00 1.000e+01 2.100e+01 1.780e+02 1.950e+02 1.980e+02 2.080e+02\n",
      " 2.780e+02 1.920e+02 2.120e+02 2.130e+02 1.940e+02 1.840e+02 1.300e+01\n",
      " 2.170e+02 2.040e+02 2.150e+02 1.930e+02 2.160e+02 2.140e+02 1.000e+00\n",
      " 2.440e+02 2.390e+02 1.990e+02 6.000e+00 2.270e+02 2.050e+02 1.957e+03\n",
      " 6.000e+02 6.400e+02 4.000e+02 9.180e+02 2.000e+00 3.000e+00 1.800e+02] \n",
      "\n",
      "Distinct Values in w_1stIn: \n",
      " [4.40e+01 3.30e+01 4.30e+01 6.80e+01 5.80e+01 4.70e+01 3.70e+01 3.80e+01\n",
      " 3.40e+01 4.60e+01 4.80e+01 3.50e+01 3.20e+01 4.10e+01 2.90e+01 2.80e+01\n",
      " 3.90e+01 2.50e+01 8.00e+01 5.20e+01 7.30e+01 6.00e+01 2.60e+01 7.50e+01\n",
      " 6.30e+01 4.00e+01 5.50e+01 4.20e+01 2.10e+01 3.10e+01 7.00e+01 5.10e+01\n",
      " 2.30e+01 6.50e+01 3.60e+01 6.40e+01 6.10e+01 3.00e+01 2.70e+01 5.40e+01\n",
      " 4.50e+01 6.20e+01 2.20e+01 1.90e+01 8.90e+01 5.00e+01 5.90e+01 6.60e+01\n",
      " 5.70e+01 5.30e+01      nan 4.90e+01 8.70e+01 1.80e+01 7.40e+01 8.10e+01\n",
      " 7.80e+01 6.90e+01 7.60e+01 2.00e+00 7.90e+01 7.70e+01 1.70e+01 5.60e+01\n",
      " 8.40e+01 7.10e+01 7.20e+01 1.20e+01 1.12e+02 1.06e+02 2.00e+01 8.80e+01\n",
      " 8.30e+01 1.23e+02 1.27e+02 8.50e+01 1.21e+02 1.30e+02 9.00e+01 1.08e+02\n",
      " 1.07e+02 1.03e+02 9.90e+01 1.16e+02 8.20e+01 1.04e+02 1.19e+02 9.70e+01\n",
      " 1.05e+02 1.01e+02 6.70e+01 9.30e+01 9.50e+01 1.11e+02 1.26e+02 1.09e+02\n",
      " 1.33e+02 2.40e+01 8.60e+01 1.50e+01 9.00e+00 1.30e+01 1.00e+01 1.60e+01\n",
      " 1.40e+01 6.00e+00 9.80e+01 5.00e+00 0.00e+00 9.20e+01 1.17e+02 9.60e+01\n",
      " 1.13e+02 9.40e+01 9.10e+01 1.15e+02 1.28e+02 1.10e+02 1.18e+02 1.00e+02\n",
      " 8.00e+00 1.22e+02 1.36e+02 1.02e+02 1.10e+01 1.14e+02 1.24e+02 4.00e+00\n",
      " 1.53e+02 1.37e+02 1.38e+02 7.00e+00 1.20e+02 1.47e+02 1.39e+02 1.98e+02\n",
      " 1.25e+02 3.00e+00 1.42e+02 1.40e+02 1.34e+02 1.35e+02 1.45e+02 1.44e+02\n",
      " 1.00e+00 1.58e+02 1.61e+02 1.33e+03 3.20e+02 3.84e+02 2.76e+02 7.02e+02] \n",
      "\n",
      "Distinct Values in w_1stWon: \n",
      " [ 31.  28.  26.  34.  48.  44.  37.  30.  29.  27.  40.  50.  41.  33.\n",
      "  23.  25.  22.  63.  39.  49.  58.  51.  21.  45.  47.  35.  32.  17.\n",
      "  42.  24.  38.  16.  46.  52.  19.  20.  36.  43.  nan  57.  59.  15.\n",
      "  54.  56.  66.   2.  18.  61.  14.  11.  87.  64.  74.  73.  67.  69.\n",
      "  65.  82.  62.  93.  53.  88.  99.  83.  72.  77.  94.  96.  55.  71.\n",
      "  80.  89.  81.  68.  84.  95.  98.  75. 106.  79.  60.  12.   5.  10.\n",
      "   8.  13.  70.   0.  86.  78.  85.  91.   9.   7.  76.  90.  97. 101.\n",
      "  92.   3.   4. 102. 117.   6. 166. 108. 127. 107.   1. 120. 115. 126.\n",
      " 129. 105. 836. 220. 280. 196. 351.] \n",
      "\n",
      "Distinct Values in w_2ndWon: \n",
      " [ 17.  14.   9.  15.  25.  18.  11.   8.  13.  10.  20.   7.   6.  16.\n",
      "  12.   5.  24.  21.  26.  22.  19.  29.  28.  nan  31.  23.   3.  27.\n",
      "  32.   2.  49.  33.  42.  34.  38.  35.  45.  37.  30.   4.  36.   0.\n",
      "   1.  40.  53.  56.  39.  41.  48.  46.  44.  43.  52.  47.  51.  50.\n",
      " 304. 160. 112.  90.] \n",
      "\n",
      "Distinct Values in w_SvGms: \n",
      " [13. 10.  8. 11. 16. 12.  9. 15. 18. 17.  7. 14. nan  1.  6.  3. 24. 21.\n",
      " 25. 23. 20. 22. 28. 19. 26. 27. 29.  4.  5.  2.  0. 30. 34. 31. 36. 49.\n",
      " 32. 33. 42. 39.] \n",
      "\n",
      "Distinct Values in w_bpSaved: \n",
      " [  3.   0.   2.   4.   8.   1.   6.   9.  11.   7.   5.  10.  nan  16.\n",
      "  12.  15.  14.  19.  13.  17.  21.  18.  22.  25.  20.  23. 209.  40.\n",
      " 108.  24.] \n",
      "\n",
      "Distinct Values in w_bpFaced: \n",
      " [  6.   1.   2.   5.   8.   7.   0.   3.   4.   9.  17.  12.  11.  10.\n",
      "  14.  15.  13.  nan  18.  16.  22.  21.  19.  25.  23.  20.  27.  24.\n",
      "  26.  30.  28.  29.  33. 266.  70.  36. 180.  34.] \n",
      "\n",
      "Distinct Values in l_ace: \n",
      " [ 8. 17. 10.  1. 29. 12.  3.  5.  6. 13.  7.  4. 27. 22.  2.  0. 11. 20.\n",
      "  9. nan 14. 36. 26. 15. 16. 47. 24. 18. 25. 21. 59. 28. 19. 23. 67. 38.\n",
      " 37. 30. 34. 33. 31. 32. 40. 35. 52. 61. 53. 44. 45. 46. 56. 43. 39.] \n",
      "\n",
      "Distinct Values in l_df: \n",
      " [  6.   2.   3.   5.   7.   0.   1.   4.  10.   8.   9.  nan  12.  11.\n",
      "  13.  16.  15.  17.  14.  20.  21.  28.  18.  22.  19.  23.  26.  25.\n",
      "  31. 114.  40.  36.] \n",
      "\n",
      "Distinct Values in l_svpt: \n",
      " [1.000e+02 7.700e+01 4.600e+01 8.100e+01 9.400e+01 9.000e+01 8.000e+01\n",
      " 8.500e+01 5.600e+01 6.000e+01 7.100e+01 7.500e+01 5.500e+01 6.100e+01\n",
      " 6.400e+01 4.900e+01 4.300e+01 1.130e+02 7.400e+01 4.700e+01 1.060e+02\n",
      " 1.230e+02 6.900e+01 7.200e+01 3.800e+01 4.500e+01 1.320e+02 1.010e+02\n",
      " 9.600e+01 6.800e+01 1.120e+02 5.100e+01 4.800e+01 5.400e+01 8.200e+01\n",
      " 1.050e+02 8.800e+01 3.500e+01 5.200e+01 6.200e+01 8.600e+01 6.500e+01\n",
      " 6.300e+01 4.400e+01 7.800e+01 8.400e+01 5.900e+01 1.030e+02 6.600e+01\n",
      " 4.200e+01 1.140e+02 8.300e+01 6.700e+01 4.000e+01 1.040e+02 7.000e+01\n",
      " 9.800e+01       nan 1.080e+02 5.300e+01 1.070e+02 5.700e+01 1.090e+02\n",
      " 7.900e+01 7.300e+01 5.000e+01 1.020e+02 1.180e+02 9.500e+01 1.190e+02\n",
      " 9.900e+01 9.300e+01 9.200e+01 1.480e+02 1.100e+01 8.700e+01 5.800e+01\n",
      " 1.200e+02 7.600e+01 8.900e+01 1.110e+02 9.100e+01 9.700e+01 1.200e+01\n",
      " 4.100e+01 1.560e+02 1.340e+02 1.670e+02 1.380e+02 1.550e+02 1.160e+02\n",
      " 1.420e+02 1.490e+02 1.360e+02 1.260e+02 1.300e+02 1.470e+02 1.280e+02\n",
      " 2.190e+02 1.650e+02 1.950e+02 1.680e+02 1.890e+02 1.170e+02 1.150e+02\n",
      " 1.310e+02 1.270e+02 1.750e+02 1.570e+02 1.790e+02 1.290e+02 1.730e+02\n",
      " 1.510e+02 1.530e+02 1.700e+02 1.330e+02 1.770e+02 1.210e+02 1.520e+02\n",
      " 1.690e+02 1.640e+02 1.540e+02 1.390e+02 1.450e+02 1.870e+02 1.250e+02\n",
      " 1.460e+02 3.700e+01 3.600e+01 3.900e+01 1.100e+02 1.240e+02 1.410e+02\n",
      " 1.220e+02 2.200e+01 3.100e+01 1.800e+01 2.800e+01 2.700e+01 3.300e+01\n",
      " 3.200e+01 8.000e+00 0.000e+00 3.000e+01 2.900e+01 1.590e+02 1.440e+02\n",
      " 1.660e+02 1.840e+02 1.430e+02 2.130e+02 1.830e+02 1.710e+02 1.370e+02\n",
      " 1.400e+01 2.100e+01 3.400e+01 2.400e+01 1.800e+02 1.350e+02 1.740e+02\n",
      " 1.500e+02 2.030e+02 1.400e+02 2.600e+01 1.930e+02 2.010e+02 1.860e+02\n",
      " 1.600e+02 1.920e+02 1.960e+02 1.610e+02 1.620e+02 1.820e+02 6.000e+00\n",
      " 2.000e+01 2.300e+01 1.600e+01 1.760e+02 1.810e+02 2.120e+02 1.500e+01\n",
      " 1.880e+02 1.300e+01 1.720e+02 1.780e+02 1.630e+02 2.160e+02 2.910e+02\n",
      " 2.100e+02 1.580e+02 1.900e+02 1.700e+01 2.500e+01 5.000e+00 7.000e+00\n",
      " 1.000e+01 4.000e+00 1.900e+01 2.180e+02 1.970e+02 2.290e+02 2.370e+02\n",
      " 1.850e+02 1.910e+02 2.040e+02 2.200e+02 1.980e+02 2.080e+02 2.280e+02\n",
      " 2.340e+02 2.460e+02 2.000e+02 1.000e+00 9.000e+00 1.940e+02 2.150e+02\n",
      " 1.990e+02 2.070e+02 3.000e+00 2.050e+02 2.000e+00 1.672e+03 8.100e+02\n",
      " 6.240e+02 4.640e+02 9.720e+02] \n",
      "\n",
      "Distinct Values in l_1stIn: \n",
      " [ 54.  52.  27.  60.  56.  53.  51.  39.  44.  59.  50.  37.  36.  46.\n",
      "  33.  31.  34.  29.  30.  77.  41.  45.  63.  72.  58.  24.  23.  74.\n",
      "  42.  69.  35.  26.  22.  40.  62.  18.  28.  65.  21.  55.  19.  48.\n",
      "  81.  73.  38.  67.  47.  32.  61.  nan  75.  70.  49.  83.  80.  64.\n",
      "  66.  71.  78.  25.  68. 104.   9.  43.  57.   7. 105.  87. 102. 107.\n",
      " 120.  93.  90.  76.  95.  88. 153. 113. 124. 114.  89. 111.  79.  86.\n",
      " 118. 110. 128.  82. 108. 101. 117.  84.  97.  20.  99.  17.  91.  85.\n",
      "  92.  15.  12.  11.   6.  13.   3.   5.   0.  16. 100.  98. 109. 125.\n",
      "  96. 142. 133.   8.  94. 103. 115. 127.  10. 116. 134. 129. 126.  14.\n",
      "   2. 123. 122. 143. 154. 218. 150. 106.   4. 130. 119. 157. 112. 152.\n",
      " 132. 137. 145. 121. 138. 168. 131. 139.   1. 893. 420. 504. 320. 774.\n",
      " 136. 140.] \n",
      "\n",
      "Distinct Values in l_1stWon: \n",
      " [ 34.  36.  15.  38.  46.  40.  37.  30.  27.  28.  48.  35.  18.  26.\n",
      "  17.  23.  16.  60.  32.  21.  44.  57.  33.  22.  13.  45.  41.  19.\n",
      "  10.  31.  42.   7.  49.  12.  25.  43.   9.  24.   8.  52.  29.  39.\n",
      "  20.  nan  50.  56.  54.  47.  74.  72.  14.   5.  53.  55.  51.   3.\n",
      "  11.  83.  64.  77.  93.  90.  65.  62.  59.  70.  95.  86.  82.  79.\n",
      "  84. 100.  66.  73.  71.  75.  78.  94.  61.  92.  58.   6.  80.  63.\n",
      "   4.   1.   0.  76.  68.  69.  85.  88.  81.  67.  91.  99. 110. 104.\n",
      " 106.  87. 127.  89.  97. 171.   2. 103. 102. 125. 108. 117. 136.  98.\n",
      "  96. 532. 250. 320. 204. 369.] \n",
      "\n",
      "Distinct Values in l_2ndWon: \n",
      " [ 20.   7.   6.   9.  19.  18.  13.  11.   3.  10.  14.   8.  12.   4.\n",
      "   2.  24.  22.  27.  34.   5.  31.  15.  23.  21.  16.  17.  nan  26.\n",
      "  25.  28.  35.  30.  42.  32.  29.  33.  38.  39.  36.   1.   0.  43.\n",
      "  37.  49.  41.  40.  45.  50.  44.  46.  54.  55.  53.  51.  48. 399.\n",
      " 200.  56.  68.  47.] \n",
      "\n",
      "Distinct Values in l_SvGms: \n",
      " [14. 10.  8. 11. 15. 12.  9.  7. 18. 17. 13. 16. nan  6.  1.  2. 24. 21.\n",
      " 23. 19. 22. 20. 28. 25. 26. 27.  4.  5.  0. 30. 29.  3. 34. 31. 36. 33.\n",
      " 50. 32. 41. 35. 38.] \n",
      "\n",
      "Distinct Values in l_bpSaved: \n",
      " [ 10.   1.   4.   2.   6.   3.   8.   5.   0.  13.   9.  20.   7.  11.\n",
      "  12.  nan  14.  15.  16.  18.  19.  17.  21.  23.  22.  24.  25.  27.\n",
      " 114. 120.  32.  40.  81.] \n",
      "\n",
      "Distinct Values in l_bpFaced: \n",
      " [ 15.  13.   5.   6.   4.   9.  11.   3.   2.   7.   8.   1.  18.  10.\n",
      "  25.  19.  14.  17.  nan  12.   0.  16.  20.  21.  22.  23.  24.  29.\n",
      "  26.  27.  28.  30.  31.  35. 190. 170.  48.  60. 180.] \n",
      "\n",
      "Distinct Values in winner_rank: \n",
      " [   9.   16.  239. ... 1272. 1363. 1374.] \n",
      "\n",
      "Distinct Values in winner_rank_points: \n",
      " [3590. 1977.  200. ... 7915. 9005. 1109.] \n",
      "\n",
      "Distinct Values in loser_rank: \n",
      " [  16.  239.   40. ... 1324. 1381. 1272.] \n",
      "\n",
      "Distinct Values in loser_rank_points: \n",
      " [ 1977.   200.  1050. ... 10780. 10645.  9005.] \n",
      "\n",
      "Distinct Values in tourney_spectators: \n",
      " [3928. 2923. 4062. ... 2467. 2312.   nan] \n",
      "\n",
      "Distinct Values in tourney_revenue: \n",
      " [ 742618.69  550943.19 1005592.39 ...  562172.86  471620.95        nan] \n",
      "\n"
     ]
    }
   ],
   "source": [
    "df_tennis.select_dtypes(include=['float64']).columns\n",
    "for column in df_tennis.select_dtypes(include=['float64']).columns:\n",
    "    print(\"Distinct Values in \"+str(column)+\": \\n\", df_tennis[column].unique(), \"\\n\")"
   ]
  },
  {
   "cell_type": "markdown",
   "id": "a98019eb",
   "metadata": {},
   "source": [
    "#### draw_size"
   ]
  },
  {
   "cell_type": "code",
   "execution_count": 15,
   "id": "0850a6ce",
   "metadata": {},
   "outputs": [
    {
     "data": {
      "text/plain": [
       "0"
      ]
     },
     "execution_count": 15,
     "metadata": {},
     "output_type": "execute_result"
    }
   ],
   "source": [
    "#count the row with an invalid number (negative or less than 2)\n",
    "df_tennis[df_tennis['draw_size'] < 2].shape[0]"
   ]
  },
  {
   "cell_type": "markdown",
   "id": "9ec2061b",
   "metadata": {},
   "source": [
    "All the numbers are valid (we consider only the numbers and not the nulls)"
   ]
  },
  {
   "cell_type": "markdown",
   "id": "a9ef634c",
   "metadata": {},
   "source": [
    "**tourney_date**"
   ]
  },
  {
   "cell_type": "code",
   "execution_count": null,
   "id": "c3836c1e",
   "metadata": {},
   "outputs": [],
   "source": [
    "#the date are in float so they need to be converted in date object \n",
    "df_tennis['tourney_date'].isnull().sum()"
   ]
  },
  {
   "cell_type": "code",
   "execution_count": null,
   "id": "c05dbf89",
   "metadata": {},
   "outputs": [],
   "source": [
    "#check if there are present data greater then today\n",
    "import datetime\n",
    "df_tennis['tourney_date'] = pd.to_datetime(df_tennis['tourney_date'], format='%Y%m%d')\n",
    "invalid_data = 0\n",
    "today = pd.to_datetime(datetime.date.today())\n",
    "for date in df_tennis['tourney_date']:\n",
    "    if date > today:\n",
    "        invalid_data +=1\n",
    "print(invalid_data)"
   ]
  },
  {
   "cell_type": "markdown",
   "id": "0c074579",
   "metadata": {},
   "source": [
    "There aren't invalid dates"
   ]
  },
  {
   "cell_type": "markdown",
   "id": "0fe52ee0",
   "metadata": {},
   "source": [
    "#### match_num"
   ]
  },
  {
   "cell_type": "markdown",
   "id": "d52f0476",
   "metadata": {},
   "source": [
    "#### winner_id and loser_id"
   ]
  },
  {
   "cell_type": "markdown",
   "id": "8f66d6d6",
   "metadata": {},
   "source": [
    "#### winner_ht and loser_ht"
   ]
  },
  {
   "cell_type": "markdown",
   "id": "fd80fa71",
   "metadata": {},
   "source": [
    "#### winner_age and loser_age"
   ]
  },
  {
   "cell_type": "markdown",
   "id": "eec2daa8",
   "metadata": {},
   "source": [
    "#### w_df"
   ]
  },
  {
   "cell_type": "code",
   "execution_count": null,
   "id": "0903ea3d",
   "metadata": {},
   "outputs": [],
   "source": []
  },
  {
   "cell_type": "markdown",
   "id": "c9c84ce9",
   "metadata": {},
   "source": [
    "**best_of**"
   ]
  },
  {
   "cell_type": "code",
   "execution_count": null,
   "id": "90603bc0",
   "metadata": {
    "scrolled": false
   },
   "outputs": [],
   "source": [
    "#check if there are different values form 3 or 5\n",
    "df_tennis['best_of'].value_counts(dropna = False)"
   ]
  },
  {
   "cell_type": "markdown",
   "id": "06fe1c12",
   "metadata": {},
   "source": [
    "There are not different values from 3 and 5, a part for some null values."
   ]
  },
  {
   "cell_type": "code",
   "execution_count": null,
   "id": "6178089a",
   "metadata": {},
   "outputs": [],
   "source": []
  },
  {
   "cell_type": "markdown",
   "id": "757d302a",
   "metadata": {},
   "source": [
    "#### minutes"
   ]
  },
  {
   "cell_type": "markdown",
   "id": "59068b7c",
   "metadata": {},
   "source": [
    "#### w_ace, w_df and w_svpt"
   ]
  },
  {
   "cell_type": "markdown",
   "id": "eb8e7a77",
   "metadata": {},
   "source": [
    "#### w_1stIn"
   ]
  },
  {
   "cell_type": "markdown",
   "id": "c3987486",
   "metadata": {},
   "source": [
    "#### w_1stWon and w_2ndWon"
   ]
  },
  {
   "cell_type": "markdown",
   "id": "4c1c2c00",
   "metadata": {},
   "source": [
    "#### w_SvGms,  w_bpSaved and w_bpFaced"
   ]
  },
  {
   "cell_type": "markdown",
   "id": "e97f41b5",
   "metadata": {},
   "source": [
    "#### l_ace, l_df and l_svpt"
   ]
  },
  {
   "cell_type": "markdown",
   "id": "29f53590",
   "metadata": {},
   "source": [
    "#### l_1stIn"
   ]
  },
  {
   "cell_type": "markdown",
   "id": "e89eee1f",
   "metadata": {},
   "source": [
    "## Missing values: default value"
   ]
  },
  {
   "cell_type": "code",
   "execution_count": null,
   "id": "48f8a6ae",
   "metadata": {},
   "outputs": [],
   "source": []
  },
  {
   "cell_type": "code",
   "execution_count": null,
   "id": "23d47a84",
   "metadata": {},
   "outputs": [],
   "source": []
  },
  {
   "cell_type": "markdown",
   "id": "82d1584c",
   "metadata": {},
   "source": [
    "## Correlation"
   ]
  },
  {
   "cell_type": "code",
   "execution_count": null,
   "id": "be9c2987",
   "metadata": {},
   "outputs": [],
   "source": [
    "df_numeric = df_tennis[df_tennis.select_dtypes(include=['float64']).columns]"
   ]
  },
  {
   "cell_type": "code",
   "execution_count": null,
   "id": "f403a7a2",
   "metadata": {},
   "outputs": [],
   "source": [
    "df_numeric.corr()"
   ]
  },
  {
   "cell_type": "markdown",
   "id": "2eda568f",
   "metadata": {},
   "source": [
    "inserire ragionamento sulla correlation"
   ]
  },
  {
   "cell_type": "markdown",
   "id": "cfcb97d6",
   "metadata": {},
   "source": [
    "## Statistics/distributions"
   ]
  },
  {
   "cell_type": "code",
   "execution_count": null,
   "id": "16e2ed55",
   "metadata": {},
   "outputs": [],
   "source": []
  },
  {
   "cell_type": "code",
   "execution_count": null,
   "id": "e3191859",
   "metadata": {},
   "outputs": [],
   "source": [
    "#some statistics\n",
    "#df_tennis.describe()all"
   ]
  },
  {
   "cell_type": "code",
   "execution_count": null,
   "id": "3c7fc152",
   "metadata": {},
   "outputs": [],
   "source": []
  },
  {
   "cell_type": "code",
   "execution_count": null,
   "id": "e9521796",
   "metadata": {},
   "outputs": [],
   "source": []
  }
 ],
 "metadata": {
  "kernelspec": {
   "display_name": "Python 3 (ipykernel)",
   "language": "python",
   "name": "python3"
  },
  "language_info": {
   "codemirror_mode": {
    "name": "ipython",
    "version": 3
   },
   "file_extension": ".py",
   "mimetype": "text/x-python",
   "name": "python",
   "nbconvert_exporter": "python",
   "pygments_lexer": "ipython3",
   "version": "3.9.5"
  }
 },
 "nbformat": 4,
 "nbformat_minor": 5
}
