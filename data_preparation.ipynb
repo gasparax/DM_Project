{
 "cells": [
  {
   "cell_type": "code",
   "execution_count": null,
   "id": "c67e3d05",
   "metadata": {},
   "outputs": [],
   "source": [
    "import math\n",
    "import numpy as np\n",
    "import scipy.stats as stats\n",
    "import matplotlib.pyplot as plt\n",
    "from sklearn.decomposition import PCA\n",
    "\n",
    "from collections import defaultdict\n",
    "from scipy.stats.stats import pearsonr\n",
    "import pandas as pd"
   ]
  },
  {
   "cell_type": "code",
   "execution_count": null,
   "id": "50166e90",
   "metadata": {},
   "outputs": [],
   "source": [
    "df_tennis = pd.read_csv('dataset/tennis_matches.csv', sep=',', index_col=0) \n",
    "\n",
    "#index_col=False indica di non usare la prima colonna come id, ma come dati\n",
    "df_male = pd.read_csv('dataset/male_players.csv', sep=',', index_col=False)\n",
    "df_female = pd.read_csv('dataset/female_players.csv', sep=',', index_col=False) "
   ]
  },
  {
   "cell_type": "markdown",
   "id": "8098e6e0",
   "metadata": {},
   "source": [
    "# Male Table"
   ]
  },
  {
   "cell_type": "markdown",
   "id": "aaa04142",
   "metadata": {},
   "source": [
    "Surname cleaning, in the surname are present substring with latters and numbers that clearly rappresents errors. The following code clears the surnames form this strings."
   ]
  },
  {
   "cell_type": "code",
   "execution_count": null,
   "id": "4a3cd4bf",
   "metadata": {},
   "outputs": [],
   "source": [
    "#ci sono cifre nei nomi/cognomi?\n",
    "import re\n",
    "re_name = \"^^[a-zA-Z]+(([',. -][a-zA-Z ])?[a-zA-Z]*)*$\"\n",
    "wrong_surnames = []\n",
    "wrong_surnames_indexes = []\n",
    "for i,row in enumerate(df_male['surname']):\n",
    "    if not(re.search(re_name, str(row))):\n",
    "        wrong_surnames.append(str(row))\n",
    "        wrong_surnames_indexes.append(i)"
   ]
  },
  {
   "cell_type": "code",
   "execution_count": null,
   "id": "4c484352",
   "metadata": {},
   "outputs": [],
   "source": [
    "wrong_surnames"
   ]
  },
  {
   "cell_type": "code",
   "execution_count": null,
   "id": "cd7d0557",
   "metadata": {},
   "outputs": [],
   "source": [
    "#TO DO: Gestire stringa vuota, caso dell'entry con l'1 come cognome (eliminare l'entry?)\n",
    "correct_surname = []\n",
    "for wrong_surname in wrong_surnames_indexes:\n",
    "    words = str(df_male['surname'][wrong_surname]).split(\" \")\n",
    "    #se è =1 togliamo solo il numero dalla parola.\n",
    "    if len(words)==1:\n",
    "        for caracter in words[0]:\n",
    "            if caracter.isdigit():\n",
    "                words[0] = words[0].replace(str(caracter),\"\")\n",
    "        correct_surname.append(words[0])\n",
    "    #se >1 togliamo la seconda parola se ci sono numeri\n",
    "    if len(words)>1:\n",
    "        for word in words:\n",
    "            if not(re.search(re_name, str(word))):\n",
    "                words.remove(word)\n",
    "            #check se tutte le parole hanno len>1: se no toglile\n",
    "#            if len(word)==1:\n",
    " #               words.remove(word)\n",
    "        correct_surname.append(' '.join(words))"
   ]
  },
  {
   "cell_type": "code",
   "execution_count": null,
   "id": "845712bf",
   "metadata": {},
   "outputs": [],
   "source": [
    "correct_surname"
   ]
  },
  {
   "cell_type": "code",
   "execution_count": null,
   "id": "94d3fa54",
   "metadata": {},
   "outputs": [],
   "source": [
    "#TO DO:Effettuare la correzione dei anche sui nomi della tabella df_tennis"
   ]
  },
  {
   "cell_type": "code",
   "execution_count": null,
   "id": "d3431975",
   "metadata": {},
   "outputs": [],
   "source": []
  }
 ],
 "metadata": {
  "kernelspec": {
   "display_name": "Python 3 (ipykernel)",
   "language": "python",
   "name": "python3"
  },
  "language_info": {
   "codemirror_mode": {
    "name": "ipython",
    "version": 3
   },
   "file_extension": ".py",
   "mimetype": "text/x-python",
   "name": "python",
   "nbconvert_exporter": "python",
   "pygments_lexer": "ipython3",
   "version": "3.9.5"
  }
 },
 "nbformat": 4,
 "nbformat_minor": 5
}
