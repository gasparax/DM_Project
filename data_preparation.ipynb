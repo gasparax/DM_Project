{
 "cells": [
  {
   "cell_type": "markdown",
   "id": "9220fa69",
   "metadata": {},
   "source": [
    "<b>Data mining Project - 2021/22</b><br/>\n",
    "<span>\n",
    "<b>Authors:</b> Mariagiovanna Rotundo (560765), Nunzio Lopardo (600005)</a> and Renato Eschini (203021)<br/>\n",
    "<b>Group:</b>3<br/>\n",
    "<b>Release date:</b> 26/12/2021\n",
    "</span>"
   ]
  },
  {
   "cell_type": "markdown",
   "id": "8b25820c",
   "metadata": {},
   "source": [
    "# Data Preparation"
   ]
  },
  {
   "cell_type": "markdown",
   "id": "5bc77aa5",
   "metadata": {},
   "source": [
    "In this notebook we modify the tennis dataset according observation done in the understanding phase and we create a dataset of players"
   ]
  },
  {
   "cell_type": "markdown",
   "id": "8754bdb4",
   "metadata": {},
   "source": [
    "**Import libraries**"
   ]
  },
  {
   "cell_type": "code",
   "execution_count": null,
   "id": "98a1d139",
   "metadata": {},
   "outputs": [],
   "source": [
    "import math\n",
    "import numpy as np\n",
    "import scipy.stats as stats\n",
    "import matplotlib.pyplot as plt\n",
    "from sklearn.decomposition import PCA\n",
    "\n",
    "import collections\n",
    "from scipy.stats.stats import pearsonr\n",
    "import pandas as pd\n",
    "import os\n",
    "from datetime import date\n",
    "from datetime import datetime\n",
    "from dateutil.relativedelta import relativedelta\n",
    "\n",
    "import seaborn as sns\n",
    "import re"
   ]
  },
  {
   "cell_type": "code",
   "execution_count": null,
   "id": "7281e5d5",
   "metadata": {},
   "outputs": [],
   "source": [
    "#import functions from ipynb file\n",
    "from ipynb.fs.full.functions_understanding import *"
   ]
  },
  {
   "cell_type": "markdown",
   "id": "39bbcf0e",
   "metadata": {},
   "source": [
    "**Loading datasets**"
   ]
  },
  {
   "cell_type": "code",
   "execution_count": null,
   "id": "a908420f",
   "metadata": {},
   "outputs": [],
   "source": [
    "# load of the data\n",
    "DATASET_DIR = \"dataset\" + os.path.sep\n",
    "df_tennis = pd.read_csv(DATASET_DIR + 'tennis_matches.csv', sep=',', index_col=0) \n",
    "\n",
    "#index_col=False say to not use the first column as ID\n",
    "df_male = pd.read_csv(DATASET_DIR + 'male_players.csv', sep=',', index_col=False)\n",
    "df_female = pd.read_csv(DATASET_DIR + 'female_players.csv', sep=',', index_col=False) "
   ]
  },
  {
   "cell_type": "markdown",
   "id": "91aa6f31",
   "metadata": {},
   "source": [
    "#### Remove rows that have only null values"
   ]
  },
  {
   "cell_type": "code",
   "execution_count": null,
   "id": "a5afd8ef",
   "metadata": {},
   "outputs": [],
   "source": [
    "#remove null rows\n",
    "df_male.dropna(how='all', inplace=True)\n",
    "df_female.dropna(how='all', inplace=True)\n",
    "df_tennis.dropna(how='all', inplace=True)"
   ]
  },
  {
   "cell_type": "markdown",
   "id": "4596cafa",
   "metadata": {},
   "source": [
    "## Male and female datasets"
   ]
  },
  {
   "cell_type": "markdown",
   "id": "1c427d47",
   "metadata": {},
   "source": [
    "**romove duplicate rows in male and female dataset**"
   ]
  },
  {
   "cell_type": "code",
   "execution_count": null,
   "id": "8037956a",
   "metadata": {},
   "outputs": [],
   "source": [
    "#remove duplicates in the separate datasets\n",
    "df_male.drop_duplicates(keep='first', inplace=True)\n",
    "df_female.drop_duplicates(keep='first', inplace=True)"
   ]
  },
  {
   "cell_type": "markdown",
   "id": "4fd79e78",
   "metadata": {},
   "source": [
    "#### male: correction invalid names/surnames"
   ]
  },
  {
   "cell_type": "markdown",
   "id": "f67be63c",
   "metadata": {},
   "source": [
    "The null values in name/surname are replaced with the value \"unknown\""
   ]
  },
  {
   "cell_type": "code",
   "execution_count": null,
   "id": "60851766",
   "metadata": {},
   "outputs": [],
   "source": [
    "#rows with nulls in name: replace null with unknown\n",
    "df_male.loc[df_male['name'].isna(), ['name']]='unknown'\n",
    "df_male['name'].isna().sum(axis = 0)"
   ]
  },
  {
   "cell_type": "code",
   "execution_count": null,
   "id": "5152d9a6",
   "metadata": {},
   "outputs": [],
   "source": [
    "#rows with nulls in surname: replace null with unknown\n",
    "df_male.loc[df_male['surname'].isna(), ['surname']]='unknown'\n",
    "df_male['surname'].isna().sum(axis = 0)"
   ]
  },
  {
   "cell_type": "markdown",
   "id": "40e868ae",
   "metadata": {},
   "source": [
    "If a row is read in a wrong way by pandas putting all in the name, the row is splitted in name and surname updating both. The name and surname are split looking at \",\" that is the separator used in the dataset."
   ]
  },
  {
   "cell_type": "code",
   "execution_count": null,
   "id": "99a77e6f",
   "metadata": {},
   "outputs": [],
   "source": [
    "#errors reading from file: all in name and null surname (replaced with unknown)\n",
    "df_male[df_male['name'].str.contains(\",\")]\n",
    "for index, row in df_male[df_male['name'].str.contains(\",\")].iterrows():\n",
    "    if row['surname']=='unknown':\n",
    "        name = row['name'].split(\",\")\n",
    "        df_male.at[index,'surname']=name[len(name)-1]\n",
    "        df_male.at[index,'name']=' '.join(name[0:len(name)-1])\n",
    "        \n",
    "#print(df_male.loc[40071])"
   ]
  },
  {
   "cell_type": "markdown",
   "id": "dc8986d4",
   "metadata": {},
   "source": [
    "Correction of invalid characters in name and surname columns. If the value has not alphabetich characters the value is considered as \"unknown\". If in the name there are numbers or special characters different from \",\", \" ' \", \"-\", \"\\_\", \".\", these are removed. if in the surname there are strings between \"()\" these are removed. All the other not alphabetic characters are replaced with a space and double spaces are removed. This checks are done for both male and female dataset to find duplicate players with invalid characters between characters."
   ]
  },
  {
   "cell_type": "code",
   "execution_count": null,
   "id": "e8501b6a",
   "metadata": {
    "scrolled": true
   },
   "outputs": [],
   "source": [
    "#names/surnames without any letters are invalid: set to unknown\n",
    "df_male.loc[~df_male['name'].str.contains(\"[a-zA-Z]\"), ['name']]='unknown'\n",
    "df_male.loc[~df_male['surname'].str.contains(\"[a-zA-Z]\"), ['surname']]='unknown'\n",
    "\n",
    "#replace numbers in names\n",
    "df_male[\"name\"] = df_male[\"name\"].str.replace(\"[0-9]\",\"\",regex=True)\n",
    "df_male[\"surname\"] = df_male[\"surname\"].str.replace(\"[0-9]\",\"\",regex=True)\n",
    "\n",
    "#characters not indicated in the expression are considered invalid\n",
    "df_male[\"name\"] = df_male[\"name\"].str.replace(\"[^a-zA-Z ',-_.]\",\"\",regex=True)\n",
    "#for surname remove string between ()\n",
    "for index, row in  df_male[df_male['surname'].str.contains('\\(')].iterrows():\n",
    "    pos = df_male.at[index,'surname'].find(\"(\")\n",
    "    df_male.at[index,'surname']= df_male.at[index,'surname'][0:pos]\n",
    "df_male[\"surname\"] = df_male[\"surname\"].str.replace(\"[^a-zA-Z ',-._]\",\"\",regex=True)\n",
    "\n",
    "#replace allowed \n",
    "df_male[\"name\"] = df_male[\"name\"].str.replace(\"[^a-zA-Z ]\",\" \",regex=True)\n",
    "df_male[\"surname\"] = df_male[\"surname\"].str.replace(\"[^a-zA-Z ]\",\" \",regex=True)\n",
    "\n",
    "#trim apply\n",
    "df_male[\"name\"] = df_male[\"name\"].str.strip()\n",
    "df_male[\"surname\"] = df_male[\"surname\"].str.strip()"
   ]
  },
  {
   "cell_type": "markdown",
   "id": "7d72915c",
   "metadata": {},
   "source": [
    "After these changes we look for new duplicates introduced because of changes. Then we romove rows with both name and surname unknown."
   ]
  },
  {
   "cell_type": "code",
   "execution_count": null,
   "id": "2fcc0ebf",
   "metadata": {},
   "outputs": [],
   "source": [
    "#check if duplicates are been introduced\n",
    "df_male.duplicated(keep='first').sum()"
   ]
  },
  {
   "cell_type": "code",
   "execution_count": null,
   "id": "f8c7c863",
   "metadata": {},
   "outputs": [],
   "source": [
    "#remove duplicates\n",
    "df_male.drop_duplicates(keep='first', inplace=True)"
   ]
  },
  {
   "cell_type": "code",
   "execution_count": null,
   "id": "12a07cb4",
   "metadata": {},
   "outputs": [],
   "source": [
    "#remove (if there is) the row <unknown unknown>\n",
    "row = df_male.index[(df_male['name'].str.lower()=='unknown') & (df_male['surname'].str.lower()=='unknown')].tolist()\n",
    "df_male.drop(row, inplace=True)"
   ]
  },
  {
   "cell_type": "markdown",
   "id": "2623b473",
   "metadata": {},
   "source": [
    "#### female: correction invalid names/surnames"
   ]
  },
  {
   "cell_type": "markdown",
   "id": "9fb11004",
   "metadata": {},
   "source": [
    "For the female dataset the same checks for the male one are done"
   ]
  },
  {
   "cell_type": "code",
   "execution_count": null,
   "id": "b1abafe8",
   "metadata": {},
   "outputs": [],
   "source": [
    "#rows with nulls in name: replace null with unknown\n",
    "df_female.loc[df_female['name'].isna(), ['name']]='unknown'\n",
    "df_female['name'].isna().sum(axis = 0)"
   ]
  },
  {
   "cell_type": "code",
   "execution_count": null,
   "id": "5bb48bfc",
   "metadata": {},
   "outputs": [],
   "source": [
    "#rows with nulls in surname: replace null with unknown\n",
    "df_female.loc[df_female['surname'].isna(), ['surname']]='unknown'\n",
    "df_female['surname'].isna().sum(axis = 0)"
   ]
  },
  {
   "cell_type": "code",
   "execution_count": null,
   "id": "3b4dd085",
   "metadata": {},
   "outputs": [],
   "source": [
    "#errors reading from file: all in name and null surname (replaced with unknown)\n",
    "df_female[df_female['name'].str.contains(\",\")]\n",
    "for index, row in df_female[df_female['name'].str.contains(\",\")].iterrows():\n",
    "    if row['surname']=='unknown':\n",
    "        name = row['name'].split(\",\")\n",
    "        df_female.at[index,'surname']=name[len(name)-1]\n",
    "        df_female.at[index,'name']=' '.join(name[0:len(name)-1])"
   ]
  },
  {
   "cell_type": "code",
   "execution_count": null,
   "id": "35af4fb5",
   "metadata": {},
   "outputs": [],
   "source": [
    "#names/surnames without any letters are invalid: set to unknown\n",
    "df_female.loc[~df_female['name'].str.contains(\"[a-zA-Z]\"), ['name']]='unknown'\n",
    "df_female.loc[~df_female['surname'].str.contains(\"[a-zA-Z]\"), ['surname']]='unknown'\n",
    "\n",
    "#replace numbers in names\n",
    "df_female[\"name\"] = df_female[\"name\"].str.replace(\"[0-9]\",\"\",regex=True)\n",
    "df_female[\"surname\"] = df_female[\"surname\"].str.replace(\"[0-9]\",\"\",regex=True)\n",
    "\n",
    "#characters not indicated in the expression are considered invalid\n",
    "df_female[\"name\"] = df_female[\"name\"].str.replace(\"[^a-zA-Z ',-_.]\",\"\",regex=True)\n",
    "#for surname remove string between ()\n",
    "for index, row in  df_female[df_female['surname'].str.contains('\\(')].iterrows():\n",
    "    pos = df_female.at[index,'surname'].find(\"(\")\n",
    "    df_female.at[index,'surname']= df_female.at[index,'surname'][0:pos]\n",
    "df_female[\"surname\"] = df_female[\"surname\"].str.replace(\"[^a-zA-Z ',-._]\",\"\",regex=True)\n",
    "\n",
    "#replace allowed \n",
    "df_female[\"name\"] = df_female[\"name\"].str.replace(\"[^a-zA-Z ]\",\" \",regex=True)\n",
    "df_female[\"surname\"] = df_female[\"surname\"].str.replace(\"[^a-zA-Z ]\",\" \",regex=True)\n",
    "\n",
    "#trim apply\n",
    "df_female[\"name\"] = df_female[\"name\"].str.strip()\n",
    "df_female[\"surname\"] = df_female[\"surname\"].str.strip()"
   ]
  },
  {
   "cell_type": "code",
   "execution_count": null,
   "id": "37206157",
   "metadata": {},
   "outputs": [],
   "source": [
    "#check if duplicates are been introduced\n",
    "df_female.duplicated(keep='first').sum()"
   ]
  },
  {
   "cell_type": "code",
   "execution_count": null,
   "id": "cd7a5141",
   "metadata": {},
   "outputs": [],
   "source": [
    "#remove duplicates\n",
    "df_female.drop_duplicates(keep='first', inplace=True)"
   ]
  },
  {
   "cell_type": "code",
   "execution_count": null,
   "id": "33627f5d",
   "metadata": {},
   "outputs": [],
   "source": [
    "#remove (if there is) the row <unknown unknown>\n",
    "row = df_female.index[(df_female['name'].str.lower()=='unknown') & (df_female['surname'].str.lower()=='unknown')].tolist()\n",
    "df_female.drop(row, inplace=True)"
   ]
  },
  {
   "cell_type": "markdown",
   "id": "83b261db",
   "metadata": {},
   "source": [
    "#### Player dataset"
   ]
  },
  {
   "cell_type": "markdown",
   "id": "5380a02a",
   "metadata": {},
   "source": [
    "Creation of a dataset of players. A row for each player (name + surname) is created. Creation of columns of name (name + surname) and sex retrieved by datasets male and female looking in which of the 2 the player is. If a player is in both male and female dataset the sex in considered unknown (\"U\"). If name or surname are unknown only the value in the other column is considered."
   ]
  },
  {
   "cell_type": "code",
   "execution_count": null,
   "id": "c08c7aea",
   "metadata": {},
   "outputs": [],
   "source": [
    "df_male['whole_name'] = df_male['name']+\" \"+df_male['surname']\n",
    "df_male['sex']='M'\n",
    "df_female['whole_name'] = df_female['name']+\" \"+df_female['surname']\n",
    "df_female['sex']='F'"
   ]
  },
  {
   "cell_type": "code",
   "execution_count": null,
   "id": "bc81150d",
   "metadata": {},
   "outputs": [],
   "source": [
    "#creation of the dataset of the player including the information about sex\n",
    "df_players = pd.concat([df_male, df_female])"
   ]
  },
  {
   "cell_type": "code",
   "execution_count": null,
   "id": "a67cb882",
   "metadata": {},
   "outputs": [],
   "source": [
    "#see if a name can be both male and female and manage them\n",
    "df_players.loc[df_players.duplicated(subset=['name','surname'],keep=False)==True, ['sex']]='U'\n",
    "df_players.drop_duplicates(keep='first', inplace=True)\n",
    "df_players"
   ]
  },
  {
   "cell_type": "code",
   "execution_count": null,
   "id": "a87ad933",
   "metadata": {},
   "outputs": [],
   "source": [
    "for index, row in df_players[df_players['name']=='unknown'].iterrows():\n",
    "    df_players.loc[index, 'whole_name'] = row['surname']"
   ]
  },
  {
   "cell_type": "code",
   "execution_count": null,
   "id": "905f75d6",
   "metadata": {},
   "outputs": [],
   "source": [
    "for index, row in df_players[df_players['surname']=='unknown'].iterrows():\n",
    "    df_players.loc[index, 'whole_name'] = row['name']"
   ]
  },
  {
   "cell_type": "markdown",
   "id": "65cec1b8",
   "metadata": {},
   "source": [
    "## Tennis dataset"
   ]
  },
  {
   "cell_type": "markdown",
   "id": "bf18ba74",
   "metadata": {},
   "source": [
    "Remove duplicate rown in tennis dataset"
   ]
  },
  {
   "cell_type": "code",
   "execution_count": null,
   "id": "2ea4c0ee",
   "metadata": {},
   "outputs": [],
   "source": [
    "df_tennis.drop_duplicates(keep='first', inplace=True)"
   ]
  },
  {
   "cell_type": "markdown",
   "id": "1281624f",
   "metadata": {},
   "source": [
    "#### tourney_id"
   ]
  },
  {
   "cell_type": "markdown",
   "id": "6e9bc8d6",
   "metadata": {},
   "source": [
    "The tourney id that are null are replaced with the \"unknown\" value"
   ]
  },
  {
   "cell_type": "code",
   "execution_count": null,
   "id": "ccc4c4c4",
   "metadata": {},
   "outputs": [],
   "source": [
    "df_tennis['tourney_id'].isna().sum(axis = 0)\n",
    "df_tennis.loc[df_tennis['tourney_id'].isna(), ['tourney_id']]='unknown'"
   ]
  },
  {
   "cell_type": "markdown",
   "id": "ee37591c",
   "metadata": {},
   "source": [
    "#### winner_name and loser_name"
   ]
  },
  {
   "cell_type": "markdown",
   "id": "de5de26f",
   "metadata": {},
   "source": [
    "For the winner and loser name the same changes of the male and female dataset are done to have the names with the same structure."
   ]
  },
  {
   "cell_type": "code",
   "execution_count": null,
   "id": "1bea40f3",
   "metadata": {},
   "outputs": [],
   "source": [
    "#rows with nulls in name: replace null with unknown\n",
    "df_tennis.loc[df_tennis['winner_name'].isna(), ['winner_name']]='unknown'\n",
    "df_tennis['winner_name'].isna().sum(axis = 0)\n",
    "\n",
    "df_tennis.loc[df_tennis['loser_name'].isna(), ['loser_name']]='unknown'\n",
    "df_tennis['loser_name'].isna().sum(axis = 0)"
   ]
  },
  {
   "cell_type": "code",
   "execution_count": null,
   "id": "bf1a2b7e",
   "metadata": {},
   "outputs": [],
   "source": [
    "#nameswithout any letters are invalid: set to unknown\n",
    "df_tennis.loc[~df_tennis['winner_name'].str.contains(\"[a-zA-Z]\"), ['winner_name']]='unknown'\n",
    "df_tennis.loc[~df_tennis['loser_name'].str.contains(\"[a-zA-Z]\"), ['loser_name']]='unknown'\n",
    "\n",
    "#replace numbers in names\n",
    "df_tennis[\"winner_name\"] = df_tennis[\"winner_name\"].str.replace(\"[0-9]\",\"\",regex=True)\n",
    "df_tennis[\"loser_name\"] = df_tennis[\"loser_name\"].str.replace(\"[0-9]\",\"\",regex=True)\n",
    "\n",
    "#remove string between ()\n",
    "for index, row in  df_tennis[df_tennis['winner_name'].str.contains('\\(')].iterrows():\n",
    "    pos = df_tennis.at[index,'winner_name'].find(\"(\")\n",
    "    df_tennis.at[index,'winner_name']= df_tennis.at[index,'winner_name'][0:pos]\n",
    "for index, row in  df_tennis[df_tennis['loser_name'].str.contains('\\(')].iterrows():\n",
    "    pos = df_tennis.at[index,'loser_name'].find(\"(\")\n",
    "    df_tennis.at[index,'loser_name']= df_tennis.at[index,'loser_name'][0:pos]\n",
    "    \n",
    "#characters not indicated in the expression are considered invalid    \n",
    "df_tennis[\"winner_name\"] = df_tennis[\"winner_name\"].str.replace(\"[^a-zA-Z ',-_.]\",\"\",regex=True)    \n",
    "df_tennis[\"loser_name\"] = df_tennis[\"loser_name\"].str.replace(\"[^a-zA-Z ',-._]\",\"\",regex=True)\n",
    "\n",
    "#replace allowed \n",
    "df_tennis[\"winner_name\"] = df_tennis[\"winner_name\"].str.replace(\"[^a-zA-Z ]\",\" \",regex=True)\n",
    "df_tennis[\"loser_name\"] = df_tennis[\"loser_name\"].str.replace(\"[^a-zA-Z ]\",\" \",regex=True)\n",
    "\n",
    "#trim apply\n",
    "df_tennis[\"winner_name\"] = df_tennis[\"winner_name\"].str.strip()\n",
    "df_tennis[\"loser_name\"] = df_tennis[\"loser_name\"].str.strip()\n",
    "#df_tennis[['winner_name','loser_name']]"
   ]
  },
  {
   "cell_type": "markdown",
   "id": "aba8df55",
   "metadata": {},
   "source": [
    "Remove duplicates intoduced by the changes"
   ]
  },
  {
   "cell_type": "code",
   "execution_count": null,
   "id": "24533419",
   "metadata": {},
   "outputs": [],
   "source": [
    "#check if duplicates are been introduced\n",
    "df_tennis.duplicated(keep='first').sum()\n",
    "#df_tennis[df_tennis.duplicated(keep='first')==True]"
   ]
  },
  {
   "cell_type": "code",
   "execution_count": null,
   "id": "16b7d19b",
   "metadata": {},
   "outputs": [],
   "source": [
    "#remove duplicates\n",
    "df_tennis.drop_duplicates(keep='first', inplace=True)"
   ]
  },
  {
   "cell_type": "markdown",
   "id": "a9373dee",
   "metadata": {},
   "source": [
    "Remove rows where both winner and loser are unknown because the information about the players are not useful"
   ]
  },
  {
   "cell_type": "code",
   "execution_count": null,
   "id": "cce3e695",
   "metadata": {},
   "outputs": [],
   "source": [
    "#remove (if there is) the row unknown-unknown for winner and (&) loser\n",
    "row = df_tennis.index[(df_tennis['winner_name'].str.lower()=='unknown') \n",
    "                      & (df_tennis['loser_name'].str.lower()=='unknown')\n",
    "                      & (df_tennis['winner_id'].isnull()) \n",
    "                      & (df_tennis['loser_id'].isnull()) \n",
    "                     ].tolist()\n",
    "df_tennis.drop(row, inplace=True)"
   ]
  },
  {
   "cell_type": "code",
   "execution_count": null,
   "id": "69ef7cb0",
   "metadata": {},
   "outputs": [],
   "source": [
    "#remove multiple \" \"\n",
    "df_tennis['winner_name'] = df_tennis['winner_name'].map(lambda x: re.sub(' +', ' ', x))\n",
    "df_tennis['loser_name'] = df_tennis['loser_name'].map(lambda x: re.sub(' +', ' ', x))"
   ]
  },
  {
   "cell_type": "markdown",
   "id": "96a698a9",
   "metadata": {},
   "source": [
    "**Fixing names with more the one id binded**"
   ]
  },
  {
   "cell_type": "markdown",
   "id": "015c4590",
   "metadata": {},
   "source": [
    "In this section are handled the players that have linked to multiple ID. We have verified that these players have a maximum of two associated IDs so the reassignment is done using the ID that is most recurrent for that player."
   ]
  },
  {
   "cell_type": "code",
   "execution_count": null,
   "id": "31ad1ec5",
   "metadata": {
    "scrolled": true
   },
   "outputs": [],
   "source": [
    "#Removing the multiple ids for one name WINNER\n",
    "mul_ids = get_w_name_ids(df_tennis)\n",
    "df_mul_ids = df_tennis[df_tennis['winner_name'].isin(mul_ids) & (df_tennis['winner_name'] != 'unknown')][['winner_name','winner_id']].sort_values(by=['winner_name','winner_id'])\n",
    "w_names = df_mul_ids['winner_name'].unique().tolist()\n",
    "w_ids = df_mul_ids['winner_id'].unique().tolist()\n",
    "correct_w_id = {}\n",
    "ids = df_mul_ids.groupby(['winner_name','winner_id'])['winner_id'].count().to_list()\n",
    "i = 0\n",
    "for name in w_names:\n",
    "    if(ids[i] >= ids[i+1]):\n",
    "        correct_w_id[name] = w_ids[i]\n",
    "        df_tennis.loc[df_tennis['winner_name'] == name, 'winner_id'] = w_ids[i]\n",
    "    else:\n",
    "        correct_w_id[name] = w_ids[i+1]\n",
    "        df_tennis.loc[df_tennis['winner_name'] == name, 'winner_id'] = w_ids[i+1]\n",
    "    i+=2"
   ]
  },
  {
   "cell_type": "code",
   "execution_count": null,
   "id": "b5723b45",
   "metadata": {},
   "outputs": [],
   "source": [
    "df_tennis.loc[df_tennis['loser_name'] == 'unknown', 'loser_name'] = None"
   ]
  },
  {
   "cell_type": "code",
   "execution_count": null,
   "id": "dd7d9664",
   "metadata": {},
   "outputs": [],
   "source": [
    "#Removing the multiple ids for one name LOSER\n",
    "mul_ids = get_l_name_ids(df_tennis)\n",
    "df_mul_ids = df_tennis[df_tennis['loser_name'].isin(mul_ids)][['loser_name','loser_id']].sort_values(by=['loser_name','loser_id'])\n",
    "l_names = df_mul_ids['loser_name'].unique().tolist()\n",
    "l_ids = df_mul_ids['loser_id'].unique().tolist()\n",
    "correct_l_id = {}\n",
    "ids = df_mul_ids.groupby(['loser_name','loser_id'])['loser_id'].count().to_list()\n",
    "i = 0\n",
    "for name in l_names:\n",
    "    if(ids[i] >= ids[i+1]):\n",
    "        correct_l_id[name] = l_ids[i]\n",
    "        df_tennis.loc[df_tennis['loser_name'] == name, 'loser_id'] = l_ids[i]\n",
    "    else:\n",
    "        correct_l_id[name] = l_ids[i+1]\n",
    "        df_tennis.loc[df_tennis['loser_name'] == name, 'loser_id'] = l_ids[i+1]\n",
    "    i+=2"
   ]
  },
  {
   "cell_type": "markdown",
   "id": "7053f9be",
   "metadata": {},
   "source": [
    "**Removing id binded with multiple names**"
   ]
  },
  {
   "cell_type": "markdown",
   "id": "ee082979",
   "metadata": {},
   "source": [
    "Given the presence of name pairs whose IDs are in common, it was necessary to reassign the IDs. To do this we first counted the <player, id> occurrences for each of the players, based on the count the ID was assigned to the player with the most occurrences. For the other player we first checked if there were other instances of him with different ID, otherwise he was assigned an incremental ID starting from the maximum ID present."
   ]
  },
  {
   "cell_type": "code",
   "execution_count": null,
   "id": "44aab20c",
   "metadata": {},
   "outputs": [],
   "source": [
    "# df_mul_names = df_tennis[df_tennis['winner_id'].isin(get_w_id_names())][['winner_name','winner_id']].sort_values(by=['winner_name','winner_id'])\n",
    "# df_mul_names = df_mul_names.value_counts().reset_index()\n",
    "# df_mul_names.columns = ['winner_name', 'winner_id', 'count']\n",
    "# df_mul_names.sort_values(by='winner_id')"
   ]
  },
  {
   "cell_type": "code",
   "execution_count": null,
   "id": "86173e6d",
   "metadata": {
    "scrolled": true
   },
   "outputs": [],
   "source": [
    "df_mul_names = df_tennis[df_tennis['winner_id'].isin(get_w_id_names(df_tennis))][['winner_name','winner_id']].sort_values(by=['winner_name','winner_id'])\n",
    "df_mul_names = df_mul_names.value_counts().reset_index()\n",
    "df_mul_names.columns = ['winner_name', 'winner_id', 'count']\n",
    "df_mul_names.sort_values(by='winner_id')\n",
    "id_list =  df_mul_names['winner_id'].unique()\n",
    "for w_id in id_list:\n",
    "    p1 = df_mul_names[df_mul_names['winner_id'] == w_id]['winner_name'].to_list()[0]\n",
    "    c1 = df_mul_names[df_mul_names['winner_id'] == w_id]['count'].to_list()[0]\n",
    "    p2 = df_mul_names[df_mul_names['winner_id'] == w_id]['winner_name'].to_list()[1]\n",
    "    c2 = df_mul_names[df_mul_names['winner_id'] == w_id]['count'].to_list()[1]\n",
    "    new_id = max(df_tennis['winner_id'].max(),df_tennis['loser_id'].max()) + 1\n",
    "    if(c1 >= c2):\n",
    "        df_tennis.loc[df_tennis['winner_name'] == p2, 'winner_id'] = new_id\n",
    "        df_tennis.loc[df_tennis['loser_name'] == p2, 'loser_id'] = new_id\n",
    "    else:\n",
    "        df_tennis.loc[df_tennis['winner_name'] == p1, 'winner_id'] = new_id\n",
    "        df_tennis.loc[df_tennis['loser_name'] == p1, 'loser_id'] = new_id        "
   ]
  },
  {
   "cell_type": "code",
   "execution_count": null,
   "id": "8586ae50",
   "metadata": {},
   "outputs": [],
   "source": [
    "df_mul_names = df_tennis[df_tennis['loser_id'].isin(get_l_id_names(df_tennis)) & (df_tennis['loser_name'] != 'unknown')][['loser_name','loser_id']].sort_values(by=['loser_name','loser_id'])\n",
    "df_mul_names = df_mul_names.value_counts().reset_index()\n",
    "df_mul_names.columns = ['loser_name', 'loser_id', 'count']\n",
    "df_mul_names.sort_values(by='loser_id')\n",
    "id_list =  df_mul_names['loser_id'].unique()\n",
    "for l_id in id_list:\n",
    "    p1 = df_mul_names[df_mul_names['loser_id'] == l_id]['loser_name'].to_list()[0]\n",
    "    c1 = df_mul_names[df_mul_names['loser_id'] == l_id]['count'].to_list()[0]\n",
    "    p2 = df_mul_names[df_mul_names['loser_id'] == l_id]['loser_name'].to_list()[1]\n",
    "    c2 = df_mul_names[df_mul_names['loser_id'] == l_id]['count'].to_list()[1]\n",
    "    new_id = max(df_tennis['winner_id'].max(),df_tennis['loser_id'].max()) + 1\n",
    "    if(c1 >= c2):\n",
    "        df_tennis.loc[df_tennis['winner_name'] == p2, 'winner_id'] = new_id\n",
    "        df_tennis.loc[df_tennis['loser_name'] == p2, 'loser_id'] = new_id\n",
    "    else:\n",
    "        df_tennis.loc[df_tennis['winner_name'] == p1, 'winner_id'] = new_id\n",
    "        df_tennis.loc[df_tennis['loser_name'] == p1, 'loser_id'] = new_id    "
   ]
  },
  {
   "cell_type": "code",
   "execution_count": null,
   "id": "b98a9e56",
   "metadata": {},
   "outputs": [],
   "source": [
    "df_tennis.loc[df_tennis['loser_name'].isna(), 'loser_name'] = 'unknown'"
   ]
  },
  {
   "cell_type": "markdown",
   "id": "161ddfde",
   "metadata": {},
   "source": [
    "#### Merge names of datasets"
   ]
  },
  {
   "cell_type": "markdown",
   "id": "8f61373f",
   "metadata": {},
   "source": [
    "Merge of names in tennis dataset and male + female dataset removing names that are not in tennis dataset. In this way we obtain a list of players in the tennis dataset with sex associated to them (that can be unknown)"
   ]
  },
  {
   "cell_type": "code",
   "execution_count": null,
   "id": "117308c0",
   "metadata": {},
   "outputs": [],
   "source": [
    "tennis_names = df_tennis['winner_name'].drop_duplicates().tolist()+ \\\n",
    "                df_tennis['loser_name'].drop_duplicates().tolist()\n",
    "tennis_names = list(dict.fromkeys(tennis_names))"
   ]
  },
  {
   "cell_type": "code",
   "execution_count": null,
   "id": "4406016b",
   "metadata": {},
   "outputs": [],
   "source": [
    "df_names = pd.DataFrame(tennis_names, columns=['whole_name'])\n",
    "df_names #10103 rows"
   ]
  },
  {
   "cell_type": "code",
   "execution_count": null,
   "id": "8a692eb4",
   "metadata": {
    "scrolled": false
   },
   "outputs": [],
   "source": [
    "df_players"
   ]
  },
  {
   "cell_type": "code",
   "execution_count": null,
   "id": "7cb77013",
   "metadata": {},
   "outputs": [],
   "source": [
    "df_players = df_names.merge(df_players, how='left', on='whole_name')\n",
    "df_players"
   ]
  },
  {
   "cell_type": "code",
   "execution_count": null,
   "id": "96ba2462",
   "metadata": {},
   "outputs": [],
   "source": [
    "#df_players[df_players['winner_name']=='Carlos  Cuevas']\n",
    "df_players.loc[df_players['sex'].isna(),'sex']='U'"
   ]
  },
  {
   "cell_type": "code",
   "execution_count": null,
   "id": "db764733",
   "metadata": {},
   "outputs": [],
   "source": [
    "#remove unknown \n",
    "row = df_players.index[df_players['whole_name'].str.lower()=='unknown'].tolist()\n",
    "df_players.drop(row, inplace=True)"
   ]
  },
  {
   "cell_type": "code",
   "execution_count": null,
   "id": "02d63a9b",
   "metadata": {},
   "outputs": [],
   "source": [
    "df_players = df_players.drop(columns=['name', 'surname'])"
   ]
  },
  {
   "cell_type": "code",
   "execution_count": null,
   "id": "94567170",
   "metadata": {
    "scrolled": true
   },
   "outputs": [],
   "source": [
    "df_players"
   ]
  },
  {
   "cell_type": "code",
   "execution_count": null,
   "id": "4f76f06d",
   "metadata": {
    "scrolled": true
   },
   "outputs": [],
   "source": [
    "df_tennis['winner_id'].max()"
   ]
  },
  {
   "cell_type": "markdown",
   "id": "777f2219",
   "metadata": {},
   "source": [
    "**Adding id column to player dataframe**"
   ]
  },
  {
   "cell_type": "markdown",
   "id": "ab913957",
   "metadata": {},
   "source": [
    "After having fixed the relationships between player and ID in the match dataset this information has been transferred in the table of players associating to each tennis player his unique ID."
   ]
  },
  {
   "cell_type": "code",
   "execution_count": null,
   "id": "69428cbe",
   "metadata": {
    "scrolled": true
   },
   "outputs": [],
   "source": [
    "df_w = df_tennis[['winner_name','winner_id']].drop_duplicates()\n",
    "df_l = df_tennis[['loser_name','loser_id']].drop_duplicates()\n",
    "df_l = df_l.rename(columns={\"loser_name\": \"winner_name\", \"loser_id\": \"winner_id\"})\n",
    "df = df_w.append(df_l)\n",
    "df = df.set_index('winner_name')\n",
    "df = df.dropna()\n",
    "\n",
    "dict_name_id = df.to_dict()\n",
    "dict_name_id = dict_name_id['winner_id']\n",
    "ids = []\n",
    "for name in df_players['whole_name']:\n",
    "    if name in dict_name_id:\n",
    "        ids.append(dict_name_id[name])\n",
    "print(len(ids))\n",
    "df_players['id'] = ids"
   ]
  },
  {
   "cell_type": "code",
   "execution_count": null,
   "id": "15a9fcd6",
   "metadata": {},
   "outputs": [],
   "source": [
    "df_players"
   ]
  },
  {
   "cell_type": "code",
   "execution_count": null,
   "id": "7ac11fd3",
   "metadata": {},
   "outputs": [],
   "source": [
    "df_tmp_names = df_players[['whole_name','id']]\n",
    "df_tmp_names = df_tmp_names.set_index('whole_name')\n",
    "df_tmp_ids = df_players[['whole_name','id']]\n",
    "df_tmp_ids = df_tmp_ids.set_index('id')\n",
    "dict_names_ids = df_tmp_names['id'].to_dict()\n",
    "dict_ids_names = df_tmp_ids['whole_name'].to_dict()"
   ]
  },
  {
   "cell_type": "code",
   "execution_count": null,
   "id": "6c044368",
   "metadata": {},
   "outputs": [],
   "source": [
    "#fill missing winner_id or winner_id values\n",
    "conditions = (df_tennis['winner_id'].isnull() ^ (df_tennis['winner_name'] == 'unknown'))\n",
    "df_tmp = df_tennis[conditions][['winner_name','winner_id']]\n",
    "for index, row in df_tmp.iterrows():\n",
    "    if(row['winner_name'] == 'unknown'):\n",
    "         if(row['winner_id'] in dict_ids_names.keys()):\n",
    "                print(row['winner_name'], row['winner_id'])\n",
    "                df_tennis.loc[df_tennis['winner_id'] == row['winner_id'], 'winner_name'] = dict_ids_names[row['winner_id']]\n",
    "    else:\n",
    "         if(row['winner_name'] in dict_names_ids.keys()):\n",
    "            df_tennis.loc[df_tennis['winner_name'] == row['winner_name'], 'winner_id'] = dict_names_ids[row['winner_name']]"
   ]
  },
  {
   "cell_type": "code",
   "execution_count": null,
   "id": "cd822a5d",
   "metadata": {},
   "outputs": [],
   "source": [
    "#fill missing loser_id or loser_id values\n",
    "conditions = (df_tennis['loser_id'].isnull() ^ (df_tennis['loser_name'] == 'unknown'))\n",
    "df_tmp = df_tennis[conditions][['loser_name','loser_id']]\n",
    "for index, row in df_tmp.iterrows():\n",
    "    if(row['loser_name'] == 'unknown'):\n",
    "         if(row['loser_id'] in dict_ids_names.keys()):\n",
    "                df_tennis.loc[df_tennis['loser_id'] == row['loser_id'], 'loser_name'] = dict_ids_names[row['loser_id']]\n",
    "    else:\n",
    "         if(row['loser_name'] in dict_names_ids.keys()):\n",
    "            df_tennis.loc[df_tennis['loser_name'] == row['loser_name'], 'loser_id'] = dict_names_ids[row['loser_name']]"
   ]
  },
  {
   "cell_type": "code",
   "execution_count": null,
   "id": "e6212a60",
   "metadata": {
    "scrolled": true
   },
   "outputs": [],
   "source": [
    "df_tennis.loc[df_tennis['winner_id'].isna(), 'winner_id'] = -1"
   ]
  },
  {
   "cell_type": "code",
   "execution_count": null,
   "id": "f610fba0",
   "metadata": {
    "scrolled": true
   },
   "outputs": [],
   "source": [
    "df_tennis.loc[df_tennis['loser_id'].isna(), 'loser_id'] = -1"
   ]
  },
  {
   "cell_type": "markdown",
   "id": "55d811cf",
   "metadata": {},
   "source": [
    "#### Establish sex looking matches"
   ]
  },
  {
   "cell_type": "markdown",
   "id": "efe2ae14",
   "metadata": {},
   "source": [
    "Here sex for the players with sex unknown or incorrect (in matches male plays against male and female against female) is established looking at players of matches"
   ]
  },
  {
   "cell_type": "code",
   "execution_count": null,
   "id": "2377c641",
   "metadata": {},
   "outputs": [],
   "source": [
    "#establish sex for unknown and correct for known if there are errors\n",
    "sex_dict = dict(zip(df_players.whole_name, df_players.sex))\n",
    "dict_winner_match = df_tennis.groupby('winner_name')['loser_name'].unique().dropna().apply(list).to_dict()\n",
    "dict_loser_match = df_tennis.groupby('loser_name')['winner_name'].unique().dropna().apply(list).to_dict()"
   ]
  },
  {
   "cell_type": "code",
   "execution_count": null,
   "id": "af2d30b6",
   "metadata": {},
   "outputs": [],
   "source": [
    "dict_winner_match"
   ]
  },
  {
   "cell_type": "code",
   "execution_count": null,
   "id": "604bfd37",
   "metadata": {},
   "outputs": [],
   "source": [
    "#check if errors with F or M\n",
    "error, erorr_rows_indexes = errors_match_sexs(sex_dict, dict_winner_match, dict_loser_match)"
   ]
  },
  {
   "cell_type": "code",
   "execution_count": null,
   "id": "8e7b5678",
   "metadata": {},
   "outputs": [],
   "source": [
    "erorr_rows_indexes"
   ]
  },
  {
   "cell_type": "markdown",
   "id": "12938c74",
   "metadata": {},
   "source": [
    "So, in each match male is against male and female against female (or unknown). Cases where this is not true because in some matches there are male and female mixerd, looking at these matches and there number we choose a sex rather than another for a player."
   ]
  },
  {
   "cell_type": "code",
   "execution_count": null,
   "id": "d9ddc39f",
   "metadata": {},
   "outputs": [],
   "source": [
    "changes = True\n",
    "sex_dict = dict(zip(df_players.whole_name, df_players.sex))\n",
    "\n",
    "while(changes):\n",
    "    changes = False\n",
    "    for key in sex_dict.keys():\n",
    "        #consider the players as winner\n",
    "        if sex_dict[key]=='U' and key in dict_winner_match.keys():\n",
    "            losers = dict_winner_match[key]\n",
    "            for loser in losers:\n",
    "                if sex_dict[loser]!='U' :                    \n",
    "                    df_players.loc[df_players['whole_name']==key, 'sex'] = sex_dict[loser]\n",
    "                    changes = True\n",
    "                    sex_dict[key] = sex_dict[loser]\n",
    "                    break\n",
    "            \n",
    "        #consider the players as loser\n",
    "        if sex_dict[key]=='U' and key in dict_loser_match.keys():\n",
    "            winners = dict_loser_match[key]\n",
    "            for winner in winners:\n",
    "                if sex_dict[winner]!='U':\n",
    "                    df_players.loc[df_players['whole_name']==key, 'sex'] = sex_dict[winner]\n",
    "                    changes = True\n",
    "                    sex_dict[key] = sex_dict[winner]\n",
    "                    break"
   ]
  },
  {
   "cell_type": "code",
   "execution_count": null,
   "id": "7c2695d0",
   "metadata": {},
   "outputs": [],
   "source": [
    "#check if errors with F or M\n",
    "error, erorr_rows_indexes = errors_match_sexs(sex_dict, dict_winner_match, dict_loser_match)"
   ]
  },
  {
   "cell_type": "code",
   "execution_count": null,
   "id": "5e6d2ed6",
   "metadata": {},
   "outputs": [],
   "source": [
    "erorr_rows_indexes = list(dict.fromkeys(erorr_rows_indexes))\n",
    "erorr_rows_indexes"
   ]
  },
  {
   "cell_type": "code",
   "execution_count": null,
   "id": "99c12b2e",
   "metadata": {},
   "outputs": [],
   "source": [
    "for name_error in erorr_rows_indexes:\n",
    "    sex = df_players[df_players['whole_name']==name_error]['sex'].tolist()[0]\n",
    "    \n",
    "    enemies = df_tennis[df_tennis['winner_name']==name_error]['loser_name'].tolist()\n",
    "    enemies = enemies + df_tennis[df_tennis['loser_name']==name_error]['winner_name'].tolist()\n",
    "    enemies = list(dict.fromkeys(enemies))\n",
    "    \n",
    "    female = 0\n",
    "    male = 0\n",
    "    \n",
    "    for enemy in enemies:\n",
    "        if sex_dict[enemy]=='F':\n",
    "            female +=1\n",
    "        else:\n",
    "            male+=1\n",
    "            \n",
    "    if female>male:\n",
    "        if sex_dict[name_error]!='F':\n",
    "            print(error)\n",
    "    else:\n",
    "        if sex_dict[name_error]!='M':\n",
    "            print(error)"
   ]
  },
  {
   "cell_type": "code",
   "execution_count": null,
   "id": "6a2fa63e",
   "metadata": {},
   "outputs": [],
   "source": [
    "df_players[df_players['sex']=='U'].shape[0]"
   ]
  },
  {
   "cell_type": "markdown",
   "id": "c59f71e8",
   "metadata": {},
   "source": [
    "After the correction of sex, all the players have a known sex (female or male)"
   ]
  },
  {
   "cell_type": "code",
   "execution_count": null,
   "id": "9a265178",
   "metadata": {},
   "outputs": [],
   "source": [
    "df_players"
   ]
  },
  {
   "cell_type": "markdown",
   "id": "fb708a01",
   "metadata": {},
   "source": [
    "#### tourney_name"
   ]
  },
  {
   "cell_type": "markdown",
   "id": "a822f036",
   "metadata": {},
   "source": [
    "Null values in the toruney name are replaced with an \"unknown\" value. For not null names, the validity of the names are analyzed cheching if the name has only alphabetic characters and some well defined special characters (\"-\",\"\\_\"). As was done for name of players, in this way we try to obtain the same tourney name for the same tourney removing characters invalid or looking for the same name written with small differences as, for example, the lower case instead the upper case."
   ]
  },
  {
   "cell_type": "code",
   "execution_count": null,
   "id": "6291f968",
   "metadata": {
    "scrolled": true
   },
   "outputs": [],
   "source": [
    "#rows with nulls in name: replace null with unknown\n",
    "df_tennis.loc[df_tennis['tourney_name'].isna(), ['tourney_name']]='unknown'"
   ]
  },
  {
   "cell_type": "code",
   "execution_count": null,
   "id": "6b574b0d",
   "metadata": {
    "scrolled": true
   },
   "outputs": [],
   "source": [
    "#names without any letters are invalid: set to unknown\n",
    "df_tennis.loc[~df_tennis['tourney_name'].str.contains(\"[a-zA-Z]\"), ['tourney_name']]='unknown'\n",
    "\n",
    "#replace numbers in names\n",
    "df_tennis[\"tourney_name\"] = df_tennis[\"tourney_name\"].str.replace(\"[0-9]\",\"\",regex=True)\n",
    "\n",
    "#remove string between ()\n",
    "for index, row in  df_tennis[df_tennis['tourney_name'].str.contains('\\(')].iterrows():\n",
    "    pos = df_tennis.at[index,'tourney_name'].find(\"(\")\n",
    "    df_tennis.at[index,'tourney_name']= df_tennis.at[index,'tourney_name'][0:pos]\n",
    "    \n",
    "#characters not indicated in the expression are considered invalid    \n",
    "df_tennis[\"tourney_name\"] = df_tennis[\"tourney_name\"].str.replace(\"[^a-zA-Z -_]\",\"\",regex=True)\n",
    "df_tennis[\"tourney_name\"] = df_tennis[\"tourney_name\"].str.replace(\"[^a-zA-Z ]\",\" \",regex=True)\n",
    "\n",
    "#trim apply\n",
    "df_tennis[\"tourney_name\"] = df_tennis[\"tourney_name\"].str.strip()\n",
    "df_tennis"
   ]
  },
  {
   "cell_type": "markdown",
   "id": "8e7f7e8b",
   "metadata": {},
   "source": [
    "Then, we try to remove duplicate rows in the dataset introduced with the changes"
   ]
  },
  {
   "cell_type": "code",
   "execution_count": null,
   "id": "94661e1b",
   "metadata": {},
   "outputs": [],
   "source": [
    "#check if duplicates are been introduced\n",
    "df_tennis.duplicated(keep='first').sum()"
   ]
  },
  {
   "cell_type": "code",
   "execution_count": null,
   "id": "815a9093",
   "metadata": {},
   "outputs": [],
   "source": [
    "#remove duplicates\n",
    "df_tennis.drop_duplicates(keep='first', inplace=True)\n",
    "#rows with unknown tourney_name: 21. All of these have null tourney_id"
   ]
  },
  {
   "cell_type": "code",
   "execution_count": null,
   "id": "e29ca7ec",
   "metadata": {},
   "outputs": [],
   "source": [
    "#remove multiple \" \"\n",
    "df_tennis['tourney_name'] = df_tennis['tourney_name'].map(lambda x: re.sub(' +', ' ', x))"
   ]
  },
  {
   "cell_type": "markdown",
   "id": "b8907d32",
   "metadata": {},
   "source": [
    "After the correction there are still some tourney with more names but these are all similar. For example are of the form: \\['Indian Wells', 'Indian Wells Masters'\\] or \\['US Open', 'Us Open'\\]. So, we try to have all lower to resolve problem of upper case and in cases like the first we took the longer name ('Indian Wells Masters')"
   ]
  },
  {
   "cell_type": "code",
   "execution_count": null,
   "id": "f92e4f72",
   "metadata": {},
   "outputs": [],
   "source": [
    "#make the name equal for similar names (es: Madrid, Madrid Master associated to same tourney_id)\n",
    "dict_tourney_id = df_tennis.groupby('tourney_id')['tourney_name'].unique().apply(list).to_dict()"
   ]
  },
  {
   "cell_type": "code",
   "execution_count": null,
   "id": "0cbb5c46",
   "metadata": {},
   "outputs": [],
   "source": [
    "#print tourneys with more names\n",
    "keys = []\n",
    "for key, value in dict_tourney_id.items():\n",
    "    if len(value)>1:\n",
    "        print(key, value)\n",
    "        keys.append(keys)"
   ]
  },
  {
   "cell_type": "code",
   "execution_count": null,
   "id": "cbe74c07",
   "metadata": {},
   "outputs": [],
   "source": [
    "for key, value in dict_tourney_id.items():\n",
    "    if len(value)==2:\n",
    "        if value[0].lower() == value[1].lower():\n",
    "            df_tennis.loc[df_tennis['tourney_id']==key, ['tourney_name']]=value[0]\n",
    "        elif value[0]=='unknown':\n",
    "            df_tennis.loc[df_tennis['tourney_id']==key, ['tourney_name']]=value[1]\n",
    "        elif value[1]=='unknown':\n",
    "            df_tennis.loc[df_tennis['tourney_id']==key, ['tourney_name']]=value[0]\n",
    "        elif value[0].lower() in value[1].lower():\n",
    "            df_tennis.loc[df_tennis['tourney_id']==key, ['tourney_name']]=value[1]\n",
    "        elif value[1].lower() in value[0].lower():\n",
    "            df_tennis.loc[df_tennis['tourney_id']==key, ['tourney_name']]=value[0]"
   ]
  },
  {
   "cell_type": "markdown",
   "id": "441d35d7",
   "metadata": {},
   "source": [
    "#### winner_hand and loser_hand"
   ]
  },
  {
   "cell_type": "markdown",
   "id": "92c33ee1",
   "metadata": {},
   "source": [
    "Here we establish what is the hand used by the players to play. To do this we analyze the matches played by every player. We noticed that every player always play with the same hand, so, if in at least one match of a player there is a left or right hand, we associate this to the player. For the other players the hand is considered unknown (\"U\")"
   ]
  },
  {
   "cell_type": "code",
   "execution_count": null,
   "id": "f3fa5d0d",
   "metadata": {},
   "outputs": [],
   "source": [
    "df_players['hand']='U'"
   ]
  },
  {
   "cell_type": "code",
   "execution_count": null,
   "id": "dce26c1c",
   "metadata": {},
   "outputs": [],
   "source": [
    "#substitute nulls in hand in tennis with 'U'\n",
    "df_tennis.loc[df_tennis['winner_hand'].isna(), ['winner_hand']]='U'\n",
    "df_tennis.loc[df_tennis['loser_hand'].isna(), ['loser_hand']]='U'"
   ]
  },
  {
   "cell_type": "code",
   "execution_count": null,
   "id": "2aaf53a5",
   "metadata": {
    "scrolled": true
   },
   "outputs": [],
   "source": [
    "df_tennis[(df_tennis['winner_hand']=='R') | (df_tennis['winner_hand']=='L')] #136653 rows"
   ]
  },
  {
   "cell_type": "code",
   "execution_count": null,
   "id": "e02aee55",
   "metadata": {},
   "outputs": [],
   "source": [
    "winner_hand_dict = df_tennis.groupby(['winner_id','winner_name'])['winner_hand'].unique().apply(list).to_dict()\n",
    "loser_hand_dict = df_tennis.groupby(['loser_id','loser_name'])['loser_hand'].unique().apply(list).to_dict()"
   ]
  },
  {
   "cell_type": "code",
   "execution_count": null,
   "id": "d236417a",
   "metadata": {},
   "outputs": [],
   "source": [
    "for key, value in winner_hand_dict.items():\n",
    "    if key in loser_hand_dict.keys() and value[0] not in loser_hand_dict[key]:\n",
    "        loser_hand_dict[key].append(value[0])\n",
    "    else:\n",
    "        loser_hand_dict[key] = value"
   ]
  },
  {
   "cell_type": "code",
   "execution_count": null,
   "id": "5995692e",
   "metadata": {},
   "outputs": [],
   "source": [
    "for key, value in loser_hand_dict.items():\n",
    "    if 'U' in loser_hand_dict[key] and ('L' in loser_hand_dict[key] or 'R' in loser_hand_dict[key]):\n",
    "        \n",
    "        print(key)\n",
    "        print(key[1])\n",
    "        print(loser_hand_dict[key])\n",
    "        \n",
    "        if(loser_hand_dict[key][0]!='U'):\n",
    "            df_players.loc[df_players['whole_name']==key[1],'hand']= loser_hand_dict[key][0]\n",
    "            df_tennis.loc[df_tennis['winner_name']==key[1],'winner_hand']=loser_hand_dict[key][0]\n",
    "            df_tennis.loc[df_tennis['loser_name']==key[1], 'loser_hand']=loser_hand_dict[key][0]\n",
    "        else:\n",
    "            df_players.loc[df_players['whole_name']==key[1],'hand']= loser_hand_dict[key][1]\n",
    "            df_tennis.loc[df_tennis['winner_name']==key[1], 'winner_hand']=loser_hand_dict[key][1]\n",
    "            df_tennis.loc[df_tennis['loser_name']==key[1], 'loser_hand']=loser_hand_dict[key][1]\n",
    "            \n",
    "    elif 'L' in loser_hand_dict[key] or 'R' in loser_hand_dict[key]:\n",
    "        df_players.loc[df_players['whole_name']==key[1],'hand']= loser_hand_dict[key][0]"
   ]
  },
  {
   "cell_type": "code",
   "execution_count": null,
   "id": "975717e6",
   "metadata": {},
   "outputs": [],
   "source": [
    "#correct hand in df_tennis for future possible analysis\n",
    "df_tennis[df_tennis['winner_name']=='Ekaterina Makarova']['winner_hand'].unique()"
   ]
  },
  {
   "cell_type": "code",
   "execution_count": null,
   "id": "75ad9de2",
   "metadata": {},
   "outputs": [],
   "source": [
    "df_players[df_players['hand']!='U']"
   ]
  },
  {
   "cell_type": "markdown",
   "id": "ca037f3e",
   "metadata": {},
   "source": [
    "We estabilished the hand for 3804 players"
   ]
  },
  {
   "cell_type": "markdown",
   "id": "db80dd89",
   "metadata": {},
   "source": [
    "#### rank and point_rank"
   ]
  },
  {
   "cell_type": "markdown",
   "id": "92af97f0",
   "metadata": {},
   "source": [
    "For each player we define what is the best rank reached in the classification and the maximum number of points gained. To do this we analyze all the match of a player and we take respectively the minimum and the maximum value of the columns. If a player has all null values for these columns we use 0 as default value. We use a default value also to correct null values in the tennis dataset"
   ]
  },
  {
   "cell_type": "code",
   "execution_count": null,
   "id": "dede2f5d",
   "metadata": {},
   "outputs": [],
   "source": [
    "df_players['best_rank'] = 0 #default value for unknown\n",
    "df_players['best_rank_points'] = 0 #default value for unknown"
   ]
  },
  {
   "cell_type": "code",
   "execution_count": null,
   "id": "77e3aed3",
   "metadata": {},
   "outputs": [],
   "source": [
    "dict_winner_rank = df_tennis[~df_tennis['winner_rank'].isna()].groupby('winner_name', dropna=True)['winner_rank'].unique().apply(list).to_dict()\n",
    "dict_loser_rank = df_tennis[~df_tennis['loser_rank'].isna()].groupby('loser_name', dropna=True)['loser_rank'].unique().apply(list).to_dict()\n",
    "\n",
    "dict_winner_rank_points = df_tennis[~df_tennis['winner_rank_points'].isna()].groupby('winner_name', dropna=True)['winner_rank_points'].unique().apply(list).to_dict()\n",
    "dict_loser_rank_points = df_tennis[~df_tennis['loser_rank_points'].isna()].groupby('loser_name', dropna=True)['loser_rank_points'].unique().apply(list).to_dict()"
   ]
  },
  {
   "cell_type": "code",
   "execution_count": null,
   "id": "6ebd4074",
   "metadata": {},
   "outputs": [],
   "source": [
    "for index, row in  df_players.iterrows():  \n",
    "    \n",
    "    #rank\n",
    "    ranks = []\n",
    "    if row['whole_name'] in dict_winner_rank:\n",
    "        ranks = ranks + dict_winner_rank[row['whole_name']]\n",
    "    if row['whole_name'] in dict_loser_rank:\n",
    "        ranks = ranks + dict_loser_rank[row['whole_name']]\n",
    "     \n",
    "    ranks = list(dict.fromkeys(ranks))\n",
    "    if len(ranks)>0:\n",
    "        df_players.at[index, 'best_rank'] = min(ranks)\n",
    "    \n",
    "    #points\n",
    "    ranks_point = []\n",
    "    if row['whole_name'] in dict_winner_rank_points:\n",
    "        ranks_point = ranks + dict_winner_rank_points[row['whole_name']]\n",
    "    if row['whole_name'] in dict_loser_rank_points:\n",
    "        ranks_point = ranks + dict_loser_rank_points[row['whole_name']]\n",
    "    \n",
    "    ranks_point = list(dict.fromkeys(ranks_point))\n",
    "    if len(ranks_point)>0:\n",
    "        df_players.at[index, 'best_rank_points'] = max(ranks_point)\n",
    "    \n",
    "df_tennis"
   ]
  },
  {
   "cell_type": "code",
   "execution_count": null,
   "id": "bff04afb",
   "metadata": {},
   "outputs": [],
   "source": [
    "#df_players[df_players['best_rank']==1]\n",
    "df_players"
   ]
  },
  {
   "cell_type": "code",
   "execution_count": null,
   "id": "a266e87b",
   "metadata": {},
   "outputs": [],
   "source": [
    "df_tennis.loc[df_tennis['winner_rank'].isna(), 'winner_rank'] = 0\n",
    "df_tennis.loc[df_tennis['winner_rank_points'].isna(), 'winner_rank_points'] = 0\n",
    "\n",
    "df_tennis.loc[df_tennis['loser_rank'].isna(), 'loser_rank'] = 0\n",
    "df_tennis.loc[df_tennis['loser_rank_points'].isna(), 'loser_rank_points'] = 0"
   ]
  },
  {
   "cell_type": "markdown",
   "id": "9c02af7f",
   "metadata": {},
   "source": [
    "#### best of and score"
   ]
  },
  {
   "cell_type": "markdown",
   "id": "917a6e7f",
   "metadata": {},
   "source": [
    "Here we correct the best of value looking at the score and the tennis rules. If analyzing a score, a score is invalid for a best of 3 matches, but it is valid for best of 5 matches, we correct the 3 with 5. The same reasoning is done "
   ]
  },
  {
   "cell_type": "code",
   "execution_count": null,
   "id": "a49c7aec",
   "metadata": {},
   "outputs": [],
   "source": [
    "#change best of 3 in 5 if matches are valid for best of 5 (best_of not null)\n",
    "for index, row in  df_tennis[df_tennis['best_of']==3].iterrows():\n",
    "    if isinstance(row['score'], str):\n",
    "        sets = row['score'].split( )\n",
    "\n",
    "        if not validity_match(sets, 3) and validity_match(sets, 5):\n",
    "            df_tennis.loc[index, 'best_of'] = 5\n",
    "        elif validity_match(sets, 5) and not is_best_of_3(sets)and is_best_of_5(sets):\n",
    "            df_tennis.loc[index, 'best_of'] = 5\n",
    "        \n",
    "\n",
    "#change best of 5 in 3 if matches are valid for best of 3\n",
    "for index, row in  df_tennis[df_tennis['best_of']==5].iterrows():\n",
    "    if isinstance(row['score'], str):\n",
    "        sets = row['score'].split( )\n",
    "\n",
    "        if not validity_match(sets, 5) and validity_match(sets, 3):\n",
    "            df_tennis.loc[index, 'best_of'] = 3\n",
    "        elif validity_match(sets, 3) and is_best_of_3(sets) and not is_best_of_5(sets):\n",
    "            df_tennis.loc[index, 'best_of'] = 3"
   ]
  },
  {
   "cell_type": "code",
   "execution_count": null,
   "id": "7806340d",
   "metadata": {},
   "outputs": [],
   "source": [
    "df_tennis[df_tennis['best_of'].isna()]['score'].dropna()"
   ]
  },
  {
   "cell_type": "code",
   "execution_count": null,
   "id": "094172e1",
   "metadata": {},
   "outputs": [],
   "source": [
    "for index, row in  df_tennis[df_tennis['best_of'].isna()].iterrows():\n",
    "    if isinstance(row['score'], str):\n",
    "        sets = row['score'].split( )\n",
    "\n",
    "        if validity_match(sets, 3) and not validity_match(sets, 5):\n",
    "            df_tennis.loc[index, 'best_of'] = 3\n",
    "        elif not validity_match(sets, 3) and validity_match(sets, 5):\n",
    "            df_tennis.loc[index, 'best_of'] = 5\n",
    "        elif validity_match(sets, 3) and validity_match(sets, 5):\n",
    "            if is_best_of_3(sets) and not is_best_of_5(sets):\n",
    "                df_tennis.loc[index, 'best_of'] = 3\n",
    "            elif not is_best_of_3(sets) and is_best_of_5(sets):\n",
    "                df_tennis.loc[index, 'best_of'] = 5"
   ]
  },
  {
   "cell_type": "code",
   "execution_count": null,
   "id": "a804756d",
   "metadata": {},
   "outputs": [],
   "source": [
    "for index, row in df_tennis[df_tennis['best_of'].isna()][['tourney_id','tourney_name']].drop_duplicates().iterrows():\n",
    "    best_ofs = df_tennis[(df_tennis['tourney_id']==row['tourney_id']) & (df_tennis['tourney_name']==row['tourney_name'])]['best_of'].dropna().tolist()\n",
    "    values = list(dict.fromkeys(best_ofs))\n",
    "    if len(values) == 1:\n",
    "        df_tennis.loc[(df_tennis['tourney_id']==row['tourney_id']) & (df_tennis['tourney_name']==row['tourney_name']), 'best_of'] = values[0]"
   ]
  },
  {
   "cell_type": "markdown",
   "id": "499a1a8e",
   "metadata": {},
   "source": [
    "If a score is invalid following the tennis rules the value is corrected with an empty value (\"\"). We have found 5155 invalid scores"
   ]
  },
  {
   "cell_type": "code",
   "execution_count": null,
   "id": "7642018b",
   "metadata": {},
   "outputs": [],
   "source": [
    "df_tennis.loc[df_tennis['score'].isna(), 'score'] = \"\""
   ]
  },
  {
   "cell_type": "code",
   "execution_count": null,
   "id": "870e9708",
   "metadata": {},
   "outputs": [],
   "source": [
    "count = 0\n",
    "for index, row in  df_tennis.iterrows():\n",
    "    if row['score']!=\"\":\n",
    "        sets = row['score'].split()\n",
    "        if not Walkover(sets[0]) and not Bye(sets[0]) and not Retirement(sets[0]) and not Default(sets[0]) \\\n",
    "            and not validity_match(sets, 3) and not validity_match(sets, 5):\n",
    "            df_tennis.loc[index, 'score'] = \"\"\n",
    "            count +=1\n",
    "        \n",
    "count"
   ]
  },
  {
   "cell_type": "code",
   "execution_count": null,
   "id": "ce6fad13",
   "metadata": {},
   "outputs": [],
   "source": [
    "#wrong scores\n",
    "count"
   ]
  },
  {
   "cell_type": "markdown",
   "id": "454dc768",
   "metadata": {},
   "source": [
    "#### num of best of 3/5 played and wins"
   ]
  },
  {
   "cell_type": "markdown",
   "id": "cf977e61",
   "metadata": {},
   "source": [
    "For each player we count the number of matches best of 3 and best of 5 played and won counting the number of matches."
   ]
  },
  {
   "cell_type": "code",
   "execution_count": null,
   "id": "0c849c76",
   "metadata": {},
   "outputs": [],
   "source": [
    "df_players['best_of_3_match'] = 0\n",
    "df_players['best_of_5_match'] = 0\n",
    "df_players['best_of_3_wins'] = 0\n",
    "df_players['best_of_5_wins'] = 0"
   ]
  },
  {
   "cell_type": "code",
   "execution_count": null,
   "id": "2faf004a",
   "metadata": {},
   "outputs": [],
   "source": [
    "winners_best_3 = df_tennis[(df_tennis['winner_name']!=df_tennis['loser_name']) & (df_tennis['best_of']==3)]['winner_name'].tolist()\n",
    "losers_best_3 = df_tennis[(df_tennis['winner_name']!=df_tennis['loser_name']) & (df_tennis['best_of']==3)]['loser_name'].tolist()"
   ]
  },
  {
   "cell_type": "code",
   "execution_count": null,
   "id": "9ec5f99b",
   "metadata": {},
   "outputs": [],
   "source": [
    "winners_best_5 = df_tennis[(df_tennis['winner_name']!=df_tennis['loser_name']) & (df_tennis['best_of']==5)]['winner_name'].tolist()\n",
    "losers_best_5 = df_tennis[(df_tennis['winner_name']!=df_tennis['loser_name']) & (df_tennis['best_of']==5)]['loser_name'].tolist()"
   ]
  },
  {
   "cell_type": "code",
   "execution_count": null,
   "id": "5b685e16",
   "metadata": {},
   "outputs": [],
   "source": [
    "for index, row in  df_players.iterrows(): \n",
    "    num_w = winners_best_3.count(row['whole_name'])\n",
    "    num_l = losers_best_3.count(row['whole_name'])\n",
    "    \n",
    "    df_players.at[index, 'best_of_3_match'] = num_w + num_l\n",
    "    if num_w!=0:\n",
    "        df_players.at[index, 'best_of_3_wins'] = num_w\n",
    "        \n",
    "    num_w = winners_best_5.count(row['whole_name'])\n",
    "    num_l = losers_best_5.count(row['whole_name'])\n",
    "    \n",
    "    df_players.at[index, 'best_of_5_match'] = num_w + num_l\n",
    "    if num_w!=0:\n",
    "        df_players.at[index, 'best_of_5_wins'] = num_w"
   ]
  },
  {
   "cell_type": "code",
   "execution_count": null,
   "id": "2641175d",
   "metadata": {},
   "outputs": [],
   "source": [
    "df_players"
   ]
  },
  {
   "cell_type": "markdown",
   "id": "b980b9c4",
   "metadata": {},
   "source": [
    "## IOC\n",
    "\n",
    "The International Olympic Committee (IOC) uses three-letter abbreviation country codes to refer to each group of athletes participating in the Olympic Games. Each code usually identifies a National Olympic Committee.\n",
    "\n",
    "Search the dataset for the players' iocs to insert them where they are missing"
   ]
  },
  {
   "cell_type": "code",
   "execution_count": null,
   "id": "88e581e5",
   "metadata": {},
   "outputs": [],
   "source": [
    "df_players.insert(2, 'ioc', None)"
   ]
  },
  {
   "cell_type": "code",
   "execution_count": null,
   "id": "8c4ce322",
   "metadata": {
    "scrolled": false
   },
   "outputs": [],
   "source": [
    "for index, row in df_players.iterrows():\n",
    "    ioc = None\n",
    "    if df_tennis[df_tennis['winner_id'] == row['id']][['winner_ioc']].shape[0] > 0:\n",
    "        ioc = df_tennis[df_tennis['winner_id'] == row['id']][['winner_ioc']].iloc[0]\n",
    "    if ioc is None:    \n",
    "        if df_tennis[df_tennis['loser_id'] == row['id']][['loser_ioc']].shape[0] > 0:\n",
    "            ioc = df_tennis[df_tennis['loser_id'] == row['id']][['loser_ioc']].iloc[0]\n",
    "    df_players.loc[df_players['id']==row['id'], 'ioc']=ioc.iloc[0]\n",
    "    # for speedup debug uncomment...\n",
    "    #if index == 100:\n",
    "    #    break\n",
    "df_players[~df_players['ioc'].isnull()]"
   ]
  },
  {
   "cell_type": "markdown",
   "id": "3ebc6f36",
   "metadata": {},
   "source": [
    "#### surface\n",
    "It inserts the surface where it is missing, it takes the surface from other matches of the same tournament. <br />\n",
    "Where it fails it puts unknown"
   ]
  },
  {
   "cell_type": "code",
   "execution_count": null,
   "id": "d2249b41",
   "metadata": {},
   "outputs": [],
   "source": [
    "# prepare a dictionary of tourney_name and surface where there are no null\n",
    "df_surface = df_tennis[['tourney_name','surface']].drop_duplicates().dropna()\n",
    "surface_dict = df_surface.set_index('tourney_name').to_dict()['surface']\n",
    "\n",
    "# set the null value with the value found for the same tournament\n",
    "null_surface = df_tennis.surface.isna()\n",
    "df_tennis.loc[null_surface, 'surface'] = df_tennis.tourney_name.map(surface_dict)\n",
    "\n",
    "\n",
    "# set the remaining surface null to unknown\n",
    "df_tennis.loc[df_tennis['surface'].isna(), ['surface']]='unknown'\n",
    "\n",
    "# print the result\n",
    "df_tennis['surface'].value_counts().sort_index()"
   ]
  },
  {
   "cell_type": "markdown",
   "id": "ca1c162d",
   "metadata": {},
   "source": [
    "#### draw_size\n",
    "It inserts the draw_size where it is missing, it takes the draw_size from other matches of the same tournament. <br />\n",
    "Where it fails it puts -1"
   ]
  },
  {
   "cell_type": "code",
   "execution_count": null,
   "id": "334e3d72",
   "metadata": {},
   "outputs": [],
   "source": [
    "# prepare a dictionary of tourney_name and draw_size where there are no null\n",
    "df_draw_size = df_tennis[['tourney_name','draw_size']].drop_duplicates().dropna()\n",
    "draw_size_dict = df_draw_size.set_index('tourney_name').to_dict()['draw_size']\n",
    "\n",
    "# set the null value with the value found for the same tournament\n",
    "null_draw_size = df_tennis.draw_size.isna()\n",
    "df_tennis.loc[null_draw_size, 'draw_size'] = df_tennis.tourney_name.map(draw_size_dict)\n",
    "\n",
    "\n",
    "# set the remaining draw_size null to -1\n",
    "df_tennis.loc[df_tennis['draw_size'].isna(), ['draw_size']] = -1\n",
    "\n",
    "# print the result\n",
    "df_tennis['draw_size'].value_counts().sort_index()"
   ]
  },
  {
   "cell_type": "markdown",
   "id": "0aa7060e",
   "metadata": {},
   "source": [
    "#### tourney_level\n",
    "It inserts the tourney_level where it is missing, it takes the tourney_level from other matches of the same tournament. <br />\n",
    "Where it fails it puts unknown"
   ]
  },
  {
   "cell_type": "code",
   "execution_count": null,
   "id": "f0bc3f38",
   "metadata": {},
   "outputs": [],
   "source": [
    "# prepare a dictionary of tourney_name and tourney_level where there are no null\n",
    "df_tourney_level = df_tennis[['tourney_name','tourney_level']].drop_duplicates().dropna()\n",
    "tourney_level_dict = df_tourney_level.set_index('tourney_name').to_dict()['tourney_level']\n",
    "\n",
    "# set the null value with the value found for the same tournament\n",
    "null_tourney_level = df_tennis.tourney_level.isna()\n",
    "df_tennis.loc[null_tourney_level, 'tourney_level'] = df_tennis.tourney_name.map(tourney_level_dict)\n",
    "\n",
    "\n",
    "# set the remaining tourney_level null to unknown\n",
    "df_tennis.loc[df_tennis['tourney_level'].isna(), ['tourney_level']] = 'unknown'\n",
    "\n",
    "# print the result\n",
    "df_tennis['tourney_level'].value_counts().sort_index()"
   ]
  },
  {
   "cell_type": "markdown",
   "id": "9b586d36",
   "metadata": {},
   "source": [
    "#### match_num\n",
    "In this part, we extract statistics on a match played and winned for each year and the null values are replaced with -1."
   ]
  },
  {
   "cell_type": "code",
   "execution_count": null,
   "id": "6ec4e075",
   "metadata": {
    "scrolled": false
   },
   "outputs": [],
   "source": [
    "# set the null value to -1\n",
    "df_tennis.loc[df_tennis['match_num'].isna(), 'match_num'] = -1\n",
    "df_tennis[df_tennis['match_num'].isnull()]"
   ]
  },
  {
   "cell_type": "code",
   "execution_count": null,
   "id": "124fa731",
   "metadata": {},
   "outputs": [],
   "source": [
    "df_players['m_16'] = -1\n",
    "df_players['w_16'] = -1\n",
    "df_players['m_17'] = -1\n",
    "df_players['w_17'] = -1\n",
    "df_players['m_18'] = -1\n",
    "df_players['w_18'] = -1\n",
    "df_players['m_19'] = -1\n",
    "df_players['w_19'] = -1\n",
    "df_players['m_20'] = -1\n",
    "df_players['w_20'] = -1\n",
    "df_players['m_21'] = -1\n",
    "df_players['w_21'] = -1"
   ]
  },
  {
   "cell_type": "code",
   "execution_count": null,
   "id": "2094fecc",
   "metadata": {
    "scrolled": false
   },
   "outputs": [],
   "source": [
    "years = ['2016', '2017', '2018', '2019', '2020', '2021']\n",
    "df_tmp = df_tennis[['tourney_id', 'winner_id', 'loser_id']]\n",
    "year = df_tmp['tourney_id'].map(lambda x: x[0:4] if x[0:4] in years else x)\n",
    "df_tmp['year'] = year\n",
    "df_tmp.drop(columns = 'tourney_id')\n",
    "\n",
    "w_count = df_tmp.groupby(by = ['winner_id', 'year'])['tourney_id'].count().reset_index(name=\"count\")\n",
    "l_count = df_tmp.groupby(by = ['loser_id', 'year'])['tourney_id'].count().reset_index(name=\"count\")\n",
    "\n",
    "for player in df_players['id']:\n",
    "    for year in years:\n",
    "        col_name_m = 'm_' + year[2:4]\n",
    "        col_name_w = 'w_' + year[2:4]\n",
    "        winned_match = w_count[(w_count['winner_id'] == player) & (w_count['year'] == year)]['count']\n",
    "        losed_match = l_count[(l_count['loser_id'] == player) & (l_count['year'] == year)]['count']\n",
    "        if (len(winned_match)):\n",
    "            winned_match = int(winned_match)\n",
    "            df_players.loc[df_players['id'] == player, col_name_w] = winned_match\n",
    "        else:\n",
    "            winned_match = 0\n",
    "        if (len(losed_match)):\n",
    "            losed_match = int(losed_match)\n",
    "            df_players.loc[df_players['id'] == player, col_name_m] = winned_match + losed_match"
   ]
  },
  {
   "cell_type": "code",
   "execution_count": null,
   "id": "ca9bae2a",
   "metadata": {},
   "outputs": [],
   "source": [
    "df_players"
   ]
  },
  {
   "cell_type": "markdown",
   "id": "3dc1229b",
   "metadata": {},
   "source": [
    "#### tourney_spectators\n",
    "It inserts the tourney_spectators where it is missing, it takes the tourney_spectators from other matches of the same tournament. <br />\n",
    "Where it fails it puts -1"
   ]
  },
  {
   "cell_type": "code",
   "execution_count": null,
   "id": "fce567db",
   "metadata": {},
   "outputs": [],
   "source": [
    "# prepare a dictionary of tourney_name and tourney_spectators where there are no null\n",
    "df_tourney_spectators = df_tennis[['tourney_name','tourney_spectators']].drop_duplicates().dropna()\n",
    "tourney_spectators_dict = df_tourney_spectators.set_index('tourney_name').to_dict()['tourney_spectators']\n",
    "\n",
    "# set the null value with the value found for the same tournament\n",
    "null_tourney_spectators = df_tennis.tourney_spectators.isna()\n",
    "df_tennis.loc[null_tourney_spectators, 'tourney_spectators'] = df_tennis.tourney_name.map(tourney_spectators_dict)\n",
    "\n",
    "df_tennis.loc[df_tennis['tourney_spectators'].isna(), ['tourney_spectators']] = -1\n",
    "\n",
    "\n",
    "df_tennis[df_tennis['tourney_spectators'].isnull()]"
   ]
  },
  {
   "cell_type": "markdown",
   "id": "f8a17fce",
   "metadata": {},
   "source": [
    "#### tourney_date\n",
    "Set date in last tournament Taipei, the only tournement where date is missing."
   ]
  },
  {
   "cell_type": "code",
   "execution_count": null,
   "id": "817bb18d",
   "metadata": {
    "scrolled": true
   },
   "outputs": [],
   "source": [
    "# The only tournament that has some matches with null date is the last one in Taipei in the dataframe. \n",
    "# Let's put the date 20171113.0 that corresponds to the matches of that tournament\n",
    "df_tennis.loc[(df_tennis['tourney_name'] == 'Taipei') & (df_tennis['tourney_date'].isnull()), 'tourney_date'] = '20171113.0'\n",
    "df_tennis[df_tennis['tourney_date'].isnull()]"
   ]
  },
  {
   "cell_type": "markdown",
   "id": "e0b00142",
   "metadata": {},
   "source": [
    "#### round"
   ]
  },
  {
   "cell_type": "markdown",
   "id": "a7318c84",
   "metadata": {},
   "source": [
    "Using the column *round* has been possible to understand how much tourney the player has won. Looking for the rows in which his\\she is the winner and round has value 'F'."
   ]
  },
  {
   "cell_type": "code",
   "execution_count": null,
   "id": "906bba37",
   "metadata": {
    "scrolled": false
   },
   "outputs": [],
   "source": [
    "# set the null value to u (unkown)\n",
    "df_tennis.loc[df_tennis['round'].isna(), 'round'] = 'U'\n",
    "df_tennis[df_tennis['round'].isnull()]"
   ]
  },
  {
   "cell_type": "code",
   "execution_count": null,
   "id": "bd2e5c8c",
   "metadata": {},
   "outputs": [],
   "source": [
    "df_players['w_tourney'] = 0\n",
    "winned_finals = df_tennis[(~df_tennis['round'].isnull()) & (df_tennis['round'] == 'F')].groupby('winner_name')['round'].agg('count').to_dict()\n",
    "for player in winned_finals.keys():\n",
    "    df_players.loc[df_players['whole_name'] == player, 'w_tourney'] = winned_finals[player]"
   ]
  },
  {
   "cell_type": "code",
   "execution_count": null,
   "id": "d41e64bf",
   "metadata": {},
   "outputs": [],
   "source": [
    "df_players"
   ]
  },
  {
   "cell_type": "markdown",
   "id": "937b81a5",
   "metadata": {},
   "source": [
    "#### tourney_revenue\n",
    "It inserts the tourney_revenue where it is missing, it takes the tourney_revenue from other matches of the same tournament. <br />\n",
    "Where it fails it puts unknown"
   ]
  },
  {
   "cell_type": "code",
   "execution_count": null,
   "id": "51c4f8ff",
   "metadata": {},
   "outputs": [],
   "source": [
    "# prepare a dictionary of tourney_name and tourney_revenue where there are no null\n",
    "df_tourney_revenue = df_tennis[['tourney_name','tourney_revenue']].drop_duplicates().dropna()\n",
    "tourney_revenue_dict = df_tourney_revenue.set_index('tourney_name').to_dict()['tourney_revenue']\n",
    "\n",
    "# set the null value with the value found for the same tournament\n",
    "null_tourney_revenue = df_tennis.tourney_revenue.isna()\n",
    "df_tennis.loc[null_tourney_revenue, 'tourney_revenue'] = df_tennis.tourney_name.map(tourney_revenue_dict)\n",
    "\n",
    "\n",
    "df_tennis[df_tennis['tourney_revenue'].isnull()]"
   ]
  },
  {
   "cell_type": "markdown",
   "id": "853b7d9c",
   "metadata": {},
   "source": [
    "#### minutes"
   ]
  },
  {
   "cell_type": "markdown",
   "id": "f3539918",
   "metadata": {},
   "source": [
    "We try to remove outliers in the minutes of matches and to do this we used the threashold given by longest matches in the tennis history. To correct outliers and nulls, if the score is a valid score, we have estimate a the duration of the match calculating an average number of minutes for the games and looking at the number of games played in the matche we calculate the minutes. If the score is not valid we have used the mean of minutes for best of 3 or best of 5 matches looking at the best of value."
   ]
  },
  {
   "cell_type": "code",
   "execution_count": null,
   "id": "99f49be1",
   "metadata": {},
   "outputs": [],
   "source": [
    "#use of current world records of time\n",
    "df_tennis.loc[(df_tennis['minutes'] > 391) & (df_tennis['best_of']==3), 'minutes'] = np.nan \n",
    "df_tennis.loc[(df_tennis['minutes'] > 665) & (df_tennis['best_of']==5), 'minutes'] = np.nan "
   ]
  },
  {
   "cell_type": "code",
   "execution_count": null,
   "id": "09dd1dcd",
   "metadata": {},
   "outputs": [],
   "source": [
    "avg_time_best_of_3 = df_tennis[df_tennis['best_of']==3]['minutes'].mean() #mean after correction of errors\n",
    "avg_time_best_of_5 = df_tennis[df_tennis['best_of']==5]['minutes'].mean() #mean after correction of errors"
   ]
  },
  {
   "cell_type": "code",
   "execution_count": null,
   "id": "10538664",
   "metadata": {},
   "outputs": [],
   "source": [
    "#calculate the avg time for a game\n",
    "number_games = 0\n",
    "total_minutes = 0\n",
    "\n",
    "for index, row in df_tennis[~df_tennis['minutes'].isna()].iterrows():\n",
    "    if validity_match(row['score'].split(), row['best_of']):\n",
    "        num = count_games(row['score'])\n",
    "        if num >= 0:\n",
    "            number_games += num\n",
    "            total_minutes += row['minutes'] #not null because iterrows"
   ]
  },
  {
   "cell_type": "code",
   "execution_count": null,
   "id": "9e6678d5",
   "metadata": {},
   "outputs": [],
   "source": [
    "minutes_per_game = total_minutes/number_games\n",
    "minutes_per_game"
   ]
  },
  {
   "cell_type": "code",
   "execution_count": null,
   "id": "e0226a68",
   "metadata": {},
   "outputs": [],
   "source": [
    "for index, row in df_tennis[(df_tennis['minutes'].isna()) & (df_tennis['score']!=\"\")].iterrows():\n",
    "    sets = row['score'].split()\n",
    "    if len(sets) == 0:\n",
    "        continue\n",
    "    elif len(sets)==1 and Retirement(sets[0]) or Default(sets[0]) or Bye(sets[0]) or Walkover(sets[0]):\n",
    "        df_tennis.loc[index, 'minutes'] = 0\n",
    "    elif len(sets)>=1 and validity_match(row['score'].split(), row['best_of']):\n",
    "        df_tennis.loc[index, 'minutes'] = count_games(row['score']) * minutes_per_game"
   ]
  },
  {
   "cell_type": "code",
   "execution_count": null,
   "id": "3ebba9e6",
   "metadata": {},
   "outputs": [],
   "source": [
    "for index, row in df_tennis[(df_tennis['minutes']==0) & (df_tennis['score']!=\"\")].iterrows():\n",
    "    if IsMatchWithZeroIncorrect(row['score'])==True:\n",
    "        sets = row['score'].split()\n",
    "        if len(sets) == 0:\n",
    "            continue\n",
    "        elif len(sets)==1 and Retirement(sets[0]) or Default(sets[0]) or Bye(sets[0]) or Walkover(sets[0]):\n",
    "            df_tennis.loc[index, 'minutes'] = 0\n",
    "        elif len(sets)>=1 and validity_match(row['score'].split(), row['best_of']):\n",
    "            df_tennis.loc[index, 'minutes'] = count_games(row['score']) * minutes_per_game"
   ]
  },
  {
   "cell_type": "code",
   "execution_count": null,
   "id": "37472ab2",
   "metadata": {},
   "outputs": [],
   "source": [
    "df_tennis.loc[(df_tennis['minutes'].isna()) & (df_tennis['best_of']==3), 'minutes'] = avg_time_best_of_3\n",
    "df_tennis.loc[(df_tennis['minutes'].isna()) & (df_tennis['best_of']==5), 'minutes'] = avg_time_best_of_5"
   ]
  },
  {
   "cell_type": "code",
   "execution_count": null,
   "id": "c5df3660",
   "metadata": {},
   "outputs": [],
   "source": [
    "df_tennis.loc[df_tennis['minutes'].isna()]"
   ]
  },
  {
   "cell_type": "markdown",
   "id": "ad680538",
   "metadata": {},
   "source": [
    "In the player dataset, we insert for each player the total minutes played (as winner or loser) summing the minutes of all their matches"
   ]
  },
  {
   "cell_type": "code",
   "execution_count": null,
   "id": "a2ac35b7",
   "metadata": {},
   "outputs": [],
   "source": [
    "#statistics players: number of minutes xe played in total\n",
    "df_players['tot_minutes'] = 0"
   ]
  },
  {
   "cell_type": "code",
   "execution_count": null,
   "id": "2b18f265",
   "metadata": {},
   "outputs": [],
   "source": [
    "minutes_dict = df_tennis[df_tennis['minutes']>=0].groupby('winner_name')['minutes'].apply(list).to_dict()\n",
    "for key in minutes_dict.keys():\n",
    "    minutes_dict[key]= sum(minutes_dict[key])"
   ]
  },
  {
   "cell_type": "code",
   "execution_count": null,
   "id": "70b115de",
   "metadata": {},
   "outputs": [],
   "source": [
    "keys = minutes_dict.keys()"
   ]
  },
  {
   "cell_type": "code",
   "execution_count": null,
   "id": "cd9ed87a",
   "metadata": {},
   "outputs": [],
   "source": [
    "loser_dict = df_tennis[df_tennis['minutes']>=0].groupby('loser_name')['minutes'].apply(list).to_dict()\n",
    "for key in loser_dict.keys():\n",
    "    loser_dict[key]= sum(loser_dict[key])\n",
    "    if key in keys:\n",
    "        minutes_dict[key] = minutes_dict[key] + loser_dict[key]\n",
    "    else:\n",
    "        minutes_dict[key] = loser_dict[key]"
   ]
  },
  {
   "cell_type": "code",
   "execution_count": null,
   "id": "d74d746f",
   "metadata": {},
   "outputs": [],
   "source": [
    "for key in minutes_dict.keys():\n",
    "    df_players.loc[df_players['whole_name']==key, 'tot_minutes'] = minutes_dict[key]"
   ]
  },
  {
   "cell_type": "code",
   "execution_count": null,
   "id": "0c9162f8",
   "metadata": {},
   "outputs": [],
   "source": [
    "df_players"
   ]
  },
  {
   "cell_type": "markdown",
   "id": "2e66b3ac",
   "metadata": {},
   "source": [
    "#### winner_id"
   ]
  },
  {
   "cell_type": "code",
   "execution_count": null,
   "id": "dab3efea",
   "metadata": {},
   "outputs": [],
   "source": [
    "df_tennis[df_tennis['winner_id'].isnull()]"
   ]
  },
  {
   "cell_type": "markdown",
   "id": "1ff3ce64",
   "metadata": {},
   "source": [
    "#### loser_id"
   ]
  },
  {
   "cell_type": "code",
   "execution_count": null,
   "id": "2a56c76d",
   "metadata": {
    "scrolled": true
   },
   "outputs": [],
   "source": [
    "df_tennis[df_tennis['loser_id'].isnull()][\"loser_name\"]\n",
    "df_tennis['winner_entry'].unique()"
   ]
  },
  {
   "cell_type": "markdown",
   "id": "1c87c645",
   "metadata": {},
   "source": [
    "#### winner_entry"
   ]
  },
  {
   "cell_type": "code",
   "execution_count": null,
   "id": "8f5e4e26",
   "metadata": {},
   "outputs": [],
   "source": [
    "df_tennis[df_tennis['loser_entry'].isnull()]"
   ]
  },
  {
   "cell_type": "code",
   "execution_count": null,
   "id": "48d99164",
   "metadata": {},
   "outputs": [],
   "source": [
    "df_tennis['winner_entry'].fillna(value='U', inplace=True)"
   ]
  },
  {
   "cell_type": "markdown",
   "id": "4adccf4d",
   "metadata": {},
   "source": [
    "#### loser_entry"
   ]
  },
  {
   "cell_type": "code",
   "execution_count": null,
   "id": "b3eca3c5",
   "metadata": {},
   "outputs": [],
   "source": [
    "df_tennis[df_tennis['loser_entry'].isnull()]"
   ]
  },
  {
   "cell_type": "code",
   "execution_count": null,
   "id": "68a5a7e0",
   "metadata": {},
   "outputs": [],
   "source": [
    "df_tennis['loser_entry'].fillna(value='U', inplace=True)"
   ]
  },
  {
   "cell_type": "markdown",
   "id": "74e6258e",
   "metadata": {},
   "source": [
    "#### winner_ioc\n",
    "\n",
    "Search the dataset for the players' iocs to insert them where they are missing"
   ]
  },
  {
   "cell_type": "code",
   "execution_count": null,
   "id": "c404e511",
   "metadata": {},
   "outputs": [],
   "source": [
    "# I take the winner_ioc null, of these I take winner_id and winner_name, \n",
    "# and for each one I search in the dataset and I complete\n",
    "df_winner_ioc = df_tennis[\n",
    "    (df_tennis['winner_ioc'].isnull()) & \n",
    "    (\n",
    "        (df_tennis['winner_name']!='unknown') | (df_tennis['winner_id'].notnull())\n",
    "    )\n",
    "][[\"winner_id\", \"winner_name\"]].drop_duplicates()\n",
    "\n",
    "# iterate over winner_ioc\n",
    "for index, row in df_winner_ioc.iterrows():\n",
    "    tmp_w_ioc = None\n",
    "    \n",
    "    if row['winner_id'] is not None:\n",
    "        # if winner_id is not null use it\n",
    "        tmp_w_ioc = df_tennis[(df_tennis['winner_id']==row['winner_id']) & (df_tennis['winner_ioc'].notnull())]['winner_ioc'].iloc[0]\n",
    "        df_tennis.loc[df_tennis['winner_id']==row['winner_id'], ['winner_ioc']] = tmp_w_ioc        \n",
    "    else:\n",
    "        # if winner_id is null use winner_name\n",
    "        tmp_w_ioc = df_tennis[(df_tennis['winner_name']==row['winner_name']) & (df_tennis['winner_ioc'].notnull())]['winner_ioc'].iloc[0]    \n",
    "        df_tennis.loc[df_tennis['winner_name']==row['winner_name'], ['winner_ioc']] = tmp_w_ioc\n",
    "\n",
    "df_tennis.loc[df_tennis['winner_ioc'].isnull(),'winner_ioc']='unknown'    \n",
    "df_winner_ioc = df_tennis[((df_tennis['winner_ioc']=='unknown'))][[\"tourney_id\",\"tourney_name\", \"winner_id\", \"winner_name\", \"winner_ioc\", \"loser_id\", \"loser_name\", \"loser_ioc\"]]\n",
    "df_winner_ioc"
   ]
  },
  {
   "cell_type": "markdown",
   "id": "f1695bb1",
   "metadata": {},
   "source": [
    "#### loser_ioc\n",
    "Search the dataset for the players' iocs to insert them where they are missing"
   ]
  },
  {
   "cell_type": "code",
   "execution_count": null,
   "id": "a57e5c9f",
   "metadata": {
    "scrolled": false
   },
   "outputs": [],
   "source": [
    "# I take the loser_ioc null, of these I take loser_id and loser_name, \n",
    "# and for each one I search in the dataset and I complete\n",
    "df_loser_ioc = df_tennis[\n",
    "    (df_tennis['loser_ioc'].isnull()) & \n",
    "    (\n",
    "        (df_tennis['loser_name']!='unknown') | (df_tennis['loser_id'].notnull())\n",
    "    )\n",
    "][[\"loser_id\", \"loser_name\"]].drop_duplicates()\n",
    "\n",
    "# iterate over loser_ioc\n",
    "for index, row in df_loser_ioc.iterrows():\n",
    "    tmp_l_ioc = None\n",
    "    # if loser_id is not null use it\n",
    "    if row['loser_id'] is not None:\n",
    "        tmp_l_ioc = df_tennis[\n",
    "            (df_tennis['loser_id']==row['loser_id']) & \n",
    "           (df_tennis['loser_ioc'].notnull())]['loser_ioc'].iloc[0]\n",
    "        df_tennis.loc[df_tennis['loser_id']==row['loser_id'], ['loser_ioc']] = tmp_l_ioc\n",
    "    # if loser_id is null use loser_name\n",
    "    else:\n",
    "        tmp_l_ioc = df_tennis[\n",
    "                (df_tennis['loser_name']==row['loser_name']) & \n",
    "                (df_tennis['loser_ioc'].notnull())]['loser_ioc'].iloc[0]    \n",
    "        df_tennis.loc[df_tennis['loser_name']==row['loser_name'], ['loser_ioc']] = tmp_l_ioc\n",
    "    #print(tmp_l_ioc)\n",
    "\n",
    "df_tennis.loc[df_tennis['loser_ioc'].isnull(),'loser_ioc']='unknown'    \n",
    "df_loser_ioc = df_tennis[((df_tennis['loser_ioc']=='unknown'))][[\"tourney_id\",\"tourney_name\", \"winner_id\", \"winner_name\", \"winner_ioc\", \"loser_id\", \"loser_name\", \"loser_ioc\"]]\n",
    "df_loser_ioc"
   ]
  },
  {
   "cell_type": "markdown",
   "id": "c22736ef",
   "metadata": {},
   "source": [
    "#### winner_ht and loser_ht\n",
    "\n"
   ]
  },
  {
   "cell_type": "code",
   "execution_count": null,
   "id": "d47301b0",
   "metadata": {},
   "outputs": [],
   "source": [
    "bp = pd.DataFrame.boxplot(df_tennis['winner_ht'], return_type='dict')"
   ]
  },
  {
   "cell_type": "code",
   "execution_count": null,
   "id": "ec4bcdd5",
   "metadata": {},
   "outputs": [],
   "source": [
    "outliers_ht = [flier.get_ydata() for flier in bp[\"fliers\"]][0]\n",
    "outliers_ht = list(dict.fromkeys(outliers_ht))"
   ]
  },
  {
   "cell_type": "code",
   "execution_count": null,
   "id": "0fef9b2c",
   "metadata": {},
   "outputs": [],
   "source": [
    "w_names = df_tennis[df_tennis['winner_ht'].isin(outliers_ht)]['winner_name'].unique().tolist()"
   ]
  },
  {
   "cell_type": "code",
   "execution_count": null,
   "id": "3ad7f426",
   "metadata": {},
   "outputs": [],
   "source": [
    "l_names = df_tennis[df_tennis['loser_ht'].isin(outliers_ht)]['loser_name'].unique().tolist()"
   ]
  },
  {
   "cell_type": "code",
   "execution_count": null,
   "id": "07e21518",
   "metadata": {},
   "outputs": [],
   "source": [
    "w_names.sort() == l_names.sort() #True"
   ]
  },
  {
   "cell_type": "code",
   "execution_count": null,
   "id": "6d00b6a8",
   "metadata": {},
   "outputs": [],
   "source": [
    "df_tennis.loc[df_tennis['winner_name'].isin(w_names), 'winner_ht'] = np.nan\n",
    "df_tennis.loc[df_tennis['loser_name'].isin(w_names), 'loser_ht'] = np.nan"
   ]
  },
  {
   "cell_type": "code",
   "execution_count": null,
   "id": "5e990786",
   "metadata": {},
   "outputs": [],
   "source": [
    "male_names = df_players[df_players['sex']=='M']['whole_name'].tolist()\n",
    "female_names = df_players[df_players['sex']=='F']['whole_name'].tolist()"
   ]
  },
  {
   "cell_type": "code",
   "execution_count": null,
   "id": "40ddb7d5",
   "metadata": {},
   "outputs": [],
   "source": [
    "#corrections using sex and ioc"
   ]
  },
  {
   "cell_type": "code",
   "execution_count": null,
   "id": "27c6f4d8",
   "metadata": {},
   "outputs": [],
   "source": [
    "df_ht = pd.concat([df_tennis[['winner_name', 'winner_ht', 'winner_ioc']].rename(columns={\"winner_name\": \"name\", \"winner_ht\": \"ht\", \"winner_ioc\": \"ioc\"}), df_tennis[['loser_name', 'loser_ht', 'loser_ioc']].rename(columns={\"loser_name\": \"name\", \"loser_ht\": \"ht\", \"loser_ioc\": \"ioc\"})]).drop_duplicates()"
   ]
  },
  {
   "cell_type": "code",
   "execution_count": null,
   "id": "e5d66da5",
   "metadata": {},
   "outputs": [],
   "source": [
    "df_ht"
   ]
  },
  {
   "cell_type": "code",
   "execution_count": null,
   "id": "26b9c296",
   "metadata": {
    "scrolled": true
   },
   "outputs": [],
   "source": [
    "male_avg_ht = df_ht[(df_ht['name'].isin(male_names))].groupby('ioc').mean().reset_index()"
   ]
  },
  {
   "cell_type": "code",
   "execution_count": null,
   "id": "555136d0",
   "metadata": {},
   "outputs": [],
   "source": [
    "for index, row in male_avg_ht[~male_avg_ht['ht'].isna()].iterrows():\n",
    "    df_tennis.loc[(df_tennis['winner_ht'].isna()) & (df_tennis['winner_name'].isin(male_names)) & (df_tennis['winner_ioc']==row['ioc']), 'winner_ht']=row['ht']\n",
    "    df_tennis.loc[(df_tennis['loser_ht'].isna()) & (df_tennis['loser_name'].isin(male_names)) & (df_tennis['loser_ioc']==row['ioc']), 'loser_ht']=row['ht']"
   ]
  },
  {
   "cell_type": "code",
   "execution_count": null,
   "id": "eaaa5f4a",
   "metadata": {},
   "outputs": [],
   "source": [
    "female_avg_ht = df_ht[(df_ht['name'].isin(female_names))].groupby('ioc').mean().reset_index()"
   ]
  },
  {
   "cell_type": "code",
   "execution_count": null,
   "id": "56462f53",
   "metadata": {},
   "outputs": [],
   "source": [
    "for index, row in female_avg_ht[~female_avg_ht['ht'].isna()].iterrows():\n",
    "    df_tennis.loc[(df_tennis['winner_ht'].isna()) & (df_tennis['winner_name'].isin(female_names)) & (df_tennis['winner_ioc']==row['ioc']), 'winner_ht']=row['ht']\n",
    "    df_tennis.loc[(df_tennis['loser_ht'].isna()) & (df_tennis['loser_name'].isin(female_names)) & (df_tennis['loser_ioc']==row['ioc']), 'loser_ht']=row['ht']"
   ]
  },
  {
   "cell_type": "code",
   "execution_count": null,
   "id": "3aef2132",
   "metadata": {},
   "outputs": [],
   "source": [
    "generic_avg_ht = df_ht[(df_ht['name'].isin(female_names))].groupby('ioc').mean().reset_index()"
   ]
  },
  {
   "cell_type": "code",
   "execution_count": null,
   "id": "ee4d0828",
   "metadata": {},
   "outputs": [],
   "source": [
    "for index, row in generic_avg_ht[~generic_avg_ht['ht'].isna()].iterrows():\n",
    "    df_tennis.loc[(df_tennis['winner_ht'].isna()) & (df_tennis['winner_ioc']==row['ioc']), 'winner_ht']=row['ht']\n",
    "    df_tennis.loc[(df_tennis['loser_ht'].isna()) & (df_tennis['loser_ioc']==row['ioc']), 'loser_ht']=row['ht']"
   ]
  },
  {
   "cell_type": "code",
   "execution_count": null,
   "id": "f23d8100",
   "metadata": {},
   "outputs": [],
   "source": [
    "#correction using sex"
   ]
  },
  {
   "cell_type": "code",
   "execution_count": null,
   "id": "042831f1",
   "metadata": {},
   "outputs": [],
   "source": [
    "male_mean = df_ht[df_ht['name'].isin(male_names)]['ht'].mean()"
   ]
  },
  {
   "cell_type": "code",
   "execution_count": null,
   "id": "3e32355f",
   "metadata": {},
   "outputs": [],
   "source": [
    "female_mean = df_ht[df_ht['name'].isin(female_names)]['ht'].mean()"
   ]
  },
  {
   "cell_type": "code",
   "execution_count": null,
   "id": "e1df9891",
   "metadata": {},
   "outputs": [],
   "source": [
    "df_tennis.loc[(df_tennis['winner_ht'].isna()) & (df_tennis['winner_name'].isin(male_names)), 'winner_ht']=male_mean\n",
    "df_tennis.loc[(df_tennis['loser_ht'].isna()) & (df_tennis['loser_name'].isin(male_names)), 'loser_ht']=male_mean"
   ]
  },
  {
   "cell_type": "code",
   "execution_count": null,
   "id": "b5b4f825",
   "metadata": {},
   "outputs": [],
   "source": [
    "df_tennis.loc[(df_tennis['winner_ht'].isna()) & (df_tennis['winner_name'].isin(female_names)), 'winner_ht']=female_mean\n",
    "df_tennis.loc[(df_tennis['loser_ht'].isna()) & (df_tennis['loser_name'].isin(female_names)), 'loser_ht']=female_mean"
   ]
  },
  {
   "cell_type": "code",
   "execution_count": null,
   "id": "b5710b45",
   "metadata": {},
   "outputs": [],
   "source": [
    "df_players['height'] = -1"
   ]
  },
  {
   "cell_type": "code",
   "execution_count": null,
   "id": "3f9dd879",
   "metadata": {},
   "outputs": [],
   "source": [
    "df_tennis['loser_ht'].fillna(value=df_ht['ht'].mean(), inplace=True) "
   ]
  },
  {
   "cell_type": "code",
   "execution_count": null,
   "id": "19a82ff2",
   "metadata": {},
   "outputs": [],
   "source": [
    "df_tennis['winner_ht'].fillna(value=df_ht['ht'].mean(), inplace=True) "
   ]
  },
  {
   "cell_type": "code",
   "execution_count": null,
   "id": "e45e362c",
   "metadata": {},
   "outputs": [],
   "source": [
    "df_tennis['winner_ht'] = df_tennis['winner_ht'].map(round_2)\n",
    "df_tennis['loser_ht'] = df_tennis['loser_ht'].map(round_2)"
   ]
  },
  {
   "cell_type": "code",
   "execution_count": null,
   "id": "3ed09d5a",
   "metadata": {},
   "outputs": [],
   "source": [
    "win_name_ht = dict(zip(df_tennis.winner_name, df_tennis.winner_ht))\n",
    "loser_name_ht = dict(zip(df_tennis.loser_name, df_tennis.loser_ht))\n",
    "\n",
    "names_ht_dict = win_name_ht.copy()\n",
    "names_ht_dict.update(loser_name_ht)"
   ]
  },
  {
   "cell_type": "code",
   "execution_count": null,
   "id": "4a47c215",
   "metadata": {},
   "outputs": [],
   "source": [
    "for index, row in df_players.iterrows():\n",
    "    if row['whole_name'] in names_ht_dict:\n",
    "        df_players.loc[index, 'height'] = names_ht_dict[row['whole_name']]"
   ]
  },
  {
   "cell_type": "markdown",
   "id": "4d909029",
   "metadata": {},
   "source": [
    "### AGE\n",
    "\n",
    "Age is expressed in days from birth. Where it is missing is calculated using a set value, calculating the date of birth and making the difference with the date of the tournament and recalculating the days"
   ]
  },
  {
   "cell_type": "code",
   "execution_count": null,
   "id": "cdb79fbc",
   "metadata": {},
   "outputs": [],
   "source": [
    "age_limit = 80\n",
    "df_tennis.loc[df_tennis['winner_age'] > age_limit, 'winner_age'] = np.nan\n",
    "df_tennis.loc[df_tennis['loser_age'] > age_limit, 'loser_age'] = np.nan\n",
    "\n",
    "df_tennis_tmp = df_tennis.copy()\n",
    "\n",
    "winner = df_tennis_tmp[df_tennis_tmp['winner_age'].isnull() & df_tennis_tmp['tourney_date'].notnull()]['winner_name'].drop_duplicates().tolist()\n",
    "loser  = df_tennis_tmp[df_tennis_tmp['loser_age'].isnull() & df_tennis_tmp['tourney_date'].notnull()]['loser_name'].drop_duplicates().tolist()\n",
    "merged = list(set(winner + loser))\n",
    "\n",
    "for pl_name in merged:\n",
    "    tourney_date = None\n",
    "    pl_age = None\n",
    "    \n",
    "    ref = df_tennis_tmp[(df_tennis_tmp['winner_age'].notnull()) & (df_tennis_tmp['winner_name']==pl_name) & (df_tennis_tmp['tourney_date'].notnull())]\n",
    "    if len(ref) != 0:\n",
    "        pl_age = ref.iloc[0]['winner_age']\n",
    "        tourney_date = ref.iloc[0]['tourney_date']\n",
    "    elif len(ref) != 0:\n",
    "        ref = df_tennis_tmp[(df_tennis_tmp['loser_age'].notnull()) & (df_tennis_tmp['loser_name']==pl_name) & (df_tennis_tmp['tourney_date'].notnull())]\n",
    "        pl_age = ref.iloc[0]['loser_age']\n",
    "        tourney_date = ref.iloc[0]['tourney_date']\n",
    "    \n",
    "    if pl_age is not None:\n",
    "        str_tdate = str(tourney_date).replace(\".0\", \"\")\n",
    "        tdate = datetime.strptime(str_tdate, \"%Y%m%d\")\n",
    "        decimal_years = pl_age\n",
    "        decimal_days = decimal_years * 365\n",
    "        year = decimal_days//365\n",
    "        tmp_days = decimal_days - (year*365)\n",
    "        month = tmp_days//31\n",
    "        days = tmp_days - (month * 31)\n",
    "        birthdate = tdate - relativedelta(years=year, months=month, days=days)\n",
    "        \n",
    "        \n",
    "        upd_loser = df_tennis_tmp[(df_tennis_tmp['loser_age'].isnull()) & (df_tennis_tmp['loser_name']==pl_name) & (df_tennis_tmp['tourney_date'].notnull())]\n",
    "        for index, row in upd_loser.iterrows():\n",
    "            tmp_tourney_date = str(row['tourney_date']).replace(\".0\", \"\")\n",
    "            tmp_tdate = datetime.strptime(str_tdate, \"%Y%m%d\")\n",
    "            \n",
    "            delta = tmp_tdate - birthdate\n",
    "            days = delta.days/365\n",
    "            #print(str(days))\n",
    "            \n",
    "            df_tennis.loc[\n",
    "                (df_tennis['loser_age'].isnull()) & \n",
    "                (df_tennis['loser_name']==pl_name)  & \n",
    "                (df_tennis['tourney_date']==tourney_date), \n",
    "                'loser_age'] = days\n",
    "            \n",
    "            df_tennis.loc[\n",
    "                (df_tennis['winner_age'].isnull()) & \n",
    "                (df_tennis['winner_name']==pl_name)  & \n",
    "                (df_tennis['tourney_date']==tourney_date), \n",
    "                'winner_age'] = days\n",
    "            \n",
    "        upd_winner = df_tennis_tmp[(df_tennis_tmp['winner_age'].isnull()) & (df_tennis_tmp['winner_name']==pl_name) & (df_tennis_tmp['tourney_date'].notnull())]\n",
    "        for index, row in upd_winner.iterrows():\n",
    "            tmp_tourney_date = str(row['tourney_date']).replace(\".0\", \"\")\n",
    "            tmp_tdate = datetime.strptime(str_tdate, \"%Y%m%d\")\n",
    "            \n",
    "            delta = tmp_tdate - birthdate\n",
    "            days = delta.days/365\n",
    "            #print(str(days))\n",
    "            \n",
    "            df_tennis.loc[\n",
    "                (df_tennis['loser_age'].isnull()) & \n",
    "                (df_tennis['loser_name']==pl_name)  & \n",
    "                (df_tennis['tourney_date']==tourney_date), \n",
    "                'loser_age'] = days\n",
    "            \n",
    "            df_tennis.loc[\n",
    "                (df_tennis['winner_age'].isnull()) & \n",
    "                (df_tennis['winner_name']==pl_name)  & \n",
    "                (df_tennis['tourney_date']==tourney_date), \n",
    "                'winner_age'] = days\n",
    "        #break            "
   ]
  },
  {
   "cell_type": "code",
   "execution_count": null,
   "id": "9262fe97",
   "metadata": {},
   "outputs": [],
   "source": [
    "# test print: before was 2851\n",
    "df_tennis[df_tennis['winner_age'].isnull()][['tourney_date','winner_name','winner_age','loser_name','loser_age']]"
   ]
  },
  {
   "cell_type": "code",
   "execution_count": null,
   "id": "2a93ae5d",
   "metadata": {},
   "outputs": [],
   "source": [
    "# test print: 6536\n",
    "df_tennis[df_tennis['loser_age'].isnull()][['tourney_date','winner_name','winner_age','loser_name','loser_age']]"
   ]
  },
  {
   "cell_type": "markdown",
   "id": "57f7906c",
   "metadata": {},
   "source": [
    "#### winner_age/loser_age, try to calculate birthdate\n",
    "Convert age in birthdate, based on tourney_date"
   ]
  },
  {
   "cell_type": "code",
   "execution_count": null,
   "id": "14635d25",
   "metadata": {},
   "outputs": [],
   "source": [
    "for index, row in df_players.iterrows():\n",
    "      \n",
    "    age_tdate = df_tennis[\n",
    "            (df_tennis['winner_name']==row['whole_name']) & \n",
    "            (df_tennis['winner_age'].notnull()) & \n",
    "            (df_tennis['tourney_date'].notnull())][['winner_age','tourney_date']]\n",
    "    if age_tdate is None:\n",
    "        age_tdate = df_tennis[\n",
    "            (df_tennis['loser_name']==row['whole_name']) & \n",
    "            (df_tennis['loser_age'].notnull()) & \n",
    "            (df_tennis['tourney_date'].notnull())][['loser_age','tourney_date']]\n",
    "        \n",
    "    if age_tdate.size > 0:\n",
    "        str_tdate = str(age_tdate['tourney_date'].iloc[0]).replace(\".0\", \"\")\n",
    "        \n",
    "        tdate = datetime.strptime(str_tdate, \"%Y%m%d\")\n",
    "\n",
    "        decimal_years = age_tdate['winner_age'].iloc[0]\n",
    "        decimal_days = decimal_years * 365\n",
    "\n",
    "        year = decimal_days//365\n",
    "\n",
    "        tmp_days = decimal_days - (year*365)\n",
    "\n",
    "        month = tmp_days//31\n",
    "        days = tmp_days - (month * 31)\n",
    "\n",
    "\n",
    "        birthdate = tdate - relativedelta(years=year, months=month, days=days)\n",
    "\n",
    "        strbirthdate = birthdate.strftime(\"%d/%m/%Y\")\n",
    "\n",
    "        df_players.loc[df_players['whole_name'] == row['whole_name'], 'birthdate'] = strbirthdate\n",
    "\n",
    "df_players.loc[df_players['birthdate'].isnull(),'birthdate']='unknown' \n",
    "df_players\n"
   ]
  },
  {
   "cell_type": "code",
   "execution_count": null,
   "id": "c5e8137c",
   "metadata": {},
   "outputs": [],
   "source": [
    "df_tennis.loc[df_tennis['loser_age'].isnull(),'loser_age'] = -1 \n",
    "df_tennis.loc[df_tennis['winner_age'].isnull(),'winner_age'] = -1\n",
    "df_players"
   ]
  },
  {
   "cell_type": "markdown",
   "id": "9bd59b4d",
   "metadata": {},
   "source": [
    "#### w_svpt, l_svpt, w_1stIn, l_1stIn, w_1stWon, l_1stWon, w_2ndWon, l_2ndWon, w_df, l_df"
   ]
  },
  {
   "cell_type": "markdown",
   "id": "38192f8d",
   "metadata": {},
   "source": [
    "Since these values can't be calculated, we substitute null values with a default value. <br>\n",
    "In the player dataset we calculate for each player: the number of first serves made and won, the number of second serves won and the nuber of double fault."
   ]
  },
  {
   "cell_type": "code",
   "execution_count": null,
   "id": "1e2231c0",
   "metadata": {},
   "outputs": [],
   "source": [
    "w_1stIn_dict = df_tennis[~df_tennis['w_1stIn'].isnull()].groupby('winner_name')['w_1stIn'].apply(list).to_dict()   \n",
    "for key in w_1stIn_dict.keys():\n",
    "    w_1stIn_dict[key]= sum(w_1stIn_dict[key])\n",
    "    \n",
    "l_1stIn_dict = df_tennis[~df_tennis['l_1stIn'].isnull()].groupby('loser_name')['l_1stIn'].apply(list).to_dict()   \n",
    "for key in l_1stIn_dict.keys():\n",
    "    l_1stIn_dict[key]= sum(l_1stIn_dict[key])\n",
    "    \n",
    "w_1stwin_dict = df_tennis[~df_tennis['w_1stWon'].isnull()].groupby('winner_name')['w_1stWon'].apply(list).to_dict()   \n",
    "for key in w_1stwin_dict.keys():\n",
    "    w_1stwin_dict[key]= sum(w_1stwin_dict[key])\n",
    "    \n",
    "l_1stwin_dict = df_tennis[~df_tennis['l_1stWon'].isnull()].groupby('loser_name')['l_1stWon'].apply(list).to_dict()   \n",
    "for key in l_1stwin_dict.keys():\n",
    "    l_1stwin_dict[key]= sum(l_1stwin_dict[key])"
   ]
  },
  {
   "cell_type": "code",
   "execution_count": null,
   "id": "e1234f4f",
   "metadata": {},
   "outputs": [],
   "source": [
    "#won first services on the total fisrt services not on the total served points\n",
    "df_players['sv1st'] = 0\n",
    "df_players['sv1st_win'] = 0"
   ]
  },
  {
   "cell_type": "code",
   "execution_count": null,
   "id": "c12c86ca",
   "metadata": {},
   "outputs": [],
   "source": [
    "for index, row in df_players.iterrows():\n",
    "    name = row['whole_name']\n",
    "    \n",
    "    total_first = 0\n",
    "    won_first = 0\n",
    "    \n",
    "    if name in w_1stIn_dict.keys():\n",
    "        total_first += w_1stIn_dict[name]\n",
    "        won_first += w_1stwin_dict[name]\n",
    "    if name in l_1stIn_dict.keys():\n",
    "        total_first += l_1stIn_dict[name]\n",
    "        won_first += l_1stwin_dict[name]\n",
    "        \n",
    "    if total_first!=0:\n",
    "        df_players.loc[index, 'sv1st'] = total_first\n",
    "        df_players.loc[index, 'sv1st_win'] = won_first"
   ]
  },
  {
   "cell_type": "code",
   "execution_count": null,
   "id": "9d454777",
   "metadata": {},
   "outputs": [],
   "source": [
    "df_players"
   ]
  },
  {
   "cell_type": "code",
   "execution_count": null,
   "id": "f8bb453c",
   "metadata": {},
   "outputs": [],
   "source": [
    "w_2ndwin_dict = df_tennis[~df_tennis['w_2ndWon'].isnull()].groupby('winner_name')['w_2ndWon'].apply(list).to_dict()   \n",
    "for key in w_2ndwin_dict.keys():\n",
    "    w_2ndwin_dict[key]= sum(w_2ndwin_dict[key])\n",
    "    \n",
    "l_2ndwin_dict = df_tennis[~df_tennis['l_2ndWon'].isnull()].groupby('loser_name')['l_2ndWon'].apply(list).to_dict()   \n",
    "for key in l_2ndwin_dict.keys():\n",
    "    l_2ndwin_dict[key]= sum(l_2ndwin_dict[key])"
   ]
  },
  {
   "cell_type": "code",
   "execution_count": null,
   "id": "ceeef4b8",
   "metadata": {},
   "outputs": [],
   "source": [
    "#won second services \n",
    "df_players['sv2nd_win'] = 0"
   ]
  },
  {
   "cell_type": "code",
   "execution_count": null,
   "id": "4c08f989",
   "metadata": {},
   "outputs": [],
   "source": [
    "for index, row in df_players.iterrows():\n",
    "    name = row['whole_name']\n",
    "    \n",
    "    won = 0\n",
    "    \n",
    "    if name in w_2ndwin_dict.keys():\n",
    "        won += w_2ndwin_dict[name]\n",
    "    if name in l_2ndwin_dict.keys():\n",
    "        won += l_2ndwin_dict[name]\n",
    "        \n",
    "    df_players.loc[index, 'sv2nd_win'] = won"
   ]
  },
  {
   "cell_type": "code",
   "execution_count": null,
   "id": "bba4b0d6",
   "metadata": {},
   "outputs": [],
   "source": [
    "df_players"
   ]
  },
  {
   "cell_type": "code",
   "execution_count": null,
   "id": "0f905df2",
   "metadata": {},
   "outputs": [],
   "source": [
    "w_df_dict = df_tennis[(~df_tennis['w_df'].isnull()) & (~df_tennis['w_svpt'].isnull())].groupby('winner_name')['w_df'].apply(list).to_dict()   \n",
    "for key in w_df_dict.keys():\n",
    "    w_df_dict[key]= sum(w_df_dict[key])\n",
    "    \n",
    "l_df_dict = df_tennis[(~df_tennis['l_df'].isnull()) & (~df_tennis['l_svpt'].isnull())].groupby('loser_name')['l_df'].apply(list).to_dict()   \n",
    "for key in l_df_dict.keys():\n",
    "    l_df_dict[key]= sum(l_df_dict[key])\n",
    "    \n",
    "w_sv_dict = df_tennis[(~df_tennis['w_df'].isnull()) & (~df_tennis['w_svpt'].isnull())].groupby('winner_name')['w_svpt'].apply(list).to_dict()   \n",
    "for key in w_sv_dict.keys():\n",
    "    w_sv_dict[key]= sum(w_sv_dict[key])\n",
    "    \n",
    "l_sv_dict = df_tennis[(~df_tennis['l_df'].isnull()) & (~df_tennis['l_svpt'].isnull())].groupby('loser_name')['l_svpt'].apply(list).to_dict()   \n",
    "for key in l_sv_dict.keys():\n",
    "    l_sv_dict[key]= sum(l_sv_dict[key])"
   ]
  },
  {
   "cell_type": "code",
   "execution_count": null,
   "id": "65e4ce41",
   "metadata": {},
   "outputs": [],
   "source": [
    "#considered matches\n",
    "w_match = df_tennis[(~df_tennis['w_df'].isnull()) & (~df_tennis['w_svpt'].isnull())].groupby('winner_name')['w_df'].agg('count').to_dict()\n",
    "l_match = df_tennis[(~df_tennis['l_df'].isnull()) & (~df_tennis['l_svpt'].isnull())].groupby('loser_name')['l_df'].agg('count').to_dict()"
   ]
  },
  {
   "cell_type": "code",
   "execution_count": null,
   "id": "2986ff9b",
   "metadata": {},
   "outputs": [],
   "source": [
    "df_players['df'] = 0"
   ]
  },
  {
   "cell_type": "code",
   "execution_count": null,
   "id": "6658960e",
   "metadata": {},
   "outputs": [],
   "source": [
    "for index, row in df_players.iterrows():\n",
    "    name = row['whole_name']\n",
    "    \n",
    "    total_points = 0\n",
    "    df = 0\n",
    "    if name in w_df_dict.keys():\n",
    "        total_points += w_sv_dict[name]\n",
    "        df += w_df_dict[name]\n",
    "    if name in l_df_dict.keys():\n",
    "        total_points += l_sv_dict[name]\n",
    "        df += l_df_dict[name]\n",
    "        \n",
    "    df_players.loc[index, 'df'] = df"
   ]
  },
  {
   "cell_type": "code",
   "execution_count": null,
   "id": "f43158ac",
   "metadata": {},
   "outputs": [],
   "source": [
    "df_players[['whole_name', 'sv1st_win', 'df']]"
   ]
  },
  {
   "cell_type": "code",
   "execution_count": null,
   "id": "a85ef9ed",
   "metadata": {},
   "outputs": [],
   "source": [
    "df_tennis['w_df'].fillna(value=-1, inplace=True) "
   ]
  },
  {
   "cell_type": "code",
   "execution_count": null,
   "id": "d0e40c78",
   "metadata": {},
   "outputs": [],
   "source": [
    "df_tennis['l_df'].fillna(value=-1, inplace=True) "
   ]
  },
  {
   "cell_type": "code",
   "execution_count": null,
   "id": "d81bbc77",
   "metadata": {},
   "outputs": [],
   "source": [
    "df_tennis['w_1stIn'].fillna(value=-1, inplace=True) "
   ]
  },
  {
   "cell_type": "code",
   "execution_count": null,
   "id": "e42a01b1",
   "metadata": {},
   "outputs": [],
   "source": [
    "df_tennis['l_1stIn'].fillna(value=-1, inplace=True) "
   ]
  },
  {
   "cell_type": "code",
   "execution_count": null,
   "id": "5cc71dda",
   "metadata": {},
   "outputs": [],
   "source": [
    "df_tennis['w_1stWon'].fillna(value=-1, inplace=True) "
   ]
  },
  {
   "cell_type": "code",
   "execution_count": null,
   "id": "5a24b35f",
   "metadata": {},
   "outputs": [],
   "source": [
    "df_tennis['l_1stWon'].fillna(value=-1, inplace=True) "
   ]
  },
  {
   "cell_type": "code",
   "execution_count": null,
   "id": "6047df29",
   "metadata": {},
   "outputs": [],
   "source": [
    "df_tennis['w_2ndWon'].fillna(value=-1, inplace=True) "
   ]
  },
  {
   "cell_type": "code",
   "execution_count": null,
   "id": "03ae8ff4",
   "metadata": {},
   "outputs": [],
   "source": [
    "df_tennis['l_2ndWon'].fillna(value=-1, inplace=True) "
   ]
  },
  {
   "cell_type": "markdown",
   "id": "f116ad39",
   "metadata": {},
   "source": [
    "**Service point and ace statistics and cleaning**"
   ]
  },
  {
   "cell_type": "code",
   "execution_count": null,
   "id": "3d5147a7",
   "metadata": {},
   "outputs": [],
   "source": [
    "w_svpt = df_tennis[(~df_tennis['w_svpt'].isnull())].groupby('winner_name')['w_svpt'].agg('sum').to_dict()\n",
    "l_svpt = df_tennis[(~df_tennis['l_svpt'].isnull())].groupby('loser_name')['l_svpt'].agg('sum').to_dict()\n",
    "\n",
    "#merging players svpts\n",
    "for l_key in l_svpt.keys():\n",
    "    if(l_key in w_svpt.keys()):\n",
    "        l_svpt[l_key]+=w_svpt[l_key]\n",
    "for w_key in w_svpt.keys():\n",
    "    if(w_key not in l_svpt.keys()):\n",
    "        l_svpt[w_key]= w_svpt[w_key]\n",
    "\n",
    "merged_svp = l_svpt"
   ]
  },
  {
   "cell_type": "code",
   "execution_count": null,
   "id": "6d8803a9",
   "metadata": {},
   "outputs": [],
   "source": [
    "df_tennis['w_svpt'].fillna(value=-1, inplace=True) \n",
    "df_tennis.loc[df_tennis['l_svpt'] > 300, 'w_svpt'] = -1"
   ]
  },
  {
   "cell_type": "code",
   "execution_count": null,
   "id": "ed4b2b2c",
   "metadata": {},
   "outputs": [],
   "source": [
    "df_tennis['l_svpt'].fillna(value=-1, inplace=True) \n",
    "df_tennis.loc[df_tennis['l_svpt'] > 300, 'l_svpt'] = -1"
   ]
  },
  {
   "cell_type": "markdown",
   "id": "190bd648",
   "metadata": {},
   "source": [
    "#### w_ace"
   ]
  },
  {
   "cell_type": "markdown",
   "id": "d086c99d",
   "metadata": {},
   "source": [
    "In the section its computed the total amount of ace performed by each player and added this information to the player dataset."
   ]
  },
  {
   "cell_type": "code",
   "execution_count": null,
   "id": "877d9a09",
   "metadata": {
    "scrolled": false
   },
   "outputs": [],
   "source": [
    "w_ace = df_tennis[(~df_tennis['w_ace'].isnull()) & (df_tennis['w_svpt'] != -1)].groupby('winner_name')['w_ace'].agg('sum').to_dict()\n",
    "l_ace = df_tennis[(~df_tennis['l_ace'].isnull()) & (df_tennis['l_svpt'] != -1)].groupby('loser_name')['l_ace'].agg('sum').to_dict()\n",
    "\n",
    "#merging players aces\n",
    "for l_key in l_ace.keys():\n",
    "    if(l_key in w_ace.keys()):\n",
    "        l_ace[l_key]+=w_ace[l_key]\n",
    "for w_key in w_ace.keys():\n",
    "    if(w_key not in l_ace.keys()):\n",
    "        l_ace[w_key]= w_ace[w_key]\n",
    "merged_ace = l_ace\n",
    "        \n",
    "for name in merged_ace.keys():\n",
    "    if (merged_ace[name]):\n",
    "        svpt = merged_svp[name]\n",
    "        ace = merged_ace[name]\n",
    "        df_players.loc[df_players['whole_name'] == name, 'ace'] = ace\n",
    "df_players.loc[df_players['ace'].isnull(), 'ace'] = 0"
   ]
  },
  {
   "cell_type": "code",
   "execution_count": null,
   "id": "9c7d9585",
   "metadata": {},
   "outputs": [],
   "source": [
    "df_players"
   ]
  },
  {
   "cell_type": "code",
   "execution_count": null,
   "id": "7068a550",
   "metadata": {
    "scrolled": true
   },
   "outputs": [],
   "source": [
    "df_tennis['w_ace'].fillna(value=-1, inplace=True)"
   ]
  },
  {
   "cell_type": "code",
   "execution_count": null,
   "id": "440a933a",
   "metadata": {},
   "outputs": [],
   "source": [
    "df_tennis['l_ace'].fillna(value=-1, inplace=True)"
   ]
  },
  {
   "cell_type": "markdown",
   "id": "293d6f7e",
   "metadata": {},
   "source": [
    "#### w_SvGms and l_SvGms"
   ]
  },
  {
   "cell_type": "markdown",
   "id": "417e1c48",
   "metadata": {},
   "source": [
    "At the end of a set without tie-break, to establish which is in the next set the player that should serve: divide by 2 the sum of all the games played in the set. If the remainder of the division is 0 (even number of games played), the player that serves is the same of the first game of set, otherwise is the other one.\n",
    "\n",
    "If the set ends with a tie-break (odd number of games already played), the player that serves the next set is not the same of the first game of the set just finished (i.e. the player that serve first the tie-break)\n",
    "\n",
    "Following these rules we calculate if the number of service games of winner and loser can be valid. If it is not valid we try to correct it looking these rules using the score value. If we cannot calculate the correct value we correct using a default value (-1)."
   ]
  },
  {
   "cell_type": "code",
   "execution_count": null,
   "id": "74d965da",
   "metadata": {},
   "outputs": [],
   "source": [
    "#correction of errors in case not nulls\n",
    "for index,row in df_tennis[(~df_tennis['l_SvGms'].isnull()) & (~df_tennis['w_SvGms'].isnull()) & (df_tennis['score']!=\"\")].iterrows():\n",
    "    \n",
    "    if len(sets)==1 and (Walkover(sets[0]) or Retirement(sets[0]) or Default(sets[0]) or Bye(sets[0])):\n",
    "        df_tennis.loc[index, 'w_SvGms']=0\n",
    "        df_tennis.loc[index, 'l_SvGms']=0\n",
    "        continue\n",
    "    \n",
    "    if not validity_match(row['score'].split(), row['best_of']):\n",
    "        continue\n",
    "    \n",
    "    result = count_service_games(row['score'])\n",
    "    x = result[0]\n",
    "    y = result[1]\n",
    "    if x == -1:\n",
    "        continue\n",
    "    \n",
    "    if not((row['w_SvGms']==x and row['l_SvGms']==y) or (row['w_SvGms']==y and row['l_SvGms']==x)): \n",
    "        if row['w_SvGms']==x:\n",
    "            df_tennis.loc[index, 'l_SvGms']=y\n",
    "        elif row['w_SvGms']==y:\n",
    "            df_tennis.loc[index, 'l_SvGms']=x\n",
    "        elif row['l_SvGms']==x:\n",
    "            df_tennis.loc[index, 'w_SvGms']=y\n",
    "        elif row['l_SvGms']==y:\n",
    "            df_tennis.loc[index, 'w_SvGms']=x\n",
    "        else:\n",
    "            df_tennis.loc[index, 'w_SvGms']=x\n",
    "            df_tennis.loc[index, 'l_SvGms']=y\n",
    "        "
   ]
  },
  {
   "cell_type": "code",
   "execution_count": null,
   "id": "8f7f6a4c",
   "metadata": {},
   "outputs": [],
   "source": [
    "#correction of errors in case of nulls\n",
    "for index,row in df_tennis[(df_tennis['score']!=\"\") & (df_tennis['l_SvGms'].isnull())].iterrows():\n",
    "    \n",
    "    sets = row['score'].split()\n",
    "    \n",
    "    if len(sets)==1 and (Walkover(sets[0]) or Retirement(sets[0]) or Default(sets[0]) or Bye(sets[0])):\n",
    "        df_tennis.loc[index, 'w_SvGms']=0\n",
    "        df_tennis.loc[index, 'l_SvGms']=0\n",
    "        continue\n",
    "    \n",
    "    if not validity_match(sets, row['best_of']):\n",
    "        continue\n",
    "    \n",
    "    result = count_service_games(row['score'])\n",
    "    x = result[0]\n",
    "    y = result[1]\n",
    "    if x == -1:\n",
    "        continue\n",
    "    \n",
    "    winner = math.isnan(float(row['w_SvGms']))\n",
    "    \n",
    "    if not winner:\n",
    "        if row['w_SvGms']==x:\n",
    "            df_tennis.loc[index, 'l_SvGms']=y\n",
    "        elif row['w_SvGms']==y:\n",
    "            df_tennis.loc[index, 'l_SvGms']=x\n",
    "        else:\n",
    "            df_tennis.loc[index, 'w_SvGms']=x\n",
    "            df_tennis.loc[index, 'l_SvGms']=y\n",
    "    else:\n",
    "        df_tennis.loc[index, 'w_SvGms']=x\n",
    "        df_tennis.loc[index, 'l_SvGms']=y"
   ]
  },
  {
   "cell_type": "code",
   "execution_count": null,
   "id": "e692f499",
   "metadata": {},
   "outputs": [],
   "source": [
    "#correction of errors in case of nulls\n",
    "for index,row in df_tennis[(df_tennis['score']!=\"\") & (df_tennis['w_SvGms'].isnull())].iterrows():\n",
    "    \n",
    "    if len(sets)==1 and (Walkover(sets[0]) or Retirement(sets[0]) or Default(sets[0]) or Bye(sets[0])):\n",
    "        df_tennis.loc[index, 'w_SvGms']=0\n",
    "        df_tennis.loc[index, 'l_SvGms']=0\n",
    "        continue\n",
    "    \n",
    "    if not validity_match(row['score'].split(), row['best_of']):\n",
    "        continue\n",
    "    \n",
    "    result = count_service_games(row['score'])\n",
    "    x = result[0]\n",
    "    y = result[1]\n",
    "    if x == -1:\n",
    "        continue\n",
    "    \n",
    "    loser = math.isnan(float(row['l_SvGms']))\n",
    "    \n",
    "    if not loser:\n",
    "        if row['l_SvGms']==x:\n",
    "            df_tennis.loc[index, 'w_SvGms']=y\n",
    "        elif row['l_SvGms']==y:\n",
    "            df_tennis.loc[index, 'w_SvGms']=x\n",
    "        else:\n",
    "            df_tennis.loc[index, 'w_SvGms']=x\n",
    "            df_tennis.loc[index, 'l_SvGms']=y\n",
    "    else:\n",
    "        df_tennis.loc[index, 'w_SvGms']=x\n",
    "        df_tennis.loc[index, 'l_SvGms']=y"
   ]
  },
  {
   "cell_type": "code",
   "execution_count": null,
   "id": "644e8c91",
   "metadata": {},
   "outputs": [],
   "source": [
    "df_tennis['l_SvGms'].fillna(value=-1, inplace=True)\n",
    "df_tennis['w_SvGms'].fillna(value=-1, inplace=True)"
   ]
  },
  {
   "cell_type": "markdown",
   "id": "9725822c",
   "metadata": {},
   "source": [
    "**Breakpoint statistics and cleaning**"
   ]
  },
  {
   "cell_type": "markdown",
   "id": "51c5b867",
   "metadata": {},
   "source": [
    "In the section its computed the total amount of breakpoints saved by each player and added this information to the player dataset."
   ]
  },
  {
   "cell_type": "code",
   "execution_count": null,
   "id": "6b04961b",
   "metadata": {},
   "outputs": [],
   "source": [
    "df_tennis[df_tennis['w_bpFaced'].isnull()]"
   ]
  },
  {
   "cell_type": "code",
   "execution_count": null,
   "id": "0680c902",
   "metadata": {},
   "outputs": [],
   "source": [
    "w_bpF = df_tennis[(~df_tennis['w_bpFaced'].isnull()) & (df_tennis['w_bpFaced'] > 0)].groupby('winner_name')['w_bpFaced'].agg('sum').to_dict()\n",
    "l_bpF = df_tennis[(~df_tennis['l_bpFaced'].isnull()) & (df_tennis['w_bpFaced'] > 0)].groupby('loser_name')['l_bpFaced'].agg('sum').to_dict()\n",
    "\n",
    "#merging players bpFs\n",
    "for l_key in l_bpF.keys():\n",
    "    if(l_key in w_bpF.keys()):\n",
    "        l_bpF[l_key]+=w_bpF[l_key]\n",
    "for w_key in w_bpF.keys():\n",
    "    if(w_key not in l_bpF.keys()):\n",
    "        l_bpF[w_key]= w_bpF[w_key]\n",
    "merged_bpF = l_bpF"
   ]
  },
  {
   "cell_type": "code",
   "execution_count": null,
   "id": "ab8b9d3f",
   "metadata": {},
   "outputs": [],
   "source": [
    "df_tennis['w_bpFaced'].fillna(value=-1, inplace=True) "
   ]
  },
  {
   "cell_type": "code",
   "execution_count": null,
   "id": "2abf9930",
   "metadata": {},
   "outputs": [],
   "source": [
    "df_tennis['l_bpFaced'].fillna(value=-1, inplace=True) "
   ]
  },
  {
   "cell_type": "code",
   "execution_count": null,
   "id": "d8cd7a3e",
   "metadata": {},
   "outputs": [],
   "source": [
    "df_tennis[df_tennis['w_bpSaved'].isnull()]"
   ]
  },
  {
   "cell_type": "code",
   "execution_count": null,
   "id": "83ff8016",
   "metadata": {},
   "outputs": [],
   "source": [
    "w_bpS = df_tennis[(~df_tennis['w_bpSaved'].isnull()) & (df_tennis['w_bpFaced'] != -1)].groupby('winner_name')['w_bpSaved'].agg('sum').to_dict()\n",
    "l_bpS = df_tennis[(~df_tennis['l_bpSaved'].isnull()) & (df_tennis['l_bpFaced'] != -1)].groupby('loser_name')['l_bpSaved'].agg('sum').to_dict()\n",
    "\n",
    "#merging players bpSaveds\n",
    "for l_key in l_bpS.keys():\n",
    "    if(l_key in w_bpS.keys()):\n",
    "        l_bpS[l_key]+=w_bpS[l_key]\n",
    "        \n",
    "for w_key in w_bpS.keys():\n",
    "    if(w_key not in l_bpS.keys()):\n",
    "        l_bpS[w_key]= w_bpS[w_key]\n",
    "merged_bpS = l_bpS\n",
    "              \n",
    "for name in merged_bpS.keys():\n",
    "    if (name in l_bpF.keys()):\n",
    "        bpF = merged_bpF[name]\n",
    "        bpS = merged_bpS[name]\n",
    "        df_players.loc[df_players['whole_name'] == name, 'bpS'] = bpS\n",
    "df_players.loc[df_players['bpS'].isnull(), 'bpS'] = 0"
   ]
  },
  {
   "cell_type": "code",
   "execution_count": null,
   "id": "3c9b13c0",
   "metadata": {},
   "outputs": [],
   "source": [
    "df_tennis['w_bpSaved'].fillna(value=-1, inplace=True) "
   ]
  },
  {
   "cell_type": "code",
   "execution_count": null,
   "id": "752894e9",
   "metadata": {},
   "outputs": [],
   "source": [
    "df_tennis['l_bpSaved'].fillna(value=-1, inplace=True) "
   ]
  },
  {
   "cell_type": "code",
   "execution_count": null,
   "id": "85e3b8ae",
   "metadata": {
    "scrolled": false
   },
   "outputs": [],
   "source": [
    "df_players"
   ]
  },
  {
   "cell_type": "markdown",
   "id": "850f0912",
   "metadata": {},
   "source": [
    "#### count the games played, won and lost"
   ]
  },
  {
   "cell_type": "code",
   "execution_count": null,
   "id": "7ffc2f62",
   "metadata": {},
   "outputs": [],
   "source": [
    "count_dict_w = df_tennis['winner_name'].value_counts().sort_index().to_dict()\n",
    "count_dict_l = df_tennis['loser_name'].value_counts().sort_index().to_dict()\n",
    "\n",
    "\n",
    "df_players['wmatch'] = 0\n",
    "df_players['lmatch'] = 0\n",
    "df_players['nmatch'] = 0\n",
    "\n",
    "for index,row in df_players.iterrows():\n",
    "    name = row['whole_name']\n",
    "    w = count_dict_w.get(name)\n",
    "    l = count_dict_l.get(name)\n",
    "    if w is None:\n",
    "        w = 0\n",
    "    if l is None:\n",
    "        l = 0\n",
    "    tot = w + l\n",
    "    df_players.loc[df_players['whole_name'] == name, 'wmatch'] = w\n",
    "    df_players.loc[df_players['whole_name'] == name, 'lmatch'] = l\n",
    "    df_players.loc[df_players['whole_name'] == name, 'nmatch'] = tot\n"
   ]
  },
  {
   "cell_type": "code",
   "execution_count": null,
   "id": "bbbee6a7",
   "metadata": {},
   "outputs": [],
   "source": [
    "df_players"
   ]
  },
  {
   "cell_type": "code",
   "execution_count": null,
   "id": "85b3f0be",
   "metadata": {},
   "outputs": [],
   "source": [
    "df_players.loc[df_players['nmatch']==1]\n",
    "df_players.loc[df_players['nmatch']!=(df_players['best_of_5_match'] + df_players['best_of_3_match'])]"
   ]
  },
  {
   "cell_type": "markdown",
   "id": "2f08128e",
   "metadata": {},
   "source": [
    "#### count the win and lose in surfaces"
   ]
  },
  {
   "cell_type": "code",
   "execution_count": null,
   "id": "acb9faec",
   "metadata": {},
   "outputs": [],
   "source": [
    "dict_surf = df_tennis.groupby(['winner_name'])['surface'].value_counts().to_dict()\n",
    "surface_type_array = df_tennis['surface'].unique()\n",
    "\n",
    "for index,row in df_players.iterrows():\n",
    "    name = row['whole_name']\n",
    "    for surface in surface_type_array:\n",
    "        win_in_surface = dict_surf.get((name, surface))\n",
    "        if win_in_surface is None:\n",
    "            win_in_surface = 0              \n",
    "        df_players.loc[df_players['whole_name'] == name, \"w_surface_\" + surface] = str(win_in_surface)\n",
    "    #if index == 100:\n",
    "    #    break\n",
    "# remove unknown w/l columns\n",
    "df_players.drop(['l_surface_unknown', 'w_surface_unknown'], axis=1)\n",
    "df_players"
   ]
  },
  {
   "cell_type": "code",
   "execution_count": null,
   "id": "51dac57c",
   "metadata": {},
   "outputs": [],
   "source": [
    "dict_surf = df_tennis.groupby(['loser_name'])['surface'].value_counts().to_dict()\n",
    "surface_type_array = df_tennis['surface'].unique()\n",
    "\n",
    "for index,row in df_players.iterrows():\n",
    "    name = row['whole_name']\n",
    "    for surface in surface_type_array:\n",
    "        win_in_surface = dict_surf.get((name, surface))\n",
    "        if win_in_surface is None:\n",
    "            win_in_surface = 0              \n",
    "        df_players.loc[df_players['whole_name'] == name, \"l_surface_\" + surface] = str(win_in_surface)\n",
    "    #if index == 100:\n",
    "    #    break\n",
    "df_players"
   ]
  },
  {
   "cell_type": "code",
   "execution_count": null,
   "id": "b0c3ce72",
   "metadata": {},
   "outputs": [],
   "source": [
    "played_touney_winner = df_tennis.groupby('winner_name')['tourney_id'].apply(list).to_dict()  \n",
    "played_touney_loser = df_tennis.groupby('loser_name')['tourney_id'].apply(list).to_dict()  "
   ]
  },
  {
   "cell_type": "code",
   "execution_count": null,
   "id": "2d31904d",
   "metadata": {},
   "outputs": [],
   "source": [
    "for key in played_touney_winner.keys():\n",
    "    if key in played_touney_loser.keys():\n",
    "        played_touney_loser[key] = list(dict.fromkeys(played_touney_winner[key]+played_touney_loser[key]))\n",
    "    else:\n",
    "        played_touney_loser[key] = played_touney_winner[key]\n",
    "        "
   ]
  },
  {
   "cell_type": "code",
   "execution_count": null,
   "id": "5ee7a381",
   "metadata": {},
   "outputs": [],
   "source": [
    "played_touney_loser"
   ]
  },
  {
   "cell_type": "code",
   "execution_count": null,
   "id": "f38377eb",
   "metadata": {},
   "outputs": [],
   "source": [
    "df_players['n_tourney'] = 0"
   ]
  },
  {
   "cell_type": "code",
   "execution_count": null,
   "id": "77ff01f1",
   "metadata": {},
   "outputs": [],
   "source": [
    "for index,row in df_players.iterrows():\n",
    "    name = row['whole_name']\n",
    "    df_players.loc[index, 'n_tourney'] = len(played_touney_loser[name])"
   ]
  },
  {
   "cell_type": "code",
   "execution_count": null,
   "id": "6452a6f4",
   "metadata": {},
   "outputs": [],
   "source": [
    "df_players"
   ]
  },
  {
   "cell_type": "code",
   "execution_count": null,
   "id": "4a9c327a",
   "metadata": {},
   "outputs": [],
   "source": [
    "#rename column of name of players\n",
    "df_players.rename(columns={\"whole_name\": \"name\"})"
   ]
  },
  {
   "cell_type": "code",
   "execution_count": null,
   "id": "f6f43535",
   "metadata": {},
   "outputs": [],
   "source": [
    "#save on file\n",
    "df_players.to_csv(path_or_buf=\"players.csv\")"
   ]
  },
  {
   "cell_type": "markdown",
   "id": "40dece1b",
   "metadata": {},
   "source": [
    "### Correlation"
   ]
  },
  {
   "cell_type": "markdown",
   "id": "7a849dde",
   "metadata": {},
   "source": [
    "Here we analyze the correlation of the dataset of tennis after all the changes we made.  To do this we do not consider the default values we have introduced because they influence the correlation."
   ]
  },
  {
   "cell_type": "code",
   "execution_count": null,
   "id": "2471d21b",
   "metadata": {},
   "outputs": [],
   "source": [
    "df_tennis.dtypes"
   ]
  },
  {
   "cell_type": "code",
   "execution_count": null,
   "id": "5d5ea8cf",
   "metadata": {},
   "outputs": [],
   "source": [
    "df_numeric = df_tennis[['draw_size','minutes','w_ace','w_df','w_svpt','w_1stIn', 'w_1stWon', 'w_2ndWon', \n",
    "                        'w_SvGms', 'winner_rank', 'winner_rank_points', 'w_bpSaved',  'w_bpFaced','l_ace',\n",
    "                        'l_df','l_svpt','l_1stIn', 'l_1stWon', 'l_2ndWon', 'l_SvGms', 'loser_rank', \n",
    "                        'loser_rank_points', 'l_bpSaved',  'l_bpFaced', 'tourney_spectators', 'tourney_revenue',\n",
    "                       'winner_ht','winner_age','loser_ht','loser_age']]\n",
    "df_numeric"
   ]
  },
  {
   "cell_type": "code",
   "execution_count": null,
   "id": "a3b38227",
   "metadata": {},
   "outputs": [],
   "source": [
    "plt.figure(figsize = (30,20))\n",
    "sns.heatmap(df_numeric.corr(), annot=True)"
   ]
  },
  {
   "cell_type": "code",
   "execution_count": null,
   "id": "49a902ff",
   "metadata": {},
   "outputs": [],
   "source": [
    "treshold = 0.85\n",
    "correlation = df_numeric.corr()\n",
    "correlation_filtered = correlation[correlation>treshold]\n",
    "correlation_filtered = correlation[correlation_filtered.sum()>1]\n",
    "correlation_filtered = correlation_filtered[correlation_filtered>treshold]\n",
    "correlation_filtered = correlation_filtered.dropna(axis=1,how='all')\n",
    "correlation_filtered"
   ]
  },
  {
   "cell_type": "markdown",
   "id": "36dd01e3",
   "metadata": {},
   "source": [
    "From https://it.wikipedia.org/wiki/Glossario_del_tennis:\n",
    "**Breakpoint** - situazione nella quale il giocatore in risposta si trova ad un punto dal vincere il game in cui l'avversario è al servizio."
   ]
  },
  {
   "cell_type": "markdown",
   "id": "98524d2f",
   "metadata": {},
   "source": [
    "**w_svpt, w_1stIn, w_1stWon, w_2ndWon** are all correlated because the first serves and the second serve are a part of service points. So if the service points increase the the first services and the second services increase with them.\n",
    "So more w_svpt increase and more w_1stIn increase. More w_1stIn increase and more is the probability that w_1stWon increase too because more a first serves a player do and more first serves ze can won. The same reasoning is done for w_2ndWon. More service point (w_svpt) a player do and more second serves can ben done and consequences can be won. The same reasoning is done for **l_svpt, l_1stIn, l_1stWon, l_2ndWon**\n",
    "\n",
    "**w_svpt, w_1stIn, w_1stWon, w_2ndWon, l_svpt, l_1stIn, l_1stWon, l_2ndWon**  The same reasoning of before is done but winner and loser attributes are correlated because the serves are alternated in games, so more services a winner do and more a services a loser do.\n",
    "\n",
    "**w_bpFaced, w_svpt, w_1stIn, l_svpt, l_1stIn** are all correlated because, the increasing number of service points by the players can be interpreted in two ways: 1. the players make more services in few games reaching many times a draw and this as consequences lead to have many breakpoints because in case of draw we have a breakpoint wvery time a point by a player is done after the draw. 2. The players play many games and to win a game a player must reach the situation where he need only one point to win. So, a breakpoint, to win a game, is present for sure.\n",
    "So, for these reason, more service points are done by the players and more breakpoints increase. These columns are correlated also to w_1stIn and l_1stIn because to serve a point a players must done a first serve. This reasoning is done also for **l_bpFaced**.\n",
    "\n",
    "**w_bpSaved, w_bpFaced** are correlated because more are the breakpoints faced and more can be the breakpoint saved.  The same reasoning is done also for the loser  **l_bpSaved, l_bpFaced**.\n",
    "\n",
    "**w_SvGms, l_SvGms** are correlated because the service is alterned between the winner and loser player by games (the serves approximately the same number of games in a match. So, if w_SvGms increase also l_SvGms increase (cannot have high w_SvGms and low l_SvGms or viceversa because of tennis rules).\n",
    "\n",
    "**draw_size**, **tourney_revenue**, **tourney_spectators** are all correlated. This can be interpreted as the fact that the tourneys with more players attract more people to see the matches and have a bigger budget respect to the the tourneys with less players."
   ]
  },
  {
   "cell_type": "code",
   "execution_count": null,
   "id": "5ec0f9a5",
   "metadata": {},
   "outputs": [],
   "source": [
    "correlation_filtered = correlation[correlation<-treshold]\n",
    "correlation_filtered = correlation_filtered[correlation_filtered<-treshold]\n",
    "correlation_filtered.dropna(axis=1,how='all',inplace=True)\n",
    "correlation_filtered"
   ]
  }
 ],
 "metadata": {
  "kernelspec": {
   "display_name": "Python 3 (ipykernel)",
   "language": "python",
   "name": "python3"
  },
  "language_info": {
   "codemirror_mode": {
    "name": "ipython",
    "version": 3
   },
   "file_extension": ".py",
   "mimetype": "text/x-python",
   "name": "python",
   "nbconvert_exporter": "python",
   "pygments_lexer": "ipython3",
   "version": "3.9.7"
  }
 },
 "nbformat": 4,
 "nbformat_minor": 5
}
