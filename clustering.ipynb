{
 "cells": [
  {
   "cell_type": "code",
   "execution_count": null,
   "id": "6caf36d0",
   "metadata": {},
   "outputs": [],
   "source": [
    "import math\n",
    "import numpy as np\n",
    "import scipy.stats as stats\n",
    "import matplotlib.pyplot as plt\n",
    "from sklearn.decomposition import PCA\n",
    "from sklearn.preprocessing import StandardScaler, MinMaxScaler\n",
    "\n",
    "import collections\n",
    "from scipy.stats.stats import pearsonr\n",
    "import pandas as pd\n",
    "import os\n",
    "from datetime import date\n",
    "\n",
    "from sklearn.preprocessing import StandardScaler, MinMaxScaler\n",
    "from sklearn.cluster import KMeans\n",
    "from sklearn.cluster import DBSCAN\n",
    "\n",
    "import seaborn as sns\n",
    "import re"
   ]
  },
  {
   "cell_type": "code",
   "execution_count": null,
   "id": "293ef4a2",
   "metadata": {},
   "outputs": [],
   "source": [
    "# load of the data\n",
    "DATASET_DIR = \"dataset\" + os.path.sep\n",
    "#index_col=False say to not use the first column as ID\n",
    "df_players = pd.read_csv('players.csv', sep=',', index_col=0) "
   ]
  },
  {
   "cell_type": "code",
   "execution_count": null,
   "id": "9d4f9fe4",
   "metadata": {},
   "outputs": [],
   "source": [
    "df_players['ioc'] = df_players.ioc.astype(\"category\").cat.codes"
   ]
  },
  {
   "cell_type": "code",
   "execution_count": null,
   "id": "a33fee30",
   "metadata": {},
   "outputs": [],
   "source": [
    "df_players.info()"
   ]
  },
  {
   "cell_type": "code",
   "execution_count": null,
   "id": "74e82728",
   "metadata": {},
   "outputs": [],
   "source": [
    "df_prova = df_players[['best_rank', 'best_rank_points', 'best_of_3_match', 'best_of_5_match',\n",
    "                      'best_of_3_wins(%)', 'best_of_5_wins(%)', 'num_wo_ret', 'num_def', 'tot_minutes',\n",
    "                      'height','sv1st_win%', 'df%', 'ace_perc', 'bpS_perc']]"
   ]
  },
  {
   "cell_type": "code",
   "execution_count": null,
   "id": "86b73cd7",
   "metadata": {},
   "outputs": [],
   "source": [
    "df_prova = df_players[['best_rank', 'tot_minutes']]\n",
    "df_prova = df_prova[~df_prova['tot_minutes'].isna()]"
   ]
  },
  {
   "cell_type": "code",
   "execution_count": null,
   "id": "f64bcb6f",
   "metadata": {},
   "outputs": [],
   "source": [
    "scaler = StandardScaler()\n",
    "scaler.fit(df_prova.values)\n",
    "\n",
    "kmeans = KMeans(n_clusters=4, n_init=4, max_iter=10)\n",
    "kmeans.fit(scaler.transform(df_prova.values))\n",
    "\n",
    "np.unique(kmeans.labels_, return_counts=True)\n",
    "\n",
    "plt.scatter(df_prova[\"best_rank\"], df_prova[\"tot_minutes\"], c=kmeans.labels_)\n",
    "plt.show()"
   ]
  },
  {
   "cell_type": "code",
   "execution_count": null,
   "id": "ad1e8d20",
   "metadata": {},
   "outputs": [],
   "source": [
    "df_prova = df_players[['best_rank', 'best_rank_points']]\n",
    "df_prova = df_prova[(df_prova['best_rank']>0) & (df_prova['best_rank_points']>=0)]\n",
    "\n",
    "scaler = StandardScaler()\n",
    "scaler.fit(df_prova.values)\n",
    "\n",
    "kmeans = KMeans(n_clusters=4, n_init=4, max_iter=10)\n",
    "kmeans.fit(scaler.transform(df_prova.values))\n",
    "\n",
    "np.unique(kmeans.labels_, return_counts=True)\n",
    "\n",
    "plt.scatter(df_prova[\"best_rank\"], df_prova[\"best_rank_points\"], c=kmeans.labels_)\n",
    "plt.show()"
   ]
  },
  {
   "cell_type": "code",
   "execution_count": null,
   "id": "a25fbdbd",
   "metadata": {},
   "outputs": [],
   "source": [
    "f, axs = plt.subplots(nrows=6, ncols=6, figsize=(36,36))\n",
    "plt.suptitle((\"Visualization of the clustered data with respect to different feature spaces\"), fontsize=28, fontweight='bold')\n",
    "plot_id = 0\n",
    "for i in range(len(cs_num.columns)):\n",
    "    for j in range(i+1, len(cs_num.columns)):\n",
    "        a, b = cs.columns[i], cs.columns[j]\n",
    "        axs[int(plot_id/6)][plot_id%6].scatter(cs[a], cs[b], c=negative_sil_colors, s=20)\n",
    "        for h in range(len(centers)):\n",
    "            axs[int(plot_id/6)][plot_id%6].scatter(centers[h][cs.columns.get_loc(a)], centers[h][cs.columns.get_loc(b)], marker='o', c=\"white\", alpha=1, s=200, edgecolor='k')\n",
    "            axs[int(plot_id/6)][plot_id%6].scatter(centers[h][cs.columns.get_loc(a)], centers[h][cs.columns.get_loc(b)], marker='$%d$' % h, alpha=1, s=50, edgecolor='k')    \n",
    "        axs[int(plot_id/6)][plot_id%6].set_title('Scatter( ' + a + ' , ' + b + ' ): K = ' + str(k), fontdict={'fontsize': 'x-large', 'fontweight' : 'bold'})\n",
    "        axs[int(plot_id/6)][plot_id%6].set_xlabel(a, fontdict={'fontsize': 'x-large', 'fontweight' : 'bold'})\n",
    "        axs[int(plot_id/6)][plot_id%6].set_ylabel(b, fontdict={'fontsize': 'x-large', 'fontweight' : 'bold'})\n",
    "        plot_id = plot_id +1\n",
    "plt.show()"
   ]
  }
 ],
 "metadata": {
  "kernelspec": {
   "display_name": "Python 3 (ipykernel)",
   "language": "python",
   "name": "python3"
  },
  "language_info": {
   "codemirror_mode": {
    "name": "ipython",
    "version": 3
   },
   "file_extension": ".py",
   "mimetype": "text/x-python",
   "name": "python",
   "nbconvert_exporter": "python",
   "pygments_lexer": "ipython3",
   "version": "3.9.5"
  }
 },
 "nbformat": 4,
 "nbformat_minor": 5
}
