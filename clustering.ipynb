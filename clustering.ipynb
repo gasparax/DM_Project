{
 "cells": [
  {
   "cell_type": "code",
   "execution_count": null,
   "id": "6caf36d0",
   "metadata": {},
   "outputs": [],
   "source": [
    "import math\n",
    "import numpy as np\n",
    "import scipy.stats as stats\n",
    "import matplotlib.pyplot as plt\n",
    "from sklearn.decomposition import PCA\n",
    "from sklearn.preprocessing import StandardScaler, MinMaxScaler\n",
    "\n",
    "import collections\n",
    "from scipy.stats.stats import pearsonr\n",
    "import pandas as pd\n",
    "import os\n",
    "from datetime import date\n",
    "\n",
    "from sklearn.cluster import KMeans, DBSCAN\n",
    "from scipy.spatial.distance import pdist,  squareform\n",
    "from tqdm.notebook import tqdm\n",
    "from sklearn.metrics import silhouette_score, pairwise_distances # For Model evaluation\n",
    "from sklearn.neighbors import NearestNeighbors\n",
    "\n",
    "from pyclustering.cluster import cluster_visualizer_multidim\n",
    "from pyclustering.cluster.xmeans import xmeans\n",
    "from pyclustering.cluster.center_initializer import kmeans_plusplus_initializer\n",
    "\n",
    "import seaborn as sns\n",
    "import re"
   ]
  },
  {
   "cell_type": "code",
   "execution_count": null,
   "id": "293ef4a2",
   "metadata": {},
   "outputs": [],
   "source": [
    "# load of the data\n",
    "DATASET_DIR = \"dataset\" + os.path.sep\n",
    "#index_col=False say to not use the first column as ID\n",
    "df_players = pd.read_csv('players.csv', sep=',', index_col=0) "
   ]
  },
  {
   "cell_type": "code",
   "execution_count": null,
   "id": "9d4f9fe4",
   "metadata": {},
   "outputs": [],
   "source": [
    "#df_players['ioc'] = df_players.ioc.astype(\"category\").cat.codes"
   ]
  },
  {
   "cell_type": "code",
   "execution_count": null,
   "id": "a33fee30",
   "metadata": {},
   "outputs": [],
   "source": [
    "df_players.info()"
   ]
  },
  {
   "cell_type": "code",
   "execution_count": null,
   "id": "2da5c9f4",
   "metadata": {},
   "outputs": [],
   "source": []
  },
  {
   "cell_type": "code",
   "execution_count": null,
   "id": "74e82728",
   "metadata": {},
   "outputs": [],
   "source": [
    "df_prova_org = df_players[['best_rank', 'best_rank_points', 'best_of_3_match', 'best_of_5_match',\n",
    "                      'best_of_3_wins(%)', 'best_of_5_wins(%)', 'num_win_bye', 'num_win_wo_ret', 'num_win_def',\n",
    "                       'num_wo_ret', 'num_def', 'tot_minutes',\n",
    "                      'height','sv1st_win%', 'df%', 'ace_perc', 'bpS_perc', 'nmatch', 'lmatch', 'wmatch']]\n",
    "df_prova = df_prova_org.loc[df_prova_org['nmatch'] > 100]\n",
    "\n",
    "df_prova"
   ]
  },
  {
   "cell_type": "code",
   "execution_count": null,
   "id": "6d964765",
   "metadata": {},
   "outputs": [],
   "source": [
    "sns.histplot(data=df_players['nmatch'], bins=\"auto\", binrange=(10,400), color=\"lightgreen\", kde=True)"
   ]
  },
  {
   "cell_type": "code",
   "execution_count": null,
   "id": "74e52147",
   "metadata": {},
   "outputs": [],
   "source": [
    "sns.histplot(data=df_players['wmatch'], bins=\"auto\", binrange=(10,200), color=\"lightgreen\", kde=True)"
   ]
  },
  {
   "cell_type": "code",
   "execution_count": null,
   "id": "c22d5364",
   "metadata": {},
   "outputs": [],
   "source": [
    "sns.histplot(data=df_players['lmatch'], bins=\"auto\", binrange=(10,200), color=\"lightgreen\", kde=True)"
   ]
  },
  {
   "cell_type": "code",
   "execution_count": null,
   "id": "0fea0a17",
   "metadata": {},
   "outputs": [],
   "source": [
    "df_performances_org = df_players[(df_players['best_rank']>0) & (df_players['best_rank_points']>=0) & \n",
    "                            (df_players['tot_minutes']>0) & (df_players['ace_perc']>=0) & \n",
    "                             (df_players['bpS_perc']>=0)][['best_rank', 'best_rank_points',\n",
    "                            'tot_minutes','sv1st_win', 'sv2nd_win', 'df', 'ace_perc', 'bpS_perc', 'nmatch', \n",
    "                            'best_of_3_match', 'best_of_3_wins', 'best_of_5_match', 'best_of_5_wins', 'n_tourney']]\n",
    "df_performances = df_performances_org.loc[df_performances_org['nmatch'] > 100]\n",
    "\n",
    "df_performances"
   ]
  },
  {
   "cell_type": "code",
   "execution_count": null,
   "id": "c97bd4e8",
   "metadata": {},
   "outputs": [],
   "source": [
    "plt.figure(figsize = (15,6))\n",
    "sns.heatmap( df_performances.corr(), annot=True)"
   ]
  },
  {
   "cell_type": "code",
   "execution_count": null,
   "id": "69988cc3",
   "metadata": {},
   "outputs": [],
   "source": [
    "sns.pairplot(df_performances, palette = \"Accent\")"
   ]
  },
  {
   "cell_type": "code",
   "execution_count": null,
   "id": "a2a1deb9",
   "metadata": {},
   "outputs": [],
   "source": []
  },
  {
   "cell_type": "markdown",
   "id": "540b87a2",
   "metadata": {},
   "source": [
    "## KMeans"
   ]
  },
  {
   "cell_type": "code",
   "execution_count": null,
   "id": "86b73cd7",
   "metadata": {},
   "outputs": [],
   "source": [
    "#df_prova = df_players[['best_rank', 'tot_minutes']]\n",
    "#df_prova = df_prova[~df_prova['tot_minutes'].isna()]"
   ]
  },
  {
   "cell_type": "code",
   "execution_count": null,
   "id": "f64bcb6f",
   "metadata": {},
   "outputs": [],
   "source": [
    "scaler = StandardScaler()\n",
    "scaler.fit(df_prova.values)\n",
    "\n",
    "kmeans = KMeans(n_clusters=4, n_init=4, max_iter=10)\n",
    "kmeans.fit(scaler.transform(df_prova.values))\n",
    "\n",
    "np.unique(kmeans.labels_, return_counts=True)\n",
    "\n",
    "plt.scatter(df_prova[\"best_rank\"], df_prova[\"tot_minutes\"], c=kmeans.labels_)\n",
    "plt.show()"
   ]
  },
  {
   "cell_type": "code",
   "execution_count": null,
   "id": "ad1e8d20",
   "metadata": {},
   "outputs": [],
   "source": [
    "df_prova = df_players[['best_rank', 'best_rank_points']]\n",
    "df_prova = df_prova[(df_prova['best_rank']>0) & (df_prova['best_rank_points']>=0)]\n",
    "\n",
    "scaler = StandardScaler()\n",
    "scaler.fit(df_prova.values)\n",
    "\n",
    "kmeans = KMeans(n_clusters=4, n_init=4, max_iter=10)\n",
    "kmeans.fit(scaler.transform(df_prova.values))\n",
    "\n",
    "np.unique(kmeans.labels_, return_counts=True)\n",
    "\n",
    "plt.scatter(df_prova[\"best_rank\"], df_prova[\"best_rank_points\"], c=kmeans.labels_)\n",
    "plt.show()"
   ]
  },
  {
   "cell_type": "code",
   "execution_count": null,
   "id": "a25fbdbd",
   "metadata": {},
   "outputs": [],
   "source": [
    "'''\n",
    "f, axs = plt.subplots(nrows=6, ncols=6, figsize=(36,36))\n",
    "plt.suptitle((\"Visualization of the clustered data with respect to different feature spaces\"), fontsize=28, fontweight='bold')\n",
    "plot_id = 0\n",
    "for i in range(len(cs_num.columns)):\n",
    "    for j in range(i+1, len(cs_num.columns)):\n",
    "        a, b = cs.columns[i], cs.columns[j]\n",
    "        axs[int(plot_id/6)][plot_id%6].scatter(cs[a], cs[b], c=negative_sil_colors, s=20)\n",
    "        for h in range(len(centers)):\n",
    "            axs[int(plot_id/6)][plot_id%6].scatter(centers[h][cs.columns.get_loc(a)], centers[h][cs.columns.get_loc(b)], marker='o', c=\"white\", alpha=1, s=200, edgecolor='k')\n",
    "            axs[int(plot_id/6)][plot_id%6].scatter(centers[h][cs.columns.get_loc(a)], centers[h][cs.columns.get_loc(b)], marker='$%d$' % h, alpha=1, s=50, edgecolor='k')    \n",
    "        axs[int(plot_id/6)][plot_id%6].set_title('Scatter( ' + a + ' , ' + b + ' ): K = ' + str(k), fontdict={'fontsize': 'x-large', 'fontweight' : 'bold'})\n",
    "        axs[int(plot_id/6)][plot_id%6].set_xlabel(a, fontdict={'fontsize': 'x-large', 'fontweight' : 'bold'})\n",
    "        axs[int(plot_id/6)][plot_id%6].set_ylabel(b, fontdict={'fontsize': 'x-large', 'fontweight' : 'bold'})\n",
    "        plot_id = plot_id +1\n",
    "plt.show()\n",
    "'''"
   ]
  },
  {
   "cell_type": "markdown",
   "id": "9c12104e",
   "metadata": {},
   "source": [
    "## DBscan"
   ]
  },
  {
   "cell_type": "code",
   "execution_count": null,
   "id": "48275f08",
   "metadata": {},
   "outputs": [],
   "source": [
    "scaler = StandardScaler()\n",
    "scaled_array = scaler.fit_transform(df_performances)\n",
    "scaled_dataframe = pd.DataFrame( scaled_array, columns = df_performances.columns )"
   ]
  },
  {
   "cell_type": "code",
   "execution_count": null,
   "id": "dd03434a",
   "metadata": {},
   "outputs": [],
   "source": [
    "sns.boxplot(data = scaled_dataframe, orient = \"h\")"
   ]
  },
  {
   "cell_type": "code",
   "execution_count": null,
   "id": "19540d13",
   "metadata": {},
   "outputs": [],
   "source": [
    "scaled_dataframe.describe()"
   ]
  },
  {
   "cell_type": "code",
   "execution_count": null,
   "id": "ffe19c87",
   "metadata": {},
   "outputs": [],
   "source": [
    "dbscan = DBSCAN(eps=0.75, min_samples=5)\n",
    "dbscan.fit(scaled_dataframe)"
   ]
  },
  {
   "cell_type": "code",
   "execution_count": null,
   "id": "aede2292",
   "metadata": {},
   "outputs": [],
   "source": [
    "labels = dbscan.labels_\n",
    "np.unique(dbscan.labels_, return_counts=True)"
   ]
  },
  {
   "cell_type": "code",
   "execution_count": null,
   "id": "e6568527",
   "metadata": {},
   "outputs": [],
   "source": [
    "cleaned_dataframe = df_performances.copy()\n",
    "cleaned_dataframe[\"LABEL\"] = labels\n",
    "sns.pairplot(data = cleaned_dataframe, hue = \"LABEL\", palette = \"Accent\")"
   ]
  },
  {
   "cell_type": "code",
   "execution_count": null,
   "id": "5bf31874",
   "metadata": {},
   "outputs": [],
   "source": [
    "dist = pdist(X=scaled_dataframe, metric='euclidean')  # pair-wise distance: how every record is far from all others\n",
    "dist = squareform(dist)                      # distance matrix given the vector dist"
   ]
  },
  {
   "cell_type": "code",
   "execution_count": null,
   "id": "eafad21f",
   "metadata": {},
   "outputs": [],
   "source": [
    "kmin, kmax = 3, 50\n",
    "kth_distances = {}\n",
    "for k in range(kmin, kmax + 1): # initialize k lists\n",
    "    kth_distances[k] = []"
   ]
  },
  {
   "cell_type": "code",
   "execution_count": null,
   "id": "83045abc",
   "metadata": {},
   "outputs": [],
   "source": [
    "for d in dist:\n",
    "    # argsort returns the indexes that would sort d\n",
    "    index_kth_distance = np.argsort(d)[k]\n",
    "    for k in range(kmin, kmax + 1):\n",
    "        # append to kth_distances[k] the value in d that corresponds\n",
    "        # to the distance of the i-th point (record) from its k-th nn.\n",
    "        # it's like: kth_distances[k].append(sorted_d[k])), but we get \"sorted_d[k]\" by d[indexes_to_sort_d[k]]\n",
    "        kth_distances[k].append(d[index_kth_distance])"
   ]
  },
  {
   "cell_type": "code",
   "execution_count": null,
   "id": "c5952f8b",
   "metadata": {},
   "outputs": [],
   "source": [
    "plt.figure(figsize=(50, 20))\n",
    "for k in kth_distances.keys():\n",
    "    plt.plot(range(0, len(kth_distances[k])), sorted(kth_distances[k]))\n",
    "    \n",
    "plt.ylabel('dist from k-th neighbor (eps)', fontsize=25)\n",
    "plt.xlabel('sorted distances', fontsize=25)\n",
    "#plt.ylim(top=5)\n",
    "plt.ylim(bottom=-0.25)\n",
    "plt.tick_params(axis='both', which='major', labelsize=25)\n",
    "plt.grid()\n",
    "plt.show()"
   ]
  },
  {
   "cell_type": "markdown",
   "id": "5be54684",
   "metadata": {},
   "source": [
    "#### Grid search for eps and min_samples"
   ]
  },
  {
   "cell_type": "code",
   "execution_count": null,
   "id": "6bbcfb09",
   "metadata": {},
   "outputs": [],
   "source": [
    "def get_metrics(eps, min_samples, dataset, iter_):\n",
    "    # Fitting \n",
    "    dbscan_model_ = DBSCAN(eps = eps, min_samples = min_samples)\n",
    "    dbscan_model_.fit(dataset)\n",
    "    \n",
    "    # Mean Noise Point Distance metric\n",
    "    noise_indices = dbscan_model_.labels_ == -1\n",
    "    \n",
    "    if True in noise_indices:\n",
    "        neighboors = NearestNeighbors(n_neighbors = 6).fit(dataset)\n",
    "        distances, indices = neighboors.kneighbors(dataset)\n",
    "        noise_distances = distances[noise_indices, 1:]\n",
    "        noise_mean_distance = round(noise_distances.mean(), 3)\n",
    "    else:\n",
    "        noise_mean_distance = None\n",
    "    \n",
    "    # Number of found Clusters metric    \n",
    "    number_of_clusters = len(set(dbscan_model_.labels_[dbscan_model_.labels_ >= 0]))\n",
    "    \n",
    "    #print(\"%3d | Tested with eps = %3s and min_samples = %3s | %5s %4s\" % (i, eps, min_samples, str(noise_mean_distance), number_of_clusters))\n",
    "    \n",
    "    return(noise_mean_distance, number_of_clusters)"
   ]
  },
  {
   "cell_type": "code",
   "execution_count": null,
   "id": "321050ca",
   "metadata": {},
   "outputs": [],
   "source": [
    "eps_to_test = [round(x, 3) for x in np.arange(0.4, 5, 0.3)] \n",
    "min_samples_to_test = np.arange(4, 30, 2)\n",
    "eps_to_test"
   ]
  },
  {
   "cell_type": "code",
   "execution_count": null,
   "id": "1bcd0f92",
   "metadata": {},
   "outputs": [],
   "source": [
    "# Dataframe per la metrica sulla distanza media dei noise points dai K punti più vicini\n",
    "results_noise = pd.DataFrame( \n",
    "    data = np.zeros((len(eps_to_test),len(min_samples_to_test))), # Empty dataframe\n",
    "    columns = min_samples_to_test, \n",
    "    index = eps_to_test\n",
    ")\n",
    "\n",
    "# Dataframe per la metrica sul numero di cluster\n",
    "results_clusters = pd.DataFrame( \n",
    "    data = np.zeros((len(eps_to_test),len(min_samples_to_test))), # Empty dataframe\n",
    "    columns = min_samples_to_test, \n",
    "    index = eps_to_test\n",
    ")"
   ]
  },
  {
   "cell_type": "code",
   "execution_count": null,
   "id": "2415a6d7",
   "metadata": {},
   "outputs": [],
   "source": [
    "#grid search"
   ]
  },
  {
   "cell_type": "code",
   "execution_count": null,
   "id": "0b5d9335",
   "metadata": {},
   "outputs": [],
   "source": [
    "i = 0\n",
    "\n",
    "for eps in eps_to_test:\n",
    "    for min_samples in min_samples_to_test:\n",
    "        i += 1\n",
    "        # Calcolo le metriche\n",
    "        noise_metric, cluster_metric  = get_metrics(eps, min_samples, scaled_dataframe, i)\n",
    "        # Inserisco i risultati nei relativi dataframe\n",
    "        results_noise.loc[eps, min_samples] = noise_metric\n",
    "        results_clusters.loc[eps, min_samples] = cluster_metric"
   ]
  },
  {
   "cell_type": "code",
   "execution_count": null,
   "id": "ee7a8abb",
   "metadata": {},
   "outputs": [],
   "source": [
    "fig, (ax1, ax2) = plt.subplots(1, 2, figsize=(16,8) )\n",
    "\n",
    "sns.heatmap(results_noise, annot = True, ax = ax1, cbar = False).set_title(\"Mean Noise Points Distance\")\n",
    "sns.heatmap(results_clusters, annot = True, ax = ax2, cbar = False).set_title(\"Number of clusters\")\n",
    "\n",
    "ax1.set_xlabel(\"min_samples\")\n",
    "ax2.set_xlabel(\"min_samples\")\n",
    "ax1.set_ylabel(\"eps\")\n",
    "ax2.set_ylabel(\"eps\")\n",
    "\n",
    "plt.tight_layout()\n",
    "plt.show()"
   ]
  },
  {
   "cell_type": "markdown",
   "id": "7f70b01f",
   "metadata": {},
   "source": [
    "#### choose of parameters "
   ]
  },
  {
   "cell_type": "code",
   "execution_count": null,
   "id": "e565e143",
   "metadata": {},
   "outputs": [],
   "source": [
    "best_dbscan = DBSCAN(eps = 1, min_samples = 14)\n",
    "# Fitting\n",
    "best_dbscan.fit(scaled_dataframe)\n",
    "\n",
    "labels = best_dbscan.labels_\n",
    "np.unique(best_dbscan.labels_, return_counts=True)"
   ]
  },
  {
   "cell_type": "code",
   "execution_count": null,
   "id": "2d01e443",
   "metadata": {},
   "outputs": [],
   "source": [
    "#scaled_dataframe[\"LABEL\"] = best_dbscan.labels_\n",
    "#sns.pairplot(data = scaled_dataframe, hue = \"LABEL\")\n",
    "\n",
    "# Extracting labels\n",
    "cleaned_dataframe = df_performances.copy()\n",
    "cleaned_dataframe[\"LABEL\"] = best_dbscan.labels_\n",
    "# Pairplot\n",
    "sns.pairplot(data = cleaned_dataframe, hue = \"LABEL\", palette = \"Accent\")"
   ]
  },
  {
   "cell_type": "markdown",
   "id": "ccc1cd77",
   "metadata": {},
   "source": [
    "#### MinMaxScaler"
   ]
  },
  {
   "cell_type": "code",
   "execution_count": null,
   "id": "4c121e46",
   "metadata": {},
   "outputs": [],
   "source": [
    "scaler = MinMaxScaler()\n",
    "scaled_array = scaler.fit_transform(df_performances)\n",
    "scaled_dataframe = pd.DataFrame( scaled_array, columns = df_performances.columns )"
   ]
  },
  {
   "cell_type": "code",
   "execution_count": null,
   "id": "18bdb39f",
   "metadata": {},
   "outputs": [],
   "source": [
    "dbscan = DBSCAN(eps=0.75, min_samples=5)\n",
    "dbscan.fit(scaled_dataframe)\n",
    "labels = dbscan.labels_\n",
    "np.unique(dbscan.labels_, return_counts=True)"
   ]
  },
  {
   "cell_type": "code",
   "execution_count": null,
   "id": "31d44135",
   "metadata": {},
   "outputs": [],
   "source": [
    "cleaned_dataframe = df_performances.copy()\n",
    "cleaned_dataframe[\"LABEL\"] = labels\n",
    "sns.pairplot(data = cleaned_dataframe, hue = \"LABEL\", palette = \"Accent\")"
   ]
  },
  {
   "cell_type": "code",
   "execution_count": null,
   "id": "3f8178d6",
   "metadata": {},
   "outputs": [],
   "source": [
    "dist = pdist(X=scaled_dataframe, metric='euclidean')  # pair-wise distance: how every record is far from all others\n",
    "dist = squareform(dist)                      # distance matrix given the vector dist"
   ]
  },
  {
   "cell_type": "code",
   "execution_count": null,
   "id": "c0e2f7da",
   "metadata": {},
   "outputs": [],
   "source": [
    "kmin, kmax = 3, 50\n",
    "kth_distances = {}\n",
    "for k in range(kmin, kmax + 1): # initialize k lists\n",
    "    kth_distances[k] = []"
   ]
  },
  {
   "cell_type": "code",
   "execution_count": null,
   "id": "350fb456",
   "metadata": {},
   "outputs": [],
   "source": [
    "for d in dist:\n",
    "    # argsort returns the indexes that would sort d\n",
    "    index_kth_distance = np.argsort(d)[k]\n",
    "    for k in range(kmin, kmax + 1):\n",
    "        # append to kth_distances[k] the value in d that corresponds\n",
    "        # to the distance of the i-th point (record) from its k-th nn.\n",
    "        # it's like: kth_distances[k].append(sorted_d[k])), but we get \"sorted_d[k]\" by d[indexes_to_sort_d[k]]\n",
    "        kth_distances[k].append(d[index_kth_distance])"
   ]
  },
  {
   "cell_type": "code",
   "execution_count": null,
   "id": "c57775ec",
   "metadata": {},
   "outputs": [],
   "source": [
    "plt.figure(figsize=(50, 20))\n",
    "for k in kth_distances.keys():\n",
    "    plt.plot(range(0, len(kth_distances[k])), sorted(kth_distances[k]))\n",
    "    \n",
    "plt.ylabel('dist from k-th neighbor (eps)', fontsize=25)\n",
    "plt.xlabel('sorted distances', fontsize=25)\n",
    "#plt.ylim(top=5)\n",
    "plt.ylim(bottom=-0.25)\n",
    "plt.tick_params(axis='both', which='major', labelsize=25)\n",
    "plt.grid()\n",
    "plt.show()"
   ]
  },
  {
   "cell_type": "code",
   "execution_count": null,
   "id": "70c9880f",
   "metadata": {},
   "outputs": [],
   "source": [
    "eps_to_test = [round(x, 3) for x in np.arange(0.2, 0.6, 0.1)]\n",
    "min_samples_to_test = np.arange(2, 30, 2)\n",
    "eps_to_test"
   ]
  },
  {
   "cell_type": "code",
   "execution_count": null,
   "id": "8e87c97e",
   "metadata": {},
   "outputs": [],
   "source": [
    "# Dataframe per la metrica sulla distanza media dei noise points dai K punti più vicini\n",
    "results_noise = pd.DataFrame( \n",
    "    data = np.zeros((len(eps_to_test),len(min_samples_to_test))), # Empty dataframe\n",
    "    columns = min_samples_to_test, \n",
    "    index = eps_to_test\n",
    ")\n",
    "\n",
    "# Dataframe per la metrica sul numero di cluster\n",
    "results_clusters = pd.DataFrame( \n",
    "    data = np.zeros((len(eps_to_test),len(min_samples_to_test))), # Empty dataframe\n",
    "    columns = min_samples_to_test, \n",
    "    index = eps_to_test\n",
    ")"
   ]
  },
  {
   "cell_type": "code",
   "execution_count": null,
   "id": "f0b86eee",
   "metadata": {},
   "outputs": [],
   "source": [
    "i = 0\n",
    "\n",
    "for eps in eps_to_test:\n",
    "    for min_samples in min_samples_to_test:\n",
    "        i += 1\n",
    "        # Calcolo le metriche\n",
    "        noise_metric, cluster_metric  = get_metrics(eps, min_samples, scaled_dataframe, i)\n",
    "        # Inserisco i risultati nei relativi dataframe\n",
    "        results_noise.loc[eps, min_samples] = noise_metric\n",
    "        results_clusters.loc[eps, min_samples] = cluster_metric"
   ]
  },
  {
   "cell_type": "code",
   "execution_count": null,
   "id": "aa47e8db",
   "metadata": {},
   "outputs": [],
   "source": [
    "fig, (ax1, ax2) = plt.subplots(1, 2, figsize=(16,4) )\n",
    "\n",
    "sns.heatmap(results_noise, annot = True, ax = ax1, cbar = False).set_title(\"Mean Noise Points Distance\")\n",
    "sns.heatmap(results_clusters, annot = True, ax = ax2, cbar = False).set_title(\"Number of clusters\")\n",
    "\n",
    "ax1.set_xlabel(\"min_samples\")\n",
    "ax2.set_xlabel(\"min_samples\")\n",
    "ax1.set_ylabel(\"eps\")\n",
    "ax2.set_ylabel(\"eps\")\n",
    "\n",
    "plt.tight_layout()\n",
    "plt.show()"
   ]
  },
  {
   "cell_type": "code",
   "execution_count": null,
   "id": "e1fd20ee",
   "metadata": {},
   "outputs": [],
   "source": [
    "best_dbscan = DBSCAN(eps = 0.2, min_samples = 28)\n",
    "# Fitting\n",
    "best_dbscan.fit(scaled_dataframe)\n",
    "\n",
    "labels = best_dbscan.labels_\n",
    "np.unique(best_dbscan.labels_, return_counts=True)"
   ]
  },
  {
   "cell_type": "code",
   "execution_count": null,
   "id": "d02063ad",
   "metadata": {},
   "outputs": [],
   "source": [
    "# Extracting labels\n",
    "cleaned_dataframe = df_performances.copy()\n",
    "cleaned_dataframe[\"LABEL\"] = best_dbscan.labels_\n",
    "# Pairplot\n",
    "sns.pairplot(data = cleaned_dataframe, hue = \"LABEL\", palette = \"Accent\")"
   ]
  },
  {
   "cell_type": "markdown",
   "id": "1f183c5c",
   "metadata": {},
   "source": [
    "# Hierachical"
   ]
  },
  {
   "cell_type": "markdown",
   "id": "bc1a7ed9",
   "metadata": {},
   "source": [
    "In this section we will see hierarchical clustering performed the divisive technique, in particular, using the four methods to compute the distances between clusters. To compute the distances has been used euclidean distance."
   ]
  },
  {
   "cell_type": "code",
   "execution_count": null,
   "id": "df71889c",
   "metadata": {},
   "outputs": [],
   "source": [
    "from scipy.cluster.hierarchy import dendrogram, linkage, fcluster\n",
    "from sklearn.cluster import AgglomerativeClustering"
   ]
  },
  {
   "cell_type": "code",
   "execution_count": null,
   "id": "49117fd6",
   "metadata": {},
   "outputs": [],
   "source": [
    "def count_cluster_elements(data, threshold, criterion='distance'):\n",
    "    count = {}\n",
    "    clusters = fcluster(data, threshold, criterion)\n",
    "    for c in clusters:\n",
    "        count[c] = count[c]+1 if c in count else 1\n",
    "    return count, clusters"
   ]
  },
  {
   "cell_type": "code",
   "execution_count": null,
   "id": "d1e8abe2",
   "metadata": {},
   "outputs": [],
   "source": [
    "silhouette_scores = {}"
   ]
  },
  {
   "cell_type": "markdown",
   "id": "16d1870b",
   "metadata": {},
   "source": [
    "### Euclidean - single (MIN)"
   ]
  },
  {
   "cell_type": "code",
   "execution_count": null,
   "id": "334fb6ff",
   "metadata": {
    "scrolled": false
   },
   "outputs": [],
   "source": [
    "plt.figure(figsize=(10, 5))\n",
    "plt.tick_params(labelbottom=False)\n",
    "plt.title(\"Euclidean - single\")\n",
    "threshold_value = 2850\n",
    "plt.axhline(y=threshold_value, color=\"black\")\n",
    "link = linkage(df_performances, method='single', metric = 'euclidean')\n",
    "dend = dendrogram(link, truncate_mode='lastp', p=30, leaf_rotation=60, leaf_font_size = 8, show_contracted=True)"
   ]
  },
  {
   "cell_type": "code",
   "execution_count": null,
   "id": "170cfa22",
   "metadata": {},
   "outputs": [],
   "source": [
    "count, clusters = count_cluster_elements(link, threshold_value)\n",
    "score = silhouette_score(df_performances, clusters)\n",
    "silhouette_scores['single'] = score\n",
    "print(\"Clusters:\", len(count.keys()), end=\" - \")\n",
    "print(list(reversed(sorted(count.values()))))\n",
    "print(f\"Silhouette score: {score}\")"
   ]
  },
  {
   "cell_type": "markdown",
   "id": "c8e12119",
   "metadata": {},
   "source": [
    "### Euclidean - complete (MAX)"
   ]
  },
  {
   "cell_type": "code",
   "execution_count": null,
   "id": "2b8e348e",
   "metadata": {
    "scrolled": false
   },
   "outputs": [],
   "source": [
    "plt.figure(figsize=(10, 5))\n",
    "plt.tick_params(labelbottom=False)\n",
    "plt.title(\"Euclidean - complete\")\n",
    "threshold_value = 20000\n",
    "plt.axhline(y=threshold_value, color=\"black\")\n",
    "link = linkage(df_performances, method='complete', metric = 'euclidean')\n",
    "dend = dendrogram(link, truncate_mode='lastp', p=30, leaf_rotation=60, leaf_font_size = 8, show_contracted=True)"
   ]
  },
  {
   "cell_type": "code",
   "execution_count": null,
   "id": "48f86239",
   "metadata": {},
   "outputs": [],
   "source": [
    "count, clusters = count_cluster_elements(link, threshold_value)\n",
    "score = silhouette_score(df_performances, clusters)\n",
    "silhouette_scores['complete'] = score\n",
    "print(\"Clusters:\", len(count.keys()), end=\" - \")\n",
    "print(list(reversed(sorted(count.values()))))\n",
    "print(f\"Silhouette score: {score}\")"
   ]
  },
  {
   "cell_type": "markdown",
   "id": "bbaf624c",
   "metadata": {},
   "source": [
    "### Euclidean - complete (AVG)"
   ]
  },
  {
   "cell_type": "code",
   "execution_count": null,
   "id": "507fceeb",
   "metadata": {
    "scrolled": true
   },
   "outputs": [],
   "source": [
    "plt.figure(figsize=(10, 5))\n",
    "plt.tick_params(labelbottom=False)\n",
    "plt.title(\"Euclidean - average\")\n",
    "threshold_value = 11000\n",
    "plt.axhline(y=threshold_value, color=\"black\")\n",
    "link = linkage(df_performances, method='average', metric = 'euclidean')\n",
    "dend = dendrogram(link, truncate_mode='lastp', p=30, leaf_rotation=60, leaf_font_size = 8, show_contracted=True)"
   ]
  },
  {
   "cell_type": "code",
   "execution_count": null,
   "id": "c10ea0b0",
   "metadata": {},
   "outputs": [],
   "source": [
    "count, clusters = count_cluster_elements(link, threshold_value)\n",
    "score = silhouette_score(df_performances, clusters)\n",
    "silhouette_scores['average'] = score\n",
    "print(\"Clusters:\", len(count.keys()), end=\" - \")\n",
    "print(list(reversed(sorted(count.values()))))\n",
    "print(f\"Silhouette score: {score}\")"
   ]
  },
  {
   "cell_type": "markdown",
   "id": "31d2cfc8",
   "metadata": {},
   "source": [
    "### Euclidean - Ward"
   ]
  },
  {
   "cell_type": "code",
   "execution_count": null,
   "id": "8887dd75",
   "metadata": {
    "scrolled": false
   },
   "outputs": [],
   "source": [
    "plt.figure(figsize=(10, 5))\n",
    "plt.tick_params(labelbottom=False)\n",
    "plt.title(b\"Euclidean - Ward\")\n",
    "threshold_value = 75000\n",
    "plt.axhline(y=threshold_value, color=\"black\")\n",
    "link = linkage(df_performances, method='ward', metric = 'euclidean')\n",
    "dend = dendrogram(link, truncate_mode='lastp', p=30, leaf_rotation=60, leaf_font_size = 8, show_contracted=True)"
   ]
  },
  {
   "cell_type": "code",
   "execution_count": null,
   "id": "f2c3ae5e",
   "metadata": {},
   "outputs": [],
   "source": [
    "count, clusters = count_cluster_elements(link, threshold_value)\n",
    "score = silhouette_score(df_performances, clusters)\n",
    "silhouette_scores['ward'] = score\n",
    "print(\"Clusters:\", len(count.keys()), end=\" - \")\n",
    "print(list(reversed(sorted(count.values()))))\n",
    "print(f\"Silhouette score: {score}\")"
   ]
  },
  {
   "cell_type": "code",
   "execution_count": null,
   "id": "36f38459",
   "metadata": {},
   "outputs": [],
   "source": [
    "print('Method\\t\\t Score\\n')\n",
    "for method in silhouette_scores.keys():\n",
    "    print(method + '\\t\\t' + str(silhouette_scores[method]))"
   ]
  },
  {
   "cell_type": "markdown",
   "id": "2e0843c4",
   "metadata": {},
   "source": [
    "# XMEANS"
   ]
  },
  {
   "cell_type": "code",
   "execution_count": null,
   "id": "05e7189d",
   "metadata": {},
   "outputs": [],
   "source": [
    "amount_initial_centers = 1   #number of clusters at the start. xmeans starts with only one cluster\n",
    "max_n_clusters = 10\n",
    "\n",
    "initial_centers = kmeans_plusplus_initializer(df_performances, amount_initial_centers).initialize()\n",
    "xmeans_instance = xmeans(df_performances, initial_centers, kmax=max_n_clusters)\n",
    "xmeans_instance.process(); #split with bayesian Information Criterion\n",
    "\n",
    "clusters = xmeans_instance.get_clusters();\n",
    "centers = xmeans_instance.get_centers()\n",
    "\n",
    "print([len(c) for c in clusters])   "
   ]
  },
  {
   "cell_type": "code",
   "execution_count": null,
   "id": "19296693",
   "metadata": {},
   "outputs": [],
   "source": [
    "# display allocated clusters\n",
    "visualizer = cluster_visualizer_multidim();\n",
    "visualizer.append_clusters(clusters, df_performances.values.tolist())\n",
    "visualizer.append_cluster(centers, None, marker = '*', markersize=4)\n",
    "#visualizer.show()\n",
    "visualizer.show(pair_filter=[[0, 1], [0, 2], [0, 3]])"
   ]
  },
  {
   "cell_type": "code",
   "execution_count": null,
   "id": "30495992",
   "metadata": {},
   "outputs": [],
   "source": [
    "#for i in range(0, len(df_performances.columns), 1):\n",
    "#    for j in range(0, len(df_performances.columns), 1):\n",
    "#        if j<i:\n",
    "#            visualizer.show(pair_filter=[[j, i]])"
   ]
  },
  {
   "cell_type": "code",
   "execution_count": null,
   "id": "6c3c3309",
   "metadata": {},
   "outputs": [],
   "source": [
    "#plot with sns library"
   ]
  },
  {
   "cell_type": "code",
   "execution_count": null,
   "id": "3cd76ab5",
   "metadata": {},
   "outputs": [],
   "source": [
    "labels = np.zeros(df_performances.shape[0],  dtype=int) #num of rows\n",
    "for i in range(len(clusters)):#number of cluster\n",
    "    for j in clusters[i]: #index of row of dataset in cluster i\n",
    "        labels[j] = int(i)"
   ]
  },
  {
   "cell_type": "code",
   "execution_count": null,
   "id": "fc8256e0",
   "metadata": {},
   "outputs": [],
   "source": [
    "palette_n = sns.color_palette(\"hls\", n_colors=len(clusters))\n",
    "palette_n"
   ]
  },
  {
   "cell_type": "code",
   "execution_count": null,
   "id": "933cc099",
   "metadata": {},
   "outputs": [],
   "source": [
    "# Extracting labels\n",
    "cleaned_dataframe = df_performances.copy()\n",
    "cleaned_dataframe[\"LABEL\"] = labels\n",
    "# Pairplot\n",
    "sns.pairplot(data = cleaned_dataframe, hue = \"LABEL\", palette = palette_n)"
   ]
  },
  {
   "cell_type": "code",
   "execution_count": null,
   "id": "bd6d1a92",
   "metadata": {},
   "outputs": [],
   "source": []
  },
  {
   "cell_type": "markdown",
   "id": "3ee02e53",
   "metadata": {},
   "source": [
    "# TO DO: ALTRO ALGORITMO OPZIONALE"
   ]
  },
  {
   "cell_type": "code",
   "execution_count": null,
   "id": "c12fedf9",
   "metadata": {},
   "outputs": [],
   "source": []
  }
 ],
 "metadata": {
  "kernelspec": {
   "display_name": "Python 3 (ipykernel)",
   "language": "python",
   "name": "python3"
  },
  "language_info": {
   "codemirror_mode": {
    "name": "ipython",
    "version": 3
   },
   "file_extension": ".py",
   "mimetype": "text/x-python",
   "name": "python",
   "nbconvert_exporter": "python",
   "pygments_lexer": "ipython3",
   "version": "3.9.5"
  }
 },
 "nbformat": 4,
 "nbformat_minor": 5
}
