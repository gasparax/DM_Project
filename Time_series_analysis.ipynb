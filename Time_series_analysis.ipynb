{
 "cells": [
  {
   "cell_type": "markdown",
   "id": "9a6e6ca0",
   "metadata": {},
   "source": [
    "# Time series analysis"
   ]
  },
  {
   "cell_type": "code",
   "execution_count": null,
   "id": "cf09e60b",
   "metadata": {},
   "outputs": [],
   "source": [
    "import pandas as pd\n",
    "import numpy as np\n",
    "import matplotlib.pyplot as plt\n",
    "from tslearn.clustering import TimeSeriesKMeans\n",
    "import os"
   ]
  },
  {
   "cell_type": "code",
   "execution_count": null,
   "id": "c1c03215",
   "metadata": {},
   "outputs": [],
   "source": [
    "# load of the data\n",
    "DATASET_DIR = \"dataset\" + os.path.sep\n",
    "#index_col=False say to not use the first column as ID\n",
    "df_temperatures = pd.read_csv(DATASET_DIR +'CityGlobalTemperature2000-2009.csv', sep=',', index_col=0) "
   ]
  },
  {
   "cell_type": "code",
   "execution_count": null,
   "id": "79a9bf2b",
   "metadata": {},
   "outputs": [],
   "source": [
    "df_temperatures.info()"
   ]
  },
  {
   "cell_type": "code",
   "execution_count": null,
   "id": "20254b4b",
   "metadata": {},
   "outputs": [],
   "source": [
    "df_temperatures"
   ]
  },
  {
   "cell_type": "code",
   "execution_count": null,
   "id": "6061e95f",
   "metadata": {},
   "outputs": [],
   "source": [
    "df_temperatures.sort_values(['time'], inplace = True)"
   ]
  },
  {
   "cell_type": "code",
   "execution_count": null,
   "id": "9cbfbefa",
   "metadata": {},
   "outputs": [],
   "source": [
    "ts1 = df_temperatures.groupby(['City'])['AverageTemperature'].apply(list)\n",
    "ts2 = df_temperatures.groupby(['City'])['AverageTemperatureUncertainty'].apply(list)"
   ]
  },
  {
   "cell_type": "code",
   "execution_count": null,
   "id": "0d9fcebf",
   "metadata": {},
   "outputs": [],
   "source": [
    "#check that all lengths are equal\n",
    "for i in range(len(ts1)):\n",
    "    if len(ts1[i])!=len(ts1[0]):\n",
    "        print(len(ts1[i]))"
   ]
  },
  {
   "cell_type": "code",
   "execution_count": null,
   "id": "afa55f09",
   "metadata": {},
   "outputs": [],
   "source": [
    "time_series1 = []\n",
    "time_series2 = []\n",
    "\n",
    "for i in range(len(ts1)):\n",
    "    time_series1.append(pd.Series(ts1[i]))\n",
    "    time_series2.append(pd.Series(ts2[i]))"
   ]
  },
  {
   "cell_type": "code",
   "execution_count": null,
   "id": "a0c5e1e1",
   "metadata": {},
   "outputs": [],
   "source": [
    "time_series_mean = np.array(time_series1)\n",
    "time_series_deviation = np.array(time_series2)"
   ]
  },
  {
   "cell_type": "code",
   "execution_count": null,
   "id": "bd23d075",
   "metadata": {
    "scrolled": true
   },
   "outputs": [],
   "source": [
    "time_series_deviation"
   ]
  },
  {
   "cell_type": "code",
   "execution_count": null,
   "id": "fd487019",
   "metadata": {},
   "outputs": [],
   "source": [
    "time_series_deviation.shape"
   ]
  },
  {
   "cell_type": "code",
   "execution_count": null,
   "id": "63c6f7f4",
   "metadata": {},
   "outputs": [],
   "source": [
    "plt.figure(figsize = (30,20))\n",
    "plt.plot(time_series_mean)\n",
    "plt.show()"
   ]
  },
  {
   "cell_type": "code",
   "execution_count": null,
   "id": "5f9cf14a",
   "metadata": {},
   "outputs": [],
   "source": []
  },
  {
   "cell_type": "code",
   "execution_count": null,
   "id": "435dd189",
   "metadata": {},
   "outputs": [],
   "source": [
    "#distanza euclidea: gestione delle distorsioni (offsewt translation, amplitude scaling,...)"
   ]
  },
  {
   "cell_type": "code",
   "execution_count": null,
   "id": "b018f54a",
   "metadata": {},
   "outputs": [],
   "source": [
    "#DTW (alternativa all'ED"
   ]
  },
  {
   "cell_type": "code",
   "execution_count": null,
   "id": "3f249839",
   "metadata": {},
   "outputs": [],
   "source": [
    "#clustering: kmeans e hierarchical"
   ]
  },
  {
   "cell_type": "code",
   "execution_count": null,
   "id": "0e1beedd",
   "metadata": {},
   "outputs": [],
   "source": []
  },
  {
   "cell_type": "code",
   "execution_count": null,
   "id": "45187d6b",
   "metadata": {},
   "outputs": [],
   "source": []
  },
  {
   "cell_type": "markdown",
   "id": "4d5cf37c",
   "metadata": {},
   "source": [
    "## Clustering"
   ]
  },
  {
   "cell_type": "code",
   "execution_count": null,
   "id": "23f02a28",
   "metadata": {},
   "outputs": [],
   "source": []
  }
 ],
 "metadata": {
  "kernelspec": {
   "display_name": "Python 3 (ipykernel)",
   "language": "python",
   "name": "python3"
  },
  "language_info": {
   "codemirror_mode": {
    "name": "ipython",
    "version": 3
   },
   "file_extension": ".py",
   "mimetype": "text/x-python",
   "name": "python",
   "nbconvert_exporter": "python",
   "pygments_lexer": "ipython3",
   "version": "3.9.5"
  }
 },
 "nbformat": 4,
 "nbformat_minor": 5
}
